{
 "cells": [
  {
   "cell_type": "code",
   "execution_count": 3,
   "metadata": {},
   "outputs": [],
   "source": [
    "import roboticstoolbox as rtb\n",
    "import numpy as np\n",
    "import spatialmath as sm\n",
    "import spatialgeometry as sg\n",
    "\n",
    "from math import *"
   ]
  },
  {
   "cell_type": "markdown",
   "metadata": {},
   "source": [
    "#### 1.2.1) \n",
    "Calculate the homogeneous transformation matrix representing a rotation of $\\theta=45^\\circ$ and a translation of 3 units in the $x$ direction. \n",
    "\n",
    "_Points:_ 2"
   ]
  },
  {
   "cell_type": "code",
   "execution_count": 20,
   "metadata": {},
   "outputs": [
    {
     "data": {
      "text/plain": [
       "array([[ 0.707, -0.707,  3.   ],\n",
       "       [ 0.707,  0.707,  0.   ],\n",
       "       [ 0.   ,  0.   ,  1.   ]])"
      ]
     },
     "execution_count": 20,
     "metadata": {},
     "output_type": "execute_result"
    }
   ],
   "source": [
    "# Express your answer as a 2D numpy array\n",
    "X_121 = sm.SE2([3, 0, 45], unit='deg')\n",
    "\n",
    "np.round(X_121.A, 3)"
   ]
  },
  {
   "cell_type": "markdown",
   "metadata": {},
   "source": [
    "#### 1.2.2) \n",
    "Calculate the homogeneous transformation matrix representing a rotation of $\\theta=120^\\circ$ and a translation of 2 units in the $x$ direction and 1 unit in the $y$ direction.\n",
    "\n",
    "_Points:_ 2"
   ]
  },
  {
   "cell_type": "code",
   "execution_count": 23,
   "metadata": {},
   "outputs": [
    {
     "data": {
      "text/plain": [
       "array([[-0.5  , -0.866,  2.   ],\n",
       "       [ 0.866, -0.5  ,  1.   ],\n",
       "       [ 0.   ,  0.   ,  1.   ]])"
      ]
     },
     "execution_count": 23,
     "metadata": {},
     "output_type": "execute_result"
    }
   ],
   "source": [
    "# Express your answer as a 2D numpy array\n",
    "X_122 = sm.SE2([2, 1, 120], unit='deg')\n",
    "\n",
    "np.round(X_122.A, 3)"
   ]
  },
  {
   "cell_type": "markdown",
   "metadata": {},
   "source": [
    "#### 1.2.3) \n",
    "Calculate the homogeneous transformation matrix representing a rotation of $\\theta=210^\\circ$ and a translation of 4 units in the direction of $45^\\circ$ above the $x$ axis. \n",
    "\n",
    "_Points:_ 2"
   ]
  },
  {
   "cell_type": "code",
   "execution_count": 48,
   "metadata": {},
   "outputs": [
    {
     "data": {
      "text/plain": [
       "array([2.82842712, 2.82842712])"
      ]
     },
     "execution_count": 48,
     "metadata": {},
     "output_type": "execute_result"
    }
   ],
   "source": [
    "# Express your answer as a 2D numpy array\n",
    "wTa = sm.SE2([0, 0, 210], unit='deg')\n",
    "wTb = sm.SE2([0, 0, 45], unit='deg') \n",
    "bTc = sm.SE2([4, 0, 0], unit='deg')\n",
    "\n",
    "wTc = wTb * bTc\n",
    "aTb = wTa.inv() * wTb\n",
    "cTd = aTb\n",
    "\n",
    "wTd = wTb * bTc * cTd\n",
    "\n",
    "wTc.t"
   ]
  },
  {
   "cell_type": "markdown",
   "metadata": {},
   "source": [
    "#### 1.3.1) \n",
    "Calculate the rotation matrix corresponding to a $\\theta=30^\\circ$ rotation about the $x$ axis.\n",
    "\n",
    "_Points:_ 2"
   ]
  },
  {
   "cell_type": "code",
   "execution_count": 4,
   "metadata": {},
   "outputs": [],
   "source": [
    "# Express your answer as a 2D numpy array\n",
    "R_131 = np.array([[1 , 0, 0],\n",
    "                  [0 , cos(pi/6), -sin(pi/6)],\n",
    "                  [0 , sin(pi/6), cos(pi/6)]])"
   ]
  },
  {
   "cell_type": "markdown",
   "metadata": {},
   "source": [
    "#### 1.3.2) \n",
    "Calculate the rotation matrix corresponding to an extrinsic XYZ roll-pitch-yaw of $90^\\circ$, $180^\\circ$, and $270^\\circ$, respectively.\n",
    "\n",
    "_Points:_ 3"
   ]
  },
  {
   "cell_type": "code",
   "execution_count": 5,
   "metadata": {},
   "outputs": [
    {
     "data": {
      "text/plain": [
       "(  \u001b[38;5;1m 0       \u001b[0m \u001b[38;5;1m 0       \u001b[0m \u001b[38;5;1m-1       \u001b[0m  \u001b[0m\n",
       "  \u001b[38;5;1m 1       \u001b[0m \u001b[38;5;1m 0       \u001b[0m \u001b[38;5;1m 0       \u001b[0m  \u001b[0m\n",
       "  \u001b[38;5;1m 0       \u001b[0m \u001b[38;5;1m-1       \u001b[0m \u001b[38;5;1m 0       \u001b[0m  \u001b[0m\n",
       ",\n",
       "   \u001b[38;5;1m 0       \u001b[0m \u001b[38;5;1m 0       \u001b[0m \u001b[38;5;1m-1       \u001b[0m  \u001b[0m\n",
       "  \u001b[38;5;1m 1       \u001b[0m \u001b[38;5;1m 0       \u001b[0m \u001b[38;5;1m 0       \u001b[0m  \u001b[0m\n",
       "  \u001b[38;5;1m 0       \u001b[0m \u001b[38;5;1m-1       \u001b[0m \u001b[38;5;1m 0       \u001b[0m  \u001b[0m\n",
       ")"
      ]
     },
     "execution_count": 5,
     "metadata": {},
     "output_type": "execute_result"
    }
   ],
   "source": [
    "# Express your answer as a 2D numpy array\n",
    "# Calculate the rotation matrix corresponding to an extrinsic XYZ roll-pitch-yaw of $90^\\circ$, $180^\\circ$, and $270^\\circ$, respectively.\n",
    "\n",
    "R_132 = sm.SO3.RPY([pi/2, pi, 3*pi/2], order='zyx')\n",
    "R_132_2 = sm.SO3.Rz(3*pi/2) * sm.SO3.Ry(pi) * sm.SO3.Rx(pi/2)\n",
    "\n",
    "R_132, R_132_2"
   ]
  },
  {
   "cell_type": "markdown",
   "metadata": {},
   "source": [
    "#### 1.3.3) \n",
    "Calculate the unit quaternion corresponding to the roll-pitch-yaw in the previous part. *Hint: you may find it useful to refer to the formula in the slides for converting between unit quaternions and rotation matrices.*\n",
    "\n",
    "_Points:_ 3"
   ]
  },
  {
   "cell_type": "code",
   "execution_count": 6,
   "metadata": {},
   "outputs": [
    {
     "data": {
      "text/plain": [
       "array([[ 1.8369702e-16,  6.1232340e-17, -1.0000000e+00],\n",
       "       [ 1.0000000e+00, -1.2246468e-16,  1.8369702e-16],\n",
       "       [-1.2246468e-16, -1.0000000e+00, -6.1232340e-17]])"
      ]
     },
     "execution_count": 6,
     "metadata": {},
     "output_type": "execute_result"
    }
   ],
   "source": [
    "R_132.R"
   ]
  },
  {
   "cell_type": "code",
   "execution_count": 7,
   "metadata": {},
   "outputs": [],
   "source": [
    "# Express your answer as a 1D numpy array\n",
    "q_133 = R_132.UnitQuaternion()"
   ]
  },
  {
   "cell_type": "markdown",
   "metadata": {},
   "source": [
    "#### 1.3.4) \n",
    "Calculate the axis-angle representation corresponding to the same roll-pitch-yaw in the previous part. *Hint: you may find it useful to refer to the formula in the slides for converting between unit quaternions and axis-angle representations.*\n",
    "\n",
    "_Points:_ 3"
   ]
  },
  {
   "cell_type": "code",
   "execution_count": 52,
   "metadata": {},
   "outputs": [
    {
     "data": {
      "text/plain": [
       "array([-1.20919958, -1.20919958,  1.20919958])"
      ]
     },
     "execution_count": 52,
     "metadata": {},
     "output_type": "execute_result"
    }
   ],
   "source": [
    "aa_134 = q_133.angvec()\n",
    "aa_134[0] * aa_134[1]"
   ]
  },
  {
   "cell_type": "code",
   "execution_count": 9,
   "metadata": {},
   "outputs": [
    {
     "data": {
      "text/plain": [
       "(  \u001b[38;5;1m 1       \u001b[0m \u001b[38;5;1m 0       \u001b[0m \u001b[38;5;1m 0       \u001b[0m  \u001b[0m\n",
       "  \u001b[38;5;1m 0       \u001b[0m \u001b[38;5;1m 1       \u001b[0m \u001b[38;5;1m 0       \u001b[0m  \u001b[0m\n",
       "  \u001b[38;5;1m 0       \u001b[0m \u001b[38;5;1m 0       \u001b[0m \u001b[38;5;1m 1       \u001b[0m  \u001b[0m\n",
       ",\n",
       "   \u001b[38;5;1m 1       \u001b[0m \u001b[38;5;1m 0       \u001b[0m \u001b[38;5;1m 0       \u001b[0m  \u001b[0m\n",
       "  \u001b[38;5;1m 0       \u001b[0m \u001b[38;5;1m 1       \u001b[0m \u001b[38;5;1m 0       \u001b[0m  \u001b[0m\n",
       "  \u001b[38;5;1m 0       \u001b[0m \u001b[38;5;1m 0       \u001b[0m \u001b[38;5;1m 1       \u001b[0m  \u001b[0m\n",
       ",\n",
       "   \u001b[38;5;1m 1       \u001b[0m \u001b[38;5;1m 0       \u001b[0m \u001b[38;5;1m 0       \u001b[0m  \u001b[0m\n",
       "  \u001b[38;5;1m 0       \u001b[0m \u001b[38;5;1m 0       \u001b[0m \u001b[38;5;1m-1       \u001b[0m  \u001b[0m\n",
       "  \u001b[38;5;1m 0       \u001b[0m \u001b[38;5;1m 1       \u001b[0m \u001b[38;5;1m 0       \u001b[0m  \u001b[0m\n",
       ",\n",
       "   \u001b[38;5;1m 1       \u001b[0m \u001b[38;5;1m 0       \u001b[0m \u001b[38;5;1m 0       \u001b[0m  \u001b[0m\n",
       "  \u001b[38;5;1m 0       \u001b[0m \u001b[38;5;1m 0       \u001b[0m \u001b[38;5;1m 1       \u001b[0m  \u001b[0m\n",
       "  \u001b[38;5;1m 0       \u001b[0m \u001b[38;5;1m-1       \u001b[0m \u001b[38;5;1m 0       \u001b[0m  \u001b[0m\n",
       ")"
      ]
     },
     "execution_count": 9,
     "metadata": {},
     "output_type": "execute_result"
    }
   ],
   "source": [
    "# Express your answer as two 2D numpy arrays\n",
    "R_1351 = sm.SO3.RPY([pi/2, 0, 0], order='zyx')\n",
    "R_1352 = sm.SO3.RPY([-pi/2, 0, 0], order='zyx')\n",
    "\n",
    "R_1351 * R_1352, R_1352 * R_1351, R_1351, R_1352"
   ]
  },
  {
   "cell_type": "code",
   "execution_count": 17,
   "metadata": {},
   "outputs": [
    {
     "data": {
      "text/plain": [
       "  \u001b[38;5;1m0           \u001b[0m \u001b[38;5;1m-sin(r)*cos(y) - sin(y)*cos(r)\u001b[0m \u001b[38;5;1msin(r)*sin(y) - cos(r)*cos(y)\u001b[0m  \u001b[0m\n",
       "  \u001b[38;5;1m0           \u001b[0m \u001b[38;5;1m-sin(r)*sin(y) + cos(r)*cos(y)\u001b[0m \u001b[38;5;1m-sin(r)*cos(y) - sin(y)*cos(r)\u001b[0m  \u001b[0m\n",
       "  \u001b[38;5;1m1           \u001b[0m \u001b[38;5;1m0           \u001b[0m \u001b[38;5;1m0           \u001b[0m  \u001b[0m\n"
      ]
     },
     "execution_count": 17,
     "metadata": {},
     "output_type": "execute_result"
    }
   ],
   "source": [
    "from spatialmath.base.symbolic import *  \n",
    "import sympy\n",
    "\n",
    "r, y = symbol('r y')\n",
    "rot_mat = sm.SO3.RPY([r, -sympy.pi/2, y], order='zyx')\n",
    "rot_mat\n",
    "\n",
    "rotz = sm.SO3.Rz(y)\n",
    "roty = sm.SO3.Ry(-sympy.pi/2)\n",
    "rotx = sm.SO3.Rx(r)\n",
    "\n",
    "rotz * roty * rotx"
   ]
  },
  {
   "cell_type": "markdown",
   "metadata": {},
   "source": [
    "### 2.1) 2D change of view-point\n",
    "\n",
    "Some point $A$ is displaced from the origin of the world-coordinate frame $W$ by $3$ units in $W$'s $x$ direction and $4$ units in $W$'s $y$ direction. There is another coordinate frame $O$, which is displaced from $W$ by $2$ units in the negative $x$ direction of $W$ and $1$ unit in the $y$ direction of $W$, and rotated by $30^\\circ$ counter-clockwise. Find the coordinates of point $A$ relative to frame $O$ expressed in frame $O$.\n",
    "\n",
    "Your answer should be a $2\\times 1$ numpy array.\n",
    "\n",
    "_Points:_ 5"
   ]
  },
  {
   "cell_type": "code",
   "execution_count": 37,
   "metadata": {},
   "outputs": [
    {
     "data": {
      "text/plain": [
       "array([5.83012702, 0.09807621])"
      ]
     },
     "execution_count": 37,
     "metadata": {},
     "output_type": "execute_result"
    }
   ],
   "source": [
    "p = np.array([3, 4, 0])\n",
    "wTa = sm.SE2(p)\n",
    "wTo = sm.SE2([-2, 1, 30], unit='deg')\n",
    "\n",
    "oTa = wTo.inv() * wTa\n",
    "\n",
    "oTa.t"
   ]
  },
  {
   "cell_type": "code",
   "execution_count": null,
   "metadata": {},
   "outputs": [],
   "source": [
    "p_OA = o.inv()*T.t\n",
    "p_OA[:2]"
   ]
  },
  {
   "cell_type": "markdown",
   "metadata": {},
   "source": [
    "### 2.2) 3D change of view-point\n",
    "\n",
    "An object $O$ has an attached coordinate frame $O$, whose origin is at $(2,1,5)$ relative to the world frame $W$. Frame $O$ is rotated relative to $W$ by $90^\\circ$ about the $z$ axis of $W$. There is a point $A$ in object $O$ at position $(1,0,0)$ relative to $O$. Find the world coordinates of point $A$. \n",
    "\n",
    "Your answer should be a $3\\times 1$ numpy array.\n",
    "\n",
    "_Points:_ 5"
   ]
  },
  {
   "cell_type": "code",
   "execution_count": null,
   "metadata": {},
   "outputs": [],
   "source": [
    "T_OW = sm.SE3([2, 1, 5])\n",
    "T_OW.R = sm.SE3.Rz(sympy.pi/2)\n",
    "\n",
    "p_AW = T_OW * sm.SE3([1, 0, 0])\n",
    "\n",
    "p_AW.t"
   ]
  },
  {
   "cell_type": "markdown",
   "metadata": {},
   "source": [
    "### 2.3) 2D action\n",
    "\n",
    "A robot sarts at position (1,2) in the world frame, with its $x$-axis facing $45^\\circ$ above the world's $x$ axis. The robot's gripper is at position $(0.1, 0.1)$ in the robot's frame. The robot moves forward 3 units along its $x$ axis and then rotates counter-clockwise by $90^\\circ$. What is the final position of the robot's gripper in the world frame?\n",
    "\n",
    "Your answer should be a $2\\times 1$ numpy array.\n",
    "\n",
    "_Points:_ 5"
   ]
  },
  {
   "cell_type": "code",
   "execution_count": 53,
   "metadata": {},
   "outputs": [
    {
     "data": {
      "text/plain": [
       "array([2.97989899, 4.12132034])"
      ]
     },
     "execution_count": 53,
     "metadata": {},
     "output_type": "execute_result"
    }
   ],
   "source": [
    "T_WR = sm.SE2([1, 2, 45], unit='deg')\n",
    "T_RB = sm.SE2([3, 0, 90], unit='deg')\n",
    "T_BE = sm.SE2([0.1, 0.1, 0])\n",
    "T_EW = T_WR * T_RB * T_BE\n",
    "T_EW.t.T\n"
   ]
  },
  {
   "cell_type": "markdown",
   "metadata": {},
   "source": [
    "### 2.4) 3D action\n",
    "\n",
    "Suppose we have a robot arm with a single spherical joint attached to a fixed table, connected to a link of length 2. The world coordinate frame is at the base of the link. Initially, the link is facing in the $x$ direction of the world frame and the gripper frame is rotated from the world frame by $-90^\\circ$ about the $z$ axis, such that the $y$ frame points away from the gripper. The robot is grasping a box, whose center of mass is at position $(0, 0, 0.2)$ in the gripper frame. Calculate the position of the center of mass in the world frame after applying a rotation on the spherical joint given by:\n",
    "$$R =\\begin{pmatrix}\n",
    "    0.306 & 0.787 & 0.536\\\\\n",
    "    -0.521 & 0.61 & -0.598\\\\\n",
    "    -0.797 & -0.096 & 0.597\n",
    "\\end{pmatrix}$$\n",
    "\n",
    "Your answer should be a $3\\times 1$ numpy array.\n",
    "\n",
    "_Points:_ 5"
   ]
  },
  {
   "cell_type": "code",
   "execution_count": null,
   "metadata": {},
   "outputs": [],
   "source": [
    "\n",
    "Rmat = np.array([[0.306, 0.787, 0.536], \n",
    "              [-0.521, 0.610, -0.598], \n",
    "              [-0.797, -0.096, 0.597]])\n",
    "R_WJ = sm.SO3(Rmat, check=False)\n",
    "T_WJ = sm.SE3(R_WJ)\n",
    "T_JG = sm.SE3([2, 0, 0]) * sm.SE3.Rz(-90, unit='deg') # attention: first translated, then rotated\n",
    "T_GB = sm.SE3([0, 0, 0.2])\n",
    "\n",
    "T_WB = T_WJ * T_JG * T_GB\n",
    "\n",
    "pos = T_WB.t\n",
    "\n",
    "pos\n"
   ]
  },
  {
   "cell_type": "code",
   "execution_count": null,
   "metadata": {},
   "outputs": [],
   "source": []
  }
 ],
 "metadata": {
  "kernelspec": {
   "display_name": "panda",
   "language": "python",
   "name": "python3"
  },
  "language_info": {
   "codemirror_mode": {
    "name": "ipython",
    "version": 3
   },
   "file_extension": ".py",
   "mimetype": "text/x-python",
   "name": "python",
   "nbconvert_exporter": "python",
   "pygments_lexer": "ipython3",
   "version": "3.10.16"
  }
 },
 "nbformat": 4,
 "nbformat_minor": 2
}
