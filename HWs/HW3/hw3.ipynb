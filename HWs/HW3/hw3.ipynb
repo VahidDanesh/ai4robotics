{
 "cells": [
  {
   "cell_type": "code",
   "execution_count": 81,
   "id": "2a0be9c9",
   "metadata": {
    "deletable": false,
    "editable": false
   },
   "outputs": [],
   "source": [
    "# Initialize Otter\n",
    "import otter\n",
    "grader = otter.Notebook(\"hw3.ipynb\")"
   ]
  },
  {
   "cell_type": "code",
   "execution_count": 82,
   "id": "fc69dc99",
   "metadata": {},
   "outputs": [],
   "source": [
    "import numpy as np\n",
    "from math import *"
   ]
  },
  {
   "cell_type": "markdown",
   "id": "5add0ff4-27fa-4b8b-9429-77a6e70eb204",
   "metadata": {},
   "source": [
    "# FILL IN YOUR NAME AND THE NAME OF YOUR PEER (IF ANY) BELOW"
   ]
  },
  {
   "cell_type": "markdown",
   "id": "114b0f41-932d-43fb-96b0-a10ea759b6e4",
   "metadata": {},
   "source": [
    "**Name**: Vahid Danesh\n",
    "\n",
    "**Peer**: \\<replace this with your peer's name\\>\n",
    "\n",
    "## Collaboration policy\n",
    "Students are responsible for writing their own quizzes, assignments, and exams. For homework assignments, students are welcome (and encouraged) to discuss problems with one peer, **but each student must write their own assignment wrtieup and code individually**. The peer must be listed at the top of the writeup for each assignment. *Note: I will treat AI assistants as peers. That is, students are welcome to discuss problems with an AI assistant, but it is considered cheating to directly obtain an answer by querying the assistant. Please credit any AI assistant that you use.*"
   ]
  },
  {
   "cell_type": "markdown",
   "id": "3eeaa842-e2ff-4f0d-9447-6450943e8703",
   "metadata": {},
   "source": [
    "# Homework 3 -- Coordinate transformations (100 pts)\n",
    "\n",
    "**Due:** Tuesday, February 18th, 2025 at 11:59 pm\n",
    "\n",
    "This homework builds on the material in the slides, Hauser Chapters 3 and 4 (on Coordinate Transformations and 3D Rotations), and Tedrake chapter 3 (on Basic Pick-and-Place, especially 3.1 and 3.3).\n",
    "\n",
    "We will use Jupyter/Colab notebooks throughout the semester for writing code and generating assignment outputs.\n",
    "\n",
    "**Throughout this homework, please use 2D numpy arrays to represent all matrices. The autograder will use a precision of 3 decimal places.**\n",
    "\n",
    "\n",
    "## 1) Calculating Rotations and Homogeneous Transformations (30 pts)\n",
    "\n",
    "We will start by practicing how to construct rotation matrices and homogeneous transformation matrices in 2D and 3D. \n",
    "\n",
    "### 1.1) Calculating 2D rotation matrices (4 pts)"
   ]
  },
  {
   "cell_type": "markdown",
   "id": "9b077b00-bf16-44d7-988e-27cf380b2a3d",
   "metadata": {
    "deletable": false,
    "editable": false
   },
   "source": [
    "#### 1.1.1) \n",
    "Calculate the rotation matrix representing a rotation of $\\theta=90^\\circ$.\n",
    "\n",
    "_Points:_ 1"
   ]
  },
  {
   "cell_type": "code",
   "execution_count": 83,
   "id": "50976ae0-2716-41ae-8690-d6987cc61d83",
   "metadata": {
    "tags": [
     "otter_answer_cell"
    ]
   },
   "outputs": [],
   "source": [
    "# Express your answer as a 2D numpy array\n",
    "R_111 = np.array([[0, -1], \n",
    "                 [1, 0]])"
   ]
  },
  {
   "cell_type": "markdown",
   "id": "344bf58e",
   "metadata": {
    "deletable": false,
    "editable": false
   },
   "source": [
    "#### 1.1.2) \n",
    "Calculate the rotation matrix representing a rotation of $\\theta=180^\\circ$.\n",
    "\n",
    "_Points:_ 1"
   ]
  },
  {
   "cell_type": "code",
   "execution_count": 84,
   "id": "d9ad7927",
   "metadata": {
    "tags": [
     "otter_answer_cell"
    ]
   },
   "outputs": [],
   "source": [
    "# Express your answer as a 2D numpy array\n",
    "R_112 = np.array([[-1, 0],\n",
    "                 [0, -1]])\n"
   ]
  },
  {
   "cell_type": "markdown",
   "id": "92bfb195",
   "metadata": {
    "deletable": false,
    "editable": false
   },
   "source": [
    "#### 1.1.3) \n",
    "Calculate the rotation matrix representing a rotation of $\\theta=270^\\circ$.\n",
    "\n",
    "_Points:_ 1"
   ]
  },
  {
   "cell_type": "code",
   "execution_count": 85,
   "id": "2a20cb9d",
   "metadata": {
    "tags": [
     "otter_answer_cell"
    ]
   },
   "outputs": [],
   "source": [
    "# Express your answer as a 2D numpy array\n",
    "R_113 = np.array([[0, 1], \n",
    "                  [-1, 0]])"
   ]
  },
  {
   "cell_type": "markdown",
   "id": "1dd65169",
   "metadata": {
    "deletable": false,
    "editable": false
   },
   "source": [
    "#### 1.1.4) \n",
    "Calculate the rotation matrix representing a rotation of $\\theta=0^\\circ$.\n",
    "\n",
    "_Points:_ 1"
   ]
  },
  {
   "cell_type": "code",
   "execution_count": 86,
   "id": "337cb9f6",
   "metadata": {
    "tags": [
     "otter_answer_cell"
    ]
   },
   "outputs": [],
   "source": [
    "# Express your answer as a 2D numpy array\n",
    "R_114 = np.array([[1, 0], \n",
    "                  [0, 1]])"
   ]
  },
  {
   "cell_type": "markdown",
   "id": "eb3814f7",
   "metadata": {},
   "source": [
    "### 1.2) Calculating 2D homogeneous transformation matrices (6 pts)"
   ]
  },
  {
   "cell_type": "markdown",
   "id": "62170472",
   "metadata": {
    "deletable": false,
    "editable": false
   },
   "source": [
    "#### 1.2.1) \n",
    "Calculate the homogeneous transformation matrix representing a rotation of $\\theta=45^\\circ$ and a translation of 3 units in the $x$ direction. \n",
    "\n",
    "_Points:_ 2"
   ]
  },
  {
   "cell_type": "code",
   "execution_count": 87,
   "id": "e6eebe2b",
   "metadata": {
    "tags": [
     "otter_answer_cell"
    ]
   },
   "outputs": [],
   "source": [
    "# Express your answer as a 2D numpy array\n",
    "X_121 = np.array([  [ 0.707, -0.707,  3.   ],\n",
    "                    [ 0.707,  0.707,  0.   ],\n",
    "                    [ 0.   ,  0.   ,  1.   ]])"
   ]
  },
  {
   "cell_type": "markdown",
   "id": "27be619f",
   "metadata": {
    "deletable": false,
    "editable": false
   },
   "source": [
    "#### 1.2.2) \n",
    "Calculate the homogeneous transformation matrix representing a rotation of $\\theta=120^\\circ$ and a translation of 2 units in the $x$ direction and 1 unit in the $y$ direction.\n",
    "\n",
    "_Points:_ 2"
   ]
  },
  {
   "cell_type": "code",
   "execution_count": 88,
   "id": "da394122",
   "metadata": {
    "tags": [
     "otter_answer_cell"
    ]
   },
   "outputs": [],
   "source": [
    "# Express your answer as a 2D numpy array\n",
    "X_122 = np.array([[-0.5  , -0.866,  2.   ],\n",
    "                  [ 0.866, -0.5  ,  1.   ],\n",
    "                  [ 0.   ,  0.   ,  1.   ]])"
   ]
  },
  {
   "cell_type": "markdown",
   "id": "25a880cf",
   "metadata": {
    "deletable": false,
    "editable": false
   },
   "source": [
    "#### 1.2.3) \n",
    "Calculate the homogeneous transformation matrix representing a rotation of $\\theta=210^\\circ$ and a translation of 4 units in the direction of $45^\\circ$ above the $x$ axis. \n",
    "\n",
    "_Points:_ 2"
   ]
  },
  {
   "cell_type": "code",
   "execution_count": 89,
   "id": "f1952d06",
   "metadata": {
    "tags": [
     "otter_answer_cell"
    ]
   },
   "outputs": [],
   "source": [
    "# Express your answer as a 2D numpy array\n",
    "X_123 = np.array([[-0.8660254 ,  0.5       ,  2.82842712],\n",
    "                  [-0.5       , -0.8660254 ,  2.82842712],\n",
    "                  [ 0.        ,  0.        ,  1.        ]])"
   ]
  },
  {
   "cell_type": "markdown",
   "id": "564d6772",
   "metadata": {},
   "source": [
    "### 1.3) Calculating 3D rotation representations (20 pts)"
   ]
  },
  {
   "cell_type": "markdown",
   "id": "07616284",
   "metadata": {
    "deletable": false,
    "editable": false
   },
   "source": [
    "#### 1.3.1) \n",
    "Calculate the rotation matrix corresponding to a $\\theta=30^\\circ$ rotation about the $x$ axis.\n",
    "\n",
    "_Points:_ 2"
   ]
  },
  {
   "cell_type": "code",
   "execution_count": 90,
   "id": "6df512a5",
   "metadata": {
    "tags": [
     "otter_answer_cell"
    ]
   },
   "outputs": [],
   "source": [
    "# Express your answer as a 2D numpy array\n",
    "R_131 = np.array([[1 , 0, 0],\n",
    "                  [0 , cos(pi/6), -sin(pi/6)],\n",
    "                  [0 , sin(pi/6), cos(pi/6)]])"
   ]
  },
  {
   "cell_type": "markdown",
   "id": "015e865f",
   "metadata": {
    "deletable": false,
    "editable": false
   },
   "source": [
    "#### 1.3.2) \n",
    "Calculate the rotation matrix corresponding to an extrinsic XYZ roll-pitch-yaw of $90^\\circ$, $180^\\circ$, and $270^\\circ$, respectively.\n",
    "\n",
    "_Points:_ 3"
   ]
  },
  {
   "cell_type": "code",
   "execution_count": 91,
   "id": "1846debc",
   "metadata": {
    "tags": [
     "otter_answer_cell"
    ]
   },
   "outputs": [],
   "source": [
    "# Express your answer as a 2D numpy array\n",
    "\n",
    "R_132 = np.array([[0,  0, -1],\n",
    "                  [1,  0,  0],\n",
    "                  [0, -1,  0]])"
   ]
  },
  {
   "cell_type": "markdown",
   "id": "adc689f3",
   "metadata": {
    "deletable": false,
    "editable": false
   },
   "source": [
    "#### 1.3.3) \n",
    "Calculate the unit quaternion corresponding to the roll-pitch-yaw in the previous part. *Hint: you may find it useful to refer to the formula in the slides for converting between unit quaternions and rotation matrices.*\n",
    "\n",
    "_Points:_ 3"
   ]
  },
  {
   "cell_type": "code",
   "execution_count": 92,
   "id": "5f800f48",
   "metadata": {
    "tags": [
     "otter_answer_cell"
    ]
   },
   "outputs": [],
   "source": [
    "# Express your answer as a 1D numpy array\n",
    "q_133 = np.array([0.5, -0.5, -0.5, 0.5])"
   ]
  },
  {
   "cell_type": "markdown",
   "id": "7cee58cf",
   "metadata": {
    "deletable": false,
    "editable": false
   },
   "source": [
    "#### 1.3.4) \n",
    "Calculate the axis-angle representation corresponding to the same roll-pitch-yaw in the previous part. *Hint: you may find it useful to refer to the formula in the slides for converting between unit quaternions and axis-angle representations.*\n",
    "\n",
    "_Points:_ 3"
   ]
  },
  {
   "cell_type": "code",
   "execution_count": 93,
   "id": "4b983722",
   "metadata": {
    "tags": [
     "otter_answer_cell"
    ]
   },
   "outputs": [],
   "source": [
    "# Express your answer as a 1D numpy array\n",
    "aa_134 = np.array([-1.20919958, -1.20919958,  1.20919958])\n"
   ]
  },
  {
   "cell_type": "markdown",
   "id": "b699d884",
   "metadata": {
    "deletable": false,
    "editable": false
   },
   "source": [
    "#### 1.3.5) \n",
    "Give an example of two 3D rotation matrices $R_1$ and $R_2$ such that $R_1\\cdot R_2 \\neq R_2 \\cdot R_1$.\n",
    "\n",
    "_Points:_ 2"
   ]
  },
  {
   "cell_type": "code",
   "execution_count": 94,
   "id": "f3e839b9",
   "metadata": {
    "tags": [
     "otter_answer_cell"
    ]
   },
   "outputs": [],
   "source": [
    "# Express your answer as two 2D numpy arrays\n",
    "R_1351 = np.array([[1, 0,  0],\n",
    "                   [0, 0, -1],\n",
    "                   [0, 1,  0]])\n",
    "R_1352 = np.array([[0,  0, 1],\n",
    "                   [0,  1, 0],\n",
    "                   [-1, 0, 0]])"
   ]
  },
  {
   "cell_type": "markdown",
   "id": "18a66366",
   "metadata": {
    "deletable": false,
    "editable": false
   },
   "source": [
    "#### 1.3.6) \n",
    "Give an example of two 3D (non-idendity) rotation matrices $R_1$ and $R_2$ such that $R_1\\cdot R_2 = R_2 \\cdot R_1$. \n",
    "\n",
    "_Points:_ 2"
   ]
  },
  {
   "cell_type": "code",
   "execution_count": 95,
   "id": "58e6c16c",
   "metadata": {
    "tags": [
     "otter_answer_cell"
    ]
   },
   "outputs": [],
   "source": [
    "# Express your answer as two 2D numpy arrays\n",
    "R_1361 = np.array([[1, 0, 0], \n",
    "                   [0, 0,-1], \n",
    "                   [0, 1, 0]])\n",
    "R_1362 = np.array([[1, 0, 0],\n",
    "                   [0, 0, 1], \n",
    "                   [0, -1, 0]])"
   ]
  },
  {
   "cell_type": "markdown",
   "id": "b56f50b6",
   "metadata": {
    "deletable": false,
    "editable": false
   },
   "source": [
    "#### 1.3.7) \n",
    "Following our convention for extrinsic XYZ roll-pitch-yaw, derive a simplified expression for the rotation matrix resulting from a pitch of $p=-\\pi/2$, a roll of $r$, and a yaw of $y$. Your answer should be a python function that takes in a roll `r` and a yaw `y` and returns a 3D rotation matrix. Work out the expression by hand and directly return the simplified rotation matrix (i.e., don't write a function that computes the product of three rotation matrices).\n",
    "\n",
    "\n",
    "\n",
    "*Hint: use the following two angle sum trigonometric identities:*\n",
    "$$\\begin{aligned}\n",
    "    \\sin(\\alpha+\\beta) &= \\sin\\alpha\\cos\\beta + \\cos\\alpha\\sin\\beta\\\\\n",
    "    \\cos(\\alpha+\\beta) &= \\cos\\alpha\\cos\\beta - \\sin\\alpha\\sin\\beta\n",
    "\\end{aligned}$$\n",
    "\n",
    "_Points:_ 3"
   ]
  },
  {
   "cell_type": "code",
   "execution_count": 96,
   "id": "58d7c9bf",
   "metadata": {
    "tags": [
     "otter_answer_cell"
    ]
   },
   "outputs": [],
   "source": [
    "def R_r_halfpi_y_137(r, y):\n",
    "    return np.array([[0, -sin(r+y), -cos(r+y)],\n",
    "                     [0,  cos(r+y), -sin(r+y)],\n",
    "                     [1,  0,         0       ]])"
   ]
  },
  {
   "cell_type": "markdown",
   "id": "40d331dc",
   "metadata": {
    "deletable": false,
    "editable": false
   },
   "source": [
    "In the resulting matrix, how does a change in $r$ compare to a change in $y$?\n",
    "\n",
    "a. $r$ and $y$ rotate about orthogonal axes\\\n",
    "b. $r$ and $y$ cause rotations about the same axis\\\n",
    "c. $r$ and $y$ rotate in opposite directions\\\n",
    "d. $r$ and $y$ rotate about different but not orthogonal axes\n",
    "\n",
    "_Points:_ 1"
   ]
  },
  {
   "cell_type": "code",
   "execution_count": 97,
   "id": "595ba8d8",
   "metadata": {
    "tags": [
     "otter_answer_cell"
    ]
   },
   "outputs": [],
   "source": [
    "# Enter your answer as a lower-case Python string (e.g., \"a\")\n",
    "ans_1371 = \"b\""
   ]
  },
  {
   "cell_type": "markdown",
   "id": "d348d212",
   "metadata": {
    "deletable": false,
    "editable": false
   },
   "source": [
    "What does this tell us about roll-pitch-yaw as a representation for rotations? Choose all that apply.\n",
    "\n",
    "a. Some roll-pitch-yaw configurations result in invalid rotations\\\n",
    "b. At some configurations for one angle, the two remaining angles represent the same rotation\\\n",
    "c. At some configurations for one angle, it is not possible to rotate about one axis\\\n",
    "d. Roll-pitch-yaw should not be used\n",
    "\n",
    "_Points:_ 1"
   ]
  },
  {
   "cell_type": "code",
   "execution_count": 98,
   "id": "4aa1180c",
   "metadata": {
    "tags": [
     "otter_answer_cell"
    ]
   },
   "outputs": [],
   "source": [
    "# Enter your answer as a list of lower-case Python strings (e.g., [\"a\", \"b\", \"c\", \"d\"] for all choices or [] for no choice)\n",
    "ans_1372 = [\"b\", \"c\"]"
   ]
  },
  {
   "cell_type": "markdown",
   "id": "9fc7b768",
   "metadata": {},
   "source": [
    "## 2) Rigid motions of objects (20 pts)\n",
    "\n",
    "All previous questions asked about rotations and transformations as abstract objects, not tied to a particular physical interpretation. In this problem, we will apply rotations and transformations to objects to understand their position and/or orientation in a chosen coordinate frame.\n",
    "\n",
    "For all questions in this section you're welcome to work out the solutions by hand and enter the final answer or write Python code to compute the answers directly."
   ]
  },
  {
   "cell_type": "markdown",
   "id": "9ae177c1",
   "metadata": {
    "deletable": false,
    "editable": false
   },
   "source": [
    "### 2.1) 2D change of view-point\n",
    "\n",
    "Some point $A$ is displaced from the origin of the world-coordinate frame $W$ by $3$ units in $W$'s $x$ direction and $4$ units in $W$'s $y$ direction. There is another coordinate frame $O$, which is displaced from $W$ by $2$ units in the negative $x$ direction of $W$ and $1$ unit in the $y$ direction of $W$, and rotated by $30^\\circ$ counter-clockwise. Find the coordinates of point $A$ relative to frame $O$ expressed in frame $O$.\n",
    "\n",
    "Your answer should be a $2\\times 1$ numpy array.\n",
    "\n",
    "_Points:_ 5"
   ]
  },
  {
   "cell_type": "code",
   "execution_count": 99,
   "id": "f29dd24f",
   "metadata": {
    "tags": [
     "otter_answer_cell"
    ]
   },
   "outputs": [],
   "source": [
    "# Express your answer as a 2x1 numpy array\n",
    "p_OA_21 = np.array([[5.83012702],\n",
    "                    [0.09807621]])"
   ]
  },
  {
   "cell_type": "markdown",
   "id": "30a585f4",
   "metadata": {
    "deletable": false,
    "editable": false
   },
   "source": [
    "### 2.2) 3D change of view-point\n",
    "\n",
    "An object $O$ has an attached coordinate frame $O$, whose origin is at $(2,1,5)$ relative to the world frame $W$. Frame $O$ is rotated relative to $W$ by $90^\\circ$ about the $z$ axis of $W$. There is a point $A$ in object $O$ at position $(1,0,0)$ relative to $O$. Find the world coordinates of point $A$. \n",
    "\n",
    "Your answer should be a $3\\times 1$ numpy array.\n",
    "\n",
    "_Points:_ 5"
   ]
  },
  {
   "cell_type": "code",
   "execution_count": 100,
   "id": "51c2d0d8",
   "metadata": {
    "tags": [
     "otter_answer_cell"
    ]
   },
   "outputs": [],
   "source": [
    "# Express your answer as a 3x1 numpy array\n",
    "p_A_22 = np.array([[2],\n",
    "                   [2], \n",
    "                   [5]])\n",
    "\n"
   ]
  },
  {
   "cell_type": "markdown",
   "id": "07d6674d",
   "metadata": {
    "deletable": false,
    "editable": false
   },
   "source": [
    "### 2.3) 2D action\n",
    "\n",
    "A robot sarts at position (1,2) in the world frame, with its $x$-axis facing $45^\\circ$ above the world's $x$ axis. The robot's gripper is at position $(0.1, 0.1)$ in the robot's frame. The robot moves forward 3 units along its $x$ axis and then rotates counter-clockwise by $90^\\circ$. What is the final position of the robot's gripper in the world frame?\n",
    "\n",
    "Your answer should be a $2\\times 1$ numpy array.\n",
    "\n",
    "_Points:_ 5"
   ]
  },
  {
   "cell_type": "code",
   "execution_count": 101,
   "id": "3608c39f",
   "metadata": {
    "tags": [
     "otter_answer_cell"
    ]
   },
   "outputs": [],
   "source": [
    "# Express your answer as a 2x1 numpy array\n",
    "p_Gnew_23 = np.array([[2.97989899],  \n",
    "                      [4.12132034]])"
   ]
  },
  {
   "cell_type": "markdown",
   "id": "6285f047",
   "metadata": {
    "deletable": false,
    "editable": false
   },
   "source": [
    "### 2.4) 3D action\n",
    "\n",
    "Suppose we have a robot arm with a single spherical joint attached to a fixed table, connected to a link of length 2. The world coordinate frame is at the base of the link. Initially, the link is facing in the $x$ direction of the world frame and the gripper frame is rotated from the world frame by $-90^\\circ$ about the $z$ axis, such that the $y$ frame points away from the gripper. The robot is grasping a box, whose center of mass is at position $(0, 0, 0.2)$ in the gripper frame. Calculate the position of the center of mass in the world frame after applying a rotation on the spherical joint given by:\n",
    "$$R =\\begin{pmatrix}\n",
    "    0.306 & 0.787 & 0.536\\\\\n",
    "    -0.521 & 0.61 & -0.598\\\\\n",
    "    -0.797 & -0.096 & 0.597\n",
    "\\end{pmatrix}$$\n",
    "\n",
    "Your answer should be a $3\\times 1$ numpy array.\n",
    "\n",
    "_Points:_ 5"
   ]
  },
  {
   "cell_type": "code",
   "execution_count": 102,
   "id": "992bef7e",
   "metadata": {
    "tags": [
     "otter_answer_cell"
    ]
   },
   "outputs": [],
   "source": [
    "# Express your answer as a 3x1 numpy array\n",
    "p_G_24 = np.array([[0.7192],\n",
    "                   [-1.1616],\n",
    "                   [-1.4746]])"
   ]
  },
  {
   "cell_type": "markdown",
   "id": "cc183806",
   "metadata": {},
   "source": [
    "## 3) Pick-and-place with floating hand (50 pts)\n",
    "\n",
    "In the following problem, we will explore the initial steps toward defining a pick-and-place trajectory for a robot arm. This week, we will move around a floating hand. In particular, we will be working with the Franka Panda arm (or, this week, the Franka Panda hand). \n",
    "\n",
    "We will make use of the `MuJoCo` physics engine, which you can install locally via `pip install mujoco`. We will use `mediapy` to visualize our robot; install via `pip install mediapy`.\n",
    "\n",
    "We will start with a simulated world that contains three objects: the robot hand, a table, and a red block. Our goal will be to pick the red block off the table and place it in some target location on the table. \n",
    "\n",
    "We will achieve this by moving the hand through 5 poses:\n",
    "- Floating above the object\n",
    "- Grasping the object\n",
    "- Lifting the object\n",
    "- Floating above the target location\n",
    "- Placing the object\n",
    "\n",
    "Start by downloading the `assets.zip` file from the Brightspace assignment, unzip it and place the `assets/` directory in the same directory that contains your `hw3.ipynb` file. These `assets` contain a `panda_hand.mjcf` file, which describes how the three objects in the world relate to each other. Then, run the code cell below, which loads the `.mjcf` file and renders the world in an image."
   ]
  },
  {
   "cell_type": "code",
   "execution_count": 103,
   "id": "65ebe2aa",
   "metadata": {},
   "outputs": [
    {
     "data": {
      "text/html": [
       "<table class=\"show_images\" style=\"border-spacing:0px;\"><tr><td style=\"padding:1px;\"><img width=\"640\" height=\"480\" style=\"image-rendering:auto; object-fit:cover;\" src=\"data:image/png;base64,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\"/></td></tr></table>"
      ],
      "text/plain": [
       "<IPython.core.display.HTML object>"
      ]
     },
     "metadata": {},
     "output_type": "display_data"
    }
   ],
   "source": [
    "import mujoco\n",
    "import mediapy as media\n",
    "import os\n",
    "import glfw\n",
    "\n",
    "def has_valid_renderer():\n",
    "    \"\"\"Checks if OpenGL can be initialized successfully.\"\"\"\n",
    "    # Try initializing GLFW\n",
    "    if not glfw.init():\n",
    "        print(\"GLFW initialization failed. No valid renderer.\")\n",
    "        return False\n",
    "    \n",
    "    # Try creating a hidden window to test OpenGL context creation\n",
    "    window = glfw.create_window(640, 480, \"Renderer Test\", None, None)\n",
    "    if not window:\n",
    "        print(\"GLFW could not create an OpenGL context. No valid renderer.\")\n",
    "        glfw.terminate()\n",
    "        return False\n",
    "    \n",
    "    glfw.make_context_current(window)\n",
    "    renderer_available = True  # If we reach this point, rendering should work\n",
    "\n",
    "    # Cleanup\n",
    "    glfw.destroy_window(window)\n",
    "    glfw.terminate()\n",
    "    return renderer_available\n",
    "\n",
    "def render_state(model, data):\n",
    "    if not has_valid_renderer():\n",
    "        print(\"Error rendering the scene. Make sure you have a valid OpenGL installation.\")\n",
    "        return\n",
    "\n",
    "    mujoco.mj_forward(model, data)\n",
    "    with mujoco.Renderer(model, height=480, width=640) as renderer:\n",
    "        renderer.update_scene(data, \"front_view\")  # Ensure scene is updated with final simulation state\n",
    "        media.show_image(renderer.render())\n",
    "\n",
    "# Define the MJCF path and mesh directory\n",
    "mjcf_path = 'assets/Panda/panda_hand.mjcf'\n",
    "mesh_dir = 'assets/Panda/meshes/collision/'\n",
    "\n",
    "# Load mesh files into a dictionary\n",
    "assets = {}\n",
    "for file_name in os.listdir(mesh_dir):\n",
    "    file_path = os.path.join(mesh_dir, file_name)\n",
    "    with open(file_path, 'rb') as f:\n",
    "        assets[f'meshes/collision/{file_name}'] = f.read()\n",
    "\n",
    "# Load the MuJoCo model\n",
    "model = mujoco.MjModel.from_xml_path(mjcf_path, assets=assets)\n",
    "data = mujoco.MjData(model)\n",
    "\n",
    "# Call mj_forward to initialize the state\n",
    "mujoco.mj_forward(model, data)\n",
    "\n",
    "# Get actuator IDs\n",
    "ctrl1_id = mujoco.mj_name2id(model, mujoco.mjtObj.mjOBJ_ACTUATOR, \"panda_finger_joint1_ctrl\")\n",
    "ctrl2_id = mujoco.mj_name2id(model, mujoco.mjtObj.mjOBJ_ACTUATOR, \"panda_finger_joint2_ctrl\")\n",
    "\n",
    "# Check if actuator IDs were found\n",
    "if ctrl1_id == -1 or ctrl2_id == -1:\n",
    "    raise ValueError(\"Actuators not found! Check the MJCF actuator names.\")\n",
    "\n",
    "# Apply control targets\n",
    "target_pos = 0.04  # Open fingers\n",
    "data.ctrl[ctrl1_id] = target_pos\n",
    "data.ctrl[ctrl2_id] = target_pos\n",
    "\n",
    "# Step the simulation multiple times so fingers reach open position\n",
    "for _ in range(100): \n",
    "    mujoco.mj_step(model, data)\n",
    "\n",
    "# Render the scene\n",
    "render_state(model, data)"
   ]
  },
  {
   "cell_type": "markdown",
   "id": "b74f6e33",
   "metadata": {},
   "source": [
    "The world coordinate frame is centered at the bottom of the center of the table. The $x$ axis points to right, the $y$ axis points into the picture, and the $z$ axis points up. The robot is initially in position $(-0.5, 0, 1.5)$ in world coordinates. The gripper's $x$ axis points toward the world's $y$ axis, its $y$ axis points toward the world's $x$ axis, and its $z$ axis points toward the world's $-z$ axis. "
   ]
  },
  {
   "cell_type": "markdown",
   "id": "95bb5647",
   "metadata": {
    "deletable": false,
    "editable": false
   },
   "source": [
    "### 3.1)\n",
    "With this, we can construct the rotation matrix $R^\\text{G}$. Please provide the matrix below.\n",
    "\n",
    "*Hint: recall how the columns of the rotation matrix relate to the axes of the resulting frame.*\n",
    "\n",
    "_Points:_ 5"
   ]
  },
  {
   "cell_type": "code",
   "execution_count": 104,
   "id": "e619747e",
   "metadata": {
    "tags": [
     "otter_answer_cell"
    ]
   },
   "outputs": [],
   "source": [
    "# Express your answer as a 3x3 numpy array\n",
    "R_G_31 = np.array([[0, 1, 0],\n",
    "                   [1, 0, 0],\n",
    "                   [0, 0, -1]])"
   ]
  },
  {
   "cell_type": "markdown",
   "id": "b884c032",
   "metadata": {},
   "source": [
    "In the following parts, we will compose transformations to compute desired poses for the gripper in the world frame. For example, if we wish to place the gripper at some relative pose w.r.t. the block ${}^{B} X^{G}$, and we know that the block's world pose is $X^{B}$, then we can set the gripper's pose to $X^{G} = X^{B} \\cdot {}^{B} X^{G}$.\n",
    "\n",
    "For all transformations, you should leverage MuJoCo's transformation functions. These functions are not very Pythonic: instead of returning arrays like you would in Python, they require you to pass arrays as arguments which will get filled with the outputs of the function. In particular, you will find the following useful:\n",
    "- `mujoco.mju_mat2Quat(output_quat, Rmat)` -- converts a rotation matrix to a unit quaternion:\n",
    "    - `output_quat` is a `(4,)` numpy array, which will contain the result of the converstion from rotation matrix to quaternion\n",
    "    - `Rmat` is a `(9,)` numpy array representing the rotation matrix to convert. (To get your `(3,3)` matrix into the correct shape, use `Rmat.reshape(9)`.)\n",
    "- `mujoco.mju_mulPose(output_pos, output_quat, pos1, quat1, pos2, quat2)` -- computes the pose resulting from multiplying two poses:\n",
    "    - `output_pos` is a `(3,)` numpy array, which will contain the position resulting from the product of the transformations `(pos1, quat1)` $\\cdot$ `(pos2, quat2)`\n",
    "    - `output_quat` is a `(4,)` numpy array, which will contain the orientation resulting from the product of the transformations `(pos1, quat1)` $\\cdot$ `(pos2, quat2)`\n",
    "    - `pos1`: the position of the first transform, as a `(3,)` numpy array\n",
    "    - `quat1`: the orientation of the first transform, as a `(4,)` numpy array representing a unit quaternion\n",
    "    - `pos2`: the position of the second transform, as a `(3,)` numpy array\n",
    "    - `quat2`: the orientation of the second transform, as a `(4,)` numpy array representing a unit quaternion\n",
    "- `mujoco.mju_trnVecPose(output_pos, pos, quat, x)` -- transforms a position by multiplying it by a transform\n",
    "    - `output_pos` is a `(3,)` numpy array, which will contain the position resulting from applying the transformation `(pos, quat)` to position `x`\n",
    "    - `pos`: the position component of the transform, as a `(3,)` numpy array\n",
    "    - `quat`: the orientation component of the transform, as a `(4,)` numpy array representing a unit quaternion\n",
    "- `mujoco.mju_negPose(out_pos, out_quat, pos, quat)` -- inverts a transform\n",
    "    - `out_pos`: a `(3,)` numpy array, which will contain the position resulting from inverting the transformation `(pos, quat)` \n",
    "    - `out_quat`: a `(4,)` numpy array, which will contain the position resulting from inverting the transformation `(pos, quat)`\n",
    "    - `pos`: the position component of the transform to invert, as a `(3,)` numpy array\n",
    "    - `quat`: the orientation component of the transform to invert, as a `(4,)` numpy array representing a unit quaternion\n",
    "\n",
    "To obtain the current position and orientation of an object in the world frame, you may use `model.body(<object_name>).pos/quat`, where `<object_name>` will be `panda_hand` for the gripper and `block` for the block. To set the gripper's position, you may use `data.mocap_pos[0] = pos`, and to set the gripper's orientation you may use `data.mocap_quat[0] = quat`. \n",
    "\n",
    "To visualize the resulting gripper pose for debugging purposes, you may use the `render_state` function defined in the previous code cell, which takes as input the `model` and `data` objects created in the same cell.\n",
    "\n",
    "### 3.2)\n",
    "The first waypoint in our path for picking-and-placing the block is to set the gripper floating above the block. We will set the gripper to be 0.5 units above the block on the $z$ axis of the block, and its orientation to be: $x$ axis aligned with block's $y$ axis, $y$ axis aligned with block's $x$ axis, and $z$ axis aligned with block's $-z$ axis."
   ]
  },
  {
   "cell_type": "markdown",
   "id": "0709a627",
   "metadata": {
    "deletable": false,
    "editable": false
   },
   "source": [
    "#### 3.2.1)\n",
    "Find the block's current position and orientation as a quaternion in world coordinates, $X^{B}$.\n",
    "\n",
    "_Points:_ 3"
   ]
  },
  {
   "cell_type": "code",
   "execution_count": 105,
   "id": "05d194e9",
   "metadata": {
    "otter": {
     "tests": [
      "q3.2.1"
     ]
    },
    "tags": [
     "otter_answer_cell"
    ]
   },
   "outputs": [],
   "source": [
    "# Express your position as a (3,) numpy array and your orientation as a (4,) numpy array\n",
    "p_B_321 = model.body(\"block\").pos\n",
    "quat_B_321 = model.body(\"block\").quat"
   ]
  },
  {
   "cell_type": "markdown",
   "id": "3c81b741",
   "metadata": {
    "deletable": false,
    "editable": false
   },
   "source": [
    "#### 3.2.2)\n",
    "Compute the desired position and orientation (as a quaternion) of the gripper in the floating configuration relative to the block, ${}^{B} X^{G_\\text{float}}$. You may wish to first find the matrix representation of the rotation and then use MuJoCo's functions to convert that to a quaternion.\n",
    "\n",
    "_Points:_ 3"
   ]
  },
  {
   "cell_type": "code",
   "execution_count": 106,
   "id": "04179655",
   "metadata": {
    "otter": {
     "tests": [
      "q3.2.2"
     ]
    },
    "tags": [
     "otter_answer_cell"
    ]
   },
   "outputs": [],
   "source": [
    "# Express your position as a (3,) numpy array and your orientation as a (4,) numpy array\n",
    "p_BGfloat_322 = np.array([0, 0, 0.5])\n",
    "quat_BGfloat_322 = np.empty(4)  # Initialize the quaternion\n",
    "#*** YOUR CODE HERE ***\n",
    "# Fill in the values of quat_BGfloat_322\n",
    "R_BG = np.array([[0, 1, 0],\n",
    "                 [1, 0, 0],\n",
    "                 [0, 0, -1]])\n",
    "mujoco.mju_mat2Quat(quat_BGfloat_322, R_BG.reshape(9))"
   ]
  },
  {
   "cell_type": "markdown",
   "id": "16ba4a03",
   "metadata": {
    "deletable": false,
    "editable": false
   },
   "source": [
    "#### 3.2.3)\n",
    "Find the desired world position and orientation (as a quaternion) of the gripper in world coordinates, $X^{G_\\text{float}}$.\n",
    "\n",
    "_Points:_ 3"
   ]
  },
  {
   "cell_type": "code",
   "execution_count": 107,
   "id": "71734dc1",
   "metadata": {
    "otter": {
     "tests": [
      "q3.2.3"
     ]
    },
    "tags": [
     "otter_answer_cell"
    ]
   },
   "outputs": [],
   "source": [
    "# Express your position as a (3,) numpy array and your orientation as a (4,) numpy array\n",
    "p_Gfloat_323 = np.empty(3)     # Initialize the position\n",
    "quat_Gfloat_323 = np.empty(4)  # Initialize the quaternion\n",
    "mujoco.mju_mulPose(p_Gfloat_323, quat_Gfloat_323, p_B_321, quat_B_321, p_BGfloat_322, quat_BGfloat_322)\n",
    "# Fill in the values of p_Gfloat_323 and quat_Gfloat_323"
   ]
  },
  {
   "cell_type": "markdown",
   "id": "7820560b",
   "metadata": {
    "deletable": false,
    "editable": false
   },
   "source": [
    "#### 3.2.4)\n",
    "Set the gripper pose to the desired floating pose and visualize it to make sure that it is correct. \n",
    "\n",
    "_Points:_ 3"
   ]
  },
  {
   "cell_type": "code",
   "execution_count": 108,
   "id": "3948c572",
   "metadata": {
    "otter": {
     "tests": [
      "q3.2.4"
     ]
    },
    "tags": [
     "otter_answer_cell"
    ]
   },
   "outputs": [
    {
     "data": {
      "text/html": [
       "<table class=\"show_images\" style=\"border-spacing:0px;\"><tr><td style=\"padding:1px;\"><img width=\"640\" height=\"480\" style=\"image-rendering:auto; object-fit:cover;\" src=\"data:image/png;base64,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\"/></td></tr></table>"
      ],
      "text/plain": [
       "<IPython.core.display.HTML object>"
      ]
     },
     "metadata": {},
     "output_type": "display_data"
    }
   ],
   "source": [
    "# Set the position and orientation of the mocap object\n",
    "data.mocap_pos[0] = p_Gfloat_323\n",
    "data.mocap_quat[0] = quat_Gfloat_323\n",
    "\n",
    "## Do *not* modify the code below\n",
    "render_state(model, data)\n",
    "ans_324 = np.r_[data.mocap_pos[0], data.mocap_quat[0]] \n"
   ]
  },
  {
   "cell_type": "markdown",
   "id": "97fbb692",
   "metadata": {},
   "source": [
    "### 3.3)\n",
    "Next, we will lower the gripper to be 0.12 units above the block. Given the relative offsets of the block's origin (which is at the center) and the gripper's origin (which is at the top), this should roughly place the gripper's fingers centered around the block."
   ]
  },
  {
   "cell_type": "markdown",
   "id": "79411360",
   "metadata": {
    "deletable": false,
    "editable": false
   },
   "source": [
    "#### 3.3.1)\n",
    "\n",
    "Compute the desired position and orientation (as a quaternion) of the gripper at desired new picking configuration relative to the previous floating configuration, ${}^{G_\\text{float}} X^{G_\\text{pick}}$. \n",
    "\n",
    "_Points:_ 3"
   ]
  },
  {
   "cell_type": "code",
   "execution_count": 109,
   "id": "f71f6a60",
   "metadata": {
    "otter": {
     "tests": [
      "q3.3.1"
     ]
    },
    "tags": [
     "otter_answer_cell"
    ]
   },
   "outputs": [],
   "source": [
    "# Express your position as a (3,) numpy array and your orientation as a (4,) numpy array\n",
    "p_GfloatGpick_331 = np.array([0, 0, 0.38])\n",
    "quat_GfloatGpick_331 = np.array([1, 0, 0, 0])"
   ]
  },
  {
   "cell_type": "markdown",
   "id": "0eb4fe91",
   "metadata": {
    "deletable": false,
    "editable": false
   },
   "source": [
    "#### 3.3.2)\n",
    "Compute the desired position and orientation (as a quaternion) of the gripper at the picking configuration in world coordinates, $X^{G_\\text{pick}}$.\n",
    "\n",
    "_Points:_ 3"
   ]
  },
  {
   "cell_type": "code",
   "execution_count": 110,
   "id": "220b73e7",
   "metadata": {
    "otter": {
     "tests": [
      "q3.3.2"
     ]
    },
    "tags": [
     "otter_answer_cell"
    ]
   },
   "outputs": [],
   "source": [
    "# Express your position as a (3,) numpy array and your orientation as a (4,) numpy array\n",
    "p_Gpick_332 = np.empty(3)     # Initialize the position\n",
    "quat_Gpick_332 = np.empty(4)  # Initialize the quaternion\n",
    "# Fill in the values of p_Gpick_332 and quat_Gpick_332\n",
    "mujoco.mju_mulPose(p_Gpick_332, quat_Gpick_332, p_Gfloat_323, quat_Gfloat_323, p_GfloatGpick_331, quat_GfloatGpick_331)\n"
   ]
  },
  {
   "cell_type": "markdown",
   "id": "dd480a1c",
   "metadata": {
    "deletable": false,
    "editable": false
   },
   "source": [
    "#### 3.3.3)\n",
    "Set the gripper pose to the desired picking pose and visualize it to make sure that it is correct. \n",
    "\n",
    "_Points:_ 3"
   ]
  },
  {
   "cell_type": "code",
   "execution_count": 111,
   "id": "82abe794",
   "metadata": {
    "otter": {
     "tests": [
      "q3.3.3"
     ]
    },
    "tags": [
     "otter_answer_cell"
    ]
   },
   "outputs": [
    {
     "data": {
      "text/html": [
       "<table class=\"show_images\" style=\"border-spacing:0px;\"><tr><td style=\"padding:1px;\"><img width=\"640\" height=\"480\" style=\"image-rendering:auto; object-fit:cover;\" src=\"data:image/png;base64,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\"/></td></tr></table>"
      ],
      "text/plain": [
       "<IPython.core.display.HTML object>"
      ]
     },
     "metadata": {},
     "output_type": "display_data"
    }
   ],
   "source": [
    "# Set the position and orientation of the mocap object\n",
    "data.mocap_pos[0] = p_Gpick_332\n",
    "data.mocap_quat[0] = quat_Gpick_332\n",
    "\n",
    "## Do *not* modify the code below\n",
    "render_state(model, data)\n",
    "ans_333 = np.r_[data.mocap_pos[0], data.mocap_quat[0]] \n"
   ]
  },
  {
   "cell_type": "markdown",
   "id": "01b39550",
   "metadata": {},
   "source": [
    "### 3.4)\n",
    "\n",
    "To avoid over-complicating things, we assume that just by reaching the block, the gripper grasps the block. (Physically grasping the block is non-trivial, but we won't get into that in this course.) With that, the next step is to set the gripper back to the floating position, now holding the block. "
   ]
  },
  {
   "cell_type": "markdown",
   "id": "6fa02026",
   "metadata": {
    "deletable": false,
    "editable": false
   },
   "source": [
    "#### 3.4.1) \n",
    "For the remaining questions, and for visualization in this part, it will be useful to calculate the pose of the \n",
    "block relative to the gripper while the gripper is held, ${}^{B} X^{G_\\text{pick}}$. With a proper grasp, this relative pose is constant until the block is placed. \n",
    "\n",
    "Compute the desired position and orientation (as a quaternion). *Hint: recall that the orientation of the gripper didn't change between floating and picking.*\n",
    "\n",
    "_Points:_ 3"
   ]
  },
  {
   "cell_type": "code",
   "execution_count": 112,
   "id": "a7ecc641",
   "metadata": {
    "otter": {
     "tests": [
      "q3.4.1"
     ]
    },
    "tags": [
     "otter_answer_cell"
    ]
   },
   "outputs": [],
   "source": [
    "# Express your position as a (3,) numpy array and your orientation as a (4,) numpy array\n",
    "\n",
    "p_BGpick_341 = np.array([0, 0, 0.12])\n",
    "quat_BGpick_341 = quat_BGfloat_322"
   ]
  },
  {
   "cell_type": "markdown",
   "id": "dd0a584f",
   "metadata": {
    "deletable": false,
    "editable": false
   },
   "source": [
    "#### 3.4.2) \n",
    "Now simply set the position and orientation of the gripper to match the previous floating configuration.\n",
    "\n",
    "_Points:_ 3"
   ]
  },
  {
   "cell_type": "code",
   "execution_count": 113,
   "id": "adc748b6",
   "metadata": {
    "otter": {
     "tests": [
      "q3.4.2"
     ]
    },
    "tags": [
     "otter_answer_cell"
    ]
   },
   "outputs": [
    {
     "data": {
      "text/html": [
       "<table class=\"show_images\" style=\"border-spacing:0px;\"><tr><td style=\"padding:1px;\"><img width=\"640\" height=\"480\" style=\"image-rendering:auto; object-fit:cover;\" src=\"data:image/png;base64,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\"/></td></tr></table>"
      ],
      "text/plain": [
       "<IPython.core.display.HTML object>"
      ]
     },
     "metadata": {},
     "output_type": "display_data"
    }
   ],
   "source": [
    "# Set the position and orientation of the mocap object\n",
    "data.mocap_pos[0] = p_Gfloat_323\n",
    "data.mocap_quat[0] = quat_Gfloat_323\n",
    "\n",
    "# The next few lines \"attach\" the block to the gripper.\n",
    "# This is not required for obtaining points in the \n",
    "# assignment, but is included for visualization purposes.\n",
    "# This will only \"look right\" if your answers up to this\n",
    "# point are correct.\n",
    "p_GpickB_342 = np.empty(3)\n",
    "quat_GpickB_342 = np.empty(4)\n",
    "mujoco.mju_negPose(p_GpickB_342, quat_GpickB_342, p_BGpick_341, quat_BGpick_341)\n",
    "\n",
    "p_Bfloat = np.empty(3)\n",
    "quat_Bfloat = np.empty(4)\n",
    "# Compute the pose of the block int he world frame by \n",
    "# composing the pose of the gripper in the world frame\n",
    "# and the relative pose of the gripper w.r.t. the \n",
    "# block \n",
    "mujoco.mju_mulPose(p_Bfloat, quat_Bfloat, p_Gfloat_323, quat_Gfloat_323, p_GpickB_342, quat_GpickB_342)\n",
    "model.body(\"block\").pos = p_Bfloat\n",
    "model.body(\"block\").quat = quat_Bfloat\n",
    "\n",
    "## Do *not* modify the code below\n",
    "render_state(model, data)\n",
    "ans_342 = np.r_[data.mocap_pos[0], data.mocap_quat[0]] \n"
   ]
  },
  {
   "cell_type": "markdown",
   "id": "8ad13915",
   "metadata": {},
   "source": [
    "### 3.5)\n",
    "\n",
    "The next step is to move the gripper so that the block hovers above its final desired orientation. Suppose we want the block to end up at position $(-0.3, -0.2, 1.03)$, with its orientation aligned with the world frame. The goal of this stage is to move the gripper so that the block is $0.5$ units above its target position in the $z$ axis, and aligned with its final desired orientation."
   ]
  },
  {
   "cell_type": "markdown",
   "id": "aa08c531",
   "metadata": {
    "deletable": false,
    "editable": false
   },
   "source": [
    "#### 3.5.1) \n",
    "Calculate the desired position and orientation (as a quaternion) of the block in world coordinates at the hovering stage, $X^{B_\\text{hover}}$.\n",
    "\n",
    "_Points:_ 3"
   ]
  },
  {
   "cell_type": "code",
   "execution_count": 114,
   "id": "4fc4e3b5",
   "metadata": {
    "otter": {
     "tests": [
      "q3.5.1"
     ]
    },
    "tags": [
     "otter_answer_cell"
    ]
   },
   "outputs": [],
   "source": [
    "# Express your position as a (3,) numpy array and your orientation as a (4,) numpy array\n",
    "\n",
    "p_Bhover_341 = np.array([-0.3, -0.2, 1.53])\n",
    "quat_Bhover_341 = np.array([1, 0, 0, 0])"
   ]
  },
  {
   "cell_type": "markdown",
   "id": "a82bab67",
   "metadata": {
    "deletable": false,
    "editable": false
   },
   "source": [
    "#### 3.5.2) \n",
    "Calculate the desired position and orientation (as a quaternion) of the gripper in world coordinates at the hovering stage, $X^{G_\\text{hover}}$.\n",
    "\n",
    "_Points:_ 3"
   ]
  },
  {
   "cell_type": "code",
   "execution_count": 115,
   "id": "f6d8ba9f",
   "metadata": {
    "otter": {
     "tests": [
      "q3.5.2"
     ]
    },
    "tags": [
     "otter_answer_cell"
    ]
   },
   "outputs": [],
   "source": [
    "# Express your position as a (3,) numpy array and your orientation as a (4,) numpy array\n",
    "p_Ghover_352 = np.empty(3)     # Initialize the position\n",
    "quat_Ghover_352 = np.empty(4)  # Initialize the quaternion\n",
    "# *** YOUR CODE HERE ***\n",
    "# Fill in the values of p_Ghover_352 and quat_Ghover_352\n",
    "mujoco.mju_mulPose(p_Ghover_352, quat_Ghover_352, p_Bhover_341, quat_Bhover_341, p_BGpick_341, quat_BGpick_341)\n"
   ]
  },
  {
   "cell_type": "markdown",
   "id": "cf99b91e",
   "metadata": {
    "deletable": false,
    "editable": false
   },
   "source": [
    "#### 3.5.3)\n",
    "Set the gripper pose to the desired hovering pose and visualize it to make sure that it is correct. \n",
    "\n",
    "_Points:_ 3"
   ]
  },
  {
   "cell_type": "code",
   "execution_count": 116,
   "id": "3eb085a6",
   "metadata": {
    "otter": {
     "tests": [
      "q3.5.3"
     ]
    },
    "tags": [
     "otter_answer_cell"
    ]
   },
   "outputs": [
    {
     "data": {
      "text/html": [
       "<table class=\"show_images\" style=\"border-spacing:0px;\"><tr><td style=\"padding:1px;\"><img width=\"640\" height=\"480\" style=\"image-rendering:auto; object-fit:cover;\" src=\"data:image/png;base64,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\"/></td></tr></table>"
      ],
      "text/plain": [
       "<IPython.core.display.HTML object>"
      ]
     },
     "metadata": {},
     "output_type": "display_data"
    }
   ],
   "source": [
    "# Set the position and orientation of the mocap object\n",
    "data.mocap_pos[0] = p_Ghover_352\n",
    "data.mocap_quat[0] = quat_Ghover_352\n",
    "\n",
    "# The next few lines \"attach\" the block to the gripper.\n",
    "# This is not required for obtaining points in the \n",
    "# assignment, but is included for visualization purposes.\n",
    "# This will only \"look right\" if your answers up to this\n",
    "# point are correct.\n",
    "p_Bhover = np.empty(3)\n",
    "quat_Bhover = np.empty(4)\n",
    "# Compute the pose of the block int he world frame by \n",
    "# composing the pose of the gripper in the world frame\n",
    "# and the relative pose of the gripper w.r.t. the \n",
    "# block \n",
    "mujoco.mju_mulPose(p_Bhover, quat_Bhover, p_Ghover_352, quat_Ghover_352, p_GpickB_342, quat_GpickB_342)\n",
    "model.body(\"block\").pos = p_Bhover\n",
    "model.body(\"block\").quat = quat_Bhover\n",
    "\n",
    "## Do *not* modify the code below\n",
    "render_state(model, data)\n",
    "ans_353 = np.r_[data.mocap_pos[0], data.mocap_quat[0]] \n"
   ]
  },
  {
   "cell_type": "markdown",
   "id": "47415369",
   "metadata": {},
   "source": [
    "### 3.6)\n",
    "Finally, we will lower the gripper so that the block is at the target position."
   ]
  },
  {
   "cell_type": "markdown",
   "id": "e5bd6aaa",
   "metadata": {
    "deletable": false,
    "editable": false
   },
   "source": [
    "#### 3.6.1)\n",
    "\n",
    "Compute the desired position and orientation (as a quaternion) of the gripper at desired new placing configuration relative to the previous hovering configuration, ${}^{G_\\text{hover}} X^{G_\\text{place}}$. \n",
    "\n",
    "_Points:_ 3"
   ]
  },
  {
   "cell_type": "code",
   "execution_count": 117,
   "id": "dca4c807",
   "metadata": {
    "otter": {
     "tests": [
      "q3.6.1"
     ]
    },
    "tags": [
     "otter_answer_cell"
    ]
   },
   "outputs": [],
   "source": [
    "# Express your position as a (3,) numpy array and your orientation as a (4,) numpy array\n",
    "p_GhoverGplace_361 = np.array([0, 0, 0.5])\n",
    "quat_GhoverGplace_361 = np.array([1, 0, 0, 0])"
   ]
  },
  {
   "cell_type": "markdown",
   "id": "4926e6ce",
   "metadata": {
    "deletable": false,
    "editable": false
   },
   "source": [
    "#### 3.6.2)\n",
    "Compute the desired position and orientation (as a quaternion) of the gripper at the placing configuration in world coordinates, $X^{G_\\text{place}}$.\n",
    "\n",
    "_Points:_ 3"
   ]
  },
  {
   "cell_type": "code",
   "execution_count": 118,
   "id": "4d0b8fd8",
   "metadata": {
    "otter": {
     "tests": [
      "q3.6.2"
     ]
    },
    "tags": [
     "otter_answer_cell"
    ]
   },
   "outputs": [],
   "source": [
    "# Express your position as a (3,) numpy array and your orientation as a (4,) numpy array\n",
    "p_Gplace_362 = np.empty(3)     # Initialize the position\n",
    "quat_Gplace_362 = np.empty(4)  # Initialize the quaternion\n",
    "# *** YOUR CODE HERE ***\n",
    "# Fill in the values of p_Gplace_362 and quat_Gplace_362\n",
    "mujoco.mju_mulPose(p_Gplace_362, quat_Gplace_362, p_Ghover_352, quat_Ghover_352, p_GhoverGplace_361, quat_GhoverGplace_361)\n"
   ]
  },
  {
   "cell_type": "markdown",
   "id": "784a35d8",
   "metadata": {
    "deletable": false,
    "editable": false
   },
   "source": [
    "#### 3.6.3)\n",
    "Set the gripper pose to the desired picking pose and visualize it to make sure that it is correct. \n",
    "\n",
    "_Points:_ 3"
   ]
  },
  {
   "cell_type": "code",
   "execution_count": 119,
   "id": "eacb2ff3",
   "metadata": {
    "otter": {
     "tests": [
      "q3.6.3"
     ]
    },
    "tags": [
     "otter_answer_cell"
    ]
   },
   "outputs": [
    {
     "data": {
      "text/html": [
       "<table class=\"show_images\" style=\"border-spacing:0px;\"><tr><td style=\"padding:1px;\"><img width=\"640\" height=\"480\" style=\"image-rendering:auto; object-fit:cover;\" src=\"data:image/png;base64,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\"/></td></tr></table>"
      ],
      "text/plain": [
       "<IPython.core.display.HTML object>"
      ]
     },
     "metadata": {},
     "output_type": "display_data"
    }
   ],
   "source": [
    "# Set the position and orientation of the mocap object\n",
    "data.mocap_pos[0] = p_Gplace_362\n",
    "data.mocap_quat[0] = quat_Gplace_362\n",
    "\n",
    "# The next few lines \"attach\" the block to the gripper.\n",
    "# This is not required for obtaining points in the \n",
    "# assignment, but is included for visualization purposes.\n",
    "# This will only \"look right\" if your answers up to this\n",
    "# point are correct.\n",
    "p_Bplace = np.empty(3)\n",
    "quat_Bplace = np.empty(4)\n",
    "# Compute the pose of the block int he world frame by \n",
    "# composing the pose of the gripper in the world frame\n",
    "# and the relative pose of the gripper w.r.t. the \n",
    "# block \n",
    "mujoco.mju_mulPose(p_Bplace, quat_Bplace, p_Gplace_362, quat_Gplace_362, p_GpickB_342, quat_GpickB_342)\n",
    "model.body(\"block\").pos = p_Bplace\n",
    "model.body(\"block\").quat = quat_Bplace\n",
    "\n",
    "## Do *not* modify the code below\n",
    "render_state(model, data)\n",
    "ans_363 = np.r_[data.mocap_pos[0], data.mocap_quat[0]]  \n"
   ]
  },
  {
   "cell_type": "markdown",
   "id": "9cb00186",
   "metadata": {
    "deletable": false,
    "editable": false
   },
   "source": [
    "## Submission\n",
    "\n",
    "Make sure you have run all cells in your notebook in order before running the cell below, so that all images/graphs appear in the output. The cell below will generate a zip file for you to submit. **Please save before exporting!**\n",
    "\n",
    "Fill out the answers to all questions and submit your file hw3.ipynb to the HW3 assignment on Gradescope. You are free to resubmit as many times as you wish."
   ]
  },
  {
   "cell_type": "code",
   "execution_count": 120,
   "id": "36cb1a48",
   "metadata": {
    "deletable": false,
    "editable": false
   },
   "outputs": [
    {
     "name": "stdout",
     "output_type": "stream",
     "text": [
      "Running your submission against local test cases...\n",
      "\n",
      "\n",
      "Your submission received the following results when run against available test cases:\n",
      "\n",
      "\n"
     ]
    },
    {
     "data": {
      "text/html": [
       "\n",
       "                    <p>\n",
       "                        Your submission has been exported. Click\n",
       "                        <a href=\"hw3_2025_02_18T19_11_12_801857.zip\" download=\"hw3_2025_02_18T19_11_12_801857.zip\" target=\"_blank\">here</a> to download\n",
       "                        the zip file.\n",
       "                    </p>\n",
       "                "
      ],
      "text/plain": [
       "<IPython.core.display.HTML object>"
      ]
     },
     "metadata": {},
     "output_type": "display_data"
    }
   ],
   "source": [
    "# Save your notebook first, then run this cell to export your submission.\n",
    "grader.export(pdf=False, run_tests=True)"
   ]
  },
  {
   "cell_type": "markdown",
   "id": "77842a55",
   "metadata": {},
   "source": [
    " "
   ]
  }
 ],
 "metadata": {
  "kernelspec": {
   "display_name": "robotic",
   "language": "python",
   "name": "python3"
  },
  "language_info": {
   "codemirror_mode": {
    "name": "ipython",
    "version": 3
   },
   "file_extension": ".py",
   "mimetype": "text/x-python",
   "name": "python",
   "nbconvert_exporter": "python",
   "pygments_lexer": "ipython3",
   "version": "3.10.16"
  },
  "otter": {
   "OK_FORMAT": true,
   "assignment_name": "hw3",
   "tests": {
    "q1.1.1": {
     "name": "q1.1.1",
     "points": 1,
     "suites": [
      {
       "cases": [],
       "scored": true,
       "setup": "",
       "teardown": "",
       "type": "doctest"
      }
     ]
    },
    "q1.1.2": {
     "name": "q1.1.2",
     "points": 1,
     "suites": [
      {
       "cases": [],
       "scored": true,
       "setup": "",
       "teardown": "",
       "type": "doctest"
      }
     ]
    },
    "q1.1.3": {
     "name": "q1.1.3",
     "points": 1,
     "suites": [
      {
       "cases": [],
       "scored": true,
       "setup": "",
       "teardown": "",
       "type": "doctest"
      }
     ]
    },
    "q1.1.4": {
     "name": "q1.1.4",
     "points": 1,
     "suites": [
      {
       "cases": [],
       "scored": true,
       "setup": "",
       "teardown": "",
       "type": "doctest"
      }
     ]
    },
    "q1.2.1": {
     "name": "q1.2.1",
     "points": 2,
     "suites": [
      {
       "cases": [],
       "scored": true,
       "setup": "",
       "teardown": "",
       "type": "doctest"
      }
     ]
    },
    "q1.2.2": {
     "name": "q1.2.2",
     "points": 2,
     "suites": [
      {
       "cases": [],
       "scored": true,
       "setup": "",
       "teardown": "",
       "type": "doctest"
      }
     ]
    },
    "q1.2.3": {
     "name": "q1.2.3",
     "points": 2,
     "suites": [
      {
       "cases": [],
       "scored": true,
       "setup": "",
       "teardown": "",
       "type": "doctest"
      }
     ]
    },
    "q1.3.1": {
     "name": "q1.3.1",
     "points": 2,
     "suites": [
      {
       "cases": [],
       "scored": true,
       "setup": "",
       "teardown": "",
       "type": "doctest"
      }
     ]
    },
    "q1.3.2": {
     "name": "q1.3.2",
     "points": 3,
     "suites": [
      {
       "cases": [],
       "scored": true,
       "setup": "",
       "teardown": "",
       "type": "doctest"
      }
     ]
    },
    "q1.3.3": {
     "name": "q1.3.3",
     "points": 3,
     "suites": [
      {
       "cases": [],
       "scored": true,
       "setup": "",
       "teardown": "",
       "type": "doctest"
      }
     ]
    },
    "q1.3.4": {
     "name": "q1.3.4",
     "points": 3,
     "suites": [
      {
       "cases": [],
       "scored": true,
       "setup": "",
       "teardown": "",
       "type": "doctest"
      }
     ]
    },
    "q1.3.5": {
     "name": "q1.3.5",
     "points": 2,
     "suites": [
      {
       "cases": [],
       "scored": true,
       "setup": "",
       "teardown": "",
       "type": "doctest"
      }
     ]
    },
    "q1.3.6": {
     "name": "q1.3.6",
     "points": 2,
     "suites": [
      {
       "cases": [],
       "scored": true,
       "setup": "",
       "teardown": "",
       "type": "doctest"
      }
     ]
    },
    "q1.3.7": {
     "name": "q1.3.7",
     "points": 3,
     "suites": [
      {
       "cases": [],
       "scored": true,
       "setup": "",
       "teardown": "",
       "type": "doctest"
      }
     ]
    },
    "q1.3.7.1": {
     "name": "q1.3.7.1",
     "points": 1,
     "suites": [
      {
       "cases": [],
       "scored": true,
       "setup": "",
       "teardown": "",
       "type": "doctest"
      }
     ]
    },
    "q1.3.7.2": {
     "name": "q1.3.7.2",
     "points": 1,
     "suites": [
      {
       "cases": [],
       "scored": true,
       "setup": "",
       "teardown": "",
       "type": "doctest"
      }
     ]
    },
    "q2.1": {
     "name": "q2.1",
     "points": 5,
     "suites": [
      {
       "cases": [],
       "scored": true,
       "setup": "",
       "teardown": "",
       "type": "doctest"
      }
     ]
    },
    "q2.2": {
     "name": "q2.2",
     "points": 5,
     "suites": [
      {
       "cases": [],
       "scored": true,
       "setup": "",
       "teardown": "",
       "type": "doctest"
      }
     ]
    },
    "q2.3": {
     "name": "q2.3",
     "points": 5,
     "suites": [
      {
       "cases": [],
       "scored": true,
       "setup": "",
       "teardown": "",
       "type": "doctest"
      }
     ]
    },
    "q2.4": {
     "name": "q2.4",
     "points": 5,
     "suites": [
      {
       "cases": [],
       "scored": true,
       "setup": "",
       "teardown": "",
       "type": "doctest"
      }
     ]
    },
    "q3.1": {
     "name": "q3.1",
     "points": 5,
     "suites": [
      {
       "cases": [],
       "scored": true,
       "setup": "",
       "teardown": "",
       "type": "doctest"
      }
     ]
    },
    "q3.2.1": {
     "name": "q3.2.1",
     "points": 3,
     "suites": [
      {
       "cases": [],
       "scored": true,
       "setup": "",
       "teardown": "",
       "type": "doctest"
      }
     ]
    },
    "q3.2.2": {
     "name": "q3.2.2",
     "points": 3,
     "suites": [
      {
       "cases": [],
       "scored": true,
       "setup": "",
       "teardown": "",
       "type": "doctest"
      }
     ]
    },
    "q3.2.3": {
     "name": "q3.2.3",
     "points": 3,
     "suites": [
      {
       "cases": [],
       "scored": true,
       "setup": "",
       "teardown": "",
       "type": "doctest"
      }
     ]
    },
    "q3.2.4": {
     "name": "q3.2.4",
     "points": 3,
     "suites": [
      {
       "cases": [],
       "scored": true,
       "setup": "",
       "teardown": "",
       "type": "doctest"
      }
     ]
    },
    "q3.3.1": {
     "name": "q3.3.1",
     "points": 3,
     "suites": [
      {
       "cases": [],
       "scored": true,
       "setup": "",
       "teardown": "",
       "type": "doctest"
      }
     ]
    },
    "q3.3.2": {
     "name": "q3.3.2",
     "points": 3,
     "suites": [
      {
       "cases": [],
       "scored": true,
       "setup": "",
       "teardown": "",
       "type": "doctest"
      }
     ]
    },
    "q3.3.3": {
     "name": "q3.3.3",
     "points": 3,
     "suites": [
      {
       "cases": [],
       "scored": true,
       "setup": "",
       "teardown": "",
       "type": "doctest"
      }
     ]
    },
    "q3.4.1": {
     "name": "q3.4.1",
     "points": 3,
     "suites": [
      {
       "cases": [],
       "scored": true,
       "setup": "",
       "teardown": "",
       "type": "doctest"
      }
     ]
    },
    "q3.4.2": {
     "name": "q3.4.2",
     "points": 3,
     "suites": [
      {
       "cases": [],
       "scored": true,
       "setup": "",
       "teardown": "",
       "type": "doctest"
      }
     ]
    },
    "q3.5.1": {
     "name": "q3.5.1",
     "points": 3,
     "suites": [
      {
       "cases": [],
       "scored": true,
       "setup": "",
       "teardown": "",
       "type": "doctest"
      }
     ]
    },
    "q3.5.2": {
     "name": "q3.5.2",
     "points": 3,
     "suites": [
      {
       "cases": [],
       "scored": true,
       "setup": "",
       "teardown": "",
       "type": "doctest"
      }
     ]
    },
    "q3.5.3": {
     "name": "q3.5.3",
     "points": 3,
     "suites": [
      {
       "cases": [],
       "scored": true,
       "setup": "",
       "teardown": "",
       "type": "doctest"
      }
     ]
    },
    "q3.6.1": {
     "name": "q3.6.1",
     "points": 3,
     "suites": [
      {
       "cases": [],
       "scored": true,
       "setup": "",
       "teardown": "",
       "type": "doctest"
      }
     ]
    },
    "q3.6.2": {
     "name": "q3.6.2",
     "points": 3,
     "suites": [
      {
       "cases": [],
       "scored": true,
       "setup": "",
       "teardown": "",
       "type": "doctest"
      }
     ]
    },
    "q3.6.3": {
     "name": "q3.6.3",
     "points": 3,
     "suites": [
      {
       "cases": [],
       "scored": true,
       "setup": "",
       "teardown": "",
       "type": "doctest"
      }
     ]
    }
   }
  }
 },
 "nbformat": 4,
 "nbformat_minor": 5
}
