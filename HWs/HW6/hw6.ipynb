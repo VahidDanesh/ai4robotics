{
 "cells": [
  {
   "cell_type": "code",
   "execution_count": 1,
   "metadata": {
    "deletable": false,
    "editable": false
   },
   "outputs": [],
   "source": [
    "# Initialize Otter\n",
    "import otter\n",
    "grader = otter.Notebook(\"hw6.ipynb\")"
   ]
  },
  {
   "cell_type": "code",
   "execution_count": 2,
   "metadata": {},
   "outputs": [],
   "source": [
    "import numpy as np"
   ]
  },
  {
   "cell_type": "markdown",
   "metadata": {},
   "source": [
    "# FILL IN YOUR NAME AND THE NAME OF YOUR PEER (IF ANY) BELOW"
   ]
  },
  {
   "cell_type": "markdown",
   "metadata": {},
   "source": [
    "**Name**: Vahid Danesh\n",
    "\n",
    "**Peer**: \\<replace this with your peer's name\\>\n",
    "\n",
    "## Collaboration policy\n",
    "Students are responsible for writing their own quizzes, assignments, and exams. For homework assignments, students are welcome (and encouraged) to discuss problems with one peer, **but each student must write their own assignment wrtieup and code individually**. The peer must be listed at the top of the writeup for each assignment. *Note: I will treat AI assistants as peers. That is, students are welcome to discuss problems with an AI assistant, but it is considered cheating to directly obtain an answer by querying the assistant. Please credit any AI assistant that you use.*"
   ]
  },
  {
   "cell_type": "markdown",
   "metadata": {},
   "source": [
    "# Homework 6 -- Motion planning (100 pts)\n",
    "\n",
    "**Due:** Tuesday, March 25th, 2025 at 11:59 pm\n",
    "\n",
    "This homework builds on the material in the slides and Lynch Chapter 10 (on Motion Planning).\n",
    "\n",
    "We will use Jupyter/Colab notebooks throughout the semester for writing code and generating assignment outputs.\n",
    "\n",
    "**Throughout this homework, please use 2D numpy arrays to represent all matrices. The autograder will use a precision of 3 decimal places.**\n",
    "\n",
    "\n",
    "## 1) C-space obstacles (40 pts)\n",
    "\n",
    "### 1.1) 2D polygons (20 pts)\n",
    "\n",
    "In the case of 2D polygonal robots and obstacles, where the robot is only allowed translational motions, we can find the C-space obstacles by sliding the robot around the obstacle and keeping track of the origin of the robot as it touches the boundaries of the obstacle. The C-space obstacle is the polygon formed by connecting the places were the robot's origin was when the robot came in contact with the obstacle.\n",
    "\n",
    "\n",
    "#### 1.1.1) \n",
    "\n",
    "Consider the following robot:\n",
    "\n",
    "<img src=\"https://jorge-a-mendez.github.io/images/ese564s24/q11_robot.png\" width=\"30%\">\n",
    "\n",
    "and obstacle:\n",
    "\n",
    "<img src=\"https://jorge-a-mendez.github.io/images/ese564s24/q11_obstacle.png\" width=\"40%\">\n",
    "\n",
    "The following are all representations of the C-space obstacle for different choices of the origin of the robot. Find the value of $(x,y)$ that corresponds to each of the C-space obstacles. In other words, determine what is the point on the robot where its origin is located, and then express the bottom-left corner of the robot relative to this origin. Assume that the x-axis points right, and the y-axis points up.\n",
    "\n",
    "<img src=\"https://jorge-a-mendez.github.io/images/ese564s24/q11_cspace_1.png\" width=\"24%\"> <img src=\"https://jorge-a-mendez.github.io/images/ese564s24/q11_cspace_2.png\" width=\"24%\"> <img src=\"https://jorge-a-mendez.github.io/images/ese564s24/q11_cspace_3.png\" width=\"24%\"> <img src=\"https://jorge-a-mendez.github.io/images/ese564s24/q11_cspace_4.png\" width=\"24%\">\n",
    "\n"
   ]
  },
  {
   "cell_type": "markdown",
   "metadata": {
    "deletable": false,
    "editable": false
   },
   "source": [
    "What is the value of $x,y$ that yields the first C-space obstacle?\n",
    "\n",
    "_Points:_ 1"
   ]
  },
  {
   "cell_type": "code",
   "execution_count": 3,
   "metadata": {
    "tags": [
     "otter_answer_cell"
    ]
   },
   "outputs": [],
   "source": [
    "# Express your answer as two scalars\n",
    "x_1111 = 0\n",
    "y_1111 = 0"
   ]
  },
  {
   "cell_type": "markdown",
   "metadata": {
    "deletable": false,
    "editable": false
   },
   "source": [
    "What is the value of $x,y$ that yields the second C-space obstacle?\n",
    "\n",
    "_Points:_ 1"
   ]
  },
  {
   "cell_type": "code",
   "execution_count": 4,
   "metadata": {
    "tags": [
     "otter_answer_cell"
    ]
   },
   "outputs": [],
   "source": [
    "# Express your answer as two scalars\n",
    "x_1112 = -1\n",
    "y_1112 = 0"
   ]
  },
  {
   "cell_type": "markdown",
   "metadata": {
    "deletable": false,
    "editable": false
   },
   "source": [
    "What is the value of $x,y$ that yields the third C-space obstacle?\n",
    "\n",
    "_Points:_ 1"
   ]
  },
  {
   "cell_type": "code",
   "execution_count": 5,
   "metadata": {
    "tags": [
     "otter_answer_cell"
    ]
   },
   "outputs": [],
   "source": [
    "# Express your answer as two scalars\n",
    "x_1113 = -0.5\n",
    "y_1113 = -1"
   ]
  },
  {
   "cell_type": "markdown",
   "metadata": {
    "deletable": false,
    "editable": false
   },
   "source": [
    "What is the value of $x,y$ that yields the fourth C-space obstacle?\n",
    "\n",
    "_Points:_ 1"
   ]
  },
  {
   "cell_type": "code",
   "execution_count": 6,
   "metadata": {
    "tags": [
     "otter_answer_cell"
    ]
   },
   "outputs": [],
   "source": [
    "# Express your answer as two scalars\n",
    "x_1114 = -0.5\n",
    "y_1114 = -0.5"
   ]
  },
  {
   "cell_type": "markdown",
   "metadata": {},
   "source": [
    "#### 1.1.2) \n",
    "\n",
    "Consider the following robot:\n",
    "\n",
    "<img src=\"https://jorge-a-mendez.github.io/images/ese564s24/q12_robot.png\" width=\"30%\">\n",
    "\n",
    "and obstacle:\n",
    "\n",
    "<img src=\"https://jorge-a-mendez.github.io/images/ese564s24/q12_obstacle.png\" width=\"30%\">\n",
    "\n",
    "The following are all representations of the C-space obstacle for different choices of the origin of the robot. Find the value of $(x,y)$ that corresponds to each of the C-space obstacles. In other words, determine what is the point on the robot where its origin is located, and then express the bottom-left corner of the robot relative to this origin. Assume that the x-axis points right, and the y-axis points up.\n",
    "\n",
    "<img src=\"https://jorge-a-mendez.github.io/images/ese564s24/q12_cspace_1.png\" width=\"24%\"> <img src=\"https://jorge-a-mendez.github.io/images/ese564s24/q12_cspace_2.png\" width=\"24%\"> <img src=\"https://jorge-a-mendez.github.io/images/ese564s24/q12_cspace_3.png\" width=\"24%\"> <img src=\"https://jorge-a-mendez.github.io/images/ese564s24/q12_cspace_4.png\" width=\"24%\">\n",
    "\n"
   ]
  },
  {
   "cell_type": "markdown",
   "metadata": {
    "deletable": false,
    "editable": false
   },
   "source": [
    "What is the value of $x,y$ that yields the first C-space obstacle?\n",
    "\n",
    "_Points:_ 1"
   ]
  },
  {
   "cell_type": "code",
   "execution_count": 7,
   "metadata": {
    "tags": [
     "otter_answer_cell"
    ]
   },
   "outputs": [],
   "source": [
    "# Express your answer as two scalars\n",
    "x_1121 = -1.4\n",
    "y_1121 = -0.8"
   ]
  },
  {
   "cell_type": "markdown",
   "metadata": {
    "deletable": false,
    "editable": false
   },
   "source": [
    "What is the value of $x,y$ that yields the second C-space obstacle?\n",
    "\n",
    "_Points:_ 1"
   ]
  },
  {
   "cell_type": "code",
   "execution_count": 8,
   "metadata": {
    "tags": [
     "otter_answer_cell"
    ]
   },
   "outputs": [],
   "source": [
    "# Express your answer as two scalars\n",
    "x_1122 = -2.1\n",
    "y_1122 = -0.4   "
   ]
  },
  {
   "cell_type": "markdown",
   "metadata": {
    "deletable": false,
    "editable": false
   },
   "source": [
    "What is the value of $x,y$ that yields the third C-space obstacle?\n",
    "\n",
    "_Points:_ 1"
   ]
  },
  {
   "cell_type": "code",
   "execution_count": 9,
   "metadata": {
    "tags": [
     "otter_answer_cell"
    ]
   },
   "outputs": [],
   "source": [
    "# Express your answer as two scalars\n",
    "x_1123 = 0.0\n",
    "y_1123 = 0.0"
   ]
  },
  {
   "cell_type": "markdown",
   "metadata": {
    "deletable": false,
    "editable": false
   },
   "source": [
    "What is the value of $x,y$ that yields the fourth C-space obstacle?\n",
    "\n",
    "_Points:_ 1"
   ]
  },
  {
   "cell_type": "code",
   "execution_count": 10,
   "metadata": {
    "tags": [
     "otter_answer_cell"
    ]
   },
   "outputs": [],
   "source": [
    "# Express your answer as two scalars\n",
    "x_1124 = -1.4\n",
    "y_1124 = -2.0 # I'm sure that y = -2.2 is correct"
   ]
  },
  {
   "cell_type": "markdown",
   "metadata": {},
   "source": [
    "#### 1.1.3) \n",
    "\n",
    "Consider the following robot:\n",
    "\n",
    "<img src=\"https://jorge-a-mendez.github.io/images/ese564s24/q13_robot.png\" width=\"30%\">\n",
    "\n",
    "and obstacle:\n",
    "\n",
    "<img src=\"https://jorge-a-mendez.github.io/images/ese564s24/q13_obstacle.png\" width=\"40%\">\n",
    "\n",
    "The following are all representations of the C-space obstacle for different choices of the origin of the robot. Find the value of $(x,y)$ that corresponds to each of the C-space obstacles. In other words, determine what is the point on the robot where its origin is located, and then express the bottom-left corner of the robot relative to this origin. Assume that the x-axis points right, and the y-axis points up.\n",
    "\n",
    "<img src=\"https://jorge-a-mendez.github.io/images/ese564s24/q13_cspace_1.png\" width=\"24%\"> <img src=\"https://jorge-a-mendez.github.io/images/ese564s24/q13_cspace_2.png\" width=\"24%\"> <img src=\"https://jorge-a-mendez.github.io/images/ese564s24/q13_cspace_3.png\" width=\"24%\"> <img src=\"https://jorge-a-mendez.github.io/images/ese564s24/q13_cspace_4.png\" width=\"24%\">\n",
    "\n"
   ]
  },
  {
   "cell_type": "markdown",
   "metadata": {
    "deletable": false,
    "editable": false
   },
   "source": [
    "What is the value of $x,y$ that yields the first C-space obstacle?\n",
    "\n",
    "_Points:_ 1"
   ]
  },
  {
   "cell_type": "code",
   "execution_count": 11,
   "metadata": {
    "tags": [
     "otter_answer_cell"
    ]
   },
   "outputs": [],
   "source": [
    "# Express your answer as two scalars\n",
    "x_1131 = -1.4\n",
    "y_1131 = -0.8"
   ]
  },
  {
   "cell_type": "markdown",
   "metadata": {
    "deletable": false,
    "editable": false
   },
   "source": [
    "What is the value of $x,y$ that yields the second C-space obstacle?\n",
    "\n",
    "_Points:_ 1"
   ]
  },
  {
   "cell_type": "code",
   "execution_count": 12,
   "metadata": {
    "tags": [
     "otter_answer_cell"
    ]
   },
   "outputs": [],
   "source": [
    "# Express your answer as two scalars\n",
    "x_1132 = -2.2\n",
    "y_1132 = -0.3"
   ]
  },
  {
   "cell_type": "markdown",
   "metadata": {
    "deletable": false,
    "editable": false
   },
   "source": [
    "What is the value of $x,y$ that yields the third C-space obstacle?\n",
    "\n",
    "_Points:_ 1"
   ]
  },
  {
   "cell_type": "code",
   "execution_count": 13,
   "metadata": {
    "tags": [
     "otter_answer_cell"
    ]
   },
   "outputs": [],
   "source": [
    "# Express your answer as two scalars\n",
    "x_1133 = 0.0\n",
    "y_1133 = 0.0"
   ]
  },
  {
   "cell_type": "markdown",
   "metadata": {
    "deletable": false,
    "editable": false
   },
   "source": [
    "What is the value of $x,y$ that yields the fourth C-space obstacle?\n",
    "\n",
    "_Points:_ 1"
   ]
  },
  {
   "cell_type": "code",
   "execution_count": 14,
   "metadata": {
    "tags": [
     "otter_answer_cell"
    ]
   },
   "outputs": [],
   "source": [
    "# Express your answer as two scalars\n",
    "x_1134 = -1.4\n",
    "y_1134 = -2.2"
   ]
  },
  {
   "cell_type": "markdown",
   "metadata": {},
   "source": [
    "#### 1.1.4) \n",
    "\n",
    "Consider the following robot workspace with an obstacle: \n",
    "\n",
    "<img src=\"https://jorge-a-mendez.github.io/images/ese564s24/q14_workspace.png\" width=\"30%\">\n",
    "\n",
    "The configuration of the robot is given by the (x,y) coordinates of its bottom-left corner. \n"
   ]
  },
  {
   "cell_type": "markdown",
   "metadata": {
    "deletable": false,
    "editable": false
   },
   "source": [
    "Give a configuration of the robot that is in C-free and for which $x>1$ and $y>2$. \n",
    "\n",
    "_Points:_ 2"
   ]
  },
  {
   "cell_type": "code",
   "execution_count": 15,
   "metadata": {
    "tags": [
     "otter_answer_cell"
    ]
   },
   "outputs": [],
   "source": [
    "# Express your answer as two scalars\n",
    "x_1141 = 2.1\n",
    "y_1141 = 2.1"
   ]
  },
  {
   "cell_type": "markdown",
   "metadata": {
    "deletable": false,
    "editable": false
   },
   "source": [
    "Give a configuration of the robot that is in C-obs. \n",
    "\n",
    "_Points:_ 2"
   ]
  },
  {
   "cell_type": "code",
   "execution_count": 16,
   "metadata": {
    "tags": [
     "otter_answer_cell"
    ]
   },
   "outputs": [],
   "source": [
    "# Express your answer as two scalars\n",
    "x_1142 = 1.5\n",
    "y_1142 = 2.1"
   ]
  },
  {
   "cell_type": "markdown",
   "metadata": {},
   "source": [
    "#### 1.1.5) \n",
    "\n",
    "Consider the following robot workspace with an obstacle: \n",
    "\n",
    "<img src=\"https://jorge-a-mendez.github.io/images/ese564s24/q15_workspace.png\" width=\"30%\">\n",
    "\n",
    "The configuration of the robot is given by the (x,y) coordinates of its bottom-left corner. \n"
   ]
  },
  {
   "cell_type": "markdown",
   "metadata": {
    "deletable": false,
    "editable": false
   },
   "source": [
    "Give a configuration of the robot that is in C-free and for which $x>1.8$ and $y>1.8$. \n",
    "\n",
    "_Points:_ 2"
   ]
  },
  {
   "cell_type": "code",
   "execution_count": 17,
   "metadata": {
    "tags": [
     "otter_answer_cell"
    ]
   },
   "outputs": [],
   "source": [
    "# Express your answer as two scalars\n",
    "x_1151 = 4.4\n",
    "y_1151 = 3.1"
   ]
  },
  {
   "cell_type": "markdown",
   "metadata": {
    "deletable": false,
    "editable": false
   },
   "source": [
    "Give a configuration of the robot that is in C-obs. \n",
    "\n",
    "_Points:_ 2"
   ]
  },
  {
   "cell_type": "code",
   "execution_count": 18,
   "metadata": {
    "tags": [
     "otter_answer_cell"
    ]
   },
   "outputs": [],
   "source": [
    "# Express your answer as two scalars\n",
    "x_1152 = 4.0\n",
    "y_1152 = 3.0"
   ]
  },
  {
   "cell_type": "markdown",
   "metadata": {},
   "source": [
    "### 1.2) 2-link planar arm (20 pts)\n",
    "\n",
    "Consider the case of the 2-link planar arm with two revolute joints, as depicted below.\n",
    "\n",
    "<img src=\"https://jorge-a-mendez.github.io/images/ese564s24/twolink_workspace.png\" width=\"30%\">\n",
    "\n",
    "The base of link 1 as at the origin of the workspace, (0,0). The links of the arm both have length $L_1=L_2=3$. There are three obstacles in the workspace, with vertices annotated in the figure. The configuration is given by the angles of the joints, $q_1$ and $q_2$."
   ]
  },
  {
   "cell_type": "markdown",
   "metadata": {
    "deletable": false,
    "editable": false
   },
   "source": [
    "#### 1.2.1) \n",
    "Which of the following represents the configuration space of the robot? Black pixels represent free space, and white pixels represent obstacles.\n",
    "\n",
    "*Hint: consider writing your own piece of code that visualizes the robot in your choice of configurations.*\n",
    "\n",
    "<img src=\"https://jorge-a-mendez.github.io/images/ese564s24/twolink_cspace_option1.png\" width=\"24%\">\n",
    "<img src=\"https://jorge-a-mendez.github.io/images/ese564s24/twolink_cspace_option2.png\" width=\"24%\">\n",
    "<img src=\"https://jorge-a-mendez.github.io/images/ese564s24/twolink_cspace_option3.png\" width=\"24%\">\n",
    "<img src=\"https://jorge-a-mendez.github.io/images/ese564s24/twolink_cspace_option4.png\" width=\"24%\">\n",
    "\n",
    "_Points:_ 3"
   ]
  },
  {
   "cell_type": "code",
   "execution_count": 19,
   "metadata": {
    "tags": [
     "otter_answer_cell"
    ]
   },
   "outputs": [],
   "source": [
    "# Express your answer as a lower-case Python string (e.g., \"a\")\n",
    "ans_121 = \"b\""
   ]
  },
  {
   "cell_type": "markdown",
   "metadata": {
    "deletable": false,
    "editable": false
   },
   "source": [
    "#### 1.2.2) \n",
    "\n",
    "How many connected components does this C-space have?\n",
    "\n",
    "_Points:_ 3"
   ]
  },
  {
   "cell_type": "code",
   "execution_count": 20,
   "metadata": {
    "tags": [
     "otter_answer_cell"
    ]
   },
   "outputs": [],
   "source": [
    "# Express your answer as a scalar integer\n",
    "ans_122 = 2"
   ]
  },
  {
   "cell_type": "markdown",
   "metadata": {
    "deletable": false,
    "editable": false
   },
   "source": [
    "#### 1.2.3) \n",
    "\n",
    "Give an example of a configuration $q_1, q_2$ that is in C-free.\n",
    "\n",
    "_Points:_ 3"
   ]
  },
  {
   "cell_type": "code",
   "execution_count": 21,
   "metadata": {
    "tags": [
     "otter_answer_cell"
    ]
   },
   "outputs": [],
   "source": [
    "# Express your answer as two scalars in [0, 2pi]\n",
    "q1_123 = 1\n",
    "q2_123 = 1"
   ]
  },
  {
   "cell_type": "markdown",
   "metadata": {
    "deletable": false,
    "editable": false
   },
   "source": [
    "#### 1.2.4) \n",
    "\n",
    "Give an example of a configuration $q_1, q_2$ that is in C-obs.\n",
    "\n",
    "_Points:_ 3"
   ]
  },
  {
   "cell_type": "code",
   "execution_count": 22,
   "metadata": {
    "tags": [
     "otter_answer_cell"
    ]
   },
   "outputs": [],
   "source": [
    "# Express your answer as two scalars in [0, 2pi]\n",
    "q1_124 = 1.25 * np.pi\n",
    "q2_124 = 0.75 * np.pi"
   ]
  },
  {
   "cell_type": "markdown",
   "metadata": {
    "deletable": false,
    "editable": false
   },
   "source": [
    "#### 1.2.5) \n",
    "\n",
    "Give an example of a pair of configurations $q_\\text{start}$, $q_\\text{goal}$ in C-free such that there is no collision-free path from start to goal.\n",
    "\n",
    "_Points:_ 4"
   ]
  },
  {
   "cell_type": "code",
   "execution_count": 23,
   "metadata": {
    "tags": [
     "otter_answer_cell"
    ]
   },
   "outputs": [],
   "source": [
    "# Express your answer as four scalars in [0, 2pi]\n",
    "q1start_125 = np.pi\n",
    "q2start_125 = np.pi\n",
    "q1goal_125 = 2 * np.pi\n",
    "q2goal_125 = np.pi"
   ]
  },
  {
   "cell_type": "markdown",
   "metadata": {
    "deletable": false,
    "editable": false
   },
   "source": [
    "#### 1.2.6) \n",
    "\n",
    "Give an example of a pair of configurations $q_\\text{start}$, $q_\\text{goal}$ in C-free such that there is some collision-free path from start to goal.\n",
    "\n",
    "_Points:_ 4"
   ]
  },
  {
   "cell_type": "code",
   "execution_count": 24,
   "metadata": {
    "tags": [
     "otter_answer_cell"
    ]
   },
   "outputs": [],
   "source": [
    "# Express your answer as four scalars in [0, 2pi]\n",
    "q1start_126 = 0.25 * np.pi\n",
    "q2start_126 = 1.0 * np.pi\n",
    "q1goal_126 = 0.25 * np.pi\n",
    "q2goal_126 = 1.25 * np.pi"
   ]
  },
  {
   "cell_type": "markdown",
   "metadata": {},
   "source": [
    "## 2) RRT implementation (60 pts)\n",
    "\n",
    "We are now going to write an implementation of RRT for the Panda robot. Run the code cell below to initialize the relevant variables and visualize the environment with obstacles.\n",
    "\n",
    "The following three functions defined below may be particularly useful for your implementation and debugging: `set_joint_positions` and `get_joint_positions` are self-explanatory, hopefully. `get_home_joint_positions` returns values of the joint positions where the Panda is in a \"default\" configuration. `get_goal_joint_positions` returns values of the joint positions where the Panda is no longer between the obstacles. You can use these to debug your overall RRT implementation.\n",
    "\n",
    "**Do not modify any paths in the cell below, as this code cell must run exactly as is on the autograder, which assumes the paths are fixed to the values set below.**\n",
    "\n",
    "**If you work on Google Colab, you will likely need to set up virtual rendering to be able to visualize things. If you do, please remove any cells that set up virtual rendering before submitting your assignment, as virtual rendering is not allowed on Gradescope and it will likely cause the autograder to fail on all subsequent questions.**"
   ]
  },
  {
   "cell_type": "code",
   "execution_count": 25,
   "metadata": {},
   "outputs": [
    {
     "data": {
      "text/html": [
       "<table class=\"show_images\" style=\"border-spacing:0px;\"><tr><td style=\"padding:1px;\"><img width=\"640\" height=\"480\" style=\"image-rendering:auto; object-fit:cover;\" src=\"data:image/png;base64,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\"/></td></tr></table>"
      ],
      "text/plain": [
       "<IPython.core.display.HTML object>"
      ]
     },
     "metadata": {},
     "output_type": "display_data"
    }
   ],
   "source": [
    "import mujoco\n",
    "import mediapy as media\n",
    "import os\n",
    "import glfw\n",
    "\n",
    "def has_valid_renderer():\n",
    "    \"\"\"Checks if OpenGL can be initialized successfully.\"\"\"\n",
    "    # Try initializing GLFW\n",
    "    if not glfw.init():\n",
    "        print(\"GLFW initialization failed. No valid renderer.\")\n",
    "        return False\n",
    "    \n",
    "    # Try creating a hidden window to test OpenGL context creation\n",
    "    window = glfw.create_window(640, 480, \"Renderer Test\", None, None)\n",
    "    if not window:\n",
    "        print(\"GLFW could not create an OpenGL context. No valid renderer.\")\n",
    "        glfw.terminate()\n",
    "        return False\n",
    "    \n",
    "    glfw.make_context_current(window)\n",
    "    renderer_available = True  # If we reach this point, rendering should work\n",
    "\n",
    "    # Cleanup\n",
    "    glfw.destroy_window(window)\n",
    "    glfw.terminate()\n",
    "    return renderer_available\n",
    "\n",
    "def render_state(model, data):\n",
    "    if not has_valid_renderer():\n",
    "        print(\"Error rendering the scene. Make sure you have a valid OpenGL installation.\")\n",
    "        return\n",
    "\n",
    "    mujoco.mj_forward(model, data)\n",
    "    with mujoco.Renderer(model, height=480, width=640) as renderer:\n",
    "        renderer.update_scene(data, \"front_view\")  # Ensure scene is updated with final simulation state\n",
    "        media.show_image(renderer.render())\n",
    "\n",
    "def set_joint_positions(model, data, joints):\n",
    "    joint_ids = [mujoco.mj_name2id(model, mujoco.mjtObj.mjOBJ_JOINT, f\"panda_joint{i+1}\") for i in range(7)] # SOLUTION\n",
    "    joint_qpos_idx = model.jnt_qposadr[joint_ids]\n",
    "    data.qpos[joint_qpos_idx] = joints\n",
    "    mujoco.mj_forward(model, data)\n",
    "\n",
    "def get_joint_positions(model, data):\n",
    "    joint_ids = [mujoco.mj_name2id(model, mujoco.mjtObj.mjOBJ_JOINT, f\"panda_joint{i+1}\") for i in range(7)] # SOLUTION\n",
    "    joint_qpos_idx = model.jnt_qposadr[joint_ids]\n",
    "    return data.qpos[joint_qpos_idx]\n",
    "\n",
    "def get_home_joint_positions(model, data):\n",
    "    return [0, -np.pi/3, 0, -5*np.pi/6, 0, np.pi/2, np.pi/4]\n",
    "\n",
    "def get_goal_joint_positions(model, data):\n",
    "    return [-np.pi/2, np.pi/6, 0, -np.pi/3, np.pi/2, np.pi/2, np.pi/4]\n",
    "    \n",
    "# Define the MJCF path and mesh directory\n",
    "mjcf_path = 'assets/Panda/panda.mjcf'\n",
    "mesh_dir = 'assets/Panda/meshes/collision/'\n",
    "\n",
    "# Load mesh files into a dictionary\n",
    "assets = {}\n",
    "for file_name in os.listdir(mesh_dir):\n",
    "    file_path = os.path.join(mesh_dir, file_name)\n",
    "    with open(file_path, 'rb') as f:\n",
    "        assets[f'meshes/collision/{file_name}'] = f.read()\n",
    "\n",
    "# Load the MuJoCo model\n",
    "model = mujoco.MjModel.from_xml_path(mjcf_path, assets=assets)\n",
    "data = mujoco.MjData(model)\n",
    "data.qpos[14:16] = 0.04\n",
    "\n",
    "# Call mj_forward to initialize the state\n",
    "mujoco.mj_forward(model, data)\n",
    "\n",
    "# Set the joint positions\n",
    "set_joint_positions(model, data, get_home_joint_positions(model, data))\n",
    "\n",
    "# Render the scene\n",
    "render_state(model, data)"
   ]
  },
  {
   "cell_type": "markdown",
   "metadata": {
    "deletable": false,
    "editable": false
   },
   "source": [
    "##### 2.1)\n",
    "\n",
    "Implement the `sample_point_21` function. With probability $1-\\epsilon$, the function should return a joint configuration sampled uniformly at random from the valid joint ranges. With probability $\\epsilon$, the function should return the goal configuration.\n",
    "\n",
    "\n",
    "_Points:_ 10"
   ]
  },
  {
   "cell_type": "code",
   "execution_count": 26,
   "metadata": {
    "tags": [
     "otter_answer_cell"
    ]
   },
   "outputs": [],
   "source": [
    "def sample_point_21(model, q_goal, epsilon=0.1):\n",
    "    \"\"\" \n",
    "    model: MuJoCo model object\n",
    "    q_goal: goal joint positions, a numpy array of shape (7,)\n",
    "    epsilon: probability of sampling the goal configuration\n",
    "    \n",
    "    Return: a numpy array of shape (7,) representing the sampled joint positions\n",
    "    \"\"\"\n",
    "    if np.random.rand() < epsilon:\n",
    "        return q_goal\n",
    "    \n",
    "    joint_limit = model.jnt_range[1:8]\n",
    "    q_sample = np.random.uniform(joint_limit[:, 0], joint_limit[:, 1])\n",
    "    return q_sample\n",
    "    "
   ]
  },
  {
   "cell_type": "markdown",
   "metadata": {
    "deletable": false,
    "editable": false
   },
   "source": [
    "### 2.2) \n",
    "\n",
    "Let's now implement the `get_nearest_22` function. Because all Panda joints have joint limits, there are no wrap-arounds and we can get away with using Euclidean distance as our distance metric. \n",
    "\n",
    "_Points:_ 10"
   ]
  },
  {
   "cell_type": "code",
   "execution_count": 27,
   "metadata": {
    "tags": [
     "otter_answer_cell"
    ]
   },
   "outputs": [],
   "source": [
    "def get_nearest_22(nodes, q):\n",
    "    \"\"\" \n",
    "    nodes: a numpy array of shape (N, 7) representing the nodes in the tree\n",
    "    q: a numpy array of shape (7,) representing the query point\n",
    "    Return: a numpy array of shape (7,) representing the nearest node in the tree\n",
    "    \"\"\"\n",
    "    distances = np.linalg.norm(nodes - q, axis=1)\n",
    "    nearest_idx = np.argmin(distances)\n",
    "    return nodes[nearest_idx]"
   ]
  },
  {
   "cell_type": "markdown",
   "metadata": {
    "deletable": false,
    "editable": false
   },
   "source": [
    "#### 2.3) \n",
    "The next step is to write the `extend_23` function, which findes `q_new`, a node on the line between `q_sample` and `q_near` that is at a maximum distance of `step_size` from `q_near` (again, using Euclidean distance in the C-space). If `q_sample` is closer to `q_near` than `step_size`, then `q_new=q_sample`.\n",
    "\n",
    "_Points:_ 10"
   ]
  },
  {
   "cell_type": "code",
   "execution_count": 28,
   "metadata": {
    "otter": {
     "tests": [
      "q2.3"
     ]
    },
    "tags": [
     "otter_answer_cell"
    ]
   },
   "outputs": [],
   "source": [
    "def extend_23(q_sample, q_near, step_size):\n",
    "    \"\"\" \n",
    "    q_sample: a numpy array of shape (7,) representing the sampled joint positions\n",
    "    q_near: a numpy array of shape (7,) representing the nearest node in the tree\n",
    "    step_size: a scalar representing the step size\n",
    "    Return: a numpy array of shape (7,) representing the extended joint positions\n",
    "    \"\"\"\n",
    "    direction = q_sample - q_near\n",
    "    norm = np.linalg.norm(direction)\n",
    "    if norm > step_size:\n",
    "        direction = direction / norm * step_size\n",
    "        return q_near + direction\n",
    "    return q_sample"
   ]
  },
  {
   "cell_type": "markdown",
   "metadata": {
    "deletable": false,
    "editable": false
   },
   "source": [
    "#### 2.4)\n",
    "\n",
    "Before moving on to write the main loop of RRT, we need to write a collision-checking function. The function takes as input two configurations, q1 and q2, and checks whether the path between them is collision-free. The way we will do this is to interpolate between the configurations with a fixed step size.\n",
    "\n",
    "To check whether a particular configuration is in collision, we will leverage the MuJoCo simulator. In particular, the following will be useful:\n",
    "- `mujoco.mj_collision(model, data)` runs collision checking internally in MuJoCo. \n",
    "- `data.contact` is set after running `mj_collision`. Look at the documentation to see how to use this information to determine whether there are collisions.\n",
    "\n",
    "*Hint1: this function will require you to set the joint positions multiple times. Make sure that, at the end of the function, your robot is back to its original position.*\n",
    "\n",
    "*Hint2: it is possible that the two configurations are closer than the `max_step_size`. Make sure to handle this case appropriately.*\n",
    "\n",
    "*Hint3: if you use `np_array += other_array`, you will modify `np_array` in-place.*\n",
    "\n",
    "_Points:_ 10"
   ]
  },
  {
   "cell_type": "code",
   "execution_count": 29,
   "metadata": {
    "otter": {
     "tests": [
      "q2.4"
     ]
    },
    "tags": [
     "otter_answer_cell"
    ]
   },
   "outputs": [],
   "source": [
    "def is_collision_free_24(model, data, q1, q2, max_step_size=0.1):\n",
    "    \"\"\" \n",
    "    model: MuJoCo model object\n",
    "    data: MuJoCo data object\n",
    "    q1: a numpy array of shape (7,) representing the start joint positions\n",
    "    q2: a numpy array of shape (7,) representing the end joint positions\n",
    "    max_step_size: a scalar representing the maximum step size for collision checking\n",
    "    \n",
    "    Return: a boolean indicating if the path between q1 and q2 is collision-free\n",
    "    \"\"\"\n",
    "    # Keep the current joint positions\n",
    "    q_init = get_joint_positions(model, data)\n",
    "    \n",
    "    # Check the path between q1 and q2\n",
    "    direction = q2 - q1\n",
    "    norm = np.linalg.norm(direction)\n",
    "    s = np.linspace(0, 1, np.ceil(norm/max_step_size).astype(int)+1)\n",
    "    points = q1 + s[:, None] * direction\n",
    "\n",
    "    # Check each point for collisions\n",
    "    for point in points:\n",
    "        set_joint_positions(model, data, point)\n",
    "        mujoco.mj_forward(model, data)  # Update simulation state\n",
    "        if data.ncon > 0:  # Collision detected\n",
    "            set_joint_positions(model, data, q_init)\n",
    "            return False\n",
    "    \n",
    "    # Restore original joint positions\n",
    "    set_joint_positions(model, data, q_init)\n",
    "    return True\n",
    "\n"
   ]
  },
  {
   "cell_type": "markdown",
   "metadata": {
    "deletable": false,
    "editable": false
   },
   "source": [
    "#### 2.5)\n",
    "\n",
    "Now we're ready to write our RRT main loop. The algorithm loops over: sampling a point, finding the nearest node on the tree, finding the candidate extension node, checking for collisions, and adding to the tree.\n",
    "\n",
    "The function will take as arguments a threshold `threshold` which tells us how close (in Euclidean distance in the C-space) we must be from the goal configuration to consider that the goal has been reached, and a `step_size` to use for the `extend` function. For the purposes of this HW, feel free to use the same `step_size` for collision checking (which effectively just checks whether `q_new` is in collision).\n",
    "\n",
    "Recall that RRT keeps track of the parent of each node. You may use a `parent` dictionary like the one you've used in previous homeworks (e.g., for Dijkstra and A*). \n",
    "\n",
    "*Hint: Numpy arrays cannot be used as keys in a dictionary. You may need to convert back and forth between tuples and arrays. Make sure to respect the typing expected by the functions defined so far.*\n",
    "\n",
    "*Hint 2: You can modify your retrace_plan function from previous HWs to handle trace back from the goal to the start node.*\n",
    "\n",
    "*Hint 3: You can visualize your plans by calling `render_state`, `time.sleep(0.1)` and `IPython.display.clear_output`*\n",
    "\n",
    "\n",
    "_Points:_ 10"
   ]
  },
  {
   "cell_type": "code",
   "execution_count": 30,
   "metadata": {
    "otter": {
     "tests": [
      "q2.5"
     ]
    },
    "tags": [
     "otter_answer_cell"
    ]
   },
   "outputs": [],
   "source": [
    "\n",
    "def panda_rrt_25(q_init, q_goal, model, data, threshold=0.01, step_size=0.1):\n",
    "    \"\"\" \n",
    "    q_init: a numpy array of shape (7,) representing the initial joint positions\n",
    "    q_goal: a numpy array of shape (7,) representing the goal joint positions\n",
    "    model: MuJoCo model object\n",
    "    data: MuJoCo data object\n",
    "    threshold: a scalar representing the distance threshold to the goal\n",
    "    step_size: a scalar representing the step size for extending the tree\n",
    "\n",
    "    Return: a list of numpy arrays representing the sequence of joint positions from q_init to q_goal.    \n",
    "        The first element should be q_init and the final element should be within threshold of q_goal\n",
    "    \"\"\"\n",
    "    \n",
    "    nodes = [q_init]  # Initialize the tree with the start node\n",
    "    parents = [None]  # Keep track of parents for path reconstruction\n",
    "\n",
    "    max_iterations = 100000 \n",
    "\n",
    "    for _ in range(max_iterations):\n",
    "        q_sample = sample_point_21(model, q_goal, epsilon=0.1)\n",
    "        tree_nodes = np.array(nodes)\n",
    "        q_near = get_nearest_22(tree_nodes, q_sample)\n",
    "        nearest_idx = np.argmin(np.linalg.norm(tree_nodes - q_near, axis=1))\n",
    "        q_new = extend_23(q_sample, q_near, step_size)\n",
    "\n",
    "        if is_collision_free_24(model, data, q_near, q_new):\n",
    "            nodes.append(q_new)\n",
    "            parents.append(nearest_idx)\n",
    "\n",
    "            if np.linalg.norm(q_new - q_goal) < threshold:\n",
    "                path = []\n",
    "                current_idx = len(nodes) - 1\n",
    "                while current_idx is not None:\n",
    "                    path.append(nodes[current_idx])\n",
    "                    current_idx = parents[current_idx]\n",
    "                return path[::-1] \n",
    "             \n",
    "    return [] "
   ]
  },
  {
   "cell_type": "markdown",
   "metadata": {
    "deletable": false,
    "editable": false
   },
   "source": [
    "#### 2.6)\n",
    "\n",
    "When using a standard implementation of RRT, it is common practice to apply some smoothing mechanism on the plan obtained from RRT. In this question, we will explore a simple smoothing algorithm.\n",
    "\n",
    "The pseudocode is the following:\n",
    "```\n",
    "for i in 1 ... max_iters\n",
    "    i, j <- sample non-consecutive indices i < j + 1 that are neither the first nor the final in the plan\n",
    "    if q[i] -> q[j] can be connected by a straight-line collision-free path, remove all intermediate steps from the plan\n",
    "```\n",
    "\n",
    "Implement this algorithm as `smooth_path_26` below.\n",
    "\n",
    "_Points:_ 10"
   ]
  },
  {
   "cell_type": "code",
   "execution_count": 31,
   "metadata": {
    "otter": {
     "tests": [
      "q2.6"
     ]
    },
    "tags": [
     "otter_answer_cell"
    ]
   },
   "outputs": [],
   "source": [
    "def smooth_path_26(path, model, data, max_iters=1000):\n",
    "    \"\"\"\n",
    "    path: a list of numpy arrays representing the sequence of joint positions from q_init to q_goal\n",
    "    model: MuJoCo model object\n",
    "    data: MuJoCo data object\n",
    "    max_iters: maximum number of iterations for smoothing\n",
    "\n",
    "    Return: a list of numpy arrays representing the smoothed path \n",
    "    \"\"\"\n",
    "    if len(path) < 3:\n",
    "        return path\n",
    "\n",
    "    for _ in range(max_iters):\n",
    "        possible_indices = list(range(1, len(path) - 1))\n",
    "        if len(possible_indices) < 2:\n",
    "            break  \n",
    "\n",
    "        i, j = np.random.sample(possible_indices, 2)\n",
    "        # Ensure i < j\n",
    "        if i > j:\n",
    "            i, j = j, i\n",
    "\n",
    "        if j <= i + 1:\n",
    "            continue\n",
    "\n",
    "        if is_collision_free_24(model, data, path[i], path[j]):\n",
    "            # Remove intermediate points between i and j\n",
    "            path = path[:i + 1] + path[j:]\n",
    "\n",
    "    return path"
   ]
  },
  {
   "cell_type": "code",
   "execution_count": null,
   "metadata": {},
   "outputs": [],
   "source": []
  },
  {
   "cell_type": "code",
   "execution_count": null,
   "metadata": {},
   "outputs": [],
   "source": []
  },
  {
   "cell_type": "markdown",
   "metadata": {
    "deletable": false,
    "editable": false
   },
   "source": [
    "## Submission\n",
    "\n",
    "Make sure you have run all cells in your notebook in order before running the cell below, so that all images/graphs appear in the output. The cell below will generate a zip file for you to submit. **Please save before exporting!**\n",
    "\n",
    "Fill out the answers to all questions and submit your file hw6.ipynb to the HW4 assignment on Gradescope. You are free to resubmit as many times as you wish."
   ]
  },
  {
   "cell_type": "code",
   "execution_count": 32,
   "metadata": {
    "deletable": false,
    "editable": false
   },
   "outputs": [
    {
     "name": "stdout",
     "output_type": "stream",
     "text": [
      "Running your submission against local test cases...\n",
      "\n",
      "\n",
      "Your submission received the following results when run against available test cases:\n",
      "\n",
      "\n"
     ]
    },
    {
     "data": {
      "text/html": [
       "\n",
       "                    <p>\n",
       "                        Your submission has been exported. Click\n",
       "                        <a href=\"hw6_2025_03_24T15_20_44_164778.zip\" download=\"hw6_2025_03_24T15_20_44_164778.zip\" target=\"_blank\">here</a> to download\n",
       "                        the zip file.\n",
       "                    </p>\n",
       "                "
      ],
      "text/plain": [
       "<IPython.core.display.HTML object>"
      ]
     },
     "metadata": {},
     "output_type": "display_data"
    }
   ],
   "source": [
    "# Save your notebook first, then run this cell to export your submission.\n",
    "grader.export(pdf=False, run_tests=True)"
   ]
  },
  {
   "cell_type": "markdown",
   "metadata": {},
   "source": [
    " "
   ]
  }
 ],
 "metadata": {
  "kernelspec": {
   "display_name": "ai4robotic",
   "language": "python",
   "name": "python3"
  },
  "language_info": {
   "codemirror_mode": {
    "name": "ipython",
    "version": 3
   },
   "file_extension": ".py",
   "mimetype": "text/x-python",
   "name": "python",
   "nbconvert_exporter": "python",
   "pygments_lexer": "ipython3",
   "version": "3.10.16"
  },
  "otter": {
   "OK_FORMAT": true,
   "assignment_name": "hw6",
   "tests": {
    "q1.1.1.1": {
     "name": "q1.1.1.1",
     "points": 1,
     "suites": [
      {
       "cases": [],
       "scored": true,
       "setup": "",
       "teardown": "",
       "type": "doctest"
      }
     ]
    },
    "q1.1.1.2": {
     "name": "q1.1.1.2",
     "points": 1,
     "suites": [
      {
       "cases": [],
       "scored": true,
       "setup": "",
       "teardown": "",
       "type": "doctest"
      }
     ]
    },
    "q1.1.1.3": {
     "name": "q1.1.1.3",
     "points": 1,
     "suites": [
      {
       "cases": [],
       "scored": true,
       "setup": "",
       "teardown": "",
       "type": "doctest"
      }
     ]
    },
    "q1.1.1.4": {
     "name": "q1.1.1.4",
     "points": 1,
     "suites": [
      {
       "cases": [],
       "scored": true,
       "setup": "",
       "teardown": "",
       "type": "doctest"
      }
     ]
    },
    "q1.1.2.1": {
     "name": "q1.1.2.1",
     "points": 1,
     "suites": [
      {
       "cases": [],
       "scored": true,
       "setup": "",
       "teardown": "",
       "type": "doctest"
      }
     ]
    },
    "q1.1.2.2": {
     "name": "q1.1.2.2",
     "points": 1,
     "suites": [
      {
       "cases": [],
       "scored": true,
       "setup": "",
       "teardown": "",
       "type": "doctest"
      }
     ]
    },
    "q1.1.2.3": {
     "name": "q1.1.2.3",
     "points": 1,
     "suites": [
      {
       "cases": [],
       "scored": true,
       "setup": "",
       "teardown": "",
       "type": "doctest"
      }
     ]
    },
    "q1.1.2.4": {
     "name": "q1.1.2.4",
     "points": 1,
     "suites": [
      {
       "cases": [],
       "scored": true,
       "setup": "",
       "teardown": "",
       "type": "doctest"
      }
     ]
    },
    "q1.1.3.1": {
     "name": "q1.1.3.1",
     "points": 1,
     "suites": [
      {
       "cases": [],
       "scored": true,
       "setup": "",
       "teardown": "",
       "type": "doctest"
      }
     ]
    },
    "q1.1.3.2": {
     "name": "q1.1.3.2",
     "points": 1,
     "suites": [
      {
       "cases": [],
       "scored": true,
       "setup": "",
       "teardown": "",
       "type": "doctest"
      }
     ]
    },
    "q1.1.3.3": {
     "name": "q1.1.3.3",
     "points": 1,
     "suites": [
      {
       "cases": [],
       "scored": true,
       "setup": "",
       "teardown": "",
       "type": "doctest"
      }
     ]
    },
    "q1.1.3.4": {
     "name": "q1.1.3.4",
     "points": 1,
     "suites": [
      {
       "cases": [],
       "scored": true,
       "setup": "",
       "teardown": "",
       "type": "doctest"
      }
     ]
    },
    "q1.1.4.1": {
     "name": "q1.1.4.1",
     "points": 2,
     "suites": [
      {
       "cases": [],
       "scored": true,
       "setup": "",
       "teardown": "",
       "type": "doctest"
      }
     ]
    },
    "q1.1.4.2": {
     "name": "q1.1.4.2",
     "points": 2,
     "suites": [
      {
       "cases": [],
       "scored": true,
       "setup": "",
       "teardown": "",
       "type": "doctest"
      }
     ]
    },
    "q1.1.5.1": {
     "name": "q1.1.5.1",
     "points": 2,
     "suites": [
      {
       "cases": [],
       "scored": true,
       "setup": "",
       "teardown": "",
       "type": "doctest"
      }
     ]
    },
    "q1.1.5.2": {
     "name": "q1.1.5.2",
     "points": 2,
     "suites": [
      {
       "cases": [],
       "scored": true,
       "setup": "",
       "teardown": "",
       "type": "doctest"
      }
     ]
    },
    "q1.2.1": {
     "name": "q1.2.1",
     "points": 3,
     "suites": [
      {
       "cases": [],
       "scored": true,
       "setup": "",
       "teardown": "",
       "type": "doctest"
      }
     ]
    },
    "q1.2.2": {
     "name": "q1.2.2",
     "points": 3,
     "suites": [
      {
       "cases": [],
       "scored": true,
       "setup": "",
       "teardown": "",
       "type": "doctest"
      }
     ]
    },
    "q1.2.3": {
     "name": "q1.2.3",
     "points": 3,
     "suites": [
      {
       "cases": [],
       "scored": true,
       "setup": "",
       "teardown": "",
       "type": "doctest"
      }
     ]
    },
    "q1.2.4": {
     "name": "q1.2.4",
     "points": 3,
     "suites": [
      {
       "cases": [],
       "scored": true,
       "setup": "",
       "teardown": "",
       "type": "doctest"
      }
     ]
    },
    "q1.2.5": {
     "name": "q1.2.5",
     "points": 4,
     "suites": [
      {
       "cases": [],
       "scored": true,
       "setup": "",
       "teardown": "",
       "type": "doctest"
      }
     ]
    },
    "q1.2.6": {
     "name": "q1.2.6",
     "points": 4,
     "suites": [
      {
       "cases": [],
       "scored": true,
       "setup": "",
       "teardown": "",
       "type": "doctest"
      }
     ]
    },
    "q2.1": {
     "name": "q2.1",
     "points": 10,
     "suites": [
      {
       "cases": [],
       "scored": true,
       "setup": "",
       "teardown": "",
       "type": "doctest"
      }
     ]
    },
    "q2.2": {
     "name": "q2.2",
     "points": 10,
     "suites": [
      {
       "cases": [],
       "scored": true,
       "setup": "",
       "teardown": "",
       "type": "doctest"
      }
     ]
    },
    "q2.3": {
     "name": "q2.3",
     "points": 10,
     "suites": [
      {
       "cases": [],
       "scored": true,
       "setup": "",
       "teardown": "",
       "type": "doctest"
      }
     ]
    },
    "q2.4": {
     "name": "q2.4",
     "points": 10,
     "suites": [
      {
       "cases": [],
       "scored": true,
       "setup": "",
       "teardown": "",
       "type": "doctest"
      }
     ]
    },
    "q2.5": {
     "name": "q2.5",
     "points": 10,
     "suites": [
      {
       "cases": [],
       "scored": true,
       "setup": "",
       "teardown": "",
       "type": "doctest"
      }
     ]
    },
    "q2.6": {
     "name": "q2.6",
     "points": 10,
     "suites": [
      {
       "cases": [],
       "scored": true,
       "setup": "",
       "teardown": "",
       "type": "doctest"
      }
     ]
    }
   }
  }
 },
 "nbformat": 4,
 "nbformat_minor": 2
}
