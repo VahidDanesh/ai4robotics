{
 "cells": [
  {
   "cell_type": "code",
   "execution_count": null,
   "metadata": {
    "deletable": false,
    "editable": false
   },
   "outputs": [],
   "source": [
    "# Initialize Otter\n",
    "import otter\n",
    "grader = otter.Notebook(\"hw6.ipynb\")"
   ]
  },
  {
   "cell_type": "code",
   "execution_count": null,
   "metadata": {},
   "outputs": [],
   "source": [
    "import numpy as np"
   ]
  },
  {
   "cell_type": "markdown",
   "metadata": {},
   "source": [
    "# FILL IN YOUR NAME AND THE NAME OF YOUR PEER (IF ANY) BELOW"
   ]
  },
  {
   "cell_type": "markdown",
   "metadata": {},
   "source": [
    "**Name**: \\<replace this with your name\\>\n",
    "\n",
    "**Peer**: \\<replace this with your peer's name\\>\n",
    "\n",
    "## Collaboration policy\n",
    "Students are responsible for writing their own quizzes, assignments, and exams. For homework assignments, students are welcome (and encouraged) to discuss problems with one peer, **but each student must write their own assignment wrtieup and code individually**. The peer must be listed at the top of the writeup for each assignment. *Note: I will treat AI assistants as peers. That is, students are welcome to discuss problems with an AI assistant, but it is considered cheating to directly obtain an answer by querying the assistant. Please credit any AI assistant that you use.*"
   ]
  },
  {
   "cell_type": "markdown",
   "metadata": {},
   "source": [
    "# Homework 6 -- Motion planning (100 pts)\n",
    "\n",
    "**Due:** Tuesday, March 25th, 2025 at 11:59 pm\n",
    "\n",
    "This homework builds on the material in the slides and Lynch Chapter 10 (on Motion Planning).\n",
    "\n",
    "We will use Jupyter/Colab notebooks throughout the semester for writing code and generating assignment outputs.\n",
    "\n",
    "**Throughout this homework, please use 2D numpy arrays to represent all matrices. The autograder will use a precision of 3 decimal places.**\n",
    "\n",
    "\n",
    "## 1) C-space obstacles (40 pts)\n",
    "\n",
    "### 1.1) 2D polygons (20 pts)\n",
    "\n",
    "In the case of 2D polygonal robots and obstacles, where the robot is only allowed translational motions, we can find the C-space obstacles by sliding the robot around the obstacle and keeping track of the origin of the robot as it touches the boundaries of the obstacle. The C-space obstacle is the polygon formed by connecting the places were the robot's origin was when the robot came in contact with the obstacle.\n",
    "\n",
    "\n",
    "#### 1.1.1) \n",
    "\n",
    "Consider the following robot:\n",
    "\n",
    "<img src=\"https://jorge-a-mendez.github.io/images/ese564s24/q11_robot.png\" width=\"30%\">\n",
    "\n",
    "and obstacle:\n",
    "\n",
    "<img src=\"https://jorge-a-mendez.github.io/images/ese564s24/q11_obstacle.png\" width=\"40%\">\n",
    "\n",
    "The following are all representations of the C-space obstacle for different choices of the origin of the robot. Find the value of $(x,y)$ that corresponds to each of the C-space obstacles. In other words, determine what is the point on the robot where its origin is located, and then express the bottom-left corner of the robot relative to this origin. Assume that the x-axis points right, and the y-axis points up.\n",
    "\n",
    "<img src=\"https://jorge-a-mendez.github.io/images/ese564s24/q11_cspace_1.png\" width=\"24%\"> <img src=\"https://jorge-a-mendez.github.io/images/ese564s24/q11_cspace_2.png\" width=\"24%\"> <img src=\"https://jorge-a-mendez.github.io/images/ese564s24/q11_cspace_3.png\" width=\"24%\"> <img src=\"https://jorge-a-mendez.github.io/images/ese564s24/q11_cspace_4.png\" width=\"24%\">\n",
    "\n"
   ]
  },
  {
   "cell_type": "markdown",
   "metadata": {
    "deletable": false,
    "editable": false
   },
   "source": [
    "What is the value of $x,y$ that yields the first C-space obstacle?\n",
    "\n",
    "_Points:_ 1"
   ]
  },
  {
   "cell_type": "code",
   "execution_count": null,
   "metadata": {
    "tags": [
     "otter_answer_cell"
    ]
   },
   "outputs": [],
   "source": [
    "# Express your answer as two scalars\n",
    "x_1111 = 0\n",
    "y_1111 = 0"
   ]
  },
  {
   "cell_type": "markdown",
   "metadata": {
    "deletable": false,
    "editable": false
   },
   "source": [
    "What is the value of $x,y$ that yields the second C-space obstacle?\n",
    "\n",
    "_Points:_ 1"
   ]
  },
  {
   "cell_type": "code",
   "execution_count": null,
   "metadata": {
    "tags": [
     "otter_answer_cell"
    ]
   },
   "outputs": [],
   "source": [
    "# Express your answer as two scalars\n",
    "x_1112 = -1\n",
    "y_1112 = 0"
   ]
  },
  {
   "cell_type": "markdown",
   "metadata": {
    "deletable": false,
    "editable": false
   },
   "source": [
    "What is the value of $x,y$ that yields the third C-space obstacle?\n",
    "\n",
    "_Points:_ 1"
   ]
  },
  {
   "cell_type": "code",
   "execution_count": null,
   "metadata": {
    "tags": [
     "otter_answer_cell"
    ]
   },
   "outputs": [],
   "source": [
    "# Express your answer as two scalars\n",
    "x_1113 = -0.5\n",
    "y_1113 = -1"
   ]
  },
  {
   "cell_type": "markdown",
   "metadata": {
    "deletable": false,
    "editable": false
   },
   "source": [
    "What is the value of $x,y$ that yields the fourth C-space obstacle?\n",
    "\n",
    "_Points:_ 1"
   ]
  },
  {
   "cell_type": "code",
   "execution_count": null,
   "metadata": {
    "tags": [
     "otter_answer_cell"
    ]
   },
   "outputs": [],
   "source": [
    "# Express your answer as two scalars\n",
    "x_1114 = -0.5\n",
    "y_1114 = -0.5"
   ]
  },
  {
   "cell_type": "markdown",
   "metadata": {},
   "source": [
    "#### 1.1.2) \n",
    "\n",
    "Consider the following robot:\n",
    "\n",
    "<img src=\"https://jorge-a-mendez.github.io/images/ese564s24/q12_robot.png\" width=\"30%\">\n",
    "\n",
    "and obstacle:\n",
    "\n",
    "<img src=\"https://jorge-a-mendez.github.io/images/ese564s24/q12_obstacle.png\" width=\"30%\">\n",
    "\n",
    "The following are all representations of the C-space obstacle for different choices of the origin of the robot. Find the value of $(x,y)$ that corresponds to each of the C-space obstacles. In other words, determine what is the point on the robot where its origin is located, and then express the bottom-left corner of the robot relative to this origin. Assume that the x-axis points right, and the y-axis points up.\n",
    "\n",
    "<img src=\"https://jorge-a-mendez.github.io/images/ese564s24/q12_cspace_1.png\" width=\"24%\"> <img src=\"https://jorge-a-mendez.github.io/images/ese564s24/q12_cspace_2.png\" width=\"24%\"> <img src=\"https://jorge-a-mendez.github.io/images/ese564s24/q12_cspace_3.png\" width=\"24%\"> <img src=\"https://jorge-a-mendez.github.io/images/ese564s24/q12_cspace_4.png\" width=\"24%\">\n",
    "\n"
   ]
  },
  {
   "cell_type": "markdown",
   "metadata": {
    "deletable": false,
    "editable": false
   },
   "source": [
    "What is the value of $x,y$ that yields the first C-space obstacle?\n",
    "\n",
    "_Points:_ 1"
   ]
  },
  {
   "cell_type": "code",
   "execution_count": null,
   "metadata": {
    "tags": [
     "otter_answer_cell"
    ]
   },
   "outputs": [],
   "source": [
    "# Express your answer as two scalars\n",
    "x_1121 = ...\n",
    "y_1121 = ..."
   ]
  },
  {
   "cell_type": "markdown",
   "metadata": {
    "deletable": false,
    "editable": false
   },
   "source": [
    "What is the value of $x,y$ that yields the second C-space obstacle?\n",
    "\n",
    "_Points:_ 1"
   ]
  },
  {
   "cell_type": "code",
   "execution_count": null,
   "metadata": {
    "tags": [
     "otter_answer_cell"
    ]
   },
   "outputs": [],
   "source": [
    "# Express your answer as two scalars\n",
    "x_1122 = ...\n",
    "y_1122 = ..."
   ]
  },
  {
   "cell_type": "markdown",
   "metadata": {
    "deletable": false,
    "editable": false
   },
   "source": [
    "What is the value of $x,y$ that yields the third C-space obstacle?\n",
    "\n",
    "_Points:_ 1"
   ]
  },
  {
   "cell_type": "code",
   "execution_count": null,
   "metadata": {
    "tags": [
     "otter_answer_cell"
    ]
   },
   "outputs": [],
   "source": [
    "# Express your answer as two scalars\n",
    "x_1123 = ...\n",
    "y_1123 = ..."
   ]
  },
  {
   "cell_type": "markdown",
   "metadata": {
    "deletable": false,
    "editable": false
   },
   "source": [
    "What is the value of $x,y$ that yields the fourth C-space obstacle?\n",
    "\n",
    "_Points:_ 1"
   ]
  },
  {
   "cell_type": "code",
   "execution_count": null,
   "metadata": {
    "tags": [
     "otter_answer_cell"
    ]
   },
   "outputs": [],
   "source": [
    "# Express your answer as two scalars\n",
    "x_1124 = ...\n",
    "y_1124 = ..."
   ]
  },
  {
   "cell_type": "markdown",
   "metadata": {},
   "source": [
    "#### 1.1.3) \n",
    "\n",
    "Consider the following robot:\n",
    "\n",
    "<img src=\"https://jorge-a-mendez.github.io/images/ese564s24/q13_robot.png\" width=\"30%\">\n",
    "\n",
    "and obstacle:\n",
    "\n",
    "<img src=\"https://jorge-a-mendez.github.io/images/ese564s24/q13_obstacle.png\" width=\"40%\">\n",
    "\n",
    "The following are all representations of the C-space obstacle for different choices of the origin of the robot. Find the value of $(x,y)$ that corresponds to each of the C-space obstacles. In other words, determine what is the point on the robot where its origin is located, and then express the bottom-left corner of the robot relative to this origin. Assume that the x-axis points right, and the y-axis points up.\n",
    "\n",
    "<img src=\"https://jorge-a-mendez.github.io/images/ese564s24/q13_cspace_1.png\" width=\"24%\"> <img src=\"https://jorge-a-mendez.github.io/images/ese564s24/q13_cspace_2.png\" width=\"24%\"> <img src=\"https://jorge-a-mendez.github.io/images/ese564s24/q13_cspace_3.png\" width=\"24%\"> <img src=\"https://jorge-a-mendez.github.io/images/ese564s24/q13_cspace_4.png\" width=\"24%\">\n",
    "\n"
   ]
  },
  {
   "cell_type": "markdown",
   "metadata": {
    "deletable": false,
    "editable": false
   },
   "source": [
    "What is the value of $x,y$ that yields the first C-space obstacle?\n",
    "\n",
    "_Points:_ 1"
   ]
  },
  {
   "cell_type": "code",
   "execution_count": null,
   "metadata": {
    "tags": [
     "otter_answer_cell"
    ]
   },
   "outputs": [],
   "source": [
    "# Express your answer as two scalars\n",
    "x_1131 = ...\n",
    "y_1131 = ..."
   ]
  },
  {
   "cell_type": "markdown",
   "metadata": {
    "deletable": false,
    "editable": false
   },
   "source": [
    "What is the value of $x,y$ that yields the second C-space obstacle?\n",
    "\n",
    "_Points:_ 1"
   ]
  },
  {
   "cell_type": "code",
   "execution_count": null,
   "metadata": {
    "tags": [
     "otter_answer_cell"
    ]
   },
   "outputs": [],
   "source": [
    "# Express your answer as two scalars\n",
    "x_1132 = ...\n",
    "y_1132 = ..."
   ]
  },
  {
   "cell_type": "markdown",
   "metadata": {
    "deletable": false,
    "editable": false
   },
   "source": [
    "What is the value of $x,y$ that yields the third C-space obstacle?\n",
    "\n",
    "_Points:_ 1"
   ]
  },
  {
   "cell_type": "code",
   "execution_count": null,
   "metadata": {
    "tags": [
     "otter_answer_cell"
    ]
   },
   "outputs": [],
   "source": [
    "# Express your answer as two scalars\n",
    "x_1133 = ...\n",
    "y_1133 = ..."
   ]
  },
  {
   "cell_type": "markdown",
   "metadata": {
    "deletable": false,
    "editable": false
   },
   "source": [
    "What is the value of $x,y$ that yields the fourth C-space obstacle?\n",
    "\n",
    "_Points:_ 1"
   ]
  },
  {
   "cell_type": "code",
   "execution_count": null,
   "metadata": {
    "tags": [
     "otter_answer_cell"
    ]
   },
   "outputs": [],
   "source": [
    "# Express your answer as two scalars\n",
    "x_1134 = ...\n",
    "y_1134 = ..."
   ]
  },
  {
   "cell_type": "markdown",
   "metadata": {},
   "source": [
    "#### 1.1.4) \n",
    "\n",
    "Consider the following robot workspace with an obstacle: \n",
    "\n",
    "<img src=\"https://jorge-a-mendez.github.io/images/ese564s24/q14_workspace.png\" width=\"30%\">\n",
    "\n",
    "The configuration of the robot is given by the (x,y) coordinates of its bottom-left corner. \n"
   ]
  },
  {
   "cell_type": "markdown",
   "metadata": {
    "deletable": false,
    "editable": false
   },
   "source": [
    "Give a configuration of the robot that is in C-free and for which $x>1$ and $y>2$. \n",
    "\n",
    "_Points:_ 2"
   ]
  },
  {
   "cell_type": "code",
   "execution_count": null,
   "metadata": {
    "tags": [
     "otter_answer_cell"
    ]
   },
   "outputs": [],
   "source": [
    "# Express your answer as two scalars\n",
    "x_1141 = ...\n",
    "y_1141 = ..."
   ]
  },
  {
   "cell_type": "markdown",
   "metadata": {
    "deletable": false,
    "editable": false
   },
   "source": [
    "Give a configuration of the robot that is in C-obs. \n",
    "\n",
    "_Points:_ 2"
   ]
  },
  {
   "cell_type": "code",
   "execution_count": null,
   "metadata": {
    "tags": [
     "otter_answer_cell"
    ]
   },
   "outputs": [],
   "source": [
    "# Express your answer as two scalars\n",
    "x_1142 = ...\n",
    "y_1142 = ..."
   ]
  },
  {
   "cell_type": "markdown",
   "metadata": {},
   "source": [
    "#### 1.1.5) \n",
    "\n",
    "Consider the following robot workspace with an obstacle: \n",
    "\n",
    "<img src=\"https://jorge-a-mendez.github.io/images/ese564s24/q15_workspace.png\" width=\"30%\">\n",
    "\n",
    "The configuration of the robot is given by the (x,y) coordinates of its bottom-left corner. \n"
   ]
  },
  {
   "cell_type": "markdown",
   "metadata": {
    "deletable": false,
    "editable": false
   },
   "source": [
    "Give a configuration of the robot that is in C-free and for which $x>1.8$ and $y>1.8$. \n",
    "\n",
    "_Points:_ 2"
   ]
  },
  {
   "cell_type": "code",
   "execution_count": null,
   "metadata": {
    "tags": [
     "otter_answer_cell"
    ]
   },
   "outputs": [],
   "source": [
    "# Express your answer as two scalars\n",
    "x_1151 = ...\n",
    "y_1151 = ..."
   ]
  },
  {
   "cell_type": "markdown",
   "metadata": {
    "deletable": false,
    "editable": false
   },
   "source": [
    "Give a configuration of the robot that is in C-obs. \n",
    "\n",
    "_Points:_ 2"
   ]
  },
  {
   "cell_type": "code",
   "execution_count": null,
   "metadata": {
    "tags": [
     "otter_answer_cell"
    ]
   },
   "outputs": [],
   "source": [
    "# Express your answer as two scalars\n",
    "x_1152 = ...\n",
    "y_1152 = ..."
   ]
  },
  {
   "cell_type": "markdown",
   "metadata": {},
   "source": [
    "### 1.2) 2-link planar arm (20 pts)\n",
    "\n",
    "Consider the case of the 2-link planar arm with two revolute joints, as depicted below.\n",
    "\n",
    "<img src=\"https://jorge-a-mendez.github.io/images/ese564s24/twolink_workspace.png\" width=\"30%\">\n",
    "\n",
    "The base of link 1 as at the origin of the workspace, (0,0). The links of the arm both have length $L_1=L_2=3$. There are three obstacles in the workspace, with vertices annotated in the figure. The configuration is given by the angles of the joints, $q_1$ and $q_2$."
   ]
  },
  {
   "cell_type": "markdown",
   "metadata": {
    "deletable": false,
    "editable": false
   },
   "source": [
    "#### 1.2.1) \n",
    "Which of the following represents the configuration space of the robot? Black pixels represent free space, and white pixels represent obstacles.\n",
    "\n",
    "*Hint: consider writing your own piece of code that visualizes the robot in your choice of configurations.*\n",
    "\n",
    "<img src=\"https://jorge-a-mendez.github.io/images/ese564s24/twolink_cspace_option1.png\" width=\"24%\">\n",
    "<img src=\"https://jorge-a-mendez.github.io/images/ese564s24/twolink_cspace_option2.png\" width=\"24%\">\n",
    "<img src=\"https://jorge-a-mendez.github.io/images/ese564s24/twolink_cspace_option3.png\" width=\"24%\">\n",
    "<img src=\"https://jorge-a-mendez.github.io/images/ese564s24/twolink_cspace_option4.png\" width=\"24%\">\n",
    "\n",
    "_Points:_ 3"
   ]
  },
  {
   "cell_type": "code",
   "execution_count": null,
   "metadata": {
    "tags": [
     "otter_answer_cell"
    ]
   },
   "outputs": [],
   "source": [
    "# Express your answer as a lower-case Python string (e.g., \"a\")\n",
    "ans_121 = ..."
   ]
  },
  {
   "cell_type": "markdown",
   "metadata": {
    "deletable": false,
    "editable": false
   },
   "source": [
    "#### 1.2.2) \n",
    "\n",
    "How many connected components does this C-space have?\n",
    "\n",
    "_Points:_ 3"
   ]
  },
  {
   "cell_type": "code",
   "execution_count": null,
   "metadata": {
    "tags": [
     "otter_answer_cell"
    ]
   },
   "outputs": [],
   "source": [
    "# Express your answer as a scalar integer\n",
    "ans_122 = ..."
   ]
  },
  {
   "cell_type": "markdown",
   "metadata": {
    "deletable": false,
    "editable": false
   },
   "source": [
    "#### 1.2.3) \n",
    "\n",
    "Give an example of a configuration $q_1, q_2$ that is in C-free.\n",
    "\n",
    "_Points:_ 3"
   ]
  },
  {
   "cell_type": "code",
   "execution_count": null,
   "metadata": {
    "tags": [
     "otter_answer_cell"
    ]
   },
   "outputs": [],
   "source": [
    "# Express your answer as two scalars in [0, 2pi]\n",
    "q1_123 = ...\n",
    "q2_123 = ..."
   ]
  },
  {
   "cell_type": "markdown",
   "metadata": {
    "deletable": false,
    "editable": false
   },
   "source": [
    "#### 1.2.4) \n",
    "\n",
    "Give an example of a configuration $q_1, q_2$ that is in C-obs.\n",
    "\n",
    "_Points:_ 3"
   ]
  },
  {
   "cell_type": "code",
   "execution_count": null,
   "metadata": {
    "tags": [
     "otter_answer_cell"
    ]
   },
   "outputs": [],
   "source": [
    "# Express your answer as two scalars in [0, 2pi]\n",
    "q1_124 = ...\n",
    "q2_124 = ..."
   ]
  },
  {
   "cell_type": "markdown",
   "metadata": {
    "deletable": false,
    "editable": false
   },
   "source": [
    "#### 1.2.5) \n",
    "\n",
    "Give an example of a pair of configurations $q_\\text{start}$, $q_\\text{goal}$ in C-free such that there is no collision-free path from start to goal.\n",
    "\n",
    "_Points:_ 4"
   ]
  },
  {
   "cell_type": "code",
   "execution_count": null,
   "metadata": {
    "tags": [
     "otter_answer_cell"
    ]
   },
   "outputs": [],
   "source": [
    "# Express your answer as four scalars in [0, 2pi]\n",
    "q1start_125 = ...\n",
    "q2start_125 = ...\n",
    "q1goal_125 = ...\n",
    "q2goal_125 = ..."
   ]
  },
  {
   "cell_type": "markdown",
   "metadata": {
    "deletable": false,
    "editable": false
   },
   "source": [
    "#### 1.2.6) \n",
    "\n",
    "Give an example of a pair of configurations $q_\\text{start}$, $q_\\text{goal}$ in C-free such that there is some collision-free path from start to goal.\n",
    "\n",
    "_Points:_ 4"
   ]
  },
  {
   "cell_type": "code",
   "execution_count": null,
   "metadata": {
    "tags": [
     "otter_answer_cell"
    ]
   },
   "outputs": [],
   "source": [
    "# Express your answer as four scalars in [0, 2pi]\n",
    "q1start_126 = ...\n",
    "q2start_126 = ...\n",
    "q1goal_126 = ...\n",
    "q2goal_126 = ..."
   ]
  },
  {
   "cell_type": "markdown",
   "metadata": {},
   "source": [
    "## 2) RRT implementation (60 pts)\n",
    "\n",
    "We are now going to write an implementation of RRT for the Panda robot. Run the code cell below to initialize the relevant variables and visualize the environment with obstacles.\n",
    "\n",
    "The following three functions defined below may be particularly useful for your implementation and debugging: `set_joint_positions` and `get_joint_positions` are self-explanatory, hopefully. `get_home_joint_positions` returns values of the joint positions where the Panda is in a \"default\" configuration. `get_goal_joint_positions` returns values of the joint positions where the Panda is no longer between the obstacles. You can use these to debug your overall RRT implementation.\n",
    "\n",
    "**Do not modify any paths in the cell below, as this code cell must run exactly as is on the autograder, which assumes the paths are fixed to the values set below.**\n",
    "\n",
    "**If you work on Google Colab, you will likely need to set up virtual rendering to be able to visualize things. If you do, please remove any cells that set up virtual rendering before submitting your assignment, as virtual rendering is not allowed on Gradescope and it will likely cause the autograder to fail on all subsequent questions.**"
   ]
  },
  {
   "cell_type": "code",
   "execution_count": null,
   "metadata": {},
   "outputs": [],
   "source": [
    "import mujoco\n",
    "import mediapy as media\n",
    "import os\n",
    "import glfw\n",
    "\n",
    "def has_valid_renderer():\n",
    "    \"\"\"Checks if OpenGL can be initialized successfully.\"\"\"\n",
    "    # Try initializing GLFW\n",
    "    if not glfw.init():\n",
    "        print(\"GLFW initialization failed. No valid renderer.\")\n",
    "        return False\n",
    "    \n",
    "    # Try creating a hidden window to test OpenGL context creation\n",
    "    window = glfw.create_window(640, 480, \"Renderer Test\", None, None)\n",
    "    if not window:\n",
    "        print(\"GLFW could not create an OpenGL context. No valid renderer.\")\n",
    "        glfw.terminate()\n",
    "        return False\n",
    "    \n",
    "    glfw.make_context_current(window)\n",
    "    renderer_available = True  # If we reach this point, rendering should work\n",
    "\n",
    "    # Cleanup\n",
    "    glfw.destroy_window(window)\n",
    "    glfw.terminate()\n",
    "    return renderer_available\n",
    "\n",
    "def render_state(model, data):\n",
    "    if not has_valid_renderer():\n",
    "        print(\"Error rendering the scene. Make sure you have a valid OpenGL installation.\")\n",
    "        return\n",
    "\n",
    "    mujoco.mj_forward(model, data)\n",
    "    with mujoco.Renderer(model, height=480, width=640) as renderer:\n",
    "        renderer.update_scene(data, \"front_view\")  # Ensure scene is updated with final simulation state\n",
    "        media.show_image(renderer.render())\n",
    "\n",
    "def set_joint_positions(model, data, joints):\n",
    "    joint_ids = [mujoco.mj_name2id(model, mujoco.mjtObj.mjOBJ_JOINT, f\"panda_joint{i+1}\") for i in range(7)] # SOLUTION\n",
    "    joint_qpos_idx = model.jnt_qposadr[joint_ids]\n",
    "    data.qpos[joint_qpos_idx] = joints\n",
    "    mujoco.mj_forward(model, data)\n",
    "\n",
    "def get_joint_positions(model, data):\n",
    "    joint_ids = [mujoco.mj_name2id(model, mujoco.mjtObj.mjOBJ_JOINT, f\"panda_joint{i+1}\") for i in range(7)] # SOLUTION\n",
    "    joint_qpos_idx = model.jnt_qposadr[joint_ids]\n",
    "    return data.qpos[joint_qpos_idx]\n",
    "\n",
    "def get_home_joint_positions(model, data):\n",
    "    return [0, -np.pi/3, 0, -5*np.pi/6, 0, np.pi/2, np.pi/4]\n",
    "\n",
    "def get_goal_joint_positions(model, data):\n",
    "    return [-np.pi/2, np.pi/6, 0, -np.pi/3, np.pi/2, np.pi/2, np.pi/4]\n",
    "    \n",
    "# Define the MJCF path and mesh directory\n",
    "mjcf_path = 'assets/Panda/panda.mjcf'\n",
    "mesh_dir = 'assets/Panda/meshes/collision/'\n",
    "\n",
    "# Load mesh files into a dictionary\n",
    "assets = {}\n",
    "for file_name in os.listdir(mesh_dir):\n",
    "    file_path = os.path.join(mesh_dir, file_name)\n",
    "    with open(file_path, 'rb') as f:\n",
    "        assets[f'meshes/collision/{file_name}'] = f.read()\n",
    "\n",
    "# Load the MuJoCo model\n",
    "model = mujoco.MjModel.from_xml_path(mjcf_path, assets=assets)\n",
    "data = mujoco.MjData(model)\n",
    "data.qpos[14:16] = 0.04\n",
    "\n",
    "# Call mj_forward to initialize the state\n",
    "mujoco.mj_forward(model, data)\n",
    "\n",
    "# Set the joint positions\n",
    "set_joint_positions(model, data, get_home_joint_positions(model, data))\n",
    "\n",
    "# Render the scene\n",
    "render_state(model, data)"
   ]
  },
  {
   "cell_type": "markdown",
   "metadata": {
    "deletable": false,
    "editable": false
   },
   "source": [
    "##### 2.1)\n",
    "\n",
    "Implement the `sample_point_21` function. With probability $1-\\epsilon$, the function should return a joint configuration sampled uniformly at random from the valid joint ranges. With probability $\\epsilon$, the function should return the goal configuration.\n",
    "\n",
    "\n",
    "_Points:_ 10"
   ]
  },
  {
   "cell_type": "code",
   "execution_count": null,
   "metadata": {
    "tags": [
     "otter_answer_cell"
    ]
   },
   "outputs": [],
   "source": [
    "def sample_point_21(model, q_goal, epsilon=0.1):\n",
    "    \"\"\" \n",
    "    model: MuJoCo model object\n",
    "    q_goal: goal joint positions, a numpy array of shape (7,)\n",
    "    epsilon: probability of sampling the goal configuration\n",
    "    \n",
    "    Return: a numpy array of shape (7,) representing the sampled joint positions\n",
    "    \"\"\"\n",
    "    ..."
   ]
  },
  {
   "cell_type": "markdown",
   "metadata": {
    "deletable": false,
    "editable": false
   },
   "source": [
    "### 2.2) \n",
    "\n",
    "Let's now implement the `get_nearest_22` function. Because all Panda joints have joint limits, there are no wrap-arounds and we can get away with using Euclidean distance as our distance metric. \n",
    "\n",
    "_Points:_ 10"
   ]
  },
  {
   "cell_type": "code",
   "execution_count": null,
   "metadata": {
    "tags": [
     "otter_answer_cell"
    ]
   },
   "outputs": [],
   "source": [
    "def get_nearest_22(nodes, q):\n",
    "    \"\"\" \n",
    "    nodes: a numpy array of shape (N, 7) representing the nodes in the tree\n",
    "    q: a numpy array of shape (7,) representing the query point\n",
    "    Return: a numpy array of shape (7,) representing the nearest node in the tree\n",
    "    \"\"\"\n",
    "    ..."
   ]
  },
  {
   "cell_type": "markdown",
   "metadata": {
    "deletable": false,
    "editable": false
   },
   "source": [
    "#### 2.3) \n",
    "The next step is to write the `extend_23` function, which findes `q_new`, a node on the line between `q_sample` and `q_near` that is at a maximum distance of `step_size` from `q_near` (again, using Euclidean distance in the C-space). If `q_sample` is closer to `q_near` than `step_size`, then `q_new=q_sample`.\n",
    "\n",
    "_Points:_ 10"
   ]
  },
  {
   "cell_type": "code",
   "execution_count": null,
   "metadata": {
    "otter": {
     "tests": [
      "q2.3"
     ]
    },
    "tags": [
     "otter_answer_cell"
    ]
   },
   "outputs": [],
   "source": [
    "def extend_23(q_sample, q_near, step_size):\n",
    "    \"\"\" \n",
    "    q_sample: a numpy array of shape (7,) representing the sampled joint positions\n",
    "    q_near: a numpy array of shape (7,) representing the nearest node in the tree\n",
    "    step_size: a scalar representing the step size\n",
    "    Return: a numpy array of shape (7,) representing the extended joint positions\n",
    "    \"\"\"\n",
    "    ..."
   ]
  },
  {
   "cell_type": "markdown",
   "metadata": {
    "deletable": false,
    "editable": false
   },
   "source": [
    "#### 2.4)\n",
    "\n",
    "Before moving on to write the main loop of RRT, we need to write a collision-checking function. The function takes as input two configurations, q1 and q2, and checks whether the path between them is collision-free. The way we will do this is to interpolate between the configurations with a fixed step size.\n",
    "\n",
    "To check whether a particular configuration is in collision, we will leverage the MuJoCo simulator. In particular, the following will be useful:\n",
    "- `mujoco.mj_collision(model, data)` runs collision checking internally in MuJoCo. \n",
    "- `data.contact` is set after running `mj_collision`. Look at the documentation to see how to use this information to determine whether there are collisions.\n",
    "\n",
    "*Hint1: this function will require you to set the joint positions multiple times. Make sure that, at the end of the function, your robot is back to its original position.*\n",
    "\n",
    "*Hint2: it is possible that the two configurations are closer than the `max_step_size`. Make sure to handle this case appropriately.*\n",
    "\n",
    "*Hint3: if you use `np_array += other_array`, you will modify `np_array` in-place.*\n",
    "\n",
    "_Points:_ 10"
   ]
  },
  {
   "cell_type": "code",
   "execution_count": null,
   "metadata": {
    "otter": {
     "tests": [
      "q2.4"
     ]
    },
    "tags": [
     "otter_answer_cell"
    ]
   },
   "outputs": [],
   "source": [
    "def is_collision_free_24(model, data, q1, q2, max_step_size=0.1):\n",
    "    \"\"\" \n",
    "    model: MuJoCo model object\n",
    "    data: MuJoCo data object\n",
    "    q1: a numpy array of shape (7,) representing the start joint positions\n",
    "    q2: a numpy array of shape (7,) representing the end joint positions\n",
    "    max_step_size: a scalar representing the maximum step size for collision checking\n",
    "    \n",
    "    Return: a boolean indicating if the path between q1 and q2 is collision-free\n",
    "    \"\"\"\n",
    "    ..."
   ]
  },
  {
   "cell_type": "markdown",
   "metadata": {
    "deletable": false,
    "editable": false
   },
   "source": [
    "#### 2.5)\n",
    "\n",
    "Now we're ready to write our RRT main loop. The algorithm loops over: sampling a point, finding the nearest node on the tree, finding the candidate extension node, checking for collisions, and adding to the tree.\n",
    "\n",
    "The function will take as arguments a threshold `threshold` which tells us how close (in Euclidean distance in the C-space) we must be from the goal configuration to consider that the goal has been reached, and a `step_size` to use for the `extend` function. For the purposes of this HW, feel free to use the same `step_size` for collision checking (which effectively just checks whether `q_new` is in collision).\n",
    "\n",
    "Recall that RRT keeps track of the parent of each node. You may use a `parent` dictionary like the one you've used in previous homeworks (e.g., for Dijkstra and A*). \n",
    "\n",
    "*Hint: Numpy arrays cannot be used as keys in a dictionary. You may need to convert back and forth between tuples and arrays. Make sure to respect the typing expected by the functions defined so far.*\n",
    "\n",
    "*Hint 2: You can modify your retrace_plan function from previous HWs to handle trace back from the goal to the start node.*\n",
    "\n",
    "*Hint 3: You can visualize your plans by calling `render_state`, `time.sleep(0.1)` and `IPython.display.clear_output`*\n",
    "\n",
    "\n",
    "_Points:_ 10"
   ]
  },
  {
   "cell_type": "code",
   "execution_count": null,
   "metadata": {
    "otter": {
     "tests": [
      "q2.5"
     ]
    },
    "tags": [
     "otter_answer_cell"
    ]
   },
   "outputs": [],
   "source": [
    "\n",
    "def panda_rrt_25(q_init, q_goal, model, data, threshold=0.01, step_size=0.1):\n",
    "    \"\"\" \n",
    "    q_init: a numpy array of shape (7,) representing the initial joint positions\n",
    "    q_goal: a numpy array of shape (7,) representing the goal joint positions\n",
    "    model: MuJoCo model object\n",
    "    data: MuJoCo data object\n",
    "    threshold: a scalar representing the distance threshold to the goal\n",
    "    step_size: a scalar representing the step size for extending the tree\n",
    "\n",
    "    Return: a list of numpy arrays representing the sequence of joint positions from q_init to q_goal.    \n",
    "        The first element should be q_init and the final element should be within threshold of q_goal\n",
    "    \"\"\"\n",
    "    ..."
   ]
  },
  {
   "cell_type": "markdown",
   "metadata": {
    "deletable": false,
    "editable": false
   },
   "source": [
    "#### 2.6)\n",
    "\n",
    "When using a standard implementation of RRT, it is common practice to apply some smoothing mechanism on the plan obtained from RRT. In this question, we will explore a simple smoothing algorithm.\n",
    "\n",
    "The pseudocode is the following:\n",
    "```\n",
    "for i in 1 ... max_iters\n",
    "    i, j <- sample non-consecutive indices i < j + 1 that are neither the first nor the final in the plan\n",
    "    if q[i] -> q[j] can be connected by a straight-line collision-free path, remove all intermediate steps from the plan\n",
    "```\n",
    "\n",
    "Implement this algorithm as `smooth_path_26` below.\n",
    "\n",
    "_Points:_ 10"
   ]
  },
  {
   "cell_type": "code",
   "execution_count": null,
   "metadata": {
    "otter": {
     "tests": [
      "q2.6"
     ]
    },
    "tags": [
     "otter_answer_cell"
    ]
   },
   "outputs": [],
   "source": [
    "def smooth_path_26(path, model, data, max_iters=1000):\n",
    "    \"\"\"\n",
    "    path: a list of numpy arrays representing the sequence of joint positions from q_init to q_goal\n",
    "    model: MuJoCo model object\n",
    "    data: MuJoCo data object\n",
    "    max_iters: maximum number of iterations for smoothing\n",
    "\n",
    "    Return: a list of numpy arrays representing the smoothed path \n",
    "    \"\"\"\n",
    "    ..."
   ]
  },
  {
   "cell_type": "markdown",
   "metadata": {
    "deletable": false,
    "editable": false
   },
   "source": [
    "## Submission\n",
    "\n",
    "Make sure you have run all cells in your notebook in order before running the cell below, so that all images/graphs appear in the output. The cell below will generate a zip file for you to submit. **Please save before exporting!**\n",
    "\n",
    "Fill out the answers to all questions and submit your file hw6.ipynb to the HW4 assignment on Gradescope. You are free to resubmit as many times as you wish."
   ]
  },
  {
   "cell_type": "code",
   "execution_count": null,
   "metadata": {
    "deletable": false,
    "editable": false
   },
   "outputs": [],
   "source": [
    "# Save your notebook first, then run this cell to export your submission.\n",
    "grader.export(pdf=False, run_tests=True)"
   ]
  },
  {
   "cell_type": "markdown",
   "metadata": {},
   "source": [
    " "
   ]
  }
 ],
 "metadata": {
  "kernelspec": {
   "display_name": "ese564s25",
   "language": "python",
   "name": "python3"
  },
  "language_info": {
   "codemirror_mode": {
    "name": "ipython",
    "version": 3
   },
   "file_extension": ".py",
   "mimetype": "text/x-python",
   "name": "python",
   "nbconvert_exporter": "python",
   "pygments_lexer": "ipython3",
   "version": "3.11.11"
  },
  "otter": {
   "OK_FORMAT": true,
   "assignment_name": "hw6",
   "tests": {
    "q1.1.1.1": {
     "name": "q1.1.1.1",
     "points": 1,
     "suites": [
      {
       "cases": [],
       "scored": true,
       "setup": "",
       "teardown": "",
       "type": "doctest"
      }
     ]
    },
    "q1.1.1.2": {
     "name": "q1.1.1.2",
     "points": 1,
     "suites": [
      {
       "cases": [],
       "scored": true,
       "setup": "",
       "teardown": "",
       "type": "doctest"
      }
     ]
    },
    "q1.1.1.3": {
     "name": "q1.1.1.3",
     "points": 1,
     "suites": [
      {
       "cases": [],
       "scored": true,
       "setup": "",
       "teardown": "",
       "type": "doctest"
      }
     ]
    },
    "q1.1.1.4": {
     "name": "q1.1.1.4",
     "points": 1,
     "suites": [
      {
       "cases": [],
       "scored": true,
       "setup": "",
       "teardown": "",
       "type": "doctest"
      }
     ]
    },
    "q1.1.2.1": {
     "name": "q1.1.2.1",
     "points": 1,
     "suites": [
      {
       "cases": [],
       "scored": true,
       "setup": "",
       "teardown": "",
       "type": "doctest"
      }
     ]
    },
    "q1.1.2.2": {
     "name": "q1.1.2.2",
     "points": 1,
     "suites": [
      {
       "cases": [],
       "scored": true,
       "setup": "",
       "teardown": "",
       "type": "doctest"
      }
     ]
    },
    "q1.1.2.3": {
     "name": "q1.1.2.3",
     "points": 1,
     "suites": [
      {
       "cases": [],
       "scored": true,
       "setup": "",
       "teardown": "",
       "type": "doctest"
      }
     ]
    },
    "q1.1.2.4": {
     "name": "q1.1.2.4",
     "points": 1,
     "suites": [
      {
       "cases": [],
       "scored": true,
       "setup": "",
       "teardown": "",
       "type": "doctest"
      }
     ]
    },
    "q1.1.3.1": {
     "name": "q1.1.3.1",
     "points": 1,
     "suites": [
      {
       "cases": [],
       "scored": true,
       "setup": "",
       "teardown": "",
       "type": "doctest"
      }
     ]
    },
    "q1.1.3.2": {
     "name": "q1.1.3.2",
     "points": 1,
     "suites": [
      {
       "cases": [],
       "scored": true,
       "setup": "",
       "teardown": "",
       "type": "doctest"
      }
     ]
    },
    "q1.1.3.3": {
     "name": "q1.1.3.3",
     "points": 1,
     "suites": [
      {
       "cases": [],
       "scored": true,
       "setup": "",
       "teardown": "",
       "type": "doctest"
      }
     ]
    },
    "q1.1.3.4": {
     "name": "q1.1.3.4",
     "points": 1,
     "suites": [
      {
       "cases": [],
       "scored": true,
       "setup": "",
       "teardown": "",
       "type": "doctest"
      }
     ]
    },
    "q1.1.4.1": {
     "name": "q1.1.4.1",
     "points": 2,
     "suites": [
      {
       "cases": [],
       "scored": true,
       "setup": "",
       "teardown": "",
       "type": "doctest"
      }
     ]
    },
    "q1.1.4.2": {
     "name": "q1.1.4.2",
     "points": 2,
     "suites": [
      {
       "cases": [],
       "scored": true,
       "setup": "",
       "teardown": "",
       "type": "doctest"
      }
     ]
    },
    "q1.1.5.1": {
     "name": "q1.1.5.1",
     "points": 2,
     "suites": [
      {
       "cases": [],
       "scored": true,
       "setup": "",
       "teardown": "",
       "type": "doctest"
      }
     ]
    },
    "q1.1.5.2": {
     "name": "q1.1.5.2",
     "points": 2,
     "suites": [
      {
       "cases": [],
       "scored": true,
       "setup": "",
       "teardown": "",
       "type": "doctest"
      }
     ]
    },
    "q1.2.1": {
     "name": "q1.2.1",
     "points": 3,
     "suites": [
      {
       "cases": [],
       "scored": true,
       "setup": "",
       "teardown": "",
       "type": "doctest"
      }
     ]
    },
    "q1.2.2": {
     "name": "q1.2.2",
     "points": 3,
     "suites": [
      {
       "cases": [],
       "scored": true,
       "setup": "",
       "teardown": "",
       "type": "doctest"
      }
     ]
    },
    "q1.2.3": {
     "name": "q1.2.3",
     "points": 3,
     "suites": [
      {
       "cases": [],
       "scored": true,
       "setup": "",
       "teardown": "",
       "type": "doctest"
      }
     ]
    },
    "q1.2.4": {
     "name": "q1.2.4",
     "points": 3,
     "suites": [
      {
       "cases": [],
       "scored": true,
       "setup": "",
       "teardown": "",
       "type": "doctest"
      }
     ]
    },
    "q1.2.5": {
     "name": "q1.2.5",
     "points": 4,
     "suites": [
      {
       "cases": [],
       "scored": true,
       "setup": "",
       "teardown": "",
       "type": "doctest"
      }
     ]
    },
    "q1.2.6": {
     "name": "q1.2.6",
     "points": 4,
     "suites": [
      {
       "cases": [],
       "scored": true,
       "setup": "",
       "teardown": "",
       "type": "doctest"
      }
     ]
    },
    "q2.1": {
     "name": "q2.1",
     "points": 10,
     "suites": [
      {
       "cases": [],
       "scored": true,
       "setup": "",
       "teardown": "",
       "type": "doctest"
      }
     ]
    },
    "q2.2": {
     "name": "q2.2",
     "points": 10,
     "suites": [
      {
       "cases": [],
       "scored": true,
       "setup": "",
       "teardown": "",
       "type": "doctest"
      }
     ]
    },
    "q2.3": {
     "name": "q2.3",
     "points": 10,
     "suites": [
      {
       "cases": [],
       "scored": true,
       "setup": "",
       "teardown": "",
       "type": "doctest"
      }
     ]
    },
    "q2.4": {
     "name": "q2.4",
     "points": 10,
     "suites": [
      {
       "cases": [],
       "scored": true,
       "setup": "",
       "teardown": "",
       "type": "doctest"
      }
     ]
    },
    "q2.5": {
     "name": "q2.5",
     "points": 10,
     "suites": [
      {
       "cases": [],
       "scored": true,
       "setup": "",
       "teardown": "",
       "type": "doctest"
      }
     ]
    },
    "q2.6": {
     "name": "q2.6",
     "points": 10,
     "suites": [
      {
       "cases": [],
       "scored": true,
       "setup": "",
       "teardown": "",
       "type": "doctest"
      }
     ]
    }
   }
  }
 },
 "nbformat": 4,
 "nbformat_minor": 2
}
