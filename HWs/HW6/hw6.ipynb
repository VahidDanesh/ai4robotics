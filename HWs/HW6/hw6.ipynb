{
 "cells": [
  {
   "cell_type": "code",
   "execution_count": 65,
   "metadata": {
    "deletable": false,
    "editable": false
   },
   "outputs": [],
   "source": [
    "# Initialize Otter\n",
    "import otter\n",
    "grader = otter.Notebook(\"hw6.ipynb\")"
   ]
  },
  {
   "cell_type": "code",
   "execution_count": 66,
   "metadata": {},
   "outputs": [],
   "source": [
    "import numpy as np"
   ]
  },
  {
   "cell_type": "markdown",
   "metadata": {},
   "source": [
    "# FILL IN YOUR NAME AND THE NAME OF YOUR PEER (IF ANY) BELOW"
   ]
  },
  {
   "cell_type": "markdown",
   "metadata": {},
   "source": [
    "**Name**: Vahid Danesh\n",
    "\n",
    "**Peer**: \\<replace this with your peer's name\\>\n",
    "\n",
    "## Collaboration policy\n",
    "Students are responsible for writing their own quizzes, assignments, and exams. For homework assignments, students are welcome (and encouraged) to discuss problems with one peer, **but each student must write their own assignment wrtieup and code individually**. The peer must be listed at the top of the writeup for each assignment. *Note: I will treat AI assistants as peers. That is, students are welcome to discuss problems with an AI assistant, but it is considered cheating to directly obtain an answer by querying the assistant. Please credit any AI assistant that you use.*"
   ]
  },
  {
   "cell_type": "markdown",
   "metadata": {},
   "source": [
    "# Homework 6 -- Motion planning (100 pts)\n",
    "\n",
    "**Due:** Tuesday, March 25th, 2025 at 11:59 pm\n",
    "\n",
    "This homework builds on the material in the slides and Lynch Chapter 10 (on Motion Planning).\n",
    "\n",
    "We will use Jupyter/Colab notebooks throughout the semester for writing code and generating assignment outputs.\n",
    "\n",
    "**Throughout this homework, please use 2D numpy arrays to represent all matrices. The autograder will use a precision of 3 decimal places.**\n",
    "\n",
    "\n",
    "## 1) C-space obstacles (40 pts)\n",
    "\n",
    "### 1.1) 2D polygons (20 pts)\n",
    "\n",
    "In the case of 2D polygonal robots and obstacles, where the robot is only allowed translational motions, we can find the C-space obstacles by sliding the robot around the obstacle and keeping track of the origin of the robot as it touches the boundaries of the obstacle. The C-space obstacle is the polygon formed by connecting the places were the robot's origin was when the robot came in contact with the obstacle.\n",
    "\n",
    "\n",
    "#### 1.1.1) \n",
    "\n",
    "Consider the following robot:\n",
    "\n",
    "<img src=\"https://jorge-a-mendez.github.io/images/ese564s24/q11_robot.png\" width=\"30%\">\n",
    "\n",
    "and obstacle:\n",
    "\n",
    "<img src=\"https://jorge-a-mendez.github.io/images/ese564s24/q11_obstacle.png\" width=\"40%\">\n",
    "\n",
    "The following are all representations of the C-space obstacle for different choices of the origin of the robot. Find the value of $(x,y)$ that corresponds to each of the C-space obstacles. In other words, determine what is the point on the robot where its origin is located, and then express the bottom-left corner of the robot relative to this origin. Assume that the x-axis points right, and the y-axis points up.\n",
    "\n",
    "<img src=\"https://jorge-a-mendez.github.io/images/ese564s24/q11_cspace_1.png\" width=\"24%\"> <img src=\"https://jorge-a-mendez.github.io/images/ese564s24/q11_cspace_2.png\" width=\"24%\"> <img src=\"https://jorge-a-mendez.github.io/images/ese564s24/q11_cspace_3.png\" width=\"24%\"> <img src=\"https://jorge-a-mendez.github.io/images/ese564s24/q11_cspace_4.png\" width=\"24%\">\n",
    "\n"
   ]
  },
  {
   "cell_type": "markdown",
   "metadata": {
    "deletable": false,
    "editable": false
   },
   "source": [
    "What is the value of $x,y$ that yields the first C-space obstacle?\n",
    "\n",
    "_Points:_ 1"
   ]
  },
  {
   "cell_type": "code",
   "execution_count": 67,
   "metadata": {
    "tags": [
     "otter_answer_cell"
    ]
   },
   "outputs": [],
   "source": [
    "# Express your answer as two scalars\n",
    "x_1111 = 0\n",
    "y_1111 = 0"
   ]
  },
  {
   "cell_type": "markdown",
   "metadata": {
    "deletable": false,
    "editable": false
   },
   "source": [
    "What is the value of $x,y$ that yields the second C-space obstacle?\n",
    "\n",
    "_Points:_ 1"
   ]
  },
  {
   "cell_type": "code",
   "execution_count": 68,
   "metadata": {
    "tags": [
     "otter_answer_cell"
    ]
   },
   "outputs": [],
   "source": [
    "# Express your answer as two scalars\n",
    "x_1112 = -1\n",
    "y_1112 = 0"
   ]
  },
  {
   "cell_type": "markdown",
   "metadata": {
    "deletable": false,
    "editable": false
   },
   "source": [
    "What is the value of $x,y$ that yields the third C-space obstacle?\n",
    "\n",
    "_Points:_ 1"
   ]
  },
  {
   "cell_type": "code",
   "execution_count": 69,
   "metadata": {
    "tags": [
     "otter_answer_cell"
    ]
   },
   "outputs": [],
   "source": [
    "# Express your answer as two scalars\n",
    "x_1113 = -0.5\n",
    "y_1113 = -1"
   ]
  },
  {
   "cell_type": "markdown",
   "metadata": {
    "deletable": false,
    "editable": false
   },
   "source": [
    "What is the value of $x,y$ that yields the fourth C-space obstacle?\n",
    "\n",
    "_Points:_ 1"
   ]
  },
  {
   "cell_type": "code",
   "execution_count": 70,
   "metadata": {
    "tags": [
     "otter_answer_cell"
    ]
   },
   "outputs": [],
   "source": [
    "# Express your answer as two scalars\n",
    "x_1114 = -0.5\n",
    "y_1114 = -0.5"
   ]
  },
  {
   "cell_type": "markdown",
   "metadata": {},
   "source": [
    "#### 1.1.2) \n",
    "\n",
    "Consider the following robot:\n",
    "\n",
    "<img src=\"https://jorge-a-mendez.github.io/images/ese564s24/q12_robot.png\" width=\"30%\">\n",
    "\n",
    "and obstacle:\n",
    "\n",
    "<img src=\"https://jorge-a-mendez.github.io/images/ese564s24/q12_obstacle.png\" width=\"30%\">\n",
    "\n",
    "The following are all representations of the C-space obstacle for different choices of the origin of the robot. Find the value of $(x,y)$ that corresponds to each of the C-space obstacles. In other words, determine what is the point on the robot where its origin is located, and then express the bottom-left corner of the robot relative to this origin. Assume that the x-axis points right, and the y-axis points up.\n",
    "\n",
    "<img src=\"https://jorge-a-mendez.github.io/images/ese564s24/q12_cspace_1.png\" width=\"24%\"> <img src=\"https://jorge-a-mendez.github.io/images/ese564s24/q12_cspace_2.png\" width=\"24%\"> <img src=\"https://jorge-a-mendez.github.io/images/ese564s24/q12_cspace_3.png\" width=\"24%\"> <img src=\"https://jorge-a-mendez.github.io/images/ese564s24/q12_cspace_4.png\" width=\"24%\">\n",
    "\n"
   ]
  },
  {
   "cell_type": "markdown",
   "metadata": {
    "deletable": false,
    "editable": false
   },
   "source": [
    "What is the value of $x,y$ that yields the first C-space obstacle?\n",
    "\n",
    "_Points:_ 1"
   ]
  },
  {
   "cell_type": "code",
   "execution_count": 71,
   "metadata": {
    "tags": [
     "otter_answer_cell"
    ]
   },
   "outputs": [],
   "source": [
    "# Express your answer as two scalars\n",
    "x_1121 = -1.4\n",
    "y_1121 = -0.8"
   ]
  },
  {
   "cell_type": "markdown",
   "metadata": {
    "deletable": false,
    "editable": false
   },
   "source": [
    "What is the value of $x,y$ that yields the second C-space obstacle?\n",
    "\n",
    "_Points:_ 1"
   ]
  },
  {
   "cell_type": "code",
   "execution_count": 72,
   "metadata": {
    "tags": [
     "otter_answer_cell"
    ]
   },
   "outputs": [],
   "source": [
    "# Express your answer as two scalars\n",
    "x_1122 = -2.1\n",
    "y_1122 = -0.4   "
   ]
  },
  {
   "cell_type": "markdown",
   "metadata": {
    "deletable": false,
    "editable": false
   },
   "source": [
    "What is the value of $x,y$ that yields the third C-space obstacle?\n",
    "\n",
    "_Points:_ 1"
   ]
  },
  {
   "cell_type": "code",
   "execution_count": 73,
   "metadata": {
    "tags": [
     "otter_answer_cell"
    ]
   },
   "outputs": [],
   "source": [
    "# Express your answer as two scalars\n",
    "x_1123 = 0.0\n",
    "y_1123 = 0.0"
   ]
  },
  {
   "cell_type": "markdown",
   "metadata": {
    "deletable": false,
    "editable": false
   },
   "source": [
    "What is the value of $x,y$ that yields the fourth C-space obstacle?\n",
    "\n",
    "_Points:_ 1"
   ]
  },
  {
   "cell_type": "code",
   "execution_count": 74,
   "metadata": {
    "tags": [
     "otter_answer_cell"
    ]
   },
   "outputs": [],
   "source": [
    "# Express your answer as two scalars\n",
    "x_1124 = -1.4\n",
    "y_1124 = -2.0 # if we assume upper corner this is true, if we assume lower corners, x, y = -1.4, -2.2 is true"
   ]
  },
  {
   "cell_type": "markdown",
   "metadata": {},
   "source": [
    "#### 1.1.3) \n",
    "\n",
    "Consider the following robot:\n",
    "\n",
    "<img src=\"https://jorge-a-mendez.github.io/images/ese564s24/q13_robot.png\" width=\"30%\">\n",
    "\n",
    "and obstacle:\n",
    "\n",
    "<img src=\"https://jorge-a-mendez.github.io/images/ese564s24/q13_obstacle.png\" width=\"40%\">\n",
    "\n",
    "The following are all representations of the C-space obstacle for different choices of the origin of the robot. Find the value of $(x,y)$ that corresponds to each of the C-space obstacles. In other words, determine what is the point on the robot where its origin is located, and then express the bottom-left corner of the robot relative to this origin. Assume that the x-axis points right, and the y-axis points up.\n",
    "\n",
    "<img src=\"https://jorge-a-mendez.github.io/images/ese564s24/q13_cspace_1.png\" width=\"24%\"> <img src=\"https://jorge-a-mendez.github.io/images/ese564s24/q13_cspace_2.png\" width=\"24%\"> <img src=\"https://jorge-a-mendez.github.io/images/ese564s24/q13_cspace_3.png\" width=\"24%\"> <img src=\"https://jorge-a-mendez.github.io/images/ese564s24/q13_cspace_4.png\" width=\"24%\">\n",
    "\n"
   ]
  },
  {
   "cell_type": "markdown",
   "metadata": {
    "deletable": false,
    "editable": false
   },
   "source": [
    "What is the value of $x,y$ that yields the first C-space obstacle?\n",
    "\n",
    "_Points:_ 1"
   ]
  },
  {
   "cell_type": "code",
   "execution_count": 75,
   "metadata": {
    "tags": [
     "otter_answer_cell"
    ]
   },
   "outputs": [],
   "source": [
    "# Express your answer as two scalars\n",
    "x_1131 = -1.4\n",
    "y_1131 = -0.8"
   ]
  },
  {
   "cell_type": "markdown",
   "metadata": {
    "deletable": false,
    "editable": false
   },
   "source": [
    "What is the value of $x,y$ that yields the second C-space obstacle?\n",
    "\n",
    "_Points:_ 1"
   ]
  },
  {
   "cell_type": "code",
   "execution_count": 76,
   "metadata": {
    "tags": [
     "otter_answer_cell"
    ]
   },
   "outputs": [],
   "source": [
    "# Express your answer as two scalars\n",
    "x_1132 = -2.2\n",
    "y_1132 = -0.3"
   ]
  },
  {
   "cell_type": "markdown",
   "metadata": {
    "deletable": false,
    "editable": false
   },
   "source": [
    "What is the value of $x,y$ that yields the third C-space obstacle?\n",
    "\n",
    "_Points:_ 1"
   ]
  },
  {
   "cell_type": "code",
   "execution_count": 77,
   "metadata": {
    "tags": [
     "otter_answer_cell"
    ]
   },
   "outputs": [],
   "source": [
    "# Express your answer as two scalars\n",
    "x_1133 = 0.0\n",
    "y_1133 = 0.0"
   ]
  },
  {
   "cell_type": "markdown",
   "metadata": {
    "deletable": false,
    "editable": false
   },
   "source": [
    "What is the value of $x,y$ that yields the fourth C-space obstacle?\n",
    "\n",
    "_Points:_ 1"
   ]
  },
  {
   "cell_type": "code",
   "execution_count": 78,
   "metadata": {
    "tags": [
     "otter_answer_cell"
    ]
   },
   "outputs": [],
   "source": [
    "# Express your answer as two scalars\n",
    "x_1134 = -1.4\n",
    "y_1134 = -2.2"
   ]
  },
  {
   "cell_type": "markdown",
   "metadata": {},
   "source": [
    "#### 1.1.4) \n",
    "\n",
    "Consider the following robot workspace with an obstacle: \n",
    "\n",
    "<img src=\"https://jorge-a-mendez.github.io/images/ese564s24/q14_workspace.png\" width=\"30%\">\n",
    "\n",
    "The configuration of the robot is given by the (x,y) coordinates of its bottom-left corner. \n"
   ]
  },
  {
   "cell_type": "markdown",
   "metadata": {
    "deletable": false,
    "editable": false
   },
   "source": [
    "Give a configuration of the robot that is in C-free and for which $x>1$ and $y>2$. \n",
    "\n",
    "_Points:_ 2"
   ]
  },
  {
   "cell_type": "code",
   "execution_count": 79,
   "metadata": {
    "tags": [
     "otter_answer_cell"
    ]
   },
   "outputs": [],
   "source": [
    "# Express your answer as two scalars\n",
    "x_1141 = 2.1\n",
    "y_1141 = 2.1"
   ]
  },
  {
   "cell_type": "markdown",
   "metadata": {
    "deletable": false,
    "editable": false
   },
   "source": [
    "Give a configuration of the robot that is in C-obs. \n",
    "\n",
    "_Points:_ 2"
   ]
  },
  {
   "cell_type": "code",
   "execution_count": 80,
   "metadata": {
    "tags": [
     "otter_answer_cell"
    ]
   },
   "outputs": [],
   "source": [
    "# Express your answer as two scalars\n",
    "x_1142 = 1.5\n",
    "y_1142 = 2.1"
   ]
  },
  {
   "cell_type": "markdown",
   "metadata": {},
   "source": [
    "#### 1.1.5) \n",
    "\n",
    "Consider the following robot workspace with an obstacle: \n",
    "\n",
    "<img src=\"https://jorge-a-mendez.github.io/images/ese564s24/q15_workspace.png\" width=\"30%\">\n",
    "\n",
    "The configuration of the robot is given by the (x,y) coordinates of its bottom-left corner. \n"
   ]
  },
  {
   "cell_type": "markdown",
   "metadata": {
    "deletable": false,
    "editable": false
   },
   "source": [
    "Give a configuration of the robot that is in C-free and for which $x>1.8$ and $y>1.8$. \n",
    "\n",
    "_Points:_ 2"
   ]
  },
  {
   "cell_type": "code",
   "execution_count": 81,
   "metadata": {
    "tags": [
     "otter_answer_cell"
    ]
   },
   "outputs": [],
   "source": [
    "# Express your answer as two scalars\n",
    "x_1151 = 4.4\n",
    "y_1151 = 3.1"
   ]
  },
  {
   "cell_type": "markdown",
   "metadata": {
    "deletable": false,
    "editable": false
   },
   "source": [
    "Give a configuration of the robot that is in C-obs. \n",
    "\n",
    "_Points:_ 2"
   ]
  },
  {
   "cell_type": "code",
   "execution_count": 82,
   "metadata": {
    "tags": [
     "otter_answer_cell"
    ]
   },
   "outputs": [],
   "source": [
    "# Express your answer as two scalars\n",
    "x_1152 = 4.0\n",
    "y_1152 = 3.0"
   ]
  },
  {
   "cell_type": "markdown",
   "metadata": {},
   "source": [
    "### 1.2) 2-link planar arm (20 pts)\n",
    "\n",
    "Consider the case of the 2-link planar arm with two revolute joints, as depicted below.\n",
    "\n",
    "<img src=\"https://jorge-a-mendez.github.io/images/ese564s24/twolink_workspace.png\" width=\"30%\">\n",
    "\n",
    "The base of link 1 as at the origin of the workspace, (0,0). The links of the arm both have length $L_1=L_2=3$. There are three obstacles in the workspace, with vertices annotated in the figure. The configuration is given by the angles of the joints, $q_1$ and $q_2$."
   ]
  },
  {
   "cell_type": "markdown",
   "metadata": {
    "deletable": false,
    "editable": false
   },
   "source": [
    "#### 1.2.1) \n",
    "Which of the following represents the configuration space of the robot? Black pixels represent free space, and white pixels represent obstacles.\n",
    "\n",
    "*Hint: consider writing your own piece of code that visualizes the robot in your choice of configurations.*\n",
    "\n",
    "<img src=\"https://jorge-a-mendez.github.io/images/ese564s24/twolink_cspace_option1.png\" width=\"24%\">\n",
    "<img src=\"https://jorge-a-mendez.github.io/images/ese564s24/twolink_cspace_option2.png\" width=\"24%\">\n",
    "<img src=\"https://jorge-a-mendez.github.io/images/ese564s24/twolink_cspace_option3.png\" width=\"24%\">\n",
    "<img src=\"https://jorge-a-mendez.github.io/images/ese564s24/twolink_cspace_option4.png\" width=\"24%\">\n",
    "\n",
    "_Points:_ 3"
   ]
  },
  {
   "cell_type": "code",
   "execution_count": 83,
   "metadata": {
    "tags": [
     "otter_answer_cell"
    ]
   },
   "outputs": [],
   "source": [
    "# Express your answer as a lower-case Python string (e.g., \"a\")\n",
    "ans_121 = \"b\""
   ]
  },
  {
   "cell_type": "markdown",
   "metadata": {
    "deletable": false,
    "editable": false
   },
   "source": [
    "#### 1.2.2) \n",
    "\n",
    "How many connected components does this C-space have?\n",
    "\n",
    "_Points:_ 3"
   ]
  },
  {
   "cell_type": "code",
   "execution_count": 84,
   "metadata": {
    "tags": [
     "otter_answer_cell"
    ]
   },
   "outputs": [],
   "source": [
    "# Express your answer as a scalar integer\n",
    "ans_122 = 2"
   ]
  },
  {
   "cell_type": "markdown",
   "metadata": {
    "deletable": false,
    "editable": false
   },
   "source": [
    "#### 1.2.3) \n",
    "\n",
    "Give an example of a configuration $q_1, q_2$ that is in C-free.\n",
    "\n",
    "_Points:_ 3"
   ]
  },
  {
   "cell_type": "code",
   "execution_count": 85,
   "metadata": {
    "tags": [
     "otter_answer_cell"
    ]
   },
   "outputs": [],
   "source": [
    "# Express your answer as two scalars in [0, 2pi]\n",
    "q1_123 = 1\n",
    "q2_123 = 1"
   ]
  },
  {
   "cell_type": "markdown",
   "metadata": {
    "deletable": false,
    "editable": false
   },
   "source": [
    "#### 1.2.4) \n",
    "\n",
    "Give an example of a configuration $q_1, q_2$ that is in C-obs.\n",
    "\n",
    "_Points:_ 3"
   ]
  },
  {
   "cell_type": "code",
   "execution_count": 86,
   "metadata": {
    "tags": [
     "otter_answer_cell"
    ]
   },
   "outputs": [],
   "source": [
    "# Express your answer as two scalars in [0, 2pi]\n",
    "q1_124 = 1.25 * np.pi\n",
    "q2_124 = 0.75 * np.pi"
   ]
  },
  {
   "cell_type": "markdown",
   "metadata": {
    "deletable": false,
    "editable": false
   },
   "source": [
    "#### 1.2.5) \n",
    "\n",
    "Give an example of a pair of configurations $q_\\text{start}$, $q_\\text{goal}$ in C-free such that there is no collision-free path from start to goal.\n",
    "\n",
    "_Points:_ 4"
   ]
  },
  {
   "cell_type": "code",
   "execution_count": 87,
   "metadata": {
    "tags": [
     "otter_answer_cell"
    ]
   },
   "outputs": [],
   "source": [
    "# Express your answer as four scalars in [0, 2pi]\n",
    "q1start_125 = np.pi\n",
    "q2start_125 = np.pi\n",
    "q1goal_125 = 2 * np.pi\n",
    "q2goal_125 = np.pi"
   ]
  },
  {
   "cell_type": "markdown",
   "metadata": {
    "deletable": false,
    "editable": false
   },
   "source": [
    "#### 1.2.6) \n",
    "\n",
    "Give an example of a pair of configurations $q_\\text{start}$, $q_\\text{goal}$ in C-free such that there is some collision-free path from start to goal.\n",
    "\n",
    "_Points:_ 4"
   ]
  },
  {
   "cell_type": "code",
   "execution_count": 88,
   "metadata": {
    "tags": [
     "otter_answer_cell"
    ]
   },
   "outputs": [],
   "source": [
    "# Express your answer as four scalars in [0, 2pi]\n",
    "q1start_126 = 0.25 * np.pi\n",
    "q2start_126 = 1.0 * np.pi\n",
    "q1goal_126 = 0.25 * np.pi\n",
    "q2goal_126 = 1.25 * np.pi"
   ]
  },
  {
   "cell_type": "markdown",
   "metadata": {},
   "source": [
    "## 2) RRT implementation (60 pts)\n",
    "\n",
    "We are now going to write an implementation of RRT for the Panda robot. Run the code cell below to initialize the relevant variables and visualize the environment with obstacles.\n",
    "\n",
    "The following three functions defined below may be particularly useful for your implementation and debugging: `set_joint_positions` and `get_joint_positions` are self-explanatory, hopefully. `get_home_joint_positions` returns values of the joint positions where the Panda is in a \"default\" configuration. `get_goal_joint_positions` returns values of the joint positions where the Panda is no longer between the obstacles. You can use these to debug your overall RRT implementation.\n",
    "\n",
    "**Do not modify any paths in the cell below, as this code cell must run exactly as is on the autograder, which assumes the paths are fixed to the values set below.**\n",
    "\n",
    "**If you work on Google Colab, you will likely need to set up virtual rendering to be able to visualize things. If you do, please remove any cells that set up virtual rendering before submitting your assignment, as virtual rendering is not allowed on Gradescope and it will likely cause the autograder to fail on all subsequent questions.**"
   ]
  },
  {
   "cell_type": "code",
   "execution_count": 89,
   "metadata": {},
   "outputs": [
    {
     "data": {
      "text/html": [
       "<table class=\"show_images\" style=\"border-spacing:0px;\"><tr><td style=\"padding:1px;\"><img width=\"640\" height=\"480\" style=\"image-rendering:auto; object-fit:cover;\" src=\"data:image/png;base64,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\"/></td></tr></table>"
      ],
      "text/plain": [
       "<IPython.core.display.HTML object>"
      ]
     },
     "metadata": {},
     "output_type": "display_data"
    }
   ],
   "source": [
    "import mujoco\n",
    "import mediapy as media\n",
    "import os\n",
    "import glfw\n",
    "\n",
    "def has_valid_renderer():\n",
    "    \"\"\"Checks if OpenGL can be initialized successfully.\"\"\"\n",
    "    # Try initializing GLFW\n",
    "    if not glfw.init():\n",
    "        print(\"GLFW initialization failed. No valid renderer.\")\n",
    "        return False\n",
    "    \n",
    "    # Try creating a hidden window to test OpenGL context creation\n",
    "    window = glfw.create_window(640, 480, \"Renderer Test\", None, None)\n",
    "    if not window:\n",
    "        print(\"GLFW could not create an OpenGL context. No valid renderer.\")\n",
    "        glfw.terminate()\n",
    "        return False\n",
    "    \n",
    "    glfw.make_context_current(window)\n",
    "    renderer_available = True  # If we reach this point, rendering should work\n",
    "\n",
    "    # Cleanup\n",
    "    glfw.destroy_window(window)\n",
    "    glfw.terminate()\n",
    "    return renderer_available\n",
    "\n",
    "def render_state(model, data):\n",
    "    if not has_valid_renderer():\n",
    "        print(\"Error rendering the scene. Make sure you have a valid OpenGL installation.\")\n",
    "        return\n",
    "\n",
    "    mujoco.mj_forward(model, data)\n",
    "    with mujoco.Renderer(model, height=480, width=640) as renderer:\n",
    "        renderer.update_scene(data, \"front_view\")  # Ensure scene is updated with final simulation state\n",
    "        media.show_image(renderer.render())\n",
    "\n",
    "def set_joint_positions(model, data, joints):\n",
    "    joint_ids = [mujoco.mj_name2id(model, mujoco.mjtObj.mjOBJ_JOINT, f\"panda_joint{i+1}\") for i in range(7)] # SOLUTION\n",
    "    joint_qpos_idx = model.jnt_qposadr[joint_ids]\n",
    "    data.qpos[joint_qpos_idx] = joints\n",
    "    mujoco.mj_forward(model, data)\n",
    "\n",
    "def get_joint_positions(model, data):\n",
    "    joint_ids = [mujoco.mj_name2id(model, mujoco.mjtObj.mjOBJ_JOINT, f\"panda_joint{i+1}\") for i in range(7)] # SOLUTION\n",
    "    joint_qpos_idx = model.jnt_qposadr[joint_ids]\n",
    "    return data.qpos[joint_qpos_idx]\n",
    "\n",
    "def get_home_joint_positions(model, data):\n",
    "    return [0, -np.pi/3, 0, -5*np.pi/6, 0, np.pi/2, np.pi/4]\n",
    "\n",
    "def get_goal_joint_positions(model, data):\n",
    "    return [-np.pi/2, np.pi/6, 0, -np.pi/3, np.pi/2, np.pi/2, np.pi/4]\n",
    "    \n",
    "# Define the MJCF path and mesh directory\n",
    "mjcf_path = 'assets/Panda/panda.mjcf'\n",
    "mesh_dir = 'assets/Panda/meshes/collision/'\n",
    "\n",
    "# Load mesh files into a dictionary\n",
    "assets = {}\n",
    "for file_name in os.listdir(mesh_dir):\n",
    "    file_path = os.path.join(mesh_dir, file_name)\n",
    "    with open(file_path, 'rb') as f:\n",
    "        assets[f'meshes/collision/{file_name}'] = f.read()\n",
    "\n",
    "# Load the MuJoCo model\n",
    "model = mujoco.MjModel.from_xml_path(mjcf_path, assets=assets)\n",
    "data = mujoco.MjData(model)\n",
    "data.qpos[14:16] = 0.04\n",
    "\n",
    "# Call mj_forward to initialize the state\n",
    "mujoco.mj_forward(model, data)\n",
    "\n",
    "# Set the joint positions\n",
    "set_joint_positions(model, data, get_home_joint_positions(model, data))\n",
    "\n",
    "# Render the scene\n",
    "render_state(model, data)"
   ]
  },
  {
   "cell_type": "markdown",
   "metadata": {
    "deletable": false,
    "editable": false
   },
   "source": [
    "##### 2.1)\n",
    "\n",
    "Implement the `sample_point_21` function. With probability $1-\\epsilon$, the function should return a joint configuration sampled uniformly at random from the valid joint ranges. With probability $\\epsilon$, the function should return the goal configuration.\n",
    "\n",
    "\n",
    "_Points:_ 10"
   ]
  },
  {
   "cell_type": "code",
   "execution_count": 90,
   "metadata": {
    "tags": [
     "otter_answer_cell"
    ]
   },
   "outputs": [],
   "source": [
    "def sample_point_21(model, q_goal, epsilon=0.1):\n",
    "    \"\"\" \n",
    "    model: MuJoCo model object\n",
    "    q_goal: goal joint positions, a numpy array of shape (7,)\n",
    "    epsilon: probability of sampling the goal configuration\n",
    "    \n",
    "    Return: a numpy array of shape (7,) representing the sampled joint positions\n",
    "    \"\"\"\n",
    "    if np.random.rand() < epsilon:\n",
    "        return q_goal\n",
    "    \n",
    "    joint_limit = model.jnt_range[1:8]\n",
    "    q_sample = np.random.uniform(joint_limit[:, 0], joint_limit[:, 1])\n",
    "    return q_sample\n",
    "    "
   ]
  },
  {
   "cell_type": "markdown",
   "metadata": {
    "deletable": false,
    "editable": false
   },
   "source": [
    "### 2.2) \n",
    "\n",
    "Let's now implement the `get_nearest_22` function. Because all Panda joints have joint limits, there are no wrap-arounds and we can get away with using Euclidean distance as our distance metric. \n",
    "\n",
    "_Points:_ 10"
   ]
  },
  {
   "cell_type": "code",
   "execution_count": 91,
   "metadata": {
    "tags": [
     "otter_answer_cell"
    ]
   },
   "outputs": [],
   "source": [
    "def get_nearest_22(nodes, q):\n",
    "    \"\"\" \n",
    "    nodes: a numpy array of shape (N, 7) representing the nodes in the tree\n",
    "    q: a numpy array of shape (7,) representing the query point\n",
    "    Return: a numpy array of shape (7,) representing the nearest node in the tree\n",
    "    \"\"\"\n",
    "    distances = np.linalg.norm(nodes - q, axis=1)\n",
    "    nearest_idx = np.argmin(distances)\n",
    "    return nodes[nearest_idx]"
   ]
  },
  {
   "cell_type": "markdown",
   "metadata": {
    "deletable": false,
    "editable": false
   },
   "source": [
    "#### 2.3) \n",
    "The next step is to write the `extend_23` function, which findes `q_new`, a node on the line between `q_sample` and `q_near` that is at a maximum distance of `step_size` from `q_near` (again, using Euclidean distance in the C-space). If `q_sample` is closer to `q_near` than `step_size`, then `q_new=q_sample`.\n",
    "\n",
    "_Points:_ 10"
   ]
  },
  {
   "cell_type": "code",
   "execution_count": 92,
   "metadata": {
    "otter": {
     "tests": [
      "q2.3"
     ]
    },
    "tags": [
     "otter_answer_cell"
    ]
   },
   "outputs": [],
   "source": [
    "def extend_23(q_sample, q_near, step_size):\n",
    "    \"\"\" \n",
    "    q_sample: a numpy array of shape (7,) representing the sampled joint positions\n",
    "    q_near: a numpy array of shape (7,) representing the nearest node in the tree\n",
    "    step_size: a scalar representing the step size\n",
    "    Return: a numpy array of shape (7,) representing the extended joint positions\n",
    "    \"\"\"\n",
    "    direction = q_sample - q_near\n",
    "    norm = np.linalg.norm(direction)\n",
    "    if norm > step_size:\n",
    "        direction = direction / norm * step_size\n",
    "        return q_near + direction\n",
    "    return q_sample"
   ]
  },
  {
   "cell_type": "markdown",
   "metadata": {
    "deletable": false,
    "editable": false
   },
   "source": [
    "#### 2.4)\n",
    "\n",
    "Before moving on to write the main loop of RRT, we need to write a collision-checking function. The function takes as input two configurations, q1 and q2, and checks whether the path between them is collision-free. The way we will do this is to interpolate between the configurations with a fixed step size.\n",
    "\n",
    "To check whether a particular configuration is in collision, we will leverage the MuJoCo simulator. In particular, the following will be useful:\n",
    "- `mujoco.mj_collision(model, data)` runs collision checking internally in MuJoCo. \n",
    "- `data.contact` is set after running `mj_collision`. Look at the documentation to see how to use this information to determine whether there are collisions.\n",
    "\n",
    "*Hint1: this function will require you to set the joint positions multiple times. Make sure that, at the end of the function, your robot is back to its original position.*\n",
    "\n",
    "*Hint2: it is possible that the two configurations are closer than the `max_step_size`. Make sure to handle this case appropriately.*\n",
    "\n",
    "*Hint3: if you use `np_array += other_array`, you will modify `np_array` in-place.*\n",
    "\n",
    "_Points:_ 10"
   ]
  },
  {
   "cell_type": "code",
   "execution_count": 93,
   "metadata": {
    "otter": {
     "tests": [
      "q2.4"
     ]
    },
    "tags": [
     "otter_answer_cell"
    ]
   },
   "outputs": [],
   "source": [
    "def is_collision_free_24(model, data, q1, q2, max_step_size=0.1):\n",
    "    \"\"\" \n",
    "    model: MuJoCo model object\n",
    "    data: MuJoCo data object\n",
    "    q1: a numpy array of shape (7,) representing the start joint positions\n",
    "    q2: a numpy array of shape (7,) representing the end joint positions\n",
    "    max_step_size: a scalar representing the maximum step size for collision checking\n",
    "    \n",
    "    Return: a boolean indicating if the path between q1 and q2 is collision-free\n",
    "    \"\"\"\n",
    "    # Keep the current joint positions\n",
    "    q_init = get_joint_positions(model, data)\n",
    "    \n",
    "    # Check the path between q1 and q2\n",
    "    direction = q2 - q1\n",
    "    norm = np.linalg.norm(direction)\n",
    "    s = np.linspace(0, 1, np.ceil(norm/max_step_size).astype(int)+1)\n",
    "    points = q1 + s[:, None] * direction\n",
    "\n",
    "    # Check each point for collisions\n",
    "    for point in points:\n",
    "        set_joint_positions(model, data, point)\n",
    "        mujoco.mj_forward(model, data)  # Update simulation state\n",
    "        if data.ncon > 0:  # Collision detected\n",
    "            set_joint_positions(model, data, q_init)\n",
    "            return False\n",
    "    \n",
    "    # Restore original joint positions\n",
    "    set_joint_positions(model, data, q_init)\n",
    "    return True\n",
    "\n"
   ]
  },
  {
   "cell_type": "markdown",
   "metadata": {
    "deletable": false,
    "editable": false
   },
   "source": [
    "#### 2.5)\n",
    "\n",
    "Now we're ready to write our RRT main loop. The algorithm loops over: sampling a point, finding the nearest node on the tree, finding the candidate extension node, checking for collisions, and adding to the tree.\n",
    "\n",
    "The function will take as arguments a threshold `threshold` which tells us how close (in Euclidean distance in the C-space) we must be from the goal configuration to consider that the goal has been reached, and a `step_size` to use for the `extend` function. For the purposes of this HW, feel free to use the same `step_size` for collision checking (which effectively just checks whether `q_new` is in collision).\n",
    "\n",
    "Recall that RRT keeps track of the parent of each node. You may use a `parent` dictionary like the one you've used in previous homeworks (e.g., for Dijkstra and A*). \n",
    "\n",
    "*Hint: Numpy arrays cannot be used as keys in a dictionary. You may need to convert back and forth between tuples and arrays. Make sure to respect the typing expected by the functions defined so far.*\n",
    "\n",
    "*Hint 2: You can modify your retrace_plan function from previous HWs to handle trace back from the goal to the start node.*\n",
    "\n",
    "*Hint 3: You can visualize your plans by calling `render_state`, `time.sleep(0.1)` and `IPython.display.clear_output`*\n",
    "\n",
    "\n",
    "_Points:_ 10"
   ]
  },
  {
   "cell_type": "code",
   "execution_count": 94,
   "metadata": {
    "otter": {
     "tests": [
      "q2.5"
     ]
    },
    "tags": [
     "otter_answer_cell"
    ]
   },
   "outputs": [],
   "source": [
    "\n",
    "def panda_rrt_25(q_init, q_goal, model, data, threshold=0.01, step_size=0.1):\n",
    "    \"\"\" \n",
    "    q_init: a numpy array of shape (7,) representing the initial joint positions\n",
    "    q_goal: a numpy array of shape (7,) representing the goal joint positions\n",
    "    model: MuJoCo model object\n",
    "    data: MuJoCo data object\n",
    "    threshold: a scalar representing the distance threshold to the goal\n",
    "    step_size: a scalar representing the step size for extending the tree\n",
    "\n",
    "    Return: a list of numpy arrays representing the sequence of joint positions from q_init to q_goal.    \n",
    "        The first element should be q_init and the final element should be within threshold of q_goal\n",
    "    \"\"\"\n",
    "    \n",
    "    nodes = [q_init]  # Initialize the tree with the start node\n",
    "    parents = [None]  # Keep track of parents for path reconstruction\n",
    "\n",
    "    max_iterations = 1000\n",
    "\n",
    "    for _ in range(max_iterations):\n",
    "        q_sample = sample_point_21(model, q_goal, epsilon=0.1)\n",
    "        tree_nodes = np.array(nodes)\n",
    "        q_near = get_nearest_22(tree_nodes, q_sample)\n",
    "        nearest_idx = np.argmin(np.linalg.norm(tree_nodes - q_near, axis=1))\n",
    "        q_new = extend_23(q_sample, q_near, step_size)\n",
    "\n",
    "        if is_collision_free_24(model, data, q_near, q_new):\n",
    "            nodes.append(q_new)\n",
    "            parents.append(nearest_idx)\n",
    "\n",
    "            if np.linalg.norm(q_new - q_goal) < threshold:\n",
    "                path = []\n",
    "                current_idx = len(nodes) - 1\n",
    "                while current_idx is not None:\n",
    "                    path.append(nodes[current_idx])\n",
    "                    current_idx = parents[current_idx]\n",
    "                return path[::-1] \n",
    "        \n",
    "    return [] "
   ]
  },
  {
   "cell_type": "markdown",
   "metadata": {
    "deletable": false,
    "editable": false
   },
   "source": [
    "#### 2.6)\n",
    "\n",
    "When using a standard implementation of RRT, it is common practice to apply some smoothing mechanism on the plan obtained from RRT. In this question, we will explore a simple smoothing algorithm.\n",
    "\n",
    "The pseudocode is the following:\n",
    "```\n",
    "for i in 1 ... max_iters\n",
    "    i, j <- sample non-consecutive indices i < j + 1 that are neither the first nor the final in the plan\n",
    "    if q[i] -> q[j] can be connected by a straight-line collision-free path, remove all intermediate steps from the plan\n",
    "```\n",
    "\n",
    "Implement this algorithm as `smooth_path_26` below.\n",
    "\n",
    "_Points:_ 10"
   ]
  },
  {
   "cell_type": "code",
   "execution_count": 95,
   "metadata": {
    "otter": {
     "tests": [
      "q2.6"
     ]
    },
    "tags": [
     "otter_answer_cell"
    ]
   },
   "outputs": [],
   "source": [
    "def smooth_path_26(path, model, data, max_iters=1000):\n",
    "    \"\"\"\n",
    "    path: a list of numpy arrays representing the sequence of joint positions from q_init to q_goal\n",
    "    model: MuJoCo model object\n",
    "    data: MuJoCo data object\n",
    "    max_iters: maximum number of iterations for smoothing\n",
    "\n",
    "    Return: a list of numpy arrays representing the smoothed path \n",
    "    \"\"\"\n",
    "    if len(path) < 3:\n",
    "        return path\n",
    "\n",
    "    for _ in range(max_iters):\n",
    "        possible_indices = list(range(1, len(path) - 1))\n",
    "        if len(possible_indices) < 2:\n",
    "            break  \n",
    "\n",
    "        i, j = np.random.choice(possible_indices, 2, replace=False)\n",
    "        # Ensure i < j\n",
    "        if i > j:\n",
    "            i, j = j, i\n",
    "\n",
    "        if j <= i + 1:\n",
    "            continue\n",
    "\n",
    "        if is_collision_free_24(model, data, path[i], path[j]):\n",
    "            # Remove intermediate points between i and j\n",
    "            path = path[:i + 1] + path[j:]\n",
    "\n",
    "    return path"
   ]
  },
  {
   "cell_type": "markdown",
   "metadata": {
    "deletable": false,
    "editable": false
   },
   "source": [
    "## Submission\n",
    "\n",
    "Make sure you have run all cells in your notebook in order before running the cell below, so that all images/graphs appear in the output. The cell below will generate a zip file for you to submit. **Please save before exporting!**\n",
    "\n",
    "Fill out the answers to all questions and submit your file hw6.ipynb to the HW4 assignment on Gradescope. You are free to resubmit as many times as you wish."
   ]
  },
  {
   "cell_type": "code",
   "execution_count": 96,
   "metadata": {
    "deletable": false,
    "editable": false
   },
   "outputs": [
    {
     "name": "stdout",
     "output_type": "stream",
     "text": [
      "Running your submission against local test cases...\n",
      "\n",
      "\n",
      "Your submission received the following results when run against available test cases:\n",
      "\n",
      "\n"
     ]
    },
    {
     "data": {
      "text/html": [
       "\n",
       "                    <p>\n",
       "                        Your submission has been exported. Click\n",
       "                        <a href=\"hw6_2025_03_24T18_27_40_237562.zip\" download=\"hw6_2025_03_24T18_27_40_237562.zip\" target=\"_blank\">here</a> to download\n",
       "                        the zip file.\n",
       "                    </p>\n",
       "                "
      ],
      "text/plain": [
       "<IPython.core.display.HTML object>"
      ]
     },
     "metadata": {},
     "output_type": "display_data"
    }
   ],
   "source": [
    "# Save your notebook first, then run this cell to export your submission.\n",
    "grader.export(pdf=False, run_tests=True)"
   ]
  },
  {
   "cell_type": "markdown",
   "metadata": {},
   "source": [
    " "
   ]
  }
 ],
 "metadata": {
  "kernelspec": {
   "display_name": "ai4robotic",
   "language": "python",
   "name": "python3"
  },
  "language_info": {
   "codemirror_mode": {
    "name": "ipython",
    "version": 3
   },
   "file_extension": ".py",
   "mimetype": "text/x-python",
   "name": "python",
   "nbconvert_exporter": "python",
   "pygments_lexer": "ipython3",
   "version": "3.10.16"
  },
  "otter": {
   "OK_FORMAT": true,
   "assignment_name": "hw6",
   "tests": {
    "q1.1.1.1": {
     "name": "q1.1.1.1",
     "points": 1,
     "suites": [
      {
       "cases": [],
       "scored": true,
       "setup": "",
       "teardown": "",
       "type": "doctest"
      }
     ]
    },
    "q1.1.1.2": {
     "name": "q1.1.1.2",
     "points": 1,
     "suites": [
      {
       "cases": [],
       "scored": true,
       "setup": "",
       "teardown": "",
       "type": "doctest"
      }
     ]
    },
    "q1.1.1.3": {
     "name": "q1.1.1.3",
     "points": 1,
     "suites": [
      {
       "cases": [],
       "scored": true,
       "setup": "",
       "teardown": "",
       "type": "doctest"
      }
     ]
    },
    "q1.1.1.4": {
     "name": "q1.1.1.4",
     "points": 1,
     "suites": [
      {
       "cases": [],
       "scored": true,
       "setup": "",
       "teardown": "",
       "type": "doctest"
      }
     ]
    },
    "q1.1.2.1": {
     "name": "q1.1.2.1",
     "points": 1,
     "suites": [
      {
       "cases": [],
       "scored": true,
       "setup": "",
       "teardown": "",
       "type": "doctest"
      }
     ]
    },
    "q1.1.2.2": {
     "name": "q1.1.2.2",
     "points": 1,
     "suites": [
      {
       "cases": [],
       "scored": true,
       "setup": "",
       "teardown": "",
       "type": "doctest"
      }
     ]
    },
    "q1.1.2.3": {
     "name": "q1.1.2.3",
     "points": 1,
     "suites": [
      {
       "cases": [],
       "scored": true,
       "setup": "",
       "teardown": "",
       "type": "doctest"
      }
     ]
    },
    "q1.1.2.4": {
     "name": "q1.1.2.4",
     "points": 1,
     "suites": [
      {
       "cases": [],
       "scored": true,
       "setup": "",
       "teardown": "",
       "type": "doctest"
      }
     ]
    },
    "q1.1.3.1": {
     "name": "q1.1.3.1",
     "points": 1,
     "suites": [
      {
       "cases": [],
       "scored": true,
       "setup": "",
       "teardown": "",
       "type": "doctest"
      }
     ]
    },
    "q1.1.3.2": {
     "name": "q1.1.3.2",
     "points": 1,
     "suites": [
      {
       "cases": [],
       "scored": true,
       "setup": "",
       "teardown": "",
       "type": "doctest"
      }
     ]
    },
    "q1.1.3.3": {
     "name": "q1.1.3.3",
     "points": 1,
     "suites": [
      {
       "cases": [],
       "scored": true,
       "setup": "",
       "teardown": "",
       "type": "doctest"
      }
     ]
    },
    "q1.1.3.4": {
     "name": "q1.1.3.4",
     "points": 1,
     "suites": [
      {
       "cases": [],
       "scored": true,
       "setup": "",
       "teardown": "",
       "type": "doctest"
      }
     ]
    },
    "q1.1.4.1": {
     "name": "q1.1.4.1",
     "points": 2,
     "suites": [
      {
       "cases": [],
       "scored": true,
       "setup": "",
       "teardown": "",
       "type": "doctest"
      }
     ]
    },
    "q1.1.4.2": {
     "name": "q1.1.4.2",
     "points": 2,
     "suites": [
      {
       "cases": [],
       "scored": true,
       "setup": "",
       "teardown": "",
       "type": "doctest"
      }
     ]
    },
    "q1.1.5.1": {
     "name": "q1.1.5.1",
     "points": 2,
     "suites": [
      {
       "cases": [],
       "scored": true,
       "setup": "",
       "teardown": "",
       "type": "doctest"
      }
     ]
    },
    "q1.1.5.2": {
     "name": "q1.1.5.2",
     "points": 2,
     "suites": [
      {
       "cases": [],
       "scored": true,
       "setup": "",
       "teardown": "",
       "type": "doctest"
      }
     ]
    },
    "q1.2.1": {
     "name": "q1.2.1",
     "points": 3,
     "suites": [
      {
       "cases": [],
       "scored": true,
       "setup": "",
       "teardown": "",
       "type": "doctest"
      }
     ]
    },
    "q1.2.2": {
     "name": "q1.2.2",
     "points": 3,
     "suites": [
      {
       "cases": [],
       "scored": true,
       "setup": "",
       "teardown": "",
       "type": "doctest"
      }
     ]
    },
    "q1.2.3": {
     "name": "q1.2.3",
     "points": 3,
     "suites": [
      {
       "cases": [],
       "scored": true,
       "setup": "",
       "teardown": "",
       "type": "doctest"
      }
     ]
    },
    "q1.2.4": {
     "name": "q1.2.4",
     "points": 3,
     "suites": [
      {
       "cases": [],
       "scored": true,
       "setup": "",
       "teardown": "",
       "type": "doctest"
      }
     ]
    },
    "q1.2.5": {
     "name": "q1.2.5",
     "points": 4,
     "suites": [
      {
       "cases": [],
       "scored": true,
       "setup": "",
       "teardown": "",
       "type": "doctest"
      }
     ]
    },
    "q1.2.6": {
     "name": "q1.2.6",
     "points": 4,
     "suites": [
      {
       "cases": [],
       "scored": true,
       "setup": "",
       "teardown": "",
       "type": "doctest"
      }
     ]
    },
    "q2.1": {
     "name": "q2.1",
     "points": 10,
     "suites": [
      {
       "cases": [],
       "scored": true,
       "setup": "",
       "teardown": "",
       "type": "doctest"
      }
     ]
    },
    "q2.2": {
     "name": "q2.2",
     "points": 10,
     "suites": [
      {
       "cases": [],
       "scored": true,
       "setup": "",
       "teardown": "",
       "type": "doctest"
      }
     ]
    },
    "q2.3": {
     "name": "q2.3",
     "points": 10,
     "suites": [
      {
       "cases": [],
       "scored": true,
       "setup": "",
       "teardown": "",
       "type": "doctest"
      }
     ]
    },
    "q2.4": {
     "name": "q2.4",
     "points": 10,
     "suites": [
      {
       "cases": [],
       "scored": true,
       "setup": "",
       "teardown": "",
       "type": "doctest"
      }
     ]
    },
    "q2.5": {
     "name": "q2.5",
     "points": 10,
     "suites": [
      {
       "cases": [],
       "scored": true,
       "setup": "",
       "teardown": "",
       "type": "doctest"
      }
     ]
    },
    "q2.6": {
     "name": "q2.6",
     "points": 10,
     "suites": [
      {
       "cases": [],
       "scored": true,
       "setup": "",
       "teardown": "",
       "type": "doctest"
      }
     ]
    }
   }
  }
 },
 "nbformat": 4,
 "nbformat_minor": 2
}
