{
 "cells": [
  {
   "cell_type": "code",
   "execution_count": 2,
   "metadata": {
    "deletable": false,
    "editable": false
   },
   "outputs": [],
   "source": [
    "# Initialize Otter\n",
    "import otter\n",
    "grader = otter.Notebook(\"hw6.ipynb\")"
   ]
  },
  {
   "cell_type": "code",
   "execution_count": 3,
   "metadata": {},
   "outputs": [],
   "source": [
    "import numpy as np"
   ]
  },
  {
   "cell_type": "markdown",
   "metadata": {},
   "source": [
    "# FILL IN YOUR NAME AND THE NAME OF YOUR PEER (IF ANY) BELOW"
   ]
  },
  {
   "cell_type": "markdown",
   "metadata": {},
   "source": [
    "**Name**: Vahid Danesh\n",
    "\n",
    "**Peer**: \\<replace this with your peer's name\\>\n",
    "\n",
    "## Collaboration policy\n",
    "Students are responsible for writing their own quizzes, assignments, and exams. For homework assignments, students are welcome (and encouraged) to discuss problems with one peer, **but each student must write their own assignment wrtieup and code individually**. The peer must be listed at the top of the writeup for each assignment. *Note: I will treat AI assistants as peers. That is, students are welcome to discuss problems with an AI assistant, but it is considered cheating to directly obtain an answer by querying the assistant. Please credit any AI assistant that you use.*"
   ]
  },
  {
   "cell_type": "markdown",
   "metadata": {},
   "source": [
    "# Homework 6 -- Motion planning (100 pts)\n",
    "\n",
    "**Due:** Tuesday, March 25th, 2025 at 11:59 pm\n",
    "\n",
    "This homework builds on the material in the slides and Lynch Chapter 10 (on Motion Planning).\n",
    "\n",
    "We will use Jupyter/Colab notebooks throughout the semester for writing code and generating assignment outputs.\n",
    "\n",
    "**Throughout this homework, please use 2D numpy arrays to represent all matrices. The autograder will use a precision of 3 decimal places.**\n",
    "\n",
    "\n",
    "## 1) C-space obstacles (40 pts)\n",
    "\n",
    "### 1.1) 2D polygons (20 pts)\n",
    "\n",
    "In the case of 2D polygonal robots and obstacles, where the robot is only allowed translational motions, we can find the C-space obstacles by sliding the robot around the obstacle and keeping track of the origin of the robot as it touches the boundaries of the obstacle. The C-space obstacle is the polygon formed by connecting the places were the robot's origin was when the robot came in contact with the obstacle.\n",
    "\n",
    "\n",
    "#### 1.1.1) \n",
    "\n",
    "Consider the following robot:\n",
    "\n",
    "<img src=\"https://jorge-a-mendez.github.io/images/ese564s24/q11_robot.png\" width=\"30%\">\n",
    "\n",
    "and obstacle:\n",
    "\n",
    "<img src=\"https://jorge-a-mendez.github.io/images/ese564s24/q11_obstacle.png\" width=\"40%\">\n",
    "\n",
    "The following are all representations of the C-space obstacle for different choices of the origin of the robot. Find the value of $(x,y)$ that corresponds to each of the C-space obstacles. In other words, determine what is the point on the robot where its origin is located, and then express the bottom-left corner of the robot relative to this origin. Assume that the x-axis points right, and the y-axis points up.\n",
    "\n",
    "<img src=\"https://jorge-a-mendez.github.io/images/ese564s24/q11_cspace_1.png\" width=\"24%\"> <img src=\"https://jorge-a-mendez.github.io/images/ese564s24/q11_cspace_2.png\" width=\"24%\"> <img src=\"https://jorge-a-mendez.github.io/images/ese564s24/q11_cspace_3.png\" width=\"24%\"> <img src=\"https://jorge-a-mendez.github.io/images/ese564s24/q11_cspace_4.png\" width=\"24%\">\n",
    "\n"
   ]
  },
  {
   "cell_type": "markdown",
   "metadata": {
    "deletable": false,
    "editable": false
   },
   "source": [
    "What is the value of $x,y$ that yields the first C-space obstacle?\n",
    "\n",
    "_Points:_ 1"
   ]
  },
  {
   "cell_type": "code",
   "execution_count": 4,
   "metadata": {
    "tags": [
     "otter_answer_cell"
    ]
   },
   "outputs": [],
   "source": [
    "# Express your answer as two scalars\n",
    "x_1111 = 0\n",
    "y_1111 = 0"
   ]
  },
  {
   "cell_type": "markdown",
   "metadata": {
    "deletable": false,
    "editable": false
   },
   "source": [
    "What is the value of $x,y$ that yields the second C-space obstacle?\n",
    "\n",
    "_Points:_ 1"
   ]
  },
  {
   "cell_type": "code",
   "execution_count": 5,
   "metadata": {
    "tags": [
     "otter_answer_cell"
    ]
   },
   "outputs": [],
   "source": [
    "# Express your answer as two scalars\n",
    "x_1112 = -1\n",
    "y_1112 = 0"
   ]
  },
  {
   "cell_type": "markdown",
   "metadata": {
    "deletable": false,
    "editable": false
   },
   "source": [
    "What is the value of $x,y$ that yields the third C-space obstacle?\n",
    "\n",
    "_Points:_ 1"
   ]
  },
  {
   "cell_type": "code",
   "execution_count": 6,
   "metadata": {
    "tags": [
     "otter_answer_cell"
    ]
   },
   "outputs": [],
   "source": [
    "# Express your answer as two scalars\n",
    "x_1113 = -0.5\n",
    "y_1113 = -1"
   ]
  },
  {
   "cell_type": "markdown",
   "metadata": {
    "deletable": false,
    "editable": false
   },
   "source": [
    "What is the value of $x,y$ that yields the fourth C-space obstacle?\n",
    "\n",
    "_Points:_ 1"
   ]
  },
  {
   "cell_type": "code",
   "execution_count": 7,
   "metadata": {
    "tags": [
     "otter_answer_cell"
    ]
   },
   "outputs": [],
   "source": [
    "# Express your answer as two scalars\n",
    "x_1114 = -0.5\n",
    "y_1114 = -0.5"
   ]
  },
  {
   "cell_type": "markdown",
   "metadata": {},
   "source": [
    "#### 1.1.2) \n",
    "\n",
    "Consider the following robot:\n",
    "\n",
    "<img src=\"https://jorge-a-mendez.github.io/images/ese564s24/q12_robot.png\" width=\"30%\">\n",
    "\n",
    "and obstacle:\n",
    "\n",
    "<img src=\"https://jorge-a-mendez.github.io/images/ese564s24/q12_obstacle.png\" width=\"30%\">\n",
    "\n",
    "The following are all representations of the C-space obstacle for different choices of the origin of the robot. Find the value of $(x,y)$ that corresponds to each of the C-space obstacles. In other words, determine what is the point on the robot where its origin is located, and then express the bottom-left corner of the robot relative to this origin. Assume that the x-axis points right, and the y-axis points up.\n",
    "\n",
    "<img src=\"https://jorge-a-mendez.github.io/images/ese564s24/q12_cspace_1.png\" width=\"24%\"> <img src=\"https://jorge-a-mendez.github.io/images/ese564s24/q12_cspace_2.png\" width=\"24%\"> <img src=\"https://jorge-a-mendez.github.io/images/ese564s24/q12_cspace_3.png\" width=\"24%\"> <img src=\"https://jorge-a-mendez.github.io/images/ese564s24/q12_cspace_4.png\" width=\"24%\">\n",
    "\n"
   ]
  },
  {
   "cell_type": "markdown",
   "metadata": {
    "deletable": false,
    "editable": false
   },
   "source": [
    "What is the value of $x,y$ that yields the first C-space obstacle?\n",
    "\n",
    "_Points:_ 1"
   ]
  },
  {
   "cell_type": "code",
   "execution_count": 8,
   "metadata": {
    "tags": [
     "otter_answer_cell"
    ]
   },
   "outputs": [],
   "source": [
    "# Express your answer as two scalars\n",
    "x_1121 = -1.4\n",
    "y_1121 = -1"
   ]
  },
  {
   "cell_type": "markdown",
   "metadata": {
    "deletable": false,
    "editable": false
   },
   "source": [
    "What is the value of $x,y$ that yields the second C-space obstacle?\n",
    "\n",
    "_Points:_ 1"
   ]
  },
  {
   "cell_type": "code",
   "execution_count": 9,
   "metadata": {
    "tags": [
     "otter_answer_cell"
    ]
   },
   "outputs": [],
   "source": [
    "# Express your answer as two scalars\n",
    "x_1122 = -2.1\n",
    "y_1122 = -0.4   "
   ]
  },
  {
   "cell_type": "markdown",
   "metadata": {
    "deletable": false,
    "editable": false
   },
   "source": [
    "What is the value of $x,y$ that yields the third C-space obstacle?\n",
    "\n",
    "_Points:_ 1"
   ]
  },
  {
   "cell_type": "code",
   "execution_count": 10,
   "metadata": {
    "tags": [
     "otter_answer_cell"
    ]
   },
   "outputs": [],
   "source": [
    "# Express your answer as two scalars\n",
    "x_1123 = 0.0\n",
    "y_1123 = 0.0"
   ]
  },
  {
   "cell_type": "markdown",
   "metadata": {
    "deletable": false,
    "editable": false
   },
   "source": [
    "What is the value of $x,y$ that yields the fourth C-space obstacle?\n",
    "\n",
    "_Points:_ 1"
   ]
  },
  {
   "cell_type": "code",
   "execution_count": 11,
   "metadata": {
    "tags": [
     "otter_answer_cell"
    ]
   },
   "outputs": [],
   "source": [
    "# Express your answer as two scalars\n",
    "x_1124 = -1.4\n",
    "y_1124 = -2.2"
   ]
  },
  {
   "cell_type": "markdown",
   "metadata": {},
   "source": [
    "#### 1.1.3) \n",
    "\n",
    "Consider the following robot:\n",
    "\n",
    "<img src=\"https://jorge-a-mendez.github.io/images/ese564s24/q13_robot.png\" width=\"30%\">\n",
    "\n",
    "and obstacle:\n",
    "\n",
    "<img src=\"https://jorge-a-mendez.github.io/images/ese564s24/q13_obstacle.png\" width=\"40%\">\n",
    "\n",
    "The following are all representations of the C-space obstacle for different choices of the origin of the robot. Find the value of $(x,y)$ that corresponds to each of the C-space obstacles. In other words, determine what is the point on the robot where its origin is located, and then express the bottom-left corner of the robot relative to this origin. Assume that the x-axis points right, and the y-axis points up.\n",
    "\n",
    "<img src=\"https://jorge-a-mendez.github.io/images/ese564s24/q13_cspace_1.png\" width=\"24%\"> <img src=\"https://jorge-a-mendez.github.io/images/ese564s24/q13_cspace_2.png\" width=\"24%\"> <img src=\"https://jorge-a-mendez.github.io/images/ese564s24/q13_cspace_3.png\" width=\"24%\"> <img src=\"https://jorge-a-mendez.github.io/images/ese564s24/q13_cspace_4.png\" width=\"24%\">\n",
    "\n"
   ]
  },
  {
   "cell_type": "markdown",
   "metadata": {
    "deletable": false,
    "editable": false
   },
   "source": [
    "What is the value of $x,y$ that yields the first C-space obstacle?\n",
    "\n",
    "_Points:_ 1"
   ]
  },
  {
   "cell_type": "code",
   "execution_count": 12,
   "metadata": {
    "tags": [
     "otter_answer_cell"
    ]
   },
   "outputs": [],
   "source": [
    "# Express your answer as two scalars\n",
    "x_1131 = -1.4\n",
    "y_1131 = -0,8"
   ]
  },
  {
   "cell_type": "markdown",
   "metadata": {
    "deletable": false,
    "editable": false
   },
   "source": [
    "What is the value of $x,y$ that yields the second C-space obstacle?\n",
    "\n",
    "_Points:_ 1"
   ]
  },
  {
   "cell_type": "code",
   "execution_count": 13,
   "metadata": {
    "tags": [
     "otter_answer_cell"
    ]
   },
   "outputs": [],
   "source": [
    "# Express your answer as two scalars\n",
    "x_1132 = -2.2\n",
    "y_1132 = -0.3"
   ]
  },
  {
   "cell_type": "markdown",
   "metadata": {
    "deletable": false,
    "editable": false
   },
   "source": [
    "What is the value of $x,y$ that yields the third C-space obstacle?\n",
    "\n",
    "_Points:_ 1"
   ]
  },
  {
   "cell_type": "code",
   "execution_count": 14,
   "metadata": {
    "tags": [
     "otter_answer_cell"
    ]
   },
   "outputs": [],
   "source": [
    "# Express your answer as two scalars\n",
    "x_1133 = 0.0\n",
    "y_1133 = 0.0"
   ]
  },
  {
   "cell_type": "markdown",
   "metadata": {
    "deletable": false,
    "editable": false
   },
   "source": [
    "What is the value of $x,y$ that yields the fourth C-space obstacle?\n",
    "\n",
    "_Points:_ 1"
   ]
  },
  {
   "cell_type": "code",
   "execution_count": 15,
   "metadata": {
    "tags": [
     "otter_answer_cell"
    ]
   },
   "outputs": [],
   "source": [
    "# Express your answer as two scalars\n",
    "x_1134 = -1.4\n",
    "y_1134 = -2.2"
   ]
  },
  {
   "cell_type": "markdown",
   "metadata": {},
   "source": [
    "#### 1.1.4) \n",
    "\n",
    "Consider the following robot workspace with an obstacle: \n",
    "\n",
    "<img src=\"https://jorge-a-mendez.github.io/images/ese564s24/q14_workspace.png\" width=\"30%\">\n",
    "\n",
    "The configuration of the robot is given by the (x,y) coordinates of its bottom-left corner. \n"
   ]
  },
  {
   "cell_type": "markdown",
   "metadata": {
    "deletable": false,
    "editable": false
   },
   "source": [
    "Give a configuration of the robot that is in C-free and for which $x>1$ and $y>2$. \n",
    "\n",
    "_Points:_ 2"
   ]
  },
  {
   "cell_type": "code",
   "execution_count": 16,
   "metadata": {
    "tags": [
     "otter_answer_cell"
    ]
   },
   "outputs": [],
   "source": [
    "# Express your answer as two scalars\n",
    "x_1141 = 2.1\n",
    "y_1141 = 2.1"
   ]
  },
  {
   "cell_type": "markdown",
   "metadata": {
    "deletable": false,
    "editable": false
   },
   "source": [
    "Give a configuration of the robot that is in C-obs. \n",
    "\n",
    "_Points:_ 2"
   ]
  },
  {
   "cell_type": "code",
   "execution_count": 17,
   "metadata": {
    "tags": [
     "otter_answer_cell"
    ]
   },
   "outputs": [],
   "source": [
    "# Express your answer as two scalars\n",
    "x_1142 = 1.5\n",
    "y_1142 = 2.1"
   ]
  },
  {
   "cell_type": "markdown",
   "metadata": {},
   "source": [
    "#### 1.1.5) \n",
    "\n",
    "Consider the following robot workspace with an obstacle: \n",
    "\n",
    "<img src=\"https://jorge-a-mendez.github.io/images/ese564s24/q15_workspace.png\" width=\"30%\">\n",
    "\n",
    "The configuration of the robot is given by the (x,y) coordinates of its bottom-left corner. \n"
   ]
  },
  {
   "cell_type": "markdown",
   "metadata": {
    "deletable": false,
    "editable": false
   },
   "source": [
    "Give a configuration of the robot that is in C-free and for which $x>1.8$ and $y>1.8$. \n",
    "\n",
    "_Points:_ 2"
   ]
  },
  {
   "cell_type": "code",
   "execution_count": 18,
   "metadata": {
    "tags": [
     "otter_answer_cell"
    ]
   },
   "outputs": [],
   "source": [
    "# Express your answer as two scalars\n",
    "x_1151 = 4.3\n",
    "y_1151 = 3.0"
   ]
  },
  {
   "cell_type": "markdown",
   "metadata": {
    "deletable": false,
    "editable": false
   },
   "source": [
    "Give a configuration of the robot that is in C-obs. \n",
    "\n",
    "_Points:_ 2"
   ]
  },
  {
   "cell_type": "code",
   "execution_count": 19,
   "metadata": {
    "tags": [
     "otter_answer_cell"
    ]
   },
   "outputs": [],
   "source": [
    "# Express your answer as two scalars\n",
    "x_1152 = 4.0\n",
    "y_1152 = 3.0"
   ]
  },
  {
   "cell_type": "markdown",
   "metadata": {},
   "source": [
    "### 1.2) 2-link planar arm (20 pts)\n",
    "\n",
    "Consider the case of the 2-link planar arm with two revolute joints, as depicted below.\n",
    "\n",
    "<img src=\"https://jorge-a-mendez.github.io/images/ese564s24/twolink_workspace.png\" width=\"30%\">\n",
    "\n",
    "The base of link 1 as at the origin of the workspace, (0,0). The links of the arm both have length $L_1=L_2=3$. There are three obstacles in the workspace, with vertices annotated in the figure. The configuration is given by the angles of the joints, $q_1$ and $q_2$."
   ]
  },
  {
   "cell_type": "markdown",
   "metadata": {
    "deletable": false,
    "editable": false
   },
   "source": [
    "#### 1.2.1) \n",
    "Which of the following represents the configuration space of the robot? Black pixels represent free space, and white pixels represent obstacles.\n",
    "\n",
    "*Hint: consider writing your own piece of code that visualizes the robot in your choice of configurations.*\n",
    "\n",
    "<img src=\"https://jorge-a-mendez.github.io/images/ese564s24/twolink_cspace_option1.png\" width=\"24%\">\n",
    "<img src=\"https://jorge-a-mendez.github.io/images/ese564s24/twolink_cspace_option2.png\" width=\"24%\">\n",
    "<img src=\"https://jorge-a-mendez.github.io/images/ese564s24/twolink_cspace_option3.png\" width=\"24%\">\n",
    "<img src=\"https://jorge-a-mendez.github.io/images/ese564s24/twolink_cspace_option4.png\" width=\"24%\">\n",
    "\n",
    "_Points:_ 3"
   ]
  },
  {
   "cell_type": "code",
   "execution_count": 20,
   "metadata": {
    "tags": [
     "otter_answer_cell"
    ]
   },
   "outputs": [],
   "source": [
    "# Express your answer as a lower-case Python string (e.g., \"a\")\n",
    "ans_121 = \"b\""
   ]
  },
  {
   "cell_type": "markdown",
   "metadata": {
    "deletable": false,
    "editable": false
   },
   "source": [
    "#### 1.2.2) \n",
    "\n",
    "How many connected components does this C-space have?\n",
    "\n",
    "_Points:_ 3"
   ]
  },
  {
   "cell_type": "code",
   "execution_count": 21,
   "metadata": {
    "tags": [
     "otter_answer_cell"
    ]
   },
   "outputs": [],
   "source": [
    "# Express your answer as a scalar integer\n",
    "ans_122 = 2"
   ]
  },
  {
   "cell_type": "markdown",
   "metadata": {
    "deletable": false,
    "editable": false
   },
   "source": [
    "#### 1.2.3) \n",
    "\n",
    "Give an example of a configuration $q_1, q_2$ that is in C-free.\n",
    "\n",
    "_Points:_ 3"
   ]
  },
  {
   "cell_type": "code",
   "execution_count": 22,
   "metadata": {
    "tags": [
     "otter_answer_cell"
    ]
   },
   "outputs": [],
   "source": [
    "# Express your answer as two scalars in [0, 2pi]\n",
    "q1_123 = 1\n",
    "q2_123 = 1"
   ]
  },
  {
   "cell_type": "markdown",
   "metadata": {
    "deletable": false,
    "editable": false
   },
   "source": [
    "#### 1.2.4) \n",
    "\n",
    "Give an example of a configuration $q_1, q_2$ that is in C-obs.\n",
    "\n",
    "_Points:_ 3"
   ]
  },
  {
   "cell_type": "code",
   "execution_count": 23,
   "metadata": {
    "tags": [
     "otter_answer_cell"
    ]
   },
   "outputs": [],
   "source": [
    "# Express your answer as two scalars in [0, 2pi]\n",
    "q1_124 = 1.25 * np.pi\n",
    "q2_124 = 0.75 * np.pi"
   ]
  },
  {
   "cell_type": "markdown",
   "metadata": {
    "deletable": false,
    "editable": false
   },
   "source": [
    "#### 1.2.5) \n",
    "\n",
    "Give an example of a pair of configurations $q_\\text{start}$, $q_\\text{goal}$ in C-free such that there is no collision-free path from start to goal.\n",
    "\n",
    "_Points:_ 4"
   ]
  },
  {
   "cell_type": "code",
   "execution_count": 24,
   "metadata": {
    "tags": [
     "otter_answer_cell"
    ]
   },
   "outputs": [],
   "source": [
    "# Express your answer as four scalars in [0, 2pi]\n",
    "q1start_125 = np.pi\n",
    "q2start_125 = np.pi\n",
    "q1goal_125 = 2 * np.pi\n",
    "q2goal_125 = np.pi"
   ]
  },
  {
   "cell_type": "markdown",
   "metadata": {
    "deletable": false,
    "editable": false
   },
   "source": [
    "#### 1.2.6) \n",
    "\n",
    "Give an example of a pair of configurations $q_\\text{start}$, $q_\\text{goal}$ in C-free such that there is some collision-free path from start to goal.\n",
    "\n",
    "_Points:_ 4"
   ]
  },
  {
   "cell_type": "code",
   "execution_count": 25,
   "metadata": {
    "tags": [
     "otter_answer_cell"
    ]
   },
   "outputs": [],
   "source": [
    "# Express your answer as four scalars in [0, 2pi]\n",
    "q1start_126 = 0.25 * np.pi\n",
    "q2start_126 = 1.0 * np.pi\n",
    "q1goal_126 = 1.25 * np.pi\n",
    "q2goal_126 = 1.0 * np.pi"
   ]
  },
  {
   "cell_type": "markdown",
   "metadata": {},
   "source": [
    "## 2) RRT implementation (60 pts)\n",
    "\n",
    "We are now going to write an implementation of RRT for the Panda robot. Run the code cell below to initialize the relevant variables and visualize the environment with obstacles.\n",
    "\n",
    "The following three functions defined below may be particularly useful for your implementation and debugging: `set_joint_positions` and `get_joint_positions` are self-explanatory, hopefully. `get_home_joint_positions` returns values of the joint positions where the Panda is in a \"default\" configuration. `get_goal_joint_positions` returns values of the joint positions where the Panda is no longer between the obstacles. You can use these to debug your overall RRT implementation.\n",
    "\n",
    "**Do not modify any paths in the cell below, as this code cell must run exactly as is on the autograder, which assumes the paths are fixed to the values set below.**\n",
    "\n",
    "**If you work on Google Colab, you will likely need to set up virtual rendering to be able to visualize things. If you do, please remove any cells that set up virtual rendering before submitting your assignment, as virtual rendering is not allowed on Gradescope and it will likely cause the autograder to fail on all subsequent questions.**"
   ]
  },
  {
   "cell_type": "code",
   "execution_count": 26,
   "metadata": {},
   "outputs": [
    {
     "name": "stderr",
     "output_type": "stream",
     "text": [
      "libdecor-gtk-WARNING: Failed to initialize GTK\n",
      "Failed to load plugin 'libdecor-gtk.so': failed to init\n",
      "No plugins found, falling back on no decorations\n",
      "libdecor-gtk-WARNING: Failed to initialize GTK\n",
      "Failed to load plugin 'libdecor-gtk.so': failed to init\n",
      "No plugins found, falling back on no decorations\n"
     ]
    },
    {
     "data": {
      "text/html": [
       "<table class=\"show_images\" style=\"border-spacing:0px;\"><tr><td style=\"padding:1px;\"><img width=\"640\" height=\"480\" style=\"image-rendering:auto; object-fit:cover;\" src=\"data:image/png;base64,iVBORw0KGgoAAAANSUhEUgAAAoAAAAHgCAIAAAC6s0uzAAA2XElEQVR4nO3da2xb95nn8eeQh1eRlGTJkhxfYidp6qY2mg7ipmmbpEhRYHfaBXbQooAyE2A6XUzbHXR2GqAv8qINimD6Zi8tigUWGExnBn2TzhQoitk3TTqzUyNtmm0maTL2Jo1tWY5lRzeSong/5OHhvnis42PqYkkmeXj5fl64JEWRh2qrn57/5fmLAAAAAAAAAAAAAAAAAAAAAAAAAAAAAAAAAAAAAAAAAAAAAAAAAAAAAAAAAAAAAAAAAAAAAAAAAAAAAAAAAAAAAAAAAAAAAAAAAAAAAAAAAAAAAAAAAAAAAAAAAAAAAAAAAAAAAAAAAAAAAAAAAAAAAAAAAAAAAAAAAAAAAAAAAAAAAAAAAAAAAAAAAAAAAAAAAAAAAAAAAAAAAAAAAAAAAAAAAAAAAAAAAAAAAAAAAAAAAAAAAAAAAAAAAAAAAAAAAAAAAAAAAAAAAAAAAAAAAAAAAAAAAAAAAAAAAAAAAAAAAAAAAAAAAAAAAAAAAAAAAAAAAAAAAAAAAAAAAAAAAAAAAAAAAAAAAAAAAAAAAAAAAAAAAAAAAAAAAAAAAAAAAAAAAAAAAAAAAAAAAAAAAAAAAAAAAAAAAAAAAAAAAAAAAAAAAAAAAAAAAAAAAAAAAAAAAAAAAAAAAAAAAAAAAAAAAAAAAAAAAAAAAAAAAAAAAAAAAAAAAAAAAAAAAAAAAAAAAAAAAAAAAAAAAAAAAAAAAACAnmf4fQEA+svjfl9AF5z1+wIwFAhgALsXFqn6fQ1dEPD7AjAU+N8ZALR41u8LwFAggAHsya/9vgBgQJh+XwCAXvHwww/HYrHHHnssEAiIyOOPPy4iZ8+e/cUvfmHb9i9/+UsREfm1yCO+XmYXaAX8bZ+vAoOOOWBg6Dz22GOatSLyyCOPRCKRxx9/XEN3S81ms1gsnj179i//8r+98sp/EHm6ixfrl28TwOg0AhgYTA8//HAkEnnsscdEJBAIfPKTn9RHDMPYIWu31Gw2y+Wybdvr6+vf/e7/+973/l1nLrnXkMHoLIaggf722GOPnTlzRsvZj3zkI/F4XItaEdlH1m6p2WwGg0Hbtk3T/E//6VihcO0HPzhy5y8LDDkqYKAPaMRqCSsiH/3oRz/xiU/E43HNV8MwRKQtWbslx3FqtVq5XK5Wq6VSaXV19b//98RPfnK6Q2/XS1imig6iAgZ6yJkzZx577DG3nI3FYmfOnInH47KRr+0qavdK39R969nZC7/97ej8/DHvcz760erHP24Hg8Fms/mrX4Xq9dqrr450/1Lb6llGodE5VMBAN5w5cyYYDOpt0zQDgYB33NgNXW+++pW1qtlsXr582TTNY8eONZtN2aiz1fLy8ttvT3/723L2rIjI176WffrpQiqVCgQChmEYhtFsNmu12v/5P87/+B/J3/wm5tenaAeKYHQKAQy008c//vGPfexjImKa5iOPPPLoo4+GQqFgMOhWkI7jiEihcCOu9Lv8zdoWjUZDRH76059+7nOf07uO4wQCgVqtFo1GNVxFRP/94Q/f/b3fK9x1112maerH1AAWEcdxLMsqFov/9b/G/+f/nPD1M90JlmKhUwhg4I489NBDjz/+eDgc/sY3vhGJREKhkGmabkrJrYWjK5/Pp1Kp7l7pbWju5nK5kZGRYDDYaDQajYZt2+VyuV6vz8zMhEKhlm9pNptLS0tra2tjY2MTExP6iPvHRLPZbDQalUqlUCj87GeVr371ZPc/VJv0yt9GGDDMAQP79JWvfOWZZ545ePBgOBx2h5ddW+auq1wu+xXAGrRaiOtt/de27eXlZU3ZZDIZDodLpVIgEEgkEolEQr+35UM5jhOJROLxeKFQMAxjfHxc10sHAgF3xjoSiTQajU9+svqlL/Xv2mlmgtERBDCwH3/4h3/49NNPT0xM6NxtD/IGrWyMJLtftW3btu1ms1mpVCqViohks9lkMhmLxZrNpm3bwWAwmUy2vGZzg44zBwKB0dFRfdloNGqapojoAIA+PxQKOY4TCoVisdhXvrJcLBb//u/7sQ4mgNERBDCwZydPnvzzP//zycnJzYXvLuXz+ZmZmXZdjzdcW4JWNrJWNiJZh5RFpFar6Q0RKRaLoVDIrVwdx3Ecp+XTuYWy3tUnG4aRSqUcxzEMw53qdhmGEY1GQ6FQo9HI5/NPPnnx7//+F+361N11VGTB72vAoCGAgb05efLk9773vVgstjmiOs1xHE1B2Spo9UE3IG3b1idr0Go3KxGp1+v6nGazWa/X0+m0aZqRSMSdxNUX0XDVolbfV1NZNpZf6TO12B0fH7969WoymdxyKZlhGLFYLJlMplKp//gff/fTn6505KcD9BsCGNibp556anx8fHR0VER0FFdTystdgeUNpJ1nhb28QevGXsvru9O3ett9fq1Wq9VqIlL3kI3crVar1WpVRCzL0qdNT08fO3bs2rVrunCsXq9rLWt46PXo4LNejNv645VXXjl8+PDi4uKZM2dM02w2m9VqtVKp6I9FE1r/1Unif//vxwhgQBHAwB5861vfevTRR2OxWDQadds9tgSkBpXedmtEl94tl8vuc9xvsW17c9a6r+OOALtZq7yJ6w4vu7nrTVzLsvTdtXDXf1966aX33nvvT//0T6PRqA5Wu2PLGqiBQMCd9F1dXX3nnXfq9fq1a9cWFxcPHjx4//33j42N3XvvvSJSKpUymczZs2fj8fjLL7+sl3fPPfdYlvXwww+nUqlqtTozM/Pgg2+88UZ8n/8F+IbxZ7QfAQzs1uc+97lPfOIT0Wh0dHQ0GAy62169z/Gm73a0EUfLhlo3yN2s1drRHVJ21ev1Wq1m23apVNKxZdu23dlcTdxms2lZVrVadfcfu+PJtVpNV11pSJdKpZdfftkwjIceemhmZubkyZOFQiEcDodCoVqtpiut6vX64uLipUuX0ul0JpMpFoumaerSqgceeCCRSNTr9eXl5X/6p386d+5cy9VevnxZRH7yk58cPnz4nnvuqdVqhw7d9cYbuX39NwAMFAIY2JUPfvCDf/zHfzw6Ojo6OuqWvy1TnpvTtyWeA4GAd9pYv+o+x52mbaFB6xa4btbqe7k1rt5w+2AEg0HTNDWtxVMTu/SRy5cva1q/9dZby8vLc3Nz8Xg8FovFYrHx8fFEIqFJvLa25u4MbjQawWAwFArV6/Vqtbq4uLiysvLCCy/kcrkdfoDXr1+/fv36gQMHDh68KHJwh2f2HspfdAQBDNzeyZMnv/Wtb6VSqVgsNjY2FolEtALeXP5673q/qqWkBnY2m92chYZhhEKheDyeTqd12ZSWpy3PFBGdZBVP9LqbbrdM3O3+dd/acZxSqRQKhaLRqBuxjuPYtm1Zlk5Cl0qlYrFYqVS0qk4mk4lEotFoXLx4sVqtvvrqq6VSaTc/yWw2m06n+y2AgY4ggIHb+NrXvjY+Ph6Px93B53A47Baarpbp25bq1k3fTCbzxhtv5HK5qampSCQyOjqq7aIMw8jlcplMRjNVPHHuJq5bYrrvri2XZdOSK9mq5N2SPkfPO8pkMvF4XIM/Go2Gw+GlpSXtpFGpVPQ0pGq1Go1GK5VKMBh0HOeVV15x/w7YpZMnT/7zP69Y1tTuv8VvVMDoCAIY2NaXv/zlZ5555u233y6VSgcPHvSuvWqZ/W2pfVsWP7tPnpubu3Llivsly7LeeeedlZWVSCSSz+fHxsb08bW1NX1B76Cuvo473Vsul91tRXJrUXtb3qnlBx54YGpqqlgs6jvq1HIwGNQ2WO7JCloH27atd/VvgkqlsrS0dOLEid2/tfq93zv461/v9ZuAQUMAA1v7i7/4i69//euZTEbT1zCM0dFR98gBb8R6p35bKmP3mbZtz83NXbt2TR+3bXt9fT2fz+dyuVqtViwWy+VyOp2uVqumabr7mhqNRqlUMgyjUqm0FLi74Q1ab9fJFhMTEyMjI1pJy6Y/JsSz8VduHVfX4xZ2fz2uI33WkvKa3xeAwUQAA1v4/ve//9nPfnZhYUHHYCORyNjYmI7KukWhOwjsTaYt07fRaHjT17Ksf/u3f5ufn9eFxLpByN1PbFlWPB6vVqtbLsjaUkvQbpmyyjtO7g1aPbLJfSndeqT/6hN0i1S9XtcqPBqNylZRvUtHj+7v+4CBQgADrb7zne989KMfzeVyS0tLIuJde6WNjlsGn90k3py+2sLi9ddfLxaL+vjKyspvfvObUqmkKVsoFNzuj5rEIrLllGpLJ0gN2u0CVTxZ661fb0v/trjtZVy8WP3f/zsmkvzUp/ZTAQMQAhho8fnPf/4jH/lIJBJx01fLX8MwWtZeuYWvFsHeWWFN30ajkU6nr1y54k3fN954o1arOY7jTuJ622bpPiVv30e3om0JVK99V6KbbdcJpOXx116LicgjjyzE4/G33nprcnJyaurmoqrtzjZ2H3ccR6Rt19x5LMJCRxDAwE1Hjhz5/Oc/PzIysrCwUK1WI5GIlr/RaDQWi20eZJaNIWg3fd0lV5q+b775prvxV9NXw7hQKLS8oHaU9LZ7dF9/l6G4y6/u/F239cYbc2++Wbz//gc/+9m0bdvNprl5Gvi2b72wIBxGDhDAwE0PPPBAMpksFAo6+ppKpQzDGBsb04VRm7ceaenppq9b+DqOMzc3d/XqVU1fy7JWVlbm5ubcUrjRaOjeX22ApQPL+jq6I6gtH2fnrG3phbnll1pe4a23Fs6du3LgwD0HDoyvro4/+OCBxcVXdSZ7Txd2rZ9WNVH+olMIYOCmz3zmM/V6XTfduoPP7torubVr1eYuV276Xr582U3ffD6/srKysrKSzWb1mYuLi5VKZWRkRDwNOtwYbml0tQPv2USuzd+15VkO7pfcSWV3G5Le1QMERSSbzTabzXw+v7q6LjIpItls/JVXAiLyf/9v7j//50feeuuFzcdR7GxhgfIXIICBDUePHp2YmNAE0sHnaDQ6NjYWDoc1YFpmf1sWP+vy4Gazefny5XfffddN34WFhfX1dTd9l5eXdXBbm0zpg+7k6A7nMWwZt5u/pSVQxXN+gz6tXC7rW+sMtP7F0Gg09EH3aIethFvuP/LIwtWr73z605++tpeS9te/pgIGRAhgwPXEE0+EQiG9nUqlRGR8fNwwjEgk0jJZ636LO/JsGIZWrq+99lo+n29J32KxqKm2vLyssbe2tpZMJsUziO3O/m4+fcE9vldE9HX0trdW1sJdJ5K1k6WIaAcrvdGuYW3XxER5crLSbMqFCxf0LOHdyGQymYwhstvnAwOMAAZuePDBBzU4dfBZ115Fo1G307JsSl89OleDc21t7fLly276rq6urqysaPrq1K+bvuVyeWVlRQ9OkI1jAd1D78Wz8tlNULcw1S+5t9seq7tXLlf0p5HJZERkNxmcyWQymUy9Ptrxi2unfqrW0V8IYEBE5L777ovH47Ix+CwiY2NjeqCQexpuS/q6k74isra29tprr+kJDfl8Pp/Pr6+vr6+va5crEVldXfWmb6FQWFm5eS69u9S5Vqv5G6u7F4ksl8uW/tAymUylUpmYmIjFYseOHbt69WrLkx966KEXXnghk8mEQiH9kwIAAQyIiHzqU58Kh8PiGXzWts/u4PPm9NW9RiIyNzd3+fJlTWttMOmmr079rq6uagxr+pbL5evXr/vyMdtkWv+jWq3eddddgUCgXC5XKpVr167FYjFvA6/77rvv3Llz5XL5woULIpJIJCKRSLncOpcMDCcCGBARWVtb0+neSCSyee2VN4B12Fk2hqO3S18RcWtfb/qurq6m02m/PmYbGYahpyWmUqmRkRHLsoLBoGVZGsb6HA1j7SNmmmaj0cjlco4T3PGFew2LsNApBDAgIvK+970vHA4fPHhQRPRUIj31SDZWSOltrX3dVdDe9F1ZWbEsy03fbDarB/xpCNm2ncvl+jx9Iy33q9WqdvUSkUgkEgqFdG+VeJaV6V13JbbccScQYGAQwICIyMjIyPj4uIho0yvvxt+WVpHuXTd9G43G4uKiiHhrX03fYrGoC5tXVlauX7/ez+krLc0jA4GgiCwvLx84cGDjkYCIfPe73/U+7etf/7qIaPkrIpVKRSTencttB8pfdBABDMj09HQoFCoWi+Pj46Ojo/V6vdFo6IE/Le2d3fR99dVX19bW9NxcbVjhTd9isVgoFAYrfbemG4j/+q//ersnePO4Wq3+wR/8QVeuC+gDW/dMB4aNTuvq/K7jOIZhuNuEarWantCnz8xmsy+++OJ26avLnguFQi6XG/j0FZFcLvelL31p989/6KGHyuU+2gRMBYwOogIG5MiRIzpAalnW0tLSoUOHRGRhYcEwjNHRUZ33FZFwOFyr1d58800RCQaD2WxWzyFw01dE3PS1bXvg0nfr/pFvvvnmxz72MV1DfltLS0si/bUPGOgUAhiQ6enpcrkcCAS0h1Q2m9X1z8lkcnR01B12rtVqc3NzIuI4jruL15u+2Ww2nU6vr69r+uZyuQFKX68p75033nhj99954UKlrwKYLhzoIIagAalWq5q+ent5eVkHlm3bLpVK7tN0crdSqbiZury87K19M5lMoVCwbbter+dyufn5+cFK31tq3Ezm/nT6fhGp1WrLy8s+XRLQxwhgQHK5XL1eX1paWlxc1MgsFAr5fL7ZbJbL5VKppDtqlpaWKpVKoVDQ71peXnaPwi0Wi4uLi/l8Xmvo9fX1QqEwWOm7hUzmfhF5/fXXd3kYQ6FQuHSp2uGLAvoGAQzIyspKvV4vFAoXLlxYXV2t1+uO46yvr2u+Li0tZbNZHV7eMn1rtVpL+mqfrMnJSd8+Urek0/c3m82zZ89almVZlvvzaVGr1bQPSS6X7PIV3hkWYaGDmAMGxLbtdDo9MzNjGIYOPo+OjorI+fPnRcQ0TdM0tdOTNppoSd933323WCzqyPP6+vqBAwe0fbR3+HpQZTL3T05eeP3113/yk58Ui8WJiYmRkZFwOOw4TiKRcHuSFAoFx3GuXr16uzOOgSFCAAOSz+dzuVw0Gk0kEoZhZLPZUqmUSqWKxWIgEIhGo+FwuFqt6hm6lmVVq1V30e/i4mKxWKxWq1r/PfDAA9FoVFtAu9PDgy2dvj+Xy7322mt6HLKImKbpNsoOBoOhUMiyrHq9vrq6Wqkc8ft6d6/1SAmgvQhgQMrl8sLCgmmalUolHA7rAHI+n9dirlqtZrNZwzBCoZAesaDfFQwG9biFWq2m6fvQQw9NTExkMploNLq+vj46Ojo5OTnwM8G1Wq1UKl2+fLnRaCSTSR0t0JOJtT+lDg+IyPz8Ib8vFughBDAgIrK0tHTkyBHbtk3TdBxHzwes1WrxeFzjRJ+mfYx1kthxHE1fXZn1yU9+MpVK1Wq1YDCoXbRE5ODBgwMXwFMt92u1qYWFtxKJxLFjx/SRUCgknp7PupXrpZfsixf7qAmlsAcJnUYAAyIiV65cOX78uFZs7lkLhmHo1K+2xHIcp9FoNBoNvVuv1930/fSnPz0zM6OnA0WjUcuydBZ5fX09Ho97T+gbPJY1lcv9lxdffNrvC+k1LHHFbfA/EeCGxcXFQqGwvr5er9fr9bplWTpwatu2ZVm6wtmtfUUkn89XKpWpqakvfvGLhw8fdqtk0zR15lhERkdH3QOC+l/raUiuWm2um9fRJ571+wLQ6whg4IZ33nnn7bffLpfLupio0WhUq9VCoVAul+v1uh5za2/IZDL5fH5qauqJJ57QE5PckWdvAKdSqWHYjGRZBPBmBDBugwAGbrp48eLCwkI2m61UKjoTLCKNRqNWq7nj0iKyvr6ezWYTicQTTzzh/fZAIKDpq2cJ6yi0LsXy4cPAf2QwdkIAA7coFAq6hVcXWHm/1Gw219bWlpaW0un0Bz/4wc985jPaIcs9KElEtIm0rkJyi+CjR49+6EMfuueee2KxWHc/TTf92u8L6EEEMHbCIizgFnoqgzbT0LjVLb/NZtOyrOnp6aNHj546dco9J9grGAxqAGsF7K6FHhkZCYVCY2Njhw8frlarmUxmdXV1u6ZR/WlF5Ncij/h9GT3oWZFv+30N6FEEMHCLYrFYq9UajcbIyMjY2Fg0GjUMQ7cnTU5OblfCBgIBHbLWtDYMwzRN27ZHR0fX19enp6dDoVChUKhUKqZpxuNxTeJisXjt2rV77713TwcK+a11GxJ2RABjWwxBA7coFoulUkk3Dukq6GazOT4+3jKPq4PPW97VPlBuEVyv1/XxZDI5OTmZSCRCoZBpmolEYmpq6kMf+lAsFvvABz5w/PjxBx98sCsfsUMYgt4OA9HYGhUw0KpQKExOTlar1Wg0qruBG42G3nAcx53x9d7WClg2RqFt23angVOp1NTUlLb1sCxrZGQkEolUKhXd0RQIBEKh0OTkpC69/vCHP1woFJaXl3tvgDp8uycQwMDeEMBAq7W1tSNHbrQstixLq1jTNLVHhyZxy7d4H9Hule4E8LFjxzSbo9GoaZq1Wk0XS9fr9Wq1qvWxO3kcCoWi0ejk5KQeH3T9+vV77rnnzTff7MKnRsdoBcxANFoRwECrtbU1bb4RjUa19q3X6zoNnEqlYrGYjjZ7K2AR0d3AIhIMBvVuJBJJp9NjY2PNZlPPStJNSqFQqF6vBwKBYDCou431rmwkseM4pmlGIpFUKiUiJ0+e1J1RvVcWt2AdFrAHBDDQStdhVavVWCwWCASq1WooFNLUzGazkUgkmUxGIhG317Fs9K10R6EjkYhlWaFQqFqtioge5KBx60avvqDjOIZhhMNh7bQVCAQ0ibXtpW3bjUZjbGxMkzifz9u23ZMD1CsiQgBv71mRX4ic9fsy0FsIYGAL8/PzH/7why3LchwnHo9rHOriqVqtlslkRCQSiYyPj+tiK9no0aG0CI5EIkePHtXW0Lpd2DCMYDCoJbVGr75so9HQDlwawyKiSRwKhVqS2HGc8fFx27YrlUoikfjXf/3Xrv9sprv+joPhkwQwWmyxlxFAPB4/c+ZMKpXSEwljsZgeyaA9JnW+1jAMHWdOpVIaw+6C51qtls/ns9msu3ZaG1jqEblujy3HcfSgXC2dNVb1afV6XZ/schxHm1HrbfdFCoVCIpEQkQ6HcVhEP8unttqJ9LyIiDwi8uNOXkO/Y9cJbkEAA1ubmpp6//vfPzo6GolEoht0qFlHpEUkGAxqsSsiqVRKF2rp3XQ6XalUJiYmarWa5qvOBGtFq/HpxnC1WnW7bu0cw+JJYn0FN4nz+Xw8Hv/tb3/bmZ/HbgJYOMJvR99mKRa8CGBgW/F4/NSpU+Pj47p5V49biEQiOpIcCoXcUWV3NZauogqFQul0emZmRkT0XActc/W2pqaebOgOXGugWpaliauLtqrV6nYxLFslsW3b999//49+9KMO/DAI4LagCMZNBDCwk2g0evfddx8+fFjHmXVe1jRN7ZClcauLqtzFz4FAIJPJBIPBw4cP64PNDbqaWmNYPAcMewvZRqNhWZbekI2CWEeqt4xh91u0sK5UKsePH//Hf/zHdv8kkiJJEdkqgFdE/nnj9o9Zh7UjimDcRAADt3fkyJHjx48nEglto+GWuZq7uj9YRPR2MBi8dOnSiRMn9FgkjW3xdMvyVq76+vV63T1wyeXGquwuhvVbisVioVB466232v0z2GUAPy3ydLvfesBQBOMGVkEDt3ft2rVsNvuBD3ygXq/rKLRuQ9LyV/te6S4jx3FyudyJEydEROtRy7LC4bCOV+sS6EAgEA6HtReHLqpqNps6eax1sP4bDAbj8bhsJLFpmrFYbOcYDgaDIyMjzWZzZmZmaWmpuz8k7BLdoXEDAQzsSrlcfu211+69997Dhw/rBG00Gg2FQnr6gttUUttoNBoNd3GWrrHSPh76nEAgoDEciUT0kAb3Xdx2HOIJY28SRyKRRqOhMVypVDbHsO4qPnLkSMcCmMMY7hABjBsIYGAP5ubmVlZW7r77bu3erK2yarVaOBwOBoNam46NjVUqFQ1Cd32Wrn/WeNY9vqZp6mTwdkPKLWEsIjrrLCLxeNyyLMuyisViSwxrU8xoNHro0KHFxcXO/0ha0BF6N8hgiBDAwF4VCoXz588fOnTo2LFj0Wg0Ho/H4/FGoxGLxUqlkp5dqDFpWZbuWdLaV89j0OjVgetAIFAul7dsLt1Cw9htkmWapmmaIyMjqVSqVCqtr697Y1h7ch0+fNinAP5fXX/TvmP5fQHoCQQwsB+Li4uFQuHQoUMHDhzQAedqtZpKpZrNZrFY1A1L2q9DTxc2TVOrYY1hTdATJ068/vrr+oKawdrcQ2493aGFN4y1V1ckEhkZGVlbW2sppg8ePLi6utqmT3zb05DUlMhcm95xgC34fQHoCQQwsE/FYvHixYuJROLQoUOHDh2yLMu27Xg8Hg6HG41GqVTSptDuULNmsMawjkgvLi6OjY3lcjnZ6GTpXQjdEsbeSF5ZWTEMI51O612dddbbetahiAQCgZGRkfYF8A6WO/8WA4bd0hAhgIE7pDG8uLh41113TU9P1+v1UCgUj8d1b5IWxxrDtVrNDeBgMGjb9sLCzUrI2ODedbctiSeDy+VyuVxeXV31Plk8ZzFVq9VkMrm+vi4isVisaz8H7AUVMEQIYKAtisXihQsX3nvvvc0xrA2q9HhBEdFI1i7QOvur7bS8M8GbC1/96srKSjabFZEf//jHOrWsz9cDDS3Leuqpp5rNZj6fHx0d1RMjAPQsAhhom5YY1gMNY7GYnjyoqawxrGumtBrW0WNdGq11rdayLXm8vLycy+X+4R/+QWtr71HEsjEl/Hd/93e5XO7LX/5yPp/vzEdkD1JbMAQNEQIYaDtvDE9MTMTj8ZYYdvcX6YmEbgzrXS99QcMw5ufnK5XKD3/4Q2364RbH3jlj0zR19vfZZ5+1LOvZZ5+977773n77bT9+BtgB48+4gQAGOkJjOJFItMSwbhcWEdM0w+GwLsiSjQpYs7klhufn55955plkMikiOvLsbi/WJNZlX8FgUHt66Caop5566q/+6q+68llXPLcpkYHdIoCBDnJj+PDhw5OTk9VqVSeDTdPUE4LdGNYjfr0D0SJiGMbS0tKf/dmfOY6jp0Fou+mWd3GPgtCOmPriItJsNqPRaLVa7f4HB3BbtAUHOq5YLL7zzjuvv/76lStX1tfX19fXi8WidoHWUxZ0r7CI6Iot94ikfD7/3nvv6WGIstEJS7tibaarrLVBps40P/7447dt8bFrkTa9DpgAxg1UwECXVCqVS5cuXbt2bWpqampqKpFIhMNhbQddq9U0XN1aVkQcx1lYWHjqqadCoZBmqmVZyWRyu0yt1Wp6IxwOO46jI95d+mzYA+aAcQMBDHRVtVq9evXqysqKxnA8Htfjlbz7ht3twvl8PhKJeE8q3C59ddOwjl17B7q7+MkUc8DAbhHAgA80hq9evZpMJo8ePToxMRGNRnX02I3hcrn8+7//+zqJqzGsi61EZPM0sOM4oVCoWq1qc0oRaTQaLVuV2oF8vXMMQeMGAhjwU6FQeOutt7aMYT30V5tsGIahByCKiG5kckeqRURPZGo2m1r7ioht2+VyWc8x1L1JnbRy+6fgBsafcRMBDPhPYzgajWoMJ5PJaDQaDocNwygWi+VyWZ/m9pduNpsjIyP6oFbMuoxLT1iybbtYLOrL6nJoAD2IAAZ6RbVavXjx4sWLF2dmZqampqanp/P5/PT0tIisr68nEolIJFIul23bjkQi4XBYB6I1bqvVqlsrVyoVfbBcLk9MTGhfaAC9hgAGes7S0tLS0tJdd911zz33aC2rW5JM00ylUiMjI+FwWFti6cKrcDhcqVS0HXS1WtVeH7VaTYO5HVe0y7MIcVtMAOMmAhjoUWtra++9997BgweLxWIsFqtUKqZplkqlYrH4/ve/X0Tq9bppmrpYemlpyXGcYrFYq9VqtZpt25ZllUqltbW17l41q7R2xhwwbqIRB9C7VldXs9msbdvr6+uZTEbP/S2Xy1euXMlmszocvby8vLKyIiJra2ulUqler7vfUiqV2n1F05seYQUWsE9UwECvmJ2dPX36tHt3bm7u/PnzzWZzdXV1amqqWq06jjM6OhoIBBYXF0dGRubn5x3HyeVyiUQiEAjkcrlAIFCv13O5nIjU6/XV1dUnn3zy3nvvvcMLO3fuwvPPv3iHLwIR+cu//OrmB8+fP//88893/2LgOwIY6BWnT5/2BnAsFnvppZeKxaKOJMdiMa1rtX+Wjj9HIpFCoZDJZHSllU4VW5al9XG1Wj116tR99913x5cWIYDv3KlTY97/fl3nz5/v/sWgFxDAQK/Y8rdzJpOJxWLZbHZycjIUCiUSiVQqValUdNWViNi2HYvFGo1GPp/XMer19fV0Oq0nI6H3zc7OighF8BAigIGepruJotFoPp9PJpO5XK5YLI6MjKTT6WAwqHuFs9msaZorKyvai8MwjFqtpluSunuxrMAC9oAABnqaYRi6lkpjVUNXlzrrUYY67BwMBm3bdhynWq1qX45sNuv3teMWp0+Pbfel2dlZKuAhxCpooKdZlqUbfGu1mvvv+vp6vV6vVCrZbDaXyzWbzUql4vbiKJfL9XpdB6jb4ty5d9r1UsPs1KmxHb6qA9EYKgQw0OscxymVSoVCoV6vawDrHl8tdi3L0u2/erSw9uKwLKsz17J5kHm5M280dAjgIUQAAz1h8wos9whCPQFJ87VcLpdKJcuytOrN5/NuJBeLRW1C2e1Lx+7sMAStyOBhQwADfUYnerXqbTQabhNKv68LO9l5/FkRwMOGAAZ61Pve9z4R0cN9xVMQ71LXl0ALq6DvHBk8VAhgoKcFAvv5P6njOKZpdj2D9/YnAjYjgIcKAQz0jb0WwSLSjjZYcvr0+7f/Ir2gd+W2E8AuMnh4EMBATzh16tTmB73l7y7Tdx8hjS7YzRzwxjO3+F8CBhIBDPSBvQ4muzPHbXH69P0isosp3s1nJWHPTp8+TRE8JAhgoKe1ROnOSUz527N2PwSN4UEAA4PJMIw2LsLaKIKxH7sff1azs7MMRA8DAhjoCVseheTHViL0hC3/94ABQwADuL1Tp7argFkF3RFMAw8DAhjoD81mc/dTvO1dhIU7tL8JYDJ44BHAANqFTlhb2+scsCKABx4BDPSuXc4Bd2vxM/nabWTwYCOAgZ6w5aKblnbQt6VJ3Inx5x2bYeE29r0HiQAebAQw0Lu0E5YeRyi3q3Q7Wgdvsw2JFVi3t7/xZxcZPMAIYADoXQTwACOAgV508eLFb3zjG/Pz894Hd1nj+rR7mBniTiGDBxUBDPScixcv/uAHPxgfH08mk3fyOqZptuuShGng/aIJJbbTzv9/Atgf7wqsn/3sZ2fPnk2lUiMjI6ZpWpa110VV7vPD4XA7r1KmRHJtfcGhcIdzwLJRAT///PNtuBr0EgIY6CEvvvjiSy+9lEqlotFoLBaLxWKO49Rqtc3PbDabOw81j4yMOI5z8eJFXUp952Znj7cMhZ47d4FQAPaNAAZ6xc9//vNf/epXiUQiGo3G4/FYLCYiMzMz9Xo9n8/LXtY5x2IxwzACgUAbR6G3GkodI4Bvqy1D0LOzs1TAg4c5YKAn/PznP//lL38ZjUbd2ldE9G4ymbzrrrsmJiZOnDix84s0m81EInHs2LF4PG4YRjQanZub69w1nzv3TudefDDc+fizi6VYg4cKGPDfysqKm77hcDgajWp8RqNREYlEIsFgMJlMhsPhmZmZaDRaKpXK5bJhGM1mM5lM2rZdq9UmJibK5XK9Xq/X6yISDAa1CO7Wh2AVdGdRBA8eAhjw2fT09OHDh6PRaCQSCYVC8Xg8GAy2pK9hGDqYPDY2Fg6Hx8bGAoFAs9l0HKfZbDYajXK5LCK2bYuI4ziBQMAwjMnJyYsXLz7xxBNd+RzdaYc51MjgAcMQNOCnu+++203fcDgci8VM02xJ34BHOBzWura5wX0pd/Gz3ggGg9L+hdDYm/buQWIUesAQwIBvjh8/PjExocPOoVDIe0NEIpGIaZo6huxNUzd9ZaPnhiZuo9HQmth9vmEYV69e9e3joa1zwIoMHiQMQQP+0PTVwtebviMjI7KRvpqvWvKGQiGthmXTcmhtFu22jHa5z9/sueee2+sFf/Ob32x55Pz5C55703t9QewDo9CDhAAGfHDw4MHJyclwOKyhG4lENIk3p69s5GgoFNIk3q4vhwawrsByhUKhubm5e++9dx+JizvXiTZYZPDAIICBbovFYkeOHAmFQm76RqPRYDDYkr462PijH/3otunrOI6uxnIf0cJX12397d/+bSQSufPL1gjfXAdjOx1qQnnq1KlOvCy6jzlgoNumpqa09jVNU9PXNM0t01c2yl/9d7tGHI7j1Ot1Z4M+6B2+buPFeyvpK1febeMrY5dOnz7NTPBgIICBrpqcnBwfH9f0DYVCoVBI01engbXS9f56DQQC0Wi0JUS9S6A1cVsqY12EJSKHDh3q4lZgtPLpZCr0B4agge6JxWIzMzPhcDgYDGrDjUgkoumrzSPl1mWuhmFEIhHDMLTnxna/zXX2t9lstkwA6xB0o9Fw87gtmE7eJV0Crf/dtfeVZ2dnz507d/78+fa+LLqMAAa65OjRo4lEQrttaPmrGeym75bjitqFQ3+Db/d7fPP6Z/FMA3euAi4ULM89OmG1On16vJMvfpoA7neMTQFdouWspq9224jFYvrvlumruXvb+NS9vzsMRO/1NEO0XScGopkGHgAEMNANsVhsfHxc01d3HLnnLmxX+zabTW0tuTPbtneeBm7LEmjsg3cVNBmMzQhgoBsOHTrkDju7y6/0zKItf41q+VupVLZ7Qa16G42GOwG85UC0rqneTZCjvTbvQWp7BhPA/Y4ABjpuZGQklUq5g89aBOsKqS984QstW3iV4ziVSqVlUZVsDDhr18mWRtDbDTWbpkkADyoyuK8RwEDHGYahK581g8PhsLa+0q+6k7jeQLVtu1qter/aaDRs29bo9b64e7clgN0m0gcPHtSwb698nhVYe0YRDC8CGOi4VCql6euufNaBaO9zvDE8NzeXzWar1Wq5XG40Gpvj2WuHRtDubbYCd992xzCQwXDxf0ug4wKBgHfwWdtPisgXvvCFlmdeunTphRdeuHTp0qVLl4rF4pav5k1iby+O7ZimyULo7uvoHiQvArh/EcBAxxmG4Ta90hYcpmm2pO/8/Pyrr756+fJlEWk2m8Vi8cqVK+l0+rYvvuUZDO776iKsUCjUpo+CNqAIhqIRB9Bxmrta+GoR7E3fer3+7rvvXrlypaW0bTabKysrtVpN49P7W3uXnZXcXhxf/OIXDx8+vOVzaGvVIR06iQGDhAAGOq5SqejIczAYDAaDTz75pPul+fn5y5cvbzdE7DhOrVZzHCcSiXhD1w1jt0PWlq+gpzhUKpXt0hcd0uX01QqYMwr7DkPQQMcVi8VaraZzwLFYTB+s1+sXLlzYIX1dtm2Xy2Xv09ww1hs77DIqFot/8id/ssOLt+l4QVZBA3tGBQx0XLFYXF1dHRsbCwaD0Wi0Xq/Pz89fu3Zth7XNLZrNZrVa1Ynkli/Ztr1dAF+/fv369eu3fXHN4J3Hor05rc+8tRE0fDY7O0sF3Hc4KgvohrGxsUcffXR6evqP/uiPrl69urCwsMuVyevr6+5tdzGXbIxCO46Ty+Xy+fzmV0un01/96lfb9wlafeUr37h+Pb9x74Mipzv3Xn1ndvb4k0+e2OEJbT8fSUSef/55Mri/MAQNdEMul3v55Zcdx/nVr361+/RtoQcOWpblls66Vqvl1dLp9O9+97vdrKBGh9x2DxKtoSEMQQNdk8lk/uZv/ubEiRPHjx8XkRMnTrj/7p72fNZlWcFgUG+7X02n0z7l7rQfb4pWDET3FwIY6Kr5+fn5+XkR+Zd/+Rd95Dvf+Y4bw8Vi0e2/sXMjDsuyTNPUmlhEyuVyuVym6u0Rfu1BIoD7CwEM+C+RSLTccH3/+9/XG2NjY6Ojo+5tPaxQx6J9KXwPHJjxzAHjJn93AJPBfYQABnqauwjLuxpLjY2NiUgul+vuFaGnEcB9hEVYQE/bYZ9uLpfbIX3btMEX/YfVWP2CChjodbvZp7v5+fDLducgtTAMoxObkYQiuH9QAQM+O316VztodxmrPqUvnbBu6to5SDugCO4LVMBA39gcrs899xz1LtCnqICBPuZj+p47d8Gvt+5xvXAO0uzs7KlTp/y+CtwGAQwAbdML6at2ObUBHxHAgJ/4LTnMOtGQ0sU0cO8jgAHcIVZg9SgyuMcRwADQNrvcg9QdBHCPI4AB7BkrsLbTC3uQvMjgXkYAA8DAIoB7GQEMAG2z11XQHV2HpcjgnkUAA35is+Yg6Z09SF4EcM8igAHs2enT93vusQq615HBvYkABgDABwQwgP24tQiGSI/tQfKanZ2lCO5BBDDgJzphDZL97UHqwjos9CYCGMB+nDrlVsDMAfcBKuAeRAADQHv05ipoFxncawhgAGiDfadvs9ls64VsiwDuNQQwgP04ffr9fl8C9owM7ikEMOAnFmGhmwjgnkIAA9gPtiG16Nk9SC3I4N5BAAO4Q6yCFtnvHqSuTQC7CODeQQADwHAhg3sEAQxgnxiF9urxPUheBHCPIIAB37ACa2D0UfoqMrgXEMAA9snTDAv70f0JYPQUAhjAnWAFVl+anZ3lLGrfEcAAcKf6ZQ+SFzMgviOAAewTzbBc+9uD5C+mgX1HAAO+YQwQ/iKD/UUAA9gntiG59rEKuhdWYBHA/iKAAeCOJJPrzz33nN9XsU9ksI8IYAB3glXQ/Y0A9hEBDGD/GIUeAGSwXwhgwDfsAxkMqdS6iDAKjb0y/b4AAH3s1Kn7RXJ+X4XP6vVzfl/CnZqdnX3++ef9voqhQwAD2L8nnzzRv5Vfu8Rie/6WXlgCDd8RwADuyDe/+U2/LwF3SkehKYK7jDlgAAB8QAADvmERFnoHS7G6jwAGAIiQwV1HAANAV/XsCiwCuMsIYADADWRwNxHAAIAbCOBuIoABf7ACC72JDO4aAhgAcBMB3DUEMAB0T8+uwPIig7uDAAYA3IIA7g4CGADQigzuAgIY8MepU6f8vgQAfuIwBsAfv/3tbyuVit9XAWwtnU77fQmDjwoYAAAfEMAAgFa/+93v/L6EwUcAA/5giA8YcgQwAKAVfyB2AQEMALgF6dsdBDAA4BYEcHcQwACAWxDA3UEAAwBuQQB3BwEMALiJ9O0aAhgAAB8QwACAm2jB0TUEMOAPBvqAIUcAAwBu4k/DriGAAQA3kL7dRAADAG4ggLuJAAYA3EAAdxMBDAC4gQDuJgIYACBC+nYdAQwAgA8IYACACC04uo4ABgDABwQwAEDS6TRzwF1GAAO+4fcdMMwIYAAAE8A+IIABAPABAQwAYELEBwQwAAw70tcXBDAADDsC2BcEMAAMOwLYFwQwAAw7AtgXBDAADDXS1y8EMOAbfvEBw4wABoChRgsOvxDAAAD4gAAGgKHGVIhfCGAAGF6kr48IYAAYXgSwjwhgABheBLCPCGAAGF4EsI8IYAAYUqSvvwhgAAB8QAADwJCiBYe/CGDANwwAAsOMAAaAIcWfgP4igAFgGJG+viOAAWAYEcC+I4ABYBgRwL4jgAFgGBHAviOAAWDokL69gAAGAMAHBDAADB1acPQCAhjwDcOAwDAjgAFg6PDHXy8ggAFguJC+PYIABoDhQgD3CAIYAIYLAdwjCGAAGC4EcI8ggAFgiJC+vYMABgDABwQwAAwRWnD0DgIYAAAfEMAAMCzS6TRzwL2DAAb8xG9DYGgRwAAwLJgA7ikEMAAAPiCAAWBYMOXRUwhgABgKpG+vIYABAPABAQwAQ4EVWL2GAAaAocAQdK8hgAFg8JG+PYgABvzEr0VgaBHAADD4mADuQQQwAAA+IIABYPAx2dGDCGAAGHCkb28igAFgwBHAvYkABoABRwD3JgIYAAYcAdybCGAAGGSkb88igAEA8AEBDACDjBYcPYsABvzE8CAwtAhgABhk/JHXswhgABhYpG8vI4ABYGARwL2MAAaAgUUA9zICGAAGFgHcywhgABhMpG+PI4ABAPABAQwAg4kWHD2OAAb8xCAhMLQIYAAYTPx51+MIYAAYQKRv7yOAAWAAEcC9jwAGgAFEAPc+AhgABhAB3PsIYAAYNKRvXyCAAQDwAQEMAIOGFhx9gQAGAMAHBDAADJR0Os0ccF8ggAGf8bsSGE4EMAAMFCaA+wUBDACADwhgABgoTGr0CwIYAAYH6dtHCGAAGBwEcB8hgAFgcBDAfYQABoDBQQD3EQIYAAYE6dtfCGDAZ/zSBIYTAQwAA4IWHP2FAAYAwAcEMAAMCKYz+gsBDACDgPTtOwQwAAwCArjvEMAAMAgI4L5DAAPAICCA+w4BDAB9j/TtRwQwAAA+IIABoO/RgqMfEcCAzxg8BIYTAQwAfY8/4/oRAQwA/Y307VMEMAD0NwK4TxHAANDfCOA+RQADQH8jgPsUAQwAfYz07V8EMAAAPiCAAaCP0YKjfxHAgM8YQgSGEwEMAH2MP+D61/8Hq3AJMiuT+qYAAAAASUVORK5CYII=\"/></td></tr></table>"
      ],
      "text/plain": [
       "<IPython.core.display.HTML object>"
      ]
     },
     "metadata": {},
     "output_type": "display_data"
    }
   ],
   "source": [
    "import mujoco\n",
    "import mediapy as media\n",
    "import os\n",
    "import glfw\n",
    "\n",
    "def has_valid_renderer():\n",
    "    \"\"\"Checks if OpenGL can be initialized successfully.\"\"\"\n",
    "    # Try initializing GLFW\n",
    "    if not glfw.init():\n",
    "        print(\"GLFW initialization failed. No valid renderer.\")\n",
    "        return False\n",
    "    \n",
    "    # Try creating a hidden window to test OpenGL context creation\n",
    "    window = glfw.create_window(640, 480, \"Renderer Test\", None, None)\n",
    "    if not window:\n",
    "        print(\"GLFW could not create an OpenGL context. No valid renderer.\")\n",
    "        glfw.terminate()\n",
    "        return False\n",
    "    \n",
    "    glfw.make_context_current(window)\n",
    "    renderer_available = True  # If we reach this point, rendering should work\n",
    "\n",
    "    # Cleanup\n",
    "    glfw.destroy_window(window)\n",
    "    glfw.terminate()\n",
    "    return renderer_available\n",
    "\n",
    "def render_state(model, data):\n",
    "    if not has_valid_renderer():\n",
    "        print(\"Error rendering the scene. Make sure you have a valid OpenGL installation.\")\n",
    "        return\n",
    "\n",
    "    mujoco.mj_forward(model, data)\n",
    "    with mujoco.Renderer(model, height=480, width=640) as renderer:\n",
    "        renderer.update_scene(data, \"front_view\")  # Ensure scene is updated with final simulation state\n",
    "        media.show_image(renderer.render())\n",
    "\n",
    "def set_joint_positions(model, data, joints):\n",
    "    joint_ids = [mujoco.mj_name2id(model, mujoco.mjtObj.mjOBJ_JOINT, f\"panda_joint{i+1}\") for i in range(7)] # SOLUTION\n",
    "    joint_qpos_idx = model.jnt_qposadr[joint_ids]\n",
    "    data.qpos[joint_qpos_idx] = joints\n",
    "    mujoco.mj_forward(model, data)\n",
    "\n",
    "def get_joint_positions(model, data):\n",
    "    joint_ids = [mujoco.mj_name2id(model, mujoco.mjtObj.mjOBJ_JOINT, f\"panda_joint{i+1}\") for i in range(7)] # SOLUTION\n",
    "    joint_qpos_idx = model.jnt_qposadr[joint_ids]\n",
    "    return data.qpos[joint_qpos_idx]\n",
    "\n",
    "def get_home_joint_positions(model, data):\n",
    "    return [0, -np.pi/3, 0, -5*np.pi/6, 0, np.pi/2, np.pi/4]\n",
    "\n",
    "def get_goal_joint_positions(model, data):\n",
    "    return [-np.pi/2, np.pi/6, 0, -np.pi/3, np.pi/2, np.pi/2, np.pi/4]\n",
    "    \n",
    "# Define the MJCF path and mesh directory\n",
    "mjcf_path = 'assets/Panda/panda.mjcf'\n",
    "mesh_dir = 'assets/Panda/meshes/collision/'\n",
    "\n",
    "# Load mesh files into a dictionary\n",
    "assets = {}\n",
    "for file_name in os.listdir(mesh_dir):\n",
    "    file_path = os.path.join(mesh_dir, file_name)\n",
    "    with open(file_path, 'rb') as f:\n",
    "        assets[f'meshes/collision/{file_name}'] = f.read()\n",
    "\n",
    "# Load the MuJoCo model\n",
    "model = mujoco.MjModel.from_xml_path(mjcf_path, assets=assets)\n",
    "data = mujoco.MjData(model)\n",
    "data.qpos[14:16] = 0.04\n",
    "\n",
    "# Call mj_forward to initialize the state\n",
    "mujoco.mj_forward(model, data)\n",
    "\n",
    "# Set the joint positions\n",
    "set_joint_positions(model, data, get_home_joint_positions(model, data))\n",
    "\n",
    "# Render the scene\n",
    "render_state(model, data)"
   ]
  },
  {
   "cell_type": "markdown",
   "metadata": {
    "deletable": false,
    "editable": false
   },
   "source": [
    "##### 2.1)\n",
    "\n",
    "Implement the `sample_point_21` function. With probability $1-\\epsilon$, the function should return a joint configuration sampled uniformly at random from the valid joint ranges. With probability $\\epsilon$, the function should return the goal configuration.\n",
    "\n",
    "\n",
    "_Points:_ 10"
   ]
  },
  {
   "cell_type": "code",
   "execution_count": 41,
   "metadata": {
    "tags": [
     "otter_answer_cell"
    ]
   },
   "outputs": [],
   "source": [
    "def sample_point_21(model, q_goal, epsilon=0.1):\n",
    "    \"\"\" \n",
    "    model: MuJoCo model object\n",
    "    q_goal: goal joint positions, a numpy array of shape (7,)\n",
    "    epsilon: probability of sampling the goal configuration\n",
    "    \n",
    "    Return: a numpy array of shape (7,) representing the sampled joint positions\n",
    "    \"\"\"\n",
    "    if np.random.rand() < epsilon:\n",
    "        return q_goal\n",
    "    \n",
    "    joint_limit = model.jnt_range[1:8]\n",
    "    q_sample = np.random.uniform(joint_limit[:, 0], joint_limit[:, 1])\n",
    "    return q_sample\n",
    "    "
   ]
  },
  {
   "cell_type": "markdown",
   "metadata": {
    "deletable": false,
    "editable": false
   },
   "source": [
    "### 2.2) \n",
    "\n",
    "Let's now implement the `get_nearest_22` function. Because all Panda joints have joint limits, there are no wrap-arounds and we can get away with using Euclidean distance as our distance metric. \n",
    "\n",
    "_Points:_ 10"
   ]
  },
  {
   "cell_type": "code",
   "execution_count": null,
   "metadata": {
    "tags": [
     "otter_answer_cell"
    ]
   },
   "outputs": [],
   "source": [
    "def get_nearest_22(nodes, q):\n",
    "    \"\"\" \n",
    "    nodes: a numpy array of shape (N, 7) representing the nodes in the tree\n",
    "    q: a numpy array of shape (7,) representing the query point\n",
    "    Return: a numpy array of shape (7,) representing the nearest node in the tree\n",
    "    \"\"\"\n",
    "    distances = np.linalg.norm(nodes - q, axis=1)\n",
    "    nearest_idx = np.argmin(distances)\n",
    "    return nodes[nearest_idx]"
   ]
  },
  {
   "cell_type": "markdown",
   "metadata": {
    "deletable": false,
    "editable": false
   },
   "source": [
    "#### 2.3) \n",
    "The next step is to write the `extend_23` function, which findes `q_new`, a node on the line between `q_sample` and `q_near` that is at a maximum distance of `step_size` from `q_near` (again, using Euclidean distance in the C-space). If `q_sample` is closer to `q_near` than `step_size`, then `q_new=q_sample`.\n",
    "\n",
    "_Points:_ 10"
   ]
  },
  {
   "cell_type": "code",
   "execution_count": 52,
   "metadata": {
    "otter": {
     "tests": [
      "q2.3"
     ]
    },
    "tags": [
     "otter_answer_cell"
    ]
   },
   "outputs": [],
   "source": [
    "def extend_23(q_sample, q_near, step_size):\n",
    "    \"\"\" \n",
    "    q_sample: a numpy array of shape (7,) representing the sampled joint positions\n",
    "    q_near: a numpy array of shape (7,) representing the nearest node in the tree\n",
    "    step_size: a scalar representing the step size\n",
    "    Return: a numpy array of shape (7,) representing the extended joint positions\n",
    "    \"\"\"\n",
    "    direction = q_sample - q_near\n",
    "    norm = np.linalg.norm(direction)\n",
    "    if norm > step_size:\n",
    "        direction = direction / norm * step_size\n",
    "        return q_near + direction\n",
    "    return q_sample"
   ]
  },
  {
   "cell_type": "markdown",
   "metadata": {
    "deletable": false,
    "editable": false
   },
   "source": [
    "#### 2.4)\n",
    "\n",
    "Before moving on to write the main loop of RRT, we need to write a collision-checking function. The function takes as input two configurations, q1 and q2, and checks whether the path between them is collision-free. The way we will do this is to interpolate between the configurations with a fixed step size.\n",
    "\n",
    "To check whether a particular configuration is in collision, we will leverage the MuJoCo simulator. In particular, the following will be useful:\n",
    "- `mujoco.mj_collision(model, data)` runs collision checking internally in MuJoCo. \n",
    "- `data.contact` is set after running `mj_collision`. Look at the documentation to see how to use this information to determine whether there are collisions.\n",
    "\n",
    "*Hint1: this function will require you to set the joint positions multiple times. Make sure that, at the end of the function, your robot is back to its original position.*\n",
    "\n",
    "*Hint2: it is possible that the two configurations are closer than the `max_step_size`. Make sure to handle this case appropriately.*\n",
    "\n",
    "*Hint3: if you use `np_array += other_array`, you will modify `np_array` in-place.*\n",
    "\n",
    "_Points:_ 10"
   ]
  },
  {
   "cell_type": "code",
   "execution_count": 95,
   "metadata": {
    "otter": {
     "tests": [
      "q2.4"
     ]
    },
    "tags": [
     "otter_answer_cell"
    ]
   },
   "outputs": [
    {
     "name": "stdout",
     "output_type": "stream",
     "text": [
      "[ 0.         -1.04719755  0.         -2.61799388  0.          1.57079633\n",
      "  0.78539816]\n",
      "<_MjContactList\n",
      "  H: array([], shape=(0, 36), dtype=float64)\n",
      "  dim: array([], dtype=int32)\n",
      "  dist: array([], dtype=float64)\n",
      "  efc_address: array([], dtype=int32)\n",
      "  elem: array([], shape=(0, 2), dtype=int32)\n",
      "  exclude: array([], dtype=int32)\n",
      "  flex: array([], shape=(0, 2), dtype=int32)\n",
      "  frame: array([], shape=(0, 9), dtype=float64)\n",
      "  friction: array([], shape=(0, 5), dtype=float64)\n",
      "  geom: array([], shape=(0, 2), dtype=int32)\n",
      "  geom1: array([], dtype=int32)\n",
      "  geom2: array([], dtype=int32)\n",
      "  includemargin: array([], dtype=float64)\n",
      "  mu: array([], dtype=float64)\n",
      "  pos: array([], shape=(0, 3), dtype=float64)\n",
      "  solimp: array([], shape=(0, 5), dtype=float64)\n",
      "  solref: array([], shape=(0, 2), dtype=float64)\n",
      "  solreffriction: array([], shape=(0, 2), dtype=float64)\n",
      "  vert: array([], shape=(0, 2), dtype=int32)\n",
      ">\n",
      "<_MjContactList\n",
      "  H: array([], shape=(0, 36), dtype=float64)\n",
      "  dim: array([], dtype=int32)\n",
      "  dist: array([], dtype=float64)\n",
      "  efc_address: array([], dtype=int32)\n",
      "  elem: array([], shape=(0, 2), dtype=int32)\n",
      "  exclude: array([], dtype=int32)\n",
      "  flex: array([], shape=(0, 2), dtype=int32)\n",
      "  frame: array([], shape=(0, 9), dtype=float64)\n",
      "  friction: array([], shape=(0, 5), dtype=float64)\n",
      "  geom: array([], shape=(0, 2), dtype=int32)\n",
      "  geom1: array([], dtype=int32)\n",
      "  geom2: array([], dtype=int32)\n",
      "  includemargin: array([], dtype=float64)\n",
      "  mu: array([], dtype=float64)\n",
      "  pos: array([], shape=(0, 3), dtype=float64)\n",
      "  solimp: array([], shape=(0, 5), dtype=float64)\n",
      "  solref: array([], shape=(0, 2), dtype=float64)\n",
      "  solreffriction: array([], shape=(0, 2), dtype=float64)\n",
      "  vert: array([], shape=(0, 2), dtype=int32)\n",
      ">\n",
      "<_MjContactList\n",
      "  H: array([], shape=(0, 36), dtype=float64)\n",
      "  dim: array([], dtype=int32)\n",
      "  dist: array([], dtype=float64)\n",
      "  efc_address: array([], dtype=int32)\n",
      "  elem: array([], shape=(0, 2), dtype=int32)\n",
      "  exclude: array([], dtype=int32)\n",
      "  flex: array([], shape=(0, 2), dtype=int32)\n",
      "  frame: array([], shape=(0, 9), dtype=float64)\n",
      "  friction: array([], shape=(0, 5), dtype=float64)\n",
      "  geom: array([], shape=(0, 2), dtype=int32)\n",
      "  geom1: array([], dtype=int32)\n",
      "  geom2: array([], dtype=int32)\n",
      "  includemargin: array([], dtype=float64)\n",
      "  mu: array([], dtype=float64)\n",
      "  pos: array([], shape=(0, 3), dtype=float64)\n",
      "  solimp: array([], shape=(0, 5), dtype=float64)\n",
      "  solref: array([], shape=(0, 2), dtype=float64)\n",
      "  solreffriction: array([], shape=(0, 2), dtype=float64)\n",
      "  vert: array([], shape=(0, 2), dtype=int32)\n",
      ">\n",
      "<_MjContactList\n",
      "  H: array([], shape=(0, 36), dtype=float64)\n",
      "  dim: array([], dtype=int32)\n",
      "  dist: array([], dtype=float64)\n",
      "  efc_address: array([], dtype=int32)\n",
      "  elem: array([], shape=(0, 2), dtype=int32)\n",
      "  exclude: array([], dtype=int32)\n",
      "  flex: array([], shape=(0, 2), dtype=int32)\n",
      "  frame: array([], shape=(0, 9), dtype=float64)\n",
      "  friction: array([], shape=(0, 5), dtype=float64)\n",
      "  geom: array([], shape=(0, 2), dtype=int32)\n",
      "  geom1: array([], dtype=int32)\n",
      "  geom2: array([], dtype=int32)\n",
      "  includemargin: array([], dtype=float64)\n",
      "  mu: array([], dtype=float64)\n",
      "  pos: array([], shape=(0, 3), dtype=float64)\n",
      "  solimp: array([], shape=(0, 5), dtype=float64)\n",
      "  solref: array([], shape=(0, 2), dtype=float64)\n",
      "  solreffriction: array([], shape=(0, 2), dtype=float64)\n",
      "  vert: array([], shape=(0, 2), dtype=int32)\n",
      ">\n",
      "<_MjContactList\n",
      "  H: array([], shape=(0, 36), dtype=float64)\n",
      "  dim: array([], dtype=int32)\n",
      "  dist: array([], dtype=float64)\n",
      "  efc_address: array([], dtype=int32)\n",
      "  elem: array([], shape=(0, 2), dtype=int32)\n",
      "  exclude: array([], dtype=int32)\n",
      "  flex: array([], shape=(0, 2), dtype=int32)\n",
      "  frame: array([], shape=(0, 9), dtype=float64)\n",
      "  friction: array([], shape=(0, 5), dtype=float64)\n",
      "  geom: array([], shape=(0, 2), dtype=int32)\n",
      "  geom1: array([], dtype=int32)\n",
      "  geom2: array([], dtype=int32)\n",
      "  includemargin: array([], dtype=float64)\n",
      "  mu: array([], dtype=float64)\n",
      "  pos: array([], shape=(0, 3), dtype=float64)\n",
      "  solimp: array([], shape=(0, 5), dtype=float64)\n",
      "  solref: array([], shape=(0, 2), dtype=float64)\n",
      "  solreffriction: array([], shape=(0, 2), dtype=float64)\n",
      "  vert: array([], shape=(0, 2), dtype=int32)\n",
      ">\n",
      "<_MjContactList\n",
      "  H: array([], shape=(0, 36), dtype=float64)\n",
      "  dim: array([], dtype=int32)\n",
      "  dist: array([], dtype=float64)\n",
      "  efc_address: array([], dtype=int32)\n",
      "  elem: array([], shape=(0, 2), dtype=int32)\n",
      "  exclude: array([], dtype=int32)\n",
      "  flex: array([], shape=(0, 2), dtype=int32)\n",
      "  frame: array([], shape=(0, 9), dtype=float64)\n",
      "  friction: array([], shape=(0, 5), dtype=float64)\n",
      "  geom: array([], shape=(0, 2), dtype=int32)\n",
      "  geom1: array([], dtype=int32)\n",
      "  geom2: array([], dtype=int32)\n",
      "  includemargin: array([], dtype=float64)\n",
      "  mu: array([], dtype=float64)\n",
      "  pos: array([], shape=(0, 3), dtype=float64)\n",
      "  solimp: array([], shape=(0, 5), dtype=float64)\n",
      "  solref: array([], shape=(0, 2), dtype=float64)\n",
      "  solreffriction: array([], shape=(0, 2), dtype=float64)\n",
      "  vert: array([], shape=(0, 2), dtype=int32)\n",
      ">\n",
      "<_MjContactList\n",
      "  H: array([], shape=(0, 36), dtype=float64)\n",
      "  dim: array([], dtype=int32)\n",
      "  dist: array([], dtype=float64)\n",
      "  efc_address: array([], dtype=int32)\n",
      "  elem: array([], shape=(0, 2), dtype=int32)\n",
      "  exclude: array([], dtype=int32)\n",
      "  flex: array([], shape=(0, 2), dtype=int32)\n",
      "  frame: array([], shape=(0, 9), dtype=float64)\n",
      "  friction: array([], shape=(0, 5), dtype=float64)\n",
      "  geom: array([], shape=(0, 2), dtype=int32)\n",
      "  geom1: array([], dtype=int32)\n",
      "  geom2: array([], dtype=int32)\n",
      "  includemargin: array([], dtype=float64)\n",
      "  mu: array([], dtype=float64)\n",
      "  pos: array([], shape=(0, 3), dtype=float64)\n",
      "  solimp: array([], shape=(0, 5), dtype=float64)\n",
      "  solref: array([], shape=(0, 2), dtype=float64)\n",
      "  solreffriction: array([], shape=(0, 2), dtype=float64)\n",
      "  vert: array([], shape=(0, 2), dtype=int32)\n",
      ">\n",
      "<_MjContactList\n",
      "  H: array([], shape=(0, 36), dtype=float64)\n",
      "  dim: array([], dtype=int32)\n",
      "  dist: array([], dtype=float64)\n",
      "  efc_address: array([], dtype=int32)\n",
      "  elem: array([], shape=(0, 2), dtype=int32)\n",
      "  exclude: array([], dtype=int32)\n",
      "  flex: array([], shape=(0, 2), dtype=int32)\n",
      "  frame: array([], shape=(0, 9), dtype=float64)\n",
      "  friction: array([], shape=(0, 5), dtype=float64)\n",
      "  geom: array([], shape=(0, 2), dtype=int32)\n",
      "  geom1: array([], dtype=int32)\n",
      "  geom2: array([], dtype=int32)\n",
      "  includemargin: array([], dtype=float64)\n",
      "  mu: array([], dtype=float64)\n",
      "  pos: array([], shape=(0, 3), dtype=float64)\n",
      "  solimp: array([], shape=(0, 5), dtype=float64)\n",
      "  solref: array([], shape=(0, 2), dtype=float64)\n",
      "  solreffriction: array([], shape=(0, 2), dtype=float64)\n",
      "  vert: array([], shape=(0, 2), dtype=int32)\n",
      ">\n",
      "<_MjContactList\n",
      "  H: array([], shape=(0, 36), dtype=float64)\n",
      "  dim: array([], dtype=int32)\n",
      "  dist: array([], dtype=float64)\n",
      "  efc_address: array([], dtype=int32)\n",
      "  elem: array([], shape=(0, 2), dtype=int32)\n",
      "  exclude: array([], dtype=int32)\n",
      "  flex: array([], shape=(0, 2), dtype=int32)\n",
      "  frame: array([], shape=(0, 9), dtype=float64)\n",
      "  friction: array([], shape=(0, 5), dtype=float64)\n",
      "  geom: array([], shape=(0, 2), dtype=int32)\n",
      "  geom1: array([], dtype=int32)\n",
      "  geom2: array([], dtype=int32)\n",
      "  includemargin: array([], dtype=float64)\n",
      "  mu: array([], dtype=float64)\n",
      "  pos: array([], shape=(0, 3), dtype=float64)\n",
      "  solimp: array([], shape=(0, 5), dtype=float64)\n",
      "  solref: array([], shape=(0, 2), dtype=float64)\n",
      "  solreffriction: array([], shape=(0, 2), dtype=float64)\n",
      "  vert: array([], shape=(0, 2), dtype=int32)\n",
      ">\n",
      "<_MjContactList\n",
      "  H: array([], shape=(0, 36), dtype=float64)\n",
      "  dim: array([], dtype=int32)\n",
      "  dist: array([], dtype=float64)\n",
      "  efc_address: array([], dtype=int32)\n",
      "  elem: array([], shape=(0, 2), dtype=int32)\n",
      "  exclude: array([], dtype=int32)\n",
      "  flex: array([], shape=(0, 2), dtype=int32)\n",
      "  frame: array([], shape=(0, 9), dtype=float64)\n",
      "  friction: array([], shape=(0, 5), dtype=float64)\n",
      "  geom: array([], shape=(0, 2), dtype=int32)\n",
      "  geom1: array([], dtype=int32)\n",
      "  geom2: array([], dtype=int32)\n",
      "  includemargin: array([], dtype=float64)\n",
      "  mu: array([], dtype=float64)\n",
      "  pos: array([], shape=(0, 3), dtype=float64)\n",
      "  solimp: array([], shape=(0, 5), dtype=float64)\n",
      "  solref: array([], shape=(0, 2), dtype=float64)\n",
      "  solreffriction: array([], shape=(0, 2), dtype=float64)\n",
      "  vert: array([], shape=(0, 2), dtype=int32)\n",
      ">\n",
      "<_MjContactList\n",
      "  H: array([[0., 0., 0., 0., 0., 0., 0., 0., 0., 0., 0., 0., 0., 0., 0., 0.,\n",
      "        0., 0., 0., 0., 0., 0., 0., 0., 0., 0., 0., 0., 0., 0., 0., 0.,\n",
      "        0., 0., 0., 0.]])\n",
      "  dim: array([6], dtype=int32)\n",
      "  dist: array([-0.02278163])\n",
      "  efc_address: array([-1], dtype=int32)\n",
      "  elem: array([[-1, -1]], dtype=int32)\n",
      "  exclude: array([0], dtype=int32)\n",
      "  flex: array([[-1, -1]], dtype=int32)\n",
      "  frame: array([[ 6.09165593e-16,  5.30857362e-01,  8.47461186e-01,\n",
      "        -9.72472518e-16, -8.47461186e-01,  5.30857362e-01,\n",
      "         1.00000000e+00, -1.14751275e-15,  0.00000000e+00]])\n",
      "  friction: array([[0.8 , 0.8 , 0.02, 0.01, 0.01]])\n",
      "  geom: array([[ 4, 22]], dtype=int32)\n",
      "  geom1: array([4], dtype=int32)\n",
      "  geom2: array([22], dtype=int32)\n",
      "  includemargin: array([0.])\n",
      "  mu: array([0.])\n",
      "  pos: array([[ 0.3377556 , -0.2061734 ,  0.58147979]])\n",
      "  solimp: array([[0.015, 1.   , 0.036, 0.5  , 2.   ]])\n",
      "  solref: array([[0.02, 1.  ]])\n",
      "  solreffriction: array([[0., 0.]])\n",
      "  vert: array([[-1, -1]], dtype=int32)\n",
      ">\n",
      "<_MjContactList\n",
      "  H: array([[0., 0., 0., 0., 0., 0., 0., 0., 0., 0., 0., 0., 0., 0., 0., 0.,\n",
      "        0., 0., 0., 0., 0., 0., 0., 0., 0., 0., 0., 0., 0., 0., 0., 0.,\n",
      "        0., 0., 0., 0.]])\n",
      "  dim: array([6], dtype=int32)\n",
      "  dist: array([-0.04122546])\n",
      "  efc_address: array([-1], dtype=int32)\n",
      "  elem: array([[-1, -1]], dtype=int32)\n",
      "  exclude: array([0], dtype=int32)\n",
      "  flex: array([[-1, -1]], dtype=int32)\n",
      "  frame: array([[ 6.52148474e-02,  5.61733801e-01,  8.24743694e-01,\n",
      "        -9.51103376e-02, -8.19241225e-01,  5.65506711e-01,\n",
      "         9.93328268e-01, -1.15321085e-01, -6.93889390e-18]])\n",
      "  friction: array([[0.8 , 0.8 , 0.02, 0.01, 0.01]])\n",
      "  geom: array([[ 4, 22]], dtype=int32)\n",
      "  geom1: array([4], dtype=int32)\n",
      "  geom2: array([22], dtype=int32)\n",
      "  includemargin: array([0.])\n",
      "  mu: array([0.])\n",
      "  pos: array([[ 0.34713062, -0.21131596,  0.56605213]])\n",
      "  solimp: array([[0.015, 1.   , 0.036, 0.5  , 2.   ]])\n",
      "  solref: array([[0.02, 1.  ]])\n",
      "  solreffriction: array([[0., 0.]])\n",
      "  vert: array([[-1, -1]], dtype=int32)\n",
      ">\n",
      "<_MjContactList\n",
      "  H: array([[0., 0., 0., 0., 0., 0., 0., 0., 0., 0., 0., 0., 0., 0., 0., 0.,\n",
      "        0., 0., 0., 0., 0., 0., 0., 0., 0., 0., 0., 0., 0., 0., 0., 0.,\n",
      "        0., 0., 0., 0.],\n",
      "       [0., 0., 0., 0., 0., 0., 0., 0., 0., 0., 0., 0., 0., 0., 0., 0.,\n",
      "        0., 0., 0., 0., 0., 0., 0., 0., 0., 0., 0., 0., 0., 0., 0., 0.,\n",
      "        0., 0., 0., 0.]])\n",
      "  dim: array([6, 6], dtype=int32)\n",
      "  dist: array([-0.06217854, -0.00087549])\n",
      "  efc_address: array([-1, -1], dtype=int32)\n",
      "  elem: array([[-1, -1],\n",
      "       [-1, -1]], dtype=int32)\n",
      "  exclude: array([0, 0], dtype=int32)\n",
      "  flex: array([[-1, -1],\n",
      "       [-1, -1]], dtype=int32)\n",
      "  frame: array([[ 2.40871343e-04,  3.03627281e-01,  9.52790856e-01,\n",
      "        -7.67588273e-05,  9.52790887e-01, -3.03627272e-01,\n",
      "        -9.99999968e-01,  0.00000000e+00,  2.52806095e-04],\n",
      "       [ 3.17030634e-14,  1.00000000e+00,  0.00000000e+00,\n",
      "         0.00000000e+00,  0.00000000e+00,  1.00000000e+00,\n",
      "         1.00000000e+00, -3.17030634e-14,  0.00000000e+00]])\n",
      "  friction: array([[0.8 , 0.8 , 0.02, 0.01, 0.01],\n",
      "       [0.8 , 0.8 , 0.02, 0.01, 0.01]])\n",
      "  geom: array([[ 4, 22],\n",
      "       [ 4, 24]], dtype=int32)\n",
      "  geom1: array([4, 4], dtype=int32)\n",
      "  geom2: array([22, 24], dtype=int32)\n",
      "  includemargin: array([0., 0.])\n",
      "  mu: array([0., 0.])\n",
      "  pos: array([[ 0.3551425 , -0.21500153,  0.55499541],\n",
      "       [ 0.3668432 , -0.20069116,  0.56077492]])\n",
      "  solimp: array([[0.015, 1.   , 0.036, 0.5  , 2.   ],\n",
      "       [0.015, 1.   , 0.036, 0.5  , 2.   ]])\n",
      "  solref: array([[0.02, 1.  ],\n",
      "       [0.02, 1.  ]])\n",
      "  solreffriction: array([[0., 0.],\n",
      "       [0., 0.]])\n",
      "  vert: array([[-1, -1],\n",
      "       [-1, -1]], dtype=int32)\n",
      ">\n",
      "<_MjContactList\n",
      "  H: array([[0., 0., 0., 0., 0., 0., 0., 0., 0., 0., 0., 0., 0., 0., 0., 0.,\n",
      "        0., 0., 0., 0., 0., 0., 0., 0., 0., 0., 0., 0., 0., 0., 0., 0.,\n",
      "        0., 0., 0., 0.],\n",
      "       [0., 0., 0., 0., 0., 0., 0., 0., 0., 0., 0., 0., 0., 0., 0., 0.,\n",
      "        0., 0., 0., 0., 0., 0., 0., 0., 0., 0., 0., 0., 0., 0., 0., 0.,\n",
      "        0., 0., 0., 0.]])\n",
      "  dim: array([6, 6], dtype=int32)\n",
      "  dist: array([-0.055968  , -0.04030585])\n",
      "  efc_address: array([-1, -1], dtype=int32)\n",
      "  elem: array([[-1, -1],\n",
      "       [-1, -1]], dtype=int32)\n",
      "  exclude: array([0, 0], dtype=int32)\n",
      "  flex: array([[-1, -1],\n",
      "       [-1, -1]], dtype=int32)\n",
      "  frame: array([[ 0.        ,  0.        ,  1.        ,  0.        ,  1.        ,\n",
      "         0.        , -1.        ,  0.        ,  0.        ],\n",
      "       [ 0.        ,  0.52563294,  0.85071148,  0.        , -0.85071148,\n",
      "         0.52563294,  1.        ,  0.        , -0.        ]])\n",
      "  friction: array([[0.8 , 0.8 , 0.02, 0.01, 0.01],\n",
      "       [0.8 , 0.8 , 0.02, 0.01, 0.01]])\n",
      "  geom: array([[ 4, 22],\n",
      "       [ 4, 24]], dtype=int32)\n",
      "  geom1: array([4, 4], dtype=int32)\n",
      "  geom2: array([22, 24], dtype=int32)\n",
      "  includemargin: array([0., 0.])\n",
      "  mu: array([0., 0.])\n",
      "  pos: array([[ 0.36013135, -0.22267573,  0.55688286],\n",
      "       [ 0.3780056 , -0.21375688,  0.55872936]])\n",
      "  solimp: array([[0.015, 1.   , 0.036, 0.5  , 2.   ],\n",
      "       [0.015, 1.   , 0.036, 0.5  , 2.   ]])\n",
      "  solref: array([[0.02, 1.  ],\n",
      "       [0.02, 1.  ]])\n",
      "  solreffriction: array([[0., 0.],\n",
      "       [0., 0.]])\n",
      "  vert: array([[-1, -1],\n",
      "       [-1, -1]], dtype=int32)\n",
      ">\n",
      "<_MjContactList\n",
      "  H: array([[0., 0., 0., 0., 0., 0., 0., 0., 0., 0., 0., 0., 0., 0., 0., 0.,\n",
      "        0., 0., 0., 0., 0., 0., 0., 0., 0., 0., 0., 0., 0., 0., 0., 0.,\n",
      "        0., 0., 0., 0.],\n",
      "       [0., 0., 0., 0., 0., 0., 0., 0., 0., 0., 0., 0., 0., 0., 0., 0.,\n",
      "        0., 0., 0., 0., 0., 0., 0., 0., 0., 0., 0., 0., 0., 0., 0., 0.,\n",
      "        0., 0., 0., 0.]])\n",
      "  dim: array([6, 6], dtype=int32)\n",
      "  dist: array([-0.05240442, -0.05469587])\n",
      "  efc_address: array([-1, -1], dtype=int32)\n",
      "  elem: array([[-1, -1],\n",
      "       [-1, -1]], dtype=int32)\n",
      "  exclude: array([0, 0], dtype=int32)\n",
      "  flex: array([[-1, -1],\n",
      "       [-1, -1]], dtype=int32)\n",
      "  frame: array([[-2.64820922e-16, -1.32410461e-16,  1.00000000e+00,\n",
      "        -3.50650603e-32,  1.00000000e+00,  1.32410461e-16,\n",
      "        -1.00000000e+00,  0.00000000e+00, -2.64820922e-16],\n",
      "       [ 2.71566580e-16,  6.00892177e-01,  7.99330090e-01,\n",
      "        -3.61248402e-16, -7.99330090e-01,  6.00892177e-01,\n",
      "         1.00000000e+00, -4.51938951e-16,  2.46519033e-32]])\n",
      "  friction: array([[0.8 , 0.8 , 0.02, 0.01, 0.01],\n",
      "       [0.8 , 0.8 , 0.02, 0.01, 0.01]])\n",
      "  geom: array([[ 4, 22],\n",
      "       [ 4, 24]], dtype=int32)\n",
      "  geom1: array([4, 4], dtype=int32)\n",
      "  geom2: array([22, 24], dtype=int32)\n",
      "  includemargin: array([0., 0.])\n",
      "  mu: array([0., 0.])\n",
      "  pos: array([[ 0.3621255 , -0.24680828,  0.55988351],\n",
      "       [ 0.39792916, -0.21742773,  0.54771681]])\n",
      "  solimp: array([[0.015, 1.   , 0.036, 0.5  , 2.   ],\n",
      "       [0.015, 1.   , 0.036, 0.5  , 2.   ]])\n",
      "  solref: array([[0.02, 1.  ],\n",
      "       [0.02, 1.  ]])\n",
      "  solreffriction: array([[0., 0.],\n",
      "       [0., 0.]])\n",
      "  vert: array([[-1, -1],\n",
      "       [-1, -1]], dtype=int32)\n",
      ">\n",
      "<_MjContactList\n",
      "  H: array([[0., 0., 0., 0., 0., 0., 0., 0., 0., 0., 0., 0., 0., 0., 0., 0.,\n",
      "        0., 0., 0., 0., 0., 0., 0., 0., 0., 0., 0., 0., 0., 0., 0., 0.,\n",
      "        0., 0., 0., 0.],\n",
      "       [0., 0., 0., 0., 0., 0., 0., 0., 0., 0., 0., 0., 0., 0., 0., 0.,\n",
      "        0., 0., 0., 0., 0., 0., 0., 0., 0., 0., 0., 0., 0., 0., 0., 0.,\n",
      "        0., 0., 0., 0.]])\n",
      "  dim: array([6, 6], dtype=int32)\n",
      "  dist: array([-0.04931722, -0.05732502])\n",
      "  efc_address: array([-1, -1], dtype=int32)\n",
      "  elem: array([[-1, -1],\n",
      "       [-1, -1]], dtype=int32)\n",
      "  exclude: array([0, 0], dtype=int32)\n",
      "  flex: array([[-1, -1],\n",
      "       [-1, -1]], dtype=int32)\n",
      "  frame: array([[-1.40699208e-16,  0.00000000e+00,  1.00000000e+00,\n",
      "         0.00000000e+00,  1.00000000e+00,  0.00000000e+00,\n",
      "        -1.00000000e+00,  0.00000000e+00, -1.40699208e-16],\n",
      "       [-1.21044760e-16,  4.23656662e-16,  1.00000000e+00,\n",
      "         5.12814191e-32,  1.00000000e+00, -4.23656662e-16,\n",
      "        -1.00000000e+00,  0.00000000e+00, -1.21044760e-16]])\n",
      "  friction: array([[0.8 , 0.8 , 0.02, 0.01, 0.01],\n",
      "       [0.8 , 0.8 , 0.02, 0.01, 0.01]])\n",
      "  geom: array([[ 4, 22],\n",
      "       [ 4, 24]], dtype=int32)\n",
      "  geom1: array([4, 4], dtype=int32)\n",
      "  geom2: array([22, 24], dtype=int32)\n",
      "  includemargin: array([0., 0.])\n",
      "  mu: array([0., 0.])\n",
      "  pos: array([[ 0.36704937, -0.26877656,  0.56247805],\n",
      "       [ 0.40275002, -0.22501938,  0.54689609]])\n",
      "  solimp: array([[0.015, 1.   , 0.036, 0.5  , 2.   ],\n",
      "       [0.015, 1.   , 0.036, 0.5  , 2.   ]])\n",
      "  solref: array([[0.02, 1.  ],\n",
      "       [0.02, 1.  ]])\n",
      "  solreffriction: array([[0., 0.],\n",
      "       [0., 0.]])\n",
      "  vert: array([[-1, -1],\n",
      "       [-1, -1]], dtype=int32)\n",
      ">\n",
      "<_MjContactList\n",
      "  H: array([[0., 0., 0., 0., 0., 0., 0., 0., 0., 0., 0., 0., 0., 0., 0., 0.,\n",
      "        0., 0., 0., 0., 0., 0., 0., 0., 0., 0., 0., 0., 0., 0., 0., 0.,\n",
      "        0., 0., 0., 0.],\n",
      "       [0., 0., 0., 0., 0., 0., 0., 0., 0., 0., 0., 0., 0., 0., 0., 0.,\n",
      "        0., 0., 0., 0., 0., 0., 0., 0., 0., 0., 0., 0., 0., 0., 0., 0.,\n",
      "        0., 0., 0., 0.]])\n",
      "  dim: array([6, 6], dtype=int32)\n",
      "  dist: array([-0.04655568, -0.05133836])\n",
      "  efc_address: array([-1, -1], dtype=int32)\n",
      "  elem: array([[-1, -1],\n",
      "       [-1, -1]], dtype=int32)\n",
      "  exclude: array([0, 0], dtype=int32)\n",
      "  flex: array([[-1, -1],\n",
      "       [-1, -1]], dtype=int32)\n",
      "  frame: array([[-2.98090081e-16,  2.98090081e-16,  1.00000000e+00,\n",
      "         8.88576961e-32,  1.00000000e+00, -2.98090081e-16,\n",
      "        -1.00000000e+00,  0.00000000e+00, -2.98090081e-16],\n",
      "       [-2.36530030e-16,  5.40640069e-16,  1.00000000e+00,\n",
      "         1.27877612e-31,  1.00000000e+00, -5.40640069e-16,\n",
      "        -1.00000000e+00,  0.00000000e+00, -2.36530030e-16]])\n",
      "  friction: array([[0.8 , 0.8 , 0.02, 0.01, 0.01],\n",
      "       [0.8 , 0.8 , 0.02, 0.01, 0.01]])\n",
      "  geom: array([[ 4, 22],\n",
      "       [ 4, 24]], dtype=int32)\n",
      "  geom1: array([4, 4], dtype=int32)\n",
      "  geom2: array([22, 24], dtype=int32)\n",
      "  includemargin: array([0., 0.])\n",
      "  mu: array([0., 0.])\n",
      "  pos: array([[ 0.37068529, -0.29183819,  0.56477456],\n",
      "       [ 0.40940287, -0.24885613,  0.55230428]])\n",
      "  solimp: array([[0.015, 1.   , 0.036, 0.5  , 2.   ],\n",
      "       [0.015, 1.   , 0.036, 0.5  , 2.   ]])\n",
      "  solref: array([[0.02, 1.  ],\n",
      "       [0.02, 1.  ]])\n",
      "  solreffriction: array([[0., 0.],\n",
      "       [0., 0.]])\n",
      "  vert: array([[-1, -1],\n",
      "       [-1, -1]], dtype=int32)\n",
      ">\n",
      "<_MjContactList\n",
      "  H: array([[0., 0., 0., 0., 0., 0., 0., 0., 0., 0., 0., 0., 0., 0., 0., 0.,\n",
      "        0., 0., 0., 0., 0., 0., 0., 0., 0., 0., 0., 0., 0., 0., 0., 0.,\n",
      "        0., 0., 0., 0.],\n",
      "       [0., 0., 0., 0., 0., 0., 0., 0., 0., 0., 0., 0., 0., 0., 0., 0.,\n",
      "        0., 0., 0., 0., 0., 0., 0., 0., 0., 0., 0., 0., 0., 0., 0., 0.,\n",
      "        0., 0., 0., 0.]])\n",
      "  dim: array([6, 6], dtype=int32)\n",
      "  dist: array([-0.04412647, -0.0456725 ])\n",
      "  efc_address: array([-1, -1], dtype=int32)\n",
      "  elem: array([[-1, -1],\n",
      "       [-1, -1]], dtype=int32)\n",
      "  exclude: array([0, 0], dtype=int32)\n",
      "  flex: array([[-1, -1],\n",
      "       [-1, -1]], dtype=int32)\n",
      "  frame: array([[-9.43500911e-16,  9.43500911e-16,  1.00000000e+00,\n",
      "         8.90193968e-31,  1.00000000e+00, -9.43500911e-16,\n",
      "        -1.00000000e+00,  0.00000000e+00, -9.43500911e-16],\n",
      "       [-1.51927184e-16, -3.03854368e-16,  1.00000000e+00,\n",
      "        -4.61637383e-32,  1.00000000e+00,  3.03854368e-16,\n",
      "        -1.00000000e+00,  0.00000000e+00, -1.51927184e-16]])\n",
      "  friction: array([[0.8 , 0.8 , 0.02, 0.01, 0.01],\n",
      "       [0.8 , 0.8 , 0.02, 0.01, 0.01]])\n",
      "  geom: array([[ 4, 22],\n",
      "       [ 4, 24]], dtype=int32)\n",
      "  geom1: array([4, 4], dtype=int32)\n",
      "  geom2: array([22, 24], dtype=int32)\n",
      "  includemargin: array([0., 0.])\n",
      "  mu: array([0., 0.])\n",
      "  pos: array([[ 0.37288659, -0.31591293,  0.56677643],\n",
      "       [ 0.41446292, -0.27405386,  0.55743766]])\n",
      "  solimp: array([[0.015, 1.   , 0.036, 0.5  , 2.   ],\n",
      "       [0.015, 1.   , 0.036, 0.5  , 2.   ]])\n",
      "  solref: array([[0.02, 1.  ],\n",
      "       [0.02, 1.  ]])\n",
      "  solreffriction: array([[0., 0.],\n",
      "       [0., 0.]])\n",
      "  vert: array([[-1, -1],\n",
      "       [-1, -1]], dtype=int32)\n",
      ">\n",
      "<_MjContactList\n",
      "  H: array([[0., 0., 0., 0., 0., 0., 0., 0., 0., 0., 0., 0., 0., 0., 0., 0.,\n",
      "        0., 0., 0., 0., 0., 0., 0., 0., 0., 0., 0., 0., 0., 0., 0., 0.,\n",
      "        0., 0., 0., 0.],\n",
      "       [0., 0., 0., 0., 0., 0., 0., 0., 0., 0., 0., 0., 0., 0., 0., 0.,\n",
      "        0., 0., 0., 0., 0., 0., 0., 0., 0., 0., 0., 0., 0., 0., 0., 0.,\n",
      "        0., 0., 0., 0.]])\n",
      "  dim: array([6, 6], dtype=int32)\n",
      "  dist: array([-0.04203542, -0.04034108])\n",
      "  efc_address: array([-1, -1], dtype=int32)\n",
      "  elem: array([[-1, -1],\n",
      "       [-1, -1]], dtype=int32)\n",
      "  exclude: array([0, 0], dtype=int32)\n",
      "  flex: array([[-1, -1],\n",
      "       [-1, -1]], dtype=int32)\n",
      "  frame: array([[-3.30145059e-16,  1.65072529e-16,  1.00000000e+00,\n",
      "         5.44978799e-32,  1.00000000e+00, -1.65072529e-16,\n",
      "        -1.00000000e+00,  0.00000000e+00, -3.30145059e-16],\n",
      "       [ 0.00000000e+00,  6.88022617e-16,  1.00000000e+00,\n",
      "         0.00000000e+00,  1.00000000e+00, -6.88022617e-16,\n",
      "        -1.00000000e+00,  0.00000000e+00,  0.00000000e+00]])\n",
      "  friction: array([[0.8 , 0.8 , 0.02, 0.01, 0.01],\n",
      "       [0.8 , 0.8 , 0.02, 0.01, 0.01]])\n",
      "  geom: array([[ 4, 22],\n",
      "       [ 4, 24]], dtype=int32)\n",
      "  geom1: array([4, 4], dtype=int32)\n",
      "  geom2: array([22, 24], dtype=int32)\n",
      "  includemargin: array([0., 0.])\n",
      "  mu: array([0., 0.])\n",
      "  pos: array([[ 0.37351202, -0.34090406,  0.56848671],\n",
      "       [ 0.41775877, -0.30049053,  0.56228387]])\n",
      "  solimp: array([[0.015, 1.   , 0.036, 0.5  , 2.   ],\n",
      "       [0.015, 1.   , 0.036, 0.5  , 2.   ]])\n",
      "  solref: array([[0.02, 1.  ],\n",
      "       [0.02, 1.  ]])\n",
      "  solreffriction: array([[0., 0.],\n",
      "       [0., 0.]])\n",
      "  vert: array([[-1, -1],\n",
      "       [-1, -1]], dtype=int32)\n",
      ">\n",
      "<_MjContactList\n",
      "  H: array([[0., 0., 0., 0., 0., 0., 0., 0., 0., 0., 0., 0., 0., 0., 0., 0.,\n",
      "        0., 0., 0., 0., 0., 0., 0., 0., 0., 0., 0., 0., 0., 0., 0., 0.,\n",
      "        0., 0., 0., 0.],\n",
      "       [0., 0., 0., 0., 0., 0., 0., 0., 0., 0., 0., 0., 0., 0., 0., 0.,\n",
      "        0., 0., 0., 0., 0., 0., 0., 0., 0., 0., 0., 0., 0., 0., 0., 0.,\n",
      "        0., 0., 0., 0.]])\n",
      "  dim: array([6, 6], dtype=int32)\n",
      "  dist: array([-0.04028759, -0.03535695])\n",
      "  efc_address: array([-1, -1], dtype=int32)\n",
      "  elem: array([[-1, -1],\n",
      "       [-1, -1]], dtype=int32)\n",
      "  exclude: array([0, 0], dtype=int32)\n",
      "  flex: array([[-1, -1],\n",
      "       [-1, -1]], dtype=int32)\n",
      "  frame: array([[ 6.88936101e-16, -3.44468051e-16,  1.00000000e+00,\n",
      "         2.37316476e-31,  1.00000000e+00,  3.44468051e-16,\n",
      "        -1.00000000e+00,  0.00000000e+00,  6.88936101e-16],\n",
      "       [-3.92505179e-16,  0.00000000e+00,  1.00000000e+00,\n",
      "         0.00000000e+00,  1.00000000e+00,  0.00000000e+00,\n",
      "        -1.00000000e+00,  0.00000000e+00, -3.92505179e-16]])\n",
      "  friction: array([[0.8 , 0.8 , 0.02, 0.01, 0.01],\n",
      "       [0.8 , 0.8 , 0.02, 0.01, 0.01]])\n",
      "  geom: array([[ 4, 22],\n",
      "       [ 4, 24]], dtype=int32)\n",
      "  geom1: array([4, 4], dtype=int32)\n",
      "  geom2: array([22, 24], dtype=int32)\n",
      "  includemargin: array([0., 0.])\n",
      "  mu: array([0., 0.])\n",
      "  pos: array([[ 0.37242744, -0.36669869,  0.5699081 ],\n",
      "       [ 0.41912971, -0.32802535,  0.56683071]])\n",
      "  solimp: array([[0.015, 1.   , 0.036, 0.5  , 2.   ],\n",
      "       [0.015, 1.   , 0.036, 0.5  , 2.   ]])\n",
      "  solref: array([[0.02, 1.  ],\n",
      "       [0.02, 1.  ]])\n",
      "  solreffriction: array([[0., 0.],\n",
      "       [0., 0.]])\n",
      "  vert: array([[-1, -1],\n",
      "       [-1, -1]], dtype=int32)\n",
      ">\n",
      "<_MjContactList\n",
      "  H: array([[0., 0., 0., 0., 0., 0., 0., 0., 0., 0., 0., 0., 0., 0., 0., 0.,\n",
      "        0., 0., 0., 0., 0., 0., 0., 0., 0., 0., 0., 0., 0., 0., 0., 0.,\n",
      "        0., 0., 0., 0.],\n",
      "       [0., 0., 0., 0., 0., 0., 0., 0., 0., 0., 0., 0., 0., 0., 0., 0.,\n",
      "        0., 0., 0., 0., 0., 0., 0., 0., 0., 0., 0., 0., 0., 0., 0., 0.,\n",
      "        0., 0., 0., 0.]])\n",
      "  dim: array([6, 6], dtype=int32)\n",
      "  dist: array([-0.03937491, -0.03073213])\n",
      "  efc_address: array([-1, -1], dtype=int32)\n",
      "  elem: array([[-1, -1],\n",
      "       [-1, -1]], dtype=int32)\n",
      "  exclude: array([0, 0], dtype=int32)\n",
      "  flex: array([[-1, -1],\n",
      "       [-1, -1]], dtype=int32)\n",
      "  frame: array([[ 7.04905205e-16, -1.37031850e-01,  9.90566642e-01,\n",
      "         9.75143522e-17,  9.90566642e-01,  1.37031850e-01,\n",
      "        -1.00000000e+00,  0.00000000e+00,  7.11618154e-16],\n",
      "       [ 2.25786317e-16,  4.51572633e-16,  1.00000000e+00,\n",
      "        -1.01958922e-31,  1.00000000e+00, -4.51572633e-16,\n",
      "        -1.00000000e+00,  0.00000000e+00,  2.25786317e-16]])\n",
      "  friction: array([[0.8 , 0.8 , 0.02, 0.01, 0.01],\n",
      "       [0.8 , 0.8 , 0.02, 0.01, 0.01]])\n",
      "  geom: array([[ 4, 22],\n",
      "       [ 4, 24]], dtype=int32)\n",
      "  geom1: array([4, 4], dtype=int32)\n",
      "  geom2: array([22, 24], dtype=int32)\n",
      "  includemargin: array([0., 0.])\n",
      "  mu: array([0., 0.])\n",
      "  pos: array([[ 0.36510996, -0.39042699,  0.57128096],\n",
      "       [ 0.41842765, -0.35649986,  0.57106618]])\n",
      "  solimp: array([[0.015, 1.   , 0.036, 0.5  , 2.   ],\n",
      "       [0.015, 1.   , 0.036, 0.5  , 2.   ]])\n",
      "  solref: array([[0.02, 1.  ],\n",
      "       [0.02, 1.  ]])\n",
      "  solreffriction: array([[0., 0.],\n",
      "       [0., 0.]])\n",
      "  vert: array([[-1, -1],\n",
      "       [-1, -1]], dtype=int32)\n",
      ">\n",
      "<_MjContactList\n",
      "  H: array([[0., 0., 0., 0., 0., 0., 0., 0., 0., 0., 0., 0., 0., 0., 0., 0.,\n",
      "        0., 0., 0., 0., 0., 0., 0., 0., 0., 0., 0., 0., 0., 0., 0., 0.,\n",
      "        0., 0., 0., 0.],\n",
      "       [0., 0., 0., 0., 0., 0., 0., 0., 0., 0., 0., 0., 0., 0., 0., 0.,\n",
      "        0., 0., 0., 0., 0., 0., 0., 0., 0., 0., 0., 0., 0., 0., 0., 0.,\n",
      "        0., 0., 0., 0.]])\n",
      "  dim: array([6, 6], dtype=int32)\n",
      "  dist: array([-0.00469987, -0.02647774])\n",
      "  efc_address: array([-1, -1], dtype=int32)\n",
      "  elem: array([[-1, -1],\n",
      "       [-1, -1]], dtype=int32)\n",
      "  exclude: array([0, 0], dtype=int32)\n",
      "  flex: array([[-1, -1],\n",
      "       [-1, -1]], dtype=int32)\n",
      "  frame: array([[ 8.85841600e-15, -9.56228383e-01,  2.92621394e-01,\n",
      "        -2.71081897e-15,  2.92621394e-01,  9.56228383e-01,\n",
      "        -1.00000000e+00, -9.26391243e-15,  0.00000000e+00],\n",
      "       [ 0.00000000e+00, -5.24130357e-16,  1.00000000e+00,\n",
      "         0.00000000e+00,  1.00000000e+00,  5.24130357e-16,\n",
      "        -1.00000000e+00,  0.00000000e+00,  0.00000000e+00]])\n",
      "  friction: array([[0.8 , 0.8 , 0.02, 0.01, 0.01],\n",
      "       [0.8 , 0.8 , 0.02, 0.01, 0.01]])\n",
      "  geom: array([[ 4, 22],\n",
      "       [ 4, 24]], dtype=int32)\n",
      "  geom1: array([4, 4], dtype=int32)\n",
      "  geom2: array([22, 24], dtype=int32)\n",
      "  includemargin: array([0., 0.])\n",
      "  mu: array([0., 0.])\n",
      "  pos: array([[ 0.37263709, -0.39786481,  0.59359444],\n",
      "       [ 0.415519  , -0.38573909,  0.57497853]])\n",
      "  solimp: array([[0.015, 1.   , 0.036, 0.5  , 2.   ],\n",
      "       [0.015, 1.   , 0.036, 0.5  , 2.   ]])\n",
      "  solref: array([[0.02, 1.  ],\n",
      "       [0.02, 1.  ]])\n",
      "  solreffriction: array([[0., 0.],\n",
      "       [0., 0.]])\n",
      "  vert: array([[-1, -1],\n",
      "       [-1, -1]], dtype=int32)\n",
      ">\n",
      "<_MjContactList\n",
      "  H: array([], shape=(0, 36), dtype=float64)\n",
      "  dim: array([], dtype=int32)\n",
      "  dist: array([], dtype=float64)\n",
      "  efc_address: array([], dtype=int32)\n",
      "  elem: array([], shape=(0, 2), dtype=int32)\n",
      "  exclude: array([], dtype=int32)\n",
      "  flex: array([], shape=(0, 2), dtype=int32)\n",
      "  frame: array([], shape=(0, 9), dtype=float64)\n",
      "  friction: array([], shape=(0, 5), dtype=float64)\n",
      "  geom: array([], shape=(0, 2), dtype=int32)\n",
      "  geom1: array([], dtype=int32)\n",
      "  geom2: array([], dtype=int32)\n",
      "  includemargin: array([], dtype=float64)\n",
      "  mu: array([], dtype=float64)\n",
      "  pos: array([], shape=(0, 3), dtype=float64)\n",
      "  solimp: array([], shape=(0, 5), dtype=float64)\n",
      "  solref: array([], shape=(0, 2), dtype=float64)\n",
      "  solreffriction: array([], shape=(0, 2), dtype=float64)\n",
      "  vert: array([], shape=(0, 2), dtype=int32)\n",
      ">\n",
      "<_MjContactList\n",
      "  H: array([], shape=(0, 36), dtype=float64)\n",
      "  dim: array([], dtype=int32)\n",
      "  dist: array([], dtype=float64)\n",
      "  efc_address: array([], dtype=int32)\n",
      "  elem: array([], shape=(0, 2), dtype=int32)\n",
      "  exclude: array([], dtype=int32)\n",
      "  flex: array([], shape=(0, 2), dtype=int32)\n",
      "  frame: array([], shape=(0, 9), dtype=float64)\n",
      "  friction: array([], shape=(0, 5), dtype=float64)\n",
      "  geom: array([], shape=(0, 2), dtype=int32)\n",
      "  geom1: array([], dtype=int32)\n",
      "  geom2: array([], dtype=int32)\n",
      "  includemargin: array([], dtype=float64)\n",
      "  mu: array([], dtype=float64)\n",
      "  pos: array([], shape=(0, 3), dtype=float64)\n",
      "  solimp: array([], shape=(0, 5), dtype=float64)\n",
      "  solref: array([], shape=(0, 2), dtype=float64)\n",
      "  solreffriction: array([], shape=(0, 2), dtype=float64)\n",
      "  vert: array([], shape=(0, 2), dtype=int32)\n",
      ">\n",
      "<_MjContactList\n",
      "  H: array([], shape=(0, 36), dtype=float64)\n",
      "  dim: array([], dtype=int32)\n",
      "  dist: array([], dtype=float64)\n",
      "  efc_address: array([], dtype=int32)\n",
      "  elem: array([], shape=(0, 2), dtype=int32)\n",
      "  exclude: array([], dtype=int32)\n",
      "  flex: array([], shape=(0, 2), dtype=int32)\n",
      "  frame: array([], shape=(0, 9), dtype=float64)\n",
      "  friction: array([], shape=(0, 5), dtype=float64)\n",
      "  geom: array([], shape=(0, 2), dtype=int32)\n",
      "  geom1: array([], dtype=int32)\n",
      "  geom2: array([], dtype=int32)\n",
      "  includemargin: array([], dtype=float64)\n",
      "  mu: array([], dtype=float64)\n",
      "  pos: array([], shape=(0, 3), dtype=float64)\n",
      "  solimp: array([], shape=(0, 5), dtype=float64)\n",
      "  solref: array([], shape=(0, 2), dtype=float64)\n",
      "  solreffriction: array([], shape=(0, 2), dtype=float64)\n",
      "  vert: array([], shape=(0, 2), dtype=int32)\n",
      ">\n",
      "<_MjContactList\n",
      "  H: array([], shape=(0, 36), dtype=float64)\n",
      "  dim: array([], dtype=int32)\n",
      "  dist: array([], dtype=float64)\n",
      "  efc_address: array([], dtype=int32)\n",
      "  elem: array([], shape=(0, 2), dtype=int32)\n",
      "  exclude: array([], dtype=int32)\n",
      "  flex: array([], shape=(0, 2), dtype=int32)\n",
      "  frame: array([], shape=(0, 9), dtype=float64)\n",
      "  friction: array([], shape=(0, 5), dtype=float64)\n",
      "  geom: array([], shape=(0, 2), dtype=int32)\n",
      "  geom1: array([], dtype=int32)\n",
      "  geom2: array([], dtype=int32)\n",
      "  includemargin: array([], dtype=float64)\n",
      "  mu: array([], dtype=float64)\n",
      "  pos: array([], shape=(0, 3), dtype=float64)\n",
      "  solimp: array([], shape=(0, 5), dtype=float64)\n",
      "  solref: array([], shape=(0, 2), dtype=float64)\n",
      "  solreffriction: array([], shape=(0, 2), dtype=float64)\n",
      "  vert: array([], shape=(0, 2), dtype=int32)\n",
      ">\n",
      "<_MjContactList\n",
      "  H: array([], shape=(0, 36), dtype=float64)\n",
      "  dim: array([], dtype=int32)\n",
      "  dist: array([], dtype=float64)\n",
      "  efc_address: array([], dtype=int32)\n",
      "  elem: array([], shape=(0, 2), dtype=int32)\n",
      "  exclude: array([], dtype=int32)\n",
      "  flex: array([], shape=(0, 2), dtype=int32)\n",
      "  frame: array([], shape=(0, 9), dtype=float64)\n",
      "  friction: array([], shape=(0, 5), dtype=float64)\n",
      "  geom: array([], shape=(0, 2), dtype=int32)\n",
      "  geom1: array([], dtype=int32)\n",
      "  geom2: array([], dtype=int32)\n",
      "  includemargin: array([], dtype=float64)\n",
      "  mu: array([], dtype=float64)\n",
      "  pos: array([], shape=(0, 3), dtype=float64)\n",
      "  solimp: array([], shape=(0, 5), dtype=float64)\n",
      "  solref: array([], shape=(0, 2), dtype=float64)\n",
      "  solreffriction: array([], shape=(0, 2), dtype=float64)\n",
      "  vert: array([], shape=(0, 2), dtype=int32)\n",
      ">\n",
      "<_MjContactList\n",
      "  H: array([], shape=(0, 36), dtype=float64)\n",
      "  dim: array([], dtype=int32)\n",
      "  dist: array([], dtype=float64)\n",
      "  efc_address: array([], dtype=int32)\n",
      "  elem: array([], shape=(0, 2), dtype=int32)\n",
      "  exclude: array([], dtype=int32)\n",
      "  flex: array([], shape=(0, 2), dtype=int32)\n",
      "  frame: array([], shape=(0, 9), dtype=float64)\n",
      "  friction: array([], shape=(0, 5), dtype=float64)\n",
      "  geom: array([], shape=(0, 2), dtype=int32)\n",
      "  geom1: array([], dtype=int32)\n",
      "  geom2: array([], dtype=int32)\n",
      "  includemargin: array([], dtype=float64)\n",
      "  mu: array([], dtype=float64)\n",
      "  pos: array([], shape=(0, 3), dtype=float64)\n",
      "  solimp: array([], shape=(0, 5), dtype=float64)\n",
      "  solref: array([], shape=(0, 2), dtype=float64)\n",
      "  solreffriction: array([], shape=(0, 2), dtype=float64)\n",
      "  vert: array([], shape=(0, 2), dtype=int32)\n",
      ">\n",
      "<_MjContactList\n",
      "  H: array([], shape=(0, 36), dtype=float64)\n",
      "  dim: array([], dtype=int32)\n",
      "  dist: array([], dtype=float64)\n",
      "  efc_address: array([], dtype=int32)\n",
      "  elem: array([], shape=(0, 2), dtype=int32)\n",
      "  exclude: array([], dtype=int32)\n",
      "  flex: array([], shape=(0, 2), dtype=int32)\n",
      "  frame: array([], shape=(0, 9), dtype=float64)\n",
      "  friction: array([], shape=(0, 5), dtype=float64)\n",
      "  geom: array([], shape=(0, 2), dtype=int32)\n",
      "  geom1: array([], dtype=int32)\n",
      "  geom2: array([], dtype=int32)\n",
      "  includemargin: array([], dtype=float64)\n",
      "  mu: array([], dtype=float64)\n",
      "  pos: array([], shape=(0, 3), dtype=float64)\n",
      "  solimp: array([], shape=(0, 5), dtype=float64)\n",
      "  solref: array([], shape=(0, 2), dtype=float64)\n",
      "  solreffriction: array([], shape=(0, 2), dtype=float64)\n",
      "  vert: array([], shape=(0, 2), dtype=int32)\n",
      ">\n",
      "<_MjContactList\n",
      "  H: array([], shape=(0, 36), dtype=float64)\n",
      "  dim: array([], dtype=int32)\n",
      "  dist: array([], dtype=float64)\n",
      "  efc_address: array([], dtype=int32)\n",
      "  elem: array([], shape=(0, 2), dtype=int32)\n",
      "  exclude: array([], dtype=int32)\n",
      "  flex: array([], shape=(0, 2), dtype=int32)\n",
      "  frame: array([], shape=(0, 9), dtype=float64)\n",
      "  friction: array([], shape=(0, 5), dtype=float64)\n",
      "  geom: array([], shape=(0, 2), dtype=int32)\n",
      "  geom1: array([], dtype=int32)\n",
      "  geom2: array([], dtype=int32)\n",
      "  includemargin: array([], dtype=float64)\n",
      "  mu: array([], dtype=float64)\n",
      "  pos: array([], shape=(0, 3), dtype=float64)\n",
      "  solimp: array([], shape=(0, 5), dtype=float64)\n",
      "  solref: array([], shape=(0, 2), dtype=float64)\n",
      "  solreffriction: array([], shape=(0, 2), dtype=float64)\n",
      "  vert: array([], shape=(0, 2), dtype=int32)\n",
      ">\n",
      "<_MjContactList\n",
      "  H: array([], shape=(0, 36), dtype=float64)\n",
      "  dim: array([], dtype=int32)\n",
      "  dist: array([], dtype=float64)\n",
      "  efc_address: array([], dtype=int32)\n",
      "  elem: array([], shape=(0, 2), dtype=int32)\n",
      "  exclude: array([], dtype=int32)\n",
      "  flex: array([], shape=(0, 2), dtype=int32)\n",
      "  frame: array([], shape=(0, 9), dtype=float64)\n",
      "  friction: array([], shape=(0, 5), dtype=float64)\n",
      "  geom: array([], shape=(0, 2), dtype=int32)\n",
      "  geom1: array([], dtype=int32)\n",
      "  geom2: array([], dtype=int32)\n",
      "  includemargin: array([], dtype=float64)\n",
      "  mu: array([], dtype=float64)\n",
      "  pos: array([], shape=(0, 3), dtype=float64)\n",
      "  solimp: array([], shape=(0, 5), dtype=float64)\n",
      "  solref: array([], shape=(0, 2), dtype=float64)\n",
      "  solreffriction: array([], shape=(0, 2), dtype=float64)\n",
      "  vert: array([], shape=(0, 2), dtype=int32)\n",
      ">\n",
      "<_MjContactList\n",
      "  H: array([], shape=(0, 36), dtype=float64)\n",
      "  dim: array([], dtype=int32)\n",
      "  dist: array([], dtype=float64)\n",
      "  efc_address: array([], dtype=int32)\n",
      "  elem: array([], shape=(0, 2), dtype=int32)\n",
      "  exclude: array([], dtype=int32)\n",
      "  flex: array([], shape=(0, 2), dtype=int32)\n",
      "  frame: array([], shape=(0, 9), dtype=float64)\n",
      "  friction: array([], shape=(0, 5), dtype=float64)\n",
      "  geom: array([], shape=(0, 2), dtype=int32)\n",
      "  geom1: array([], dtype=int32)\n",
      "  geom2: array([], dtype=int32)\n",
      "  includemargin: array([], dtype=float64)\n",
      "  mu: array([], dtype=float64)\n",
      "  pos: array([], shape=(0, 3), dtype=float64)\n",
      "  solimp: array([], shape=(0, 5), dtype=float64)\n",
      "  solref: array([], shape=(0, 2), dtype=float64)\n",
      "  solreffriction: array([], shape=(0, 2), dtype=float64)\n",
      "  vert: array([], shape=(0, 2), dtype=int32)\n",
      ">\n",
      "<_MjContactList\n",
      "  H: array([], shape=(0, 36), dtype=float64)\n",
      "  dim: array([], dtype=int32)\n",
      "  dist: array([], dtype=float64)\n",
      "  efc_address: array([], dtype=int32)\n",
      "  elem: array([], shape=(0, 2), dtype=int32)\n",
      "  exclude: array([], dtype=int32)\n",
      "  flex: array([], shape=(0, 2), dtype=int32)\n",
      "  frame: array([], shape=(0, 9), dtype=float64)\n",
      "  friction: array([], shape=(0, 5), dtype=float64)\n",
      "  geom: array([], shape=(0, 2), dtype=int32)\n",
      "  geom1: array([], dtype=int32)\n",
      "  geom2: array([], dtype=int32)\n",
      "  includemargin: array([], dtype=float64)\n",
      "  mu: array([], dtype=float64)\n",
      "  pos: array([], shape=(0, 3), dtype=float64)\n",
      "  solimp: array([], shape=(0, 5), dtype=float64)\n",
      "  solref: array([], shape=(0, 2), dtype=float64)\n",
      "  solreffriction: array([], shape=(0, 2), dtype=float64)\n",
      "  vert: array([], shape=(0, 2), dtype=int32)\n",
      ">\n"
     ]
    },
    {
     "data": {
      "text/plain": [
       "True"
      ]
     },
     "execution_count": 95,
     "metadata": {},
     "output_type": "execute_result"
    }
   ],
   "source": [
    "def is_collision_free_24(model, data, q1, q2, max_step_size=0.1):\n",
    "    \"\"\" \n",
    "    model: MuJoCo model object\n",
    "    data: MuJoCo data object\n",
    "    q1: a numpy array of shape (7,) representing the start joint positions\n",
    "    q2: a numpy array of shape (7,) representing the end joint positions\n",
    "    max_step_size: a scalar representing the maximum step size for collision checking\n",
    "    \n",
    "    Return: a boolean indicating if the path between q1 and q2 is collision-free\n",
    "    \"\"\"\n",
    "    # keep the current joint positions\n",
    "    q_init = get_joint_positions(model, data)\n",
    "    \n",
    "    # check the path between q1 and q2\n",
    "    direction = q2 - q1\n",
    "    norm = np.linalg.norm(direction)\n",
    "    s = np.linspace(0, 1, np.ceil(norm/max_step_size).astype(int)+1)\n",
    "    points = q1 + s[:, None] * direction\n",
    "    for point in points:\n",
    "        set_joint_positions(model, data, point)\n",
    "        mujoco.mj_forward(model, data)\n",
    "        mujoco.mj_collision(model, data)\n",
    "        print(data.contact)\n",
    "        if mujoco.mj_collision(model, data):\n",
    "            set_joint_positions(model, data, q_init)\n",
    "            return False\n",
    "    \n",
    "    # set the joint positions back to the initial state\n",
    "    set_joint_positions(model, data, q_init)\n",
    "    return True\n",
    "\n",
    "# test the function\n",
    "q1 = np.array(get_home_joint_positions(model, data))\n",
    "q2 = np.array(get_goal_joint_positions(model, data))\n",
    "print(q1)\n",
    "is_collision_free_24(model, data, q1, q2)\n"
   ]
  },
  {
   "cell_type": "markdown",
   "metadata": {
    "deletable": false,
    "editable": false
   },
   "source": [
    "#### 2.5)\n",
    "\n",
    "Now we're ready to write our RRT main loop. The algorithm loops over: sampling a point, finding the nearest node on the tree, finding the candidate extension node, checking for collisions, and adding to the tree.\n",
    "\n",
    "The function will take as arguments a threshold `threshold` which tells us how close (in Euclidean distance in the C-space) we must be from the goal configuration to consider that the goal has been reached, and a `step_size` to use for the `extend` function. For the purposes of this HW, feel free to use the same `step_size` for collision checking (which effectively just checks whether `q_new` is in collision).\n",
    "\n",
    "Recall that RRT keeps track of the parent of each node. You may use a `parent` dictionary like the one you've used in previous homeworks (e.g., for Dijkstra and A*). \n",
    "\n",
    "*Hint: Numpy arrays cannot be used as keys in a dictionary. You may need to convert back and forth between tuples and arrays. Make sure to respect the typing expected by the functions defined so far.*\n",
    "\n",
    "*Hint 2: You can modify your retrace_plan function from previous HWs to handle trace back from the goal to the start node.*\n",
    "\n",
    "*Hint 3: You can visualize your plans by calling `render_state`, `time.sleep(0.1)` and `IPython.display.clear_output`*\n",
    "\n",
    "\n",
    "_Points:_ 10"
   ]
  },
  {
   "cell_type": "code",
   "execution_count": 31,
   "metadata": {
    "otter": {
     "tests": [
      "q2.5"
     ]
    },
    "tags": [
     "otter_answer_cell"
    ]
   },
   "outputs": [],
   "source": [
    "\n",
    "def panda_rrt_25(q_init, q_goal, model, data, threshold=0.01, step_size=0.1):\n",
    "    \"\"\" \n",
    "    q_init: a numpy array of shape (7,) representing the initial joint positions\n",
    "    q_goal: a numpy array of shape (7,) representing the goal joint positions\n",
    "    model: MuJoCo model object\n",
    "    data: MuJoCo data object\n",
    "    threshold: a scalar representing the distance threshold to the goal\n",
    "    step_size: a scalar representing the step size for extending the tree\n",
    "\n",
    "    Return: a list of numpy arrays representing the sequence of joint positions from q_init to q_goal.    \n",
    "        The first element should be q_init and the final element should be within threshold of q_goal\n",
    "    \"\"\"\n",
    "    ..."
   ]
  },
  {
   "cell_type": "markdown",
   "metadata": {
    "deletable": false,
    "editable": false
   },
   "source": [
    "#### 2.6)\n",
    "\n",
    "When using a standard implementation of RRT, it is common practice to apply some smoothing mechanism on the plan obtained from RRT. In this question, we will explore a simple smoothing algorithm.\n",
    "\n",
    "The pseudocode is the following:\n",
    "```\n",
    "for i in 1 ... max_iters\n",
    "    i, j <- sample non-consecutive indices i < j + 1 that are neither the first nor the final in the plan\n",
    "    if q[i] -> q[j] can be connected by a straight-line collision-free path, remove all intermediate steps from the plan\n",
    "```\n",
    "\n",
    "Implement this algorithm as `smooth_path_26` below.\n",
    "\n",
    "_Points:_ 10"
   ]
  },
  {
   "cell_type": "code",
   "execution_count": 32,
   "metadata": {
    "otter": {
     "tests": [
      "q2.6"
     ]
    },
    "tags": [
     "otter_answer_cell"
    ]
   },
   "outputs": [],
   "source": [
    "def smooth_path_26(path, model, data, max_iters=1000):\n",
    "    \"\"\"\n",
    "    path: a list of numpy arrays representing the sequence of joint positions from q_init to q_goal\n",
    "    model: MuJoCo model object\n",
    "    data: MuJoCo data object\n",
    "    max_iters: maximum number of iterations for smoothing\n",
    "\n",
    "    Return: a list of numpy arrays representing the smoothed path \n",
    "    \"\"\"\n",
    "    ..."
   ]
  },
  {
   "cell_type": "markdown",
   "metadata": {
    "deletable": false,
    "editable": false
   },
   "source": [
    "## Submission\n",
    "\n",
    "Make sure you have run all cells in your notebook in order before running the cell below, so that all images/graphs appear in the output. The cell below will generate a zip file for you to submit. **Please save before exporting!**\n",
    "\n",
    "Fill out the answers to all questions and submit your file hw6.ipynb to the HW4 assignment on Gradescope. You are free to resubmit as many times as you wish."
   ]
  },
  {
   "cell_type": "code",
   "execution_count": 33,
   "metadata": {
    "deletable": false,
    "editable": false
   },
   "outputs": [
    {
     "name": "stdout",
     "output_type": "stream",
     "text": [
      "Running your submission against local test cases...\n",
      "\n",
      "\n",
      "Your submission received the following results when run against available test cases:\n",
      "\n",
      "\n"
     ]
    },
    {
     "name": "stderr",
     "output_type": "stream",
     "text": [
      "/home/vahid/miniforge3/envs/robotic/lib/python3.10/site-packages/otter/check/utils.py:115: RuntimeWarning: libdecor-gtk-WARNING: Failed to initialize GTK\n",
      "Failed to load plugin 'libdecor-gtk.so': failed to init\n",
      "No plugins found, falling back on no decorations\n",
      "libdecor-gtk-WARNING: Failed to initialize GTK\n",
      "Failed to load plugin 'libdecor-gtk.so': failed to init\n",
      "No plugins found, falling back on no decorations\n",
      "\n",
      "  warnings.warn(results.stderr.decode(\"utf-8\"), RuntimeWarning)\n"
     ]
    },
    {
     "data": {
      "text/html": [
       "\n",
       "                    <p>\n",
       "                        Your submission has been exported. Click\n",
       "                        <a href=\"hw6_2025_03_23T18_16_12_848692.zip\" download=\"hw6_2025_03_23T18_16_12_848692.zip\" target=\"_blank\">here</a> to download\n",
       "                        the zip file.\n",
       "                    </p>\n",
       "                "
      ],
      "text/plain": [
       "<IPython.core.display.HTML object>"
      ]
     },
     "metadata": {},
     "output_type": "display_data"
    }
   ],
   "source": [
    "# Save your notebook first, then run this cell to export your submission.\n",
    "grader.export(pdf=False, run_tests=True)"
   ]
  },
  {
   "cell_type": "markdown",
   "metadata": {},
   "source": [
    " "
   ]
  }
 ],
 "metadata": {
  "kernelspec": {
   "display_name": "robotic",
   "language": "python",
   "name": "python3"
  },
  "language_info": {
   "codemirror_mode": {
    "name": "ipython",
    "version": 3
   },
   "file_extension": ".py",
   "mimetype": "text/x-python",
   "name": "python",
   "nbconvert_exporter": "python",
   "pygments_lexer": "ipython3",
   "version": "3.10.16"
  },
  "otter": {
   "OK_FORMAT": true,
   "assignment_name": "hw6",
   "tests": {
    "q1.1.1.1": {
     "name": "q1.1.1.1",
     "points": 1,
     "suites": [
      {
       "cases": [],
       "scored": true,
       "setup": "",
       "teardown": "",
       "type": "doctest"
      }
     ]
    },
    "q1.1.1.2": {
     "name": "q1.1.1.2",
     "points": 1,
     "suites": [
      {
       "cases": [],
       "scored": true,
       "setup": "",
       "teardown": "",
       "type": "doctest"
      }
     ]
    },
    "q1.1.1.3": {
     "name": "q1.1.1.3",
     "points": 1,
     "suites": [
      {
       "cases": [],
       "scored": true,
       "setup": "",
       "teardown": "",
       "type": "doctest"
      }
     ]
    },
    "q1.1.1.4": {
     "name": "q1.1.1.4",
     "points": 1,
     "suites": [
      {
       "cases": [],
       "scored": true,
       "setup": "",
       "teardown": "",
       "type": "doctest"
      }
     ]
    },
    "q1.1.2.1": {
     "name": "q1.1.2.1",
     "points": 1,
     "suites": [
      {
       "cases": [],
       "scored": true,
       "setup": "",
       "teardown": "",
       "type": "doctest"
      }
     ]
    },
    "q1.1.2.2": {
     "name": "q1.1.2.2",
     "points": 1,
     "suites": [
      {
       "cases": [],
       "scored": true,
       "setup": "",
       "teardown": "",
       "type": "doctest"
      }
     ]
    },
    "q1.1.2.3": {
     "name": "q1.1.2.3",
     "points": 1,
     "suites": [
      {
       "cases": [],
       "scored": true,
       "setup": "",
       "teardown": "",
       "type": "doctest"
      }
     ]
    },
    "q1.1.2.4": {
     "name": "q1.1.2.4",
     "points": 1,
     "suites": [
      {
       "cases": [],
       "scored": true,
       "setup": "",
       "teardown": "",
       "type": "doctest"
      }
     ]
    },
    "q1.1.3.1": {
     "name": "q1.1.3.1",
     "points": 1,
     "suites": [
      {
       "cases": [],
       "scored": true,
       "setup": "",
       "teardown": "",
       "type": "doctest"
      }
     ]
    },
    "q1.1.3.2": {
     "name": "q1.1.3.2",
     "points": 1,
     "suites": [
      {
       "cases": [],
       "scored": true,
       "setup": "",
       "teardown": "",
       "type": "doctest"
      }
     ]
    },
    "q1.1.3.3": {
     "name": "q1.1.3.3",
     "points": 1,
     "suites": [
      {
       "cases": [],
       "scored": true,
       "setup": "",
       "teardown": "",
       "type": "doctest"
      }
     ]
    },
    "q1.1.3.4": {
     "name": "q1.1.3.4",
     "points": 1,
     "suites": [
      {
       "cases": [],
       "scored": true,
       "setup": "",
       "teardown": "",
       "type": "doctest"
      }
     ]
    },
    "q1.1.4.1": {
     "name": "q1.1.4.1",
     "points": 2,
     "suites": [
      {
       "cases": [],
       "scored": true,
       "setup": "",
       "teardown": "",
       "type": "doctest"
      }
     ]
    },
    "q1.1.4.2": {
     "name": "q1.1.4.2",
     "points": 2,
     "suites": [
      {
       "cases": [],
       "scored": true,
       "setup": "",
       "teardown": "",
       "type": "doctest"
      }
     ]
    },
    "q1.1.5.1": {
     "name": "q1.1.5.1",
     "points": 2,
     "suites": [
      {
       "cases": [],
       "scored": true,
       "setup": "",
       "teardown": "",
       "type": "doctest"
      }
     ]
    },
    "q1.1.5.2": {
     "name": "q1.1.5.2",
     "points": 2,
     "suites": [
      {
       "cases": [],
       "scored": true,
       "setup": "",
       "teardown": "",
       "type": "doctest"
      }
     ]
    },
    "q1.2.1": {
     "name": "q1.2.1",
     "points": 3,
     "suites": [
      {
       "cases": [],
       "scored": true,
       "setup": "",
       "teardown": "",
       "type": "doctest"
      }
     ]
    },
    "q1.2.2": {
     "name": "q1.2.2",
     "points": 3,
     "suites": [
      {
       "cases": [],
       "scored": true,
       "setup": "",
       "teardown": "",
       "type": "doctest"
      }
     ]
    },
    "q1.2.3": {
     "name": "q1.2.3",
     "points": 3,
     "suites": [
      {
       "cases": [],
       "scored": true,
       "setup": "",
       "teardown": "",
       "type": "doctest"
      }
     ]
    },
    "q1.2.4": {
     "name": "q1.2.4",
     "points": 3,
     "suites": [
      {
       "cases": [],
       "scored": true,
       "setup": "",
       "teardown": "",
       "type": "doctest"
      }
     ]
    },
    "q1.2.5": {
     "name": "q1.2.5",
     "points": 4,
     "suites": [
      {
       "cases": [],
       "scored": true,
       "setup": "",
       "teardown": "",
       "type": "doctest"
      }
     ]
    },
    "q1.2.6": {
     "name": "q1.2.6",
     "points": 4,
     "suites": [
      {
       "cases": [],
       "scored": true,
       "setup": "",
       "teardown": "",
       "type": "doctest"
      }
     ]
    },
    "q2.1": {
     "name": "q2.1",
     "points": 10,
     "suites": [
      {
       "cases": [],
       "scored": true,
       "setup": "",
       "teardown": "",
       "type": "doctest"
      }
     ]
    },
    "q2.2": {
     "name": "q2.2",
     "points": 10,
     "suites": [
      {
       "cases": [],
       "scored": true,
       "setup": "",
       "teardown": "",
       "type": "doctest"
      }
     ]
    },
    "q2.3": {
     "name": "q2.3",
     "points": 10,
     "suites": [
      {
       "cases": [],
       "scored": true,
       "setup": "",
       "teardown": "",
       "type": "doctest"
      }
     ]
    },
    "q2.4": {
     "name": "q2.4",
     "points": 10,
     "suites": [
      {
       "cases": [],
       "scored": true,
       "setup": "",
       "teardown": "",
       "type": "doctest"
      }
     ]
    },
    "q2.5": {
     "name": "q2.5",
     "points": 10,
     "suites": [
      {
       "cases": [],
       "scored": true,
       "setup": "",
       "teardown": "",
       "type": "doctest"
      }
     ]
    },
    "q2.6": {
     "name": "q2.6",
     "points": 10,
     "suites": [
      {
       "cases": [],
       "scored": true,
       "setup": "",
       "teardown": "",
       "type": "doctest"
      }
     ]
    }
   }
  }
 },
 "nbformat": 4,
 "nbformat_minor": 2
}
