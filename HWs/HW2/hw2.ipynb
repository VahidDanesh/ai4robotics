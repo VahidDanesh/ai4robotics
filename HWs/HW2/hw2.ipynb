{
 "cells": [
  {
   "cell_type": "code",
   "execution_count": null,
   "id": "c0a3371d",
   "metadata": {
    "deletable": false,
    "editable": false
   },
   "outputs": [],
   "source": [
    "# Initialize Otter\n",
    "import otter\n",
    "grader = otter.Notebook(\"hw2.ipynb\")"
   ]
  },
  {
   "cell_type": "markdown",
   "id": "5add0ff4-27fa-4b8b-9429-77a6e70eb204",
   "metadata": {},
   "source": [
    "# FILL IN YOUR NAME AND THE NAME OF YOUR PEER (IF ANY) BELOW"
   ]
  },
  {
   "cell_type": "markdown",
   "id": "114b0f41-932d-43fb-96b0-a10ea759b6e4",
   "metadata": {},
   "source": [
    "**Name**: \\<replace this with your name\\>\n",
    "\n",
    "**Peer**: \\<replace this with your peer's name\\>\n",
    "\n",
    "## Collaboration policy\n",
    "Students are responsible for writing their own quizzes, assignments, and exams. For homework assignments, students are welcome (and encouraged) to discuss problems with one peer, **but each student must write their own assignment wrtieup and code individually**. The peer must be listed at the top of the writeup for each assignment. *Note: I will treat AI assistants as peers. That is, students are welcome to discuss problems with an AI assistant, but it is considered cheating to directly obtain an answer by querying the assistant. Please credit any AI assistant that you use.*"
   ]
  },
  {
   "cell_type": "markdown",
   "id": "3eeaa842-e2ff-4f0d-9447-6450943e8703",
   "metadata": {},
   "source": [
    "# Homework 2 -- Dijkstra's Algorithm and A* (100 pts)\n",
    "\n",
    "**Due:** Tuesday, February 11th, 2025 at 11:59 pm\n",
    "\n",
    "This homework builds on the material in the slides and the LaValle chapter on Discrete Optimal Search.\n",
    "\n",
    "We will use Jupyter/Colab notebooks throughout the semester for writing code and generating assignment outputs. \n",
    "\n",
    "## 1) Tracing Dijkstra and A* (60 pts)\n",
    "\n",
    "Consider the following 3x3 grid where nodes are gonnected to their vartical, horizontal, and diagonal neighbors (N, E, S, W, NE, NW, SE, SW). The start node is (0,0) and the goal node is (2,2). The cost for vertical and horizontal actions is 1, and the cost of diagonal actions is 1.4, with two exceptions. There are conveyor belts between nodes `(1,0)` and `(1,1)`, and between nodes `(1,2)` and `(2,2)`, reducing the cost of those actions to 0.2. The grid with associated action costs is shown below.\n",
    "\n",
    "<img src=\"https://jorge-a-mendez.github.io/images/ese564s24/dijkstragrid.png\" width=50%>\n",
    "\n",
    "**Throughout this question, assume that ties are broken by sorting based on the nodes' first coordinate and further ties are broken by the second coordinate (e.g., (0,1) comes before (1,0); (0,2) comes before (1,1); (0,1) comes before (0,2)).**\n",
    "\n",
    "\n",
    "### 1.1) Dijkstra (16 pts)\n",
    "\n",
    "We are going to manually trace Dijkstra's algorithm and list the order in which nodes are visited. We will start from a prioirity queue that contains a single element, the starting node:\n",
    "```\n",
    "q = [(0,0): 0]\n",
    "```\n",
    "And a parent list that contains `None` for the start state's parent:\n",
    "```\n",
    "p = {(0,0): None}\n",
    "```\n",
    "Each question below will ask you to add the current node's neighbors to the queue and add the parent of each new node to the `p` dictionary. *Hint: you may find it helpful to also track the `dist` map defined in the pseudocode in the slides.*\n",
    "\n"
   ]
  },
  {
   "cell_type": "markdown",
   "id": "9b077b00-bf16-44d7-988e-27cf380b2a3d",
   "metadata": {
    "deletable": false,
    "editable": false
   },
   "source": [
    "#### 1.1.1)\n",
    "\n",
    "In the first step, what is the current node inspected by the algorithm (i.e., the node extracted from the queue `q` at the first iteration)?\n",
    "\n",
    "_Points:_ 0.5"
   ]
  },
  {
   "cell_type": "code",
   "execution_count": null,
   "id": "50976ae0-2716-41ae-8690-d6987cc61d83",
   "metadata": {
    "tags": [
     "otter_answer_cell"
    ]
   },
   "outputs": [],
   "source": [
    "# Express your answer as a tuple representing the node (e.g., (2,3)). If the algorithm has terminated, set the value to None.\n",
    "v_111 = ..."
   ]
  },
  {
   "cell_type": "markdown",
   "id": "ff6b9206-8348-4034-b566-719f2b4fe086",
   "metadata": {
    "deletable": false,
    "editable": false
   },
   "source": [
    "After the first step, what are the contents of the queue (i.e., after extracting the first node `v_111` and adding its neighbors to the queue, what is the current state of the queue `q`)? \n",
    "\n",
    "_Points:_ 0.5"
   ]
  },
  {
   "cell_type": "code",
   "execution_count": null,
   "id": "09b05cdb-81af-4f39-830c-fc89507f4b33",
   "metadata": {
    "tags": [
     "otter_answer_cell"
    ]
   },
   "outputs": [],
   "source": [
    "# Express your answer as a dictionary mapping tuples (representing nodes) to\n",
    "# scalar values (representing costs from start to node) (e.g., {(0,0): 0}). If \n",
    "# the algorithm has terminated, set the value to an empty dictionary {}\n",
    "q_111 = ..."
   ]
  },
  {
   "cell_type": "markdown",
   "id": "d6457a43-fafe-4b74-93d1-3fbdf009a45b",
   "metadata": {
    "deletable": false,
    "editable": false
   },
   "source": [
    "After the first step, what are the contents of the parents directory (i.e., after extracting the first node `v_111` and adding its neighbors to the queue, what are each visited node's parents)? \n",
    "\n",
    "_Points:_ 0.5"
   ]
  },
  {
   "cell_type": "code",
   "execution_count": null,
   "id": "772b2017-645e-4a70-b827-88d760affda1",
   "metadata": {
    "tags": [
     "otter_answer_cell"
    ]
   },
   "outputs": [],
   "source": [
    "# Express your answer as a dictionary mapping tuples (representing child nodes) to\n",
    "# tuples (representing parent nodes) (e.g., {(0,0): None, (2,1): (a,b)} where (a,b) in \n",
    "# this example is the parent of (2,1)). If the algorithm has terminated, set the value\n",
    "# to the latest parents dictionary\n",
    "p_111 = ..."
   ]
  },
  {
   "cell_type": "markdown",
   "id": "6a953168-6a6d-4983-b89a-99ee0670dbe7",
   "metadata": {
    "deletable": false,
    "editable": false
   },
   "source": [
    "#### 1.1.2)\n",
    "\n",
    "In the second step, what is the current node inspected by the algorithm (i.e., the node extracted from the queue `q` at the second iteration)?\n",
    "\n",
    "_Points:_ 0.5"
   ]
  },
  {
   "cell_type": "code",
   "execution_count": null,
   "id": "6f336834-b18e-4ed8-bce1-cb6951e8ddd4",
   "metadata": {
    "tags": [
     "otter_answer_cell"
    ]
   },
   "outputs": [],
   "source": [
    "# Express your answer as a tuple representing the node (e.g., (2,3)). If the algorithm has terminated, set the value to None.\n",
    "v_112 = ..."
   ]
  },
  {
   "cell_type": "markdown",
   "id": "ea951322-2326-4b3d-b248-28d1a11e08d1",
   "metadata": {
    "deletable": false,
    "editable": false
   },
   "source": [
    "After the second step, what are the contents of the queue (i.e., after extracting the second node `v_112` and adding its neighbors to the queue, what is the current state of the queue `q`)? \n",
    "\n",
    "_Points:_ 0.5"
   ]
  },
  {
   "cell_type": "code",
   "execution_count": null,
   "id": "54518fcb-d8cd-4e5e-a1fe-7c25f0f49d19",
   "metadata": {
    "tags": [
     "otter_answer_cell"
    ]
   },
   "outputs": [],
   "source": [
    "# Express your answer as a dictionary mapping tuples (representing nodes) to\n",
    "# scalar values (representing costs from start to node) (e.g., {(0,0): 0}). If \n",
    "# the algorithm has terminated, set the value to an empty dictionary {}\n",
    "q_112 = ..."
   ]
  },
  {
   "cell_type": "markdown",
   "id": "e64e9650-9be9-456c-a12c-7a722a503861",
   "metadata": {
    "deletable": false,
    "editable": false
   },
   "source": [
    "After the second step, what are the contents of the parents directory (i.e., after extracting the second node `v_112` and adding its neighbors to the queue, what are each visited node's parents)? \n",
    "\n",
    "_Points:_ 0.5"
   ]
  },
  {
   "cell_type": "code",
   "execution_count": null,
   "id": "3fc94c66-058f-4f4d-92c0-23e9ddddb758",
   "metadata": {
    "tags": [
     "otter_answer_cell"
    ]
   },
   "outputs": [],
   "source": [
    "# Express your answer as a dictionary mapping tuples (representing child nodes) to\n",
    "# tuples (representing parent nodes) (e.g., {(0,0): None, (2,1): (a,b)} where (a,b) in \n",
    "# this example is the parent of (2,1)). If the algorithm has terminated, set the value\n",
    "# to the latest parents dictionary\n",
    "p_112 = ..."
   ]
  },
  {
   "cell_type": "markdown",
   "id": "c2ece98f-54c6-43f6-aa05-bf86c76682c8",
   "metadata": {
    "deletable": false,
    "editable": false
   },
   "source": [
    "#### 1.1.3)\n",
    "\n",
    "In the third step, what is the current node inspected by the algorithm (i.e., the node extracted from the queue `q` at the third iteration)?\n",
    "\n",
    "_Points:_ 0.5"
   ]
  },
  {
   "cell_type": "code",
   "execution_count": null,
   "id": "3b940cd1-d7c6-4d35-8023-7de0a6282840",
   "metadata": {
    "tags": [
     "otter_answer_cell"
    ]
   },
   "outputs": [],
   "source": [
    "# Express your answer as a tuple representing the node (e.g., (2,3)). If the algorithm has terminated, set the value to None.\n",
    "v_113 = ..."
   ]
  },
  {
   "cell_type": "markdown",
   "id": "dc64b436-4f8c-4065-a362-4a4b67307a7d",
   "metadata": {
    "deletable": false,
    "editable": false
   },
   "source": [
    "After the third step, what are the contents of the queue (i.e., after extracting the third node `v_113` and adding its neighbors to the queue, what is the current state of the queue `q`)? \n",
    "\n",
    "_Points:_ 0.5"
   ]
  },
  {
   "cell_type": "code",
   "execution_count": null,
   "id": "6a617a00-80ee-4c9b-b3f9-f5000ee836e3",
   "metadata": {
    "tags": [
     "otter_answer_cell"
    ]
   },
   "outputs": [],
   "source": [
    "# Express your answer as a dictionary mapping tuples (representing nodes) to\n",
    "# scalar values (representing costs from start to node) (e.g., {(0,0): 0}). If \n",
    "# the algorithm has terminated, set the value to an empty dictionary {}\n",
    "q_113 = ..."
   ]
  },
  {
   "cell_type": "markdown",
   "id": "d56d8e4c-7364-40a3-8814-1c975b9c495b",
   "metadata": {
    "deletable": false,
    "editable": false
   },
   "source": [
    "After the third step, what are the contents of the parents directory (i.e., after extracting the third node `v_113` and adding its neighbors to the queue, what are each visited node's parents)? \n",
    "\n",
    "_Points:_ 0.5"
   ]
  },
  {
   "cell_type": "code",
   "execution_count": null,
   "id": "64cc69ac-a5a2-4761-86d4-219d9a97af6f",
   "metadata": {
    "tags": [
     "otter_answer_cell"
    ]
   },
   "outputs": [],
   "source": [
    "# Express your answer as a dictionary mapping tuples (representing child nodes) to\n",
    "# tuples (representing parent nodes) (e.g., {(0,0): None, (2,1): (a,b)} where (a,b) in \n",
    "# this example is the parent of (2,1)). If the algorithm has terminated, set the value\n",
    "# to the latest parents dictionary\n",
    "p_113 = ..."
   ]
  },
  {
   "cell_type": "markdown",
   "id": "4e9f0c2d-5a65-4f90-8aa6-b6ac71209b2c",
   "metadata": {
    "deletable": false,
    "editable": false
   },
   "source": [
    "#### 1.1.4)\n",
    "\n",
    "In the fourth step, what is the current node inspected by the algorithm (i.e., the node extracted from the queue `q` at the fourth iteration)?\n",
    "\n",
    "_Points:_ 0.5"
   ]
  },
  {
   "cell_type": "code",
   "execution_count": null,
   "id": "e2659977-8e4c-44d6-aba8-716b7ff43bc3",
   "metadata": {
    "tags": [
     "otter_answer_cell"
    ]
   },
   "outputs": [],
   "source": [
    "# Express your answer as a tuple representing the node (e.g., (2,3)). If the algorithm has terminated, set the value to None.\n",
    "v_114 = ..."
   ]
  },
  {
   "cell_type": "markdown",
   "id": "76695164-55fe-45b5-a3e1-0121d2a22736",
   "metadata": {
    "deletable": false,
    "editable": false
   },
   "source": [
    "After the fourth step, what are the contents of the queue (i.e., after extracting the fourth node `v_114` and adding its neighbors to the queue, what is the current state of the queue `q`)? \n",
    "\n",
    "_Points:_ 0.5"
   ]
  },
  {
   "cell_type": "code",
   "execution_count": null,
   "id": "f48a47c0-5951-45df-96dd-f6ced1a3beb9",
   "metadata": {
    "tags": [
     "otter_answer_cell"
    ]
   },
   "outputs": [],
   "source": [
    "# Express your answer as a dictionary mapping tuples (representing nodes) to\n",
    "# scalar values (representing costs from start to node) (e.g., {(0,0): 0}). If \n",
    "# the algorithm has terminated, set the value to an empty dictionary {}\n",
    "q_114 = ..."
   ]
  },
  {
   "cell_type": "markdown",
   "id": "fa4da005-2074-4702-b6e0-02e28c954c2b",
   "metadata": {
    "deletable": false,
    "editable": false
   },
   "source": [
    "After the fourth step, what are the contents of the parents directory (i.e., after extracting the fourth node `v_114` and adding its neighbors to the queue, what are each visited node's parents)? \n",
    "\n",
    "_Points:_ 0.5"
   ]
  },
  {
   "cell_type": "code",
   "execution_count": null,
   "id": "1f5fc497-6434-451b-aaee-01e15bc49b0f",
   "metadata": {
    "tags": [
     "otter_answer_cell"
    ]
   },
   "outputs": [],
   "source": [
    "# Express your answer as a dictionary mapping tuples (representing child nodes) to\n",
    "# tuples (representing parent nodes) (e.g., {(0,0): None, (2,1): (a,b)} where (a,b) in \n",
    "# this example is the parent of (2,1)). If the algorithm has terminated, set the value\n",
    "# to the latest parents dictionary\n",
    "p_114 = ..."
   ]
  },
  {
   "cell_type": "markdown",
   "id": "e121b856-967e-4532-bb57-1ee40630a1e7",
   "metadata": {
    "deletable": false,
    "editable": false
   },
   "source": [
    "#### 1.1.5)\n",
    "\n",
    "In the fifth step, what is the current node inspected by the algorithm (i.e., the node extracted from the queue `q` at the fifth iteration)?\n",
    "\n",
    "_Points:_ 0.5"
   ]
  },
  {
   "cell_type": "code",
   "execution_count": null,
   "id": "6317b3ea-deab-417d-9d6d-4c3ff8164789",
   "metadata": {
    "tags": [
     "otter_answer_cell"
    ]
   },
   "outputs": [],
   "source": [
    "# Express your answer as a tuple representing the node (e.g., (2,3)). If the algorithm has terminated, set the value to None.\n",
    "v_115 = ..."
   ]
  },
  {
   "cell_type": "markdown",
   "id": "379dc026-e253-4823-bc88-65635aa431dc",
   "metadata": {
    "deletable": false,
    "editable": false
   },
   "source": [
    "After the fifth step, what are the contents of the queue (i.e., after extracting the fifth node `v_115` and adding its neighbors to the queue, what is the current state of the queue `q`)? \n",
    "\n",
    "_Points:_ 0.5"
   ]
  },
  {
   "cell_type": "code",
   "execution_count": null,
   "id": "1cbafa9d-84f8-478b-89ea-9be7df41c461",
   "metadata": {
    "tags": [
     "otter_answer_cell"
    ]
   },
   "outputs": [],
   "source": [
    "# Express your answer as a dictionary mapping tuples (representing nodes) to\n",
    "# scalar values (representing costs from start to node) (e.g., {(0,0): 0}). If \n",
    "# the algorithm has terminated, set the value to an empty dictionary {}\n",
    "q_115 = ..."
   ]
  },
  {
   "cell_type": "markdown",
   "id": "eac5abf4-4a2e-475c-bcf0-0759f857b5bd",
   "metadata": {
    "deletable": false,
    "editable": false
   },
   "source": [
    "After the fifth step, what are the contents of the parents directory (i.e., after extracting the fifth node `v_115` and adding its neighbors to the queue, what are each visited node's parents)? \n",
    "\n",
    "_Points:_ 0.5"
   ]
  },
  {
   "cell_type": "code",
   "execution_count": null,
   "id": "c1ffe8a1-12bb-49fc-af83-9d62c8d28dd5",
   "metadata": {
    "tags": [
     "otter_answer_cell"
    ]
   },
   "outputs": [],
   "source": [
    "# Express your answer as a dictionary mapping tuples (representing child nodes) to\n",
    "# tuples (representing parent nodes) (e.g., {(0,0): None, (2,1): (a,b)} where (a,b) in \n",
    "# this example is the parent of (2,1)). If the algorithm has terminated, set the value\n",
    "# to the latest parents dictionary\n",
    "p_115 = ..."
   ]
  },
  {
   "cell_type": "markdown",
   "id": "875d70f4-0970-40ae-aa1e-5c1619b3820d",
   "metadata": {
    "deletable": false,
    "editable": false
   },
   "source": [
    "#### 1.1.6)\n",
    "\n",
    "In the sixth step, what is the current node inspected by the algorithm (i.e., the node extracted from the queue `q` at the sixth iteration)?\n",
    "\n",
    "_Points:_ 0.5"
   ]
  },
  {
   "cell_type": "code",
   "execution_count": null,
   "id": "ad671f39-e628-4918-be87-c9e992e8ee2d",
   "metadata": {
    "tags": [
     "otter_answer_cell"
    ]
   },
   "outputs": [],
   "source": [
    "# Express your answer as a tuple representing the node (e.g., (2,3)). If the algorithm has terminated, set the value to None.\n",
    "v_116 = ..."
   ]
  },
  {
   "cell_type": "markdown",
   "id": "9766d0fe-fd5f-4b60-9cfd-e3952a2443fb",
   "metadata": {
    "deletable": false,
    "editable": false
   },
   "source": [
    "After the sixth step, what are the contents of the queue (i.e., after extracting the sixth node `v_116` and adding its neighbors to the queue, what is the current state of the queue `q`)? \n",
    "\n",
    "_Points:_ 0.5"
   ]
  },
  {
   "cell_type": "code",
   "execution_count": null,
   "id": "872fdd3a-510c-424d-858e-cc7df85ff2e9",
   "metadata": {
    "tags": [
     "otter_answer_cell"
    ]
   },
   "outputs": [],
   "source": [
    "# Express your answer as a dictionary mapping tuples (representing nodes) to\n",
    "# scalar values (representing costs from start to node) (e.g., {(0,0): 0}). If \n",
    "# the algorithm has terminated, set the value to an empty dictionary {}\n",
    "q_116 = ..."
   ]
  },
  {
   "cell_type": "markdown",
   "id": "a8c66b42-7e3f-4420-9421-8912c908fa67",
   "metadata": {
    "deletable": false,
    "editable": false
   },
   "source": [
    "After the sixth step, what are the contents of the parents directory (i.e., after extracting the sixth node `v_116` and adding its neighbors to the queue, what are each visited node's parents)? \n",
    "\n",
    "_Points:_ 0.5"
   ]
  },
  {
   "cell_type": "code",
   "execution_count": null,
   "id": "35b356aa-c432-41a3-a8a0-ddabe7e13fa2",
   "metadata": {
    "tags": [
     "otter_answer_cell"
    ]
   },
   "outputs": [],
   "source": [
    "# Express your answer as a dictionary mapping tuples (representing child nodes) to\n",
    "# tuples (representing parent nodes) (e.g., {(0,0): None, (2,1): (a,b)} where (a,b) in \n",
    "# this example is the parent of (2,1)). If the algorithm has terminated, set the value\n",
    "# to the latest parents dictionary\n",
    "p_116 = ..."
   ]
  },
  {
   "cell_type": "markdown",
   "id": "f62c3a56-8574-4b9b-a75c-5bd73212dd6b",
   "metadata": {
    "deletable": false,
    "editable": false
   },
   "source": [
    "#### 1.1.7)\n",
    "\n",
    "In the seventh step, what is the current node inspected by the algorithm (i.e., the node extracted from the queue `q` at the seventh iteration)?\n",
    "\n",
    "_Points:_ 0.5"
   ]
  },
  {
   "cell_type": "code",
   "execution_count": null,
   "id": "9699d8d5-b1fd-43d0-bb3b-d8382e8885c8",
   "metadata": {
    "tags": [
     "otter_answer_cell"
    ]
   },
   "outputs": [],
   "source": [
    "# Express your answer as a tuple representing the node (e.g., (2,3)). If the algorithm has terminated, set the value to None.\n",
    "v_117 = ..."
   ]
  },
  {
   "cell_type": "markdown",
   "id": "a95143fc-6c0a-41d9-83a1-49ce857aba53",
   "metadata": {
    "deletable": false,
    "editable": false
   },
   "source": [
    "After the seventh step, what are the contents of the queue (i.e., after extracting the seventh node `v_117` and adding its neighbors to the queue, what is the current state of the queue `q`)? \n",
    "\n",
    "_Points:_ 0.5"
   ]
  },
  {
   "cell_type": "code",
   "execution_count": null,
   "id": "f2e5826d-5b4e-49c9-9fe2-b12f72e7efa4",
   "metadata": {
    "tags": [
     "otter_answer_cell"
    ]
   },
   "outputs": [],
   "source": [
    "# Express your answer as a dictionary mapping tuples (representing nodes) to\n",
    "# scalar values (representing costs from start to node) (e.g., {(0,0): 0}). If \n",
    "# the algorithm has terminated, set the value to an empty dictionary {}\n",
    "q_117 = ..."
   ]
  },
  {
   "cell_type": "markdown",
   "id": "f17b32e6-f678-4799-aa89-6b9d1f1371f8",
   "metadata": {
    "deletable": false,
    "editable": false
   },
   "source": [
    "After the seventh step, what are the contents of the parents directory (i.e., after extracting the seventh node `v_117` and adding its neighbors to the queue, what are each visited node's parents)? \n",
    "\n",
    "_Points:_ 0.5"
   ]
  },
  {
   "cell_type": "code",
   "execution_count": null,
   "id": "76018e38-9a86-479c-b78a-2a42eccf5f06",
   "metadata": {
    "tags": [
     "otter_answer_cell"
    ]
   },
   "outputs": [],
   "source": [
    "# Express your answer as a dictionary mapping tuples (representing child nodes) to\n",
    "# tuples (representing parent nodes) (e.g., {(0,0): None, (2,1): (a,b)} where (a,b) in \n",
    "# this example is the parent of (2,1)). If the algorithm has terminated, set the value\n",
    "# to the latest parents dictionary\n",
    "p_117 = ..."
   ]
  },
  {
   "cell_type": "markdown",
   "id": "6a95ef13-e5b8-456d-a124-af781e902f97",
   "metadata": {
    "deletable": false,
    "editable": false
   },
   "source": [
    "#### 1.1.8)\n",
    "\n",
    "In the eihgth step, what is the current node inspected by the algorithm (i.e., the node extracted from the queue `q` at the eighth iteration)?\n",
    "\n",
    "_Points:_ 0.5"
   ]
  },
  {
   "cell_type": "code",
   "execution_count": null,
   "id": "a47fff96-b555-48ae-ae95-5b40dc178c84",
   "metadata": {
    "tags": [
     "otter_answer_cell"
    ]
   },
   "outputs": [],
   "source": [
    "# Express your answer as a tuple representing the node (e.g., (2,3)). If the algorithm has terminated, set the value to None.\n",
    "v_118 = ..."
   ]
  },
  {
   "cell_type": "markdown",
   "id": "56907ef2-b0b1-4964-ba06-e2de1a5df467",
   "metadata": {
    "deletable": false,
    "editable": false
   },
   "source": [
    "After the eighth step, what are the contents of the queue (i.e., after extracting the eighth node `v_118` and adding its neighbors to the queue, what is the current state of the queue `q`)? \n",
    "\n",
    "_Points:_ 0.5"
   ]
  },
  {
   "cell_type": "code",
   "execution_count": null,
   "id": "e287f0d7-cdea-46ed-9801-7d4e134366e9",
   "metadata": {
    "tags": [
     "otter_answer_cell"
    ]
   },
   "outputs": [],
   "source": [
    "# Express your answer as a dictionary mapping tuples (representing nodes) to\n",
    "# scalar values (representing costs from start to node) (e.g., {(0,0): 0}). If \n",
    "# the algorithm has terminated, set the value to an empty dictionary {}\n",
    "q_118 = ..."
   ]
  },
  {
   "cell_type": "markdown",
   "id": "b507dd35-bfa6-4286-894d-e86ed39b81f3",
   "metadata": {
    "deletable": false,
    "editable": false
   },
   "source": [
    "After the eihgth step, what are the contents of the parents directory (i.e., after extracting the eighth node `v_118` and adding its neighbors to the queue, what are each visited node's parents)? \n",
    "\n",
    "_Points:_ 0.5"
   ]
  },
  {
   "cell_type": "code",
   "execution_count": null,
   "id": "9d9e593c-b997-4fc9-bb17-edb685604ea7",
   "metadata": {
    "tags": [
     "otter_answer_cell"
    ]
   },
   "outputs": [],
   "source": [
    "# Express your answer as a dictionary mapping tuples (representing child nodes) to\n",
    "# tuples (representing parent nodes) (e.g., {(0,0): None, (2,1): (a,b)} where (a,b) in \n",
    "# this example is the parent of (2,1)). If the algorithm has terminated, set the value\n",
    "# to the latest parents dictionary\n",
    "p_118 = ..."
   ]
  },
  {
   "cell_type": "markdown",
   "id": "dc8ad634-ae0a-49c4-87b1-eb85550dfd80",
   "metadata": {
    "deletable": false,
    "editable": false
   },
   "source": [
    "#### 1.1.9)\n",
    "\n",
    "In the ninth step, what is the current node inspected by the algorithm (i.e., the node extracted from the queue `q` at the ninth iteration)?\n",
    "\n",
    "_Points:_ 0.5"
   ]
  },
  {
   "cell_type": "code",
   "execution_count": null,
   "id": "b3c147f8-9764-4903-91ce-e74ef77163dd",
   "metadata": {
    "tags": [
     "otter_answer_cell"
    ]
   },
   "outputs": [],
   "source": [
    "# Express your answer as a tuple representing the node (e.g., (2,3)). If the algorithm has terminated, set the value to None.\n",
    "v_119 = ..."
   ]
  },
  {
   "cell_type": "markdown",
   "id": "5d2fd351-132d-40e5-b036-e12eb7ac0680",
   "metadata": {
    "deletable": false,
    "editable": false
   },
   "source": [
    "After the ninth step, what are the contents of the queue (i.e., after extracting the ninth node `v_119` and adding its neighbors to the queue, what is the current state of the queue `q`)? \n",
    "\n",
    "_Points:_ 0.5"
   ]
  },
  {
   "cell_type": "code",
   "execution_count": null,
   "id": "a4b752c7-f303-4aac-8ce3-f627b6b70656",
   "metadata": {
    "tags": [
     "otter_answer_cell"
    ]
   },
   "outputs": [],
   "source": [
    "# Express your answer as a dictionary mapping tuples (representing nodes) to\n",
    "# scalar values (representing costs from start to node) (e.g., {(0,0): 0}). If \n",
    "# the algorithm has terminated, set the value to an empty dictionary {}\n",
    "q_119 = ..."
   ]
  },
  {
   "cell_type": "markdown",
   "id": "f8625db7-ee3a-4786-97fa-3a04436b3602",
   "metadata": {
    "deletable": false,
    "editable": false
   },
   "source": [
    "After the ninth step, what are the contents of the parents directory (i.e., after extracting the ninth node `v_119` and adding its neighbors to the queue, what are each visited node's parents)? \n",
    "\n",
    "_Points:_ 0.5"
   ]
  },
  {
   "cell_type": "code",
   "execution_count": null,
   "id": "9ddcaeed-4666-47d9-8a55-c8b7a241045a",
   "metadata": {
    "tags": [
     "otter_answer_cell"
    ]
   },
   "outputs": [],
   "source": [
    "# Express your answer as a dictionary mapping tuples (representing child nodes) to\n",
    "# tuples (representing parent nodes) (e.g., {(0,0): None, (2,1): (a,b)} where (a,b) in \n",
    "# this example is the parent of (2,1)). If the algorithm has terminated, set the value\n",
    "# to the latest parents dictionary\n",
    "p_119 = ..."
   ]
  },
  {
   "cell_type": "markdown",
   "id": "87ce6f05-cd47-4375-942d-eac2bc65ac0c",
   "metadata": {
    "deletable": false,
    "editable": false
   },
   "source": [
    "#### 1.1.10)\n",
    "\n",
    "When Dijkstra succeeds, we can find a plan by tracing back the parents in the `p` dictionary. In particular, we find the goal node's parent, then the parent's parent, and so on, until we reach the start state, and then we revert this path. What is the path found by Dijkstra for this problem?\n",
    "\n",
    "_Points:_ 1.5"
   ]
  },
  {
   "cell_type": "code",
   "execution_count": null,
   "id": "356026b1-8802-4fa6-8959-7fb3a6e55235",
   "metadata": {
    "tags": [
     "otter_answer_cell"
    ]
   },
   "outputs": [],
   "source": [
    "# Express your answer as a list of tuples starting from the start state and ending in the goal state. If no plan is found, set the plan to []\n",
    "plan_1110 = ..."
   ]
  },
  {
   "cell_type": "markdown",
   "id": "00ecbbe3-07a0-4fa8-a834-28379b408b3f",
   "metadata": {
    "deletable": false,
    "editable": false
   },
   "source": [
    "#### 1.1.11)\n",
    "\n",
    "What is the total cost of the plan found by Dijstra's algorithm?\n",
    "\n",
    "_Points:_ 1"
   ]
  },
  {
   "cell_type": "code",
   "execution_count": null,
   "id": "c84d506e-7217-49a2-a22c-d8113ca30241",
   "metadata": {
    "tags": [
     "otter_answer_cell"
    ]
   },
   "outputs": [],
   "source": [
    "# Express your answer as a scalar\n",
    "ans_1111 = ..."
   ]
  },
  {
   "cell_type": "markdown",
   "id": "102adaf6-bd72-4065-92cb-45458b6917cb",
   "metadata": {},
   "source": [
    "\n",
    "### 1.2) A* with Octile Heuristic (13 pts)\n",
    "\n",
    "\n",
    "To use A*, we need to define a heuristic function that predicts the cost to reach the goal from each node. We will start by using the *octile heuristic*. The octile heuristic is defined as the minimum distance from a node to the goal assuming that horizontal and vertical actions have a cost of 1 and diagonal 45-degree actions have a cost of 1.4. More precisely, the heuristic is defined as $\\max(\\Delta x, \\Delta y) + 0.4 \\cdot \\min(\\Delta x, \\Delta y)$, where $\\Delta x$ and $\\Delta y$ are the horizontal and vertical distance to goal, respectively.\n",
    "\n"
   ]
  },
  {
   "cell_type": "markdown",
   "id": "fcad1193-46fb-4c61-baff-2d39a598a9a7",
   "metadata": {
    "deletable": false,
    "editable": false
   },
   "source": [
    "Assuming that $\\Delta x$ and $\\Delta y$ are the horizontal and vertical distance to goal, respectively, which of the following formulas represents the octile heuristic?\n",
    "\n",
    "a. $\\max(\\Delta x, \\Delta y) + 1.4 \\cdot \\min(\\Delta x, \\Delta y)$\\\n",
    "b. $\\max(\\Delta x, \\Delta y) + 0.4 \\cdot \\min(\\Delta x, \\Delta y)$\\\n",
    "c. $\\Delta x + \\Delta y + 0.4 \\cdot \\min(\\Delta x, \\Delta y)$\\\n",
    "d. $\\max(\\Delta x, \\Delta y) + 0.4 \\cdot (\\Delta x + \\Delta y)$\n",
    "\n",
    "_Points:_ 3"
   ]
  },
  {
   "cell_type": "code",
   "execution_count": null,
   "id": "c47b8fee-0535-4377-bccf-322c8dea61e0",
   "metadata": {
    "tags": [
     "otter_answer_cell"
    ]
   },
   "outputs": [],
   "source": [
    "# Enter your answer as a lower-case Python string (e.g., \"a\")\n",
    "ans_12 = ..."
   ]
  },
  {
   "cell_type": "markdown",
   "id": "7beb601f-1cb1-436f-8848-b6a89d99b805",
   "metadata": {},
   "source": [
    "We are going to manually trace the A* algorithm using the octile heuristic, and list the order in which nodes are visited. We will start from a priority queue that contains a single element, the starting node, associated to the heuristic estimate of the cost to reach the goal:\n",
    "```\n",
    "q = {(0,0): 2.8}\n",
    "```\n",
    "And a parent list that contains `None` for the start state's parent:\n",
    "```\n",
    "p = {(0,0): None}\n",
    "```\n",
    "Each question below will ask you to add the current node's neighbors to the queue and add the parent of each new node to the `p` dictionary.\n",
    "\n",
    "*Hint: in addition to `q` and `p`, it may be helpful for you to keep track of `c2come` and `ctot` as defined in the slides.*\n"
   ]
  },
  {
   "cell_type": "markdown",
   "id": "9452e447-9d63-49f5-ba0d-c3a548428ca9",
   "metadata": {
    "deletable": false,
    "editable": false
   },
   "source": [
    "#### 1.2.1)\n",
    "\n",
    "In the first step, what is the current node inspected by the algorithm (i.e., the node extracted from the queue `q` at the first iteration)?\n",
    "\n",
    "_Points:_ 0.5"
   ]
  },
  {
   "cell_type": "code",
   "execution_count": null,
   "id": "ec9e7875-2062-46d7-9c97-2bfaa1b86d72",
   "metadata": {
    "tags": [
     "otter_answer_cell"
    ]
   },
   "outputs": [],
   "source": [
    "# Express your answer as a tuple representing the node (e.g., (2,3)). If the algorithm has terminated, set the value to None.\n",
    "v_121 = ..."
   ]
  },
  {
   "cell_type": "markdown",
   "id": "6c9175ff-b4b5-49ce-bb67-33820ac18ef9",
   "metadata": {
    "deletable": false,
    "editable": false
   },
   "source": [
    "After the first step, what are the contents of the queue (i.e., after extracting the first node `v_121` and adding its neighbors to the queue, what is the current state of the queue `q`)? \n",
    "\n",
    "_Points:_ 0.5"
   ]
  },
  {
   "cell_type": "code",
   "execution_count": null,
   "id": "371b12c2-df14-496e-ab38-f5e18086b735",
   "metadata": {
    "tags": [
     "otter_answer_cell"
    ]
   },
   "outputs": [],
   "source": [
    "# Express your answer as a dictionary mapping tuples (representing nodes) to\n",
    "# scalar values (representing costs from start to node) (e.g., {(0,0): 0}). If \n",
    "# the algorithm has terminated, set the value to an empty dictionary {}\n",
    "q_121 = ..."
   ]
  },
  {
   "cell_type": "markdown",
   "id": "a77be513-d403-4da9-a744-5f635cfa286f",
   "metadata": {
    "deletable": false,
    "editable": false
   },
   "source": [
    "After the first step, what are the contents of the parents directory (i.e., after extracting the first node `v_121` and adding its neighbors to the queue, what are each visited node's parents)? \n",
    "\n",
    "_Points:_ 0.5"
   ]
  },
  {
   "cell_type": "code",
   "execution_count": null,
   "id": "46698c0d-bd03-4a32-bd20-94d93d16a40b",
   "metadata": {
    "tags": [
     "otter_answer_cell"
    ]
   },
   "outputs": [],
   "source": [
    "# Express your answer as a dictionary mapping tuples (representing child nodes) to\n",
    "# tuples (representing parent nodes) (e.g., {(0,0): None, (2,1): (a,b)} where (a,b) in \n",
    "# this example is the parent of (2,1)). If the algorithm has terminated, set the value\n",
    "# to the latest parents dictionary\n",
    "p_121 = ..."
   ]
  },
  {
   "cell_type": "markdown",
   "id": "bff7c054-3806-4596-9dfd-a84228693f04",
   "metadata": {
    "deletable": false,
    "editable": false
   },
   "source": [
    "#### 1.2.2)\n",
    "\n",
    "In the second step, what is the current node inspected by the algorithm (i.e., the node extracted from the queue `q` at the second iteration)?\n",
    "\n",
    "_Points:_ 0.5"
   ]
  },
  {
   "cell_type": "code",
   "execution_count": null,
   "id": "69f9bc30-a312-4af9-82d1-6c3da08cf477",
   "metadata": {
    "tags": [
     "otter_answer_cell"
    ]
   },
   "outputs": [],
   "source": [
    "# Express your answer as a tuple representing the node (e.g., (2,3)). If the algorithm has terminated, set the value to None.\n",
    "v_122 = ..."
   ]
  },
  {
   "cell_type": "markdown",
   "id": "50c67106-fa1e-4396-875c-7a9255031ae9",
   "metadata": {
    "deletable": false,
    "editable": false
   },
   "source": [
    "After the second step, what are the contents of the queue (i.e., after extracting the second node `v_122` and adding its neighbors to the queue, what is the current state of the queue `q`)? \n",
    "\n",
    "_Points:_ 0.5"
   ]
  },
  {
   "cell_type": "code",
   "execution_count": null,
   "id": "9cc8b82f-ac2c-406f-8148-664702b1e6e6",
   "metadata": {
    "tags": [
     "otter_answer_cell"
    ]
   },
   "outputs": [],
   "source": [
    "# Express your answer as a dictionary mapping tuples (representing nodes) to\n",
    "# scalar values (representing costs from start to node) (e.g., {(0,0): 0}). If \n",
    "# the algorithm has terminated, set the value to an empty dictionary {}\n",
    "q_122 = ..."
   ]
  },
  {
   "cell_type": "markdown",
   "id": "875b250b-e54a-42c6-aa73-51dd3ffd8e08",
   "metadata": {
    "deletable": false,
    "editable": false
   },
   "source": [
    "After the second step, what are the contents of the parents directory (i.e., after extracting the second node `v_122` and adding its neighbors to the queue, what are each visited node's parents)? \n",
    "\n",
    "_Points:_ 0.5"
   ]
  },
  {
   "cell_type": "code",
   "execution_count": null,
   "id": "d36bd719-bc3f-44f5-b7b2-69e37dfdc533",
   "metadata": {
    "tags": [
     "otter_answer_cell"
    ]
   },
   "outputs": [],
   "source": [
    "# Express your answer as a dictionary mapping tuples (representing child nodes) to\n",
    "# tuples (representing parent nodes) (e.g., {(0,0): None, (2,1): (a,b)} where (a,b) in \n",
    "# this example is the parent of (2,1)). If the algorithm has terminated, set the value\n",
    "# to the latest parents dictionary\n",
    "p_122 = ..."
   ]
  },
  {
   "cell_type": "markdown",
   "id": "f2e5ea90-aa1b-49c6-afdf-a140e71b42d7",
   "metadata": {
    "deletable": false,
    "editable": false
   },
   "source": [
    "#### 1.2.3)\n",
    "\n",
    "In the third step, what is the current node inspected by the algorithm (i.e., the node extracted from the queue `q` at the third iteration)?\n",
    "\n",
    "_Points:_ 0.5"
   ]
  },
  {
   "cell_type": "code",
   "execution_count": null,
   "id": "112c38e9-5a35-4931-af09-35f229364dac",
   "metadata": {
    "tags": [
     "otter_answer_cell"
    ]
   },
   "outputs": [],
   "source": [
    "# Express your answer as a tuple representing the node (e.g., (2,3)). If the algorithm has terminated, set the value to None.\n",
    "v_123 = ..."
   ]
  },
  {
   "cell_type": "markdown",
   "id": "e2c605d2-c0e7-40f3-924d-68ade7719aed",
   "metadata": {
    "deletable": false,
    "editable": false
   },
   "source": [
    "After the third step, what are the contents of the queue (i.e., after extracting the third node `v_123` and adding its neighbors to the queue, what is the current state of the queue `q`)? \n",
    "\n",
    "_Points:_ 0.5"
   ]
  },
  {
   "cell_type": "code",
   "execution_count": null,
   "id": "b8941809-0419-4d68-97e1-3146e9153b42",
   "metadata": {
    "tags": [
     "otter_answer_cell"
    ]
   },
   "outputs": [],
   "source": [
    "# Express your answer as a dictionary mapping tuples (representing nodes) to\n",
    "# scalar values (representing costs from start to node) (e.g., {(0,0): 0}). If \n",
    "# the algorithm has terminated, set the value to an empty dictionary {}\n",
    "q_123 = ..."
   ]
  },
  {
   "cell_type": "markdown",
   "id": "913ed9ab-0b95-4ebc-bba8-888362dda801",
   "metadata": {
    "deletable": false,
    "editable": false
   },
   "source": [
    "After the third step, what are the contents of the parents directory (i.e., after extracting the third node `v_113` and adding its neighbors to the queue, what are each visited node's parents)? \n",
    "\n",
    "_Points:_ 0.5"
   ]
  },
  {
   "cell_type": "code",
   "execution_count": null,
   "id": "3fce4bdb-ac8f-4c59-a786-f77a048b0591",
   "metadata": {
    "tags": [
     "otter_answer_cell"
    ]
   },
   "outputs": [],
   "source": [
    "# Express your answer as a dictionary mapping tuples (representing child nodes) to\n",
    "# tuples (representing parent nodes) (e.g., {(0,0): None, (2,1): (a,b)} where (a,b) in \n",
    "# this example is the parent of (2,1)). If the algorithm has terminated, set the value\n",
    "# to the latest parents dictionary\n",
    "p_123 = ..."
   ]
  },
  {
   "cell_type": "markdown",
   "id": "ac3d775c-39bb-4e88-9741-0317085ba3d0",
   "metadata": {
    "deletable": false,
    "editable": false
   },
   "source": [
    "#### 1.2.4)\n",
    "\n",
    "Like Dijkstra, when A* succeeds, we can find a plan by tracing back the parents in the `p` dictionary. In particular, we find the goal node's parent, then the parent's parent, and so on, until we reach the start state, and then we revert this path. What is the path found by DFS for this problem?\n",
    "\n",
    "_Points:_ 1.5"
   ]
  },
  {
   "cell_type": "code",
   "execution_count": null,
   "id": "b742330a-a5c3-4511-bec9-eb995365d2e2",
   "metadata": {
    "tags": [
     "otter_answer_cell"
    ]
   },
   "outputs": [],
   "source": [
    "# Express your answer as a list of tuples starting from the start state and ending in the goal state. If no plan is found, set the plan to []\n",
    "plan_124 = ..."
   ]
  },
  {
   "cell_type": "markdown",
   "id": "3ef43d9b-4c3d-48a1-9976-f9c4c925ec1a",
   "metadata": {
    "deletable": false,
    "editable": false
   },
   "source": [
    "#### 1.2.5)\n",
    "\n",
    "What is the total cost of the plan found by A*?\n",
    "\n",
    "_Points:_ 1"
   ]
  },
  {
   "cell_type": "code",
   "execution_count": null,
   "id": "71e8cd02-fd78-42b2-a2cb-aadf6388eab5",
   "metadata": {
    "tags": [
     "otter_answer_cell"
    ]
   },
   "outputs": [],
   "source": [
    "# Express your answer as a list of tuples starting from the start state and ending in the goal state. If no plan is found, set the plan to []\n",
    "ans_125 = ..."
   ]
  },
  {
   "cell_type": "markdown",
   "id": "a102f614-2aa2-4a8c-ad4b-d42e9aa4b6e5",
   "metadata": {
    "deletable": false,
    "editable": false
   },
   "source": [
    "#### 1.2.6)\n",
    "\n",
    "What can you say about the plan found by A* using the octile heuristic?\n",
    "\n",
    "a. It is the optimal plan, because A* is always guaranteed to find the optimal plan\\\n",
    "b. It is not optimal because the heuristic is not admissible\\\n",
    "c. It is not optimal because the heuristic is not consistent\\\n",
    "d. It is not optimal even though the heuristic is admissible\\\n",
    "e. It is the optimal plan even though the heuristic is not admissible\n",
    "\n",
    "_Points:_ 3"
   ]
  },
  {
   "cell_type": "code",
   "execution_count": null,
   "id": "65f32319-c55a-42b0-abe6-92b0d60ca2d8",
   "metadata": {
    "tags": [
     "otter_answer_cell"
    ]
   },
   "outputs": [],
   "source": [
    "# Enter your answer as a lower-case Python string\n",
    "ans_126 = ..."
   ]
  },
  {
   "cell_type": "markdown",
   "id": "ae27fdb4-fe6a-4a06-a2d2-774d604af85d",
   "metadata": {},
   "source": [
    "### 1.3) A* with Conveyor-Belt Heuristic (19 pts)\n",
    "\n",
    "Now suppose that we wish to incorporate knowledge about the conveyor belts in our heuristic. Our conveyor-belt heuristic assumes that all horizontal and vertical actions have a cost of 0.2 (so there is a conveyor belt in every one of those edges) and diagonal actions have a cost of 1.4. \n",
    "\n",
    "Which of the following formulas implements this heuristic function?"
   ]
  },
  {
   "cell_type": "markdown",
   "id": "9f9e6608-aa35-497b-aa68-48567e0b707f",
   "metadata": {
    "deletable": false,
    "editable": false
   },
   "source": [
    "a. $\\max (\\Delta x, \\Delta y) + 0.2  \\cdot \\min(\\Delta x, \\Delta y)$\\\n",
    "b. $0.2 \\cdot (\\Delta x + \\Delta y) + 0.4 \\cdot \\min (\\Delta x, \\Delta y)$\\\n",
    "c. $0.2 (\\Delta x + \\Delta y)$\\\n",
    "d. $0.2 \\cdot (\\Delta x + \\Delta y) + 1.2 \\cdot \\min (\\Delta x, \\Delta y)$\n",
    "\n",
    "_Points:_ 3"
   ]
  },
  {
   "cell_type": "code",
   "execution_count": null,
   "id": "48153dca-6956-472d-96bb-15e64664ea83",
   "metadata": {
    "tags": [
     "otter_answer_cell"
    ]
   },
   "outputs": [],
   "source": [
    "# Enter your answer as a lower-case Python string (e.g., \"a\" for option a) \n",
    "ans_13 = ..."
   ]
  },
  {
   "cell_type": "markdown",
   "id": "8cdb18d2-cabd-48a2-bacb-5e0f7170df56",
   "metadata": {
    "deletable": false,
    "editable": false
   },
   "source": [
    "Let's now trace the A* algorithm on this problem with the conveyor-belt heuristic. The initial priority queue and parent dictionary are:\n",
    "```\n",
    "q = {(0,0): 0.8}\n",
    "p = {(0,0): None}\n",
    "```\n"
   ]
  },
  {
   "cell_type": "markdown",
   "id": "44fcfb61-cde0-4f10-bef4-3e204aa8bf8d",
   "metadata": {
    "deletable": false,
    "editable": false
   },
   "source": [
    "#### 1.3.1)\n",
    "\n",
    "In the first step, what is the current node inspected by the algorithm (i.e., the node extracted from the queue `q` at the first iteration)?\n",
    "\n",
    "_Points:_ 0.5"
   ]
  },
  {
   "cell_type": "code",
   "execution_count": null,
   "id": "009dfacd-c87c-4f56-abe9-3e352022ac93",
   "metadata": {
    "tags": [
     "otter_answer_cell"
    ]
   },
   "outputs": [],
   "source": [
    "# Express your answer as a tuple representing the node (e.g., (2,3)). If the algorithm has terminated, set the value to None.\n",
    "v_131 = ..."
   ]
  },
  {
   "cell_type": "markdown",
   "id": "bcfa973a-c778-4ba6-8ba1-5aa0dd3b8bd2",
   "metadata": {
    "deletable": false,
    "editable": false
   },
   "source": [
    "After the first step, what are the contents of the queue (i.e., after extracting the first node `v_131` and adding its neighbors to the queue, what is the current state of the queue `q`)? \n",
    "\n",
    "_Points:_ 0.5"
   ]
  },
  {
   "cell_type": "code",
   "execution_count": null,
   "id": "7790b896-6f72-461c-aea9-0b3ce51a7acc",
   "metadata": {
    "tags": [
     "otter_answer_cell"
    ]
   },
   "outputs": [],
   "source": [
    "# Express your answer as a dictionary mapping tuples (representing nodes) to\n",
    "# scalar values (representing costs from start to node) (e.g., {(0,0): 0}). If \n",
    "# the algorithm has terminated, set the value to an empty dictionary {}\n",
    "q_131 = ..."
   ]
  },
  {
   "cell_type": "markdown",
   "id": "3ba77b66-1bfb-4028-8045-cea7948fe6cc",
   "metadata": {
    "deletable": false,
    "editable": false
   },
   "source": [
    "After the first step, what are the contents of the parents directory (i.e., after extracting the first node `v_121` and adding its neighbors to the queue, what are each visited node's parents)? \n",
    "\n",
    "_Points:_ 0.5"
   ]
  },
  {
   "cell_type": "code",
   "execution_count": null,
   "id": "b9733b82-498b-4d7f-ad47-8232cf8f0040",
   "metadata": {
    "tags": [
     "otter_answer_cell"
    ]
   },
   "outputs": [],
   "source": [
    "# Express your answer as a dictionary mapping tuples (representing child nodes) to\n",
    "# tuples (representing parent nodes) (e.g., {(0,0): None, (2,1): (a,b)} where (a,b) in \n",
    "# this example is the parent of (2,1)). If the algorithm has terminated, set the value\n",
    "# to the latest parents dictionary\n",
    "p_121 = ..."
   ]
  },
  {
   "cell_type": "markdown",
   "id": "3ee443ff-de9e-4ab2-999e-44490fb4c605",
   "metadata": {
    "deletable": false,
    "editable": false
   },
   "source": [
    "#### 1.3.2)\n",
    "\n",
    "In the second step, what is the current node inspected by the algorithm (i.e., the node extracted from the queue `q` at the second iteration)?\n",
    "\n",
    "_Points:_ 0.5"
   ]
  },
  {
   "cell_type": "code",
   "execution_count": null,
   "id": "4fd1b8cb-051a-4c85-8a8e-da049a40072b",
   "metadata": {
    "tags": [
     "otter_answer_cell"
    ]
   },
   "outputs": [],
   "source": [
    "# Express your answer as a tuple representing the node (e.g., (2,3)). If the algorithm has terminated, set the value to None.\n",
    "v_122 = ..."
   ]
  },
  {
   "cell_type": "markdown",
   "id": "f63e4904-f155-45d7-8958-6f328a042917",
   "metadata": {
    "deletable": false,
    "editable": false
   },
   "source": [
    "After the second step, what are the contents of the queue (i.e., after extracting the second node `v_122` and adding its neighbors to the queue, what is the current state of the queue `q`)? \n",
    "\n",
    "_Points:_ 0.5"
   ]
  },
  {
   "cell_type": "code",
   "execution_count": null,
   "id": "ff52aa17-8137-4f7a-9161-38bff82df0f3",
   "metadata": {
    "tags": [
     "otter_answer_cell"
    ]
   },
   "outputs": [],
   "source": [
    "# Express your answer as a dictionary mapping tuples (representing nodes) to\n",
    "# scalar values (representing costs from start to node) (e.g., {(0,0): 0}). If \n",
    "# the algorithm has terminated, set the value to an empty dictionary {}\n",
    "q_132 = ..."
   ]
  },
  {
   "cell_type": "markdown",
   "id": "ed27227e-40e6-46ea-9f80-080c32d3d09a",
   "metadata": {
    "deletable": false,
    "editable": false
   },
   "source": [
    "After the second step, what are the contents of the parents directory (i.e., after extracting the second node `v_122` and adding its neighbors to the queue, what are each visited node's parents)? \n",
    "\n",
    "_Points:_ 0.5"
   ]
  },
  {
   "cell_type": "code",
   "execution_count": null,
   "id": "4fa7f898-8bd9-4a57-93d3-f51e0e66e762",
   "metadata": {
    "tags": [
     "otter_answer_cell"
    ]
   },
   "outputs": [],
   "source": [
    "# Express your answer as a dictionary mapping tuples (representing child nodes) to\n",
    "# tuples (representing parent nodes) (e.g., {(0,0): None, (2,1): (a,b)} where (a,b) in \n",
    "# this example is the parent of (2,1)). If the algorithm has terminated, set the value\n",
    "# to the latest parents dictionary\n",
    "p_132 = ..."
   ]
  },
  {
   "cell_type": "markdown",
   "id": "75dbc979-880c-4ca8-807e-9d2e63b4d3ba",
   "metadata": {
    "deletable": false,
    "editable": false
   },
   "source": [
    "#### 1.3.3)\n",
    "\n",
    "In the third step, what is the current node inspected by the algorithm (i.e., the node extracted from the queue `q` at the third iteration)?\n",
    "\n",
    "_Points:_ 0.5"
   ]
  },
  {
   "cell_type": "code",
   "execution_count": null,
   "id": "72c7ff28-dfaa-4134-b55f-44a8c8aa6c63",
   "metadata": {
    "tags": [
     "otter_answer_cell"
    ]
   },
   "outputs": [],
   "source": [
    "# Express your answer as a tuple representing the node (e.g., (2,3)). If the algorithm has terminated, set the value to None.\n",
    "v_133 = ..."
   ]
  },
  {
   "cell_type": "markdown",
   "id": "fb5cb441-7231-4e9e-99b3-dfbfb8f79310",
   "metadata": {
    "deletable": false,
    "editable": false
   },
   "source": [
    "After the third step, what are the contents of the queue (i.e., after extracting the third node `v_133` and adding its neighbors to the queue, what is the current state of the queue `q`)? \n",
    "\n",
    "_Points:_ 0.5"
   ]
  },
  {
   "cell_type": "code",
   "execution_count": null,
   "id": "4836b0c3-0260-4b1f-b1d6-1acda0cb4ae9",
   "metadata": {
    "tags": [
     "otter_answer_cell"
    ]
   },
   "outputs": [],
   "source": [
    "# Express your answer as a dictionary mapping tuples (representing nodes) to\n",
    "# scalar values (representing costs from start to node) (e.g., {(0,0): 0}). If \n",
    "# the algorithm has terminated, set the value to an empty dictionary {}\n",
    "q_133 = ..."
   ]
  },
  {
   "cell_type": "markdown",
   "id": "8d1a10a4-c8f4-471e-a425-8e04cf7dc7c3",
   "metadata": {
    "deletable": false,
    "editable": false
   },
   "source": [
    "After the third step, what are the contents of the parents directory (i.e., after extracting the third node `v_133` and adding its neighbors to the queue, what are each visited node's parents)? \n",
    "\n",
    "_Points:_ 0.5"
   ]
  },
  {
   "cell_type": "code",
   "execution_count": null,
   "id": "7c082362-be48-4217-b60e-852a337c5293",
   "metadata": {
    "tags": [
     "otter_answer_cell"
    ]
   },
   "outputs": [],
   "source": [
    "# Express your answer as a dictionary mapping tuples (representing child nodes) to\n",
    "# tuples (representing parent nodes) (e.g., {(0,0): None, (2,1): (a,b)} where (a,b) in \n",
    "# this example is the parent of (2,1)). If the algorithm has terminated, set the value\n",
    "# to the latest parents dictionary\n",
    "p_133 = ..."
   ]
  },
  {
   "cell_type": "markdown",
   "id": "4a8a1595-bdd5-4e0c-9833-ac08cbe1c0f9",
   "metadata": {
    "deletable": false,
    "editable": false
   },
   "source": [
    "#### 1.3.4)\n",
    "\n",
    "In the fourth step, what is the current node inspected by the algorithm (i.e., the node extracted from the queue `q` at the fourth iteration)?\n",
    "\n",
    "_Points:_ 0.5"
   ]
  },
  {
   "cell_type": "code",
   "execution_count": null,
   "id": "78622d07-77ce-4d70-8dac-93ec80e42601",
   "metadata": {
    "tags": [
     "otter_answer_cell"
    ]
   },
   "outputs": [],
   "source": [
    "# Express your answer as a tuple representing the node (e.g., (2,3)). If the algorithm has terminated, set the value to None.\n",
    "v_134 = ..."
   ]
  },
  {
   "cell_type": "markdown",
   "id": "61770f49-06ed-4f9e-90d7-dc7a3525a26c",
   "metadata": {
    "deletable": false,
    "editable": false
   },
   "source": [
    "After the fourth step, what are the contents of the queue (i.e., after extracting the fourth node `v_134` and adding its neighbors to the queue, what is the current state of the queue `q`)? \n",
    "\n",
    "_Points:_ 0.5"
   ]
  },
  {
   "cell_type": "code",
   "execution_count": null,
   "id": "3df0a17e-4491-4a58-bd5c-762a0dbc4065",
   "metadata": {
    "tags": [
     "otter_answer_cell"
    ]
   },
   "outputs": [],
   "source": [
    "# Express your answer as a dictionary mapping tuples (representing nodes) to\n",
    "# scalar values (representing costs from start to node) (e.g., {(0,0): 0}). If \n",
    "# the algorithm has terminated, set the value to an empty dictionary {}\n",
    "q_134 = ..."
   ]
  },
  {
   "cell_type": "markdown",
   "id": "3d995f17-fe58-404e-93b1-19b227f9062a",
   "metadata": {
    "deletable": false,
    "editable": false
   },
   "source": [
    "After the fourth step, what are the contents of the parents directory (i.e., after extracting the fourth node `v_134` and adding its neighbors to the queue, what are each visited node's parents)? \n",
    "\n",
    "_Points:_ 0.5"
   ]
  },
  {
   "cell_type": "code",
   "execution_count": null,
   "id": "4eb3c36a-8a11-4f75-917d-206ef3b62169",
   "metadata": {
    "tags": [
     "otter_answer_cell"
    ]
   },
   "outputs": [],
   "source": [
    "# Express your answer as a dictionary mapping tuples (representing child nodes) to\n",
    "# tuples (representing parent nodes) (e.g., {(0,0): None, (2,1): (a,b)} where (a,b) in \n",
    "# this example is the parent of (2,1)). If the algorithm has terminated, set the value\n",
    "# to the latest parents dictionary\n",
    "p_134 = ..."
   ]
  },
  {
   "cell_type": "markdown",
   "id": "d1116c0d",
   "metadata": {
    "deletable": false,
    "editable": false
   },
   "source": [
    "#### 1.3.5)\n",
    "\n",
    "In the fifth step, what is the current node inspected by the algorithm (i.e., the node extracted from the queue `q` at the fifth iteration)?\n",
    "\n",
    "_Points:_ 0.5"
   ]
  },
  {
   "cell_type": "code",
   "execution_count": null,
   "id": "b6bb82a5",
   "metadata": {
    "tags": [
     "otter_answer_cell"
    ]
   },
   "outputs": [],
   "source": [
    "# Express your answer as a tuple representing the node (e.g., (2,3)). If the algorithm has terminated, set the value to None.\n",
    "v_135 = ..."
   ]
  },
  {
   "cell_type": "markdown",
   "id": "32d38152",
   "metadata": {
    "deletable": false,
    "editable": false
   },
   "source": [
    "After the fifth step, what are the contents of the queue (i.e., after extracting the fifth node `v_135` and adding its neighbors to the queue, what is the current state of the queue `q`)? \n",
    "\n",
    "_Points:_ 0.5"
   ]
  },
  {
   "cell_type": "code",
   "execution_count": null,
   "id": "2f781f8d",
   "metadata": {
    "tags": [
     "otter_answer_cell"
    ]
   },
   "outputs": [],
   "source": [
    "# Express your answer as a dictionary mapping tuples (representing nodes) to\n",
    "# scalar values (representing costs from start to node) (e.g., {(0,0): 0}). If \n",
    "# the algorithm has terminated, set the value to an empty dictionary {}\n",
    "q_135 = ..."
   ]
  },
  {
   "cell_type": "markdown",
   "id": "ce57cca9",
   "metadata": {
    "deletable": false,
    "editable": false
   },
   "source": [
    "After the fifth step, what are the contents of the parents directory (i.e., after extracting the fifth node `v_135` and adding its neighbors to the queue, what are each visited node's parents)? \n",
    "\n",
    "_Points:_ 0.5"
   ]
  },
  {
   "cell_type": "code",
   "execution_count": null,
   "id": "59de0b09",
   "metadata": {
    "tags": [
     "otter_answer_cell"
    ]
   },
   "outputs": [],
   "source": [
    "# Express your answer as a dictionary mapping tuples (representing child nodes) to\n",
    "# tuples (representing parent nodes) (e.g., {(0,0): None, (2,1): (a,b)} where (a,b) in \n",
    "# this example is the parent of (2,1)). If the algorithm has terminated, set the value\n",
    "# to the latest parents dictionary\n",
    "p_135 = ..."
   ]
  },
  {
   "cell_type": "markdown",
   "id": "8c0b4be7",
   "metadata": {
    "deletable": false,
    "editable": false
   },
   "source": [
    "#### 1.3.6)\n",
    "\n",
    "In the sixth step, what is the current node inspected by the algorithm (i.e., the node extracted from the queue `q` at the sixth iteration)?\n",
    "\n",
    "_Points:_ 0.5"
   ]
  },
  {
   "cell_type": "code",
   "execution_count": null,
   "id": "a7e1d5b3",
   "metadata": {
    "tags": [
     "otter_answer_cell"
    ]
   },
   "outputs": [],
   "source": [
    "# Express your answer as a tuple representing the node (e.g., (2,3)). If the algorithm has terminated, set the value to None.\n",
    "v_136 = ..."
   ]
  },
  {
   "cell_type": "markdown",
   "id": "69458fae",
   "metadata": {
    "deletable": false,
    "editable": false
   },
   "source": [
    "After the sixth step, what are the contents of the queue (i.e., after extracting the sixth node `v_136` and adding its neighbors to the queue, what is the current state of the queue `q`)? \n",
    "\n",
    "_Points:_ 0.5"
   ]
  },
  {
   "cell_type": "code",
   "execution_count": null,
   "id": "86242f5f",
   "metadata": {
    "tags": [
     "otter_answer_cell"
    ]
   },
   "outputs": [],
   "source": [
    "# Express your answer as a dictionary mapping tuples (representing nodes) to\n",
    "# scalar values (representing costs from start to node) (e.g., {(0,0): 0}). If \n",
    "# the algorithm has terminated, set the value to an empty dictionary {}\n",
    "q_136 = ..."
   ]
  },
  {
   "cell_type": "markdown",
   "id": "ca6d0d4c",
   "metadata": {
    "deletable": false,
    "editable": false
   },
   "source": [
    "After the sixth step, what are the contents of the parents directory (i.e., after extracting the sixth node `v_136` and adding its neighbors to the queue, what are each visited node's parents)? \n",
    "\n",
    "_Points:_ 0.5"
   ]
  },
  {
   "cell_type": "code",
   "execution_count": null,
   "id": "75519ad7",
   "metadata": {
    "tags": [
     "otter_answer_cell"
    ]
   },
   "outputs": [],
   "source": [
    "# Express your answer as a dictionary mapping tuples (representing child nodes) to\n",
    "# tuples (representing parent nodes) (e.g., {(0,0): None, (2,1): (a,b)} where (a,b) in \n",
    "# this example is the parent of (2,1)). If the algorithm has terminated, set the value\n",
    "# to the latest parents dictionary\n",
    "p_136 = ..."
   ]
  },
  {
   "cell_type": "markdown",
   "id": "7a9d2577",
   "metadata": {
    "deletable": false,
    "editable": false
   },
   "source": [
    "#### 1.3.7)\n",
    "\n",
    "In the seventh step, what is the current node inspected by the algorithm (i.e., the node extracted from the queue `q` at the seventh iteration)?\n",
    "\n",
    "_Points:_ 0.5"
   ]
  },
  {
   "cell_type": "code",
   "execution_count": null,
   "id": "137f8485",
   "metadata": {
    "tags": [
     "otter_answer_cell"
    ]
   },
   "outputs": [],
   "source": [
    "# Express your answer as a tuple representing the node (e.g., (2,3)). If the algorithm has terminated, set the value to None.\n",
    "v_137 = ..."
   ]
  },
  {
   "cell_type": "markdown",
   "id": "c24eed77",
   "metadata": {
    "deletable": false,
    "editable": false
   },
   "source": [
    "After the seventh step, what are the contents of the queue (i.e., after extracting the seventh node `v_137` and adding its neighbors to the queue, what is the current state of the queue `q`)? \n",
    "\n",
    "_Points:_ 0.5"
   ]
  },
  {
   "cell_type": "code",
   "execution_count": null,
   "id": "f0afbc7f",
   "metadata": {
    "tags": [
     "otter_answer_cell"
    ]
   },
   "outputs": [],
   "source": [
    "# Express your answer as a dictionary mapping tuples (representing nodes) to\n",
    "# scalar values (representing costs from start to node) (e.g., {(0,0): 0}). If \n",
    "# the algorithm has terminated, set the value to an empty dictionary {}\n",
    "q_137 = ..."
   ]
  },
  {
   "cell_type": "markdown",
   "id": "baaa1e12",
   "metadata": {
    "deletable": false,
    "editable": false
   },
   "source": [
    "After the seventh step, what are the contents of the parents directory (i.e., after extracting the seventh node `v_137` and adding its neighbors to the queue, what are each visited node's parents)? \n",
    "\n",
    "_Points:_ 0.5"
   ]
  },
  {
   "cell_type": "code",
   "execution_count": null,
   "id": "dad5a497",
   "metadata": {
    "tags": [
     "otter_answer_cell"
    ]
   },
   "outputs": [],
   "source": [
    "# Express your answer as a dictionary mapping tuples (representing child nodes) to\n",
    "# tuples (representing parent nodes) (e.g., {(0,0): None, (2,1): (a,b)} where (a,b) in \n",
    "# this example is the parent of (2,1)). If the algorithm has terminated, set the value\n",
    "# to the latest parents dictionary\n",
    "p_137 = ..."
   ]
  },
  {
   "cell_type": "markdown",
   "id": "dc7de4c7",
   "metadata": {
    "deletable": false,
    "editable": false
   },
   "source": [
    "#### 1.3.8)\n",
    "\n",
    "In the eighth step, what is the current node inspected by the algorithm (i.e., the node extracted from the queue `q` at the eighth iteration)?\n",
    "\n",
    "_Points:_ 0.5"
   ]
  },
  {
   "cell_type": "code",
   "execution_count": null,
   "id": "fead6344",
   "metadata": {
    "tags": [
     "otter_answer_cell"
    ]
   },
   "outputs": [],
   "source": [
    "# Express your answer as a tuple representing the node (e.g., (2,3)). If the algorithm has terminated, set the value to None.\n",
    "v_138 = ..."
   ]
  },
  {
   "cell_type": "markdown",
   "id": "1f825d37",
   "metadata": {
    "deletable": false,
    "editable": false
   },
   "source": [
    "After the eighth step, what are the contents of the queue (i.e., after extracting the eighth node `v_138` and adding its neighbors to the queue, what is the current state of the queue `q`)? \n",
    "\n",
    "_Points:_ 0.5"
   ]
  },
  {
   "cell_type": "code",
   "execution_count": null,
   "id": "1b3cd849",
   "metadata": {
    "tags": [
     "otter_answer_cell"
    ]
   },
   "outputs": [],
   "source": [
    "# Express your answer as a dictionary mapping tuples (representing nodes) to\n",
    "# scalar values (representing costs from start to node) (e.g., {(0,0): 0}). If \n",
    "# the algorithm has terminated, set the value to an empty dictionary {}\n",
    "q_138 = ..."
   ]
  },
  {
   "cell_type": "markdown",
   "id": "46fd1e6a",
   "metadata": {
    "deletable": false,
    "editable": false
   },
   "source": [
    "After the eighth step, what are the contents of the parents directory (i.e., after extracting the eighth node `v_138` and adding its neighbors to the queue, what are each visited node's parents)? \n",
    "\n",
    "_Points:_ 0.5"
   ]
  },
  {
   "cell_type": "code",
   "execution_count": null,
   "id": "40959d2d",
   "metadata": {
    "tags": [
     "otter_answer_cell"
    ]
   },
   "outputs": [],
   "source": [
    "# Express your answer as a dictionary mapping tuples (representing child nodes) to\n",
    "# tuples (representing parent nodes) (e.g., {(0,0): None, (2,1): (a,b)} where (a,b) in \n",
    "# this example is the parent of (2,1)). If the algorithm has terminated, set the value\n",
    "# to the latest parents dictionary\n",
    "p_138 = ..."
   ]
  },
  {
   "cell_type": "markdown",
   "id": "bb55fd2c",
   "metadata": {
    "deletable": false,
    "editable": false
   },
   "source": [
    "#### 1.3.9)\n",
    "\n",
    "In the ninth step, what is the current node inspected by the algorithm (i.e., the node extracted from the queue `q` at the ninth iteration)?\n",
    "\n",
    "_Points:_ 0.5"
   ]
  },
  {
   "cell_type": "code",
   "execution_count": null,
   "id": "c7c21ce2",
   "metadata": {
    "tags": [
     "otter_answer_cell"
    ]
   },
   "outputs": [],
   "source": [
    "# Express your answer as a tuple representing the node (e.g., (2,3)). If the algorithm has terminated, set the value to None.\n",
    "v_139 = ..."
   ]
  },
  {
   "cell_type": "markdown",
   "id": "28e21e82",
   "metadata": {
    "deletable": false,
    "editable": false
   },
   "source": [
    "After the ninth step, what are the contents of the queue (i.e., after extracting the ninth node `v_139` and adding its neighbors to the queue, what is the current state of the queue `q`)? \n",
    "\n",
    "_Points:_ 0.5"
   ]
  },
  {
   "cell_type": "code",
   "execution_count": null,
   "id": "fb274a17",
   "metadata": {
    "tags": [
     "otter_answer_cell"
    ]
   },
   "outputs": [],
   "source": [
    "# Express your answer as a dictionary mapping tuples (representing nodes) to\n",
    "# scalar values (representing costs from start to node) (e.g., {(0,0): 0}). If \n",
    "# the algorithm has terminated, set the value to an empty dictionary {}\n",
    "q_139 = ..."
   ]
  },
  {
   "cell_type": "markdown",
   "id": "6066b49c",
   "metadata": {
    "deletable": false,
    "editable": false
   },
   "source": [
    "After the ninth step, what are the contents of the parents directory (i.e., after extracting the ninth node `v_139` and adding its neighbors to the queue, what are each visited node's parents)? \n",
    "\n",
    "_Points:_ 0.5"
   ]
  },
  {
   "cell_type": "code",
   "execution_count": null,
   "id": "b03694b8",
   "metadata": {
    "tags": [
     "otter_answer_cell"
    ]
   },
   "outputs": [],
   "source": [
    "# Express your answer as a dictionary mapping tuples (representing child nodes) to\n",
    "# tuples (representing parent nodes) (e.g., {(0,0): None, (2,1): (a,b)} where (a,b) in \n",
    "# this example is the parent of (2,1)). If the algorithm has terminated, set the value\n",
    "# to the latest parents dictionary\n",
    "p_139 = ..."
   ]
  },
  {
   "cell_type": "markdown",
   "id": "a686ee5f",
   "metadata": {
    "deletable": false,
    "editable": false
   },
   "source": [
    "#### 1.3.10)\n",
    "\n",
    "When A* succeeds, we can find a plan by tracing back the parents in the `p` dictionary. In particular, we find the goal node's parent, then the parent's parent, and so on, until we reach the start state, and then we revert this path. What is the path found by A* for this problem?\n",
    "\n",
    "_Points:_ 1.5"
   ]
  },
  {
   "cell_type": "code",
   "execution_count": null,
   "id": "9c854d7c",
   "metadata": {
    "tags": [
     "otter_answer_cell"
    ]
   },
   "outputs": [],
   "source": [
    "# Express your answer as a list of tuples starting from the start state and ending in the goal state. If no plan is found, set the plan to []\n",
    "plan_1310 = ..."
   ]
  },
  {
   "cell_type": "markdown",
   "id": "66641fe9",
   "metadata": {
    "deletable": false,
    "editable": false
   },
   "source": [
    "#### 1.3.11)\n",
    "\n",
    "What is the total cost of the plan found by A*?\n",
    "\n",
    "_Points:_ 1"
   ]
  },
  {
   "cell_type": "code",
   "execution_count": null,
   "id": "d4e2619b",
   "metadata": {
    "tags": [
     "otter_answer_cell"
    ]
   },
   "outputs": [],
   "source": [
    "# Express your answer as a scalar\n",
    "ans_1311 = ..."
   ]
  },
  {
   "cell_type": "markdown",
   "id": "264b63f1-1b23-4bec-b2e2-5f3fb35ecb12",
   "metadata": {},
   "source": [
    "## 1.4) Admissibility and consistency\n",
    "\n",
    "Recall our definitions of admissibility and consistency of heuristic functions. A heuristic function $h$ is admissible if it never overestimates the true cost $c$ to reach the goal from a node: $h(v) \\leq c(v) \\quad \\forall v \\in \\mathcal{V}$. A heuristic function $h$ is consistent if it satisfies the triangle inequlaity: the heuristic of a node is less than or equal to the cost to move to a neighbor plus the heuristic of that neighbor, $h(v) \\leq c(v, v') + h(v') \\quad \\forall v\\in\\mathcal{V}, v'\\in N(v)$. Notably, any consistent heuristic is by definition admissible (but not vice versa). \n",
    "\n",
    "For each of the following heuristic functions in our conveyor-belt problem, determine whether the heuristic is:\n",
    "a. Admissible but not consistent\\\n",
    "b. Consistent and admissible\\\n",
    "c. Not admissible"
   ]
  },
  {
   "cell_type": "markdown",
   "id": "7e72356d",
   "metadata": {
    "deletable": false,
    "editable": false
   },
   "source": [
    "#### 1.4.1)\n",
    "\n",
    "The all-zero heuristic, given by $h(x,y) = 0$\n",
    "\n",
    "_Points:_ 2"
   ]
  },
  {
   "cell_type": "code",
   "execution_count": null,
   "id": "59caf602",
   "metadata": {
    "tags": [
     "otter_answer_cell"
    ]
   },
   "outputs": [],
   "source": [
    "# Enter your answer as a lower-case Python string (e.g., \"a\")\n",
    "ans_141 = ..."
   ]
  },
  {
   "cell_type": "markdown",
   "id": "d1302863",
   "metadata": {
    "deletable": false,
    "editable": false
   },
   "source": [
    "#### 1.4.2)\n",
    "\n",
    "Euclidean distance, given by $h(x,y) = \\sqrt{(x-2)^2 + (y-2)^2}$. You can use $\\sqrt{2}\\approx 1.4$.\n",
    "\n",
    "_Points:_ 2"
   ]
  },
  {
   "cell_type": "code",
   "execution_count": null,
   "id": "3bdee443",
   "metadata": {
    "tags": [
     "otter_answer_cell"
    ]
   },
   "outputs": [],
   "source": [
    "# Enter your answer as a lower-case Python string (e.g., \"a\")\n",
    "ans_142 = ..."
   ]
  },
  {
   "cell_type": "markdown",
   "id": "a1271fb3",
   "metadata": {
    "deletable": false,
    "editable": false
   },
   "source": [
    "#### 1.4.3)\n",
    "\n",
    "Euclidan distance scaled by 0.2, given by $h(x,y) = 0.2\\cdot\\sqrt{x^2 + y^2}$. You can use \\sqrt{2}\\approx 1.4 and $\\sqrt{5}\\approx2.25.\n",
    "\n",
    "_Points:_ 2"
   ]
  },
  {
   "cell_type": "code",
   "execution_count": null,
   "id": "d6489b3c",
   "metadata": {
    "tags": [
     "otter_answer_cell"
    ]
   },
   "outputs": [],
   "source": [
    "# Enter your answer as a lower-case Python string (e.g., \"a\")\n",
    "ans_143 = ..."
   ]
  },
  {
   "cell_type": "markdown",
   "id": "5b132ba9",
   "metadata": {
    "deletable": false,
    "editable": false
   },
   "source": [
    "#### 1.4.4)\n",
    "\n",
    "Manhattan distance minus 1.6, clipped at 0: $h(x,y) = \\max(0, (2-x) + (2-y) - 1.6).\n",
    "\n",
    "_Points:_ 2"
   ]
  },
  {
   "cell_type": "code",
   "execution_count": null,
   "id": "7bddc546",
   "metadata": {
    "tags": [
     "otter_answer_cell"
    ]
   },
   "outputs": [],
   "source": [
    "# Enter your answer as a lower-case Python string (e.g., \"a\")\n",
    "ans_144 = ..."
   ]
  },
  {
   "cell_type": "markdown",
   "id": "91ba81eb",
   "metadata": {
    "deletable": false,
    "editable": false
   },
   "source": [
    "#### 1.4.5)\n",
    "\n",
    "Manhattan distance scaled by 0.2 (or our conveyor-belt heuristic): $h(x,y) = 0.2 \\cdot ( 2-x + 2 -y).\n",
    "\n",
    "_Points:_ 2"
   ]
  },
  {
   "cell_type": "code",
   "execution_count": null,
   "id": "693e0515",
   "metadata": {
    "tags": [
     "otter_answer_cell"
    ]
   },
   "outputs": [],
   "source": [
    "# Enter your answer as a lower-case Python string (e.g., \"a\")\n",
    "ans_145 = ..."
   ]
  },
  {
   "cell_type": "markdown",
   "id": "5ce6b827",
   "metadata": {
    "deletable": false,
    "editable": false
   },
   "source": [
    "#### 1.4.6)\n",
    "\n",
    "Octile distance, defined in Problem 1.2.\n",
    "\n",
    "_Points:_ 2"
   ]
  },
  {
   "cell_type": "code",
   "execution_count": null,
   "id": "7cb0e44b",
   "metadata": {
    "tags": [
     "otter_answer_cell"
    ]
   },
   "outputs": [],
   "source": [
    "# Enter your answer as a lower-case Python string (e.g., \"a\")\n",
    "ans_146 = ..."
   ]
  },
  {
   "cell_type": "markdown",
   "id": "0bf3e181-42ec-4026-bead-e33d4e9d5822",
   "metadata": {},
   "source": [
    "## 2) Implementing A* for robot planning (60 pts)\n",
    "\n",
    "We're now going to write a Python implementation of A*. \n",
    "\n"
   ]
  },
  {
   "cell_type": "markdown",
   "id": "4b404b64-c14a-4980-8204-800b025607b8",
   "metadata": {
    "deletable": false,
    "editable": false
   },
   "source": [
    "### 2.1) Priority queue as an open set\n",
    "\n",
    "While the open sets we used last week in HW 1 were restricted to the two main operations (`add` and `next`), A* requires the addition of a `decrease_priority` operation. \n",
    "\n",
    "We will write a Python class that implements a priority queue open set. The combination of `add`, `extract_min`, and `decrease_priority` should be such that the node with the least priorty is returned each time. To simplify our implementation, we will use the [`heapdict`](https://github.com/DanielStutzbach/heapdict) (you can `pip install heapdict`), which allows us to add and modify queue elements as we do with dictionaries (e.g., `q[node] = val`) and offers the `popitem()` method to remove the lowest priority element in the queue. \n",
    "\n",
    "I have not added public tests for this class, but you are welcome to add some of your own.\n",
    "\n",
    "*Note: the `heapdict` implementation does not return elements in the order they are inserted, for various reasons. You **do not** need to write code to recover this order.*\n",
    "\n",
    "_Points:_ 5"
   ]
  },
  {
   "cell_type": "code",
   "execution_count": null,
   "id": "18b9f65a-2d24-4b66-a55e-c384dfd03187",
   "metadata": {
    "otter": {
     "tests": [
      "q2.1"
     ]
    },
    "tags": [
     "otter_answer_cell"
    ]
   },
   "outputs": [],
   "source": [
    "from heapdict import heapdict\n",
    "\n",
    "class PriorityQueue_21():\n",
    "    def __init__(self):\n",
    "        self.q = ...\n",
    "\n",
    "    def add(self, node, value):\n",
    "\n",
    "    def extract_min(self):\n",
    "        ...\n",
    "\n",
    "    def decrease_priority(self, node, value):\n",
    "\n",
    "    def __len__(self):\n",
    "        \"\"\" Enables calling len(obj) on objects of the class\"\"\"\n",
    "        return len(self.q)\n",
    "\n",
    "    def __contains__(self, node):\n",
    "        \"\"\" Enables calling `if node in obj` on objects of the class\"\"\"\n",
    "        return node in self.q"
   ]
  },
  {
   "cell_type": "markdown",
   "id": "90a33d46-da83-4c3d-bab2-32fd4343ea45",
   "metadata": {},
   "source": [
    "### 2.2) Costs and heuristics for occupancy grids\n",
    "\n",
    "Like in HW 1, we will represent 2D robotic navigation problems via an occupancy grid, as exemplified below:\n",
    "\n",
    "```\n",
    "[[0, 0, 1, 0, 0],\n",
    " [0, 1, 0, 0, 0],\n",
    " [0, 0, 0, 1, 0],\n",
    " [1, 0, 1, 0, 0],\n",
    " [0, 0, 0, 0, 0]]\n",
    "```\n",
    "\n",
    "This time, we will consider an eight-connected grid, with actions: up, down, left, right, up-left, up-right, down-left, and down-right. Vertical and horizontal actions have a cost of 1 and diagonal actions have a cost of 1.4. \n"
   ]
  },
  {
   "cell_type": "markdown",
   "id": "e9e38607-325a-42e2-b799-7eab07117909",
   "metadata": {
    "deletable": false,
    "editable": false
   },
   "source": [
    "### 2.2.1) Cost function\n",
    "\n",
    "Given pair of neighbors `u` and `v` in the grid, write a Python function that returns the cost of going from `u` to `v`. `u` and `v` are both expressed as python tuples.\n",
    "\n",
    "_Points:_ 2.5"
   ]
  },
  {
   "cell_type": "code",
   "execution_count": null,
   "id": "48e1e7cb-67aa-403d-b721-98936cdc78eb",
   "metadata": {
    "otter": {
     "tests": [
      "q2.2.1"
     ]
    },
    "tags": [
     "otter_answer_cell"
    ]
   },
   "outputs": [],
   "source": [
    "def eight_connected_cost_221(u, v):\n",
    "    ..."
   ]
  },
  {
   "cell_type": "markdown",
   "id": "5b2f63e1-cad7-45b8-9635-be926d04ea32",
   "metadata": {
    "deletable": false,
    "editable": false
   },
   "source": [
    "### 2.2.2) Manhattan heuristic\n",
    "\n",
    "Given a node `u` and a goal node `g`, write a function that implements the Manhattan distance heuristic. \n",
    "\n",
    "_Points:_ 2.5"
   ]
  },
  {
   "cell_type": "code",
   "execution_count": null,
   "id": "628b4f62-4fce-41c9-8f03-847fb0dfbe5c",
   "metadata": {
    "otter": {
     "tests": [
      "q2.2.2"
     ]
    },
    "tags": [
     "otter_answer_cell"
    ]
   },
   "outputs": [],
   "source": [
    "def manhattan_heuristic_222(u, g):\n",
    "    ..."
   ]
  },
  {
   "cell_type": "markdown",
   "id": "9e6c075d-1d93-4201-af68-35092557a427",
   "metadata": {
    "deletable": false,
    "editable": false
   },
   "source": [
    "### 2.2.3) Octile heuristic\n",
    "\n",
    "Given a node `u` and a goal node `g`, write a function that implements the octile distance heuristic. \n",
    "\n",
    "_Points:_ 2.5"
   ]
  },
  {
   "cell_type": "code",
   "execution_count": null,
   "id": "d4229d50-ba6c-4f2e-95ae-bbe533581718",
   "metadata": {
    "otter": {
     "tests": [
      "q2.2.3"
     ]
    },
    "tags": [
     "otter_answer_cell"
    ]
   },
   "outputs": [],
   "source": [
    "def octile_heuristic_223(u, g):\n",
    "    ..."
   ]
  },
  {
   "cell_type": "markdown",
   "id": "d8c91264-95f6-4045-9505-58fca3301213",
   "metadata": {
    "deletable": false,
    "editable": false
   },
   "source": [
    "### 2.2.4) Dijkstra's heuristic\n",
    "\n",
    "Given a node `u` and a goal node `g`, write a function that implements a heuristic function such that A* using this heuristic is equivalent to Dijkstra's algorithm.\n",
    "\n",
    "_Points:_ 2.5"
   ]
  },
  {
   "cell_type": "code",
   "execution_count": null,
   "id": "c938dc3b-5a9b-454b-9cef-03f083aed166",
   "metadata": {
    "otter": {
     "tests": [
      "q2.2.4"
     ]
    },
    "tags": [
     "otter_answer_cell"
    ]
   },
   "outputs": [],
   "source": [
    "def dijkstra_heuristic_224(u, g):\n",
    "    ..."
   ]
  },
  {
   "cell_type": "markdown",
   "id": "179446f9-63cd-4983-9e96-851c591b97c5",
   "metadata": {
    "deletable": false,
    "editable": false
   },
   "source": [
    "#### 2.3) A* search on grids\n",
    "\n",
    "We are now ready to write our A* grid search function, `astar_grid_search_23`. The function takes the following inputs:\n",
    "- `grid`: a nested 2D Python array of 1s and 0s representing an occupancy grid\n",
    "- `start`: the `(i,j)` coordinates of the start node\n",
    "- `goal`: the `(i,j)` coordinates of the goal node\n",
    "- `open_set`: an object with methods `add`, `extract_min`, `decrease_priority`, and `__len__`\n",
    "- `cost`: a function that computes the cost to go from one node `u` to another node `v`\n",
    "- `heuristic`: a function that computes the heuristic estimate of the cost to go from one node `u` to a goal node `g`\n",
    "\n",
    "The function will return two values:\n",
    "- `plan`: a list of nodes that represents a valid plan starting from `start` and ending in `goal`, or an empty list if no plan is found. You might find it useful to include your `retrace_plan` function from HW 1.\n",
    "- `node_history`: a list of nodes in the order they were expanded by the algorithm (i.e., the nodes that come from `extract_min`)\n",
    "\n",
    "When adding neighbors into the open set, follow the convention from the previous problem, which orders nodes first according to their `i` coordinate and then according to their `j` coordinate. *Note: because `heapdict` does not maintain this order, the order in which nodes are visited is not the same as the order in which they are added. This is okay: our convention for this problem will be that the order is that in which `heapdict` returns elements after we've added them in sorted order.*\n",
    "\n",
    "_Points:_ 15"
   ]
  },
  {
   "cell_type": "code",
   "execution_count": null,
   "id": "5b51d4b8-6d36-4a62-98ab-5dbb70312304",
   "metadata": {
    "otter": {
     "tests": [
      "q2.3"
     ]
    },
    "tags": [
     "otter_answer_cell"
    ]
   },
   "outputs": [],
   "source": [
    "from collections import defaultdict\n",
    "\n",
    "def astar_grid_search_23(grid, start, goal, open_set, cost, heuristic):\n",
    "    visited_nodes = []\n",
    "    c2come = defaultdict(lambda: float('inf'))\n",
    "    ctot = defaultdict(lambda: float('inf'))\n",
    "    parent = {}\n",
    "\n",
    "    h = heuristic(start, goal)\n",
    "    c2come[start] = 0\n",
    "    ctot[start] = h\n",
    "    open_set.add(start, h)\n",
    "    parent[start] = None\n",
    "    while len(open_set) > 0:\n",
    "        v = ...\n",
    "        visited_nodes.append(v)\n",
    "        if v == goal:\n",
    "            return ...\n",
    "        # Loop over neighbors of v, check their validity, and update the open_set using cost and heuristic\n",
    "        # *** YOUR CODE HERE ***\n",
    "    # If no plan is found, return an empty plan\n",
    "    return [], visited_nodes"
   ]
  },
  {
   "cell_type": "markdown",
   "id": "0d722903-0422-4e13-a783-b2e1920e513d",
   "metadata": {
    "deletable": false,
    "editable": false
   },
   "source": [
    "#### 2.3.1) A* and Dijkstra\n",
    "\n",
    "Put everything together to implement the A* (using the octile heuristic) and Dijkstra algorithms. Use eight-connected cost for both. *Hint: these should be very simple one-line functions.*\n",
    "\n",
    "To help with debugging, I have included tests for both algorithms using the following grid and testing for plans from `(0,0)` to `(4,4)`:\n",
    "\n",
    "```\n",
    "[[0, 0, 1, 0, 0],\n",
    " [0, 1, 0, 0, 0],\n",
    " [0, 0, 0, 1, 0],\n",
    " [1, 0, 1, 0, 0],\n",
    " [0, 0, 0, 0, 0]]\n",
    "```\n",
    "\n",
    "_Points:_ 10"
   ]
  },
  {
   "cell_type": "code",
   "execution_count": null,
   "id": "528e9232-026e-448a-b2f0-7b9a7cb165e0",
   "metadata": {
    "tags": [
     "otter_answer_cell"
    ]
   },
   "outputs": [],
   "source": [
    "def astar_231(grid, start, goal):\n",
    "    ...\n",
    "\n",
    "def dijkstra_231(grid, start, goal):\n",
    "    ..."
   ]
  },
  {
   "cell_type": "code",
   "execution_count": null,
   "id": "a41f1d7b",
   "metadata": {
    "deletable": false,
    "editable": false
   },
   "outputs": [],
   "source": [
    "grader.check(\"q2.3.1\")"
   ]
  },
  {
   "cell_type": "markdown",
   "id": "4298a7bf",
   "metadata": {
    "deletable": false,
    "editable": false
   },
   "source": [
    "## Submission\n",
    "\n",
    "Make sure you have run all cells in your notebook in order before running the cell below, so that all images/graphs appear in the output. The cell below will generate a zip file for you to submit. **Please save before exporting!**\n",
    "\n",
    "Fill out the answers to all questions and submit your file hw2.ipynb to the HW2 assignment on Gradescope. You are free to resubmit as many times as you wish."
   ]
  },
  {
   "cell_type": "code",
   "execution_count": null,
   "id": "2de8df46",
   "metadata": {
    "deletable": false,
    "editable": false
   },
   "outputs": [],
   "source": [
    "# Save your notebook first, then run this cell to export your submission.\n",
    "grader.export(pdf=False, run_tests=True)"
   ]
  },
  {
   "cell_type": "markdown",
   "id": "7dcf720f",
   "metadata": {},
   "source": [
    " "
   ]
  }
 ],
 "metadata": {
  "kernelspec": {
   "display_name": "Python 3 (ipykernel)",
   "language": "python",
   "name": "python3"
  },
  "language_info": {
   "codemirror_mode": {
    "name": "ipython",
    "version": 3
   },
   "file_extension": ".py",
   "mimetype": "text/x-python",
   "name": "python",
   "nbconvert_exporter": "python",
   "pygments_lexer": "ipython3",
   "version": "3.11.11"
  },
  "otter": {
   "OK_FORMAT": true,
   "assignment_name": "hw2",
   "tests": {
    "q1.1.1.1": {
     "name": "q1.1.1.1",
     "points": 0.5,
     "suites": [
      {
       "cases": [],
       "scored": true,
       "setup": "",
       "teardown": "",
       "type": "doctest"
      }
     ]
    },
    "q1.1.1.2": {
     "name": "q1.1.1.2",
     "points": 0.5,
     "suites": [
      {
       "cases": [],
       "scored": true,
       "setup": "",
       "teardown": "",
       "type": "doctest"
      }
     ]
    },
    "q1.1.1.3": {
     "name": "q1.1.1.3",
     "points": 0.5,
     "suites": [
      {
       "cases": [],
       "scored": true,
       "setup": "",
       "teardown": "",
       "type": "doctest"
      }
     ]
    },
    "q1.1.10": {
     "name": "q1.1.10",
     "points": 1.5,
     "suites": [
      {
       "cases": [],
       "scored": true,
       "setup": "",
       "teardown": "",
       "type": "doctest"
      }
     ]
    },
    "q1.1.11": {
     "name": "q1.1.11",
     "points": 1,
     "suites": [
      {
       "cases": [],
       "scored": true,
       "setup": "",
       "teardown": "",
       "type": "doctest"
      }
     ]
    },
    "q1.1.2.1": {
     "name": "q1.1.2.1",
     "points": 0.5,
     "suites": [
      {
       "cases": [],
       "scored": true,
       "setup": "",
       "teardown": "",
       "type": "doctest"
      }
     ]
    },
    "q1.1.2.2": {
     "name": "q1.1.2.2",
     "points": 0.5,
     "suites": [
      {
       "cases": [],
       "scored": true,
       "setup": "",
       "teardown": "",
       "type": "doctest"
      }
     ]
    },
    "q1.1.2.3": {
     "name": "q1.1.2.3",
     "points": 0.5,
     "suites": [
      {
       "cases": [],
       "scored": true,
       "setup": "",
       "teardown": "",
       "type": "doctest"
      }
     ]
    },
    "q1.1.3.1": {
     "name": "q1.1.3.1",
     "points": 0.5,
     "suites": [
      {
       "cases": [],
       "scored": true,
       "setup": "",
       "teardown": "",
       "type": "doctest"
      }
     ]
    },
    "q1.1.3.2": {
     "name": "q1.1.3.2",
     "points": 0.5,
     "suites": [
      {
       "cases": [],
       "scored": true,
       "setup": "",
       "teardown": "",
       "type": "doctest"
      }
     ]
    },
    "q1.1.3.3": {
     "name": "q1.1.3.3",
     "points": 0.5,
     "suites": [
      {
       "cases": [],
       "scored": true,
       "setup": "",
       "teardown": "",
       "type": "doctest"
      }
     ]
    },
    "q1.1.4.1": {
     "name": "q1.1.4.1",
     "points": 0.5,
     "suites": [
      {
       "cases": [],
       "scored": true,
       "setup": "",
       "teardown": "",
       "type": "doctest"
      }
     ]
    },
    "q1.1.4.2": {
     "name": "q1.1.4.2",
     "points": 0.5,
     "suites": [
      {
       "cases": [],
       "scored": true,
       "setup": "",
       "teardown": "",
       "type": "doctest"
      }
     ]
    },
    "q1.1.4.3": {
     "name": "q1.1.4.3",
     "points": 0.5,
     "suites": [
      {
       "cases": [],
       "scored": true,
       "setup": "",
       "teardown": "",
       "type": "doctest"
      }
     ]
    },
    "q1.1.5.1": {
     "name": "q1.1.5.1",
     "points": 0.5,
     "suites": [
      {
       "cases": [],
       "scored": true,
       "setup": "",
       "teardown": "",
       "type": "doctest"
      }
     ]
    },
    "q1.1.5.2": {
     "name": "q1.1.5.2",
     "points": 0.5,
     "suites": [
      {
       "cases": [],
       "scored": true,
       "setup": "",
       "teardown": "",
       "type": "doctest"
      }
     ]
    },
    "q1.1.5.3": {
     "name": "q1.1.5.3",
     "points": 0.5,
     "suites": [
      {
       "cases": [],
       "scored": true,
       "setup": "",
       "teardown": "",
       "type": "doctest"
      }
     ]
    },
    "q1.1.6.1": {
     "name": "q1.1.6.1",
     "points": 0.5,
     "suites": [
      {
       "cases": [],
       "scored": true,
       "setup": "",
       "teardown": "",
       "type": "doctest"
      }
     ]
    },
    "q1.1.6.2": {
     "name": "q1.1.6.2",
     "points": 0.5,
     "suites": [
      {
       "cases": [],
       "scored": true,
       "setup": "",
       "teardown": "",
       "type": "doctest"
      }
     ]
    },
    "q1.1.6.3": {
     "name": "q1.1.6.3",
     "points": 0.5,
     "suites": [
      {
       "cases": [],
       "scored": true,
       "setup": "",
       "teardown": "",
       "type": "doctest"
      }
     ]
    },
    "q1.1.7.1": {
     "name": "q1.1.7.1",
     "points": 0.5,
     "suites": [
      {
       "cases": [],
       "scored": true,
       "setup": "",
       "teardown": "",
       "type": "doctest"
      }
     ]
    },
    "q1.1.7.2": {
     "name": "q1.1.7.2",
     "points": 0.5,
     "suites": [
      {
       "cases": [],
       "scored": true,
       "setup": "",
       "teardown": "",
       "type": "doctest"
      }
     ]
    },
    "q1.1.7.3": {
     "name": "q1.1.7.3",
     "points": 0.5,
     "suites": [
      {
       "cases": [],
       "scored": true,
       "setup": "",
       "teardown": "",
       "type": "doctest"
      }
     ]
    },
    "q1.1.8.1": {
     "name": "q1.1.8.1",
     "points": 0.5,
     "suites": [
      {
       "cases": [],
       "scored": true,
       "setup": "",
       "teardown": "",
       "type": "doctest"
      }
     ]
    },
    "q1.1.8.2": {
     "name": "q1.1.8.2",
     "points": 0.5,
     "suites": [
      {
       "cases": [],
       "scored": true,
       "setup": "",
       "teardown": "",
       "type": "doctest"
      }
     ]
    },
    "q1.1.8.3": {
     "name": "q1.1.8.3",
     "points": 0.5,
     "suites": [
      {
       "cases": [],
       "scored": true,
       "setup": "",
       "teardown": "",
       "type": "doctest"
      }
     ]
    },
    "q1.1.9.1": {
     "name": "q1.1.9.1",
     "points": 0.5,
     "suites": [
      {
       "cases": [],
       "scored": true,
       "setup": "",
       "teardown": "",
       "type": "doctest"
      }
     ]
    },
    "q1.1.9.2": {
     "name": "q1.1.9.2",
     "points": 0.5,
     "suites": [
      {
       "cases": [],
       "scored": true,
       "setup": "",
       "teardown": "",
       "type": "doctest"
      }
     ]
    },
    "q1.1.9.3": {
     "name": "q1.1.9.3",
     "points": 0.5,
     "suites": [
      {
       "cases": [],
       "scored": true,
       "setup": "",
       "teardown": "",
       "type": "doctest"
      }
     ]
    },
    "q1.2": {
     "name": "q1.2",
     "points": 3,
     "suites": [
      {
       "cases": [],
       "scored": true,
       "setup": "",
       "teardown": "",
       "type": "doctest"
      }
     ]
    },
    "q1.2.1.1": {
     "name": "q1.2.1.1",
     "points": 0.5,
     "suites": [
      {
       "cases": [],
       "scored": true,
       "setup": "",
       "teardown": "",
       "type": "doctest"
      }
     ]
    },
    "q1.2.1.2": {
     "name": "q1.2.1.2",
     "points": 0.5,
     "suites": [
      {
       "cases": [],
       "scored": true,
       "setup": "",
       "teardown": "",
       "type": "doctest"
      }
     ]
    },
    "q1.2.1.3": {
     "name": "q1.2.1.3",
     "points": 0.5,
     "suites": [
      {
       "cases": [],
       "scored": true,
       "setup": "",
       "teardown": "",
       "type": "doctest"
      }
     ]
    },
    "q1.2.2.1": {
     "name": "q1.2.2.1",
     "points": 0.5,
     "suites": [
      {
       "cases": [],
       "scored": true,
       "setup": "",
       "teardown": "",
       "type": "doctest"
      }
     ]
    },
    "q1.2.2.2": {
     "name": "q1.2.2.2",
     "points": 0.5,
     "suites": [
      {
       "cases": [],
       "scored": true,
       "setup": "",
       "teardown": "",
       "type": "doctest"
      }
     ]
    },
    "q1.2.2.3": {
     "name": "q1.2.2.3",
     "points": 0.5,
     "suites": [
      {
       "cases": [],
       "scored": true,
       "setup": "",
       "teardown": "",
       "type": "doctest"
      }
     ]
    },
    "q1.2.3.1": {
     "name": "q1.2.3.1",
     "points": 0.5,
     "suites": [
      {
       "cases": [],
       "scored": true,
       "setup": "",
       "teardown": "",
       "type": "doctest"
      }
     ]
    },
    "q1.2.3.2": {
     "name": "q1.2.3.2",
     "points": 0.5,
     "suites": [
      {
       "cases": [],
       "scored": true,
       "setup": "",
       "teardown": "",
       "type": "doctest"
      }
     ]
    },
    "q1.2.3.3": {
     "name": "q1.2.3.3",
     "points": 0.5,
     "suites": [
      {
       "cases": [],
       "scored": true,
       "setup": "",
       "teardown": "",
       "type": "doctest"
      }
     ]
    },
    "q1.2.4": {
     "name": "q1.2.4",
     "points": 1.5,
     "suites": [
      {
       "cases": [],
       "scored": true,
       "setup": "",
       "teardown": "",
       "type": "doctest"
      }
     ]
    },
    "q1.2.5": {
     "name": "q1.2.5",
     "points": 1,
     "suites": [
      {
       "cases": [],
       "scored": true,
       "setup": "",
       "teardown": "",
       "type": "doctest"
      }
     ]
    },
    "q1.2.6": {
     "name": "q1.2.6",
     "points": 3,
     "suites": [
      {
       "cases": [],
       "scored": true,
       "setup": "",
       "teardown": "",
       "type": "doctest"
      }
     ]
    },
    "q1.3": {
     "name": "q1.3",
     "points": 3,
     "suites": [
      {
       "cases": [],
       "scored": true,
       "setup": "",
       "teardown": "",
       "type": "doctest"
      }
     ]
    },
    "q1.3.1.1": {
     "name": "q1.3.1.1",
     "points": 0.5,
     "suites": [
      {
       "cases": [],
       "scored": true,
       "setup": "",
       "teardown": "",
       "type": "doctest"
      }
     ]
    },
    "q1.3.1.2": {
     "name": "q1.3.1.2",
     "points": 0.5,
     "suites": [
      {
       "cases": [],
       "scored": true,
       "setup": "",
       "teardown": "",
       "type": "doctest"
      }
     ]
    },
    "q1.3.1.3": {
     "name": "q1.3.1.3",
     "points": 0.5,
     "suites": [
      {
       "cases": [],
       "scored": true,
       "setup": "",
       "teardown": "",
       "type": "doctest"
      }
     ]
    },
    "q1.3.10": {
     "name": "q1.3.10",
     "points": 1.5,
     "suites": [
      {
       "cases": [],
       "scored": true,
       "setup": "",
       "teardown": "",
       "type": "doctest"
      }
     ]
    },
    "q1.3.11": {
     "name": "q1.3.11",
     "points": 1,
     "suites": [
      {
       "cases": [],
       "scored": true,
       "setup": "",
       "teardown": "",
       "type": "doctest"
      }
     ]
    },
    "q1.3.2.1": {
     "name": "q1.3.2.1",
     "points": 0.5,
     "suites": [
      {
       "cases": [],
       "scored": true,
       "setup": "",
       "teardown": "",
       "type": "doctest"
      }
     ]
    },
    "q1.3.2.2": {
     "name": "q1.3.2.2",
     "points": 0.5,
     "suites": [
      {
       "cases": [],
       "scored": true,
       "setup": "",
       "teardown": "",
       "type": "doctest"
      }
     ]
    },
    "q1.3.2.3": {
     "name": "q1.3.2.3",
     "points": 0.5,
     "suites": [
      {
       "cases": [],
       "scored": true,
       "setup": "",
       "teardown": "",
       "type": "doctest"
      }
     ]
    },
    "q1.3.3.1": {
     "name": "q1.3.3.1",
     "points": 0.5,
     "suites": [
      {
       "cases": [],
       "scored": true,
       "setup": "",
       "teardown": "",
       "type": "doctest"
      }
     ]
    },
    "q1.3.3.2": {
     "name": "q1.3.3.2",
     "points": 0.5,
     "suites": [
      {
       "cases": [],
       "scored": true,
       "setup": "",
       "teardown": "",
       "type": "doctest"
      }
     ]
    },
    "q1.3.3.3": {
     "name": "q1.3.3.3",
     "points": 0.5,
     "suites": [
      {
       "cases": [],
       "scored": true,
       "setup": "",
       "teardown": "",
       "type": "doctest"
      }
     ]
    },
    "q1.3.4.1": {
     "name": "q1.3.4.1",
     "points": 0.5,
     "suites": [
      {
       "cases": [],
       "scored": true,
       "setup": "",
       "teardown": "",
       "type": "doctest"
      }
     ]
    },
    "q1.3.4.2": {
     "name": "q1.3.4.2",
     "points": 0.5,
     "suites": [
      {
       "cases": [],
       "scored": true,
       "setup": "",
       "teardown": "",
       "type": "doctest"
      }
     ]
    },
    "q1.3.4.3": {
     "name": "q1.3.4.3",
     "points": 0.5,
     "suites": [
      {
       "cases": [],
       "scored": true,
       "setup": "",
       "teardown": "",
       "type": "doctest"
      }
     ]
    },
    "q1.3.5.1": {
     "name": "q1.3.5.1",
     "points": 0.5,
     "suites": [
      {
       "cases": [],
       "scored": true,
       "setup": "",
       "teardown": "",
       "type": "doctest"
      }
     ]
    },
    "q1.3.5.2": {
     "name": "q1.3.5.2",
     "points": 0.5,
     "suites": [
      {
       "cases": [],
       "scored": true,
       "setup": "",
       "teardown": "",
       "type": "doctest"
      }
     ]
    },
    "q1.3.5.3": {
     "name": "q1.3.5.3",
     "points": 0.5,
     "suites": [
      {
       "cases": [],
       "scored": true,
       "setup": "",
       "teardown": "",
       "type": "doctest"
      }
     ]
    },
    "q1.3.6.1": {
     "name": "q1.3.6.1",
     "points": 0.5,
     "suites": [
      {
       "cases": [],
       "scored": true,
       "setup": "",
       "teardown": "",
       "type": "doctest"
      }
     ]
    },
    "q1.3.6.2": {
     "name": "q1.3.6.2",
     "points": 0.5,
     "suites": [
      {
       "cases": [],
       "scored": true,
       "setup": "",
       "teardown": "",
       "type": "doctest"
      }
     ]
    },
    "q1.3.6.3": {
     "name": "q1.3.6.3",
     "points": 0.5,
     "suites": [
      {
       "cases": [],
       "scored": true,
       "setup": "",
       "teardown": "",
       "type": "doctest"
      }
     ]
    },
    "q1.3.7.1": {
     "name": "q1.3.7.1",
     "points": 0.5,
     "suites": [
      {
       "cases": [],
       "scored": true,
       "setup": "",
       "teardown": "",
       "type": "doctest"
      }
     ]
    },
    "q1.3.7.2": {
     "name": "q1.3.7.2",
     "points": 0.5,
     "suites": [
      {
       "cases": [],
       "scored": true,
       "setup": "",
       "teardown": "",
       "type": "doctest"
      }
     ]
    },
    "q1.3.7.3": {
     "name": "q1.3.7.3",
     "points": 0.5,
     "suites": [
      {
       "cases": [],
       "scored": true,
       "setup": "",
       "teardown": "",
       "type": "doctest"
      }
     ]
    },
    "q1.3.8.1": {
     "name": "q1.3.8.1",
     "points": 0.5,
     "suites": [
      {
       "cases": [],
       "scored": true,
       "setup": "",
       "teardown": "",
       "type": "doctest"
      }
     ]
    },
    "q1.3.8.2": {
     "name": "q1.3.8.2",
     "points": 0.5,
     "suites": [
      {
       "cases": [],
       "scored": true,
       "setup": "",
       "teardown": "",
       "type": "doctest"
      }
     ]
    },
    "q1.3.8.3": {
     "name": "q1.3.8.3",
     "points": 0.5,
     "suites": [
      {
       "cases": [],
       "scored": true,
       "setup": "",
       "teardown": "",
       "type": "doctest"
      }
     ]
    },
    "q1.3.9.1": {
     "name": "q1.3.9.1",
     "points": 0.5,
     "suites": [
      {
       "cases": [],
       "scored": true,
       "setup": "",
       "teardown": "",
       "type": "doctest"
      }
     ]
    },
    "q1.3.9.2": {
     "name": "q1.3.9.2",
     "points": 0.5,
     "suites": [
      {
       "cases": [],
       "scored": true,
       "setup": "",
       "teardown": "",
       "type": "doctest"
      }
     ]
    },
    "q1.3.9.3": {
     "name": "q1.3.9.3",
     "points": 0.5,
     "suites": [
      {
       "cases": [],
       "scored": true,
       "setup": "",
       "teardown": "",
       "type": "doctest"
      }
     ]
    },
    "q1.4.1": {
     "name": "q1.4.1",
     "points": 2,
     "suites": [
      {
       "cases": [],
       "scored": true,
       "setup": "",
       "teardown": "",
       "type": "doctest"
      }
     ]
    },
    "q1.4.2": {
     "name": "q1.4.2",
     "points": 2,
     "suites": [
      {
       "cases": [],
       "scored": true,
       "setup": "",
       "teardown": "",
       "type": "doctest"
      }
     ]
    },
    "q1.4.3": {
     "name": "q1.4.3",
     "points": 2,
     "suites": [
      {
       "cases": [],
       "scored": true,
       "setup": "",
       "teardown": "",
       "type": "doctest"
      }
     ]
    },
    "q1.4.4": {
     "name": "q1.4.4",
     "points": 2,
     "suites": [
      {
       "cases": [],
       "scored": true,
       "setup": "",
       "teardown": "",
       "type": "doctest"
      }
     ]
    },
    "q1.4.5": {
     "name": "q1.4.5",
     "points": 2,
     "suites": [
      {
       "cases": [],
       "scored": true,
       "setup": "",
       "teardown": "",
       "type": "doctest"
      }
     ]
    },
    "q1.4.6": {
     "name": "q1.4.6",
     "points": 2,
     "suites": [
      {
       "cases": [],
       "scored": true,
       "setup": "",
       "teardown": "",
       "type": "doctest"
      }
     ]
    },
    "q2.1": {
     "name": "q2.1",
     "points": 5,
     "suites": [
      {
       "cases": [],
       "scored": true,
       "setup": "",
       "teardown": "",
       "type": "doctest"
      }
     ]
    },
    "q2.2.1": {
     "name": "q2.2.1",
     "points": 2.5,
     "suites": [
      {
       "cases": [],
       "scored": true,
       "setup": "",
       "teardown": "",
       "type": "doctest"
      }
     ]
    },
    "q2.2.2": {
     "name": "q2.2.2",
     "points": 2.5,
     "suites": [
      {
       "cases": [],
       "scored": true,
       "setup": "",
       "teardown": "",
       "type": "doctest"
      }
     ]
    },
    "q2.2.3": {
     "name": "q2.2.3",
     "points": 2.5,
     "suites": [
      {
       "cases": [],
       "scored": true,
       "setup": "",
       "teardown": "",
       "type": "doctest"
      }
     ]
    },
    "q2.2.4": {
     "name": "q2.2.4",
     "points": 2.5,
     "suites": [
      {
       "cases": [],
       "scored": true,
       "setup": "",
       "teardown": "",
       "type": "doctest"
      }
     ]
    },
    "q2.3": {
     "name": "q2.3",
     "points": 15,
     "suites": [
      {
       "cases": [],
       "scored": true,
       "setup": "",
       "teardown": "",
       "type": "doctest"
      }
     ]
    },
    "q2.3.1": {
     "name": "q2.3.1",
     "points": 10,
     "suites": [
      {
       "cases": [
        {
         "code": ">>> grid = [[0, 0, 1, 0, 0], [0, 1, 0, 0, 0], [0, 0, 0, 1, 0], [1, 0, 1, 0, 0], [0, 0, 0, 0, 0]]\n>>> start = (0, 0)\n>>> goal = (4, 4)\n>>> plan, visited = astar_231(grid, start, goal)\n>>> plan == [(0, 0), (1, 0), (2, 1), (2, 2), (3, 3), (4, 4)] and visited == [(0, 0), (1, 0), (2, 1), (2, 2), (3, 3), (4, 4)]\nTrue",
         "hidden": false,
         "locked": false,
         "points": 0
        },
        {
         "code": ">>> grid = [[0, 0, 1, 0, 0], [0, 1, 0, 0, 0], [0, 0, 0, 1, 0], [1, 0, 1, 0, 0], [0, 0, 0, 0, 0]]\n>>> start = (0, 0)\n>>> goal = (4, 4)\n>>> plan, visited = dijkstra_231(grid, start, goal)\n>>> plan == [(0, 0), (0, 1), (1, 2), (2, 2), (3, 3), (4, 4)] and visited == [(0, 0), (1, 0), (0, 1), (2, 0), (1, 2), (2, 1), (1, 3), (3, 1), (2, 2), (0, 3), (1, 4), (4, 1), (4, 0), (2, 4), (3, 3), (4, 2), (0, 4), (3, 4), (4, 3), (4, 4)]\nTrue",
         "hidden": false,
         "locked": false,
         "points": 0
        }
       ],
       "scored": true,
       "setup": "",
       "teardown": "",
       "type": "doctest"
      }
     ]
    }
   }
  }
 },
 "nbformat": 4,
 "nbformat_minor": 5
}
