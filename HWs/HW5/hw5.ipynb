{
 "cells": [
  {
   "cell_type": "code",
   "execution_count": null,
   "id": "106c7484",
   "metadata": {
    "deletable": false,
    "editable": false
   },
   "outputs": [],
   "source": [
    "# Initialize Otter\n",
    "import otter\n",
    "grader = otter.Notebook(\"hw5.ipynb\")"
   ]
  },
  {
   "cell_type": "code",
   "execution_count": null,
   "id": "fc69dc99",
   "metadata": {},
   "outputs": [],
   "source": [
    "import numpy as np"
   ]
  },
  {
   "cell_type": "markdown",
   "id": "5add0ff4-27fa-4b8b-9429-77a6e70eb204",
   "metadata": {},
   "source": [
    "# FILL IN YOUR NAME AND THE NAME OF YOUR PEER (IF ANY) BELOW"
   ]
  },
  {
   "cell_type": "markdown",
   "id": "114b0f41-932d-43fb-96b0-a10ea759b6e4",
   "metadata": {},
   "source": [
    "**Name**: \\<replace this with your name\\>\n",
    "\n",
    "**Peer**: \\<replace this with your peer's name\\>\n",
    "\n",
    "## Collaboration policy\n",
    "Students are responsible for writing their own quizzes, assignments, and exams. For homework assignments, students are welcome (and encouraged) to discuss problems with one peer, **but each student must write their own assignment wrtieup and code individually**. The peer must be listed at the top of the writeup for each assignment. *Note: I will treat AI assistants as peers. That is, students are welcome to discuss problems with an AI assistant, but it is considered cheating to directly obtain an answer by querying the assistant. Please credit any AI assistant that you use.*"
   ]
  },
  {
   "cell_type": "markdown",
   "id": "3eeaa842-e2ff-4f0d-9447-6450943e8703",
   "metadata": {},
   "source": [
    "# Homework 5 -- Geometric perception (100 pts)\n",
    "\n",
    "**Due:** Tuesday, March 4th, 2025 at 11:59 pm\n",
    "\n",
    "This homework builds on the material in the slides, and Tedrake chapter 4 (on Geometric Perception).\n",
    "\n",
    "We will use Jupyter/Colab notebooks throughout the semester for writing code and generating assignment outputs.\n",
    "\n",
    "**Throughout this homework, please use 2D numpy arrays to represent all matrices. The autograder will use a precision of 3 decimal places.**\n",
    "\n",
    "\n",
    "## 1) Understanding point-cloud registration (40 pts)\n",
    "(Questions from Tedrake Ch 4)"
   ]
  },
  {
   "cell_type": "markdown",
   "id": "5984ccd3",
   "metadata": {
    "deletable": false,
    "editable": false
   },
   "source": [
    "### 1.1) How many points do you need? (15 pts)\n",
    "\n",
    "Consider the problem of point cloud registration with known correspondences. Points can be directly mapped to corresponding model points to specify the position and orientation of an object in the scene. In most cases, we have far more points than we have decision variables on the object's pose. Therefore, treating each point correspondence as an equality constraint would make the problem over-constrained. This raises a natural question:\n",
    "\n",
    "What is the minimum number of points that can uniquely specify the pose of an object in 2D? \n",
    "\n",
    "_Points:_ 7.5"
   ]
  },
  {
   "cell_type": "code",
   "execution_count": null,
   "id": "0d971c67",
   "metadata": {
    "tags": [
     "otter_answer_cell"
    ]
   },
   "outputs": [],
   "source": [
    "# Provide your answer as a scalar integer\n",
    "ans_111 = ..."
   ]
  },
  {
   "cell_type": "markdown",
   "id": "9fc6f255",
   "metadata": {
    "deletable": false,
    "editable": false
   },
   "source": [
    "What is the minimum number of points that can uniquely specify the pose of an object in 3D? \n",
    "\n",
    "_Points:_ 7.5"
   ]
  },
  {
   "cell_type": "code",
   "execution_count": null,
   "id": "4b3f11ab",
   "metadata": {
    "tags": [
     "otter_answer_cell"
    ]
   },
   "outputs": [],
   "source": [
    "# Provide your answer as a scalar integer\n",
    "ans_112 = ..."
   ]
  },
  {
   "cell_type": "markdown",
   "id": "baea1d38",
   "metadata": {},
   "source": [
    "### 1.2) Point registration with fixed rotation (25 pts)\n",
    "\n",
    "Consider the case of point registration with known correspondences where the rotation component of $X^O$ is known, but not the translation.\n",
    "\n",
    "Specifically, say your scene points ${}^W X^C \\cdot {}^{C} p^{s_i} = {}^W p^{s_i}$ are defined as follows:\n",
    "$$\\begin{aligned}\n",
    "{}^W p^{s_0} &= (1,5)\\\\\n",
    "{}^W p^{s_1} &= (3,10)\\\\\n",
    "{}^W p^{s_2} &= (5,10)\\enspace,\n",
    "\\end{aligned}$$\n",
    "\n",
    "which can be plotted as follows:\n",
    "\n",
    "<img src=\"https://jorge-a-mendez.github.io/images/ese564s24/12_scenepoints.png\" width=\"20%\">\n",
    "\n",
    "And your scene points are defined as follows:\n",
    "$$\\begin{aligned}\n",
    "{}^O p^{m_0} &= (-2, -5)\\\\\n",
    "{}^O p^{m_1} &= (0,0)\\\\\n",
    "{}^O p^{m_2} &= (0,0)\\enspace,\n",
    "\\end{aligned}$$\n",
    "\n",
    "which can be plotted as follows:\n",
    "\n",
    "<img src=\"https://jorge-a-mendez.github.io/images/ese564s24/12_modelpoints.png\" width=\"20%\">\n",
    "\n",
    "As you can see, both triangles are in the same orientation, so $R^O=\\begin{bmatrix}1&0\\\\0&1\\end{bmatrix}$. However, we still need to solve for the translation component of $X^O$. \n"
   ]
  },
  {
   "cell_type": "markdown",
   "id": "76785a2e",
   "metadata": {
    "deletable": false,
    "editable": false
   },
   "source": [
    "### 1.2.1) \n",
    "\n",
    "Using the objective $\\sum_{i=0}^n\\| ^{W} p^{m_i} - {}^W p^{s_i}\\|^2$, what is the value of the objective function for $p^{O} = (0,0)$?\n",
    "\n",
    "_Points:_ 3"
   ]
  },
  {
   "cell_type": "code",
   "execution_count": null,
   "id": "78f51eda",
   "metadata": {
    "tags": [
     "otter_answer_cell"
    ]
   },
   "outputs": [],
   "source": [
    "# Provide your answer as a scalar \n",
    "ans_121 = ..."
   ]
  },
  {
   "cell_type": "markdown",
   "id": "f59c40e6",
   "metadata": {
    "deletable": false,
    "editable": false
   },
   "source": [
    "### 1.2.2) \n",
    "\n",
    "What is the value of the objective function for $p^{O} = (3, 10)$?\n",
    "\n",
    "_Points:_ 3"
   ]
  },
  {
   "cell_type": "code",
   "execution_count": null,
   "id": "f9fb260e",
   "metadata": {
    "tags": [
     "otter_answer_cell"
    ]
   },
   "outputs": [],
   "source": [
    "# Provide your answer as a scalar \n",
    "ans_122 = ..."
   ]
  },
  {
   "cell_type": "markdown",
   "id": "3769b1aa",
   "metadata": {
    "deletable": false,
    "editable": false
   },
   "source": [
    "### 1.2.3) \n",
    "\n",
    "What is the value of the objective function for $p^{O} = (6,12)$?\n",
    "\n",
    "_Points:_ 3"
   ]
  },
  {
   "cell_type": "code",
   "execution_count": null,
   "id": "621ba07e",
   "metadata": {
    "tags": [
     "otter_answer_cell"
    ]
   },
   "outputs": [],
   "source": [
    "# Provide your answer as a scalar \n",
    "ans_123 = ..."
   ]
  },
  {
   "cell_type": "markdown",
   "id": "fd2e3b02",
   "metadata": {
    "deletable": false,
    "editable": false
   },
   "source": [
    "### 1.2.4) \n",
    "\n",
    "Now consider the general case, with known correspondences, fixed $R^O=I_{2\\times2}$, and equal number of scene and model points, but where it may not be possible to perfectly align the scene and model points (e.g., due to noise or modeling error). Determine what the translational component should be and write a Python function that finds this solution.\n",
    "\n",
    "_Points:_ 16"
   ]
  },
  {
   "cell_type": "code",
   "execution_count": null,
   "id": "385c2957",
   "metadata": {
    "tags": [
     "otter_answer_cell"
    ]
   },
   "outputs": [],
   "source": [
    "def transform_translation_214(p_Om, p_s):\n",
    "    \"\"\"\n",
    "    Find the optimal translation vector p^O that minimizes the sum of square distances\n",
    "    p_Om: np.ndarray of shape (n, 2) representing the coordinates of the model points in the original object frame\n",
    "    p_s: np.ndarray of shape (n, 2) representing the coordinates of the scene points in the world frame\n",
    "    return: np.ndarray of shape (2,) representing the optimal translation vector\n",
    "    \"\"\"\n",
    "    ..."
   ]
  },
  {
   "cell_type": "markdown",
   "id": "8ce087b4",
   "metadata": {},
   "source": [
    "## 2) Point-cloud registration (60 pts)\n",
    "\n",
    "We are going to write a full implementation of the ICP algorithm, and then apply it to a few data sets. To help with debugging, I have provided the following visualization function that takes as input a model point cloud, a scene point cloud, a rotation and a translation, and visualizes the transformed model point cloud and the scene point cloud.\n",
    "\n",
    "Of note, this function uses a common Numpy trick, which is to apply a matrix operation on a _collection_ of points by stacking all points in a tall matrix. Since we use tall matrices (n, d), we need to _right_ multiply by the rotation matrix. When doing right-multiplication, we need to transpose the rotation matrix to achieve the correct result. *I encourage you to verify that this is correct by hand.*\n",
    "\n",
    "See subsequent code cells for example use of the visualization code. "
   ]
  },
  {
   "cell_type": "code",
   "execution_count": null,
   "id": "65ebe2aa",
   "metadata": {},
   "outputs": [],
   "source": [
    "import matplotlib.pyplot as plt\n",
    "\n",
    "def visualize_point_clouds(p_Om, p_s, R, p):\n",
    "    \"\"\"\n",
    "    Visualize the model and scene point clouds after applying the transformation\n",
    "    p_Om: np.ndarray of shape (n, d) representing the coordinates of the model points in the original object frame\n",
    "    p_s: np.ndarray of shape (n, d) representing the coordinates of the scene points in the world frame\n",
    "    R: np.ndarray of shape (d, d) representing the rotation matrix\n",
    "    p: np.ndarray of shape (d,) representing the translation vector\n",
    "    \n",
    "    d must be 2 or 3\n",
    "    \"\"\"\n",
    "    _, d = p_Om.shape\n",
    "    if d not in (2, 3):\n",
    "        raise ValueError(\"d must be 2 or 3\")\n",
    "    p_O = np.dot(p_Om, R.T) + p \n",
    "    if d == 2:\n",
    "        plt.scatter(p_O[:, 0], p_O[:, 1], label='Model')\n",
    "        plt.scatter(p_s[:, 0], p_s[:, 1], label='Scene')\n",
    "    else:\n",
    "        ax = plt.axes(projection='3d')\n",
    "        ax.scatter3D(p_O[:, 0], p_O[:, 1], p_O[:, 2], label='Model')\n",
    "        ax.scatter3D(p_s[:, 0], p_s[:, 1], p_s[:, 2], label='Scene')\n",
    "        # Label the x,y,z axes\n",
    "        ax.set_xlabel('X')\n",
    "        ax.set_ylabel('Y')\n",
    "        ax.set_zlabel('Z')\n",
    "    plt.legend()\n",
    "    plt.show()"
   ]
  },
  {
   "cell_type": "code",
   "execution_count": null,
   "id": "51e58d0c",
   "metadata": {},
   "outputs": [],
   "source": [
    "# load stanford_bunny.npy\n",
    "stanford_bunny = np.load('stanford_bunny.npy')\n",
    "\n",
    "# Rotate by 45 degrees about the z-axis\n",
    "R = np.array([[np.cos(np.pi/4), -np.sin(np.pi/4), 0], [np.sin(np.pi/4), np.cos(np.pi/4), 0], [0, 0, 1]])\n",
    "\n",
    "# Translate by (0.5, 0.5, 1)\n",
    "p = np.array([0.1, 0.1, 0.1])\n",
    "\n",
    "stanford_bunny_scene = np.dot(stanford_bunny, R.T) + p\n",
    "\n",
    "# Show the original and transformed point clouds\n",
    "visualize_point_clouds(stanford_bunny, stanford_bunny_scene, np.eye(3), np.zeros(3))\n",
    "\n",
    "# Show the original and corrected point clouds\n",
    "visualize_point_clouds(stanford_bunny, stanford_bunny_scene, R, p)"
   ]
  },
  {
   "cell_type": "code",
   "execution_count": null,
   "id": "a19fdf4b",
   "metadata": {},
   "outputs": [],
   "source": [
    "# load random_2d.npy\n",
    "\n",
    "#\n",
    "random_2d = np.load('random_2d.npy')\n",
    "\n",
    "# Rotate by 45 degrees \n",
    "R = np.array([[np.cos(np.pi/4), -np.sin(np.pi/4)], [np.sin(np.pi/4), np.cos(np.pi/4)]])\n",
    "\n",
    "# Translate by (0.5, 0.5)\n",
    "p = np.array([0.5, 0.5])\n",
    "\n",
    "random_2d_scene = np.dot(random_2d, R.T) + p\n",
    "\n",
    "# Show the original and transformed point clouds\n",
    "visualize_point_clouds(random_2d, random_2d_scene, np.eye(2), np.zeros(2)) \n",
    "\n",
    "# Show the original and corrected point clouds\n",
    "visualize_point_clouds(random_2d, random_2d_scene, R, p)\n"
   ]
  },
  {
   "cell_type": "markdown",
   "id": "78cd248e",
   "metadata": {
    "deletable": false,
    "editable": false
   },
   "source": [
    "### 2.1) Rotation from known correspondences\n",
    "\n",
    "The first step in implementing ICP is to find the rotation of the model points assuming known correspondences. The algorithm is simple:\n",
    "1. Find the centroids ${}^O p^{\\bar{m}}=\\frac{1}{n}\\sum_{i=0}^{n-1}{}^O p^{m_i}$ and $p^{\\bar{s}}=\\frac{1}{n}\\sum_{i=0}^{n-1} p^{s_i}$\n",
    "2. Construct the data matrix $W=\\sum_{i=0}^{n-1} (p^{s_i} - p^{\\bar{s}})({}^O p^{m_i} - {}^Op^{\\bar{m}})^\\top$\n",
    "3. Solve SVD: $W = U\\Sigma V^\\top$\n",
    "4. Replace $\\Sigma$ by $D=\\mathrm{diag}(1, 1, \\det UV^\\top)$ and set $R= UDV^\\top$\n",
    "\n",
    "*Hint 1: to help keep your implementation clean, it may help to think about how you could write $\\sum_{i=0}^{n-1} (a^i)(b^i)^\\top$, where $a^i$ and $b^i$ are column vectors, in terms of tall matrices $A$ and $B$ whose rows are the (transposed) $a^i$'s and $b^i$'s respectively.*\n",
    "\n",
    "*Hint 2: look at the `np.linalg.svd` function, and be sure to carefully examine what values it returns.*\n",
    "\n",
    "_Points:_ 12"
   ]
  },
  {
   "cell_type": "code",
   "execution_count": null,
   "id": "3187f8c9",
   "metadata": {
    "tags": [
     "otter_answer_cell"
    ]
   },
   "outputs": [],
   "source": [
    "def find_R_from_ordered_points_21(p_Om, p_s):\n",
    "    \"\"\"\n",
    "    Find the rotation matrix R that best aligns the points in p_m to the points in p_s.\n",
    "    p_Om: a 2D numpy array of shape (n, d) where n is the number of points and d is the dimension of the points (2 or 3).\n",
    "    p_s: a 2D numpy array of shape (n, d) where n is the number of points and d is the dimension of the points (2 or 3).\n",
    "    Return: a 2D numpy array of shape (d, d) representing the rotation matrix R.\n",
    "\n",
    "    Assumes that the points in p_Om and p_s are ordered such that p_Om[i] corresponds to p_s[i]\n",
    "    \"\"\"\n",
    "    ...\n",
    "    \n",
    "    # Compute the rotation matrix\n",
    "    R = ...\n",
    "    \n",
    "    return R"
   ]
  },
  {
   "cell_type": "markdown",
   "id": "0b96da93",
   "metadata": {
    "deletable": false,
    "editable": false
   },
   "source": [
    "### 2.2) Translation from known correspondences\n",
    "\n",
    "The next step is to find the translation component of the transform, given the known correspondences and the rotation computed in the previous step. This is given simply by:\n",
    "\n",
    "$$p = p^{\\bar{s}} - R \\cdot {}^O p ^{\\bar{m}}$$\n",
    "\n",
    "_Points:_ 12"
   ]
  },
  {
   "cell_type": "code",
   "execution_count": null,
   "id": "20ccbfd5",
   "metadata": {
    "tags": [
     "otter_answer_cell"
    ]
   },
   "outputs": [],
   "source": [
    "def find_p_from_ordered_points_22(R, p_Om, p_s):\n",
    "    \"\"\"\n",
    "    Find the translation vector p that best aligns the points in p_m to the points in p_s.\n",
    "    R: a 2D numpy array of shape (d, d) representing the rotation matrix.\n",
    "    p_m: a 2D numpy array of shape (n, d) where n is the number of points and d is the dimension of the points (2 or 3).\n",
    "    p_s: a 2D numpy array of shape (n, d) where n is the number of points and d is the dimension of the points (2 or 3).\n",
    "    Return: a 1D numpy array of shape (d,) representing the translation vector p.\n",
    "\n",
    "    Assumes that the points in p_m and p_s are ordered such that p_m[i] corresponds to p_s[i]\n",
    "    \"\"\"\n",
    "    ...\n",
    "    \n",
    "    # Compute the translation vector\n",
    "    p = ...\n",
    "\n",
    "    return p"
   ]
  },
  {
   "cell_type": "markdown",
   "id": "5c9265bd",
   "metadata": {
    "deletable": false,
    "editable": false
   },
   "source": [
    "### 2.3) Finding the correspondence vector\n",
    "\n",
    "The steps in 2.1 and 2.2 find the optimal transform given a collection of model points $^O p^{m_i}$ and scene points $p^{s_i}$, assuming that the correspondence between them is known. In particular, they assume that The correspondence is between the $i$-th model point and the $i$-th scene point.\n",
    "\n",
    "Realistically, these correspondences are not given. ICP works by iteratively finding the best correspondences given a current guess of the transform, and then the best transform given the current guess of the correspondences.\n",
    "\n",
    "Let's start by implementing a function that finds the correspondence vector between model and scene points for a given transformation given by $R^O, p^O$. The function should find, for each scene point $i$, what is the index $j$ of the model point $m_j$ that is closest to $s_i$ after applying the transform: $p^{m_j} = X^O \\cdot {}^O p^{m_j}$. \n",
    "\n",
    "*Hint: there is a clever way to us Numpy broadcasting to compute all distances in a single function call. It is not mandatory to use this, but it will make your implementation cleaner.*\n",
    "\n",
    "*Hint 2: note that this function must work for point clouds of different sizes m and n.*\n",
    "\n",
    "_Points:_ 12"
   ]
  },
  {
   "cell_type": "code",
   "execution_count": null,
   "id": "4249d9cb",
   "metadata": {
    "tags": [
     "otter_answer_cell"
    ]
   },
   "outputs": [],
   "source": [
    "def find_correspondence_vector_23(p_Om, p_s, R_O, p_O):\n",
    "    \"\"\"\n",
    "    Find the closest point in p_m for each point in p_s.\n",
    "    p_m: a 2D numpy array of shape (m, d) where m is the number of points and d is the dimension of the points (2 or 3).\n",
    "    p_s: a 2D numpy array of shape (n, d) where n is the number of points and d is the dimension of the points (2 or 3).\n",
    "    R_O: a 2D numpy array of shape (d, d) representing the rotation matrix.\n",
    "    p_O: a 1D numpy array of shape (d,) representing the translation vector.\n",
    "    Return: a 1D numpy array of shape (n,) containing the index of the closest point in p_m for each point p_s[i].\n",
    "    \"\"\"\n",
    "    ...\n",
    "\n",
    "    # Find the index of the closest point in p_m for each point in p_s\n",
    "    correspondences = ...\n",
    "\n",
    "    return correspondences"
   ]
  },
  {
   "cell_type": "markdown",
   "id": "749505bf",
   "metadata": {
    "deletable": false,
    "editable": false
   },
   "source": [
    "### 2.4) ICP: putting it all together\n",
    "\n",
    "We now have all the pieces required to implement ICP. The algorithm starts from an initial guess $X^{O_0}$, uses that to compute the correspondences, finds the optimal transform $X^{O_1}$, and repeats this process until convergence. \n",
    "\n",
    "Implement this algorithm using your functions from 2.1 -- 2.3. As your convergence criterion, check whether the previous correspondences and the new correspondences exactly match. (At that point, would it be possible for the algorithm to make any further progress?)\n",
    "\n",
    "*Hint: think about how to leverage the correspondence vector found in the previous step to produce inputs that have the correct correspondences as expected by your functions to find rotation and translation.*\n",
    "\n",
    "_Points:_ 12"
   ]
  },
  {
   "cell_type": "code",
   "execution_count": null,
   "id": "2f5e89c6",
   "metadata": {
    "tags": [
     "otter_answer_cell"
    ]
   },
   "outputs": [],
   "source": [
    "def iterative_closest_points_24(p_Om, p_s, R_O0, p_O0):\n",
    "    \"\"\"\n",
    "    Find the rigid transformation that best aligns the points in p_Om to the points in p_s.\n",
    "    p_Om: a 2D numpy array of shape (n, d) where n is the number of points and d is the dimension of the points (2 or 3).\n",
    "    p_s: a 2D numpy array of shape (n, d) where n is the number of points and d is the dimension of the points (2 or 3).\n",
    "    R_O0: a 2D numpy array of shape (d, d) representing the initial guess of the rotation matrix.\n",
    "    p_O0: a 1D numpy array of shape (d,) representing the initial guess of the translation vector.\n",
    "    Return: a tuple containing the rotation matrix R and translation vector p that best aligns the points in p_Om to the points in p_s.\n",
    "\n",
    "    Does not assume knowledge about the correspondence between points in p_Om and p_s.\n",
    "    \"\"\"\n",
    "\n",
    "    ...\n",
    "\n"
   ]
  },
  {
   "cell_type": "markdown",
   "id": "052dcd16",
   "metadata": {},
   "source": [
    "### 2.5) Analyzing the behavior of ICP\n",
    "\n",
    "The following questions will have you analyze the behavior of ICP on various point-clouds and with various initial guesses. You are encouraged to work on this question once you have finalized (and obtained credit for) questions 2.1--2.5. \n",
    "\n",
    "Note: your code for the following questions will not be evaluated. You will use it to analyze how ICP is working, and the evaluation will be based on your answers to the questions below."
   ]
  },
  {
   "cell_type": "markdown",
   "id": "c5f1d0aa",
   "metadata": {
    "deletable": false,
    "editable": false
   },
   "source": [
    "### 2.5.1) Poor initialization\n",
    "\n",
    "The following code cell runs your ICP code on a pair of point clouds, `random_2d.npy` and `random_2d_scene.npy`. There are no outliers or partial views: the two point clouds only differ in their poses. It starts from a fixed initial guess `R_O0, p_O0`. Run the code and observe the resulting point-clouds. Which of the following are true about ICP on this point-cloud? Choose all that apply\n",
    "\n",
    "a. ICP does not converge\\\n",
    "b. ICP gets stuck in a local optimum\\\n",
    "c. ICP finds a solution that has higher cost than the optimal solution\\\n",
    "d. The rotation matrix `R_O` obtained by ICP is far from the true rotation\\\n",
    "e. The translation vector `p_O` obtained by ICP is far from the true translation vector\\\n",
    "f. The correspondences found by ICP are far from the true correspondences\n",
    "\n",
    "_Points:_ 3"
   ]
  },
  {
   "cell_type": "code",
   "execution_count": null,
   "id": "ea445ebd",
   "metadata": {
    "deletable": false,
    "editable": false
   },
   "outputs": [],
   "source": [
    "model_points = np.load('random_2d.npy')\n",
    "scene_points = np.load('random_2d_scene.npy')\n",
    "theta = 0#-np.pi/4\n",
    "R = np.array([[np.cos(theta), -np.sin(theta)], [np.sin(theta), np.cos(theta)]])\n",
    "p = np.array([0.5, 0.5])\n",
    "\n",
    "# Visualize the point clouds aligned by the initial guess R, p\n",
    "visualize_point_clouds(model_points, scene_points, R, p)\n",
    "\n",
    "R_icp, p_icp = iterative_closest_points_24(model_points, scene_points, R, p)\n",
    "# Visualize the point clouds aligned by the ICP solution R_icp, p_icp\n",
    "visualize_point_clouds(model_points, scene_points, R_icp, p_icp)"
   ]
  },
  {
   "cell_type": "code",
   "execution_count": null,
   "id": "35a877f1",
   "metadata": {
    "tags": [
     "otter_answer_cell"
    ]
   },
   "outputs": [],
   "source": [
    "# Express your answer as a list containing each chosen option as a lower-case string (e.g., [\"a\", \"b\"] for a and b, or [] for none)\n",
    "ans_251 = ...\n"
   ]
  },
  {
   "cell_type": "markdown",
   "id": "2797df37",
   "metadata": {},
   "source": [
    "Because ICP is sensitive to the choice of initialization, it is common practice to attempt multiple initializations and return the one with lowest error. To understand why this is useful, the following questions will have you run ICP on various choices of initialization.\n",
    "\n",
    "The following code cell contains code to generate a random 2D poses."
   ]
  },
  {
   "cell_type": "code",
   "execution_count": null,
   "id": "eef83a4b",
   "metadata": {},
   "outputs": [],
   "source": [
    "def random_2d_pose(min_xy=-3, max_xy=-2):\n",
    "    theta = np.random.rand() * 2 * np.pi\n",
    "    p = np.random.rand(2) * (max_xy - min_xy) + min_xy\n",
    "    R = np.array([[np.cos(theta), -np.sin(theta)], [np.sin(theta), np.cos(theta)]])\n",
    "    return R, p"
   ]
  },
  {
   "cell_type": "markdown",
   "id": "598474e1",
   "metadata": {
    "deletable": false,
    "editable": false
   },
   "source": [
    "### 2.5.2) Symmetric objects\n",
    "\n",
    "The following code cell loads two point clouds, `symmetric_2d.npy` and `symmetric_scene_2d.npy`, without outliers or partial views. Use the code cell to run ICP multiple times on random initializations; be sure to visualize the point clouds and observe the returned rotation and translation. Which of the following are true about ICP on this point-cloud? Choose all that apply.\n",
    "\n",
    "a. For some initializations, ICP does not converge\\\n",
    "b. ICP does not converge for any initialization\\\n",
    "c. For some initializations, ICP gets stuck in a \"bad\" local optimum\\\n",
    "d. For all initializations, ICP gets stuck in a \"bad\" local optimum\\\n",
    "e. For all initializations, ICP finds the same (or a very similar) rotation matrix `R_O`\\\n",
    "f. For all initializations, ICP finds the same (or a very similar) translation vector `p_O`\\\n",
    "g. For all initializations, ICP finds the same (or a very similar) correspondence vector\n",
    "\n",
    "\n",
    "\n",
    "_Points:_ 3"
   ]
  },
  {
   "cell_type": "code",
   "execution_count": null,
   "id": "e415f4da",
   "metadata": {
    "deletable": false,
    "editable": false
   },
   "outputs": [],
   "source": [
    "# HIDDEN\n",
    "n = 40\n",
    "rectangle = np.zeros((n, 2))\n",
    "rectangle[:n//4, 0] = np.arange(0, 1, 4/n) * 3\n",
    "rectangle[n//4:n//2, 1] = np.arange(0, 1, 4/n)\n",
    "rectangle[n//2:3*n//4, 0] = np.arange(1, 0, -4/n) * 3\n",
    "rectangle[n//2:3*n//4, 1] = 1\n",
    "rectangle[3*n//4:, 1] = np.arange(1, 0, -4/n)\n",
    "rectangle[3*n//4:, 0] = 3\n",
    "\n",
    "\n",
    "theta = np.pi/4\n",
    "R = np.array([[np.cos(theta), -np.sin(theta)], [np.sin(theta), np.cos(theta)]])\n",
    "p = np.array([0.5, 0.5])\n",
    "rectangle_scene = np.dot(rectangle, R.T) + p\n",
    "np.save(\"symmetric_2d.npy\", rectangle)\n",
    "np.save(\"symmetric_2d_scene.npy\", rectangle_scene)\n",
    "\n",
    "visualize_point_clouds(rectangle, rectangle_scene, np.eye(2), np.zeros(2))"
   ]
  },
  {
   "cell_type": "code",
   "execution_count": null,
   "id": "3c6ceb8f",
   "metadata": {
    "tags": [
     "otter_answer_cell"
    ]
   },
   "outputs": [],
   "source": [
    "model_points = np.load('symmetric_2d.npy')\n",
    "scene_points = np.load('symmetric_2d_scene.npy')\n",
    "\n",
    "..."
   ]
  },
  {
   "cell_type": "code",
   "execution_count": null,
   "id": "74fb735a",
   "metadata": {
    "tags": [
     "otter_answer_cell"
    ]
   },
   "outputs": [],
   "source": [
    "# Express your answer as a list containing each chosen option as a lower-case string (e.g., [\"a\", \"b\"] for a and b, or [] for none)\n",
    "ans_252 = ...\n"
   ]
  },
  {
   "cell_type": "markdown",
   "id": "c529beda",
   "metadata": {
    "deletable": false,
    "editable": false
   },
   "source": [
    "### 2.5.3) Partial views\n",
    "\n",
    "The following code cell loads two point clouds, `random_2d.npy` and `random_2d_scene_partial.npy`, where the `scene` point cloud is a partial view of the (rotated and translated) model point cloud. Use the code cell to run ICP multiple times on random initializations; be sure to visualize the point clouds and observe the returned rotation and translation. Which of the following are true about ICP on this point-cloud? Choose all that apply. *Hint: make sure to run ICP many times*\n",
    "\n",
    "a. For some initializations, ICP does not converge\\\n",
    "b. ICP does not converge for any initialization\\\n",
    "c. For some initializations, ICP gets stuck in a \"bad\" local optimum\\\n",
    "d. For all initializations, ICP gets stuck in a \"bad\" local optimum\\\n",
    "e. For all initializations, ICP finds the same (or a very similar) rotation matrix `R_O`\\\n",
    "f. For all initializations, ICP finds the same (or a very similar) translation vector `p_O`\\\n",
    "g. For all initializations, ICP finds the same (or a very similar) correspondence vector\n",
    "\n",
    "\n",
    "\n",
    "_Points:_ 3"
   ]
  },
  {
   "cell_type": "code",
   "execution_count": null,
   "id": "01e591de",
   "metadata": {
    "tags": [
     "otter_answer_cell"
    ]
   },
   "outputs": [],
   "source": [
    "model_points = np.load('random_2d.npy')\n",
    "scene_points = np.load('random_2d_scene_partial.npy')\n",
    "\n",
    "..."
   ]
  },
  {
   "cell_type": "code",
   "execution_count": null,
   "id": "a22212d2",
   "metadata": {
    "tags": [
     "otter_answer_cell"
    ]
   },
   "outputs": [],
   "source": [
    "# Express your answer as a list containing each chosen option as a lower-case string (e.g., [\"a\", \"b\"] for a and b, or [] for none)\n",
    "ans_253 = ...\n"
   ]
  },
  {
   "cell_type": "markdown",
   "id": "f6eb1412",
   "metadata": {
    "deletable": false,
    "editable": false
   },
   "source": [
    "### 2.5.4) Outliers\n",
    "\n",
    "The following code cell loads two point clouds, `random_2d.npy` and `random_2d_scene_outliers.npy`, where the `scene` point cloud is full view of the (rotated and translated) model point cloud with some additional outliers. Use the code cell to run ICP multiple times on random initializations; be sure to visualize the point clouds and observe the returned rotation and translation. Which of the following are true about ICP on this point-cloud? Choose all that apply. \n",
    "\n",
    "a. For some initializations, ICP finds a solution that is shifted toward the outliers\\\n",
    "b. For all initializations, ICP finds a solution that is shifted toward the outliers\\\n",
    "c. For some initializations, ICP gets stuck in a \"bad\" local optimum\\\n",
    "d. For all initializations, ICP gets stuck in a \"bad\" local optimum\\\n",
    "e. For all initializations, ICP finds the same (or a very similar) rotation matrix `R_O`\\\n",
    "f. For all initializations, ICP finds the same (or a very similar) translation vector `p_O`\\\n",
    "g. For all initializations, ICP finds the same (or a very similar) correspondence vector\\\n",
    "\n",
    "\n",
    "_Points:_ 3"
   ]
  },
  {
   "cell_type": "code",
   "execution_count": null,
   "id": "eb87a515",
   "metadata": {
    "tags": [
     "otter_answer_cell"
    ]
   },
   "outputs": [],
   "source": [
    "model_points = np.load('random_2d.npy')\n",
    "scene_points = np.load('random_2d_scene_outliers.npy')\n",
    "\n",
    "..."
   ]
  },
  {
   "cell_type": "code",
   "execution_count": null,
   "id": "b4ca3c17",
   "metadata": {
    "tags": [
     "otter_answer_cell"
    ]
   },
   "outputs": [],
   "source": [
    "# Express your answer as a list containing each chosen option as a lower-case string (e.g., [\"a\", \"b\"] for a and b, or [] for none)\n",
    "ans_254 = ...\n"
   ]
  },
  {
   "cell_type": "markdown",
   "id": "f602e70b",
   "metadata": {
    "deletable": false,
    "editable": false
   },
   "source": [
    "## Submission\n",
    "\n",
    "Make sure you have run all cells in your notebook in order before running the cell below, so that all images/graphs appear in the output. The cell below will generate a zip file for you to submit. **Please save before exporting!**\n",
    "\n",
    "Fill out the answers to all questions and submit your file hw5.ipynb to the HW5 assignment on Gradescope. You are free to resubmit as many times as you wish."
   ]
  },
  {
   "cell_type": "code",
   "execution_count": null,
   "id": "246d41e4",
   "metadata": {
    "deletable": false,
    "editable": false
   },
   "outputs": [],
   "source": [
    "# Save your notebook first, then run this cell to export your submission.\n",
    "grader.export(pdf=False, run_tests=True)"
   ]
  },
  {
   "cell_type": "markdown",
   "id": "cd8c56e5",
   "metadata": {},
   "source": [
    " "
   ]
  }
 ],
 "metadata": {
  "kernelspec": {
   "display_name": "ese564s25",
   "language": "python",
   "name": "python3"
  },
  "language_info": {
   "codemirror_mode": {
    "name": "ipython",
    "version": 3
   },
   "file_extension": ".py",
   "mimetype": "text/x-python",
   "name": "python",
   "nbconvert_exporter": "python",
   "pygments_lexer": "ipython3",
   "version": "3.11.11"
  },
  "otter": {
   "OK_FORMAT": true,
   "assignment_name": "hw5",
   "tests": {
    "q1.1.1": {
     "name": "q1.1.1",
     "points": 7.5,
     "suites": [
      {
       "cases": [],
       "scored": true,
       "setup": "",
       "teardown": "",
       "type": "doctest"
      }
     ]
    },
    "q1.1.2": {
     "name": "q1.1.2",
     "points": 7.5,
     "suites": [
      {
       "cases": [],
       "scored": true,
       "setup": "",
       "teardown": "",
       "type": "doctest"
      }
     ]
    },
    "q1.2.1": {
     "name": "q1.2.1",
     "points": 3,
     "suites": [
      {
       "cases": [],
       "scored": true,
       "setup": "",
       "teardown": "",
       "type": "doctest"
      }
     ]
    },
    "q1.2.2": {
     "name": "q1.2.2",
     "points": 3,
     "suites": [
      {
       "cases": [],
       "scored": true,
       "setup": "",
       "teardown": "",
       "type": "doctest"
      }
     ]
    },
    "q1.2.3": {
     "name": "q1.2.3",
     "points": 3,
     "suites": [
      {
       "cases": [],
       "scored": true,
       "setup": "",
       "teardown": "",
       "type": "doctest"
      }
     ]
    },
    "q1.2.4": {
     "name": "q1.2.4",
     "points": 16,
     "suites": [
      {
       "cases": [],
       "scored": true,
       "setup": "",
       "teardown": "",
       "type": "doctest"
      }
     ]
    },
    "q2.1": {
     "name": "q2.1",
     "points": 12,
     "suites": [
      {
       "cases": [],
       "scored": true,
       "setup": "",
       "teardown": "",
       "type": "doctest"
      }
     ]
    },
    "q2.2": {
     "name": "q2.2",
     "points": 12,
     "suites": [
      {
       "cases": [],
       "scored": true,
       "setup": "",
       "teardown": "",
       "type": "doctest"
      }
     ]
    },
    "q2.3": {
     "name": "q2.3",
     "points": 12,
     "suites": [
      {
       "cases": [],
       "scored": true,
       "setup": "",
       "teardown": "",
       "type": "doctest"
      }
     ]
    },
    "q2.4": {
     "name": "q2.4",
     "points": 12,
     "suites": [
      {
       "cases": [],
       "scored": true,
       "setup": "",
       "teardown": "",
       "type": "doctest"
      }
     ]
    },
    "q2.5.1": {
     "name": "q2.5.1",
     "points": 3,
     "suites": [
      {
       "cases": [],
       "scored": true,
       "setup": "",
       "teardown": "",
       "type": "doctest"
      }
     ]
    },
    "q2.5.2": {
     "name": "q2.5.2",
     "points": 3,
     "suites": [
      {
       "cases": [],
       "scored": true,
       "setup": "",
       "teardown": "",
       "type": "doctest"
      }
     ]
    },
    "q2.5.3": {
     "name": "q2.5.3",
     "points": 3,
     "suites": [
      {
       "cases": [],
       "scored": true,
       "setup": "",
       "teardown": "",
       "type": "doctest"
      }
     ]
    },
    "q2.5.4": {
     "name": "q2.5.4",
     "points": 3,
     "suites": [
      {
       "cases": [],
       "scored": true,
       "setup": "",
       "teardown": "",
       "type": "doctest"
      }
     ]
    }
   }
  }
 },
 "nbformat": 4,
 "nbformat_minor": 5
}
