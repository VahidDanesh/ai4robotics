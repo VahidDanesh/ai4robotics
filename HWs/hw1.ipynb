{
 "cells": [
  {
   "cell_type": "code",
   "execution_count": 140,
   "id": "8c8d9b30",
   "metadata": {
    "deletable": false,
    "editable": false
   },
   "outputs": [],
   "source": [
    "# Initialize Otter\n",
    "import otter\n",
    "grader = otter.Notebook(\"hw1.ipynb\")"
   ]
  },
  {
   "cell_type": "markdown",
   "id": "5add0ff4-27fa-4b8b-9429-77a6e70eb204",
   "metadata": {},
   "source": [
    "# FILL IN YOUR NAME AND THE NAME OF YOUR PEER (IF ANY) BELOW"
   ]
  },
  {
   "cell_type": "markdown",
   "id": "114b0f41-932d-43fb-96b0-a10ea759b6e4",
   "metadata": {},
   "source": [
    "**Name**: Vahid Danesh\n",
    "\n",
    "**Peer**: Maede Boroji\n",
    "\n",
    "## Collaboration policy\n",
    "Students are responsible for writing their own quizzes, assignments, and exams. For homework assignments, students are welcome (and encouraged) to discuss problems with one peer, **but each student must write their own assignment wrtieup and code individually**. The peer must be listed at the top of the writeup for each assignment. *Note: I will treat AI assistants as peers. That is, students are welcome to discuss problems with an AI assistant, but it is considered cheating to directly obtain an answer by querying the assistant. Please credit any AI assistant that you use.*"
   ]
  },
  {
   "cell_type": "markdown",
   "id": "3eeaa842-e2ff-4f0d-9447-6450943e8703",
   "metadata": {},
   "source": [
    "# Homework 1 -- BFS and DFS (100 pts)\n",
    "\n",
    "**Due:** Tuesday, February 4th, 2025 at 11:59 pm\n",
    "\n",
    "This homework builds on the material in the slides and the LaValle chapter on Discrete Search.\n",
    "\n",
    "We will use Jupyter/Colab notebooks throughout the semester for writing code and generating assignment outputs. \n",
    "\n",
    "## 1) Tracing BFS and DFS (40 pts)\n",
    "\n",
    "Consider the following 3x3 grid where nodes are connected to their immediate neighbors (up, down, left, right). The start node is (0,0) and the goal node is (2,2). \n",
    "\n",
    "```\n",
    "(0,0) - (0,1) - (0,2)\n",
    "  |       |       |\n",
    "(1,0) - (1,1) - (1,2)\n",
    "  |       |       |\n",
    "(2,0) - (2,1) - (2,2)\n",
    "```\n",
    "\n",
    "### 1.1) BFS (15 pts)\n",
    "\n",
    "We are going to manually trace the BFS algorithm and list the order in which nodes are visited. We will start from a queue that contains a single element, the starting node:\n",
    "```\n",
    "q = [(0,0)]\n",
    "```\n",
    "And a parent list that contains `None` for the start state's parent:\n",
    "```\n",
    "p = {(0,0): None}\n",
    "```\n",
    "Each question below will ask you to add the current node's neighbors to the queue and add the parent of each new node to the `p` dictionary.\n",
    "\n",
    "**Throughout this question, assume that when looping through neighbors of a node, the nodes are sorted based on their first coordinate, and ties are broken by the second coordinate (e.g., (0,1) comes before (1,0); (0,2) comes before (1,1); (0,1) comes before (0,2)).**\n"
   ]
  },
  {
   "cell_type": "markdown",
   "id": "9b077b00-bf16-44d7-988e-27cf380b2a3d",
   "metadata": {
    "deletable": false,
    "editable": false
   },
   "source": [
    "#### 1.1.1)\n",
    "\n",
    "In the first step, what is the current node inspected by the algorithm (i.e., the node extracted from the queue `q` at the first iteration)?\n",
    "\n",
    "_Points:_ 0.5"
   ]
  },
  {
   "cell_type": "code",
   "execution_count": 141,
   "id": "50976ae0-2716-41ae-8690-d6987cc61d83",
   "metadata": {
    "tags": [
     "otter_answer_cell"
    ]
   },
   "outputs": [],
   "source": [
    "# Express your answer as a tuple representing the node (e.g., (2,3)). If the algorithm has terminated, set the value to None.\n",
    "v_111 = (0, 0)"
   ]
  },
  {
   "cell_type": "markdown",
   "id": "ff6b9206-8348-4034-b566-719f2b4fe086",
   "metadata": {
    "deletable": false,
    "editable": false
   },
   "source": [
    "After the first step, what are the contents of the queue (i.e., after extracting the first node `v_111` and adding its neighbors to the queue, what is the current state of the queue `q`)? \n",
    "\n",
    "_Points:_ 0.5"
   ]
  },
  {
   "cell_type": "code",
   "execution_count": 142,
   "id": "09b05cdb-81af-4f39-830c-fc89507f4b33",
   "metadata": {
    "tags": [
     "otter_answer_cell"
    ]
   },
   "outputs": [],
   "source": [
    "# Express your answer as a list of tuples, where each element of the\n",
    "# list represents a node, and the order of the list matches the order\n",
    "# in which nodes are added (e.g., [(1,2), (2,2), ...]). If the algorithm\n",
    "# has terminated, set the value to an empty list []\n",
    "q_111 = [(0, 1), (1, 0)]"
   ]
  },
  {
   "cell_type": "markdown",
   "id": "d6457a43-fafe-4b74-93d1-3fbdf009a45b",
   "metadata": {
    "deletable": false,
    "editable": false
   },
   "source": [
    "After the first step, what are the contents of the parents directory (i.e., after extracting the first node `v_111` and adding its neighbors to the queue, what are each visited node's parents)? \n",
    "\n",
    "_Points:_ 0.5"
   ]
  },
  {
   "cell_type": "code",
   "execution_count": 143,
   "id": "772b2017-645e-4a70-b827-88d760affda1",
   "metadata": {
    "tags": [
     "otter_answer_cell"
    ]
   },
   "outputs": [],
   "source": [
    "# Express your answer as a dictionary mapping tuples (representing child nodes) to\n",
    "# tuples (representing parent nodes) (e.g., {(0,0): None, (2,1): (a,b)} where (a,b) in \n",
    "# this example is the parent of (2,1)). If the algorithm has terminated, set the value\n",
    "# to the latest parents dictionary\n",
    "p_111 = {(0, 0): None, (0, 1): (0, 0), (1, 0):(0, 0)} "
   ]
  },
  {
   "cell_type": "markdown",
   "id": "6a953168-6a6d-4983-b89a-99ee0670dbe7",
   "metadata": {
    "deletable": false,
    "editable": false
   },
   "source": [
    "#### 1.1.2)\n",
    "\n",
    "In the second step, what is the current node inspected by the algorithm (i.e., the node extracted from the queue `q` at the second iteration)?\n",
    "\n",
    "_Points:_ 0.5"
   ]
  },
  {
   "cell_type": "code",
   "execution_count": 144,
   "id": "6f336834-b18e-4ed8-bce1-cb6951e8ddd4",
   "metadata": {
    "tags": [
     "otter_answer_cell"
    ]
   },
   "outputs": [],
   "source": [
    "# Express your answer as a tuple representing the node (e.g., (2,3)). If the algorithm has terminated, set the value to None.\n",
    "v_112 = (0, 1)"
   ]
  },
  {
   "cell_type": "markdown",
   "id": "ea951322-2326-4b3d-b248-28d1a11e08d1",
   "metadata": {
    "deletable": false,
    "editable": false
   },
   "source": [
    "After the second step, what are the contents of the queue (i.e., after extracting the second node `v_112` and adding its neighbors to the queue, what is the current state of the queue `q`)? \n",
    "\n",
    "_Points:_ 0.5"
   ]
  },
  {
   "cell_type": "code",
   "execution_count": 145,
   "id": "54518fcb-d8cd-4e5e-a1fe-7c25f0f49d19",
   "metadata": {
    "tags": [
     "otter_answer_cell"
    ]
   },
   "outputs": [],
   "source": [
    "# Express your answer as a list of tuples, where each element of the\n",
    "# list represents a node, and the order of the list matches the order\n",
    "# in which nodes are added (e.g., [(1,2), (2,2), ...]). If the algorithm\n",
    "# has terminated, set the value to an empty list []\n",
    "q_112 = [(1, 0), (0, 2), (1, 1)]"
   ]
  },
  {
   "cell_type": "markdown",
   "id": "e64e9650-9be9-456c-a12c-7a722a503861",
   "metadata": {
    "deletable": false,
    "editable": false
   },
   "source": [
    "After the second step, what are the contents of the parents directory (i.e., after extracting the second node `v_112` and adding its neighbors to the queue, what are each visited node's parents)? \n",
    "\n",
    "_Points:_ 0.5"
   ]
  },
  {
   "cell_type": "code",
   "execution_count": 146,
   "id": "3fc94c66-058f-4f4d-92c0-23e9ddddb758",
   "metadata": {
    "tags": [
     "otter_answer_cell"
    ]
   },
   "outputs": [],
   "source": [
    "# Express your answer as a dictionary mapping tuples (representing child nodes) to\n",
    "# tuples (representing parent nodes) (e.g., {(0,0): None, (2,1): (a,b)} where (a,b) in \n",
    "# this example is the parent of (2,1)). If the algorithm has terminated, set the value\n",
    "# to the latest parents dictionary\n",
    "p_112 = {(0, 0): None, (0, 1): (0, 0), (1, 0):(0, 0), (0, 2):(0, 1), (1, 1):(0, 1)}"
   ]
  },
  {
   "cell_type": "markdown",
   "id": "c2ece98f-54c6-43f6-aa05-bf86c76682c8",
   "metadata": {
    "deletable": false,
    "editable": false
   },
   "source": [
    "#### 1.1.3)\n",
    "\n",
    "In the third step, what is the current node inspected by the algorithm (i.e., the node extracted from the queue `q` at the third iteration)?\n",
    "\n",
    "_Points:_ 0.5"
   ]
  },
  {
   "cell_type": "code",
   "execution_count": 147,
   "id": "3b940cd1-d7c6-4d35-8023-7de0a6282840",
   "metadata": {
    "tags": [
     "otter_answer_cell"
    ]
   },
   "outputs": [],
   "source": [
    "# Express your answer as a tuple representing the node (e.g., (2,3)). If the algorithm has terminated, set the value to None.\n",
    "v_113 = (1, 0)"
   ]
  },
  {
   "cell_type": "markdown",
   "id": "dc64b436-4f8c-4065-a362-4a4b67307a7d",
   "metadata": {
    "deletable": false,
    "editable": false
   },
   "source": [
    "After the third step, what are the contents of the queue (i.e., after extracting the third node `v_113` and adding its neighbors to the queue, what is the current state of the queue `q`)? \n",
    "\n",
    "_Points:_ 0.5"
   ]
  },
  {
   "cell_type": "code",
   "execution_count": 148,
   "id": "6a617a00-80ee-4c9b-b3f9-f5000ee836e3",
   "metadata": {
    "tags": [
     "otter_answer_cell"
    ]
   },
   "outputs": [],
   "source": [
    "# Express your answer as a list of tuples, where each element of the\n",
    "# list represents a node, and the order of the list matches the order\n",
    "# in which nodes are added (e.g., [(1,2), (2,2), ...]). If the algorithm\n",
    "# has terminated, set the value to an empty list []\n",
    "q_113 = [(0, 2), (1, 1), (2, 0)]"
   ]
  },
  {
   "cell_type": "markdown",
   "id": "d56d8e4c-7364-40a3-8814-1c975b9c495b",
   "metadata": {
    "deletable": false,
    "editable": false
   },
   "source": [
    "After the third step, what are the contents of the parents directory (i.e., after extracting the third node `v_113` and adding its neighbors to the queue, what are each visited node's parents)? \n",
    "\n",
    "_Points:_ 0.5"
   ]
  },
  {
   "cell_type": "code",
   "execution_count": 149,
   "id": "64cc69ac-a5a2-4761-86d4-219d9a97af6f",
   "metadata": {
    "tags": [
     "otter_answer_cell"
    ]
   },
   "outputs": [],
   "source": [
    "# Express your answer as a dictionary mapping tuples (representing child nodes) to\n",
    "# tuples (representing parent nodes) (e.g., {(0,0): None, (2,1): (a,b)} where (a,b) in \n",
    "# this example is the parent of (2,1)). If the algorithm has terminated, set the value\n",
    "# to the latest parents dictionary\n",
    "p_113 = {(0, 0): None, (0, 1): (0, 0), (1, 0):(0, 0), (0, 2):(0, 1), (1, 1):(0, 1), (2, 0):(1, 0)}"
   ]
  },
  {
   "cell_type": "markdown",
   "id": "4e9f0c2d-5a65-4f90-8aa6-b6ac71209b2c",
   "metadata": {
    "deletable": false,
    "editable": false
   },
   "source": [
    "#### 1.1.4)\n",
    "\n",
    "In the fourth step, what is the current node inspected by the algorithm (i.e., the node extracted from the queue `q` at the fourth iteration)?\n",
    "\n",
    "_Points:_ 0.5"
   ]
  },
  {
   "cell_type": "code",
   "execution_count": 150,
   "id": "e2659977-8e4c-44d6-aba8-716b7ff43bc3",
   "metadata": {
    "tags": [
     "otter_answer_cell"
    ]
   },
   "outputs": [],
   "source": [
    "# Express your answer as a tuple representing the node (e.g., (2,3)). If the algorithm has terminated, set the value to None.\n",
    "v_114 = (0, 2)"
   ]
  },
  {
   "cell_type": "markdown",
   "id": "76695164-55fe-45b5-a3e1-0121d2a22736",
   "metadata": {
    "deletable": false,
    "editable": false
   },
   "source": [
    "After the fourth step, what are the contents of the queue (i.e., after extracting the fourth node `v_114` and adding its neighbors to the queue, what is the current state of the queue `q`)? \n",
    "\n",
    "_Points:_ 0.5"
   ]
  },
  {
   "cell_type": "code",
   "execution_count": 151,
   "id": "f48a47c0-5951-45df-96dd-f6ced1a3beb9",
   "metadata": {
    "tags": [
     "otter_answer_cell"
    ]
   },
   "outputs": [],
   "source": [
    "# Express your answer as a list of tuples, where each element of the\n",
    "# list represents a node, and the order of the list matches the order\n",
    "# in which nodes are added (e.g., [(1,2), (2,2), ...]). If the algorithm\n",
    "# has terminated, set the value to an empty list []\n",
    "q_114 = [(1, 1), (2, 0), (1, 2)]"
   ]
  },
  {
   "cell_type": "markdown",
   "id": "fa4da005-2074-4702-b6e0-02e28c954c2b",
   "metadata": {
    "deletable": false,
    "editable": false
   },
   "source": [
    "After the fourth step, what are the contents of the parents directory (i.e., after extracting the fourth node `v_114` and adding its neighbors to the queue, what are each visited node's parents)? \n",
    "\n",
    "_Points:_ 0.5"
   ]
  },
  {
   "cell_type": "code",
   "execution_count": 152,
   "id": "1f5fc497-6434-451b-aaee-01e15bc49b0f",
   "metadata": {
    "tags": [
     "otter_answer_cell"
    ]
   },
   "outputs": [],
   "source": [
    "# Express your answer as a dictionary mapping tuples (representing child nodes) to\n",
    "# tuples (representing parent nodes) (e.g., {(0,0): None, (2,1): (a,b)} where (a,b) in \n",
    "# this example is the parent of (2,1)). If the algorithm has terminated, set the value\n",
    "# to the latest parents dictionary\n",
    "p_114 = {(0, 0): None, (0, 1): (0, 0), (1, 0):(0, 0), (0, 2):(0, 1), (1, 1):(0, 1), (2, 0):(1, 0), (1, 2):(0, 2)}"
   ]
  },
  {
   "cell_type": "markdown",
   "id": "e121b856-967e-4532-bb57-1ee40630a1e7",
   "metadata": {
    "deletable": false,
    "editable": false
   },
   "source": [
    "#### 1.1.5)\n",
    "\n",
    "In the fifth step, what is the current node inspected by the algorithm (i.e., the node extracted from the queue `q` at the fifth iteration)?\n",
    "\n",
    "_Points:_ 0.5"
   ]
  },
  {
   "cell_type": "code",
   "execution_count": 153,
   "id": "6317b3ea-deab-417d-9d6d-4c3ff8164789",
   "metadata": {
    "tags": [
     "otter_answer_cell"
    ]
   },
   "outputs": [],
   "source": [
    "# Express your answer as a tuple representing the node (e.g., (2,3)). If the algorithm has terminated, set the value to None.\n",
    "v_115 = (1, 1)"
   ]
  },
  {
   "cell_type": "markdown",
   "id": "379dc026-e253-4823-bc88-65635aa431dc",
   "metadata": {
    "deletable": false,
    "editable": false
   },
   "source": [
    "After the fifth step, what are the contents of the queue (i.e., after extracting the fifth node `v_115` and adding its neighbors to the queue, what is the current state of the queue `q`)? \n",
    "\n",
    "_Points:_ 0.5"
   ]
  },
  {
   "cell_type": "code",
   "execution_count": 154,
   "id": "1cbafa9d-84f8-478b-89ea-9be7df41c461",
   "metadata": {
    "tags": [
     "otter_answer_cell"
    ]
   },
   "outputs": [],
   "source": [
    "# Express your answer as a list of tuples, where each element of the\n",
    "# list represents a node, and the order of the list matches the order\n",
    "# in which nodes are added (e.g., [(1,2), (2,2), ...]). If the algorithm\n",
    "# has terminated, set the value to an empty list []\n",
    "q_115 = [(2, 0), (1, 2), (2, 1)]"
   ]
  },
  {
   "cell_type": "markdown",
   "id": "eac5abf4-4a2e-475c-bcf0-0759f857b5bd",
   "metadata": {
    "deletable": false,
    "editable": false
   },
   "source": [
    "After the fifth step, what are the contents of the parents directory (i.e., after extracting the fifth node `v_115` and adding its neighbors to the queue, what are each visited node's parents)? \n",
    "\n",
    "_Points:_ 0.5"
   ]
  },
  {
   "cell_type": "code",
   "execution_count": 155,
   "id": "c1ffe8a1-12bb-49fc-af83-9d62c8d28dd5",
   "metadata": {
    "tags": [
     "otter_answer_cell"
    ]
   },
   "outputs": [],
   "source": [
    "# Express your answer as a dictionary mapping tuples (representing child nodes) to\n",
    "# tuples (representing parent nodes) (e.g., {(0,0): None, (2,1): (a,b)} where (a,b) in \n",
    "# this example is the parent of (2,1)). If the algorithm has terminated, set the value\n",
    "# to the latest parents dictionary\n",
    "p_115 = {(0, 0): None, (0, 1): (0, 0), (1, 0):(0, 0), (0, 2):(0, 1), (1, 1):(0, 1), (2, 0):(1, 0), (1, 2):(0, 2), (2, 1):(1, 1)}"
   ]
  },
  {
   "cell_type": "markdown",
   "id": "875d70f4-0970-40ae-aa1e-5c1619b3820d",
   "metadata": {
    "deletable": false,
    "editable": false
   },
   "source": [
    "#### 1.1.6)\n",
    "\n",
    "In the sixth step, what is the current node inspected by the algorithm (i.e., the node extracted from the queue `q` at the sixth iteration)?\n",
    "\n",
    "_Points:_ 0.5"
   ]
  },
  {
   "cell_type": "code",
   "execution_count": 156,
   "id": "ad671f39-e628-4918-be87-c9e992e8ee2d",
   "metadata": {
    "tags": [
     "otter_answer_cell"
    ]
   },
   "outputs": [],
   "source": [
    "# Express your answer as a tuple representing the node (e.g., (2,3)). If the algorithm has terminated, set the value to None.\n",
    "v_116 = (2, 0)"
   ]
  },
  {
   "cell_type": "markdown",
   "id": "9766d0fe-fd5f-4b60-9cfd-e3952a2443fb",
   "metadata": {
    "deletable": false,
    "editable": false
   },
   "source": [
    "After the sixth step, what are the contents of the queue (i.e., after extracting the sixth node `v_116` and adding its neighbors to the queue, what is the current state of the queue `q`)? \n",
    "\n",
    "_Points:_ 0.5"
   ]
  },
  {
   "cell_type": "code",
   "execution_count": 157,
   "id": "872fdd3a-510c-424d-858e-cc7df85ff2e9",
   "metadata": {
    "tags": [
     "otter_answer_cell"
    ]
   },
   "outputs": [],
   "source": [
    "# Express your answer as a list of tuples, where each element of the\n",
    "# list represents a node, and the order of the list matches the order\n",
    "# in which nodes are added (e.g., [(1,2), (2,2), ...]). If the algorithm\n",
    "# has terminated, set the value to an empty list []\n",
    "q_116 = [(1, 2), (2, 1)]"
   ]
  },
  {
   "cell_type": "markdown",
   "id": "a8c66b42-7e3f-4420-9421-8912c908fa67",
   "metadata": {
    "deletable": false,
    "editable": false
   },
   "source": [
    "After the sixth step, what are the contents of the parents directory (i.e., after extracting the sixth node `v_116` and adding its neighbors to the queue, what are each visited node's parents)? \n",
    "\n",
    "_Points:_ 0.5"
   ]
  },
  {
   "cell_type": "code",
   "execution_count": 158,
   "id": "35b356aa-c432-41a3-a8a0-ddabe7e13fa2",
   "metadata": {
    "tags": [
     "otter_answer_cell"
    ]
   },
   "outputs": [],
   "source": [
    "# Express your answer as a dictionary mapping tuples (representing child nodes) to\n",
    "# tuples (representing parent nodes) (e.g., {(0,0): None, (2,1): (a,b)} where (a,b) in \n",
    "# this example is the parent of (2,1)). If the algorithm has terminated, set the value\n",
    "# to the latest parents dictionary\n",
    "p_116 = {(0, 0): None, (0, 1): (0, 0), (1, 0):(0, 0), (0, 2):(0, 1), (1, 1):(0, 1), (2, 0):(1, 0), (1, 2):(0, 2), (2, 1):(1, 1)}"
   ]
  },
  {
   "cell_type": "markdown",
   "id": "f62c3a56-8574-4b9b-a75c-5bd73212dd6b",
   "metadata": {
    "deletable": false,
    "editable": false
   },
   "source": [
    "#### 1.1.7)\n",
    "\n",
    "In the seventh step, what is the current node inspected by the algorithm (i.e., the node extracted from the queue `q` at the seventh iteration)?\n",
    "\n",
    "_Points:_ 0.5"
   ]
  },
  {
   "cell_type": "code",
   "execution_count": 159,
   "id": "9699d8d5-b1fd-43d0-bb3b-d8382e8885c8",
   "metadata": {
    "tags": [
     "otter_answer_cell"
    ]
   },
   "outputs": [],
   "source": [
    "# Express your answer as a tuple representing the node (e.g., (2,3)). If the algorithm has terminated, set the value to None.\n",
    "v_117 = (1, 2)"
   ]
  },
  {
   "cell_type": "markdown",
   "id": "a95143fc-6c0a-41d9-83a1-49ce857aba53",
   "metadata": {
    "deletable": false,
    "editable": false
   },
   "source": [
    "After the seventh step, what are the contents of the queue (i.e., after extracting the seventh node `v_117` and adding its neighbors to the queue, what is the current state of the queue `q`)? \n",
    "\n",
    "_Points:_ 0.5"
   ]
  },
  {
   "cell_type": "code",
   "execution_count": 160,
   "id": "f2e5826d-5b4e-49c9-9fe2-b12f72e7efa4",
   "metadata": {
    "tags": [
     "otter_answer_cell"
    ]
   },
   "outputs": [],
   "source": [
    "# Express your answer as a list of tuples, where each element of the\n",
    "# list represents a node, and the order of the list matches the order\n",
    "# in which nodes are added (e.g., [(1,2), (2,2), ...]). If the algorithm\n",
    "# has terminated, set the value to an empty list []\n",
    "q_117 = [(2, 1), (2, 2)]"
   ]
  },
  {
   "cell_type": "markdown",
   "id": "f17b32e6-f678-4799-aa89-6b9d1f1371f8",
   "metadata": {
    "deletable": false,
    "editable": false
   },
   "source": [
    "After the seventh step, what are the contents of the parents directory (i.e., after extracting the seventh node `v_117` and adding its neighbors to the queue, what are each visited node's parents)? \n",
    "\n",
    "_Points:_ 0.5"
   ]
  },
  {
   "cell_type": "code",
   "execution_count": 161,
   "id": "76018e38-9a86-479c-b78a-2a42eccf5f06",
   "metadata": {
    "tags": [
     "otter_answer_cell"
    ]
   },
   "outputs": [],
   "source": [
    "# Express your answer as a dictionary mapping tuples (representing child nodes) to\n",
    "# tuples (representing parent nodes) (e.g., {(0,0): None, (2,1): (a,b)} where (a,b) in \n",
    "# this example is the parent of (2,1)). If the algorithm has terminated, set the value\n",
    "# to the latest parents dictionary\n",
    "p_117 = {(0, 0): None, (0, 1): (0, 0), (1, 0):(0, 0), (0, 2):(0, 1), (1, 1):(0, 1), (2, 0):(1, 0), (1, 2):(0, 2), (2, 1):(1, 1), (2, 2):(1, 2)}"
   ]
  },
  {
   "cell_type": "markdown",
   "id": "6a95ef13-e5b8-456d-a124-af781e902f97",
   "metadata": {
    "deletable": false,
    "editable": false
   },
   "source": [
    "#### 1.1.8)\n",
    "\n",
    "In the eihgth step, what is the current node inspected by the algorithm (i.e., the node extracted from the queue `q` at the eighth iteration)?\n",
    "\n",
    "_Points:_ 0.5"
   ]
  },
  {
   "cell_type": "code",
   "execution_count": 162,
   "id": "a47fff96-b555-48ae-ae95-5b40dc178c84",
   "metadata": {
    "tags": [
     "otter_answer_cell"
    ]
   },
   "outputs": [],
   "source": [
    "# Express your answer as a tuple representing the node (e.g., (2,3)). If the algorithm has terminated, set the value to None.\n",
    "v_118 = (2, 1)"
   ]
  },
  {
   "cell_type": "markdown",
   "id": "56907ef2-b0b1-4964-ba06-e2de1a5df467",
   "metadata": {
    "deletable": false,
    "editable": false
   },
   "source": [
    "After the eighth step, what are the contents of the queue (i.e., after extracting the eighth node `v_118` and adding its neighbors to the queue, what is the current state of the queue `q`)? \n",
    "\n",
    "_Points:_ 0.5"
   ]
  },
  {
   "cell_type": "code",
   "execution_count": 163,
   "id": "e287f0d7-cdea-46ed-9801-7d4e134366e9",
   "metadata": {
    "tags": [
     "otter_answer_cell"
    ]
   },
   "outputs": [],
   "source": [
    "# Express your answer as a list of tuples, where each element of the\n",
    "# list represents a node, and the order of the list matches the order\n",
    "# in which nodes are added (e.g., [(1,2), (2,2), ...]). If the algorithm\n",
    "# has terminated, set the value to an empty list []\n",
    "q_118 = [(2, 2)]"
   ]
  },
  {
   "cell_type": "markdown",
   "id": "b507dd35-bfa6-4286-894d-e86ed39b81f3",
   "metadata": {
    "deletable": false,
    "editable": false
   },
   "source": [
    "After the eihgth step, what are the contents of the parents directory (i.e., after extracting the eighth node `v_118` and adding its neighbors to the queue, what are each visited node's parents)? \n",
    "\n",
    "_Points:_ 0.5"
   ]
  },
  {
   "cell_type": "code",
   "execution_count": 164,
   "id": "9d9e593c-b997-4fc9-bb17-edb685604ea7",
   "metadata": {
    "tags": [
     "otter_answer_cell"
    ]
   },
   "outputs": [],
   "source": [
    "# Express your answer as a dictionary mapping tuples (representing child nodes) to\n",
    "# tuples (representing parent nodes) (e.g., {(0,0): None, (2,1): (a,b)} where (a,b) in \n",
    "# this example is the parent of (2,1)). If the algorithm has terminated, set the value\n",
    "# to the latest parents dictionary\n",
    "p_118 = {(0, 0): None, (0, 1): (0, 0), (1, 0):(0, 0), (0, 2):(0, 1), (1, 1):(0, 1), (2, 0):(1, 0), (1, 2):(0, 2), (2, 1):(1, 1), (2, 2):(1, 2)}"
   ]
  },
  {
   "cell_type": "markdown",
   "id": "dc8ad634-ae0a-49c4-87b1-eb85550dfd80",
   "metadata": {
    "deletable": false,
    "editable": false
   },
   "source": [
    "#### 1.1.9)\n",
    "\n",
    "In the ninth step, what is the current node inspected by the algorithm (i.e., the node extracted from the queue `q` at the ninth iteration)?\n",
    "\n",
    "_Points:_ 0.5"
   ]
  },
  {
   "cell_type": "code",
   "execution_count": 165,
   "id": "b3c147f8-9764-4903-91ce-e74ef77163dd",
   "metadata": {
    "tags": [
     "otter_answer_cell"
    ]
   },
   "outputs": [],
   "source": [
    "# Express your answer as a tuple representing the node (e.g., (2,3)). If the algorithm has terminated, set the value to None.\n",
    "v_119 = (2, 2)"
   ]
  },
  {
   "cell_type": "markdown",
   "id": "5d2fd351-132d-40e5-b036-e12eb7ac0680",
   "metadata": {
    "deletable": false,
    "editable": false
   },
   "source": [
    "After the ninth step, what are the contents of the queue (i.e., after extracting the ninth node `v_119` and adding its neighbors to the queue, what is the current state of the queue `q`)? \n",
    "\n",
    "_Points:_ 0.5"
   ]
  },
  {
   "cell_type": "code",
   "execution_count": 166,
   "id": "a4b752c7-f303-4aac-8ce3-f627b6b70656",
   "metadata": {
    "tags": [
     "otter_answer_cell"
    ]
   },
   "outputs": [],
   "source": [
    "# Express your answer as a list of tuples, where each element of the\n",
    "# list represents a node, and the order of the list matches the order\n",
    "# in which nodes are added (e.g., [(1,2), (2,2), ...]). If the algorithm\n",
    "# has terminated, set the value to an empty list []\n",
    "q_119 = []"
   ]
  },
  {
   "cell_type": "markdown",
   "id": "f8625db7-ee3a-4786-97fa-3a04436b3602",
   "metadata": {
    "deletable": false,
    "editable": false
   },
   "source": [
    "After the ninth step, what are the contents of the parents directory (i.e., after extracting the ninth node `v_119` and adding its neighbors to the queue, what are each visited node's parents)? \n",
    "\n",
    "_Points:_ 0.5"
   ]
  },
  {
   "cell_type": "code",
   "execution_count": 167,
   "id": "9ddcaeed-4666-47d9-8a55-c8b7a241045a",
   "metadata": {
    "tags": [
     "otter_answer_cell"
    ]
   },
   "outputs": [],
   "source": [
    "# Express your answer as a dictionary mapping tuples (representing child nodes) to\n",
    "# tuples (representing parent nodes) (e.g., {(0,0): None, (2,1): (a,b)} where (a,b) in \n",
    "# this example is the parent of (2,1)). If the algorithm has terminated, set the value\n",
    "# to the latest parents dictionary\n",
    "p_119 = {(0, 0): None, (0, 1): (0, 0), (1, 0):(0, 0), (0, 2):(0, 1), (1, 1):(0, 1), (2, 0):(1, 0), (1, 2):(0, 2), (2, 1):(1, 1), (2, 2):(1, 2)}"
   ]
  },
  {
   "cell_type": "markdown",
   "id": "87ce6f05-cd47-4375-942d-eac2bc65ac0c",
   "metadata": {
    "deletable": false,
    "editable": false
   },
   "source": [
    "#### 1.1.10)\n",
    "\n",
    "When BFS succeeds, we can find a plan by tracing back the parents in the `p` dictionary. In particular, we find the goal node's parent, then the parent's parent, and so on, until we reach the start state, and then we revert this path. What is the path found by BFS for this problem?\n",
    "\n",
    "_Points:_ 1.5"
   ]
  },
  {
   "cell_type": "code",
   "execution_count": 168,
   "id": "356026b1-8802-4fa6-8959-7fb3a6e55235",
   "metadata": {
    "tags": [
     "otter_answer_cell"
    ]
   },
   "outputs": [],
   "source": [
    "# Express your answer as a list of tuples starting from the start state and ending in the goal state. If no plan is found, set the plan to []\n",
    "plan_1110 = [(0, 0), (0, 1), (0, 2), (1, 2), (2, 2)]"
   ]
  },
  {
   "cell_type": "markdown",
   "id": "102adaf6-bd72-4065-92cb-45458b6917cb",
   "metadata": {},
   "source": [
    "\n",
    "### 1.2) DFS (9 pts)\n",
    "\n",
    "We are going to manually trace the DFS algorithm and list the order in which nodes are visited. We will start from a stack that contains a single element, the starting node:\n",
    "```\n",
    "s = [(0,0)]\n",
    "```\n",
    "And a parent list that contains `None` for the start state's parent:\n",
    "```\n",
    "p = {(0,0): None}\n",
    "```\n",
    "Each question below will ask you to add the current node's neighbors to the stack and add the parent of each new node to the `p` dictionary.\n",
    "\n",
    "**Throughout this question, assume that when looping through neighbors of a node, the nodes are sorted based on their first coordinate, and ties are broken by the second coordinate (e.g., (0,1) comes before (1,0); (0,2) comes before (1,1); (0,1) comes before (0,2)).**\n"
   ]
  },
  {
   "cell_type": "markdown",
   "id": "9452e447-9d63-49f5-ba0d-c3a548428ca9",
   "metadata": {
    "deletable": false,
    "editable": false
   },
   "source": [
    "#### 1.2.1)\n",
    "\n",
    "In the first step, what is the current node inspected by the algorithm (i.e., the node extracted from the queue `q` at the first iteration)?\n",
    "\n",
    "_Points:_ 0.5"
   ]
  },
  {
   "cell_type": "code",
   "execution_count": 169,
   "id": "ec9e7875-2062-46d7-9c97-2bfaa1b86d72",
   "metadata": {
    "tags": [
     "otter_answer_cell"
    ]
   },
   "outputs": [],
   "source": [
    "# Express your answer as a tuple representing the node (e.g., (2,3)). If the algorithm has terminated, set the value to None.\n",
    "v_121 = (0, 0)"
   ]
  },
  {
   "cell_type": "markdown",
   "id": "6c9175ff-b4b5-49ce-bb67-33820ac18ef9",
   "metadata": {
    "deletable": false,
    "editable": false
   },
   "source": [
    "After the first step, what are the contents of the stack (i.e., after extracting the first node `v_121` and adding its neighbors to the stack, what is the current state of the stack `s`)? \n",
    "\n",
    "_Points:_ 0.5"
   ]
  },
  {
   "cell_type": "code",
   "execution_count": 170,
   "id": "371b12c2-df14-496e-ab38-f5e18086b735",
   "metadata": {
    "tags": [
     "otter_answer_cell"
    ]
   },
   "outputs": [],
   "source": [
    "# Express your answer as a list of tuples, where each element of the\n",
    "# list represents a node, and the order of the list matches the order\n",
    "# in which nodes are added (e.g., [(1,2), (2,2), ...]). If the algorithm\n",
    "# has terminated, set the value to an empty list []\n",
    "s_121 = [(0, 1), (1, 0)]"
   ]
  },
  {
   "cell_type": "markdown",
   "id": "a77be513-d403-4da9-a744-5f635cfa286f",
   "metadata": {
    "deletable": false,
    "editable": false
   },
   "source": [
    "After the first step, what are the contents of the parents directory (i.e., after extracting the first node `v_121` and adding its neighbors to the stack, what are each visited node's parents)? \n",
    "\n",
    "_Points:_ 0.5"
   ]
  },
  {
   "cell_type": "code",
   "execution_count": 171,
   "id": "46698c0d-bd03-4a32-bd20-94d93d16a40b",
   "metadata": {
    "tags": [
     "otter_answer_cell"
    ]
   },
   "outputs": [],
   "source": [
    "# Express your answer as a dictionary mapping tuples (representing child nodes) to\n",
    "# tuples (representing parent nodes) (e.g., {(0,0): None, (2,1): (a,b)} where (a,b) in \n",
    "# this example is the parent of (2,1)). If the algorithm has terminated, set the value\n",
    "# to the latest parents dictionary\n",
    "p_121 = {(0, 0): None, (0, 1): (0, 0), (1, 0): (0, 0)}"
   ]
  },
  {
   "cell_type": "markdown",
   "id": "bff7c054-3806-4596-9dfd-a84228693f04",
   "metadata": {
    "deletable": false,
    "editable": false
   },
   "source": [
    "#### 1.2.2)\n",
    "\n",
    "In the second step, what is the current node inspected by the algorithm (i.e., the node extracted from the stack `s` at the second iteration)?\n",
    "\n",
    "_Points:_ 0.5"
   ]
  },
  {
   "cell_type": "code",
   "execution_count": 172,
   "id": "69f9bc30-a312-4af9-82d1-6c3da08cf477",
   "metadata": {
    "tags": [
     "otter_answer_cell"
    ]
   },
   "outputs": [],
   "source": [
    "# Express your answer as a tuple representing the node (e.g., (2,3)). If the algorithm has terminated, set the value to None.\n",
    "v_122 = (1, 0)"
   ]
  },
  {
   "cell_type": "markdown",
   "id": "50c67106-fa1e-4396-875c-7a9255031ae9",
   "metadata": {
    "deletable": false,
    "editable": false
   },
   "source": [
    "After the second step, what are the contents of the stack (i.e., after extracting the second node `v_122` and adding its neighbors to the stack, what is the current state of the stack `2`)? \n",
    "\n",
    "_Points:_ 0.5"
   ]
  },
  {
   "cell_type": "code",
   "execution_count": 173,
   "id": "9cc8b82f-ac2c-406f-8148-664702b1e6e6",
   "metadata": {
    "tags": [
     "otter_answer_cell"
    ]
   },
   "outputs": [],
   "source": [
    "# Express your answer as a list of tuples, where each element of the\n",
    "# list represents a node, and the order of the list matches the order\n",
    "# in which nodes are added (e.g., [(1,2), (2,2), ...]). If the algorithm\n",
    "# has terminated, set the value to an empty list []\n",
    "s_122 = [(0, 1), (1, 1), (2, 0)]"
   ]
  },
  {
   "cell_type": "markdown",
   "id": "875b250b-e54a-42c6-aa73-51dd3ffd8e08",
   "metadata": {
    "deletable": false,
    "editable": false
   },
   "source": [
    "After the second step, what are the contents of the parents directory (i.e., after extracting the second node `v_122` and adding its neighbors to the stack, what are each visited node's parents)? \n",
    "\n",
    "_Points:_ 0.5"
   ]
  },
  {
   "cell_type": "code",
   "execution_count": 174,
   "id": "d36bd719-bc3f-44f5-b7b2-69e37dfdc533",
   "metadata": {
    "tags": [
     "otter_answer_cell"
    ]
   },
   "outputs": [],
   "source": [
    "# Express your answer as a dictionary mapping tuples (representing child nodes) to\n",
    "# tuples (representing parent nodes) (e.g., {(0,0): None, (2,1): (a,b)} where (a,b) in \n",
    "# this example is the parent of (2,1)). If the algorithm has terminated, set the value\n",
    "# to the latest parents dictionary\n",
    "p_122 = {(0, 0): None, (0, 1): (0, 0), (1, 0): (0, 0), (1, 1): (1, 0), (2, 0): (1, 0)}"
   ]
  },
  {
   "cell_type": "markdown",
   "id": "f2e5ea90-aa1b-49c6-afdf-a140e71b42d7",
   "metadata": {
    "deletable": false,
    "editable": false
   },
   "source": [
    "#### 1.2.3)\n",
    "\n",
    "In the third step, what is the current node inspected by the algorithm (i.e., the node extracted from the stack `s` at the third iteration)?\n",
    "\n",
    "_Points:_ 0.5"
   ]
  },
  {
   "cell_type": "code",
   "execution_count": 175,
   "id": "112c38e9-5a35-4931-af09-35f229364dac",
   "metadata": {
    "tags": [
     "otter_answer_cell"
    ]
   },
   "outputs": [],
   "source": [
    "# Express your answer as a tuple representing the node (e.g., (2,3)). If the algorithm has terminated, set the value to None.\n",
    "v_123 = (2, 0)"
   ]
  },
  {
   "cell_type": "markdown",
   "id": "e2c605d2-c0e7-40f3-924d-68ade7719aed",
   "metadata": {
    "deletable": false,
    "editable": false
   },
   "source": [
    "After the third step, what are the contents of the stack (i.e., after extracting the third node `v_123` and adding its neighbors to the stack, what is the current state of the stack `s`)? \n",
    "\n",
    "_Points:_ 0.5"
   ]
  },
  {
   "cell_type": "code",
   "execution_count": 176,
   "id": "b8941809-0419-4d68-97e1-3146e9153b42",
   "metadata": {
    "tags": [
     "otter_answer_cell"
    ]
   },
   "outputs": [],
   "source": [
    "# Express your answer as a list of tuples, where each element of the\n",
    "# list represents a node, and the order of the list matches the order\n",
    "# in which nodes are added (e.g., [(1,2), (2,2), ...]). If the algorithm\n",
    "# has terminated, set the value to an empty list []\n",
    "s_123 = [(0, 1), (1, 1), (2, 1)]"
   ]
  },
  {
   "cell_type": "markdown",
   "id": "913ed9ab-0b95-4ebc-bba8-888362dda801",
   "metadata": {
    "deletable": false,
    "editable": false
   },
   "source": [
    "After the third step, what are the contents of the parents directory (i.e., after extracting the third node `v_113` and adding its neighbors to the stack, what are each visited node's parents)? \n",
    "\n",
    "_Points:_ 0.5"
   ]
  },
  {
   "cell_type": "code",
   "execution_count": 177,
   "id": "3fce4bdb-ac8f-4c59-a786-f77a048b0591",
   "metadata": {
    "tags": [
     "otter_answer_cell"
    ]
   },
   "outputs": [],
   "source": [
    "# Express your answer as a dictionary mapping tuples (representing child nodes) to\n",
    "# tuples (representing parent nodes) (e.g., {(0,0): None, (2,1): (a,b)} where (a,b) in \n",
    "# this example is the parent of (2,1)). If the algorithm has terminated, set the value\n",
    "# to the latest parents dictionary\n",
    "p_123 = {(0, 0): None, (0, 1): (0, 0), (1, 0): (0, 0), (1, 1): (1, 0), (2, 0): (1, 0), (2, 1): (2, 0)}"
   ]
  },
  {
   "cell_type": "markdown",
   "id": "898cb3be-ad30-4579-bfe9-893e17e4695d",
   "metadata": {
    "deletable": false,
    "editable": false
   },
   "source": [
    "#### 1.2.4)\n",
    "\n",
    "In the fourth step, what is the current node inspected by the algorithm (i.e., the node extracted from the stack `s` at the fourth iteration)?\n",
    "\n",
    "_Points:_ 0.5"
   ]
  },
  {
   "cell_type": "code",
   "execution_count": 178,
   "id": "fc1a3bc6-c63c-477c-b571-0d3425bc9df6",
   "metadata": {
    "tags": [
     "otter_answer_cell"
    ]
   },
   "outputs": [],
   "source": [
    "# Express your answer as a tuple representing the node (e.g., (2,3)). If the algorithm has terminated, set the value to None.\n",
    "v_124 = (2, 1)"
   ]
  },
  {
   "cell_type": "markdown",
   "id": "bc62e5e2-8fb6-4c6f-9f72-f95b014969b1",
   "metadata": {
    "deletable": false,
    "editable": false
   },
   "source": [
    "After the fourth step, what are the contents of the stack (i.e., after extracting the fourth node `v_124` and adding its neighbors to the stack, what is the current state of the stack `s`)? \n",
    "\n",
    "_Points:_ 0.5"
   ]
  },
  {
   "cell_type": "code",
   "execution_count": 179,
   "id": "e893b2e6-d0ef-44b6-a957-8ffd85e688a5",
   "metadata": {
    "tags": [
     "otter_answer_cell"
    ]
   },
   "outputs": [],
   "source": [
    "# Express your answer as a list of tuples, where each element of the\n",
    "# list represents a node, and the order of the list matches the order\n",
    "# in which nodes are added (e.g., [(1,2), (2,2), ...]). If the algorithm\n",
    "# has terminated, set the value to an empty list []\n",
    "s_124 = [(0, 1), (1, 1), (2, 2)]"
   ]
  },
  {
   "cell_type": "markdown",
   "id": "69a73ba1-0c2b-41bf-ae5e-a64ea11e9758",
   "metadata": {
    "deletable": false,
    "editable": false
   },
   "source": [
    "After the fourth step, what are the contents of the parents directory (i.e., after extracting the fourth node `v_114` and adding its neighbors to the stack, what are each visited node's parents)? \n",
    "\n",
    "_Points:_ 0.5"
   ]
  },
  {
   "cell_type": "code",
   "execution_count": 180,
   "id": "c11b4dd4-6a6b-464d-b770-a4099ac4f2ad",
   "metadata": {
    "tags": [
     "otter_answer_cell"
    ]
   },
   "outputs": [],
   "source": [
    "# Express your answer as a dictionary mapping tuples (representing child nodes) to\n",
    "# tuples (representing parent nodes) (e.g., {(0,0): None, (2,1): (a,b)} where (a,b) in \n",
    "# this example is the parent of (2,1)). If the algorithm has terminated, set the value\n",
    "# to the latest parents dictionary\n",
    "p_124 = {(0, 0): None, (0, 1): (0, 0), (1, 0): (0, 0), (1, 1): (1, 0), (2, 0): (1, 0), (2, 1): (2, 0), (2, 2): (2, 1)}\n"
   ]
  },
  {
   "cell_type": "markdown",
   "id": "78620036-bf86-4ae1-99b3-6e685e85f78b",
   "metadata": {
    "deletable": false,
    "editable": false
   },
   "source": [
    "#### 1.2.5)\n",
    "\n",
    "In the fifth step, what is the current node inspected by the algorithm (i.e., the node extracted from the stack `s` at the fifth iteration)?\n",
    "\n",
    "_Points:_ 0.5"
   ]
  },
  {
   "cell_type": "code",
   "execution_count": 181,
   "id": "b7519c50-338a-483d-8707-ee09da15803a",
   "metadata": {
    "tags": [
     "otter_answer_cell"
    ]
   },
   "outputs": [],
   "source": [
    "# Express your answer as a tuple representing the node (e.g., (2,3)). If the algorithm has terminated, set the value to None.\n",
    "v_125 = (2, 2)"
   ]
  },
  {
   "cell_type": "markdown",
   "id": "9d1e78d3-e0b1-4c40-8df7-a10d5d17b2c2",
   "metadata": {
    "deletable": false,
    "editable": false
   },
   "source": [
    "After the fifth step, what are the contents of the stack (i.e., after extracting the fifth node `v_125` and adding its neighbors to the stack, what is the current state of the stack `s`)? \n",
    "\n",
    "_Points:_ 0.5"
   ]
  },
  {
   "cell_type": "code",
   "execution_count": 182,
   "id": "7478d936-9732-4e08-a6ef-664b51a53b4b",
   "metadata": {
    "tags": [
     "otter_answer_cell"
    ]
   },
   "outputs": [],
   "source": [
    "# Express your answer as a list of tuples, where each element of the\n",
    "# list represents a node, and the order of the list matches the order\n",
    "# in which nodes are added (e.g., [(1,2), (2,2), ...]). If the algorithm\n",
    "# has terminated, set the value to an empty list []\n",
    "s_125 = []"
   ]
  },
  {
   "cell_type": "markdown",
   "id": "2fd8a779-5149-4f00-bedd-9368323eedac",
   "metadata": {
    "deletable": false,
    "editable": false
   },
   "source": [
    "After the fifth step, what are the contents of the parents directory (i.e., after extracting the fifth node `v_125` and adding its neighbors to the stack, what are each visited node's parents)? \n",
    "\n",
    "_Points:_ 0.5"
   ]
  },
  {
   "cell_type": "code",
   "execution_count": 183,
   "id": "df01c1e0-d171-4fea-85bb-b5203501db3f",
   "metadata": {
    "tags": [
     "otter_answer_cell"
    ]
   },
   "outputs": [],
   "source": [
    "# Express your answer as a dictionary mapping tuples (representing child nodes) to\n",
    "# tuples (representing parent nodes) (e.g., {(0,0): None, (2,1): (a,b)} where (a,b) in \n",
    "# this example is the parent of (2,1)). If the algorithm has terminated, set the value\n",
    "# to the latest parents dictionary\n",
    "p_125 = {(0,0): None, (0,1): (0,0), (1,0): (0,0), (1,1): (1,0), (2,0): (1,0), (2,1): (2,0), (2,2): (2,1)}"
   ]
  },
  {
   "cell_type": "markdown",
   "id": "3ef43d9b-4c3d-48a1-9976-f9c4c925ec1a",
   "metadata": {
    "deletable": false,
    "editable": false
   },
   "source": [
    "#### 1.2.6)\n",
    "\n",
    "Like BFS, when DFS succeeds, we can find a plan by tracing back the parents in the `p` dictionary. In particular, we find the goal node's parent, then the parent's parent, and so on, until we reach the start state, and then we revert this path. What is the path found by DFS for this problem?\n",
    "\n",
    "_Points:_ 1.5"
   ]
  },
  {
   "cell_type": "code",
   "execution_count": 184,
   "id": "71e8cd02-fd78-42b2-a2cb-aadf6388eab5",
   "metadata": {
    "tags": [
     "otter_answer_cell"
    ]
   },
   "outputs": [],
   "source": [
    "# Express your answer as a list of tuples starting from the start state and ending in the goal state. If no plan is found, set the plan to []\n",
    "plan_126 = [(0, 0), (1, 0), (2, 0), (2, 1), (2, 2)]"
   ]
  },
  {
   "cell_type": "markdown",
   "id": "b4e4486a-a272-4cfa-9ff5-63c41b2db90e",
   "metadata": {
    "deletable": false,
    "editable": false
   },
   "source": [
    "### 1.3) Pros and cons (16 pts)\n",
    "\n",
    "#### 1.3.1)\n",
    "For this problem, if an algorithm is guaranteed to not revisit any nodes, what is the maximum number of iterations that the algorithm can execute? We consider an iteration to be an \"inspection\" of a new node (e.g., extracting a node from the queue in BFS or from the stack in DFS).\n",
    "\n",
    "\n",
    "_Points:_ 2"
   ]
  },
  {
   "cell_type": "code",
   "execution_count": 185,
   "id": "3f782f82-0a69-4c2f-b7dc-70ff2e681093",
   "metadata": {
    "tags": [
     "otter_answer_cell"
    ]
   },
   "outputs": [],
   "source": [
    "max_len_131 = 9"
   ]
  },
  {
   "cell_type": "markdown",
   "id": "16dbd8a5-1b6c-4e7c-adf0-a5fb36c90527",
   "metadata": {
    "deletable": false,
    "editable": false
   },
   "source": [
    "#### 1.3.2)\n",
    "Between BFS and DFS, which algorithm works better on this problem?\n",
    "\n",
    "a. BFS\\ \n",
    "b. DFS\\ \n",
    "c. Both work equally well\\ \n",
    "d. There are pros and cons to each; we cannot declare which is better\n",
    "\n",
    "_Points:_ 2"
   ]
  },
  {
   "cell_type": "code",
   "execution_count": 186,
   "id": "b1fbd890-9fef-4e9a-ad07-df4d262452c3",
   "metadata": {
    "tags": [
     "otter_answer_cell"
    ]
   },
   "outputs": [],
   "source": [
    "# enter your answer as a lower-case Python string (e.g., ans_132 = \"a\" for option a)\n",
    "ans_132 = \"b\""
   ]
  },
  {
   "cell_type": "markdown",
   "id": "82326317-79f2-43ae-9e9b-1db0614aba1c",
   "metadata": {
    "deletable": false,
    "editable": false
   },
   "source": [
    "#### 1.3.3)\n",
    "\n",
    "Suppose that there is an obstacle between the second and third columns, preventing the robot from moving right from nodes `(1,1)` and `(2,1)`, as illustrated in the modified graph below:\n",
    "```\n",
    "(0,0) - (0,1) - (0,2)\n",
    "  |       |       |  \n",
    "(1,0) - (1,1)   (1,2)\n",
    "  |       |       |   \n",
    "(2,0) - (2,1)   (2,2)  \n",
    "```\n",
    "What would be the plan found by DFS in this modified graph?\n",
    "\n",
    "_Points:_ 3"
   ]
  },
  {
   "cell_type": "code",
   "execution_count": 187,
   "id": "d9fb9f7e-9d74-43d7-b09e-3d50af51d94e",
   "metadata": {
    "tags": [
     "otter_answer_cell"
    ]
   },
   "outputs": [],
   "source": [
    "# Express your answer as a list of tuples starting from the start state and ending in the goal state. If no plan is found, set the plan to []\n",
    "plan_133 = [(0, 0), (0, 1), (0, 2), (1, 2), (2, 2)]"
   ]
  },
  {
   "cell_type": "markdown",
   "id": "69e05e92-79ae-4168-8fdc-ddf69d588231",
   "metadata": {
    "deletable": false,
    "editable": false
   },
   "source": [
    "#### 1.3.4)\n",
    "Let's now consider a slightly larger 4x4 grid with an obstacle that prevents the agent from moving right from nodes `(2,1)`, `(2,2)`, and `(2,3)`.  The graph is illustrated below\n",
    "```\n",
    "(0,0) - (0,1) - (0,2) - (0,3)\n",
    "  |       |       |       |\n",
    "(1,0) - (1,1) - (1,2)   (1,3)\n",
    "  |       |       |       |\n",
    "(2,0) - (2,1) - (2,2)   (2,3)\n",
    "  |       |       |       |\n",
    "(3,0) - (3,1) - (3,2)   (3,3)\n",
    "```\n",
    "The agent starts at node `(0,0)` and the goal is to reach node `(3,3)`. What would be the plan found by DFS in this modified graph?\n",
    "\n",
    "_Points:_ 5"
   ]
  },
  {
   "cell_type": "code",
   "execution_count": 188,
   "id": "a3c540e2-a3dd-47ad-813c-7de700899c95",
   "metadata": {
    "tags": [
     "otter_answer_cell"
    ]
   },
   "outputs": [],
   "source": [
    "# Express your answer as a list of tuples starting from the start state and ending in the goal state. If no plan is found, set the plan to []\n",
    "plan_134 = [(0, 0), (1, 0), (2, 0), (3, 0), (3, 1), (3, 2), (2, 2), (1, 2), (0, 2), (0, 3), (1, 3), (2, 3), (3, 3)]"
   ]
  },
  {
   "attachments": {},
   "cell_type": "markdown",
   "id": "33f514d3-3380-4ef2-83dc-f38724fb6b5f",
   "metadata": {
    "deletable": false,
    "editable": false
   },
   "source": [
    "#### 1.3.5)\n",
    "Suppose that we come up with a new graph search algorithm LFS. LFS works exactly like BFS, but we remove the line `if v’ not in parents`. Whenever we encounter a neighbor of the current node `v`, we add it to the queue and set its parent to `v`, regardless of whether the node had previously been inspected or not. What can you say about the behavior of LFS on the 3x3 grid problem?\n",
    "\n",
    "a. It terminates faster than BFS\\\n",
    "b. It does not terminate\\\n",
    "c. It takes longer to terminate than BFS\n",
    "\n",
    "_Points:_ 4"
   ]
  },
  {
   "cell_type": "code",
   "execution_count": 189,
   "id": "e17a4e27-8167-49bc-a4d4-843c36f1deff",
   "metadata": {
    "tags": [
     "otter_answer_cell"
    ]
   },
   "outputs": [],
   "source": [
    "# enter your answer as a lower-case Python string (e.g., ans_135 = \"a\" for option a)\n",
    "ans_135 = \"c\""
   ]
  },
  {
   "cell_type": "markdown",
   "id": "0bf3e181-42ec-4026-bead-e33d4e9d5822",
   "metadata": {},
   "source": [
    "## 2) Implementing BFS and DFS for robot planning (60 pts)\n",
    "\n",
    "We're now going to write a Python implementation of BFS and DFS. \n",
    "\n",
    "### 2.1) Open sets\n",
    "It is common to reason about various graph search algorithms as using an *open set*. The open set is a collection of nodes that contains the set of nodes that have been found so far but that haven't been expanded yet (i.e., we haven't looped through their neighbors). We will write a unified implementation of BFS and DFS that uses open sets.\n",
    "\n",
    "An open set has two main operations:\n",
    "- `add_node`: inserts a node into the set to be expanded later\n",
    "- `get_next`: returns the next node to be expanded by the algorithm and removes it from the set\n"
   ]
  },
  {
   "cell_type": "markdown",
   "id": "4b404b64-c14a-4980-8204-800b025607b8",
   "metadata": {
    "deletable": false,
    "editable": false
   },
   "source": [
    "#### 2.1.1) FIFO Queue as an open set\n",
    "We will start by writing a Python class that implements an FIFO open set. The combination of `add_node` and `get_next` should be such that nodes are returned in FIFO (first in, first out) order. *Hint: you may find [`collections.deque`](https://docs.python.org/3/library/collections.html#collections.deque) ueful to implement FIFO queues.*\n",
    "\n",
    "To help with debugging, I have added one simple test for your FIFOQueue_211 class that does the following sequence of operations:\n",
    "```\n",
    "q = FIFOQueue_211()\n",
    "q.add_node('a')\n",
    "q.add_node('b')\n",
    "q.get_next()\n",
    "q.add_node('c')\n",
    "q.get_next()\n",
    "q.get_next()\n",
    "```\n",
    "You should create a more comprehensive set of tests for which you know the expected behavior of your program, and verify that the outputs are as expected.\n",
    "\n",
    "_Points:_ 10"
   ]
  },
  {
   "cell_type": "code",
   "execution_count": 190,
   "id": "48e1e7cb-67aa-403d-b721-98936cdc78eb",
   "metadata": {
    "tags": [
     "otter_answer_cell"
    ]
   },
   "outputs": [],
   "source": [
    "from collections import deque \n",
    "\n",
    "class FIFOQueue_211:\n",
    "    def __init__(self):\n",
    "        self.q = deque()\n",
    "\n",
    "    def add_node(self, v):\n",
    "        self.q.append(v)\n",
    "\n",
    "    def get_next(self):\n",
    "        return self.q.popleft() if self.q else None\n",
    "\n",
    "    def __len__(self):\n",
    "        \"\"\" Enables calling len(obj) on objects of the class\"\"\"\n",
    "        return len(self.q)"
   ]
  },
  {
   "cell_type": "code",
   "execution_count": 191,
   "id": "bcf08e84",
   "metadata": {
    "deletable": false,
    "editable": false
   },
   "outputs": [
    {
     "data": {
      "text/html": [
       "<p><strong><pre style='display: inline;'>q2.1.1</pre></strong> passed! 🌈</p>"
      ],
      "text/plain": [
       "q2.1.1 results: All test cases passed!"
      ]
     },
     "execution_count": 191,
     "metadata": {},
     "output_type": "execute_result"
    }
   ],
   "source": [
    "grader.check(\"q2.1.1\")"
   ]
  },
  {
   "cell_type": "markdown",
   "id": "3a66ab52-e576-403f-9c45-2c915c324287",
   "metadata": {
    "deletable": false,
    "editable": false
   },
   "source": [
    "#### 2.1.2) LIFO Stack as an open set\n",
    "We will now write a Python class that implements an LIFO open set. The combination of `add_node` and `get_next` should be such that nodes are returned in LIFO (last in, first out) order. \n",
    "\n",
    "To help with debugging, I have added one simple test for your LIFOStack_212 class that does the following sequence of operations:\n",
    "```\n",
    "s = LIFOStack_212()\n",
    "s.add_node('a')\n",
    "s.add_node('b')\n",
    "s.get_next()\n",
    "s.add_node('c')\n",
    "s.get_next()\n",
    "s.get_next()\n",
    "```\n",
    "\n",
    "_Points:_ 10"
   ]
  },
  {
   "cell_type": "code",
   "execution_count": 192,
   "id": "e2bae0e1-3381-4d77-8bf1-b3b922486c81",
   "metadata": {
    "tags": [
     "otter_answer_cell"
    ]
   },
   "outputs": [],
   "source": [
    "class LIFOStack_212:\n",
    "    def __init__(self):\n",
    "        self.s = []\n",
    "\n",
    "    def add_node(self, v):\n",
    "        self.s.append(v)\n",
    "\n",
    "    def get_next(self):\n",
    "        return self.s.pop() if self.s else None\n",
    "\n",
    "    def __len__(self):\n",
    "        \"\"\" Enables calling len(obj) on objects of the class\"\"\"\n",
    "        return len(self.s)"
   ]
  },
  {
   "cell_type": "code",
   "execution_count": 193,
   "id": "edbc0bb1",
   "metadata": {
    "deletable": false,
    "editable": false
   },
   "outputs": [
    {
     "data": {
      "text/html": [
       "<p><strong><pre style='display: inline;'>q2.1.2</pre></strong> passed! 🍀</p>"
      ],
      "text/plain": [
       "q2.1.2 results: All test cases passed!"
      ]
     },
     "execution_count": 193,
     "metadata": {},
     "output_type": "execute_result"
    }
   ],
   "source": [
    "grader.check(\"q2.1.2\")"
   ]
  },
  {
   "cell_type": "markdown",
   "id": "4f3a1e08-909b-45de-992e-6863646cf44f",
   "metadata": {
    "deletable": false,
    "editable": false
   },
   "source": [
    "### 2.2) Retracing a plan\n",
    "\n",
    "The next step will be to implement a function that retraces a plan given a goal node `goal` and a parent dictionary `parents`. This function will be slightly different from the mechanism studied in class. Instead of returning a list of edges, it will return a list of nodes, starting from the `start` node and ending in the `goal` node. For this, it will iteratively check the goal's parent, then the parent's parent, and so on, until the final parent is set to `None`, which signals that the child is the start state.\n",
    "\n",
    "The `parents` dictionary contains a mapping from node to parent. You may assume that the `parents` dictionary always contains a valid plan from start to goal.\n",
    "\n",
    "To help with debugging, I have created a test that verifies the function with `goal = 'a'` and `parents = {'a': 'b', 'b': 'c', 'c': 'd', 'd': None}`\n",
    "\n",
    "_Points:_ 10"
   ]
  },
  {
   "cell_type": "code",
   "execution_count": 194,
   "id": "1f0a55be-2204-4a27-b509-2a1dd07024d0",
   "metadata": {
    "tags": [
     "otter_answer_cell"
    ]
   },
   "outputs": [],
   "source": [
    "def retrace_plan_22(goal, parents):\n",
    "    plan = []\n",
    "    current = goal\n",
    "    while current:\n",
    "        plan.append(current)\n",
    "        current = parents[current]\n",
    "    plan.reverse()\n",
    "    return plan"
   ]
  },
  {
   "cell_type": "code",
   "execution_count": 195,
   "id": "dddd942e",
   "metadata": {
    "deletable": false,
    "editable": false
   },
   "outputs": [
    {
     "data": {
      "text/html": [
       "<p><strong><pre style='display: inline;'>q2.2</pre></strong> passed! 💯</p>"
      ],
      "text/plain": [
       "q2.2 results: All test cases passed!"
      ]
     },
     "execution_count": 195,
     "metadata": {},
     "output_type": "execute_result"
    }
   ],
   "source": [
    "grader.check(\"q2.2\")"
   ]
  },
  {
   "cell_type": "markdown",
   "id": "902e99aa-6390-4aea-97cc-3dd74037bb6c",
   "metadata": {},
   "source": [
    "### 2.3) Occupancy grid\n",
    "\n",
    "One common way to represent 2D robotic navigation problems is to use an occupancy grid. The idea is to represent the world as a matrix of ones and zeros, where a one represents an occupied cell (i.e., an obstacle) and a zero represents a free cell. For example, in the following grid, there are obstacles in cells (0,2), (1,1), (2,3), (3,0), and (3, 2); all other cells are free:\n",
    "\n",
    "```\n",
    "[[0, 0, 1, 0, 0],\n",
    " [0, 1, 0, 0, 0],\n",
    " [0, 0, 0, 1, 0],\n",
    " [1, 0, 1, 0, 0],\n",
    " [0, 0, 0, 0, 0]]\n",
    "```\n",
    "\n",
    "We typically avoid explicitly representing occupancy grids as graphs, which would involve keeping an explicit representation of the edges. Instead, whenever we inspect a node for its neighbors, we consider only free cells as neighbors. We represent each cell by its coordinates `(i,j)`, where `i` is the row and `j` is the column. To inspect a cell's neighbors, we add/subtract 1 to its `i` or `j` coordinate (or both, if we consider diagonal motions). Care must be taken to ensure that we don't consider cells outside the bounds of the grid. \n",
    "\n",
    "In this problem, we consider only four valid motions: up, down, left, right.\n"
   ]
  },
  {
   "cell_type": "markdown",
   "id": "179446f9-63cd-4983-9e96-851c591b97c5",
   "metadata": {
    "deletable": false,
    "editable": false
   },
   "source": [
    "#### 2.3.1) A general search function\n",
    "\n",
    "We are now ready to write our general grid search function, `grid_search_231`. The function takes the following inputs:\n",
    "- `grid`: a nested 2D Python array of 1s and 0s representing an occupancy grid\n",
    "- `start`: the `(i,j)` coordinates of the start node\n",
    "- `goal`: the `(i,j)` coordinates of the goal node\n",
    "- `open_set`: an object with methods `add_node`, `get_next`, and `__len__`\n",
    "\n",
    "The return value is a list of nodes that represents a valid plan starting from `start` and ending in `goal`, or an empty list if no plan is found. When adding neighbors into the open set, follow the convention from the previous problem, which orders nodes first according to their `i` coordinate and then according to their `j` coordinate. \n",
    "\n",
    "_Points:_ 20"
   ]
  },
  {
   "cell_type": "code",
   "execution_count": 196,
   "id": "5b51d4b8-6d36-4a62-98ab-5dbb70312304",
   "metadata": {
    "otter": {
     "tests": [
      "q2.3.1"
     ]
    },
    "tags": [
     "otter_answer_cell"
    ]
   },
   "outputs": [],
   "source": [
    "def grid_search_231(grid, start, goal, open_set):\n",
    "    open_set.add_node(start)\n",
    "    parents = {start: None}\n",
    "    while len(open_set) > 0:\n",
    "        v = open_set.get_next()\n",
    "        if v == goal:\n",
    "            return retrace_plan_22(goal, parents)\n",
    "        # Loop over neighbors of v, check their validity, and add to open_set and parents\n",
    "        \n",
    "        for neighbor in get_neighbors(grid, v):\n",
    "            if neighbor not in parents:\n",
    "                parents[neighbor] = v\n",
    "                open_set.add_node(neighbor)\n",
    "    # If no plan is found, return an empty plan\n",
    "    return []\n",
    "\n",
    "def get_neighbors(grid, v):\n",
    "    neighbors = []\n",
    "    directions = [(0, 1), (0, -1), (-1, 0), (1, 0)]\n",
    "\n",
    "    for dx, dy in directions:\n",
    "        x, y = v\n",
    "        x += dx\n",
    "        y += dy\n",
    "        if 0 <= x < len(grid) and 0 <= y < len(grid[0]) and grid[x][y] == 0:\n",
    "            neighbors.append((x, y))\n",
    "    return neighbors"
   ]
  },
  {
   "cell_type": "markdown",
   "id": "0d722903-0422-4e13-a783-b2e1920e513d",
   "metadata": {
    "deletable": false,
    "editable": false
   },
   "source": [
    "#### 2.3.2) BFS and DFS\n",
    "\n",
    "Put everything together to implement the BFS and DFS algorithms. *Hint: these should be very simple one-line functions.*\n",
    "\n",
    "To help with debugging, I have included tests for both algorithms using the following grid and testing for plans from `(0,0)` to `(4,4)`:\n",
    "\n",
    "```\n",
    "[[0, 0, 1, 0, 0],\n",
    " [0, 1, 0, 0, 0],\n",
    " [0, 0, 0, 1, 0],\n",
    " [1, 0, 1, 0, 0],\n",
    " [0, 0, 0, 0, 0]]\n",
    "```\n",
    "\n",
    "_Points:_ 10"
   ]
  },
  {
   "cell_type": "code",
   "execution_count": 197,
   "id": "528e9232-026e-448a-b2f0-7b9a7cb165e0",
   "metadata": {
    "tags": [
     "otter_answer_cell"
    ]
   },
   "outputs": [],
   "source": [
    "def bfs_232(grid, start, goal):\n",
    "    return grid_search_231(grid, start, goal, FIFOQueue_211())\n",
    "\n",
    "def dfs_232(grid, start, goal):\n",
    "    return grid_search_231(grid, start, goal, LIFOStack_212())"
   ]
  },
  {
   "cell_type": "code",
   "execution_count": 198,
   "id": "b53d7192",
   "metadata": {
    "deletable": false,
    "editable": false
   },
   "outputs": [
    {
     "data": {
      "text/html": [
       "<p><strong><pre style='display: inline;'>q2.3.2</pre></strong> passed! 🎉</p>"
      ],
      "text/plain": [
       "q2.3.2 results: All test cases passed!"
      ]
     },
     "execution_count": 198,
     "metadata": {},
     "output_type": "execute_result"
    }
   ],
   "source": [
    "grader.check(\"q2.3.2\")"
   ]
  },
  {
   "cell_type": "markdown",
   "id": "dc0c2340",
   "metadata": {
    "deletable": false,
    "editable": false
   },
   "source": [
    "## Submission\n",
    "\n",
    "Make sure you have run all cells in your notebook in order before running the cell below, so that all images/graphs appear in the output. The cell below will generate a zip file for you to submit. **Please save before exporting!**\n",
    "\n",
    "Fill out the answers to all questions and submit your file hw1.ipynb to the HW1 assignment on Gradescope. You are free to resubmit as many times as you wish."
   ]
  },
  {
   "cell_type": "code",
   "execution_count": 199,
   "id": "055bf169",
   "metadata": {
    "deletable": false,
    "editable": false
   },
   "outputs": [
    {
     "name": "stdout",
     "output_type": "stream",
     "text": [
      "Running your submission against local test cases...\n",
      "\n",
      "\n",
      "Your submission received the following results when run against available test cases:\n",
      "\n",
      "    q2.1.1 results: All test cases passed!\n",
      "\n",
      "    q2.1.2 results: All test cases passed!\n",
      "\n",
      "    q2.2 results: All test cases passed!\n",
      "\n",
      "    q2.3.2 results: All test cases passed!\n"
     ]
    },
    {
     "data": {
      "text/html": [
       "\n",
       "                    <p>\n",
       "                        Your submission has been exported. Click\n",
       "                        <a href=\"hw1_2025_02_02T23_01_15_723592.zip\" download=\"hw1_2025_02_02T23_01_15_723592.zip\" target=\"_blank\">here</a> to download\n",
       "                        the zip file.\n",
       "                    </p>\n",
       "                "
      ],
      "text/plain": [
       "<IPython.core.display.HTML object>"
      ]
     },
     "metadata": {},
     "output_type": "display_data"
    }
   ],
   "source": [
    "# Save your notebook first, then run this cell to export your submission.\n",
    "grader.export(pdf=False, run_tests=True)"
   ]
  },
  {
   "cell_type": "markdown",
   "id": "f31ac7ff",
   "metadata": {},
   "source": [
    " "
   ]
  }
 ],
 "metadata": {
  "kernelspec": {
   "display_name": "Python 3 (ipykernel)",
   "language": "python",
   "name": "python3"
  },
  "language_info": {
   "codemirror_mode": {
    "name": "ipython",
    "version": 3
   },
   "file_extension": ".py",
   "mimetype": "text/x-python",
   "name": "python",
   "nbconvert_exporter": "python",
   "pygments_lexer": "ipython3",
   "version": "3.10.16"
  },
  "otter": {
   "OK_FORMAT": true,
   "assignment_name": "hw1",
   "tests": {
    "q1.1.1.1": {
     "name": "q1.1.1.1",
     "points": 0.5,
     "suites": [
      {
       "cases": [],
       "scored": true,
       "setup": "",
       "teardown": "",
       "type": "doctest"
      }
     ]
    },
    "q1.1.1.2": {
     "name": "q1.1.1.2",
     "points": 0.5,
     "suites": [
      {
       "cases": [],
       "scored": true,
       "setup": "",
       "teardown": "",
       "type": "doctest"
      }
     ]
    },
    "q1.1.1.3": {
     "name": "q1.1.1.3",
     "points": 0.5,
     "suites": [
      {
       "cases": [],
       "scored": true,
       "setup": "",
       "teardown": "",
       "type": "doctest"
      }
     ]
    },
    "q1.1.10": {
     "name": "q1.1.10",
     "points": 1.5,
     "suites": [
      {
       "cases": [],
       "scored": true,
       "setup": "",
       "teardown": "",
       "type": "doctest"
      }
     ]
    },
    "q1.1.2.1": {
     "name": "q1.1.2.1",
     "points": 0.5,
     "suites": [
      {
       "cases": [],
       "scored": true,
       "setup": "",
       "teardown": "",
       "type": "doctest"
      }
     ]
    },
    "q1.1.2.2": {
     "name": "q1.1.2.2",
     "points": 0.5,
     "suites": [
      {
       "cases": [],
       "scored": true,
       "setup": "",
       "teardown": "",
       "type": "doctest"
      }
     ]
    },
    "q1.1.2.3": {
     "name": "q1.1.2.3",
     "points": 0.5,
     "suites": [
      {
       "cases": [],
       "scored": true,
       "setup": "",
       "teardown": "",
       "type": "doctest"
      }
     ]
    },
    "q1.1.3.1": {
     "name": "q1.1.3.1",
     "points": 0.5,
     "suites": [
      {
       "cases": [],
       "scored": true,
       "setup": "",
       "teardown": "",
       "type": "doctest"
      }
     ]
    },
    "q1.1.3.2": {
     "name": "q1.1.3.2",
     "points": 0.5,
     "suites": [
      {
       "cases": [],
       "scored": true,
       "setup": "",
       "teardown": "",
       "type": "doctest"
      }
     ]
    },
    "q1.1.3.3": {
     "name": "q1.1.3.3",
     "points": 0.5,
     "suites": [
      {
       "cases": [],
       "scored": true,
       "setup": "",
       "teardown": "",
       "type": "doctest"
      }
     ]
    },
    "q1.1.4.1": {
     "name": "q1.1.4.1",
     "points": 0.5,
     "suites": [
      {
       "cases": [],
       "scored": true,
       "setup": "",
       "teardown": "",
       "type": "doctest"
      }
     ]
    },
    "q1.1.4.2": {
     "name": "q1.1.4.2",
     "points": 0.5,
     "suites": [
      {
       "cases": [],
       "scored": true,
       "setup": "",
       "teardown": "",
       "type": "doctest"
      }
     ]
    },
    "q1.1.4.3": {
     "name": "q1.1.4.3",
     "points": 0.5,
     "suites": [
      {
       "cases": [],
       "scored": true,
       "setup": "",
       "teardown": "",
       "type": "doctest"
      }
     ]
    },
    "q1.1.5.1": {
     "name": "q1.1.5.1",
     "points": 0.5,
     "suites": [
      {
       "cases": [],
       "scored": true,
       "setup": "",
       "teardown": "",
       "type": "doctest"
      }
     ]
    },
    "q1.1.5.2": {
     "name": "q1.1.5.2",
     "points": 0.5,
     "suites": [
      {
       "cases": [],
       "scored": true,
       "setup": "",
       "teardown": "",
       "type": "doctest"
      }
     ]
    },
    "q1.1.5.3": {
     "name": "q1.1.5.3",
     "points": 0.5,
     "suites": [
      {
       "cases": [],
       "scored": true,
       "setup": "",
       "teardown": "",
       "type": "doctest"
      }
     ]
    },
    "q1.1.6.1": {
     "name": "q1.1.6.1",
     "points": 0.5,
     "suites": [
      {
       "cases": [],
       "scored": true,
       "setup": "",
       "teardown": "",
       "type": "doctest"
      }
     ]
    },
    "q1.1.6.2": {
     "name": "q1.1.6.2",
     "points": 0.5,
     "suites": [
      {
       "cases": [],
       "scored": true,
       "setup": "",
       "teardown": "",
       "type": "doctest"
      }
     ]
    },
    "q1.1.6.3": {
     "name": "q1.1.6.3",
     "points": 0.5,
     "suites": [
      {
       "cases": [],
       "scored": true,
       "setup": "",
       "teardown": "",
       "type": "doctest"
      }
     ]
    },
    "q1.1.7.1": {
     "name": "q1.1.7.1",
     "points": 0.5,
     "suites": [
      {
       "cases": [],
       "scored": true,
       "setup": "",
       "teardown": "",
       "type": "doctest"
      }
     ]
    },
    "q1.1.7.2": {
     "name": "q1.1.7.2",
     "points": 0.5,
     "suites": [
      {
       "cases": [],
       "scored": true,
       "setup": "",
       "teardown": "",
       "type": "doctest"
      }
     ]
    },
    "q1.1.7.3": {
     "name": "q1.1.7.3",
     "points": 0.5,
     "suites": [
      {
       "cases": [],
       "scored": true,
       "setup": "",
       "teardown": "",
       "type": "doctest"
      }
     ]
    },
    "q1.1.8.1": {
     "name": "q1.1.8.1",
     "points": 0.5,
     "suites": [
      {
       "cases": [],
       "scored": true,
       "setup": "",
       "teardown": "",
       "type": "doctest"
      }
     ]
    },
    "q1.1.8.2": {
     "name": "q1.1.8.2",
     "points": 0.5,
     "suites": [
      {
       "cases": [],
       "scored": true,
       "setup": "",
       "teardown": "",
       "type": "doctest"
      }
     ]
    },
    "q1.1.8.3": {
     "name": "q1.1.8.3",
     "points": 0.5,
     "suites": [
      {
       "cases": [],
       "scored": true,
       "setup": "",
       "teardown": "",
       "type": "doctest"
      }
     ]
    },
    "q1.1.9.1": {
     "name": "q1.1.9.1",
     "points": 0.5,
     "suites": [
      {
       "cases": [],
       "scored": true,
       "setup": "",
       "teardown": "",
       "type": "doctest"
      }
     ]
    },
    "q1.1.9.2": {
     "name": "q1.1.9.2",
     "points": 0.5,
     "suites": [
      {
       "cases": [],
       "scored": true,
       "setup": "",
       "teardown": "",
       "type": "doctest"
      }
     ]
    },
    "q1.1.9.3": {
     "name": "q1.1.9.3",
     "points": 0.5,
     "suites": [
      {
       "cases": [],
       "scored": true,
       "setup": "",
       "teardown": "",
       "type": "doctest"
      }
     ]
    },
    "q1.2.1.1": {
     "name": "q1.2.1.1",
     "points": 0.5,
     "suites": [
      {
       "cases": [],
       "scored": true,
       "setup": "",
       "teardown": "",
       "type": "doctest"
      }
     ]
    },
    "q1.2.1.2": {
     "name": "q1.2.1.2",
     "points": 0.5,
     "suites": [
      {
       "cases": [],
       "scored": true,
       "setup": "",
       "teardown": "",
       "type": "doctest"
      }
     ]
    },
    "q1.2.1.3": {
     "name": "q1.2.1.3",
     "points": 0.5,
     "suites": [
      {
       "cases": [],
       "scored": true,
       "setup": "",
       "teardown": "",
       "type": "doctest"
      }
     ]
    },
    "q1.2.2.1": {
     "name": "q1.2.2.1",
     "points": 0.5,
     "suites": [
      {
       "cases": [],
       "scored": true,
       "setup": "",
       "teardown": "",
       "type": "doctest"
      }
     ]
    },
    "q1.2.2.2": {
     "name": "q1.2.2.2",
     "points": 0.5,
     "suites": [
      {
       "cases": [],
       "scored": true,
       "setup": "",
       "teardown": "",
       "type": "doctest"
      }
     ]
    },
    "q1.2.2.3": {
     "name": "q1.2.2.3",
     "points": 0.5,
     "suites": [
      {
       "cases": [],
       "scored": true,
       "setup": "",
       "teardown": "",
       "type": "doctest"
      }
     ]
    },
    "q1.2.3.1": {
     "name": "q1.2.3.1",
     "points": 0.5,
     "suites": [
      {
       "cases": [],
       "scored": true,
       "setup": "",
       "teardown": "",
       "type": "doctest"
      }
     ]
    },
    "q1.2.3.2": {
     "name": "q1.2.3.2",
     "points": 0.5,
     "suites": [
      {
       "cases": [],
       "scored": true,
       "setup": "",
       "teardown": "",
       "type": "doctest"
      }
     ]
    },
    "q1.2.3.3": {
     "name": "q1.2.3.3",
     "points": 0.5,
     "suites": [
      {
       "cases": [],
       "scored": true,
       "setup": "",
       "teardown": "",
       "type": "doctest"
      }
     ]
    },
    "q1.2.4.1": {
     "name": "q1.2.4.1",
     "points": 0.5,
     "suites": [
      {
       "cases": [],
       "scored": true,
       "setup": "",
       "teardown": "",
       "type": "doctest"
      }
     ]
    },
    "q1.2.4.2": {
     "name": "q1.2.4.2",
     "points": 0.5,
     "suites": [
      {
       "cases": [],
       "scored": true,
       "setup": "",
       "teardown": "",
       "type": "doctest"
      }
     ]
    },
    "q1.2.4.3": {
     "name": "q1.2.4.3",
     "points": 0.5,
     "suites": [
      {
       "cases": [],
       "scored": true,
       "setup": "",
       "teardown": "",
       "type": "doctest"
      }
     ]
    },
    "q1.2.5.1": {
     "name": "q1.2.5.1",
     "points": 0.5,
     "suites": [
      {
       "cases": [],
       "scored": true,
       "setup": "",
       "teardown": "",
       "type": "doctest"
      }
     ]
    },
    "q1.2.5.2": {
     "name": "q1.2.5.2",
     "points": 0.5,
     "suites": [
      {
       "cases": [],
       "scored": true,
       "setup": "",
       "teardown": "",
       "type": "doctest"
      }
     ]
    },
    "q1.2.5.3": {
     "name": "q1.2.5.3",
     "points": 0.5,
     "suites": [
      {
       "cases": [],
       "scored": true,
       "setup": "",
       "teardown": "",
       "type": "doctest"
      }
     ]
    },
    "q1.2.6": {
     "name": "q1.2.6",
     "points": 1.5,
     "suites": [
      {
       "cases": [],
       "scored": true,
       "setup": "",
       "teardown": "",
       "type": "doctest"
      }
     ]
    },
    "q1.3.1": {
     "name": "q1.3.1",
     "points": 2,
     "suites": [
      {
       "cases": [],
       "scored": true,
       "setup": "",
       "teardown": "",
       "type": "doctest"
      }
     ]
    },
    "q1.3.2": {
     "name": "q1.3.2",
     "points": 2,
     "suites": [
      {
       "cases": [],
       "scored": true,
       "setup": "",
       "teardown": "",
       "type": "doctest"
      }
     ]
    },
    "q1.3.3": {
     "name": "q1.3.3",
     "points": 3,
     "suites": [
      {
       "cases": [],
       "scored": true,
       "setup": "",
       "teardown": "",
       "type": "doctest"
      }
     ]
    },
    "q1.3.4": {
     "name": "q1.3.4",
     "points": 5,
     "suites": [
      {
       "cases": [],
       "scored": true,
       "setup": "",
       "teardown": "",
       "type": "doctest"
      }
     ]
    },
    "q1.3.5": {
     "name": "q1.3.5",
     "points": 4,
     "suites": [
      {
       "cases": [],
       "scored": true,
       "setup": "",
       "teardown": "",
       "type": "doctest"
      }
     ]
    },
    "q2.1.1": {
     "name": "q2.1.1",
     "points": 10,
     "suites": [
      {
       "cases": [
        {
         "code": ">>> outputs = []\n>>> q = FIFOQueue_211()\n>>> q.add_node('a')\n>>> q.add_node('b')\n>>> outputs.append(q.get_next())\n>>> q.add_node('c')\n>>> outputs.append(q.get_next())\n>>> outputs.append(q.get_next())\n>>> outputs == ['a', 'b', 'c'] and len(q) == 0\nTrue",
         "hidden": false,
         "locked": false,
         "points": 0
        }
       ],
       "scored": true,
       "setup": "",
       "teardown": "",
       "type": "doctest"
      }
     ]
    },
    "q2.1.2": {
     "name": "q2.1.2",
     "points": 10,
     "suites": [
      {
       "cases": [
        {
         "code": ">>> outputs = []\n>>> s = LIFOStack_212()\n>>> s.add_node('a')\n>>> s.add_node('b')\n>>> outputs.append(s.get_next())\n>>> s.add_node('c')\n>>> outputs.append(s.get_next())\n>>> outputs.append(s.get_next())\n>>> outputs == ['b', 'c', 'a'] and len(s) == 0\nTrue",
         "hidden": false,
         "locked": false,
         "points": 0
        }
       ],
       "scored": true,
       "setup": "",
       "teardown": "",
       "type": "doctest"
      }
     ]
    },
    "q2.2": {
     "name": "q2.2",
     "points": 10,
     "suites": [
      {
       "cases": [
        {
         "code": ">>> goal = 'a'\n>>> parents = {'a': 'b', 'b': 'c', 'c': 'd', 'd': None}\n>>> plan = retrace_plan_22(goal, parents)\n>>> plan == ['d', 'c', 'b', 'a']\nTrue",
         "hidden": false,
         "locked": false,
         "points": 0
        }
       ],
       "scored": true,
       "setup": "",
       "teardown": "",
       "type": "doctest"
      }
     ]
    },
    "q2.3.1": {
     "name": "q2.3.1",
     "points": 20,
     "suites": [
      {
       "cases": [],
       "scored": true,
       "setup": "",
       "teardown": "",
       "type": "doctest"
      }
     ]
    },
    "q2.3.2": {
     "name": "q2.3.2",
     "points": 10,
     "suites": [
      {
       "cases": [
        {
         "code": ">>> grid = [[0, 0, 1, 0, 0], [0, 1, 0, 0, 0], [0, 0, 0, 1, 0], [1, 0, 1, 0, 0], [0, 0, 0, 0, 0]]\n>>> start = (0, 0)\n>>> goal = (4, 4)\n>>> plan = bfs_232(grid, start, goal)\n>>> plan == [(0, 0), (1, 0), (2, 0), (2, 1), (3, 1), (4, 1), (4, 2), (4, 3), (4, 4)]\nTrue",
         "hidden": false,
         "locked": false,
         "points": 0
        },
        {
         "code": ">>> grid = [[0, 0, 1, 0, 0], [0, 1, 0, 0, 0], [0, 0, 0, 1, 0], [1, 0, 1, 0, 0], [0, 0, 0, 0, 0]]\n>>> start = (0, 0)\n>>> goal = (4, 4)\n>>> plan = dfs_232(grid, start, goal)\n>>> plan == [(0, 0), (1, 0), (2, 0), (2, 1), (3, 1), (4, 1), (4, 2), (4, 3), (4, 4)]\nTrue",
         "hidden": false,
         "locked": false,
         "points": 0
        }
       ],
       "scored": true,
       "setup": "",
       "teardown": "",
       "type": "doctest"
      }
     ]
    }
   }
  }
 },
 "nbformat": 4,
 "nbformat_minor": 5
}
