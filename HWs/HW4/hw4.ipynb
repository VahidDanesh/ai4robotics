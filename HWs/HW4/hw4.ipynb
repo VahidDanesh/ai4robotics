{
 "cells": [
  {
   "cell_type": "code",
   "execution_count": 2,
   "id": "c40c7976",
   "metadata": {
    "deletable": false,
    "editable": false
   },
   "outputs": [],
   "source": [
    "# Initialize Otter\n",
    "import otter\n",
    "grader = otter.Notebook(\"hw4.ipynb\")"
   ]
  },
  {
   "cell_type": "code",
   "execution_count": 3,
   "id": "fc69dc99",
   "metadata": {},
   "outputs": [],
   "source": [
    "import numpy as np\n",
    "from numpy import cos, sin, pi"
   ]
  },
  {
   "cell_type": "markdown",
   "id": "5add0ff4-27fa-4b8b-9429-77a6e70eb204",
   "metadata": {},
   "source": [
    "# FILL IN YOUR NAME AND THE NAME OF YOUR PEER (IF ANY) BELOW"
   ]
  },
  {
   "cell_type": "markdown",
   "id": "114b0f41-932d-43fb-96b0-a10ea759b6e4",
   "metadata": {},
   "source": [
    "**Name**: Vahid Danesh\n",
    "\n",
    "**Peer**: Maede Boroji\n",
    "\n",
    "## Collaboration policy\n",
    "Students are responsible for writing their own quizzes, assignments, and exams. For homework assignments, students are welcome (and encouraged) to discuss problems with one peer, **but each student must write their own assignment wrtieup and code individually**. The peer must be listed at the top of the writeup for each assignment. *Note: I will treat AI assistants as peers. That is, students are welcome to discuss problems with an AI assistant, but it is considered cheating to directly obtain an answer by querying the assistant. Please credit any AI assistant that you use.*"
   ]
  },
  {
   "cell_type": "markdown",
   "id": "3eeaa842-e2ff-4f0d-9447-6450943e8703",
   "metadata": {},
   "source": [
    "# Homework 4 -- Forward and inverse kinematics (100 pts)\n",
    "\n",
    "**Due:** Tuesday, February 25th, 2025 at 11:59 pm\n",
    "\n",
    "This homework builds on the material in the slides, Hauser Chapters 5 and 6 (on Forward Kinematics and Inverse Kinematics), and Tedrake chapter 3 (on Basic Pick-and-Place, especially 3.1 and 3.3).\n",
    "\n",
    "We will use Jupyter/Colab notebooks throughout the semester for writing code and generating assignment outputs.\n",
    "\n",
    "**Throughout this homework, please use 2D numpy arrays to represent all matrices. The autograder will use a precision of 3 decimal places.**\n",
    "\n",
    "\n",
    "## 1) Calculating Forward Kinematics (20 pts)\n",
    "For the following questions, you will derive a matrix expression for the pose of a coordinate frame attached to a robot's end-point (typically referred to as the \"end-effector\"), in terms of the variable joint configuration of the robot. In each case, it may be helpful to define intermediate frames such that defining each intermediate transformation matrix is easy. Your answers will by Python functions that receive as input the configuration of the joints and output the pose of the robot. **Unless otherwise stated, your functions may not call any external matrix multiplication function (e.g., `np.dot`).**"
   ]
  },
  {
   "cell_type": "markdown",
   "id": "9b077b00-bf16-44d7-988e-27cf380b2a3d",
   "metadata": {
    "deletable": false,
    "editable": false
   },
   "source": [
    "#### 1.1) Combined revolute and prismatic joint in 2D\n",
    "\n",
    "Consider a 2D robot with a single special revolute+prismatic joint, as depicted below:\n",
    "\n",
    "<img src=\"https://jorge-a-mendez.github.io/images/ese564s24/2d_simple_fk.png\" width=30%>\n",
    "\n",
    "(Note that this is just two joints attached at the same points.) The base link is aligned with the world frame, and the child link is attached to the special joint. The joint is displaced by a distance $d$ from the origin of the world frame in the $x$ direction, and rotated by $\\theta$ above the world's $x$ axis. The child link has a length of $l$, and the end-effector coordinate frame is attached at the end-point of the link, with the $x$ axis facing away from the link. \n",
    "\n",
    "Write a Python function that returns the pose of the end-effector frame in world coordinates as a function of $l$, $d$, and $\\theta$. \n",
    "\n",
    "_Points:_ 5"
   ]
  },
  {
   "cell_type": "code",
   "execution_count": 4,
   "id": "50976ae0-2716-41ae-8690-d6987cc61d83",
   "metadata": {
    "tags": [
     "otter_answer_cell"
    ]
   },
   "outputs": [],
   "source": [
    "# Your function should return a (2,2) numpy array for the rotation matrix and a (2,) numpy array for the position vector\n",
    "def X_G_11(l, d, theta):\n",
    "    R = np.array([\n",
    "        [cos(theta),  -sin(theta)],\n",
    "        [sin(theta),   cos(theta)]\n",
    "    ])\n",
    "    \n",
    "    # Position vector (2,)\n",
    "    p = np.array([\n",
    "        d + l * cos(theta),\n",
    "        l * sin(theta)\n",
    "    ])\n",
    "    \n",
    "    return R, p"
   ]
  },
  {
   "cell_type": "markdown",
   "id": "fe970def",
   "metadata": {
    "deletable": false,
    "editable": false
   },
   "source": [
    "#### 1.2) Translate and rotate in 3D\n",
    "\n",
    "Consider the 3D mechanism depicted below:\n",
    "\n",
    "<img src=\"https://jorge-a-mendez.github.io/images/ese564s24/3d_simple_fk.png\" width=30%>\n",
    "\n",
    "The base link is attached to the world frame and connected to a revolute joint by a link of length $l_1$ in the $x$ direction. The revolute joint rotates about the $z$ axis by an angle $\\theta$, and is connected to the end effector by a link of length $l_2$ in the $x$ direction when $\\theta=0$. The end-effector frame is aligned with the world's when $\\theta=0$. The overall mechanism adds a height of $l_0$ in the world $z$ axis. \n",
    "\n",
    "Write a Python function that returns the pose of the end-effector frame in world coordinates as a function of $l_1$, $l_2$, $l_0$, and $\\theta$.  \n",
    "\n",
    "_Points:_ 5"
   ]
  },
  {
   "cell_type": "code",
   "execution_count": 5,
   "id": "0df1a49b",
   "metadata": {
    "tags": [
     "otter_answer_cell"
    ]
   },
   "outputs": [],
   "source": [
    "# Your function should return a (3,3) numpy array for the rotation matrix and a (3,) numpy array for the position vector\n",
    "def X_G_12(l0, l1, l2, theta):\n",
    "    R = np.array([[cos(theta), -sin(theta), 0],\n",
    "                  [sin(theta),  cos(theta), 0],\n",
    "                  [0,           0,          1]])\n",
    "    \n",
    "    t = np. array([l1 + l2*cos(theta), l2*sin(theta), l0])\n",
    "\n",
    "    return R, t\n"
   ]
  },
  {
   "cell_type": "markdown",
   "id": "2d388cda",
   "metadata": {
    "deletable": false,
    "editable": false
   },
   "source": [
    "#### 1.3) Multi-joint 2D mechanism\n",
    "\n",
    "Consider a 2D robot with two prismatic and two revolute joints, as shown below:\n",
    "\n",
    "<img src=\"https://jorge-a-mendez.github.io/images/ese564s24/2d_complex_fk.png\" width=20%>\n",
    "\n",
    "The base link is aligned with the world frame. The first child link is translated by $d_1$ along the world's $x$ axis and has a height of $l_0$. The second child link rotates by $\\theta_1$ above the world $x$ axis. The third child link is translated along the second link's length by $d_2$ and has a height $l_1$. The fourth child link rotates above the axis defined by the second child link and has length $l_2$. The end-effector frame is at the end of the fourth child link and its $x$ axis points away from the link. \n",
    "\n",
    "Write a Python function that returns the pose of the end-effector frame in world coordinates as a function of $l_0$, $l_1$, $l_2$, $d_1$, $d_2$, $\\theta_1$, $\\theta_2$.\n",
    "\n",
    "_Points:_ 5"
   ]
  },
  {
   "cell_type": "code",
   "execution_count": 6,
   "id": "014886b1",
   "metadata": {
    "tags": [
     "otter_answer_cell"
    ]
   },
   "outputs": [],
   "source": [
    "# Your function should return a (2,2) numpy array for the rotation matrix and a (2,) numpy array for the position vector\n",
    "def X_G_13(l0, l1, l2, d1, d2, theta1, theta2):\n",
    "    R = np.array([[ -sin(theta1)*sin(theta2) + cos(theta1)*cos(theta2),\n",
    "                    -sin(theta1)*cos(theta2) - sin(theta2)*cos(theta1)],\n",
    "                    [sin(theta1)*cos(theta2) + sin(theta2)*cos(theta1),\n",
    "                    -sin(theta1)*sin(theta2) + cos(theta1)*cos(theta2)]])\n",
    "    \n",
    "    t = np.array([d1 + d2*cos(theta1) - l1*sin(theta1) - l2*sin(theta1)*sin(theta2) + l2*cos(theta1)*cos(theta2),\n",
    "                    d2*sin(theta1) + l0 + l1*cos(theta1) + l2*sin(theta1)*cos(theta2) + l2*sin(theta2)*cos(theta1)])\n",
    "    return R, t\n",
    "\n"
   ]
  },
  {
   "cell_type": "markdown",
   "id": "85defcf2",
   "metadata": {
    "deletable": false,
    "editable": false
   },
   "source": [
    "#### 1.4) Industrial robot\n",
    "\n",
    "Consider the 3D mechanism depicted below, which is a somewhat typical industrial robot arm:\n",
    "\n",
    "<img src=\"https://jorge-a-mendez.github.io/images/ese564s24/3d_complex_fk.png\" width=30%>\n",
    "\n",
    "The robot has six revolute joints, so it is a 6DoF arm. One interesting property of 6DoF arms is that they can achieve any 6D pose that is within reach---they are fully actuated. Write a Python function that calculates the pose of the end-effector, defined as the position of the point between the parallel fingers (i.e., at distance $L_6$ from joint 6) and the orientation of the frame at joint 6 as depicted in the figure. The world frame coincides with the depicted joint 1 frame when $q_0=0$. (Other frames depicted in the figure may be useful intermediate frames for your calculations).\n",
    "\n",
    "Write a Python function that computes the end-effector pose in world coordinates as a function of the joint angles $q_{1\\ldots6}$ and the link lengths $L_1$, $L_2$, $L_3$, and $L_6$. **Please don't do all calculations by hand. Instead, write the intermediate transforms in your code and use numpy's matrix multiplication functions (e.g., `np.dot`) to compute the overall transform.**\n",
    "\n",
    "_Points:_ 5"
   ]
  },
  {
   "cell_type": "code",
   "execution_count": 7,
   "id": "0cd9d322",
   "metadata": {
    "tags": [
     "otter_answer_cell"
    ]
   },
   "outputs": [],
   "source": [
    "# Your function should return a (3,3) numpy array for the rotation matrix and a (3,) numpy array for the position vector\n",
    "def X_G_14(l1, l2, l3, l6, q1, q2, q3, q4, q5, q6):\n",
    "    wTa = np.array([[cos(q1), -sin(q1), 0, 0],\n",
    "                    [sin(q1), cos(q1), 0, 0],\n",
    "                    [0, 0, 1, 0],\n",
    "                    [0, 0, 0, 1]])\n",
    "                        \n",
    "    aTb = np.array([[cos(q2), 0, sin(q2), 0],\n",
    "                    [0, 1, 0, 0],\n",
    "                    [-sin(q2), 0, cos(q2), l1],\n",
    "                    [0, 0, 0, 1]])\n",
    "    bTc = np.array([[cos(q3), 0, sin(q3), l2],\n",
    "                    [0, 1, 0, 0],\n",
    "                    [-sin(q3), 0, cos(q3), 0],\n",
    "                    [0, 0, 0, 1]])\n",
    "    \n",
    "    cTd = np.array([[1, 0, 0, 0],\n",
    "                    [0, cos(q4), -sin(q4), 0],\n",
    "                    [0, sin(q4), cos(q4), 0],\n",
    "                    [0, 0, 0, 1]])\n",
    "    dTe = np.array([[cos(q5), 0, sin(q5), l3],\n",
    "                    [0, 1, 0, 0],\n",
    "                    [-sin(q5), 0, cos(q5), 0],\n",
    "                    [0, 0, 0, 1]])\n",
    "    eTf = np.array([[1, 0, 0, 0],\n",
    "                    [0, cos(q6), -sin(q6), 0],\n",
    "                    [0, sin(q6), cos(q6), 0],\n",
    "                    [0, 0, 0, 1]])\n",
    "    fTee = np.array([[1, 0, 0, l6],\n",
    "                    [0, 1, 0, 0],\n",
    "                    [0, 0, 1, 0],\n",
    "                    [0, 0, 0, 1]])\n",
    "    \n",
    "    wTe = wTa @ aTb @ bTc @ cTd @ dTe @ eTf @ fTee\n",
    "    \n",
    "    R = wTe[:3, :3]\n",
    "    t = wTe[:3, 3]\n",
    "    \n",
    "\n",
    "    return R, t"
   ]
  },
  {
   "cell_type": "markdown",
   "id": "ace0947b",
   "metadata": {},
   "source": [
    "## 2) Inverse kinematics in 2D (30)\n",
    "\n",
    "We're going to explore the nuances of analytical solutions to inverse kinematics by looking at the following problem.\n",
    "\n",
    "<img src=\"https://jorge-a-mendez.github.io/images/ese564s24/2RP_ik.png\" width=30%>\n",
    "\n",
    "The robot depicted above has two revolute joints and one prismatic joint. The first revolute joint connects the world frame to link 1, which has length $L_1$. At the end of link 1, there is another revolute joint connecting to link 2. The end point is a distance $d\\geq 0$ away from the second revolute joint, where $d$ is determined by the prismatic joint. \n",
    "\n",
    "We will solve the forward and inverse kinematics for this robot."
   ]
  },
  {
   "cell_type": "markdown",
   "id": "edda21e7",
   "metadata": {
    "deletable": false,
    "editable": false
   },
   "source": [
    "#### 2.1) Forward kinematics\n",
    "\n",
    "Find an expression for the forward kinematics of this robot. In other words, find the position and orientation for the tip of link 2 in the world frame located at joint 0 and pointing to the right. Assume that the coordinate frame at the tip is such that the $x$ axis points away from the tip. You are welcome to use any matrix multiplication function, but it may be useful to work out the expression by hand for the next question. Express your answer as a function of $L_1$, $d$, $\\theta_1$, and $\\theta_2$.\n",
    "\n",
    "_Points:_ 5"
   ]
  },
  {
   "cell_type": "code",
   "execution_count": 8,
   "id": "0d5dc27e",
   "metadata": {
    "tags": [
     "otter_answer_cell"
    ]
   },
   "outputs": [],
   "source": [
    "# Your function should return a (2,2) numpy array for the rotation matrix and a (2,) numpy array for the position vector\n",
    "def X_G_21(l1, theta1, theta2, d):\n",
    "    wTa = np.array([[cos(theta1), -sin(theta1), 0.0],\n",
    "                    [sin(theta1), cos(theta1), 0.0],\n",
    "                    [0, 0, 1]])\n",
    "    aTb = np.array([[1, 0, l1],\n",
    "                    [0, 1, 0],\n",
    "                    [0, 0, 1]])\n",
    "    bTc = np.array([[cos(theta2), -sin(theta2), 0.0],\n",
    "                    [sin(theta2), cos(theta2), 0.0],\n",
    "                    [0, 0, 1]])\n",
    "    cTe = np.array([[1, 0, d],\n",
    "                    [0, 1, 0],\n",
    "                    [0, 0, 1]])\n",
    "\n",
    "    wTe = wTa @ aTb @ bTc @ cTe\n",
    "    R = wTe[:2, :2]\n",
    "    t = wTe[:2, 2]\n",
    "    \n",
    "    return R, t"
   ]
  },
  {
   "cell_type": "markdown",
   "id": "404ad0f2",
   "metadata": {
    "deletable": false,
    "editable": false
   },
   "source": [
    "$2\\times2$ rotation matrices can be parameterized by a single number: the counter-clockwise angle of rotation. What is the angle of rotation for the orientation of the tip of link 2? Express your answer as a function of $L_1$, $d$, $\\theta_1$, and $\\theta_2$. Your answer should be an angle in $[0, 2\\pi]$.\n",
    "\n",
    "*Hint1: The angle-sum identities may come in handy: $$\\begin{aligned}\n",
    "    \\sin(\\alpha+\\beta) &= \\sin\\alpha\\cos\\beta + \\cos\\alpha\\sin\\beta\\\\\n",
    "    \\cos(\\alpha+\\beta) &= \\cos\\alpha\\cos\\beta - \\sin\\alpha\\sin\\beta\n",
    "\\end{aligned}$$*\n",
    "*Hint2: you may find the function `np.mod` useful.*\n",
    "\n",
    "_Points:_ 2"
   ]
  },
  {
   "cell_type": "code",
   "execution_count": 9,
   "id": "eb80577e",
   "metadata": {
    "tags": [
     "otter_answer_cell"
    ]
   },
   "outputs": [],
   "source": [
    "# Your function should return a (2,2) numpy array for the rotation matrix and a (2,) numpy array for the position vector\n",
    "def theta_G_211(l1, theta1, theta2, d):\n",
    "    angle = np.mod(theta1 + theta2, 2*pi)\n",
    "    return angle"
   ]
  },
  {
   "cell_type": "markdown",
   "id": "8eaf4c8e",
   "metadata": {},
   "source": [
    "#### 2.2) Inverse kinematics\n",
    "\n",
    "We will now find an expression for the inverse kinematics of this mechanism. Given a target $x, y, \\theta$ pose, our goal is to find the joint coordinates $\\theta_1, \\theta_2, d$ for the robot. \n",
    "\n",
    "Start by deriving an expression for all possible solutions to the IK problem with $\\theta_1,\\theta_2\\in[0, 2\\pi)$. For now, ignore the constraint $d\\geq0$. \n",
    "\n",
    "*Hint: Plug your expression from 2.1.1 for $\\theta$ into your expressions for $x$ and $y$ to obtain a system of 2 trigonometric equations. Manipulate the equations until you find one equation that involves a term of the form $\\cos A\\sin B - \\sin A\\cos B$, and use the identity $\\cos A\\sin B - \\sin A\\cos B = \\sin(B-A)$.*"
   ]
  },
  {
   "cell_type": "markdown",
   "id": "1fcda4c7",
   "metadata": {
    "deletable": false,
    "editable": false
   },
   "source": [
    "##### 2.2.1) \n",
    "\n",
    "As we saw in class, there are often IK problems (in this case, choices of target $x,y,\\theta$) that cannot be solved for a given system. Inspect your expression for the IK and write a Python function that determines whether a given IK problem for this robot has a solution, ignoring the constraint $d\\geq 0$.\n",
    "\n",
    "*Hint: this can be written as a simple one-line check.*\n",
    "\n",
    "_Points:_ 5"
   ]
  },
  {
   "cell_type": "code",
   "execution_count": null,
   "id": "aa29e16c",
   "metadata": {
    "tags": [
     "otter_answer_cell"
    ]
   },
   "outputs": [
    {
     "data": {
      "text/plain": [
       "np.True_"
      ]
     },
     "execution_count": 10,
     "metadata": {},
     "output_type": "execute_result"
    }
   ],
   "source": [
    "# Your function should return True if there is a valid solution to the IK problem, and False otherwise\n",
    "# Note: this function should not return the solution to the IK, only whether a solution exists\n",
    "def has_IK_221(l1, x, y, theta):\n",
    "    return -l1 <= x * np.sin(theta) - y * np.cos(theta) <= l1\n",
    "\n",
    "has_IK_221(0.01, 1, 1, pi/4)"
   ]
  },
  {
   "cell_type": "markdown",
   "id": "370aa47a",
   "metadata": {
    "deletable": false,
    "editable": false
   },
   "source": [
    "##### 2.2.2) \n",
    "\n",
    "We also saw that IK problems often have infinitely many solutions. Are there problems for which this system has infinitely many solutions?\n",
    "\n",
    "\n",
    "_Points:_ 3"
   ]
  },
  {
   "cell_type": "code",
   "execution_count": 11,
   "id": "28be4401",
   "metadata": {
    "tags": [
     "otter_answer_cell"
    ]
   },
   "outputs": [],
   "source": [
    "# set ans_222 to True if there are problems with infinitely many solutions for this system, and False otherwise\n",
    "ans_222 = False"
   ]
  },
  {
   "cell_type": "markdown",
   "id": "4271f50c",
   "metadata": {
    "deletable": false,
    "editable": false
   },
   "source": [
    "##### 2.2.3) \n",
    "\n",
    "Based on your answers so far, how many solutions can IK problems for this system have? Return a list with all possible numbers of solutions (e.g., `[10, 15, 167]` if the problem can have 10, 15, or 167 solutions)\n",
    "\n",
    "_Points:_ 3"
   ]
  },
  {
   "cell_type": "code",
   "execution_count": 12,
   "id": "10cb6652",
   "metadata": {
    "tags": [
     "otter_answer_cell"
    ]
   },
   "outputs": [],
   "source": [
    "# Express your answer as a list of all possible numbers of solutions the system could have\n",
    "ans_223 = [0, 1, 2]"
   ]
  },
  {
   "cell_type": "markdown",
   "id": "f16bb374",
   "metadata": {
    "deletable": false,
    "editable": false
   },
   "source": [
    "##### 2.2.4) \n",
    "\n",
    "Write a Python function that implements the IK for this planar robot mechanism. The return value should be a `list` of solutions, where each solution is a tuple `(theta1, theta2, d)` (in that order). If there are no solutions, the list should be empty. The list should not contain repeated solutions (i.e., if you compute two solutions and they turn out to be equivalent, then you should return only one). To check whether two numbers are equivalent, use `np.isclose(a, b)` instead of `a == b`, to account for numerical errors.\n",
    "\n",
    "You should leverage your function `has_IK_221` to avoid computing invalid solutions. Additionally, you should \"filter out\" (i.e., not return) any solutions where $d < 0$. Make sure that both `theta1` and `theta2` are in $[0, 2\\pi)$. \n",
    "\n",
    "_Points:_ 10"
   ]
  },
  {
   "cell_type": "code",
   "execution_count": 13,
   "id": "8d955087",
   "metadata": {
    "tags": [
     "otter_answer_cell"
    ]
   },
   "outputs": [],
   "source": [
    "# Your function should return a list of all possible IK solutions, without repetitions\n",
    "def IK_224(l1, x, y, theta):\n",
    "    if not has_IK_221(l1, x, y, theta) or l1 == 0:\n",
    "        return []\n",
    "    \n",
    "    k = x * np.sin(theta) - y * np.cos(theta)\n",
    "    s = k / l1\n",
    "    phi1 = np.arcsin(s)\n",
    "\n",
    "    \n",
    "    \n",
    "    \n",
    "    # Two solutions for theta1, theta2\n",
    "    t1a, t2a = np.mod(theta - phi1, 2 * np.pi), np.mod(phi1, 2 * np.pi)\n",
    "    t1b, t2b = np.mod(theta - (np.pi - phi1), 2 * np.pi), np.mod(np.pi - phi1, 2 * np.pi)\n",
    "    \n",
    "    # Compute d, avoiding division by zero\n",
    "    d_calc = lambda t1: (x - l1 * np.cos(t1)) / np.cos(theta) if not np.isclose(np.cos(theta), 0) else (y - l1 * np.sin(t1)) / np.sin(theta)\n",
    "    da, db = d_calc(t1a), d_calc(t1b)\n",
    "    \n",
    "    # Filter d >= 0 and collect unique solutions\n",
    "    sols = []\n",
    "    for t1, t2, d in [(t1a, t2a, da), (t1b, t2b, db)]:\n",
    "        if d >= 0 and not any(np.all(np.isclose([t1, t2, d], s)) for s in sols):\n",
    "            sols.append((t1, t2, d))\n",
    "    \n",
    "    \n",
    "    return sols\n"
   ]
  },
  {
   "cell_type": "markdown",
   "id": "3dc37d1e",
   "metadata": {
    "deletable": false,
    "editable": false
   },
   "source": [
    "##### 2.2.5) \n",
    "\n",
    "Give an example of an IK problem for this mechanism that has only one solution using $L_1=1$.\n",
    "\n",
    "_Points:_ 2"
   ]
  },
  {
   "cell_type": "code",
   "execution_count": 14,
   "id": "88980783",
   "metadata": {
    "tags": [
     "otter_answer_cell"
    ]
   },
   "outputs": [],
   "source": [
    "# Express your answer as a tuple (x, y, theta)\n",
    "xyth_225 = (2, 1, 0)"
   ]
  },
  {
   "cell_type": "markdown",
   "id": "8ce087b4",
   "metadata": {},
   "source": [
    "## 3) IK in practice (50 pts)\n",
    "\n",
    "We are now going to use IK as you would in practice. Our goal will be to repeat the pick-place steps from HW 3, but this time setting the joint positions of the robot instead of a floating gripper. For that, we will use the popular `ikfast` tool, developed by MoveIt. `ikfast` finds analytical solutions to 6D-pose IK problems for arbitrary 6-DoF arms. While working directly with `ikfast` to create IK solutions for a custom robot is non-trivial and requires a bit of black magic, there are a number of Python bindings available for common robots---including our Franka Panda robot.\n",
    "\n",
    "To install the Python bindings for running `ikfast` for the Panda, and initialize our MuJoCo model, run the following code cell.\n"
   ]
  },
  {
   "cell_type": "code",
   "execution_count": 15,
   "id": "65ebe2aa",
   "metadata": {},
   "outputs": [
    {
     "name": "stdout",
     "output_type": "stream",
     "text": [
      "ikfast_panda_arm.cpp\n",
      "   Creating library build\\temp.win-amd64-cpython-310\\Release\\ikfast_panda_arm.cp310-win_amd64.lib and object build\\temp.win-amd64-cpython-310\\Release\\ikfast_panda_arm.cp310-win_amd64.exp\n",
      "Generating code\n",
      "Finished generating code\n",
      "\n",
      "ikfast module ikfast_panda_arm imported successful\n"
     ]
    },
    {
     "data": {
      "text/html": [
       "<table class=\"show_images\" style=\"border-spacing:0px;\"><tr><td style=\"padding:1px;\"><img width=\"640\" height=\"480\" style=\"image-rendering:auto; object-fit:cover;\" src=\"data:image/png;base64,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\"/></td></tr></table>"
      ],
      "text/plain": [
       "<IPython.core.display.HTML object>"
      ]
     },
     "metadata": {},
     "output_type": "display_data"
    }
   ],
   "source": [
    "!cd ikfast && python setup.py && cd ..\n",
    "import mujoco\n",
    "import mediapy as media\n",
    "import os\n",
    "import glfw\n",
    "import sys\n",
    "sys.path.append('ikfast')\n",
    "from ikfast import ikfast_panda_arm as ikfast\n",
    "\n",
    "\n",
    "def has_valid_renderer():\n",
    "    \"\"\"Checks if OpenGL can be initialized successfully.\"\"\"\n",
    "    # Try initializing GLFW\n",
    "    if not glfw.init():\n",
    "        print(\"GLFW initialization failed. No valid renderer.\")\n",
    "        return False\n",
    "    \n",
    "    # Try creating a hidden window to test OpenGL context creation\n",
    "    window = glfw.create_window(640, 480, \"Renderer Test\", None, None)\n",
    "    if not window:\n",
    "        print(\"GLFW could not create an OpenGL context. No valid renderer.\")\n",
    "        glfw.terminate()\n",
    "        return False\n",
    "    \n",
    "    glfw.make_context_current(window)\n",
    "    renderer_available = True  # If we reach this point, rendering should work\n",
    "\n",
    "    # Cleanup\n",
    "    glfw.destroy_window(window)\n",
    "    glfw.terminate()\n",
    "    return renderer_available\n",
    "\n",
    "def render_state(model, data):\n",
    "    if not has_valid_renderer():\n",
    "        print(\"Error rendering the scene. Make sure you have a valid OpenGL installation.\")\n",
    "        return\n",
    "\n",
    "    mujoco.mj_forward(model, data)\n",
    "    with mujoco.Renderer(model, height=480, width=640) as renderer:\n",
    "        renderer.update_scene(data, \"front_view\")  # Ensure scene is updated with final simulation state\n",
    "        media.show_image(renderer.render())\n",
    "\n",
    "def set_joint_positions(model, data, joints):\n",
    "    data.qpos[7:14] = joints\n",
    "    data.qpos[14:16] = [0.04, 0.04]\n",
    "    \n",
    "# Define the MJCF path and mesh directory\n",
    "mjcf_path = 'assets/Panda/panda.mjcf'\n",
    "mesh_dir = 'assets/Panda/meshes/collision/'\n",
    "\n",
    "# Load mesh files into a dictionary\n",
    "assets = {}\n",
    "for file_name in os.listdir(mesh_dir):\n",
    "    file_path = os.path.join(mesh_dir, file_name)\n",
    "    with open(file_path, 'rb') as f:\n",
    "        assets[f'meshes/collision/{file_name}'] = f.read()\n",
    "\n",
    "# Load the MuJoCo model\n",
    "model = mujoco.MjModel.from_xml_path(mjcf_path, assets=assets)\n",
    "data = mujoco.MjData(model)\n",
    "\n",
    "# Call mj_forward to initialize the state\n",
    "mujoco.mj_forward(model, data)\n",
    "\n",
    "# Render the scene\n",
    "render_state(model, data)"
   ]
  },
  {
   "cell_type": "markdown",
   "id": "cc183806",
   "metadata": {},
   "source": [
    "One caveat for using `ikfast` for the Panda is that analytical solutions can only be found for 6-DoF arms, but the Panda is a 7-DoF arm. One common way to deal with this issue is to treat one of the joints as \"free\", set the value of this joint ourselves, and then run `ikfast` with that fixed joint value. While there are better ways to do this, a simple approach is to sample the value of the free joint uniformly at random from its range. \n",
    "\n",
    "Note that, compared to the coordinate frame used last week, the coordinate frame used this week is shifted so that the base of the Panda arm is at the world origin. This doesn't change anything conceptually, but makes it easier to work with `ikfast`. "
   ]
  },
  {
   "cell_type": "markdown",
   "id": "78cd248e",
   "metadata": {
    "deletable": false,
    "editable": false
   },
   "source": [
    "##### 3.1)\n",
    "\n",
    "Write a Python function that implements the following algorithm:\n",
    "- Given a target pose $X^G$\n",
    "- for a max number of steps:\n",
    "    - pick a value of the free joint uniformly at random\n",
    "    - call `ikfast` to find configurations for the remaining joints \n",
    "    - if any solution returned by `ikfast` satisfies all joint limits, return that solution\n",
    "- if after the max number steps you have found no solutions, return None\n",
    "\n",
    "`ikfast` has two functions:\n",
    "- `ikfast.get_ik(R, p, free)`\n",
    "    - `R` is the rotation matrix $R^G$, expressed as a 3x3 nested Python list (you can use `np_array.tolist()`)\n",
    "    - `p` is the position vector $p^G$, expressed as a length-3 Python list\n",
    "    - `free` is a list containing the value of the free joints. For the panda, there is only one free joint, so this is a length-1 list\n",
    "    - Return: a list of solutions, where each solution is a list of joint positions for joints 1...7. If no solution is found, then returns `None`\n",
    "- `ikfast.get_fk(joints)` -- this is useful for debugging!\n",
    "    - `joints` is a list of joint positions for joints 1...7\n",
    "    - Return: a list of 2 elements. the first element is a 3-element list representing the gripper position, and the second element is a 3x3 nested list representing the gripper rotation matrix\n",
    "\n",
    "\n",
    "Here are some pointers on how to leverage MuJoCo for this part of the assignment:\n",
    "- You can get the `id` of a joint by running `mujoco.mj_name2id(model, mujoco.mjtObj.mjOBJ_JOINT, <joint_name>)`\n",
    "    - The Panda joint names are `panda_joint0` to `panda_joint7`. `joint7` is the free joint in `ikfast`\n",
    "- You can get the joint limits for a given joint id by getting `model.jnt_range[id, 0]` (for the min) and `model.jnt_range[id, 1]` for the max\n",
    "\n",
    "_Points:_ 15"
   ]
  },
  {
   "cell_type": "code",
   "execution_count": 56,
   "id": "3187f8c9",
   "metadata": {
    "tags": [
     "otter_answer_cell"
    ]
   },
   "outputs": [],
   "source": [
    "import random\n",
    "\n",
    "def panda_ik_31(R_G, p_G, model, max_iters=100):\n",
    "    \"\"\" Assume that R_G and p_G are the rotation matrix and position vector of the \n",
    "    end effector in the world frame, expressed as the list objects expected by ikfast.get_ik\n",
    "    \"\"\"\n",
    "    # Get joint IDs for panda_joint0 through panda_joint6 (joint7 is free)\n",
    "    joint_ids = [mujoco.mj_name2id(model, mujoco.mjtObj.mjOBJ_JOINT, f'panda_joint{i+1}') \n",
    "                for i in range(7)]\n",
    "    \n",
    "    # Get joint limits for the free joint (panda_joint7)\n",
    "    free_joint_id = mujoco.mj_name2id(model, mujoco.mjtObj.mjOBJ_JOINT, 'panda_joint7')\n",
    "    free_joint_min = model.jnt_range[free_joint_id, 0]\n",
    "    free_joint_max = model.jnt_range[free_joint_id, 1]\n",
    "    \n",
    "    for _ in range(max_iters):\n",
    "        # Sample free joint value uniformly from its range\n",
    "        free_joint = random.uniform(free_joint_min, free_joint_max)\n",
    "        \n",
    "        \n",
    "        # Call ikfast with the free joint value\n",
    "        ik_solutions = ikfast.get_ik(R_G, p_G, [free_joint])\n",
    "        \n",
    "        \n",
    "        # Check if any solutions were found\n",
    "        if ik_solutions is not None:\n",
    "            # Check each solution against joint limits\n",
    "            for solution in ik_solutions:\n",
    "                valid = True\n",
    "                # Check all joints against their limits\n",
    "                \n",
    "                for i in range(7):  # Check all joints including free joint\n",
    "                    jnt_id = joint_ids[i]\n",
    "                    jnt_min = model.jnt_range[jnt_id, 0]\n",
    "                    jnt_max = model.jnt_range[jnt_id, 1]\n",
    "                    if solution[i] < jnt_min or solution[i] > jnt_max:\n",
    "                        valid = False\n",
    "                        break\n",
    "                \n",
    "                # If solution is valid for all joints, return it\n",
    "                if valid:\n",
    "                    return solution\n",
    "                \n",
    "                    \n",
    "    # No valid solution found after max iterations\n",
    "    return None\n"
   ]
  },
  {
   "cell_type": "markdown",
   "id": "b74f6e33",
   "metadata": {
    "deletable": false,
    "editable": false
   },
   "source": [
    "### 3.2) \n",
    "\n",
    "Now we're ready to pick-and-place with a full Panda arm.\n",
    "\n",
    "Start by finding the block pose and setting the gripper to a floating configuration, 0.5 units above the block on the $z$ axis of the block, and oriented as: $x$ axis aligned with block's $y$ axis, $y$ axis aligned with block's $x$ axis, and $z$ axis aligned with block's $-z$ axis.\n",
    "\n",
    "_Points:_ 7"
   ]
  },
  {
   "cell_type": "code",
   "execution_count": 57,
   "id": "dcc244e0",
   "metadata": {},
   "outputs": [
    {
     "data": {
      "text/plain": [
       "14"
      ]
     },
     "execution_count": 57,
     "metadata": {},
     "output_type": "execute_result"
    }
   ],
   "source": [
    "# Get block pose (assuming there's a body named 'block' in the model)\n",
    "block_id = mujoco.mj_name2id(model, mujoco.mjtObj.mjOBJ_BODY, 'block')\n",
    "p_B_32 = data.xpos[block_id].copy()  # Block position in world frame\n",
    "quat_B_32 = data.xquat[block_id].copy()  # Block quaternion in world frame (wxyz)\n",
    "\n",
    "block_id"
   ]
  },
  {
   "cell_type": "code",
   "execution_count": null,
   "id": "e619747e",
   "metadata": {
    "tags": [
     "otter_answer_cell"
    ]
   },
   "outputs": [],
   "source": [
    "\n",
    "# Get block pose (assuming there's a body named 'block' in the model)\n",
    "block_id = mujoco.mj_name2id(model, mujoco.mjtObj.mjOBJ_BODY, 'block')\n",
    "p_B_32 = data.xpos[block_id].copy()  # Block position in world frame\n",
    "quat_B_32 = data.xquat[block_id].copy()  # Block quaternion in world frame (wxyz)\n",
    "p_BGfloat_32 = ...\n",
    "quat_BGfloat_32 = ...\n",
    "p_Gfloat_32 = ...\n",
    "quat_Gfloat_32 = ...\n",
    "Rmat_Gfloat_32 = ...\n",
    "\n",
    "joints_32 = ...\n",
    "\n",
    "## Do *not* modify the code below\n",
    "set_joint_positions(model, data, joints_32)\n",
    "render_state(model, data)\n",
    "ans_32 = data.qpos[7:14].tolist()"
   ]
  },
  {
   "cell_type": "markdown",
   "id": "0709a627",
   "metadata": {
    "deletable": false,
    "editable": false
   },
   "source": [
    "#### 3.3)\n",
    "Now let's set the gripper to the \"picking\" configuration, 0.12 units above the block, with the same orientation\n",
    "\n",
    "_Points:_ 7"
   ]
  },
  {
   "cell_type": "code",
   "execution_count": null,
   "id": "05d194e9",
   "metadata": {
    "otter": {
     "tests": [
      "q3.3"
     ]
    },
    "tags": [
     "otter_answer_cell"
    ]
   },
   "outputs": [],
   "source": [
    "p_GfloatGpick_33 = ...\n",
    "quat_GfloatGpick_33 = ...\n",
    "p_Gpick_33 = ...\n",
    "quat_Gpick_33 = ...\n",
    "Rmat_Gpick33 = ...\n",
    "joints_33 = ...\n",
    "\n",
    "## Do *not* modify the code below\n",
    "set_joint_positions(model, data, joints_33)\n",
    "render_state(model, data)\n",
    "ans_33 = data.qpos[7:14].tolist()\n"
   ]
  },
  {
   "cell_type": "markdown",
   "id": "19240d2b",
   "metadata": {
    "deletable": false,
    "editable": false
   },
   "source": [
    "#### 3.4)\n",
    "\n",
    "Compute the pose of the block relative to the gripper while the block is held. Then, set the position and orientation of the gripper to match the previous floating configuration.\n",
    "\n",
    "_Points:_ 7"
   ]
  },
  {
   "cell_type": "code",
   "execution_count": null,
   "id": "43902c4a",
   "metadata": {
    "otter": {
     "tests": [
      "q3.4"
     ]
    },
    "tags": [
     "otter_answer_cell"
    ]
   },
   "outputs": [],
   "source": [
    "p_BGpick_34 = ...\n",
    "quat_BGpick_34 = ...\n",
    "\n",
    "joints_34 = ...\n",
    "\n",
    "# The next few lines \"attach\" the block to the gripper.\n",
    "# This is not required for obtaining points in the \n",
    "# assignment, but is included for visualization purposes.\n",
    "# This will only \"look right\" if your answers up to this\n",
    "# point are correct.\n",
    "p_GpickB_34 = np.empty(3)\n",
    "quat_GpickB_34 = np.empty(4)\n",
    "mujoco.mju_negPose(p_GpickB_34, quat_GpickB_34, p_BGpick_34, quat_BGpick_34)\n",
    "\n",
    "p_Bfloat = np.empty(3)\n",
    "quat_Bfloat = np.empty(4)\n",
    "# Compute the pose of the block int he world frame by \n",
    "# composing the pose of the gripper in the world frame\n",
    "# and the relative pose of the gripper w.r.t. the \n",
    "# block \n",
    "mujoco.mju_mulPose(p_Bfloat, quat_Bfloat, p_Gfloat_32, quat_Gfloat_32, p_GpickB_34, quat_GpickB_34)\n",
    "model.body(\"block\").pos = p_Bfloat\n",
    "model.body(\"block\").quat = quat_Bfloat\n",
    "\n",
    "## Do *not* modify the code below\n",
    "set_joint_positions(model, data, joints_34)\n",
    "render_state(model, data)\n",
    "ans_34 = data.qpos[7:14].tolist()\n"
   ]
  },
  {
   "cell_type": "markdown",
   "id": "ede70035",
   "metadata": {
    "deletable": false,
    "editable": false
   },
   "source": [
    "#### 3.5)\n",
    "Now let's move the gripper so that the block hovers above its final desired orientation. We want the block to end up at position $(0.4, -0.4, 0.03)$ aligned with the world frame. In this stage, we want to move the gripper so that the block is $0.5$ units above its target position in the $z$ axis.\n",
    "\n",
    "_Points:_ 7"
   ]
  },
  {
   "cell_type": "code",
   "execution_count": null,
   "id": "45ec2a99",
   "metadata": {
    "otter": {
     "tests": [
      "q3.5"
     ]
    },
    "tags": [
     "otter_answer_cell"
    ]
   },
   "outputs": [],
   "source": [
    "p_Bhover_35 = ...\n",
    "quat_Bhover_35 = ...\n",
    "p_Ghover_35 = ...\n",
    "quat_Ghover_35 = ...\n",
    "Rmat_Ghover35 = ...\n",
    "joints_35 = ...\n",
    "\n",
    "# The next few lines \"attach\" the block to the gripper.\n",
    "# This is not required for obtaining points in the \n",
    "# assignment, but is included for visualization purposes.\n",
    "# This will only \"look right\" if your answers up to this\n",
    "# point are correct.\n",
    "p_Bhover = np.empty(3)\n",
    "quat_Bhover = np.empty(4)\n",
    "# Compute the pose of the block int he world frame by \n",
    "# composing the pose of the gripper in the world frame\n",
    "# and the relative pose of the gripper w.r.t. the \n",
    "# block \n",
    "mujoco.mju_mulPose(p_Bhover, quat_Bhover, p_Ghover_35, quat_Ghover_35, p_GpickB_34, quat_GpickB_34)\n",
    "model.body(\"block\").pos = p_Bhover\n",
    "model.body(\"block\").quat = quat_Bhover\n",
    "\n",
    "## Do *not* modify the code below\n",
    "set_joint_positions(model, data, joints_35)\n",
    "render_state(model, data)\n",
    "ans_35 = data.qpos[7:14].tolist()\n"
   ]
  },
  {
   "cell_type": "markdown",
   "id": "0fbd1720",
   "metadata": {
    "deletable": false,
    "editable": false
   },
   "source": [
    "#### 3.6)\n",
    "\n",
    "Finally, we lower the gripper so that the block is at the target position\n",
    "\n",
    "_Points:_ 7"
   ]
  },
  {
   "cell_type": "code",
   "execution_count": null,
   "id": "4a0396b0",
   "metadata": {
    "otter": {
     "tests": [
      "q3.6"
     ]
    },
    "tags": [
     "otter_answer_cell"
    ]
   },
   "outputs": [],
   "source": [
    "p_GhoverGplace_36 = ...\n",
    "quat_GhoverGplace_36 = ...\n",
    "p_Gplace_36 = ...\n",
    "quat_Gplace_36 = ...\n",
    "Rmat_Gplace_36 = ...\n",
    "joints_36 = ...\n",
    "\n",
    "# The next few lines \"attach\" the block to the gripper.\n",
    "# This is not required for obtaining points in the \n",
    "# assignment, but is included for visualization purposes.\n",
    "# This will only \"look right\" if your answers up to this\n",
    "# point are correct.\n",
    "p_Bplace = np.empty(3)\n",
    "quat_Bplace = np.empty(4)\n",
    "# Compute the pose of the block int he world frame by \n",
    "# composing the pose of the gripper in the world frame\n",
    "# and the relative pose of the gripper w.r.t. the \n",
    "# block \n",
    "mujoco.mju_mulPose(p_Bplace, quat_Bplace, p_Gplace_36, quat_Gplace_36, p_GpickB_34, quat_GpickB_34)\n",
    "model.body(\"block\").pos = p_Bplace\n",
    "model.body(\"block\").quat = quat_Bplace\n",
    "\n",
    "## Do *not* modify the code below\n",
    "set_joint_positions(model, data, joints_36)\n",
    "render_state(model, data)\n",
    "ans_36 = data.qpos[7:14].tolist()\n"
   ]
  },
  {
   "cell_type": "markdown",
   "id": "e916bdb8",
   "metadata": {
    "deletable": false,
    "editable": false
   },
   "source": [
    "## Submission\n",
    "\n",
    "Make sure you have run all cells in your notebook in order before running the cell below, so that all images/graphs appear in the output. The cell below will generate a zip file for you to submit. **Please save before exporting!**\n",
    "\n",
    "Fill out the answers to all questions and submit your file hw4.ipynb to the HW4 assignment on Gradescope. You are free to resubmit as many times as you wish."
   ]
  },
  {
   "cell_type": "code",
   "execution_count": null,
   "id": "fd9c57d8",
   "metadata": {
    "deletable": false,
    "editable": false
   },
   "outputs": [],
   "source": [
    "# Save your notebook first, then run this cell to export your submission.\n",
    "grader.export(pdf=False, run_tests=True)\n"
   ]
  },
  {
   "cell_type": "markdown",
   "id": "e03fe78c",
   "metadata": {},
   "source": [
    " "
   ]
  }
 ],
 "metadata": {
  "kernelspec": {
   "display_name": "ai4robotic",
   "language": "python",
   "name": "python3"
  },
  "language_info": {
   "codemirror_mode": {
    "name": "ipython",
    "version": 3
   },
   "file_extension": ".py",
   "mimetype": "text/x-python",
   "name": "python",
   "nbconvert_exporter": "python",
   "pygments_lexer": "ipython3",
   "version": "3.10.16"
  },
  "otter": {
   "OK_FORMAT": true,
   "assignment_name": "hw4",
   "tests": {
    "q1.1": {
     "name": "q1.1",
     "points": 5,
     "suites": [
      {
       "cases": [],
       "scored": true,
       "setup": "",
       "teardown": "",
       "type": "doctest"
      }
     ]
    },
    "q1.2": {
     "name": "q1.2",
     "points": 5,
     "suites": [
      {
       "cases": [],
       "scored": true,
       "setup": "",
       "teardown": "",
       "type": "doctest"
      }
     ]
    },
    "q1.3": {
     "name": "q1.3",
     "points": 5,
     "suites": [
      {
       "cases": [],
       "scored": true,
       "setup": "",
       "teardown": "",
       "type": "doctest"
      }
     ]
    },
    "q1.4": {
     "name": "q1.4",
     "points": 5,
     "suites": [
      {
       "cases": [],
       "scored": true,
       "setup": "",
       "teardown": "",
       "type": "doctest"
      }
     ]
    },
    "q2.1": {
     "name": "q2.1",
     "points": 5,
     "suites": [
      {
       "cases": [],
       "scored": true,
       "setup": "",
       "teardown": "",
       "type": "doctest"
      }
     ]
    },
    "q2.1.1": {
     "name": "q2.1.1",
     "points": 2,
     "suites": [
      {
       "cases": [],
       "scored": true,
       "setup": "",
       "teardown": "",
       "type": "doctest"
      }
     ]
    },
    "q2.2.1": {
     "name": "q2.2.1",
     "points": 5,
     "suites": [
      {
       "cases": [],
       "scored": true,
       "setup": "",
       "teardown": "",
       "type": "doctest"
      }
     ]
    },
    "q2.2.2": {
     "name": "q2.2.2",
     "points": 3,
     "suites": [
      {
       "cases": [],
       "scored": true,
       "setup": "",
       "teardown": "",
       "type": "doctest"
      }
     ]
    },
    "q2.2.3": {
     "name": "q2.2.3",
     "points": 3,
     "suites": [
      {
       "cases": [],
       "scored": true,
       "setup": "",
       "teardown": "",
       "type": "doctest"
      }
     ]
    },
    "q2.2.4": {
     "name": "q2.2.4",
     "points": 10,
     "suites": [
      {
       "cases": [],
       "scored": true,
       "setup": "",
       "teardown": "",
       "type": "doctest"
      }
     ]
    },
    "q2.2.5": {
     "name": "q2.2.5",
     "points": 2,
     "suites": [
      {
       "cases": [],
       "scored": true,
       "setup": "",
       "teardown": "",
       "type": "doctest"
      }
     ]
    },
    "q3.1": {
     "name": "q3.1",
     "points": 15,
     "suites": [
      {
       "cases": [],
       "scored": true,
       "setup": "",
       "teardown": "",
       "type": "doctest"
      }
     ]
    },
    "q3.2": {
     "name": "q3.2",
     "points": 7,
     "suites": [
      {
       "cases": [],
       "scored": true,
       "setup": "",
       "teardown": "",
       "type": "doctest"
      }
     ]
    },
    "q3.3": {
     "name": "q3.3",
     "points": 7,
     "suites": [
      {
       "cases": [],
       "scored": true,
       "setup": "",
       "teardown": "",
       "type": "doctest"
      }
     ]
    },
    "q3.4": {
     "name": "q3.4",
     "points": 7,
     "suites": [
      {
       "cases": [],
       "scored": true,
       "setup": "",
       "teardown": "",
       "type": "doctest"
      }
     ]
    },
    "q3.5": {
     "name": "q3.5",
     "points": 7,
     "suites": [
      {
       "cases": [],
       "scored": true,
       "setup": "",
       "teardown": "",
       "type": "doctest"
      }
     ]
    },
    "q3.6": {
     "name": "q3.6",
     "points": 7,
     "suites": [
      {
       "cases": [],
       "scored": true,
       "setup": "",
       "teardown": "",
       "type": "doctest"
      }
     ]
    }
   }
  }
 },
 "nbformat": 4,
 "nbformat_minor": 5
}
