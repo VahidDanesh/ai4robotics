{
 "cells": [
  {
   "cell_type": "code",
   "execution_count": null,
   "id": "c40c7976",
   "metadata": {
    "deletable": false,
    "editable": false
   },
   "outputs": [],
   "source": [
    "# Initialize Otter\n",
    "import otter\n",
    "grader = otter.Notebook(\"hw4.ipynb\")"
   ]
  },
  {
   "cell_type": "code",
   "execution_count": null,
   "id": "fc69dc99",
   "metadata": {},
   "outputs": [],
   "source": [
    "import numpy as np"
   ]
  },
  {
   "cell_type": "markdown",
   "id": "5add0ff4-27fa-4b8b-9429-77a6e70eb204",
   "metadata": {},
   "source": [
    "# FILL IN YOUR NAME AND THE NAME OF YOUR PEER (IF ANY) BELOW"
   ]
  },
  {
   "cell_type": "markdown",
   "id": "114b0f41-932d-43fb-96b0-a10ea759b6e4",
   "metadata": {},
   "source": [
    "**Name**: \\<replace this with your name\\>\n",
    "\n",
    "**Peer**: \\<replace this with your peer's name\\>\n",
    "\n",
    "## Collaboration policy\n",
    "Students are responsible for writing their own quizzes, assignments, and exams. For homework assignments, students are welcome (and encouraged) to discuss problems with one peer, **but each student must write their own assignment wrtieup and code individually**. The peer must be listed at the top of the writeup for each assignment. *Note: I will treat AI assistants as peers. That is, students are welcome to discuss problems with an AI assistant, but it is considered cheating to directly obtain an answer by querying the assistant. Please credit any AI assistant that you use.*"
   ]
  },
  {
   "cell_type": "markdown",
   "id": "3eeaa842-e2ff-4f0d-9447-6450943e8703",
   "metadata": {},
   "source": [
    "# Homework 4 -- Forward and inverse kinematics (100 pts)\n",
    "\n",
    "**Due:** Tuesday, February 25th, 2025 at 11:59 pm\n",
    "\n",
    "This homework builds on the material in the slides, Hauser Chapters 5 and 6 (on Forward Kinematics and Inverse Kinematics), and Tedrake chapter 3 (on Basic Pick-and-Place, especially 3.1 and 3.3).\n",
    "\n",
    "We will use Jupyter/Colab notebooks throughout the semester for writing code and generating assignment outputs.\n",
    "\n",
    "**Throughout this homework, please use 2D numpy arrays to represent all matrices. The autograder will use a precision of 3 decimal places.**\n",
    "\n",
    "\n",
    "## 1) Calculating Forward Kinematics (20 pts)\n",
    "For the following questions, you will derive a matrix expression for the pose of a coordinate frame attached to a robot's end-point (typically referred to as the \"end-effector\"), in terms of the variable joint configuration of the robot. In each case, it may be helpful to define intermediate frames such that defining each intermediate transformation matrix is easy. Your answers will by Python functions that receive as input the configuration of the joints and output the pose of the robot. **Unless otherwise stated, your functions may not call any external matrix multiplication function (e.g., `np.dot`).**"
   ]
  },
  {
   "cell_type": "markdown",
   "id": "9b077b00-bf16-44d7-988e-27cf380b2a3d",
   "metadata": {
    "deletable": false,
    "editable": false
   },
   "source": [
    "#### 1.1) Combined revolute and prismatic joint in 2D\n",
    "\n",
    "Consider a 2D robot with a single special revolute+prismatic joint, as depicted below:\n",
    "\n",
    "<img src=\"https://jorge-a-mendez.github.io/images/ese564s24/2d_simple_fk.png\" width=30%>\n",
    "\n",
    "(Note that this is just two joints attached at the same points.) The base link is aligned with the world frame, and the child link is attached to the special joint. The joint is displaced by a distance $d$ from the origin of the world frame in the $x$ direction, and rotated by $\\theta$ above the world's $x$ axis. The child link has a length of $l$, and the end-effector coordinate frame is attached at the end-point of the link, with the $x$ axis facing away from the link. \n",
    "\n",
    "Write a Python function that returns the pose of the end-effector frame in world coordinates as a function of $l$, $d$, and $\\theta$. \n",
    "\n",
    "_Points:_ 5"
   ]
  },
  {
   "cell_type": "code",
   "execution_count": null,
   "id": "50976ae0-2716-41ae-8690-d6987cc61d83",
   "metadata": {
    "tags": [
     "otter_answer_cell"
    ]
   },
   "outputs": [],
   "source": [
    "# Your function should return a (2,2) numpy array for the rotation matrix and a (2,) numpy array for the position vector\n",
    "def X_G_11(l, d, theta):\n",
    "    ..."
   ]
  },
  {
   "cell_type": "markdown",
   "id": "fe970def",
   "metadata": {
    "deletable": false,
    "editable": false
   },
   "source": [
    "#### 1.2) Translate and rotate in 3D\n",
    "\n",
    "Consider the 3D mechanism depicted below:\n",
    "\n",
    "<img src=\"https://jorge-a-mendez.github.io/images/ese564s24/3d_simple_fk.png\" width=30%>\n",
    "\n",
    "The base link is attached to the world frame and connected to a revolute joint by a link of length $l_1$ in the $x$ direction. The revolute joint rotates about the $z$ axis by an angle $\\theta$, and is connected to the end effector by a link of length $l_2$ in the $x$ direction when $\\theta=0$. The end-effector frame is aligned with the world's when $\\theta=0$. The overall mechanism adds a height of $l_0$ in the world $z$ axis. \n",
    "\n",
    "Write a Python function that returns the pose of the end-effector frame in world coordinates as a function of $l_1$, $l_2$, $l_0$, and $\\theta$.  \n",
    "\n",
    "_Points:_ 5"
   ]
  },
  {
   "cell_type": "code",
   "execution_count": null,
   "id": "0df1a49b",
   "metadata": {
    "tags": [
     "otter_answer_cell"
    ]
   },
   "outputs": [],
   "source": [
    "# Your function should return a (3,3) numpy array for the rotation matrix and a (3,) numpy array for the position vector\n",
    "def X_G_12(l0, l1, l2, theta):\n",
    "    ..."
   ]
  },
  {
   "cell_type": "markdown",
   "id": "2d388cda",
   "metadata": {
    "deletable": false,
    "editable": false
   },
   "source": [
    "#### 1.3) Multi-joint 2D mechanism\n",
    "\n",
    "Consider a 2D robot with two prismatic and two revolute joints, as shown below:\n",
    "\n",
    "<img src=\"https://jorge-a-mendez.github.io/images/ese564s24/2d_complex_fk.png\" width=20%>\n",
    "\n",
    "The base link is aligned with the world frame. The first child link is translated by $d_1$ along the world's $x$ axis and has a height of $l_0$. The second child link rotates by $\\theta_1$ above the world $x$ axis. The third child link is translated along the second link's length by $d_2$ and has a height $l_1$. The fourth child link rotates above the axis defined by the second child link and has length $l_2$. The end-effector frame is at the end of the fourth child link and its $x$ axis points away from the link. \n",
    "\n",
    "Write a Python function that returns the pose of the end-effector frame in world coordinates as a function of $l_0$, $l_1$, $l_2$, $d_1$, $d_2$, $\\theta_1$, $\\theta_2$.\n",
    "\n",
    "_Points:_ 5"
   ]
  },
  {
   "cell_type": "code",
   "execution_count": null,
   "id": "014886b1",
   "metadata": {
    "tags": [
     "otter_answer_cell"
    ]
   },
   "outputs": [],
   "source": [
    "# Your function should return a (2,2) numpy array for the rotation matrix and a (2,) numpy array for the position vector\n",
    "def X_G_13(l0, l1, l2, d1, d2, theta1, theta2):\n",
    "    ..."
   ]
  },
  {
   "cell_type": "markdown",
   "id": "85defcf2",
   "metadata": {
    "deletable": false,
    "editable": false
   },
   "source": [
    "#### 1.4) Industrial robot\n",
    "\n",
    "Consider the 3D mechanism depicted below, which is a somewhat typical industrial robot arm:\n",
    "\n",
    "<img src=\"https://jorge-a-mendez.github.io/images/ese564s24/3d_complex_fk.png\" width=30%>\n",
    "\n",
    "The robot has six revolute joints, so it is a 6DoF arm. One interesting property of 6DoF arms is that they can achieve any 6D pose that is within reach---they are fully actuated. Write a Python function that calculates the pose of the end-effector, defined as the position of the point between the parallel fingers (i.e., at distance $L_6$ from joint 6) and the orientation of the frame at joint 6 as depicted in the figure. The world frame coincides with the depicted joint 1 frame when $q_0=0$. (Other frames depicted in the figure may be useful intermediate frames for your calculations).\n",
    "\n",
    "Write a Python function that computes the end-effector pose in world coordinates as a function of the joint angles $q_{1\\ldots6}$ and the link lengths $L_1$, $L_2$, $L_3$, and $L_6$. **Please don't do all calculations by hand. Instead, write the intermediate transforms in your code and use numpy's matrix multiplication functions (e.g., `np.dot`) to compute the overall transform.**\n",
    "\n",
    "_Points:_ 5"
   ]
  },
  {
   "cell_type": "code",
   "execution_count": null,
   "id": "0cd9d322",
   "metadata": {
    "tags": [
     "otter_answer_cell"
    ]
   },
   "outputs": [],
   "source": [
    "# Your function should return a (3,3) numpy array for the rotation matrix and a (3,) numpy array for the position vector\n",
    "def X_G_14(l1, l2, l3, l6, q1, q2, q3, q4, q5, q6):\n",
    "    ..."
   ]
  },
  {
   "cell_type": "markdown",
   "id": "ace0947b",
   "metadata": {},
   "source": [
    "## 2) Inverse kinematics in 2D (30)\n",
    "\n",
    "We're going to explore the nuances of analytical solutions to inverse kinematics by looking at the following problem.\n",
    "\n",
    "<img src=\"https://jorge-a-mendez.github.io/images/ese564s24/2RP_ik.png\" width=30%>\n",
    "\n",
    "The robot depicted above has two revolute joints and one prismatic joint. The first revolute joint connects the world frame to link 1, which has length $L_1$. At the end of link 1, there is another revolute joint connecting to link 2. The end point is a distance $d\\geq 0$ away from the second revolute joint, where $d$ is determined by the prismatic joint. \n",
    "\n",
    "We will solve the forward and inverse kinematics for this robot."
   ]
  },
  {
   "cell_type": "markdown",
   "id": "edda21e7",
   "metadata": {
    "deletable": false,
    "editable": false
   },
   "source": [
    "#### 2.1) Forward kinematics\n",
    "\n",
    "Find an expression for the forward kinematics of this robot. In other words, find the position and orientation for the tip of link 2 in the world frame located at joint 0 and pointing to the right. Assume that the coordinate frame at the tip is such that the $x$ axis points away from the tip. You are welcome to use any matrix multiplication function, but it may be useful to work out the expression by hand for the next question. Express your answer as a function of $L_1$, $d$, $\\theta_1$, and $\\theta_2$.\n",
    "\n",
    "_Points:_ 5"
   ]
  },
  {
   "cell_type": "code",
   "execution_count": null,
   "id": "0d5dc27e",
   "metadata": {
    "tags": [
     "otter_answer_cell"
    ]
   },
   "outputs": [],
   "source": [
    "# Your function should return a (2,2) numpy array for the rotation matrix and a (2,) numpy array for the position vector\n",
    "def X_G_21(l1, theta1, theta2, d):\n",
    "    ..."
   ]
  },
  {
   "cell_type": "markdown",
   "id": "404ad0f2",
   "metadata": {
    "deletable": false,
    "editable": false
   },
   "source": [
    "$2\\times2$ rotation matrices can be parameterized by a single number: the counter-clockwise angle of rotation. What is the angle of rotation for the orientation of the tip of link 2? Express your answer as a function of $L_1$, $d$, $\\theta_1$, and $\\theta_2$. Your answer should be an angle in $[0, 2\\pi]$.\n",
    "\n",
    "*Hint1: The angle-sum identities may come in handy: $$\\begin{aligned}\n",
    "    \\sin(\\alpha+\\beta) &= \\sin\\alpha\\cos\\beta + \\cos\\alpha\\sin\\beta\\\\\n",
    "    \\cos(\\alpha+\\beta) &= \\cos\\alpha\\cos\\beta - \\sin\\alpha\\sin\\beta\n",
    "\\end{aligned}$$*\n",
    "*Hint2: you may find the function `np.mod` useful.*\n",
    "\n",
    "_Points:_ 2"
   ]
  },
  {
   "cell_type": "code",
   "execution_count": null,
   "id": "eb80577e",
   "metadata": {
    "tags": [
     "otter_answer_cell"
    ]
   },
   "outputs": [],
   "source": [
    "# Your function should return a (2,2) numpy array for the rotation matrix and a (2,) numpy array for the position vector\n",
    "def theta_G_211(l1, theta1, theta2, d):\n",
    "    ..."
   ]
  },
  {
   "cell_type": "markdown",
   "id": "8eaf4c8e",
   "metadata": {},
   "source": [
    "#### 2.2) Inverse kinematics\n",
    "\n",
    "We will now find an expression for the inverse kinematics of this mechanism. Given a target $x, y, \\theta$ pose, our goal is to find the joint coordinates $\\theta_1, \\theta_2, d$ for the robot. \n",
    "\n",
    "Start by deriving an expression for all possible solutions to the IK problem with $\\theta_1,\\theta_2\\in[0, 2\\pi)$. For now, ignore the constraint $d\\geq0$. \n",
    "\n",
    "*Hint: Plug your expression from 2.1.1 for $\\theta$ into your expressions for $x$ and $y$ to obtain a system of 2 trigonometric equations. Manipulate the equations until you find one equation that involves a term of the form $\\cos A\\sin B - \\sin A\\cos B$, and use the identity $\\cos A\\sin B - \\sin A\\cos B = \\sin(B-A)$.*"
   ]
  },
  {
   "cell_type": "markdown",
   "id": "1fcda4c7",
   "metadata": {
    "deletable": false,
    "editable": false
   },
   "source": [
    "##### 2.2.1) \n",
    "\n",
    "As we saw in class, there are often IK problems (in this case, choices of target $x,y,\\theta$) that cannot be solved for a given system. Inspect your expression for the IK and write a Python function that determines whether a given IK problem for this robot has a solution, ignoring the constraint $d\\geq 0$.\n",
    "\n",
    "*Hint: this can be written as a simple one-line check.*\n",
    "\n",
    "_Points:_ 5"
   ]
  },
  {
   "cell_type": "code",
   "execution_count": null,
   "id": "aa29e16c",
   "metadata": {
    "tags": [
     "otter_answer_cell"
    ]
   },
   "outputs": [],
   "source": [
    "# Your function should return True if there is a valid solution to the IK problem, and False otherwise\n",
    "# Note: this function should not return the solution to the IK, only whether a solution exists\n",
    "def has_IK_221(l1, x, y, theta):\n",
    "    ..."
   ]
  },
  {
   "cell_type": "markdown",
   "id": "370aa47a",
   "metadata": {
    "deletable": false,
    "editable": false
   },
   "source": [
    "##### 2.2.2) \n",
    "\n",
    "We also saw that IK problems often have infinitely many solutions. Are there problems for which this system has infinitely many solutions?\n",
    "\n",
    "\n",
    "_Points:_ 3"
   ]
  },
  {
   "cell_type": "code",
   "execution_count": null,
   "id": "28be4401",
   "metadata": {
    "tags": [
     "otter_answer_cell"
    ]
   },
   "outputs": [],
   "source": [
    "# set ans_222 to True if there are problems with infinitely many solutions for this system, and False otherwise\n",
    "ans_222 = ..."
   ]
  },
  {
   "cell_type": "markdown",
   "id": "4271f50c",
   "metadata": {
    "deletable": false,
    "editable": false
   },
   "source": [
    "##### 2.2.3) \n",
    "\n",
    "Based on your answers so far, how many solutions can IK problems for this system have? Return a list with all possible numbers of solutions (e.g., `[10, 15, 167]` if the problem can have 10, 15, or 167 solutions)\n",
    "\n",
    "_Points:_ 3"
   ]
  },
  {
   "cell_type": "code",
   "execution_count": null,
   "id": "10cb6652",
   "metadata": {
    "tags": [
     "otter_answer_cell"
    ]
   },
   "outputs": [],
   "source": [
    "# Express your answer as a list of all possible numbers of solutions the system could have\n",
    "ans_223 = ..."
   ]
  },
  {
   "cell_type": "markdown",
   "id": "f16bb374",
   "metadata": {
    "deletable": false,
    "editable": false
   },
   "source": [
    "##### 2.2.4) \n",
    "\n",
    "Write a Python function that implements the IK for this planar robot mechanism. The return value should be a `list` of solutions, where each solution is a tuple `(theta1, theta2, d)` (in that order). If there are no solutions, the list should be empty. The list should not contain repeated solutions (i.e., if you compute two solutions and they turn out to be equivalent, then you should return only one). To check whether two numbers are equivalent, use `np.isclose(a, b)` instead of `a == b`, to account for numerical errors.\n",
    "\n",
    "You should leverage your function `has_IK_221` to avoid computing invalid solutions. Additionally, you should \"filter out\" (i.e., not return) any solutions where $d < 0$. Make sure that both `theta1` and `theta2` are in $[0, 2\\pi)$. \n",
    "\n",
    "_Points:_ 10"
   ]
  },
  {
   "cell_type": "code",
   "execution_count": null,
   "id": "8d955087",
   "metadata": {
    "tags": [
     "otter_answer_cell"
    ]
   },
   "outputs": [],
   "source": [
    "# Your function should return a list of all possible IK solutions, without repetitions\n",
    "def IK_224(l1, x, y, theta):\n",
    "    ..."
   ]
  },
  {
   "cell_type": "markdown",
   "id": "3dc37d1e",
   "metadata": {
    "deletable": false,
    "editable": false
   },
   "source": [
    "##### 2.2.5) \n",
    "\n",
    "Give an example of an IK problem for this mechanism that has only one solution using $L_1=1$.\n",
    "\n",
    "_Points:_ 2"
   ]
  },
  {
   "cell_type": "code",
   "execution_count": null,
   "id": "88980783",
   "metadata": {
    "tags": [
     "otter_answer_cell"
    ]
   },
   "outputs": [],
   "source": [
    "# Express your answer as a tuple (x, y, theta)\n",
    "xyth_225 = ..."
   ]
  },
  {
   "cell_type": "markdown",
   "id": "8ce087b4",
   "metadata": {},
   "source": [
    "## 3) IK in practice (50 pts)\n",
    "\n",
    "We are now going to use IK as you would in practice. Our goal will be to repeat the pick-place steps from HW 3, but this time setting the joint positions of the robot instead of a floating gripper. For that, we will use the popular `ikfast` tool, developed by MoveIt. `ikfast` finds analytical solutions to 6D-pose IK problems for arbitrary 6-DoF arms. While working directly with `ikfast` to create IK solutions for a custom robot is non-trivial and requires a bit of black magic, there are a number of Python bindings available for common robots---including our Franka Panda robot.\n",
    "\n",
    "To install the Python bindings for running `ikfast` for the Panda, and initialize our MuJoCo model, run the following code cell.\n"
   ]
  },
  {
   "cell_type": "code",
   "execution_count": null,
   "id": "65ebe2aa",
   "metadata": {},
   "outputs": [],
   "source": [
    "!cd ikfast && python setup.py && cd ..\n",
    "import mujoco\n",
    "import mediapy as media\n",
    "import os\n",
    "import glfw\n",
    "import sys\n",
    "sys.path.append('ikfast')\n",
    "from ikfast import ikfast_panda_arm as ikfast\n",
    "\n",
    "\n",
    "def has_valid_renderer():\n",
    "    \"\"\"Checks if OpenGL can be initialized successfully.\"\"\"\n",
    "    # Try initializing GLFW\n",
    "    if not glfw.init():\n",
    "        print(\"GLFW initialization failed. No valid renderer.\")\n",
    "        return False\n",
    "    \n",
    "    # Try creating a hidden window to test OpenGL context creation\n",
    "    window = glfw.create_window(640, 480, \"Renderer Test\", None, None)\n",
    "    if not window:\n",
    "        print(\"GLFW could not create an OpenGL context. No valid renderer.\")\n",
    "        glfw.terminate()\n",
    "        return False\n",
    "    \n",
    "    glfw.make_context_current(window)\n",
    "    renderer_available = True  # If we reach this point, rendering should work\n",
    "\n",
    "    # Cleanup\n",
    "    glfw.destroy_window(window)\n",
    "    glfw.terminate()\n",
    "    return renderer_available\n",
    "\n",
    "def render_state(model, data):\n",
    "    if not has_valid_renderer():\n",
    "        print(\"Error rendering the scene. Make sure you have a valid OpenGL installation.\")\n",
    "        return\n",
    "\n",
    "    mujoco.mj_forward(model, data)\n",
    "    with mujoco.Renderer(model, height=480, width=640) as renderer:\n",
    "        renderer.update_scene(data, \"front_view\")  # Ensure scene is updated with final simulation state\n",
    "        media.show_image(renderer.render())\n",
    "\n",
    "def set_joint_positions(model, data, joints):\n",
    "    data.qpos[7:14] = joints\n",
    "    data.qpos[14:16] = [0.04, 0.04]\n",
    "    \n",
    "# Define the MJCF path and mesh directory\n",
    "mjcf_path = 'assets/Panda/panda.mjcf'\n",
    "mesh_dir = 'assets/Panda/meshes/collision/'\n",
    "\n",
    "# Load mesh files into a dictionary\n",
    "assets = {}\n",
    "for file_name in os.listdir(mesh_dir):\n",
    "    file_path = os.path.join(mesh_dir, file_name)\n",
    "    with open(file_path, 'rb') as f:\n",
    "        assets[f'meshes/collision/{file_name}'] = f.read()\n",
    "\n",
    "# Load the MuJoCo model\n",
    "model = mujoco.MjModel.from_xml_path(mjcf_path, assets=assets)\n",
    "data = mujoco.MjData(model)\n",
    "\n",
    "# Call mj_forward to initialize the state\n",
    "mujoco.mj_forward(model, data)\n",
    "\n",
    "# Render the scene\n",
    "render_state(model, data)"
   ]
  },
  {
   "cell_type": "markdown",
   "id": "cc183806",
   "metadata": {},
   "source": [
    "One caveat for using `ikfast` for the Panda is that analytical solutions can only be found for 6-DoF arms, but the Panda is a 7-DoF arm. One common way to deal with this issue is to treat one of the joints as \"free\", set the value of this joint ourselves, and then run `ikfast` with that fixed joint value. While there are better ways to do this, a simple approach is to sample the value of the free joint uniformly at random from its range. \n",
    "\n",
    "Note that, compared to the coordinate frame used last week, the coordinate frame used this week is shifted so that the base of the Panda arm is at the world origin. This doesn't change anything conceptually, but makes it easier to work with `ikfast`. "
   ]
  },
  {
   "cell_type": "markdown",
   "id": "78cd248e",
   "metadata": {
    "deletable": false,
    "editable": false
   },
   "source": [
    "##### 3.1)\n",
    "\n",
    "Write a Python function that implements the following algorithm:\n",
    "- Given a target pose $X^G$\n",
    "- for a max number of steps:\n",
    "    - pick a value of the free joint uniformly at random\n",
    "    - call `ikfast` to find configurations for the remaining joints \n",
    "    - if any solution returned by `ikfast` satisfies all joint limits, return that solution\n",
    "- if after the max number steps you have found no solutions, return None\n",
    "\n",
    "`ikfast` has two functions:\n",
    "- `ikfast.get_ik(R, p, free)`\n",
    "    - `R` is the rotation matrix $R^G$, expressed as a 3x3 nested Python list (you can use `np_array.tolist()`)\n",
    "    - `p` is the position vector $p^G$, expressed as a length-3 Python list\n",
    "    - `free` is a list containing the value of the free joints. For the panda, there is only one free joint, so this is a length-1 list\n",
    "    - Return: a list of solutions, where each solution is a list of joint positions for joints 1...7. If no solution is found, then returns `None`\n",
    "- `ikfast.get_fk(joints)` -- this is useful for debugging!\n",
    "    - `joints` is a list of joint positions for joints 1...7\n",
    "    - Return: a list of 2 elements. the first element is a 3-element list representing the gripper position, and the second element is a 3x3 nested list representing the gripper rotation matrix\n",
    "\n",
    "\n",
    "Here are some pointers on how to leverage MuJoCo for this part of the assignment:\n",
    "- You can get the `id` of a joint by running `mujoco.mj_name2id(model, mujoco.mjtObj.mjOBJ_JOINT, <joint_name>)`\n",
    "    - The Panda joint names are `panda_joint0` to `panda_joint7`. `joint7` is the free joint in `ikfast`\n",
    "- You can get the joint limits for a given joint id by getting `model.jnt_range[id, 0]` (for the min) and `model.jnt_range[id, 1]` for the max\n",
    "\n",
    "_Points:_ 15"
   ]
  },
  {
   "cell_type": "code",
   "execution_count": null,
   "id": "3187f8c9",
   "metadata": {
    "tags": [
     "otter_answer_cell"
    ]
   },
   "outputs": [],
   "source": [
    "def panda_ik_31(R_G, p_G, model, max_iters=100):\n",
    "    \"\"\" Assume that R_G and p_G are the rotation matrix and position vector of the \n",
    "    end effector in the world frame, expressed as the list objects expected by ikfast.get_ik\n",
    "    \"\"\"\n",
    "    joint_ids = ...\n",
    "    free_joint_min = ...\n",
    "    free_joint_max = ...\n",
    "    for _ in range(max_iters):\n",
    "        free_joint = ...\n",
    "        ik_solutions = ...\n",
    "        # Check if the solution is within the joint limits \n",
    "        # and return the first valid solution\n",
    "        ...\n",
    "    return None\n"
   ]
  },
  {
   "cell_type": "markdown",
   "id": "b74f6e33",
   "metadata": {
    "deletable": false,
    "editable": false
   },
   "source": [
    "### 3.2) \n",
    "\n",
    "Now we're ready to pick-and-place with a full Panda arm.\n",
    "\n",
    "Start by finding the block pose and setting the gripper to a floating configuration, 0.5 units above the block on the $z$ axis of the block, and oriented as: $x$ axis aligned with block's $y$ axis, $y$ axis aligned with block's $x$ axis, and $z$ axis aligned with block's $-z$ axis.\n",
    "\n",
    "_Points:_ 7"
   ]
  },
  {
   "cell_type": "code",
   "execution_count": null,
   "id": "e619747e",
   "metadata": {
    "tags": [
     "otter_answer_cell"
    ]
   },
   "outputs": [],
   "source": [
    "p_B_32 = ...\n",
    "quat_B_32 = ...\n",
    "p_BGfloat_32 = ...\n",
    "quat_BGfloat_32 = ...\n",
    "p_Gfloat_32 = ...\n",
    "quat_Gfloat_32 = ...\n",
    "Rmat_Gfloat_32 = ...\n",
    "\n",
    "joints_32 = ...\n",
    "\n",
    "## Do *not* modify the code below\n",
    "set_joint_positions(model, data, joints_32)\n",
    "render_state(model, data)\n",
    "ans_32 = data.qpos[7:14].tolist()"
   ]
  },
  {
   "cell_type": "markdown",
   "id": "0709a627",
   "metadata": {
    "deletable": false,
    "editable": false
   },
   "source": [
    "#### 3.3)\n",
    "Now let's set the gripper to the \"picking\" configuration, 0.12 units above the block, with the same orientation\n",
    "\n",
    "_Points:_ 7"
   ]
  },
  {
   "cell_type": "code",
   "execution_count": null,
   "id": "05d194e9",
   "metadata": {
    "otter": {
     "tests": [
      "q3.3"
     ]
    },
    "tags": [
     "otter_answer_cell"
    ]
   },
   "outputs": [],
   "source": [
    "p_GfloatGpick_33 = ...\n",
    "quat_GfloatGpick_33 = ...\n",
    "p_Gpick_33 = ...\n",
    "quat_Gpick_33 = ...\n",
    "Rmat_Gpick33 = ...\n",
    "joints_33 = ...\n",
    "\n",
    "## Do *not* modify the code below\n",
    "set_joint_positions(model, data, joints_33)\n",
    "render_state(model, data)\n",
    "ans_33 = data.qpos[7:14].tolist()\n"
   ]
  },
  {
   "cell_type": "markdown",
   "id": "19240d2b",
   "metadata": {
    "deletable": false,
    "editable": false
   },
   "source": [
    "#### 3.4)\n",
    "\n",
    "Compute the pose of the block relative to the gripper while the block is held. Then, set the position and orientation of the gripper to match the previous floating configuration.\n",
    "\n",
    "_Points:_ 7"
   ]
  },
  {
   "cell_type": "code",
   "execution_count": null,
   "id": "43902c4a",
   "metadata": {
    "otter": {
     "tests": [
      "q3.4"
     ]
    },
    "tags": [
     "otter_answer_cell"
    ]
   },
   "outputs": [],
   "source": [
    "p_BGpick_34 = ...\n",
    "quat_BGpick_34 = ...\n",
    "\n",
    "joints_34 = ...\n",
    "\n",
    "# The next few lines \"attach\" the block to the gripper.\n",
    "# This is not required for obtaining points in the \n",
    "# assignment, but is included for visualization purposes.\n",
    "# This will only \"look right\" if your answers up to this\n",
    "# point are correct.\n",
    "p_GpickB_34 = np.empty(3)\n",
    "quat_GpickB_34 = np.empty(4)\n",
    "mujoco.mju_negPose(p_GpickB_34, quat_GpickB_34, p_BGpick_34, quat_BGpick_34)\n",
    "\n",
    "p_Bfloat = np.empty(3)\n",
    "quat_Bfloat = np.empty(4)\n",
    "# Compute the pose of the block int he world frame by \n",
    "# composing the pose of the gripper in the world frame\n",
    "# and the relative pose of the gripper w.r.t. the \n",
    "# block \n",
    "mujoco.mju_mulPose(p_Bfloat, quat_Bfloat, p_Gfloat_32, quat_Gfloat_32, p_GpickB_34, quat_GpickB_34)\n",
    "model.body(\"block\").pos = p_Bfloat\n",
    "model.body(\"block\").quat = quat_Bfloat\n",
    "\n",
    "## Do *not* modify the code below\n",
    "set_joint_positions(model, data, joints_34)\n",
    "render_state(model, data)\n",
    "ans_34 = data.qpos[7:14].tolist()\n"
   ]
  },
  {
   "cell_type": "markdown",
   "id": "ede70035",
   "metadata": {
    "deletable": false,
    "editable": false
   },
   "source": [
    "#### 3.5)\n",
    "Now let's move the gripper so that the block hovers above its final desired orientation. We want the block to end up at position $(0.4, -0.4, 0.03)$ aligned with the world frame. In this stage, we want to move the gripper so that the block is $0.5$ units above its target position in the $z$ axis.\n",
    "\n",
    "_Points:_ 7"
   ]
  },
  {
   "cell_type": "code",
   "execution_count": null,
   "id": "45ec2a99",
   "metadata": {
    "otter": {
     "tests": [
      "q3.5"
     ]
    },
    "tags": [
     "otter_answer_cell"
    ]
   },
   "outputs": [],
   "source": [
    "p_Bhover_35 = ...\n",
    "quat_Bhover_35 = ...\n",
    "p_Ghover_35 = ...\n",
    "quat_Ghover_35 = ...\n",
    "Rmat_Ghover35 = ...\n",
    "joints_35 = ...\n",
    "\n",
    "# The next few lines \"attach\" the block to the gripper.\n",
    "# This is not required for obtaining points in the \n",
    "# assignment, but is included for visualization purposes.\n",
    "# This will only \"look right\" if your answers up to this\n",
    "# point are correct.\n",
    "p_Bhover = np.empty(3)\n",
    "quat_Bhover = np.empty(4)\n",
    "# Compute the pose of the block int he world frame by \n",
    "# composing the pose of the gripper in the world frame\n",
    "# and the relative pose of the gripper w.r.t. the \n",
    "# block \n",
    "mujoco.mju_mulPose(p_Bhover, quat_Bhover, p_Ghover_35, quat_Ghover_35, p_GpickB_34, quat_GpickB_34)\n",
    "model.body(\"block\").pos = p_Bhover\n",
    "model.body(\"block\").quat = quat_Bhover\n",
    "\n",
    "## Do *not* modify the code below\n",
    "set_joint_positions(model, data, joints_35)\n",
    "render_state(model, data)\n",
    "ans_35 = data.qpos[7:14].tolist()\n"
   ]
  },
  {
   "cell_type": "markdown",
   "id": "0fbd1720",
   "metadata": {
    "deletable": false,
    "editable": false
   },
   "source": [
    "#### 3.6)\n",
    "\n",
    "Finally, we lower the gripper so that the block is at the target position\n",
    "\n",
    "_Points:_ 7"
   ]
  },
  {
   "cell_type": "code",
   "execution_count": null,
   "id": "4a0396b0",
   "metadata": {
    "otter": {
     "tests": [
      "q3.6"
     ]
    },
    "tags": [
     "otter_answer_cell"
    ]
   },
   "outputs": [],
   "source": [
    "p_GhoverGplace_36 = ...\n",
    "quat_GhoverGplace_36 = ...\n",
    "p_Gplace_36 = ...\n",
    "quat_Gplace_36 = ...\n",
    "Rmat_Gplace_36 = ...\n",
    "joints_36 = ...\n",
    "\n",
    "# The next few lines \"attach\" the block to the gripper.\n",
    "# This is not required for obtaining points in the \n",
    "# assignment, but is included for visualization purposes.\n",
    "# This will only \"look right\" if your answers up to this\n",
    "# point are correct.\n",
    "p_Bplace = np.empty(3)\n",
    "quat_Bplace = np.empty(4)\n",
    "# Compute the pose of the block int he world frame by \n",
    "# composing the pose of the gripper in the world frame\n",
    "# and the relative pose of the gripper w.r.t. the \n",
    "# block \n",
    "mujoco.mju_mulPose(p_Bplace, quat_Bplace, p_Gplace_36, quat_Gplace_36, p_GpickB_34, quat_GpickB_34)\n",
    "model.body(\"block\").pos = p_Bplace\n",
    "model.body(\"block\").quat = quat_Bplace\n",
    "\n",
    "## Do *not* modify the code below\n",
    "set_joint_positions(model, data, joints_36)\n",
    "render_state(model, data)\n",
    "ans_36 = data.qpos[7:14].tolist()\n"
   ]
  },
  {
   "cell_type": "markdown",
   "id": "e916bdb8",
   "metadata": {
    "deletable": false,
    "editable": false
   },
   "source": [
    "## Submission\n",
    "\n",
    "Make sure you have run all cells in your notebook in order before running the cell below, so that all images/graphs appear in the output. The cell below will generate a zip file for you to submit. **Please save before exporting!**\n",
    "\n",
    "Fill out the answers to all questions and submit your file hw4.ipynb to the HW4 assignment on Gradescope. You are free to resubmit as many times as you wish."
   ]
  },
  {
   "cell_type": "code",
   "execution_count": null,
   "id": "fd9c57d8",
   "metadata": {
    "deletable": false,
    "editable": false
   },
   "outputs": [],
   "source": [
    "# Save your notebook first, then run this cell to export your submission.\n",
    "grader.export(pdf=False, run_tests=True)"
   ]
  },
  {
   "cell_type": "markdown",
   "id": "e03fe78c",
   "metadata": {},
   "source": [
    " "
   ]
  }
 ],
 "metadata": {
  "kernelspec": {
   "display_name": "ese564s25",
   "language": "python",
   "name": "python3"
  },
  "language_info": {
   "codemirror_mode": {
    "name": "ipython",
    "version": 3
   },
   "file_extension": ".py",
   "mimetype": "text/x-python",
   "name": "python",
   "nbconvert_exporter": "python",
   "pygments_lexer": "ipython3",
   "version": "3.11.11"
  },
  "otter": {
   "OK_FORMAT": true,
   "assignment_name": "hw4",
   "tests": {
    "q1.1": {
     "name": "q1.1",
     "points": 5,
     "suites": [
      {
       "cases": [],
       "scored": true,
       "setup": "",
       "teardown": "",
       "type": "doctest"
      }
     ]
    },
    "q1.2": {
     "name": "q1.2",
     "points": 5,
     "suites": [
      {
       "cases": [],
       "scored": true,
       "setup": "",
       "teardown": "",
       "type": "doctest"
      }
     ]
    },
    "q1.3": {
     "name": "q1.3",
     "points": 5,
     "suites": [
      {
       "cases": [],
       "scored": true,
       "setup": "",
       "teardown": "",
       "type": "doctest"
      }
     ]
    },
    "q1.4": {
     "name": "q1.4",
     "points": 5,
     "suites": [
      {
       "cases": [],
       "scored": true,
       "setup": "",
       "teardown": "",
       "type": "doctest"
      }
     ]
    },
    "q2.1": {
     "name": "q2.1",
     "points": 5,
     "suites": [
      {
       "cases": [],
       "scored": true,
       "setup": "",
       "teardown": "",
       "type": "doctest"
      }
     ]
    },
    "q2.1.1": {
     "name": "q2.1.1",
     "points": 2,
     "suites": [
      {
       "cases": [],
       "scored": true,
       "setup": "",
       "teardown": "",
       "type": "doctest"
      }
     ]
    },
    "q2.2.1": {
     "name": "q2.2.1",
     "points": 5,
     "suites": [
      {
       "cases": [],
       "scored": true,
       "setup": "",
       "teardown": "",
       "type": "doctest"
      }
     ]
    },
    "q2.2.2": {
     "name": "q2.2.2",
     "points": 3,
     "suites": [
      {
       "cases": [],
       "scored": true,
       "setup": "",
       "teardown": "",
       "type": "doctest"
      }
     ]
    },
    "q2.2.3": {
     "name": "q2.2.3",
     "points": 3,
     "suites": [
      {
       "cases": [],
       "scored": true,
       "setup": "",
       "teardown": "",
       "type": "doctest"
      }
     ]
    },
    "q2.2.4": {
     "name": "q2.2.4",
     "points": 10,
     "suites": [
      {
       "cases": [],
       "scored": true,
       "setup": "",
       "teardown": "",
       "type": "doctest"
      }
     ]
    },
    "q2.2.5": {
     "name": "q2.2.5",
     "points": 2,
     "suites": [
      {
       "cases": [],
       "scored": true,
       "setup": "",
       "teardown": "",
       "type": "doctest"
      }
     ]
    },
    "q3.1": {
     "name": "q3.1",
     "points": 15,
     "suites": [
      {
       "cases": [],
       "scored": true,
       "setup": "",
       "teardown": "",
       "type": "doctest"
      }
     ]
    },
    "q3.2": {
     "name": "q3.2",
     "points": 7,
     "suites": [
      {
       "cases": [],
       "scored": true,
       "setup": "",
       "teardown": "",
       "type": "doctest"
      }
     ]
    },
    "q3.3": {
     "name": "q3.3",
     "points": 7,
     "suites": [
      {
       "cases": [],
       "scored": true,
       "setup": "",
       "teardown": "",
       "type": "doctest"
      }
     ]
    },
    "q3.4": {
     "name": "q3.4",
     "points": 7,
     "suites": [
      {
       "cases": [],
       "scored": true,
       "setup": "",
       "teardown": "",
       "type": "doctest"
      }
     ]
    },
    "q3.5": {
     "name": "q3.5",
     "points": 7,
     "suites": [
      {
       "cases": [],
       "scored": true,
       "setup": "",
       "teardown": "",
       "type": "doctest"
      }
     ]
    },
    "q3.6": {
     "name": "q3.6",
     "points": 7,
     "suites": [
      {
       "cases": [],
       "scored": true,
       "setup": "",
       "teardown": "",
       "type": "doctest"
      }
     ]
    }
   }
  }
 },
 "nbformat": 4,
 "nbformat_minor": 5
}
