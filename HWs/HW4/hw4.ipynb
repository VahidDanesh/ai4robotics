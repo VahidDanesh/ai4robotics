{
 "cells": [
  {
   "cell_type": "code",
   "execution_count": 1,
   "id": "c40c7976",
   "metadata": {
    "deletable": false,
    "editable": false
   },
   "outputs": [],
   "source": [
    "# Initialize Otter\n",
    "import otter\n",
    "grader = otter.Notebook(\"hw4.ipynb\")"
   ]
  },
  {
   "cell_type": "code",
   "execution_count": 2,
   "id": "fc69dc99",
   "metadata": {},
   "outputs": [],
   "source": [
    "import numpy as np\n",
    "from numpy import cos, sin, pi"
   ]
  },
  {
   "cell_type": "markdown",
   "id": "5add0ff4-27fa-4b8b-9429-77a6e70eb204",
   "metadata": {},
   "source": [
    "# FILL IN YOUR NAME AND THE NAME OF YOUR PEER (IF ANY) BELOW"
   ]
  },
  {
   "cell_type": "markdown",
   "id": "114b0f41-932d-43fb-96b0-a10ea759b6e4",
   "metadata": {},
   "source": [
    "**Name**: Vahid Danesh\n",
    "\n",
    "**Peer**: Maede Boroji\n",
    "\n",
    "## Collaboration policy\n",
    "Students are responsible for writing their own quizzes, assignments, and exams. For homework assignments, students are welcome (and encouraged) to discuss problems with one peer, **but each student must write their own assignment wrtieup and code individually**. The peer must be listed at the top of the writeup for each assignment. *Note: I will treat AI assistants as peers. That is, students are welcome to discuss problems with an AI assistant, but it is considered cheating to directly obtain an answer by querying the assistant. Please credit any AI assistant that you use.*"
   ]
  },
  {
   "cell_type": "markdown",
   "id": "3eeaa842-e2ff-4f0d-9447-6450943e8703",
   "metadata": {},
   "source": [
    "# Homework 4 -- Forward and inverse kinematics (100 pts)\n",
    "\n",
    "**Due:** Tuesday, February 25th, 2025 at 11:59 pm\n",
    "\n",
    "This homework builds on the material in the slides, Hauser Chapters 5 and 6 (on Forward Kinematics and Inverse Kinematics), and Tedrake chapter 3 (on Basic Pick-and-Place, especially 3.1 and 3.3).\n",
    "\n",
    "We will use Jupyter/Colab notebooks throughout the semester for writing code and generating assignment outputs.\n",
    "\n",
    "**Throughout this homework, please use 2D numpy arrays to represent all matrices. The autograder will use a precision of 3 decimal places.**\n",
    "\n",
    "\n",
    "## 1) Calculating Forward Kinematics (20 pts)\n",
    "For the following questions, you will derive a matrix expression for the pose of a coordinate frame attached to a robot's end-point (typically referred to as the \"end-effector\"), in terms of the variable joint configuration of the robot. In each case, it may be helpful to define intermediate frames such that defining each intermediate transformation matrix is easy. Your answers will by Python functions that receive as input the configuration of the joints and output the pose of the robot. **Unless otherwise stated, your functions may not call any external matrix multiplication function (e.g., `np.dot`).**"
   ]
  },
  {
   "cell_type": "markdown",
   "id": "9b077b00-bf16-44d7-988e-27cf380b2a3d",
   "metadata": {
    "deletable": false,
    "editable": false
   },
   "source": [
    "#### 1.1) Combined revolute and prismatic joint in 2D\n",
    "\n",
    "Consider a 2D robot with a single special revolute+prismatic joint, as depicted below:\n",
    "\n",
    "<img src=\"https://jorge-a-mendez.github.io/images/ese564s24/2d_simple_fk.png\" width=30%>\n",
    "\n",
    "(Note that this is just two joints attached at the same points.) The base link is aligned with the world frame, and the child link is attached to the special joint. The joint is displaced by a distance $d$ from the origin of the world frame in the $x$ direction, and rotated by $\\theta$ above the world's $x$ axis. The child link has a length of $l$, and the end-effector coordinate frame is attached at the end-point of the link, with the $x$ axis facing away from the link. \n",
    "\n",
    "Write a Python function that returns the pose of the end-effector frame in world coordinates as a function of $l$, $d$, and $\\theta$. \n",
    "\n",
    "_Points:_ 5"
   ]
  },
  {
   "cell_type": "code",
   "execution_count": 3,
   "id": "50976ae0-2716-41ae-8690-d6987cc61d83",
   "metadata": {
    "tags": [
     "otter_answer_cell"
    ]
   },
   "outputs": [],
   "source": [
    "# Your function should return a (2,2) numpy array for the rotation matrix and a (2,) numpy array for the position vector\n",
    "def X_G_11(l, d, theta):\n",
    "    R = np.array([\n",
    "        [cos(theta),  -sin(theta)],\n",
    "        [sin(theta),   cos(theta)]\n",
    "    ])\n",
    "    \n",
    "    # Position vector (2,)\n",
    "    p = np.array([\n",
    "        d + l * cos(theta),\n",
    "        l * sin(theta)\n",
    "    ])\n",
    "    \n",
    "    return R, p"
   ]
  },
  {
   "cell_type": "markdown",
   "id": "fe970def",
   "metadata": {
    "deletable": false,
    "editable": false
   },
   "source": [
    "#### 1.2) Translate and rotate in 3D\n",
    "\n",
    "Consider the 3D mechanism depicted below:\n",
    "\n",
    "<img src=\"https://jorge-a-mendez.github.io/images/ese564s24/3d_simple_fk.png\" width=30%>\n",
    "\n",
    "The base link is attached to the world frame and connected to a revolute joint by a link of length $l_1$ in the $x$ direction. The revolute joint rotates about the $z$ axis by an angle $\\theta$, and is connected to the end effector by a link of length $l_2$ in the $x$ direction when $\\theta=0$. The end-effector frame is aligned with the world's when $\\theta=0$. The overall mechanism adds a height of $l_0$ in the world $z$ axis. \n",
    "\n",
    "Write a Python function that returns the pose of the end-effector frame in world coordinates as a function of $l_1$, $l_2$, $l_0$, and $\\theta$.  \n",
    "\n",
    "_Points:_ 5"
   ]
  },
  {
   "cell_type": "code",
   "execution_count": 4,
   "id": "0df1a49b",
   "metadata": {
    "tags": [
     "otter_answer_cell"
    ]
   },
   "outputs": [],
   "source": [
    "# Your function should return a (3,3) numpy array for the rotation matrix and a (3,) numpy array for the position vector\n",
    "def X_G_12(l0, l1, l2, theta):\n",
    "    R = np.array([[cos(theta), -sin(theta), 0],\n",
    "                  [sin(theta),  cos(theta), 0],\n",
    "                  [0,           0,          1]])\n",
    "    \n",
    "    t = np. array([l1 + l2*cos(theta), l2*sin(theta), l0])\n",
    "\n",
    "    return R, t\n"
   ]
  },
  {
   "cell_type": "markdown",
   "id": "2d388cda",
   "metadata": {
    "deletable": false,
    "editable": false
   },
   "source": [
    "#### 1.3) Multi-joint 2D mechanism\n",
    "\n",
    "Consider a 2D robot with two prismatic and two revolute joints, as shown below:\n",
    "\n",
    "<img src=\"https://jorge-a-mendez.github.io/images/ese564s24/2d_complex_fk.png\" width=20%>\n",
    "\n",
    "The base link is aligned with the world frame. The first child link is translated by $d_1$ along the world's $x$ axis and has a height of $l_0$. The second child link rotates by $\\theta_1$ above the world $x$ axis. The third child link is translated along the second link's length by $d_2$ and has a height $l_1$. The fourth child link rotates above the axis defined by the second child link and has length $l_2$. The end-effector frame is at the end of the fourth child link and its $x$ axis points away from the link. \n",
    "\n",
    "Write a Python function that returns the pose of the end-effector frame in world coordinates as a function of $l_0$, $l_1$, $l_2$, $d_1$, $d_2$, $\\theta_1$, $\\theta_2$.\n",
    "\n",
    "_Points:_ 5"
   ]
  },
  {
   "cell_type": "code",
   "execution_count": 5,
   "id": "014886b1",
   "metadata": {
    "tags": [
     "otter_answer_cell"
    ]
   },
   "outputs": [],
   "source": [
    "# Your function should return a (2,2) numpy array for the rotation matrix and a (2,) numpy array for the position vector\n",
    "def X_G_13(l0, l1, l2, d1, d2, theta1, theta2):\n",
    "    R = np.array([[ -sin(theta1)*sin(theta2) + cos(theta1)*cos(theta2),\n",
    "                    -sin(theta1)*cos(theta2) - sin(theta2)*cos(theta1)],\n",
    "                    [sin(theta1)*cos(theta2) + sin(theta2)*cos(theta1),\n",
    "                    -sin(theta1)*sin(theta2) + cos(theta1)*cos(theta2)]])\n",
    "    \n",
    "    t = np.array([d1 + d2*cos(theta1) - l1*sin(theta1) - l2*sin(theta1)*sin(theta2) + l2*cos(theta1)*cos(theta2),\n",
    "                    d2*sin(theta1) + l0 + l1*cos(theta1) + l2*sin(theta1)*cos(theta2) + l2*sin(theta2)*cos(theta1)])\n",
    "    return R, t\n",
    "\n"
   ]
  },
  {
   "cell_type": "markdown",
   "id": "85defcf2",
   "metadata": {
    "deletable": false,
    "editable": false
   },
   "source": [
    "#### 1.4) Industrial robot\n",
    "\n",
    "Consider the 3D mechanism depicted below, which is a somewhat typical industrial robot arm:\n",
    "\n",
    "<img src=\"https://jorge-a-mendez.github.io/images/ese564s24/3d_complex_fk.png\" width=30%>\n",
    "\n",
    "The robot has six revolute joints, so it is a 6DoF arm. One interesting property of 6DoF arms is that they can achieve any 6D pose that is within reach---they are fully actuated. Write a Python function that calculates the pose of the end-effector, defined as the position of the point between the parallel fingers (i.e., at distance $L_6$ from joint 6) and the orientation of the frame at joint 6 as depicted in the figure. The world frame coincides with the depicted joint 1 frame when $q_0=0$. (Other frames depicted in the figure may be useful intermediate frames for your calculations).\n",
    "\n",
    "Write a Python function that computes the end-effector pose in world coordinates as a function of the joint angles $q_{1\\ldots6}$ and the link lengths $L_1$, $L_2$, $L_3$, and $L_6$. **Please don't do all calculations by hand. Instead, write the intermediate transforms in your code and use numpy's matrix multiplication functions (e.g., `np.dot`) to compute the overall transform.**\n",
    "\n",
    "_Points:_ 5"
   ]
  },
  {
   "cell_type": "code",
   "execution_count": 6,
   "id": "0cd9d322",
   "metadata": {
    "tags": [
     "otter_answer_cell"
    ]
   },
   "outputs": [],
   "source": [
    "# Your function should return a (3,3) numpy array for the rotation matrix and a (3,) numpy array for the position vector\n",
    "def X_G_14(l1, l2, l3, l6, q1, q2, q3, q4, q5, q6):\n",
    "    wTa = np.array([[cos(q1), -sin(q1), 0, 0],\n",
    "                    [sin(q1), cos(q1), 0, 0],\n",
    "                    [0, 0, 1, 0],\n",
    "                    [0, 0, 0, 1]])\n",
    "                        \n",
    "    aTb = np.array([[cos(q2), 0, sin(q2), 0],\n",
    "                    [0, 1, 0, 0],\n",
    "                    [-sin(q2), 0, cos(q2), l1],\n",
    "                    [0, 0, 0, 1]])\n",
    "    bTc = np.array([[cos(q3), 0, sin(q3), l2],\n",
    "                    [0, 1, 0, 0],\n",
    "                    [-sin(q3), 0, cos(q3), 0],\n",
    "                    [0, 0, 0, 1]])\n",
    "    \n",
    "    cTd = np.array([[1, 0, 0, 0],\n",
    "                    [0, cos(q4), -sin(q4), 0],\n",
    "                    [0, sin(q4), cos(q4), 0],\n",
    "                    [0, 0, 0, 1]])\n",
    "    dTe = np.array([[cos(q5), 0, sin(q5), l3],\n",
    "                    [0, 1, 0, 0],\n",
    "                    [-sin(q5), 0, cos(q5), 0],\n",
    "                    [0, 0, 0, 1]])\n",
    "    eTf = np.array([[1, 0, 0, 0],\n",
    "                    [0, cos(q6), -sin(q6), 0],\n",
    "                    [0, sin(q6), cos(q6), 0],\n",
    "                    [0, 0, 0, 1]])\n",
    "    fTee = np.array([[1, 0, 0, l6],\n",
    "                    [0, 1, 0, 0],\n",
    "                    [0, 0, 1, 0],\n",
    "                    [0, 0, 0, 1]])\n",
    "    \n",
    "    wTe = wTa @ aTb @ bTc @ cTd @ dTe @ eTf @ fTee\n",
    "    \n",
    "    R = wTe[:3, :3]\n",
    "    t = wTe[:3, 3]\n",
    "    \n",
    "\n",
    "    return R, t"
   ]
  },
  {
   "cell_type": "markdown",
   "id": "ace0947b",
   "metadata": {},
   "source": [
    "## 2) Inverse kinematics in 2D (30)\n",
    "\n",
    "We're going to explore the nuances of analytical solutions to inverse kinematics by looking at the following problem.\n",
    "\n",
    "<img src=\"https://jorge-a-mendez.github.io/images/ese564s24/2RP_ik.png\" width=30%>\n",
    "\n",
    "The robot depicted above has two revolute joints and one prismatic joint. The first revolute joint connects the world frame to link 1, which has length $L_1$. At the end of link 1, there is another revolute joint connecting to link 2. The end point is a distance $d\\geq 0$ away from the second revolute joint, where $d$ is determined by the prismatic joint. \n",
    "\n",
    "We will solve the forward and inverse kinematics for this robot."
   ]
  },
  {
   "cell_type": "markdown",
   "id": "edda21e7",
   "metadata": {
    "deletable": false,
    "editable": false
   },
   "source": [
    "#### 2.1) Forward kinematics\n",
    "\n",
    "Find an expression for the forward kinematics of this robot. In other words, find the position and orientation for the tip of link 2 in the world frame located at joint 0 and pointing to the right. Assume that the coordinate frame at the tip is such that the $x$ axis points away from the tip. You are welcome to use any matrix multiplication function, but it may be useful to work out the expression by hand for the next question. Express your answer as a function of $L_1$, $d$, $\\theta_1$, and $\\theta_2$.\n",
    "\n",
    "_Points:_ 5"
   ]
  },
  {
   "cell_type": "code",
   "execution_count": 7,
   "id": "0d5dc27e",
   "metadata": {
    "tags": [
     "otter_answer_cell"
    ]
   },
   "outputs": [],
   "source": [
    "# Your function should return a (2,2) numpy array for the rotation matrix and a (2,) numpy array for the position vector\n",
    "def X_G_21(l1, theta1, theta2, d):\n",
    "    wTa = np.array([[cos(theta1), -sin(theta1), 0.0],\n",
    "                    [sin(theta1), cos(theta1), 0.0],\n",
    "                    [0, 0, 1]])\n",
    "    aTb = np.array([[1, 0, l1],\n",
    "                    [0, 1, 0],\n",
    "                    [0, 0, 1]])\n",
    "    bTc = np.array([[cos(theta2), -sin(theta2), 0.0],\n",
    "                    [sin(theta2), cos(theta2), 0.0],\n",
    "                    [0, 0, 1]])\n",
    "    cTe = np.array([[1, 0, d],\n",
    "                    [0, 1, 0],\n",
    "                    [0, 0, 1]])\n",
    "\n",
    "    wTe = wTa @ aTb @ bTc @ cTe\n",
    "    R = wTe[:2, :2]\n",
    "    t = wTe[:2, 2]\n",
    "    \n",
    "    return R, t"
   ]
  },
  {
   "cell_type": "markdown",
   "id": "404ad0f2",
   "metadata": {
    "deletable": false,
    "editable": false
   },
   "source": [
    "$2\\times2$ rotation matrices can be parameterized by a single number: the counter-clockwise angle of rotation. What is the angle of rotation for the orientation of the tip of link 2? Express your answer as a function of $L_1$, $d$, $\\theta_1$, and $\\theta_2$. Your answer should be an angle in $[0, 2\\pi]$.\n",
    "\n",
    "*Hint1: The angle-sum identities may come in handy: $$\\begin{aligned}\n",
    "    \\sin(\\alpha+\\beta) &= \\sin\\alpha\\cos\\beta + \\cos\\alpha\\sin\\beta\\\\\n",
    "    \\cos(\\alpha+\\beta) &= \\cos\\alpha\\cos\\beta - \\sin\\alpha\\sin\\beta\n",
    "\\end{aligned}$$*\n",
    "*Hint2: you may find the function `np.mod` useful.*\n",
    "\n",
    "_Points:_ 2"
   ]
  },
  {
   "cell_type": "code",
   "execution_count": 8,
   "id": "eb80577e",
   "metadata": {
    "tags": [
     "otter_answer_cell"
    ]
   },
   "outputs": [],
   "source": [
    "# Your function should return a (2,2) numpy array for the rotation matrix and a (2,) numpy array for the position vector\n",
    "def theta_G_211(l1, theta1, theta2, d):\n",
    "    angle = np.mod(theta1 + theta2, 2*pi)\n",
    "    return angle"
   ]
  },
  {
   "cell_type": "markdown",
   "id": "8eaf4c8e",
   "metadata": {},
   "source": [
    "#### 2.2) Inverse kinematics\n",
    "\n",
    "We will now find an expression for the inverse kinematics of this mechanism. Given a target $x, y, \\theta$ pose, our goal is to find the joint coordinates $\\theta_1, \\theta_2, d$ for the robot. \n",
    "\n",
    "Start by deriving an expression for all possible solutions to the IK problem with $\\theta_1,\\theta_2\\in[0, 2\\pi)$. For now, ignore the constraint $d\\geq0$. \n",
    "\n",
    "*Hint: Plug your expression from 2.1.1 for $\\theta$ into your expressions for $x$ and $y$ to obtain a system of 2 trigonometric equations. Manipulate the equations until you find one equation that involves a term of the form $\\cos A\\sin B - \\sin A\\cos B$, and use the identity $\\cos A\\sin B - \\sin A\\cos B = \\sin(B-A)$.*"
   ]
  },
  {
   "cell_type": "markdown",
   "id": "1fcda4c7",
   "metadata": {
    "deletable": false,
    "editable": false
   },
   "source": [
    "##### 2.2.1) \n",
    "\n",
    "As we saw in class, there are often IK problems (in this case, choices of target $x,y,\\theta$) that cannot be solved for a given system. Inspect your expression for the IK and write a Python function that determines whether a given IK problem for this robot has a solution, ignoring the constraint $d\\geq 0$.\n",
    "\n",
    "*Hint: this can be written as a simple one-line check.*\n",
    "\n",
    "_Points:_ 5"
   ]
  },
  {
   "cell_type": "code",
   "execution_count": 9,
   "id": "aa29e16c",
   "metadata": {
    "tags": [
     "otter_answer_cell"
    ]
   },
   "outputs": [],
   "source": [
    "# Your function should return True if there is a valid solution to the IK problem, and False otherwise\n",
    "# Note: this function should not return the solution to the IK, only whether a solution exists\n",
    "def has_IK_221(l1, x, y, theta):\n",
    "    return -1 <= (x * np.sin(theta) - y * np.cos(theta))/l1 <= 1\n"
   ]
  },
  {
   "cell_type": "markdown",
   "id": "370aa47a",
   "metadata": {
    "deletable": false,
    "editable": false
   },
   "source": [
    "##### 2.2.2) \n",
    "\n",
    "We also saw that IK problems often have infinitely many solutions. Are there problems for which this system has infinitely many solutions?\n",
    "\n",
    "\n",
    "_Points:_ 3"
   ]
  },
  {
   "cell_type": "code",
   "execution_count": 10,
   "id": "28be4401",
   "metadata": {
    "tags": [
     "otter_answer_cell"
    ]
   },
   "outputs": [],
   "source": [
    "# set ans_222 to True if there are problems with infinitely many solutions for this system, and False otherwise\n",
    "ans_222 = False"
   ]
  },
  {
   "cell_type": "markdown",
   "id": "4271f50c",
   "metadata": {
    "deletable": false,
    "editable": false
   },
   "source": [
    "##### 2.2.3) \n",
    "\n",
    "Based on your answers so far, how many solutions can IK problems for this system have? Return a list with all possible numbers of solutions (e.g., `[10, 15, 167]` if the problem can have 10, 15, or 167 solutions)\n",
    "\n",
    "_Points:_ 3"
   ]
  },
  {
   "cell_type": "code",
   "execution_count": 11,
   "id": "10cb6652",
   "metadata": {
    "tags": [
     "otter_answer_cell"
    ]
   },
   "outputs": [],
   "source": [
    "# Express your answer as a list of all possible numbers of solutions the system could have\n",
    "ans_223 = [0, 1, 2]"
   ]
  },
  {
   "cell_type": "markdown",
   "id": "f16bb374",
   "metadata": {
    "deletable": false,
    "editable": false
   },
   "source": [
    "##### 2.2.4) \n",
    "\n",
    "Write a Python function that implements the IK for this planar robot mechanism. The return value should be a `list` of solutions, where each solution is a tuple `(theta1, theta2, d)` (in that order). If there are no solutions, the list should be empty. The list should not contain repeated solutions (i.e., if you compute two solutions and they turn out to be equivalent, then you should return only one). To check whether two numbers are equivalent, use `np.isclose(a, b)` instead of `a == b`, to account for numerical errors.\n",
    "\n",
    "You should leverage your function `has_IK_221` to avoid computing invalid solutions. Additionally, you should \"filter out\" (i.e., not return) any solutions where $d < 0$. Make sure that both `theta1` and `theta2` are in $[0, 2\\pi)$. \n",
    "\n",
    "_Points:_ 10"
   ]
  },
  {
   "cell_type": "code",
   "execution_count": 12,
   "id": "8d955087",
   "metadata": {
    "tags": [
     "otter_answer_cell"
    ]
   },
   "outputs": [],
   "source": [
    "# Your function should return a list of all possible IK solutions, without repetitions\n",
    "def IK_224(l1, x, y, theta):\n",
    "    if not has_IK_221(l1, x, y, theta) or l1 == 0:\n",
    "        return []\n",
    "    \n",
    "    k = x * np.sin(theta) - y * np.cos(theta)\n",
    "    s = k / l1\n",
    "    phi1 = np.arcsin(s)\n",
    "\n",
    "    \n",
    "    \n",
    "    \n",
    "    # Two solutions for theta1, theta2\n",
    "    t1a, t2a = np.mod(theta - phi1, 2 * np.pi), np.mod(phi1, 2 * np.pi)\n",
    "    t1b, t2b = np.mod(theta - (np.pi - phi1), 2 * np.pi), np.mod(np.pi - phi1, 2 * np.pi)\n",
    "    \n",
    "    # Compute d, avoiding division by zero\n",
    "    d_calc = lambda t1: (x - l1 * np.cos(t1)) / np.cos(theta) if not np.isclose(np.cos(theta), 0) else (y - l1 * np.sin(t1)) / np.sin(theta)\n",
    "    da, db = d_calc(t1a), d_calc(t1b)\n",
    "\n",
    "    \n",
    "    # Filter d >= 0 and collect unique solutions\n",
    "    sols = []\n",
    "    if da >= 0:\n",
    "        sols.append((t1a, t2a, da))\n",
    "    if db >= 0 and not np.isclose(da, db) and not np.isclose(t1a, t1b) and not np.isclose(t2a, t2b):\n",
    "        sols.append((t1b, t2b, db))\n",
    "\n",
    "    \n",
    "    return sols\n"
   ]
  },
  {
   "cell_type": "markdown",
   "id": "3dc37d1e",
   "metadata": {
    "deletable": false,
    "editable": false
   },
   "source": [
    "##### 2.2.5) \n",
    "\n",
    "Give an example of an IK problem for this mechanism that has only one solution using $L_1=1$.\n",
    "\n",
    "_Points:_ 2"
   ]
  },
  {
   "cell_type": "code",
   "execution_count": 13,
   "id": "88980783",
   "metadata": {
    "tags": [
     "otter_answer_cell"
    ]
   },
   "outputs": [],
   "source": [
    "# Express your answer as a tuple (x, y, theta)\n",
    "xyth_225 = (2, 1, 0)"
   ]
  },
  {
   "cell_type": "markdown",
   "id": "8ce087b4",
   "metadata": {},
   "source": [
    "## 3) IK in practice (50 pts)\n",
    "\n",
    "We are now going to use IK as you would in practice. Our goal will be to repeat the pick-place steps from HW 3, but this time setting the joint positions of the robot instead of a floating gripper. For that, we will use the popular `ikfast` tool, developed by MoveIt. `ikfast` finds analytical solutions to 6D-pose IK problems for arbitrary 6-DoF arms. While working directly with `ikfast` to create IK solutions for a custom robot is non-trivial and requires a bit of black magic, there are a number of Python bindings available for common robots---including our Franka Panda robot.\n",
    "\n",
    "To install the Python bindings for running `ikfast` for the Panda, and initialize our MuJoCo model, run the following code cell.\n"
   ]
  },
  {
   "cell_type": "code",
   "execution_count": 14,
   "id": "65ebe2aa",
   "metadata": {},
   "outputs": [
    {
     "name": "stdout",
     "output_type": "stream",
     "text": [
      "\n",
      "ikfast module ikfast_panda_arm imported successful\n"
     ]
    },
    {
     "data": {
      "text/html": [
       "<table class=\"show_images\" style=\"border-spacing:0px;\"><tr><td style=\"padding:1px;\"><img width=\"640\" height=\"480\" style=\"image-rendering:auto; object-fit:cover;\" src=\"data:image/png;base64,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\"/></td></tr></table>"
      ],
      "text/plain": [
       "<IPython.core.display.HTML object>"
      ]
     },
     "metadata": {},
     "output_type": "display_data"
    }
   ],
   "source": [
    "!cd ikfast && python setup.py && cd ..\n",
    "import mujoco\n",
    "import mediapy as media\n",
    "import os\n",
    "import glfw\n",
    "import sys\n",
    "sys.path.append('ikfast')\n",
    "from ikfast import ikfast_panda_arm as ikfast\n",
    "\n",
    "\n",
    "def has_valid_renderer():\n",
    "    \"\"\"Checks if OpenGL can be initialized successfully.\"\"\"\n",
    "    # Try initializing GLFW\n",
    "    if not glfw.init():\n",
    "        print(\"GLFW initialization failed. No valid renderer.\")\n",
    "        return False\n",
    "    \n",
    "    # Try creating a hidden window to test OpenGL context creation\n",
    "    window = glfw.create_window(640, 480, \"Renderer Test\", None, None)\n",
    "    if not window:\n",
    "        print(\"GLFW could not create an OpenGL context. No valid renderer.\")\n",
    "        glfw.terminate()\n",
    "        return False\n",
    "    \n",
    "    glfw.make_context_current(window)\n",
    "    renderer_available = True  # If we reach this point, rendering should work\n",
    "\n",
    "    # Cleanup\n",
    "    glfw.destroy_window(window)\n",
    "    glfw.terminate()\n",
    "    return renderer_available\n",
    "\n",
    "def render_state(model, data):\n",
    "    if not has_valid_renderer():\n",
    "        print(\"Error rendering the scene. Make sure you have a valid OpenGL installation.\")\n",
    "        return\n",
    "\n",
    "    mujoco.mj_forward(model, data)\n",
    "    with mujoco.Renderer(model, height=480, width=640) as renderer:\n",
    "        renderer.update_scene(data, \"front_view\")  # Ensure scene is updated with final simulation state\n",
    "        media.show_image(renderer.render())\n",
    "\n",
    "def set_joint_positions(model, data, joints):\n",
    "    data.qpos[7:14] = joints\n",
    "    data.qpos[14:16] = [0.04, 0.04]\n",
    "    \n",
    "# Define the MJCF path and mesh directory\n",
    "mjcf_path = 'assets/Panda/panda.mjcf'\n",
    "mesh_dir = 'assets/Panda/meshes/collision/'\n",
    "\n",
    "# Load mesh files into a dictionary\n",
    "assets = {}\n",
    "for file_name in os.listdir(mesh_dir):\n",
    "    file_path = os.path.join(mesh_dir, file_name)\n",
    "    with open(file_path, 'rb') as f:\n",
    "        assets[f'meshes/collision/{file_name}'] = f.read()\n",
    "\n",
    "# Load the MuJoCo model\n",
    "model = mujoco.MjModel.from_xml_path(mjcf_path, assets=assets)\n",
    "data = mujoco.MjData(model)\n",
    "\n",
    "# Call mj_forward to initialize the state\n",
    "mujoco.mj_forward(model, data)\n",
    "\n",
    "# Render the scene\n",
    "render_state(model, data)"
   ]
  },
  {
   "cell_type": "markdown",
   "id": "cc183806",
   "metadata": {},
   "source": [
    "One caveat for using `ikfast` for the Panda is that analytical solutions can only be found for 6-DoF arms, but the Panda is a 7-DoF arm. One common way to deal with this issue is to treat one of the joints as \"free\", set the value of this joint ourselves, and then run `ikfast` with that fixed joint value. While there are better ways to do this, a simple approach is to sample the value of the free joint uniformly at random from its range. \n",
    "\n",
    "Note that, compared to the coordinate frame used last week, the coordinate frame used this week is shifted so that the base of the Panda arm is at the world origin. This doesn't change anything conceptually, but makes it easier to work with `ikfast`. "
   ]
  },
  {
   "cell_type": "markdown",
   "id": "78cd248e",
   "metadata": {
    "deletable": false,
    "editable": false
   },
   "source": [
    "##### 3.1)\n",
    "\n",
    "Write a Python function that implements the following algorithm:\n",
    "- Given a target pose $X^G$\n",
    "- for a max number of steps:\n",
    "    - pick a value of the free joint uniformly at random\n",
    "    - call `ikfast` to find configurations for the remaining joints \n",
    "    - if any solution returned by `ikfast` satisfies all joint limits, return that solution\n",
    "- if after the max number steps you have found no solutions, return None\n",
    "\n",
    "`ikfast` has two functions:\n",
    "- `ikfast.get_ik(R, p, free)`\n",
    "    - `R` is the rotation matrix $R^G$, expressed as a 3x3 nested Python list (you can use `np_array.tolist()`)\n",
    "    - `p` is the position vector $p^G$, expressed as a length-3 Python list\n",
    "    - `free` is a list containing the value of the free joints. For the panda, there is only one free joint, so this is a length-1 list\n",
    "    - Return: a list of solutions, where each solution is a list of joint positions for joints 1...7. If no solution is found, then returns `None`\n",
    "- `ikfast.get_fk(joints)` -- this is useful for debugging!\n",
    "    - `joints` is a list of joint positions for joints 1...7\n",
    "    - Return: a list of 2 elements. the first element is a 3-element list representing the gripper position, and the second element is a 3x3 nested list representing the gripper rotation matrix\n",
    "\n",
    "\n",
    "Here are some pointers on how to leverage MuJoCo for this part of the assignment:\n",
    "- You can get the `id` of a joint by running `mujoco.mj_name2id(model, mujoco.mjtObj.mjOBJ_JOINT, <joint_name>)`\n",
    "    - The Panda joint names are `panda_joint0` to `panda_joint7`. `joint7` is the free joint in `ikfast`\n",
    "- You can get the joint limits for a given joint id by getting `model.jnt_range[id, 0]` (for the min) and `model.jnt_range[id, 1]` for the max\n",
    "\n",
    "_Points:_ 15"
   ]
  },
  {
   "cell_type": "code",
   "execution_count": 15,
   "id": "3187f8c9",
   "metadata": {
    "tags": [
     "otter_answer_cell"
    ]
   },
   "outputs": [],
   "source": [
    "import random\n",
    "\n",
    "def panda_ik_31(R_G, p_G, model, max_iters=100):\n",
    "    \"\"\" Assume that R_G and p_G are the rotation matrix and position vector of the \n",
    "    end effector in the world frame, expressed as the list objects expected by ikfast.get_ik\n",
    "    \"\"\"\n",
    "    # Get joint IDs for panda_joint0 through panda_joint6 (joint7 is free)\n",
    "    joint_ids = [mujoco.mj_name2id(model, mujoco.mjtObj.mjOBJ_JOINT, f'panda_joint{i+1}') \n",
    "                for i in range(7)]\n",
    "    \n",
    "    # Get joint limits for the free joint (panda_joint7)\n",
    "    free_joint_id = mujoco.mj_name2id(model, mujoco.mjtObj.mjOBJ_JOINT, 'panda_joint7')\n",
    "    free_joint_min = model.jnt_range[free_joint_id, 0]\n",
    "    free_joint_max = model.jnt_range[free_joint_id, 1]\n",
    "    \n",
    "    for _ in range(max_iters):\n",
    "        # Sample free joint value uniformly from its range\n",
    "        free_joint = random.uniform(free_joint_min, free_joint_max)\n",
    "        \n",
    "        \n",
    "        # Call ikfast with the free joint value\n",
    "        ik_solutions = ikfast.get_ik(R_G, p_G, [free_joint])\n",
    "        \n",
    "        \n",
    "        # Check if any solutions were found\n",
    "        if ik_solutions is not None:\n",
    "            # Check each solution against joint limits\n",
    "            for solution in ik_solutions:\n",
    "                valid = True\n",
    "                # Check all joints against their limits\n",
    "                \n",
    "                for i in range(7):  # Check all joints including free joint\n",
    "                    jnt_id = joint_ids[i]\n",
    "                    jnt_min = model.jnt_range[jnt_id, 0]\n",
    "                    jnt_max = model.jnt_range[jnt_id, 1]\n",
    "                    if solution[i] <= jnt_min or solution[i] >= jnt_max:\n",
    "                        valid = False\n",
    "                        break\n",
    "                \n",
    "                # If solution is valid for all joints, return it\n",
    "                if valid:\n",
    "                    return solution\n",
    "                \n",
    "                    \n",
    "    # No valid solution found after max iterations\n",
    "    return None\n"
   ]
  },
  {
   "cell_type": "markdown",
   "id": "b74f6e33",
   "metadata": {
    "deletable": false,
    "editable": false
   },
   "source": [
    "### 3.2) \n",
    "\n",
    "Now we're ready to pick-and-place with a full Panda arm.\n",
    "\n",
    "Start by finding the block pose and setting the gripper to a floating configuration, 0.5 units above the block on the $z$ axis of the block, and oriented as: $x$ axis aligned with block's $y$ axis, $y$ axis aligned with block's $x$ axis, and $z$ axis aligned with block's $-z$ axis.\n",
    "\n",
    "_Points:_ 7"
   ]
  },
  {
   "cell_type": "code",
   "execution_count": 16,
   "id": "e619747e",
   "metadata": {
    "tags": [
     "otter_answer_cell"
    ]
   },
   "outputs": [
    {
     "data": {
      "text/html": [
       "<table class=\"show_images\" style=\"border-spacing:0px;\"><tr><td style=\"padding:1px;\"><img width=\"640\" height=\"480\" style=\"image-rendering:auto; object-fit:cover;\" src=\"data:image/png;base64,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\"/></td></tr></table>"
      ],
      "text/plain": [
       "<IPython.core.display.HTML object>"
      ]
     },
     "metadata": {},
     "output_type": "display_data"
    }
   ],
   "source": [
    "p_B_32 = model.body(\"block\").pos\n",
    "quat_B_32 = model.body(\"block\").quat\n",
    "p_BGfloat_32 = np.array([0, 0, 0.5])\n",
    "Rmat_BGfloat_32 = np.array([[0, 1, 0], \n",
    "                            [1, 0, 0], \n",
    "                            [0, 0, -1]]) \n",
    "quat_BGfloat_32 = np.empty(4)\n",
    "mujoco.mju_mat2Quat(quat_BGfloat_32, Rmat_BGfloat_32.reshape(-1)) \n",
    "\n",
    "p_Gfloat_32 = np.empty(3)\n",
    "quat_Gfloat_32 = np.empty(4)\n",
    "mujoco.mju_mulPose(p_Gfloat_32, quat_Gfloat_32, p_B_32, quat_B_32, p_BGfloat_32, quat_BGfloat_32) \n",
    "\n",
    "Rmat_Gfloat_32 = np.empty(9)\n",
    "mujoco.mju_quat2Mat(Rmat_Gfloat_32, quat_Gfloat_32) \n",
    "Rmat_Gfloat_32 = Rmat_Gfloat_32.reshape(3,3)\n",
    "joints_32 = panda_ik_31(Rmat_Gfloat_32.tolist(), p_Gfloat_32.tolist(), model, max_iters=100)\n",
    "\n",
    "## Do *not* modify the code below\n",
    "set_joint_positions(model, data, joints_32)\n",
    "render_state(model, data)\n",
    "ans_32 = data.qpos[7:14].tolist()"
   ]
  },
  {
   "cell_type": "markdown",
   "id": "0709a627",
   "metadata": {
    "deletable": false,
    "editable": false
   },
   "source": [
    "#### 3.3)\n",
    "Now let's set the gripper to the \"picking\" configuration, 0.12 units above the block, with the same orientation\n",
    "\n",
    "_Points:_ 7"
   ]
  },
  {
   "cell_type": "code",
   "execution_count": 17,
   "id": "05d194e9",
   "metadata": {
    "otter": {
     "tests": [
      "q3.3"
     ]
    },
    "tags": [
     "otter_answer_cell"
    ]
   },
   "outputs": [
    {
     "data": {
      "text/html": [
       "<table class=\"show_images\" style=\"border-spacing:0px;\"><tr><td style=\"padding:1px;\"><img width=\"640\" height=\"480\" style=\"image-rendering:auto; object-fit:cover;\" src=\"data:image/png;base64,iVBORw0KGgoAAAANSUhEUgAAAoAAAAHgCAIAAAC6s0uzAAAzsElEQVR4nO3dWZBc5X338af79Ol1ehZpNItmtI0mgAx6gRhXwAmhsARFoITFGoYiOMQuV7BJWGxM7IS4bKe4Ssopu+JKxVXJRaqsYILLWJXlBROoxMSxY+C1JRZZAkkjRrNP9/S+nO7zXvyZx4eeRcuo+5zu/n4uVDM93T2nu0rz6/+z/B+lAAAAAAAAAAAAAAAAAAAAAAAAAAAAAAAAAAAAAAAAAAAAAAAAAAAAAAAAAAAAAAAAAAAAAAAAAAAAAAAAAAAAAAAAAAAAAAAAAAAAAAAAAAAAAAAAAAAAAAAAAAAAAAAAAAAAAAAAAAAAAAAAAAAAAAAAAAAAAAAAAAAAAAAAAAAAAAAAAAAAAAAAAAAAAAAAAAAAAAAAAAAAAAAAAAAAAAAAAAAAAAAAAAAAAAAAAAAAAAAAAAAAAAAAAAAAAAAAAAAAAAAAAAAAAAAAAAAAAAAAAAAAAAAAAAAAAAAAAAAAAAAAAAAAAAAAAAAAAAAAAAAAAAAAAAAAAAAAAAAAAAAAAAAAAAAAAAAAAAAAAAAAAAAAAAAAAAAAAAAAAAAAAAAAAAAAAAAAAAAAAAAAAAAAAAAAAAAAAAAAAAAAAAAAAAAAAAAAAAAAAAAAAAAAAAAAAAAAAAAAAAAAAAAAAAAAAAAAAAAAAAAAAAAAAAAAAAAAAAAAAAAAAAAAAAAAAAAAAAAAAAAAAAAAAAAAAAAAAAAAAAAAAAAAAAAAAAAAAAAAAAAAAAAAAAAAAAAAAAAAAAAAAAAAAAAAAAAAAAAAAAAAAAAAAAAAAAAAAAAAAAAAAAAAAAAAAAAAAAAAAAAAAAAAAAAAAABoPJ/bFwCg1Tz++OOmaQaDweuuu04p9fLLL7/00kv/+Z//6fZ1AQDQih5//PHHH388m82WSiXboVqtlkqlTCbzzDPPfPjDH3b7MgEAaAlXXHHF448/nkwms9msvZJqtVqpVPL5/OLi4rFjxz796U+7fckAADSzxx577Dvf+c7ykndFxWJxbm5udnb2pz/96e/+7u+6fe0AADQbKXlTqdRqJe+KyuVyMplMJBK//OUv/+3f/u3SSy91+3UAANAkdMl79rlbE8DJZHJiYuJHP/rRV7/6VbdfDeCygNsXAMDrHnzwwUgk8uUvfzkQCESj0XU+W7lcDgQCVMAAAQxgVY899tgf/dEfbdiwobOzc51PFQi8/9fGNE359vbbb//e97633ksEmhYBDKCWLnn9fn9HR8cFfGbbtvXXH/3oRwlgtDMCGMCvPPbYYw8++GBfX9/6S97VlMtl0zQty6pUKlu3bh0fH6/TLwI8jgAGoJRS99133xe+8IXh4eGenp4G/Do9Ig20Lb/bFwDAfZ/4xCceffTRvr6+rq6u+v0Wn8/n9/t9Pl8wGIzFYps3b77qqqvq9+sAj6MXNNDW7r777j/8wz8MhUKDg4Pd3d0dHR2ySKreqtWq/rpQKNTcXiqVlFL//d//rW//6le/+r//+78NuDCgYQhgoH3dc889n/rUp0zTjEajXV1dfX190Wh0PQGczWZjsdgFvEItmUw+//zzTz311M9//vN6PD/QeAQw0Kb+4i/+4jd+4zfC4bBpmoZh+Hy+nTt3xmKx8wvgZDLp8/mUUvUbxM7lcidPnrznnnt+8Ytf1OlXAI3EHDDQdu64447nnnvu6quvDoVC0qZKKVWtVqempgqFgnNw+IwmJycnJydfe+21crms6ry0yjTNwcHBf/zHf7z33nvr91uAhmEhItBe9u/ff99995mm6ff7bduWhVGWZVmW5ff7Z2ZmOjs7N27c6Pev9ek8k8mk0+mpqSmllG3boVDonGL7/AQCAcuy4vH4pz71KaXUd77znXr/RqCuCGCgjUj6hkIhGXauVquSwUopn89nWZZSKplMBgKBFTcjOXNXLXXVKBaLoVBIfXBdVT1YluXz+VKpVCQS+f3f/33btg8cOFDX3wjUFQEMtIv9+/ePjY1Fo1HDMJRSlmXpAPb5fOVy2bKsQqHQ19eXz+dlp5A8sCZ3lVK2bZ86dUoptbi42N/fv2nTJqVUtVqVZ77gZJl0LpeTc4UtywoEAvfdd1+pVHr22Wfr8RuBBiCAgbawf//+u+66KxgMqqVeVEqpSqVSrVYLhYKUv5ZlZTIZy7I6OjoSiUQsFpuampL0dT7V+Pj40aNHlVKBQGD79u31u2bJXb1Jye/3z87OVioVv98v13///fe/9dZbb775Zv2uAagfVkEDrW///v133nmnYRhS/krJK+krd5BqWClVLBYty+rv7+/s7AwEAs4V0ePj44VC4cSJEzJSrZSKx+Nbt24Nh8Mf+tCHZBR648aN61+HVZO7SinbtpPJpG3bp0+frlQqMnheLpcrlUo6nf7TP/3TI0eOrPOXAo1HBQy0uH379j3wwAPZbNY0Tal0y+WylMK2bVer1UqlIvcsFovFYlEpNT09ncvl+vr6TNM8fvy4ZVnyr9ytUqkUCoVKpSL9ouUh61eTuzLBnEgklFLJZFJurFar8kFBPj3I+q977rnnK1/5ygW5BqCRCGCgle3bt++2224LBAKBQEAmUP1+v6xwlmJXYlVmf2UauFQqSRKHQiGfz+ec1pXbs9lstVotlUpbt25VS6ugncccnRNn7sqTSL2rHLlbLpfT6XS5XC6VStFoNBAI6N1ThmFcfvnld9111zPPPHPe7xLgCgIYaFm33HKLpG8ikfAtsW3bsqx8Pq+WCspqtSorm0SpVMrlckqpbDarlIpEIrZt5/P5bDZrWZbOSOcvkqr0nAafde46n9CZu3INlmWlUinncHSlUgmFQjLiLeu3TdO8++67i8XiD37wg/N/s4CGI4CB1nTLLbfccccdMuOrlJL0VUoVCoVisWiappwJKLO/hUJBSuFSqZRKpaS+LJfLtm2nUik9Rq1lMhl9TnAgEJibm+vt7Q0EAuVyee0Ylt8o8a9TXOeuDt1yuSz3cUavfga/3y9D0FKjy+Xdeeedb7zxxjvvvLO+tw1oHAIYaEE333zznXfeKUcPKaU6OzszmYxSSqpYn89XKBRSqZSOZMmwYrEo6Su7kiQgdfrKhLF8IWkt6S6Je8bcLZfLut4VkrunT5/Wd5Db8/n88tytebZgMFgul6vVqgytG4ZhmuZnPvOZz33uc+f3jgGNRwADreaiiy664447JH1l1dXs7OypU6eGh4clfSuVSi6Xk8jMZrOSuMViMZPJSMRKtimlSqVSpVJZbX43lUoNDg4ahjE7O9vb26uUmpubi8fjxWKxv79f3+3YsWMdHR2y7EstVbrJZFJqXG21kne5arUqnwAqlYrP5yuVSj6fr1qtbty4cd++fQcPHjyvtw1oNAIYaCmjo6OPP/54IBCQ6lYXsps3b9ahJSO9SqlsNquXNMvGHqWUZVlS9eqcqyGj0/L14uJiPB63bVvadOTz+Q0bNkQikWQy2d3dLfcJBAILCwvBYLBQKExOTi5/wjOWvMK5ZEwpZRhGOByuVqvSSlM+bXz84x8ngNEsCGCgdYyOjj7xxBPBYFAWW+nitVAoHDly5LbbbnvzzTfz+XylUrEsK5FISKVbLBblbss3B+tnlllh2fkjd5Ax7Xw+n8lkkslkKpXq7u4OhUK5XK5cLteciSRrqWoaeqxR8uqsVUrJ1aqVVn4ZhiFz2LpztWTwc889t453EWgQAhhoETXpK2GplurLrVu3lkqlZDIpZ92XSiWpGnX6KscuW7XUmkOrCT+fz5fNZhcWFuLxuAwpSyXd398/MTGhlHrnnXfy+fzWrVu3bNkyOTkp5bjmLHlXzFqn1QbApWT3+/3FYjEYDMp2qcHBwVtvvTWbzf7whz88/7cSaAg6YQGtYHR09POf/3w4HJao06lZKBR01MluWtM0JSxl9lSvsapUKvK1pGCpVFpja28ikahUKlu3bo3H45s3b+7s7AyFQrOzs6lUSq+O1uuus9nshg0bduzYIU8udbDO2tWOcFh7Y7EeTo9Go7Zt+/1+wzAMwzh48OAtt9ySSqUefvjhc3oDgcYjgIGmNzo6+thjj/n9/kgkolZP30QiYdu2aZrFYlHqYGf6qqVQlCne5bmo7yPfTk1NXXTRRdVqNRgMdnR0SAT6fL5oNCp9OeSgQwl7pVQ2m+3s7NywYcPZvKKa36WWcnr5hijTNMPhsHQa8fl8g4ODMzMzuVzu2WefpQiGxzEEDTS30dHRRx991DlQvEb6KqUWFhbK5bIM2MqRwNVqVWZ/Jd50X2i1ehAWCoVcLpfNZqUhRjqd9vv98XjcMAyJ9mAwKL+uXC5L3ler1YWFhUgkEolEzj5fz0gOlpC8NwxjYmLC5/OFw+G9e/cSwPA4AhhoYpK+sjE3l8vZti1DsjXpKycZKKUkHSWxdAsqCWy9Q0nuUzPvKy2jpTLOZDKTk5O2bc/Pz8vCK7lDLpcLBoOmacoq62AwKFelR7PL5fLRo0dN05RjHuSkh3A4rD64jfhcj3OQDH7ttdfK5fJHP/pR+TyhlCKD4XEEMNDE9u3bZ9u2tGiuVCrFYjEcDkuvK7lDuVxeXFzU6atv9/l827ZtO3bsmHwrpaf0ynA+v/R8ln+PHz9u2/aJEyfkR8FgcGRkRE4ONgwjGAzKBZRKJcMwpI1lMBiUOJRhbdm8JF/UbAKWMPb5fJFIRB/BpJNY96PWtzhDWgL44osvPnLkSLFYlJHwSqWyd+9epRQZDM8igIFm9eijj+7cuVPSV0redDodCoVq0ldqWWf6KqUqlcrRo0d1sShH++kVyNKySirX48ePV6vVkydP1vz2UqmUSCQGBgakepZjekOhkGEYsilICnGllDQDcZbgypGp8rXeWKzvIDGsC2X5d/nJS5LEJ06cuOiii3RTjnw+L4dJjIyMrO89BuqIAAaa0iOPPLJz585sNlsoFEqlkgRYKpU6ceLE4OCgctS+y9NXH0EoLSx0d4t8Pi93rlarJ06cmJqaqqlTa4yPj0ej0Wg0Kt9K9EpTSb/fL6cf6oVdko76sTpxnZypvDyqTdOUlpPOSLYsa3h4eGFhQQ560vW6ZVmGYYyMjDAQDc9iFTTQfB555JEtW7YUi8VyuSxTv5lMRg81Dw4O9vb2Li4uKqWkz0ZN+up6VApfpZScRSjfJhKJ8fHx2dnZs7mSwcHBSy65pKOjQzYdyWpkiUZZF6ZbguiHOJtmOL/VX9RYbT+SYRgf+tCHgsGgfFAIh8OS0HqsWxZ8+f3+L37xi2fzWoAGI4CBJiPpm8lkpKdVNptNpVLOXUOWZcnQqyyMcra2kNpXBqWlNpWElrI1l8vlcrmzT1+xffv24eHheDwu1yApKBWwc1X28gc6613t7ONZDiW0bTsQCMipDKFQSLpDyyeJzs5OufGll16iCIYHEcBAM/njP/7jbdu2rZa+Mp7s8/k2bNjQ1dUlK6Gcq531bqWa9K1Wq+l0+jzSV2zcuHHnzp3SflImg9XS7KwMPtd0wjojnc3O0lk/88DAgOw1kvJafirtONRSh6xIJBJy+Lu/+7t33333XF8XUFfMAQNN47Of/WxfX5/0cE6n05lMRnd7lhCVtFNKzc/PFwqFjo4OZw2qdxzVpG+lUpGWzu+99955pK/8uvn5+Z6enm3btoVCIekHIuPAUgobhlETpc6HO8v3NbYCx+PxQCDQ1dUlT6hfrHJ8vFBKyYvSj/L7/YFAYGRkhACG11ABA83hySef/M3f/M1333338OHDpVKpUChI3uglVM40ki9isVgsFtPpK1O/UiDKSiVZspTL5dLp9Pj4+Pz8/PqvUwewOtPZgqs1oZTlVyMjIz09PfF4PBwORyIRmWCWL+RrwzD0MQzOJiS6u7X05IpGo+FwOBwO/8d//AcD0fAUAhhoAvfcc8+f//mfy5m7kUjk+eeff/bZZ5XjJIPl6StM05Sdtbq/lewYLpfLOn0zmczJkycvSPpeQB0dHf39/T09PTKVG41GZZuTaZq67aW+s27ppZebSX0cj8eDwWAsFgsGg6FQiNVY8BQCGPC6v/qrv7rtttvk2N1IJBKLxXw+31tvvXXgwIE33njDmUOrLRiW+FFL6VutVvP5vPS0yuVyHkxfEY/Ht2zZ0tXVJRO6kUhEtiFJ22fpNS3Rq5SSDVT6sXKjYRhyUEQoFIrFYqzGgqcQwIB37dq166GHHvqd3/kdSV+p55zrgZ9++ulnnnlGrXl2kIw/BwIBXSbKzqVcLpdKpU6ePJlIJBrxYs6LrK+ORqMynO6sgKUI1kPQsv7Z+Vh5T2QEWwI4EolQBMM7WIQFeNSuXbu++c1vjoyMyOKjcDhck75Kqdtvv71arf7zP//zGs+jW1DpcxQMw8jn895PX6VUMpnUcSuz19JuWopgfaSEWhqFdmawrJGW16uUkh5h9OWAdxDAgBft2rXrW9/61tDQ0MDAgLS2qEkXtbRgeP/+/ZZlff/731/xeZx7kJRSskApk8lks9kjR46s3ejKCzKZjFJK3gE53FA2I1Wr1VAoJIuw5J1Z/v6opQyWwyFkevj6669XNIiGN6zcegaAi+66665vfvOb27Zt27Rpk/SWUo5lVpqshbYs68Ybb1ztBCG9NlgpJYufC4VCs6SvyGQy0ula9+rSy7+XD7wvv0XXwblcTpqC7dmzp0GXDqyJAAa85ZJLLvnMZz6zadOmrq4uOWp+xS4W0lFSKSXtq2SctuY+zk3Acv+mS1+RSqWy2aycbCjrt/XpxXqT1Rqz4NKSOpvNyqkVMhDdwMsHVkYAA95y3333dXV1dXd3m6YZDAZXvI+kTigUksJOokgmSvV9bAe11J6iGdNXKZXJZBYWFrLZrFTAzvYjztzV4+0rPkmlUpG3q1QqfexjH2vMlQNrIIABD7nxxhuvvvrqWCzW2dnZ0dHh9/uXl7+66YQcxqCUyuVyDz/8sFLKtu1LLrlE7uZsfSXpu7i42IzpKzKZjHSrzufzeizaWQSrNZeCy9sovUekDmYgGq4jgAEP+fSnPz04OBgOh+VkveV9GXXGSBrJnG46na5UKrfffrtt20eOHFGOWtC2bRmzber0Fel0WhpWO4egdRG8/N8aMhAtb1c2m7322mtrTgt++OGHv/jFL7733nvz8/OnTp367ne/e/XVVzfihaFdsQoa8IpHHnmkt7e3WCyGw2E5WL5QKMRiMecCK4mWSqWSTCZlBVaxWDRNc2ZmRvo+yvCsrDzSU7+ZTKbZ01cplclkQqFQNpuVwXndX1pOQ5LRghXXQms6g5VSoVBo27Zt0iD63nvv/bM/+7P+/n5Zay0/vemmm/bs2ZPNZl988cVvfOMbr7/+eqNeKNoFAQx4ws6dO6+66ippKCHTuvF4XMJAZ3C5XJaWztlsVlJElgfncjnZzqtPWQgGg7r8nZqaeuONN9x9dRdKOp0OBoPpdFqOHFZKhcNhy7LkW+d+pNWSWDK4XC5LEWwYxoYNGx577LFYLFapVOR5pMGWUso0zVAo9PGPf/y66677y7/8y29961sNfK1ofQQw4Al79uwxDCOdTnd2dsrAcjgclvNuLcsKBAL6QAWllJwzKEXwwsJCLpcLBAJzc3NytJHMjwaDwXK5fPr06ZZJX6VUqVRKp9NqaX9wOByWjyzy/kjirl0EK8ei6EAgcO211959993d3d2hUEh2fMlhxvrOsgXZNM0vf/nL11xzzde//vXXXnutzq8S7YI5YMB9w8PDg4ODCwsL+Xx+ampKbkyn09PT06lUSr71+XzS0nlhYaFYLCYSicXFRWnmXCwWJycn5+fnt23bJpOjMks6OTnZSukrMplMqVSSXUmFQqFUKumDnvSS7zOuyZK3KJ1Op1Kp6enp/v7+rq6uaDQaCATkLZU+l9LqUtqQdXV13XzzzU8//fQnP/nJxr1atDQqYMB95XJ5cXExGAz29PTkcrmJiQnpYNzR0SGDrgMDA3JPyV19mkIikchkMplMZnFxcXZ2dnFxUdZFK6Xy+XyrnoBbLBaDwWA2m41Go0op0zTlgMLlte/aA9HSG8t5kqPf74/H41NTU6dOndq1a5dEuIxIyy6vUCj05JNPmqb5t3/7t3V/nWh1VMCA+7q7u6XFRDqdtixLNtukUinLsvL5/PT09OzsrKwBTiaTtm2n0+lEInH69GlJ37m5uYWFhUwmMzk56fZLaYRMJpNOp+VTi7xvziJYrVn7aj6fz7Kscrn83HPPybe65O3t7Q2Hw8eOHVNLjablDoFAIBaLDQ8Pf+UrX3nooYfq+RLRFqiAAfcVi8Xp6WmZy0yn05s2bfL7/el0ulqtxuNx0zSPHz8ei8WUUn6/f2FhQRpaZTKZVCo1NzdXLBbn5+c9fqzChZXJZOLxeDabNQxDjmfQRXDNIqw1poSlDpYNwRLhMn3u8/k2bdqUTCbn5+f7+vpqHuX3+2Ox2Oc///lisfjtb3+73q8ULYzjCAH39fX1XX755UNDQxs3bty0aZPP59uwYUMsFjNNs1wuRyKRcDjc2dkZiUTefffdQqHg8/kSiUQymUylUpVK5fTp04uLi0qpmo1GoVDot3/7t116TXV34sSJgwcPGobR29vb29sbDAYlifUaZmfxqh+1b9++u++++6233lJK7dq1S26Us4TlpAqpnn0+n5zbmMlkLr74YufvlY6e6XR6cnLyX/7lX5Z3AD1Xhw8fPnDgwDqfBM2IChhw38zMTCaTyefzssBK9h1NT0/H4/FYLJbJZDo6OmZnZ4vFok4XmfTNZrOTk5Orjbhedtllu3fvbuxLaRx5aQcPHlxcXJQPKLJgao0i+Oabb37hhRfuuusuHb1KKTnl0NlaSy1ltqx6K5VK0hO0UqmkUqlisSg/3bhx4zXXXFOtVmUu+bwdPnx4PQ9H8yKAAU+Q3hoy/mkYxvj4+KZNm2SFc7VanZ6ell1JsgFpbm7ONM3Z2dlUKiVJI08i5/S5+joaat++fQcPHiwUCnNzc7KJSPYEr7gV2DCMl19++a//+q9lqF9utG1bNm7JDi591JLP54vH46+99lo4HN6+fbtSqlQqLSwslMvl//mf/4lEIs8//7w8w9DQUEdHx9atW8/7VYyNjSmlKILbEAEMeMLx48elwZMcbRSNRufn52WBbjQarVari4uLpmlK+ydp56R3KGntFsBqKYOz2azUwX6/XwK4JoOvvfbaV199NRgMWpYlO31lIEHmfaWhmCzjqlar3d3dP/nJT15//fVLL7308ssvV0qVSqXZ2dmjR4/Ozc3913/9l/MCJiYmlFJHjhy56qqrenp63HgP0KwIYMATZFdrPp+XHagy7CmJKzcqpbLZbKVSkQxOJBK69nUWwdrZrARuAfv27VNKHTx4MJFI6FnzmlOkNm/e/NOf/jQUCj3xxBPlclmWa0kAy4ZgaepZqVS6urp+8pOffP/7349Go1u2bNmwYUNHR0cul5ucnHzllVd+9rOfrXEl77zzzlVXXXV+r2JsbIwKuA0RwIAnyFl7pVJJejzZti3lrNRqskNGKeXz+fSBuMtz1zAMaZXVVnQGz83NhUIhwzBM06xWq4Zh2LY9NTWVTCb7+vo++9nPlkolKZGdva7K5XI0Gp2ens5ms9/73vcmJiaq1apMBPT19SWTyZmZmZdffvnNN99c+zISicQ777yzc+fO83sVZHAbIoABr7j++ut//OMfBwKBVCpl27acxKDHS/WwqrTacJ5UqJPYmStKqRMnTlx33XWNfyGNpzN4ZmZGmkpKN+x8Pi/btPx+/4svvnjjjTdms9muri55o2ZnZ2dnZ30+35EjR6Q7tJwxFQwGOzs7Y7HYxMTExMTEe++9d8b0XT8CuA0RwIAnyJrearUqVa8MNWcymXA4rJTSnRH1/X0+n9R5a4xCtxWdwfF4XEbvq9Xq/Py8vKWGYUxMTDz99NOxWEy6jMmEsXyy0cczLC4u5nK5rq4u27ZPnDhhWdbExETDNliTwe2GAAa8Yu/evS+99JIEsKwVUkrJt/q4PX1nGSOVqHY+SRuuw9Ikg1944YXOzk6Z5c1msxLAcsaU7DiKx+Oyl1c+08jsryylTiQSsg5rYWHBMIznn3++WCzu2LHjjL96/buBFQHcfghgwEM+9rGP/fjHP9Yn3aqlAJava/bVyO3OA/hUewewWsrgV155ZceOHZFIZMuWLadPny4UCl1dXdJnQ2bQ/X5/MBiUjy8y2p/P56UXhww2KKWk5Wc8Hl/xFzln5aWGVkpt2LBhnddPBrcVAhjwEP2n3BnAavUlzaZpynFAilHoJZLBr7/++vDwcDgcHh0dlRMM9WcXy7LkY4pMq0t9LG+dnCsVjUZjsZi02v7IRz5S8/zOx9b8aP3bkAjgtsJhDICH7N27V1Y4K6Wkv5IuZ/V0r5AKTEY+a9pN6K+PHz/emMv2mn379l155ZX5fF5isrOzs1Kp5PN52fUr99Fvpm3bPT09o6OjmUymUCj09PRIwxM5ZVli2PnkKw4wRKPRkZGRC3Lx0pcD7YAKGPCEyy67TL7Yvn37/Py8M0cty9Kdm2rIxLCzAq5ZCN229u3b9+qrr/785z83TVNusSxLSmG19JHl0ksv1W+7M2h9Pl8oFBoaGpqeno5Go319fblcbu1fFwqFznsDUg19SWh5/F8FvGXHjh1S+5ZKJeftyw/akxSRg4BWO/CnnX34wx++6aab1Eo1q23bzvRVSumW2oZhdHZ2hsPhYDB4ww03fOQjHzmbrdUXKn2VUrt376YIbhNUwIC3jIyMvPzyy7JzRve9kgpYbnTeWY9C6291B49GX7cnbd68+fd+7/emp6cPHTqklBoYGFBK9fX1LT9k8Ec/+lEkEpE5eDlayrbtH/7wh6Ojo1u2bFn7t9CEEueHAAa8ZWRkRNYEyQm1kq96FNq5EFrHrV61K7frAGZNlujv7+/v7z/j3RKJRE2ODg0NyWlIazyqHuk7NjZ26NAhTklqeQxBA57gPDdw7969crKv/Ol3Lhda/kDpyKEcG2NwHuRTS6lUci4mt21bzl2uubMMOCcSiRtuuKFOtW8LnyMJjQAGPEdqX+VIXOeupOXTwM610DWD0jhLesW43++PxWKhUCgWi8lnmmQyOTU1NTk5OTg4ODw8nEgk3n777VOnTs3MzNTvepgGbgcMQQOes3fv3hdffFEmgIvFYigUWvv+ei00C6EvCJ/Pt2nTpmg0GggEZAI+kUhUKpWZmZlisdjZ2VksFsPh8MaNG+t6GewJbnn8RwW8aO/evbIWWte+uiZePhAt5+upZaPQF2pnass7cuSIaZqBQEASt1AoqKV3vqenp6ura2BgYGBgIBAIGIahu3CsPTe8fhTBLY8ABrxIt8RavgfGucJZx63eKCwZzELodcpms2qp2WelUrEsS9pH6ymASqUyPDxc78sgg1sbAQx4Qs2iG6mAJUSlibHz0IXlRXDNUQ2MQp8TOUJYv4HSNkt/LV9kMhn9maZcLlcqlW3bttX7wgjg1sb/UsCj9uzZI6PQWs3KLKHXXulRaJ2+LIo+S6OjozfccIPzFjmeQd7SUqkkpyqpD775NWdj1AkZ3MIIYMC7nE2hl99ew9mukoXQ5+q666679tprnSMH0kpaKZXNZpd3JRsYGJAh6HpnMAHcwghgwIsKhcK///u/y2ogtZS4K+aupkOXnUjnp7u7++TJk5lMJpvNplKpU6dOvfnmm+Pj43o4Wi3NzW/atOnXf/3XG3ZhZHCrYhsS4DmFQiGTyfT09MhAaCQS0Z2w5HhgWYXrPI9WHhgMBqVWk0ru6NGj7r2IpiQTvT6f70/+5E9GRkYuvfTSVCr10EMPxWKxYDAoK5+vvPLKSy65xPkoDoLE+aECBtznXIG1uLiYzWYXFxdjsVg8Htfn1MpPnacTrvGEUgSHw+G6XXIre+CBBzKZjGVZoVAok8l87nOfy+Vyi4uLqVRqZmamJn1FXQeix8bGKIJbEgEMeIhUYJ2dnT/4wQ8ikcjAwEA0GpUf1ZyGtLwfllIqGAzqG0OhkM/nowg+J3rTVzabLZfLhmFMTU3Nz89/4hOfuP/++0ul0uDgoLtXiFZCAANekc1mbdvu6OgIh8PRaDQSiSiltmzZsmnTJmmJpRyF74odOZRSMlJqGIZhGH6/f7WDhLGicrn8B3/wB0opv9/f0dGRTCblZCRRKBSuueaa1R5b7yK4fk8OtxDAgCfIRpdwOBwOh//mb/5G0le+7e7u3rFjR29vr2w81VWaDmP9p79YLErdbBiGjEK/8847bryaJjYzMyOj94ZhpNPpQCAgb++rr75aqVTWXgdHBuOcEMCA+0ZHR3X6fuMb3wiHwz6fT75VSsnBAH19fZFIZMuWLSMjIxs3boxEInJofG9vb0dHRywWGx4eHhwcjEajEhKSwXTkOFfz8/PSfLtUKi0sLEhnsVQqdfTo0aGhoe3bt7t1YQRw6+E/J+Cy22677a677gqHw6FQyDTNaDQqFZhOX4lSGUzu7u7u7OwcGhq6+OKLf+3Xfk3CeGBgQA7Fk+JYVkrLQ5gDPlfRaHRmZub06dO9vb36o8yxY8eSyeTmzZvP+HCKYJw95ocAN33hC1+44oorJH2DwWAkEgkEAjXpK2nq9/v9fn8wGJSv7SX6qWoWSMtWYOeyLJxRNBq1LCudTufz+X/9139Np9PyiWd6erpUKp1l78n67UrifKQWQwUMuOaJJ56Q9A0Gg6ZphsNh0zTlC6VUKBQKBAIyhuxMU52+aqneksStVCq2bTvT1+fzjY+Pu/bymlOlUkmn05Zlvfvuu7lcLpvNZjKZ8fHxoaGhrVu3nuWT1K8OpghuJQQw4I4V01dOg1dL6atbbfj9ftM0pRpWy9pBr9YnS98fZ0lG8uXtlQ8xxWLx5MmTlmWtvfyqYQjgVsJ/TsAFN91005VXXinDzqZpBoPBYDBoGMa3v/1t9cH0VUs5Ksf1SPm74nNKQpTLZeeNpmmyEPosTR4+rBz7u6rVqh7Vr1Qqv/Vbv3VOz0YRjDNiDhhotG3btt19992Su/JvOByW+V21LH11+bvGKb8SFc5glsJX1m39wz/8QygUevLJJxvx2prQ6UOHJg8d+tmBA+lgUP2f/2Pbth5mkJOAS6WSZVlGMqm2bDmnZ67TZPBll112wZ8TriCAgUbbs2ePlLyBQEDSV86jVcvSVy2Vv/Lvan/Nq9VquVyuLpEbncPXSqmvfe1rrZ3BX/va11b70dov/Htf+pKxNBjY3d0tN/r9fsuy5CNRMpkMptMHv/Slq8bGPnzvvRfuks/T7t27WY3VGghgoKGuv/76iy++WNJXllzp0+ArlYrEsCbxKfWx8/bli59rKmN9GpJexqWWIqr1YniN6K25w4qv3VbKUkrer56eHnm79Oq2arVaLBbN48eVUj87cOD04cP7nnrq7K+NcxqwBuaAgcbZtm3b3r17g8GgVFd6DljSd8VVVNLSee2/4/JA27ZrJoBlCNojq4fq5Izpu7aJQ4fki4pS+m3SGWxZVrVazeVy+j1MHzr0f7/0pXP6FfWYDB4bG2MgugVQAQMNsmXLlk9+8pPSbUOTAedKpbJ8clc6aUgXjpqTGGqsGLF6Grimem6Nseh15u6KbKWkB5aOTFmQVZ2d7UinQ0rFlVJL/7pu9+7dhw8fdvsqsC4EMNAge/bskfQNBAK5XE5qX7/fv2L6KqVkaPqM+4hk7+8aA9HLn7x5x6LXmbvLHx5IpToc3+opcz0EXSwWO+bmnPfZeO6lZz0GopkGbgEMQQONsG3btosvvljSV0aeS6WSrPRZMX19Pp/ME5/xmfUzrDYNLFXdcvUoIuuqHhccSKf117FSaWZmxjliLKP69unTzof0Og5vPnt1Goi+4M+JRiKAgUa48cYbZdWVXn5VLpeLxaKzMHIWNHpueLUnlKpXzxzLnpnld5Mhbn2AUvNqzMeF0iuvvPrCC++9996pU6dSqdT09PTi22/HHSG9Hhc8gwngZscQNFB3O3bsGB0dlegV0uRZUlPWWP3TP/2Tvr+UvysOPi9vAS2cG5BqyIj3isX0BRmLXjEaL8j4dgNCN5BKOb81M5nOYDAejyulqtWq8f/+X/jYsXpfw3owEN3UCGCg7nw+n95uJHt/ZTJYfro8UGVnsBRM+qc1/Z81/diaAHY2kV57KPuclmWdZSjW3O088tgLI+QdK9W+G89rCFpc8MlgAripEcBA3Y2Ojupdv9J5Q/J4xTvr2+VwhTM++RqNoOWLszkVeMVS+AJGYD0yvk6c76QxPV3z00x8vYugyWBodTy6EoC46aabbr311lAoFA6HY7FYNBqNxWI1Afzd735XKSXD0UopCezVQtq5TyabzeZyuVKpVCwWa+6WyWSKxWI2m02lUmeznqsBzjKGG5nB4YmJ8MSE8xazv39AqWp/v/mLX9TcOROPH9u1a50D7Bd8RfStt956YZ8QjeGJ/5NAa5MhaBl/loHo5cmqo1fI8TuyFGvtJ1/xDAb9nDWNLb2v8eVvYWhIKeXM4PL0tLFS+XuhUARDEMBA3enclVbP0mFYK5fLJ0+eXB6Ttm2XSiXbtiWDa7bHnM3v1b04PFL+npFbg8+FoSErHg9PTMiupPBK95kaGtL/Nu9GanhKc/y3BJraoUOH7rnnHil8hf7R8ePH33333dUWMEsGV6vVUCjkDF3nELRa6sWx/OHyu5plD5K7U79WZ2ems3P5cLQzdz1L9iNRBDcdAhiou0Qi8ctf/vLKK68MBALh8Pv1VblcPn78+KlTp1ZLX02Go51HMti2rddIyx1We6zMAV+Yl1EHXljq7OQcjp4aGlo7d6mDsU7NNDkENK9rr732gQceGB4e7uzslOh97733nIf4Li4urv0MeiJZf6uUqlaryWQyk8msmMHT09OJROKCvo620JFKZTo717jD+kO3HkcksRSr6VABA41w6NChl1566ZZbbgkGg+Pj42dT+NbQhx0tX5YlT9Xb2zs3N6dvnJubI33PT036NkuNy1KspkMFDDTIxo0b77///t7eXrXSAQlnrICFz+fThzTIMUrJZFIeqwN4bm7OmcRYm+Tr2oPh9chgimBQAQMNMj8///Wvf33Hjh3bt29XSu3YsUP/e/ake6UsyzIMw3mSkm3bRK+TTs01wvVskrVZKmBFEdxsqIABlz311FM7duz4+7//e6VUd3d3V1eX3N7d3b3aQ2TTcCAQsG17fn6+UCgEAoErrrhC4txrK5tcca6puc6QPg/1qIAVRXBToQIG3NfR0SHDyMsHop157Pzatm05iFAK3wcffFA/5GzGVFvVBQ/LJip/BUVwE6ECBlz21FNP7V7q739OqSklcjKZVGvmRPsksWePdVpRnSpgRRHcPAhgwGXOAFbnmJfnHQ+tlMpNV6SK+gXwgQMHKIKbAgEMuKwmgLUzZmSznLlbV02avoIiuM0RwIDLDh48eDZ300npYuR4J62bOnc1iuA2xyIsoDm0RuSsE28CWgkBDKAJEL3nZGxs7NChQ4cPH3b7QrAWAhiAF5G467R7924C2OOYAwbctHv37qeeesrtqzg3dZoJbs/Erd80sGIpludRAQNwU3vmbmPQlMPjqIABNzVjBSzOuw4mcZ3qWgErimBv87t9AQCa0nnk6JNPPkn6NtjY2Jjbl4BVUQEDbmreCrhGg/s4tox6V8CKItjDmAMGcAGQtefH5/PVO4OZCfYshqABN1122WVuXwJaHKPQnkUAA0CLI4O9iQAGAMAFBDAAtLixsTGKYA8igAE3rXgQIdqKz8dulDZFAANA66MC9iACGADaAhnsNQQwALipAb04BAHsNQQwALQLMthTCGDATSzCQiMRwJ5CAANAGyGDvYMABgDXNGwCWCOAvYMABoD2QgZ7BAEMAO2FAPYIAhhwDSuw4BYy2AsIYABwR+MngOEpBDAAtJ2xsTHOonYdAQwA7YgZENcRwADQjpgGdh0BDLiGMUC4iwx2FwEMAC7wwgosAthdBDAAtC8y2EUEMAC0LwLYRQQwALQ1MtgtBDDgGvaBwAsIYLcQwADQ7shgVxDAANBoXlgCDdcRwADQ7sbGxiiCG48ABgDABQQw4BoWYcE7qIAbjwAGAChFBjccAQwADeXZFVgEcIMRwACA95HBjUQAAwDeRwA3EgEMuIMVWPAmMrhhCGAAwK8QwA1DAANA43h2BZYTGdwYBDAA4AMI4MYggAEAtcjgBiCAAXdcdtllbl8CADcF3L4AoE29/vrr+Xze7asAVjY3N+f2JbQ+KmAAAFxAAAMAar399ttuX0LrI4ABdzDEB7Q5AhgAUIsPiA1AAAMAPoD0bQwCGADwAQRwYxDAAIAPIIAbgwAGAHwAAdwYBDAA4FdI34YhgAEAcAEBDAD4FVpwNAwBDLiDgT6gzRHAAIBf4aNhwxDAAID3kb6NRAADAN5HADcSAQwAeB8B3EgEMADgfQRwIxHAAAClSN+GI4ABAHABAQwAUIoWHA1HAAMA4AICGACg5ubmmANuMAIYcA1/74B2RgADAJgAdgEBDACACwhgAAATIi4ggAGg3ZG+riCAAaDdEcCuIIABoN0RwK4ggAGg3RHAriCAAaCtkb5uIYAB1/CHD2hnBDAAtDVacLiFAAYAwAUEMAC0NaZC3EIAA0D7In1dRAADQPsigF1EAANA+yKAXUQAA0D7IoBdRAADQJsifd1FAAMA4AICGADaFC043EUAA65hABBoZwQwALQpPgK6iwAGgHZE+rqOAAaAdkQAu44ABoB2RAC7jgAGgHZEALuOAAaAtkP6egEBDACACwhgAGg7tODwAgIYcA3DgEA7I4ABoO3w4c8LCGAAaC+kr0cQwADQXghgjyCAAaC9EMAeQQADQHshgD2CAAaANkL6egcBDACACwhgAGgjtODwDgIYAAAXEMAA0C7m5uaYA/YOAhhwE38NgbZFAANAu2AC2FMIYAAAXEAAA0C7YMrDUwhgAGgLpK/XEMAAALiAAAaAtsAKLK8hgAGgLTAE7TUEMAC0PtLXgwhgwE38WQTaFgEMAK2PCWAPIoABAHABAQwArY/JDg8igAGgxZG+3kQAA0CLI4C9iQAGgBZHAHsTAQwALY4A9iYCGABaGenrWQQwAAAuIIABoJXRgsOzCGDATQwPAm2LAAaAVsaHPM8igAGgZZG+XkYAA0DLIoC9jAAGgJZFAHsZAQwALYsA9jICGABaE+nrcQQwAAAuIIABoDXRgsPjCGDATQwSAm2LAAaA1sTHO48jgAGgBZG+3kcAA0ALIoC9jwAGgBZEAHsfAQwALYgA9j4CGABaDenbFAhgAABcQAADQKuhBUdTIIABAHABAQwALWVubo454KZAAAMu428l0J4IYABoKUwANwsCGAAAFxDAANBSmNRoFgQwALQO0reJEMAA0DoI4CZCAANA6yCAmwgBDACtgwBuIgQwALQI0re5EMCAy/ijCbQnAhgAWgQtOJoLAQwAgAsIYABoEUxnNBcCGABaAenbdAhgAGgFBHDTIYABoBUQwE2HAAaAVkAANx0CGACaHunbjAhgAABcQAADQNOjBUczIoABlzF4CLQnAhgAmh4f45oRAQwAzY30bVIEMAA0NwK4SRHAANDcCOAmRQADQHMjgJsUAQwATYz0bV4EMAAALiCAAaCJ0YKjeRHAgMsYQgTaEwEMAE2MD3DN6/8DIb+SVpmeWY0AAAAASUVORK5CYII=\"/></td></tr></table>"
      ],
      "text/plain": [
       "<IPython.core.display.HTML object>"
      ]
     },
     "metadata": {},
     "output_type": "display_data"
    }
   ],
   "source": [
    "p_GfloatGpick_33 = np.array([0, 0, 0.38])\n",
    "quat_GfloatGpick_33 = np.array([1., 0., 0., 0.])\n",
    "p_Gpick_33 = np.empty(3)\n",
    "quat_Gpick_33 = np.empty(4)\n",
    "mujoco.mju_mulPose(p_Gpick_33, quat_Gpick_33, p_Gfloat_32, quat_Gfloat_32, p_GfloatGpick_33, quat_GfloatGpick_33) \n",
    "\n",
    "Rmat_Gpick33 = np.empty(9)\n",
    "mujoco.mju_quat2Mat(Rmat_Gpick33, quat_Gpick_33)\n",
    "Rmat_Gpick33 = Rmat_Gpick33.reshape(3,3)\n",
    "\n",
    "joints_33 = panda_ik_31(Rmat_Gpick33.tolist(), p_Gpick_33.tolist(), model, max_iters=100)\n",
    "\n",
    "\n",
    "## Do *not* modify the code below\n",
    "set_joint_positions(model, data, joints_33)\n",
    "render_state(model, data)\n",
    "ans_33 = data.qpos[7:14].tolist()\n"
   ]
  },
  {
   "cell_type": "markdown",
   "id": "19240d2b",
   "metadata": {
    "deletable": false,
    "editable": false
   },
   "source": [
    "#### 3.4)\n",
    "\n",
    "Compute the pose of the block relative to the gripper while the block is held. Then, set the position and orientation of the gripper to match the previous floating configuration.\n",
    "\n",
    "_Points:_ 7"
   ]
  },
  {
   "cell_type": "code",
   "execution_count": 18,
   "id": "43902c4a",
   "metadata": {
    "otter": {
     "tests": [
      "q3.4"
     ]
    },
    "tags": [
     "otter_answer_cell"
    ]
   },
   "outputs": [
    {
     "data": {
      "text/html": [
       "<table class=\"show_images\" style=\"border-spacing:0px;\"><tr><td style=\"padding:1px;\"><img width=\"640\" height=\"480\" style=\"image-rendering:auto; object-fit:cover;\" src=\"data:image/png;base64,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\"/></td></tr></table>"
      ],
      "text/plain": [
       "<IPython.core.display.HTML object>"
      ]
     },
     "metadata": {},
     "output_type": "display_data"
    }
   ],
   "source": [
    "p_BGpick_34 = np.array([0., 0., 0.12]) \n",
    "quat_BGpick_34 = quat_BGfloat_32\n",
    "joints_34 = panda_ik_31(Rmat_Gfloat_32.tolist(), p_Gfloat_32.tolist(), model, max_iters=100)\n",
    "\n",
    "# The next few lines \"attach\" the block to the gripper.\n",
    "# This is not required for obtaining points in the \n",
    "# assignment, but is included for visualization purposes.\n",
    "# This will only \"look right\" if your answers up to this\n",
    "# point are correct.\n",
    "p_GpickB_34 = np.empty(3)\n",
    "quat_GpickB_34 = np.empty(4)\n",
    "mujoco.mju_negPose(p_GpickB_34, quat_GpickB_34, p_BGpick_34, quat_BGpick_34)\n",
    "\n",
    "p_Bfloat = np.empty(3)\n",
    "quat_Bfloat = np.empty(4)\n",
    "# Compute the pose of the block int he world frame by \n",
    "# composing the pose of the gripper in the world frame\n",
    "# and the relative pose of the gripper w.r.t. the \n",
    "# block \n",
    "mujoco.mju_mulPose(p_Bfloat, quat_Bfloat, p_Gfloat_32, quat_Gfloat_32, p_GpickB_34, quat_GpickB_34)\n",
    "model.body(\"block\").pos = p_Bfloat\n",
    "model.body(\"block\").quat = quat_Bfloat\n",
    "\n",
    "## Do *not* modify the code below\n",
    "set_joint_positions(model, data, joints_34)\n",
    "render_state(model, data)\n",
    "ans_34 = data.qpos[7:14].tolist()\n"
   ]
  },
  {
   "cell_type": "markdown",
   "id": "ede70035",
   "metadata": {
    "deletable": false,
    "editable": false
   },
   "source": [
    "#### 3.5)\n",
    "Now let's move the gripper so that the block hovers above its final desired orientation. We want the block to end up at position $(0.4, -0.4, 0.03)$ aligned with the world frame. In this stage, we want to move the gripper so that the block is $0.5$ units above its target position in the $z$ axis.\n",
    "\n",
    "_Points:_ 7"
   ]
  },
  {
   "cell_type": "code",
   "execution_count": 19,
   "id": "45ec2a99",
   "metadata": {
    "otter": {
     "tests": [
      "q3.5"
     ]
    },
    "tags": [
     "otter_answer_cell"
    ]
   },
   "outputs": [
    {
     "data": {
      "text/html": [
       "<table class=\"show_images\" style=\"border-spacing:0px;\"><tr><td style=\"padding:1px;\"><img width=\"640\" height=\"480\" style=\"image-rendering:auto; object-fit:cover;\" src=\"data:image/png;base64,iVBORw0KGgoAAAANSUhEUgAAAoAAAAHgCAIAAAC6s0uzAAA3gklEQVR4nO3da2xb533H8YeHPLxKlGTZshNfE9+S2k6zJUuzNWnm1G2NtQsGFAumZE2WBhv6ol03rNjQbBkwGAvWAMuGdRiCAimwN8veDAOaLEvXbbGbZlmQZVkQ5WZbvtuSJUqkeDnk4SF59uJfPT0mJVl2RJ5D8vt5YVAUSR0qrX78P5f/oxQAAAAAAAAAAAAAAAAAAAAAAAAAAAAAAAAAAAAAAAAAAAAAAAAAAAAAAAAAAAAAAAAAAAAAAAAAAAAAAAAAAAAAAAAAAAAAAAAAAAAAAAAAAAAAAAAAAAAAAAAAAAAAAAAAAAAAAAAAAAAAAAAAAAAAAAAAAAAAAAAAAAAAAAAAAAAAAAAAAAAAAAAAAAAAAAAAAAAAAAAAAAAAAAAAAAAAAAAAAAAAAAAAAAAAAAAAAAAAAAAAAAAAAAAAAAAAAAAAAAAAAAAAAAAAAAAAAAAAAAAAAAAAAAAAAAAAAAAAAAAAAAAAAAAAAAAAAAAAAAAAAAAAAAAAAAAAAAAAAAAAAAAAAAAAAAAAAAAAAAAAAAAAAAAAAAAAAAAAAAAAAAAAAAAAAAAAAAAAAAAAAAAAAAAAAAAAAAAAAAAAAAAAAAAAAAAAAAAAAAAAAAAAAAAAAAAAAAAAAAAAAAAAAAAAAAAAAAAAAAAAAAAAAAAAAAAAAAAAAAAAAAAAAAAAAAAAAAAAAAAAAAAAAAAAAAAAAAAAAAAAAAAAAAAAAAAAAAAAAAAAAAAAAAAAAAAAAAAAAACCIuT3BQDAsu655x65YRiG3A6Hw3LPnXfeGY/HDcOQLw8ePPjjH//42LFjR48ePXbsmC9XC1wTAhhA20lY6i8lSnV23nPPPTpW77nnHn2/vvOqDMPQzwqFQkePHv2zP/uzo0ePrsW1A+1CAAO4Brokbbqt79FBeN999+n7ryNTV68pffX9xDACjgAGet+dd94ZiUQ+9alPyZfhcFiCql6vh8Phc+fO7dy50/v4ppRdMj71nao9sbpKOn290atVq9VDhw69+uqrHb8u4OoIYKDX3HnnnZ/5zGeUUnffffc999wTi8WUUoZhhEKhcDgciUTkS9d1lVKnTp3asWOHPNF13baWqmtO3pFaJn3L5XK9XldKHTp06I033uj0xQFXQwADPeL3fu/3DMP41re+FYlEQqFQLBaTNJXoVUpFIpGmWD1+/PjevXuXfDWJZ63RaCz3raYvO0bSd8nordfr5XJZbhSLxXK5vHv37o5fIHAVEb8vAMAa+OY3v/nHf/zHhmGEw2E9JBsKhaTelS91EouPPvpoufRVLTXl6gviNiW31LKnTp3atWuXUurMmTM333yzfgXv1Var1Wq1Ko+X9FVKfeMb3/jud7+7+h8HdAAVMND1/u7v/u6BBx6QoeZoNCpBq6tefVvul9DSdwbECrFtWVatVkskEvJhQh4ZDoc/+ugjy7J+7ud+Tnnejk7fRqNhWZakr23bxWLxe9/73ve///1OvilgZVTAQHd75JFH7r333kgkIqFl23Y4HA6Hw/JlrVaTZJIBW9M05Vmu60pR611L5RedvrVazXtjeno6l8vddNNNsVjMcRzHcfQDXNfdsmXLwMCA67reDxPy3h3HaUrfWq1mWVan3xiwIgIY6GK33HLLb/zGb0QiEcdx9HIkGX01TVPucV1XEq5er9frddM0T506tXnzZqWUHrKW6nllrQPIrTV002OaAvWq98sLOo6jlMpkMqVSaXBw0LZteS/VarVSqdTrdXnY8PBwU/oqpcLhcCKRqFQqlUrFtm3btiW2z507d+jQoX/8x3+Uh911112GYfz3f//3Vd810D4EMNDFDh8+nEwmQ6HQwsJCNBr15mi5XI5EItFo1Pt4wzAsy3rvvfckgBuNhuSZnipWSulh6iV5s9ObfMtlahMJ12q12nRPvV6XoeNQKDQ/P2/b9sDAQDqdjsfjruvWarVYLJZKpQYHB/VF6sq+6UfIiyeTyWq16rpuPp+XUYFt27Y9++yzQ0NDsjJcFnC99tprjUbj6aeffu2111a4bKAdAjQJBOCa7Nix4/d///fvvvtunbuRSCSVSkmlK/dEo1HJYBmRln8jkUgsFtOVsVJqcHBQglPnmX6FlQPVq1qthkKh1nD13qjVak2vrL/U5e/k5OSmTZtGRkZSqVQymYzH49FoVJZwRyIRuWwp3FtnsmX9c6PRcBynWq06jhOLxUzT1JPKshhNni7D7/Ip5D/+4z++/OUvr/KdAmuCChjoVp///Oej0ejs7OzY2JhSqlKpKKXm5+clruQxhmHE43H5Uuf0xMTE9u3bo9GoXttcq9V0rbxcRwu5oaO09R7vc2u1mk5uiVgdtK1fyrMsy9q1a9cHH3yQTqdlKZlSynVdCUi5rR9cq9Ukj721u/Is9pacrtfrUvQPDAw0Gg0JXXmi7ITWA+mf+cxnPvjgg/Hx8f/7v/9b/X8C4OOgAga60q/92q8dPHgwlUrdcMMNsVjMm5qpVEp5Sl7vDiLTNKempm6++Wb5UvIpEokkk0nTNFsz1RuurZpK2Fqtpl9B36lLT32Pbdv6YbZtG4ahv0yn0/Pz8yMjI0NDQwMDA/F4PB6Px2IxvYNZSl7JTglRwzB0WotqtVqr1VzXrVarhmFMTU2NjY01Gg1Ja5lOltfR6V6r1WzbLpfL58+f/6Vf+qXV/jcAPh4qYKD7PP3005VKRYaX5+fnJX50CSuZl0gk1GJJqpPStu1169ZJrMq/hmFUKpVcLpdOp5fbmCRP16PH8jren6XD1atardq2La8pj5cxau+eKLXYDlOe8vLLLz/88MPZbFZeWSpUx3EkKfWkr6zolkloCWPddUR5mnw1Go2hoSGpcWWmXNZIy+t457n11qyhoaHHH3/8ueeeu67/LMC1IYCBbrJv377vfOc7s7Oz+XxeElenptSRrutOTU3JPfF4XEJILeaxUur06dPJZDIWi8nxRLo/pWVZMpwrYSnxJreXzFf9c3W4Nv3rXSQlcas3QekL9g5oh0Kh999//9lnn/2FX/iFX/zFX4zH4zKOLRnv3b4sEStXrnNa1lUppWR+98UXX9y7d+/g4KBsIJZntb6LRqOhi2AZ3/7N3/zNqampl1566Xr+8wDXggAGusav//qv/9Zv/VYikZiamhoZGTFNs3UVkrewsyyrXq+XSiX5UjJ4ZmZm69atlmXpHcOxWKxUKkmzC7XMHLBajNXWuBXe0laP8aqWlFXLD2ufPXvWcZxGo3Hq1KlsNptKpXbt2mWa5ujoaDgcHhsbk4HlUqlUr9flbcootHxukGHqfD6/cePGcrl8+PDhwcHBJfdKadKvw3EcCWAp2R3H0R9WgLYigIHu8PDDDz/++ONKqbfeeiuVSjWVv0LKQX27qXItl8u1Wk3y2HGcUqkky5RM05RpYwmelYNW6EpUSlvHcfSgtHd828t7j3dltTeepWnG4OBguVw2TfP8+fPxeDybzcZisTNnzjQaDdu25+bmcrlcoVBwHEdmiDds2LBhw4axsbHbbrtt+/bt3t+G3PAeMuF9C7LBSdZLyybjUqlULpc/97nP/dM//dOy/yWANUIAA13g0UcfffTRR5VSuVzOcZyBgYHW8te7rUgmTZteREZZY7HYpUuXZEW0pK8Ej1Jqbm4umUw2PUsP3kpHC2+vDN1bqmmrknfT0erf48LCgtTr2WxW6lr50fKpQm44jmOapk7TWq0mRfDY2NjGjRuj0ahMGJfL5VKpJBErG64SiUQ8Hm/qaC0j2I7jVCqVarVqWVapVCqVSvl8fvfu3SdOnFj9xQPXgQAGgu7pp5++88475fa5c+eWK3+96asHaTUZ3VVK5XI513VN00wmk/pOvcs2FArJzKvckCcuV7yuLfk8IecXGYZRr9flRycSCWmGpZSSIlg6bEh8yoowueC5ubk33ngjn8//z//8j37Z3bt3f/GLXyyXy9u2bYtGo7qntFJKfkvyCpZlFYvFfD5/7ty5XC63bds2AhjtRgADwbVv376nn35aT0nmcjnLstavX99a/urB55XTd3Z2tlAoJBIJqTVlHbXslJWH5fP5tp4E3DQ07Y1z2X0k78txHBlklqs1TVMuVaaB5VmGYci3HMcpl8tHjx5dcgvviRMn/vqv/1optXv37sceeyyfzycSCRkAkCGBRqNRLpfz+XyxWJycnLxw4UIsFlty3RmwttgHDATUgw8++Pjjj0tVqpRqNBrvvvuuYRjpdFr3gZJHrjD1K1/q9J2dnZVxXenaoZSSQVopqeW0hqbula1WLohXiNjVOHv2bKPRkO5X0lFEyPuV5V2ydFkeMDg4WKlUwuHw2bNnV/P6v/M7vzM8PKyUSiQSssepWq1ms9m5ubl33nnnzJkz0pjzf//3f19//fVrunLgWlEBA0H08MMPf/WrX1VKSd7UarVMJlMul9evX+9dY6yunPptTV8dhxcuXMjn82rxjHq9HVbKTXmWZI8UmvpFVu7Fcd2HKS23OHn79u2VSsWyrCX7UevdwEqpYrHoOM7s7Ky68vjClX3ve9+777779u/fL9uupAe11NAnT56Ux9Tr9XPnzl3zWwKuEQEMBM4jjzwiS65kuFWaNF28eHG5tVdyQ+pCfb9O34WFhdnZWb2S2TAMGcj1Hg8sOSqdnKU71SovdYXkW+FEh5UZhjEwMKA/Eyz5UrIfKRqN5vP5gYGBa3r9Y8eOSdtLfXahbdsffPCB3nMsH3qu7+KB1SOAgWD5zne+c+edd0pdW6vV5Fi9fD5fr9f1Ot7WwWdZ9uw9WFcCrCl9lVJy6FC5XA6FQt520LJ/V8+wejXl8TV9ed30hcmstiSid+BdZrKv78XffPPNPXv2TE9Pp1Kpt99+e8+ePVNTUzIS0Gg0ZmZmdDMToH0IYCAoZMlVLBaTkWQZHZUdMvPz863lrx58ltp3Nekr64p1/8hKpaKPDZaf6O1coaNUh5/3y1Vak/D2vlPvnXqp9nV45513hoaGJicn33vvPZnujcVitVqtXC6/99571/eawDUhgIFA2Ldv3zPPPCO7XWUHjhw+b9v21NSU67qt5e8K6Wvb9szMjPfYA910QiklvbTknAbDMCSD9Rl/+pL0uHTr1TYlpfcxK1fAax7eIyMj1zfWPTExce+992YyGflQInHuOE4mk5mbm7uOFwSuFQEM+O+Tn/zkX/7lX0pG6v2vMvtbKBTkBIVoNOotfyV0l0zfhYUFOYW+KX1l6lfuMU2zXC5LoVypVGSlsRzY13TAn2hN3CVDV3ej9D5yuYetENv6pF7vncuFt1zwCi0nlzMxMTE8PHz69Gm917lSqUxOTl7r6wDXhwAG/PeVr3xFDzvrk+Sr1WqxWCyVSnIwn7f81enrXQK9cvrqaVSlVKlUko4WhUJBZlWlDpbj7vVVeSvgJVNZeWZqvbwP9iar3lLV+i3labm18o9oyn4JzlqttmHDBvkAsfoiO5vNyucS+bXL7K+sFQc6gAAGfHbLLbfs27evWq3KumXdnbhSqUgRPDw87N2b615J7pSNNAsLC9LUSa9OkvT1LpCWhotKqXQ6Lcu7lFKlUskwjHg8vmQd2ZqyTUmpk1Xfv0I3D+9CqiULbnmuTHjrO72fAwzDcBznrrvuikajn/vc5/7iL/5icHBQn3/svarWO5s4jiMNsORLvRMJ6AACGPDZwYMHpQKTpJTyt1KpVCqVhYWFwcFB2S2jPHtymspfx3Gy2aykyHLpK4+UhovyXdu26/V6KpW6dOmSj4t+pSlVq9a+zerK4P/JT36ysLAQCoXkSIbWmWDdMEuolp1aSqlqtVooFCzLCofD7P1FhxHAgM927ty5ZPpKf+OBgQFd/uomUDp9pWiWYWfVkr76kZI6+tAFpZRt23Luvb/pqxaPXbpu77zzjhTuyy3F8hbBhofEcy6Xy2az1WpVjmH4OFcCXKu12bEH4Pokk8n5+XnZgepNX6WUbdsDAwPe8rep9pX0lWnLer1eKBR0+kr0SsbolVZy/qDcE5D0/fiOHz/eWtcuR/9a9AT5xMTE5s2b5ZTDdl4msAQCGPCZnHQrC3F1+soeJNn7Kw/T5a9aHFvOZDLnz5+XkWR9MqBOaG/6yjHAcrter+dyOdUT6auUeuutt+bm5q6jI0ej0ZCTHk6dOnX58uV2XBuwMgIY8Fmj0fjwww+96VsqlRYWFprKX+/Ic61Wm5+f172dvemrH6AWF0vXajUpkdViI2jHcXojfcXU1NT1neA0NzeXSCTS6fTP//zPr/lVAVfFHDDgs+np6XXr1iml0um0WkzfdDrtLX/1IYNygI9O36btRt701VO/xWJRV8PFYrFcLvdS+iql3nrrLaXUHXfcca1PrNVqQ0NDQ0NDlUpl7969Fy9e1CvUgA4ggAE/hUKhUql0+vRp27Z37NgRiUQWFhaUUpFIZGZmZnR0NJ1OS8NFCddisaizszV91eKYs1pcdiT1rurd9BVvvfXWnj17BgcHV/+UQqEQj8fllxaLxbZv337DDTfkcjnTNN988822XSnwMwxBA36SlbeyCOjkyZOnTp2SdsTnz5/Xj9G179zc3Mrpq3tdyeBzsVi0bVuqZzlSqSfTVykVjUbPnDlTKBT27NmzmscXCoVCoeC9JxaLxePxDRs23HbbbW+//fbXvva19lwp8DMEMOAzqVBlJ4xlWfl8XgdtoVBoNBrZbHZhYWFubm5+fl6e4k1fvcdXp68MPssxShLe0nCjV9NXyE7o119/ffv27dJTbLlHFgqFYrEYupJSKh6Pp1KpBx98cGZm5ktf+tIPfvCDhx56qIPvAH2HIWjAZ95D5h3HCYfDly5dGhgYmJycHBkZef/992UmOBqNmqYZi8Vkw5LyFL7Kk77ygnKmvaSvlNS9nb5q8fzjWCz25ptvhsNhWcKmv7t9+/azZ89K9C759Pvvv//o0aNKqX/4h3/Qd67V0YrAkghgwGfFYnFkZMR7/IA0h5qfn69Wq+FwWFocK6WkcbHcXiF9y+Wy7GLSS6DPnj3b2+mbSCTkRjwel3/z+bwMGEgbkxXevvS8/M///E/5Ug8zKKUymUz7rhkggAH/6d26UrS5rruwsLBu3bpqtSrHA8sZA94z6nXiStDq+y3LqlQqcrRArVazLKvn07dJJBKJxWIbNmxIJBLSZku3v9bkI46cAWVZVrlcbn0dvYwcaBMCGPCZHhSt1+tyzMCmTZs+/PDDSqUiyWqapu6/YRhGU/p6Q6JUKkntq9N3cnKyT9JX/x7kwAbZQp1MJpVSiURidHRUP0Dv1JIDMJZspCW/Yc5mQFsRwIDPpAeW3vJbq9VM01y/fr1lWZK14XBYjhtqOs6vKX1t265UKhK9/Za+0WhU56gM0esG2t6To/RpFvItb2cx76vJl6+//jr9KdFWLDEAfJbNZiuVSigUchxHbyLauHGjrKUStm0Xi0W5rXtaedNXTvVRSukDDfsnfZVntZQctKA7iHlPpGh9VlMeCxnGj0Qi69evb/+Fo69RAQP+s21bimBZBS2LqoaHhy9fvqwnhr1LsZqO3XVdVxpjVatVSd8PP/ywf9LXS1ZUSfnrPbHRS3/K0Y/xjk6HQqHh4eFGozEyMtLZa0ffIYAB/2Wz2aGhIdM0JX3D4XC9Xh8aGnIcZ3p6utFoDA0NJRIJy7JqtVo0GtVbV6V3tOwkluhVi3PJ/r6jDpP3Gw6H9Y1VHpHkLY5ltD8cDuvGn229ZoAABvyn/9xLxVav1yORiOu6Y2NjqVTqo48+qtfr8Xg8kUjIpt5IJBKNRr0JUavV9MG6yWTy5ptvVkpdvHjRl7fTeeVyOR6Py9KqeDy+Qnzqmrj1AZK+MrZP+qID+utjMhBMmUzGsiyZA27q4pROp++4445IJCJNJHK5XKVSKZfL+Xy+UChITSyTxGpxua9pmolEYvPmzTt27PDtLXXWl7/85ZdeeukHP/jBd7/73VUWr3oIWi/dMgyjVqvpupkVWGg3KmAgEKanpwcHByWDZSA6EonoMNizZ0+hULh06VK5XC6Xy9FoNBKJyJD1wsKCZVmybkvvunEcJ5FISFeK3vb4449/61vf2rlzp1JKKuAbbrhhamqqacX4krybu/TTNW9HDqAdrvI/UACdsX79+h07doyOjtZqtWQyGQ6HJT5lTa9Sql6v12o1OazQsixp0xEOh6PRqGEYW7duVZ4e0dIMq1QqJZPJH/7wh/6+tfb5wz/8wz//8z/P5XKO41SrVW/h+8wzz0iyth4VLEEry8X1zunWtdD/9V//RQajrQhgIChuv/32gYGBWCwWjUZjsVgkEpHwkH9lgVUymSwUCps3b/Y+UfpeKaVc161UKhIwchRSLpdLp9P//u//7sP7abMHH3zwueeem5qaam3vLL04nnvuOTnfQlfD+sTGRqNhmqYM+y+5Vst13RdffLH9bwJ9jTlgICgkO2UmMhQKyfYYOSYvFosNDw9v2rQpnU43pa9azBullOzAkbBJJBKmaQ4ODvZkGbdly5ZnnnmmXq/n8/nWGV9pRfLoo48ODAyMjY2tW7dOfpny79DQ0ODgYLFYlE5Yvlw/oAhgIDjm5uYkOZRS1WpVMliqNIlYfQRhk1AopBtpyaC03IjH46ZpDgwMfOELX+jUm+iELVu2HDlyZNOmTdPT02qp9cxNZFP14OBgKpWKx+OWZc3Pz9u2rTcKt75CT35qQdAQwEBQyPpnCWBZDi33VyoViV5pM7nkc2URr9yWUwvV4gmGEjm9lMG333772NjY22+/rQefWxNU1qw1Gg3btm3bLpfL1WpV5n3lrEbdJEtXxt6mlZyDhA5gFTQQFPPz81u2bJEZSt1pUvpCVCoV2aUqAazHnL0ikYjsopGCWBYl6XP6Dh8+3BurscbGxizLOn/+/Pz8/ObNm9PptFoM4GKxKP04p6amMpmMrBhXnr2/9Xq9UqlI1zAvvTNYRu/n5+ePHz/e2beFfsQiLCAQ7rrrLqXU2NjY/Py8rMOSXUYythwKheRsH1mQJSufW1/EdV2plV3X1QuDHccpFouWZX3iE5949tlnO/u21t5tt922YcOGW265Zdu2bdu2bUskEul0Op1OT01NTU9PS+7KuL1SSk4hXDl9m7iu+8YbbzAEjQ5gCBrw2R/90R/NzMz8y7/8y4svvnj//ffbti29oOW7MhAtI9ISKmrFyWAJZimCZUGWpHg8Ht+3b18PDETrc5FljXepVMrn8ydPnnzzzTc/+uijubk52aYlZ0xdtfZt4rruiRMnSF90BgEM+OnrX//6kSNHhoaGhoeHR0dHv/nNb0q46n5YMhytFotaaf6sruwa4e04EYlEvBkskZxIJGKx2AsvvHD48OFub4+1bt06tXhmUalUymazpVJpZmZGQlfXvvV6XX9Mkdsrp6/rusePH3/jjTc4AxgdQwADvnnooYf+9E//VBo7S3AahvHbv/3buj+izmB5vBTBkit6vbTyTF6qxcFq74IsuScWi5mm+c///M9f+9rXOvw219DQ0JBqmQLPZrO6l6fc423nKenbuldYkxVYJ06cOHnyJLUvOokABvyxZ8+eJ554Ynh4WE4xkvVTrut+/etflw7P3pW9ugjWk7vqahmsWgai4/F4PB5PJpPdOxAtZ0ZFo1FZ26zHA/SiZYlbnb5yRkWxWFxu9bjrutFo9OWXX6bwRecRwIA/vv3tb2/ZssXbB1Evfn7ssccajYbjODpI9Pk8Uhx7M7j1leWwQm8RLE21dB38K7/yK4cOHerQ+1xTQ0ND0tbKu0dLVlqpKwtfpVStVqtWq6VSacnfkkTv0NDQVSeGgTYhgAEffOELX7jxxhtlSFkONapWq7p0+8Y3vlEqlbyj0OrKItgbz3qmc8mBaLnHNE3pihyLxV566aVwONylRbBhGPJhQk/xyqbepsJXLda+S6av67rSWSyRSLiuOzEx0dH3ACwigAEf3HHHHel0ulAoSIMIy7Ly+Xy5XLZtW7Jk69at+nxfoVtz6GpYquem7hxNGayrYSkcpU+WJHE3ZrCswFJKNZ0b6I1epVS1WpUB6qb0lap3eHhYjo1Snvl1oPMIYKDTbrzxxqGhoYGBAal9ZeRZSmE5G+BP/uRPbrnlFsuyJGL1E3W3JrWYHLLsSE8Gy7ckgyV69XolmTqVgegf/vCHpml+8Ytf7K4MHhoa0hujJYB1gzDvw6TjlT4jWbt48aI01tb3uK47Ozs7OzvbkcsHmtEJC+i0Wq0WDoczmUwymbQsS2IyHo9HIpFSqVQul2X6dtu2bZlMJh6PNxoNPaFbr9flnGDDMCR4KpVKPB6XUxwMw5CBaOkjLf/KI13XNU1THzMsP/Tw4cMfffTRmTNnfPxtXBN9QlQoFHIcx7btSCTi3RUtu6ib0td13dCJE8mTJ92pqbJSifvvN01TekG/9957PrwNQClFBQx03ujoaCQSKRaLMzMz+Xy+UqkUi8VMJpPNZh3H+du//Vt52K233ipFsHc5tAxE697FyrPhdcnuHE27kvRmJwnpcDh8+PDhtr/hNSLlu/5SbzrSWtPXdV11/Hj4X//VOHlyVKn6zEx9ZqY6MaEPD6b8hY8IYKDTIpFIoVCYm5srFosLCwvz8/OlUklWDM3MzHgfuW3bNuVZhyV09CrPQLR3UXTTQLRSSmewrIiWUVyZGP7EJz7RLQPR69at04c+iXq9blmW3G5KX6l6JXqbXqc6MSHLr5p+20CHEcBAp2Wz2YWFhZmZmfPnz1++fLlQKGQymVwuJycHeN16663ZbFa1THN6D/DxZvByk8FKKVmQpRZbcxw7dkwtZnC3bEnSH0TkjehDolRL+kr0hk6cWO6l8qdPu67L+DP8xRww4IOFhQWZ963X64VCIRKJJBKJgYGBYrEogSpDxEqpnTt3zs/Pp1Ip79P1QUlqcWOSzInqB+i1V94ulYZhSIbJuUn6pyQSiV/+5V8+evRom9/0x3X69Ol6vX7rrbfKCUhKKZkvl6Vqkr6xWCyTyYzkcisvbq5dvnz88mXGn+EvAhjotPn5+UwmI1k4OjoajUZjsVixWMzn86Ojo/V6XaemYRg7d+6cnJxMJBLe6U+1eCaBrMbSO4Adx5GHRSKRpm3BruvKt+r1uncgV4amdS+LgDt37tzs7OyOHTtuvvnmZDJZr9ez2awcojw9Pb1x48ZoNDo2Nma/+urKr+NQ/CIACGCg0yzLWlhYkKJ2enraMIxYLCZdjnO5nASwkJDes2fP7Oxs0/SnUqper+siWK+UrlQqqVSqWq1Go9HWFdHSwkIpZZqmfkq1Wr3tttvefPPNzv4arlO5XP7ggw/Onj17ww03bNu2bXR0NBQKlcvlrVu3GoaxXMvJVqNKzbX1QoGrIYABHxw/fnxsbEzqVNd1bduWBUHr1q3TVaxeq7xly5azZ8+mUqnWIlgtHkGoB6KVZ2NS60C0bEbS5wXp1dGJRKJD73yNWJY1OTk5NTV13333yUcK+RyjlIrPzm5YxSvsUer1Nl8ksDICGPDBhQsXcrnc+vXr1ZUtJEulUjgc1mWc3B+JRLZs2VIul5sCWF25Ilq/jvckPmmApV9KHiN1sOxoCofDs7OzU1NT7X7L7WBZ1tTU1NjYWNP9yVU893w7Lgi4FqyCBvxx7tw53d5Z39m02lkffzQ2NjY3t/SIqXSjVIsD0XKnXhTtfUG9sEtvqK3X63KCvT5WqOsUCgXvl95FZ0DAEcCAP+bn53Wl6w3O5R4vhze03u/tBa0bVarFDNYdJ4TOJwlg27ZnZ2ez2Wz3noOr927pX0J88WhCIOAIYMAf09PTracIrGDTpk1NB9Frckahvq3v13WwzmBdBCulbNu+ePGi9KBerrwOvkuXLjUtvIqvbnPRhfZcD7B6BDDgm+PHj3v7ZogViuAbbrjBe5aAlzdlmzJYmlToe2RtV6PRmJyczOVyFy9eLJVKly5d+pjvxUdnz57Vt9PvvRdjdy+6BIuwAN9cuHBBunDoHb1XfcqNN96Yy+VaR4zlSCUpkb27kpRSlUpFBpz1RiYZtZYWFtVqVZpRr+Ub66zJyUlrcjI1MnJ3Nju0uqewAgtBwIIFwE87d+686667JCD1Imd9Wm2rWCwWiUQuXLjQ2rdSKRWNRnXuepdMh8PheDwej8dDoZC0q5QTcy3LKpVKt99+uz5nt0t994knlFLjq3788P794fHVP7y9JiYmnn/+eb+vAj6gAgb8VCqVLMtKJpPeIthxnNa2G0KGlzdv3nzmzBnLsuR0I/1d79bepkMMq9WqHnyW43IdxymXyxs3brzvvvva+ybb71fHx1+4xgw7cOBAmy7mWk1MTPh9CfAHAQz4aXp6ulAorFDyLmfr1q3ZbFZmcAcGBpRS0WhUtgVHo1HVMhCtp5YdxwmFQrZt27ady+W+9KUvrd276RrDgUlfpdT4+LhSiiK4DxHAgM8+/PDD0dHRcDjs3UG0XAWsFptphEKhwcHBXbt25XK5S5cu5XK5VCplGEY8Ho/FYvr8QcMw9Fi09KfUg8/FYvHTn/70TTfd1IH32G6/+tBDb1xLgA3v39++iwFWiQAGfHbp0qWFhQXJ4NUsxZJjGCRZ6/X68PCwnG47PT1tmubly5ez2aw0mtZHEMrj5cWj0aht25lM5qtf/erNN9/ciXfYEXsPHFDvvuv3VVyn8fFxKuA+RAAD/nv//fc//elPr6YIbuqqIX0r5d9169bVarWtW7cWCoWFhYVPfepT8jC9wqvRaMgccKPR+N3f/d32v62O2rN/v7XqAA5gwywyuA8F7n+FQB/atGnT7bffPjIyIjWrYRimaS4ZwLJnSbYbSRNKOYLetu1Go1Eul+Vk3FKp9MlPfvLQoUOdfifdxvuBxncPPPCA35eAjqIRB+C/6enparXa1EBjuQfrzJDBagljSe5IJKK7ZS3XNgtegSqFxwOzMwqdQQADgfD+++9LMw3vKPTKT5GlWE1HJMkq6Gg0+sorr7TrWnuLtz2nvwjgfkMAA4GQy+Wy2awUwU1nIrXSHaR1ESxk1FruXGEdNVoFJIbJ4L5CAAOBsHv37nQ6rZTSRfCSFXDTnGVTZsgodDgcNk0zkUgcO3asnZfcg3zPYAK4rxDAQFDs2LFjYWHBWwRf9awk7yi0TPpK4Su3rzqIjVa+l8JkcP8ggIFA2L9//8GDB6vVqvLk7nJj0d462LsUS/8biUSi0ejFixfbfdm9yscM3k+TkL5BAAMBcvvtt8s+XYnY5Srg1gDWRbDuvBEOh0+fPt2Ji+5RfmXwgQMHKIL7BAEMBIh0eFaLe3xbK2AdvctlsEwAK6VM04zFYp257F7l+5QwehsBDATIrl279MEMrUuxvHngzWa537v4WcaiZUAbH4cvU8Lj4+MMRPcDAhgIBH063q5du+bm5mRP8FX3I4mmcxdkIXS9Xr/qGi6sUuczODinJaJ9CGAgWA4ePFipVPSXy61kbtqP5D3CwXVdx3Fs2w5Un8Vu1+EMZhq4HxDAQODcddddlUpFzwEvV8jKWi2hFgelHcdxHIfB53bo8HA0GdzzCGAgcLZu3VoqlZRSjUXe73rrWtd16/V6rVar1+uO48hteSILiNqkY79YArjnEcBA4OilWKtsx6G5rkvudgAZjDVBAAOB0LToRpZiKaWkur2ml9IV8+7du9fq8tCkM8PRBHBvI4CBIDp48KBsCJaJ3qs2lZTat6kCZhFWu5HB+DgIYCCg7rvvPslgmdbVrhqrDER3Urt/1QRwDyOAgSA6ceLESy+9pA9msG17uUeuUPKuchsxAo4M7lUEMBA4J06ceO6550ZGRnK5nNyzclcNyd2mPlmhUOjEiRNtvlIoRcdKXK+I3xcA4IoVWC+//PKxY8fS6XQqlarVanNzc6Ojo01dsZb7i++6ru6K5bpuIpFo95VDyAR8m15cKuDnn3++Ta8Pv1ABAwHyb//2b6+++mo6nU4kEolEYmxsTP9ZX2EUesmR52g0Gg6Hz5w5087rBXD9CGAgKH70ox+99tprAwMD8Xg8mUxK/bp582bTNOv1um5utVyl5b1fH8/AQuiOaetANNPAPYkABgLhRz/60U9+8pN4PB6Px6X8VUrJl8lkcmRkJJlMXjVNi8WiYRiDg4OGYYRCoXA4PDk52ZHLh1JkMK4RAQz4b2ZmRqdvNBqNx+OhUEi+VErFYrFUKjUyMjI0NGQYRjqdDoVC0nXScZxkMhmPx2u12uDg4Pr16w3DkOVa4XA4FAp5D2lAVyOAew//5wR8tnHjxs2bN8fj8VgsZppmMpkMh8Pe9JUolSN+h4eHE4nE+vXrb7zxxk2bNm3cuDEej6dSqcHBQbW4Y7jRaEgFHIlEWAjdYRTBWD0CGPDT9u3bdfo+8cQTTz75ZCQSaUpfwyMajUpd6z0HSehl0nJDzgaORqN+vK2+1r4MJoB7DAEM+GbHjh2jo6My7Pztb387Ho+bpmmapk7fSCQiY8jeNNXpqxb/1uszG1zX9aZvKBQ6d+6cb2+vj5HBWA32AQP+kPTdtWvXV77yFQld0zT/5m/+JpVKqcX0lb/jUvKapinVsGpZCC2Tvq2dOvTj0TPGx8fZENwz+D8n4IN9+/atX79ep280GpVtu63pqxZz1DRNPfi85GtKADcd22CaJguhfUERjKuiAgY6bfv27X/wB38wNDQkq65k2bPM76qW9NXlr9xYsr1zo9GQQ5P0PVL4yrqtycnJnTt3duKN4Uptao+1f//+NX9N+IIKGOi0z372s1LyRiIRSd9wOGyapmpJX7VY/sq/y/01bzQajuM0Fsmd3uHr9r8ndM6BAwcognsDFTDQUQcPHty7d6+kryy5kvQNhULPPfecxLAm8Sn1sff+1sXPTZWxLMJSSullXPBFW3tEo9vx/0ygc7Zv337o0KFoNFqr1aLRaCwWi0ajkr5///d/LyPGXuFwOBaLhUKhlf+Oy+yv67pNE8DygqdPn27DW8FqtWMyeHx8nIHoHkAAAx2ydevWxx9/XOZ9NRlwrtfrrX+mpZOGdOGQ9G3d+yuWPKlQTwNzWF5P8p6ghS5FAAMd8tnPflbSNxKJWJYlta90jlxyaZUMTV91AFn2/q4wEE0F7Ls2FcFr/proMAIY6ITt27fv3btX0ldGnqvVqmEYtVptyfQNhUIyT3zVV9avsNw0cCwWW4t3gI+FDEYrAhjohM9//vOy6kovv3Icx7bt5WZ29dzwci8oVW+9XtcTwEsORMsQNFuBg2DNM5gA7nYEMNB2N910065duyR6hTR5ltRs2sKrFsvfJQefZcBZuk42rYVespJWSkUike9///tr+44QEGRwVyOAgbYLhUJ6u5Hs/ZXJYPmubuCsyc5gKZj0FK+cPyjR632w/rLpRbxNpCORyJEjR44cOdK2t4hVoQiGF/uAgbbbtWuX3vUrnTckj5d8sL6/NWuXtEIjaLnh7cWhM/jJJ5+89veBNbDmO4PpDt29qICBtjMMwzv4LDG85CPlr7Nt25ZlyeG+rbx/vuX2coPPIhwOtz6AarhnUAR3LwIYaDsZgpbxZxmIbi1/pU7VQ5S1Wq1SqTQ11ljSkmcw6NdcYR8wg9J+YSAaggAG2k7nrrR6bip/Hcc5efJk6x9l13Wr1Wq1Wm1tvrFcR44muhfHCtuZyGDALwQw0HbvvvuujDyHF+lvnT59+sc//vFyvTIkg23bVp7QbR2Cbl3GJeRnLTeUjZ4xPj5OEdyNCGCg7bLZ7PHjx6USjcfjcqfjOMePHz916tTKM7hKqVqtZlmW92E6g+XGChFr23apVFr59RmLBnxBk1igE+69997HHntsy5Yt6XTacZzTp09fuHDBuwN4YWFh5VfQE8n6S6VUo9HI5XLFYnHJDL58+XI2m73qtbEiuvPacUTSAw88sOavibaiAgY64d13333llVfm5+crlcrp06fPnz/v3WV01fRVi4cdLbnYaskaOpPJrCZ90TMYhe46VMBAh4yOjj7yyCPr169XLZG5mgAWoVBIH9Igxyjlcrmmp2cymUwms8oXpPz1C0UwaMQBdMjc3Nxf/dVf3XTTTTt27FBK3XTTTfrf1dPdK6WZZdNJStcUveg9NOXoLlTAgM+eeuqpV155RW4PDw8PDQ3p28s9JRQKyR5f13Xn5uYqlYplWZZlXWv6Uv76qB0VsKII7ipUwID/9Bhy61i0N4+9t13XlYMIXdel8IVGEdxFCGAg0FbIZimRc7lcZ68IgUYAdxFWQQP+u76h4Fwud93p++STTzL+3KtYDt0tCGAA8MGad4TWCOBuwSIswGcvvPCCvt2ZjlTUvgHRpnVYSqnnn3+egejgowIGAoRoBPoHi7CAYNEZTH9mXLfx8fF33313YmLC7wvBSghgIKDakcRU2P3jwIEDBHDAMQQN+OnAgQOd/HEcfBQo7VuHpViK1Q2ogIHgalNYystSDfc89gQHHAEM9Cmd7iRxryKAA44ABgKqY2PFJHEPI4ODjAAG8FPXGvkEdvARwEFGAAO4Tk2BTR5fh1Ao1L52HIIMDiwCGPDT/v37/b6ENdNaQBPJQUAABxYBDKBdKJEDggwOJgIYQIeQx4AXhzEAfhofH3/ooYeW+25fNc3o2zxu9xyw4HiGAKICBvy0ciesvuoLfdX32KsJ3YF1WAgmKmDAT0899dQ1daPshyS+qt5L4s4E8AMPPNCBn4LVI4ABP11rADfp8zzumSRmFLo/EcCAnz5mADfpzzzu9hju5PgzRXCgEMCAn9Y2gL36LYy7N4Y7GcAUwYFCAAN+euGFFzrzg3o+jwngVaIIDg5WQQN9oa8WVGMFNOUIDipgwE8dq4Bb9VgSd2kF7MsGJIrggCCAAT/5GMBevRHG3ZjBvgQwM8EBQQADfgpIALfqxkgmgFePIjgICGDANwcOHHjqqaf8vorVCnIkd2P0Cr8CmCI4CFiEBWBVmkIuUHksF7NcDK/8XR/RgbLPUQEDvumuCng1gpDKErRLXknQMtjfAH7iiScmJiZ8vAAQwIBvei+AWwUhkpsEJ4b9DWBGoX1HAAO+6YcAbhKcPA5CDPs+BM1SLH8Zfl8A0L/279/v9yV02pNPPhmE5IMYHx/3+xL6GgEMoB/5Xov7Xv4qAthvBDAA9C8y2EcEMIB+xEi4IIB9RAADQF8jg/3CKmjAN+07DLgr+DULG5DaNwhzwBrLoX1BBQzAH76siA5I+gYNRbAvCGAAfurPjUmBKn/hF3pBA/BfZxpN92HSr5JUwDTG6jACGEDgtCOPSV8EDQEM+KafV2B1EtG7GuPj41TAHUYAAwgu3/tV9RUyuMNYhAUguD5+8RrA8jewK7BYC91hVMAAAupjlr8BjN7gowjuJCpgAEH08QefGb6+DhTBnUQAA/5gBRaCiQzuGIagAXSrFXYrMf583RiF7hgCGED3WTJf9Z1Hjhw5cuRIMDM4sCuwvMjgzuAwBsAfBw4ceOqpp/y+iqBbch43mMm6Sl0RwIrjGTqCChhAcEnWBrac7WEUwR3AIizAH/v37/f7EroG6YueRAUM+OPtt98ul8t+XwWwtEwm4/cl9D4qYAAAfEAAAwCaffjhh35fQu8jgAF/MMQH9DkCGADQjA+IHUAAAwCuQPp2BgEMALgCAdwZBDAA4AoEcGcQwACAKxDAnUEAAwB+hvTtGAIYAAAfEMAAgJ+hBUfHEMCAPxjoA/ocAQwA+Bk+GnYMAQwA+CnSt5MIYADATxHAnUQAAwB+igDuJAIYAPBTBHAnEcAAAKVI344jgAEA8AEBDABQihYcHUcAAwDgAwIYAKAymQxzwB1GAAO+4e8d0M8IYAAAE8A+IIABAPABAQwAYELEBwQwAPQ70tcXBDAA9DsC2BcEMAD0OwLYFwQwAPQ7AtgXBDAA9DXS1y8EMOAb/vAB/YwABoC+RgsOvxDAAAD4gAAGgL7GVIhfCGAA6F+kr48IYADoXwSwjwhgAOhfBLCPCGAA6F8EsI8IYADoU6SvvwhgAAB8QAADQJ+iBYe/CGDANwwAAv2MAAaAPsVHQH8RwADQj0hf3xHAANCPCGDfEcAA0I8IYN8RwADQjwhg3xHAANB3SN8gIIABAPABAQwAfYcWHEFAAAO+YRgQ6GcEMAD0HT78BQEBDAD9hfQNCAIYAPoLARwQBDAA9BcCOCAIYADoLwRwQBDAANBHSN/gIIABAPABAQwAfYQWHMFBAAMA4AMCGAD6RSaTYQ44OAhgwE/8NQT6FgEMAP2CCeBAIYABAPABAQwA/YIpj0AhgAGgL5C+QUMAAwDgAwIYAPoCK7CChgAGgL7AEHTQEMAA0PtI3wAigAE/8WcR6FsEMAD0PiaAA4gABgDABwQwAPQ+JjsCiAAGgB5H+gYTAQwAPY4ADiYCGAB6HAEcTAQwAPQ4AjiYCGAA6GWkb2ARwAAA+IAABoBeRguOwCKAAT8xPAj0LQIYAHoZH/ICiwAGgJ5F+gYZAQwAPYsADjICGAB6FgEcZAQwAPQsAjjICGAA6E2kb8ARwAAA+IAABoDeRAuOgCOAAT8xSAj0LQIYAHoTH+8CjgAGgB5E+gYfAQwAPYgADj4CGAB6EAEcfAQwAPQgAjj4CGAA6DWkb1cggAEA8AEBDAC9hhYcXYEABgDABwQwAPSUTCbDHHBXIIABn/G3EuhPBDAA9BQmgLsFAQwAgA8IYADoKUxqdAsCGAB6B+nbRQhgAOgdBHAXIYABoHcQwF2EAAaA3kEAdxECGAB6BOnbXQhgwGf80QT6EwEMAD2CFhzdhQAGAMAHBDAA9AimM7oLAQwAvYD07ToEMAD0AgK46xDAANALCOCuQwADQC8ggLsOAQwAXY/07UYEMAAAPiCAAaDr0YKjGxHAgM8YPAT6EwEMAF2Pj3HdiAAGgO5G+nYpAhgAuhsB3KUIYADobgRwlyKAAaC7EcBdigAGgC5G+nYvAhgAAB8QwADQxWjB0b0IYMBnDCEC/YkABoAuxge47vX//ZCvvL+QEH4AAAAASUVORK5CYII=\"/></td></tr></table>"
      ],
      "text/plain": [
       "<IPython.core.display.HTML object>"
      ]
     },
     "metadata": {},
     "output_type": "display_data"
    }
   ],
   "source": [
    "p_Bhover_35 = np.array([0.4, -0.4, 0.53]) \n",
    "quat_Bhover_35 = np.array([1., 0., 0., 0.])\n",
    "p_Ghover_35 = np.empty(3)\n",
    "quat_Ghover_35 = np.empty(4)\n",
    "mujoco.mju_mulPose(p_Ghover_35, quat_Ghover_35, p_Bhover_35, quat_Bhover_35, p_BGpick_34, quat_BGpick_34) \n",
    "\n",
    "Rmat_Ghover35 = np.array([[0, 1, 0], \n",
    "                          [1, 0, 0], \n",
    "                          [0, 0,-1]]) \n",
    "joints_35 = panda_ik_31(Rmat_Ghover35.tolist(), p_Ghover_35.tolist(), model, max_iters=100)\n",
    "\n",
    "\n",
    "# The next few lines \"attach\" the block to the gripper.\n",
    "# This is not required for obtaining points in the \n",
    "# assignment, but is included for visualization purposes.\n",
    "# This will only \"look right\" if your answers up to this\n",
    "# point are correct.\n",
    "p_Bhover = np.empty(3)\n",
    "quat_Bhover = np.empty(4)\n",
    "# Compute the pose of the block int he world frame by \n",
    "# composing the pose of the gripper in the world frame\n",
    "# and the relative pose of the gripper w.r.t. the \n",
    "# block \n",
    "mujoco.mju_mulPose(p_Bhover, quat_Bhover, p_Ghover_35, quat_Ghover_35, p_GpickB_34, quat_GpickB_34)\n",
    "model.body(\"block\").pos = p_Bhover\n",
    "model.body(\"block\").quat = quat_Bhover\n",
    "\n",
    "## Do *not* modify the code below\n",
    "set_joint_positions(model, data, joints_35)\n",
    "render_state(model, data)\n",
    "ans_35 = data.qpos[7:14].tolist()\n"
   ]
  },
  {
   "cell_type": "markdown",
   "id": "0fbd1720",
   "metadata": {
    "deletable": false,
    "editable": false
   },
   "source": [
    "#### 3.6)\n",
    "\n",
    "Finally, we lower the gripper so that the block is at the target position\n",
    "\n",
    "_Points:_ 7"
   ]
  },
  {
   "cell_type": "code",
   "execution_count": 20,
   "id": "4a0396b0",
   "metadata": {
    "otter": {
     "tests": [
      "q3.6"
     ]
    },
    "tags": [
     "otter_answer_cell"
    ]
   },
   "outputs": [
    {
     "data": {
      "text/html": [
       "<table class=\"show_images\" style=\"border-spacing:0px;\"><tr><td style=\"padding:1px;\"><img width=\"640\" height=\"480\" style=\"image-rendering:auto; object-fit:cover;\" src=\"data:image/png;base64,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\"/></td></tr></table>"
      ],
      "text/plain": [
       "<IPython.core.display.HTML object>"
      ]
     },
     "metadata": {},
     "output_type": "display_data"
    }
   ],
   "source": [
    "p_GhoverGplace_36 = np.array([0, 0, 0.5])\n",
    "quat_GhoverGplace_36 = np.array([1., 0., 0., 0.])\n",
    "p_Gplace_36 = np.empty(3)\n",
    "quat_Gplace_36 = np.empty(4)\n",
    "mujoco.mju_mulPose(p_Gplace_36, quat_Gplace_36, p_Ghover_35, quat_Ghover_35, p_GhoverGplace_36, quat_GhoverGplace_36) \n",
    "\n",
    "Rmat_Gplace_36 = np.array([[0, 1, 0], \n",
    "                           [1, 0, 0], \n",
    "                           [0, 0,-1]]) \n",
    "joints_36 = panda_ik_31(Rmat_Gplace_36.tolist(), p_Gplace_36.tolist(), model, max_iters=100)\n",
    "\n",
    "# The next few lines \"attach\" the block to the gripper.\n",
    "# This is not required for obtaining points in the \n",
    "# assignment, but is included for visualization purposes.\n",
    "# This will only \"look right\" if your answers up to this\n",
    "# point are correct.\n",
    "p_Bplace = np.empty(3)\n",
    "quat_Bplace = np.empty(4)\n",
    "# Compute the pose of the block int he world frame by \n",
    "# composing the pose of the gripper in the world frame\n",
    "# and the relative pose of the gripper w.r.t. the \n",
    "# block \n",
    "mujoco.mju_mulPose(p_Bplace, quat_Bplace, p_Gplace_36, quat_Gplace_36, p_GpickB_34, quat_GpickB_34)\n",
    "model.body(\"block\").pos = p_Bplace\n",
    "model.body(\"block\").quat = quat_Bplace\n",
    "\n",
    "## Do *not* modify the code below\n",
    "set_joint_positions(model, data, joints_36)\n",
    "render_state(model, data)\n",
    "ans_36 = data.qpos[7:14].tolist()\n"
   ]
  },
  {
   "cell_type": "markdown",
   "id": "e916bdb8",
   "metadata": {
    "deletable": false,
    "editable": false
   },
   "source": [
    "## Submission\n",
    "\n",
    "Make sure you have run all cells in your notebook in order before running the cell below, so that all images/graphs appear in the output. The cell below will generate a zip file for you to submit. **Please save before exporting!**\n",
    "\n",
    "Fill out the answers to all questions and submit your file hw4.ipynb to the HW4 assignment on Gradescope. You are free to resubmit as many times as you wish."
   ]
  },
  {
   "cell_type": "code",
   "execution_count": 21,
   "id": "fd9c57d8",
   "metadata": {
    "deletable": false,
    "editable": false
   },
   "outputs": [
    {
     "name": "stdout",
     "output_type": "stream",
     "text": [
      "Running your submission against local test cases...\n",
      "\n",
      "\n",
      "Your submission received the following results when run against available test cases:\n",
      "\n",
      "\n"
     ]
    },
    {
     "data": {
      "text/html": [
       "\n",
       "                    <p>\n",
       "                        Your submission has been exported. Click\n",
       "                        <a href=\"hw4_2025_02_25T21_09_32_393121.zip\" download=\"hw4_2025_02_25T21_09_32_393121.zip\" target=\"_blank\">here</a> to download\n",
       "                        the zip file.\n",
       "                    </p>\n",
       "                "
      ],
      "text/plain": [
       "<IPython.core.display.HTML object>"
      ]
     },
     "metadata": {},
     "output_type": "display_data"
    }
   ],
   "source": [
    "# Save your notebook first, then run this cell to export your submission.\n",
    "grader.export(pdf=False, run_tests=True)\n",
    "\n"
   ]
  },
  {
   "cell_type": "markdown",
   "id": "e03fe78c",
   "metadata": {},
   "source": [
    " "
   ]
  }
 ],
 "metadata": {
  "kernelspec": {
   "display_name": "ai4robotic",
   "language": "python",
   "name": "python3"
  },
  "language_info": {
   "codemirror_mode": {
    "name": "ipython",
    "version": 3
   },
   "file_extension": ".py",
   "mimetype": "text/x-python",
   "name": "python",
   "nbconvert_exporter": "python",
   "pygments_lexer": "ipython3",
   "version": "3.10.16"
  },
  "otter": {
   "OK_FORMAT": true,
   "assignment_name": "hw4",
   "tests": {
    "q1.1": {
     "name": "q1.1",
     "points": 5,
     "suites": [
      {
       "cases": [],
       "scored": true,
       "setup": "",
       "teardown": "",
       "type": "doctest"
      }
     ]
    },
    "q1.2": {
     "name": "q1.2",
     "points": 5,
     "suites": [
      {
       "cases": [],
       "scored": true,
       "setup": "",
       "teardown": "",
       "type": "doctest"
      }
     ]
    },
    "q1.3": {
     "name": "q1.3",
     "points": 5,
     "suites": [
      {
       "cases": [],
       "scored": true,
       "setup": "",
       "teardown": "",
       "type": "doctest"
      }
     ]
    },
    "q1.4": {
     "name": "q1.4",
     "points": 5,
     "suites": [
      {
       "cases": [],
       "scored": true,
       "setup": "",
       "teardown": "",
       "type": "doctest"
      }
     ]
    },
    "q2.1": {
     "name": "q2.1",
     "points": 5,
     "suites": [
      {
       "cases": [],
       "scored": true,
       "setup": "",
       "teardown": "",
       "type": "doctest"
      }
     ]
    },
    "q2.1.1": {
     "name": "q2.1.1",
     "points": 2,
     "suites": [
      {
       "cases": [],
       "scored": true,
       "setup": "",
       "teardown": "",
       "type": "doctest"
      }
     ]
    },
    "q2.2.1": {
     "name": "q2.2.1",
     "points": 5,
     "suites": [
      {
       "cases": [],
       "scored": true,
       "setup": "",
       "teardown": "",
       "type": "doctest"
      }
     ]
    },
    "q2.2.2": {
     "name": "q2.2.2",
     "points": 3,
     "suites": [
      {
       "cases": [],
       "scored": true,
       "setup": "",
       "teardown": "",
       "type": "doctest"
      }
     ]
    },
    "q2.2.3": {
     "name": "q2.2.3",
     "points": 3,
     "suites": [
      {
       "cases": [],
       "scored": true,
       "setup": "",
       "teardown": "",
       "type": "doctest"
      }
     ]
    },
    "q2.2.4": {
     "name": "q2.2.4",
     "points": 10,
     "suites": [
      {
       "cases": [],
       "scored": true,
       "setup": "",
       "teardown": "",
       "type": "doctest"
      }
     ]
    },
    "q2.2.5": {
     "name": "q2.2.5",
     "points": 2,
     "suites": [
      {
       "cases": [],
       "scored": true,
       "setup": "",
       "teardown": "",
       "type": "doctest"
      }
     ]
    },
    "q3.1": {
     "name": "q3.1",
     "points": 15,
     "suites": [
      {
       "cases": [],
       "scored": true,
       "setup": "",
       "teardown": "",
       "type": "doctest"
      }
     ]
    },
    "q3.2": {
     "name": "q3.2",
     "points": 7,
     "suites": [
      {
       "cases": [],
       "scored": true,
       "setup": "",
       "teardown": "",
       "type": "doctest"
      }
     ]
    },
    "q3.3": {
     "name": "q3.3",
     "points": 7,
     "suites": [
      {
       "cases": [],
       "scored": true,
       "setup": "",
       "teardown": "",
       "type": "doctest"
      }
     ]
    },
    "q3.4": {
     "name": "q3.4",
     "points": 7,
     "suites": [
      {
       "cases": [],
       "scored": true,
       "setup": "",
       "teardown": "",
       "type": "doctest"
      }
     ]
    },
    "q3.5": {
     "name": "q3.5",
     "points": 7,
     "suites": [
      {
       "cases": [],
       "scored": true,
       "setup": "",
       "teardown": "",
       "type": "doctest"
      }
     ]
    },
    "q3.6": {
     "name": "q3.6",
     "points": 7,
     "suites": [
      {
       "cases": [],
       "scored": true,
       "setup": "",
       "teardown": "",
       "type": "doctest"
      }
     ]
    }
   }
  }
 },
 "nbformat": 4,
 "nbformat_minor": 5
}
